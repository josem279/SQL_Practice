{
 "metadata": {
  "language_info": {
   "codemirror_mode": {
    "name": "ipython",
    "version": 3
   },
   "file_extension": ".py",
   "mimetype": "text/x-python",
   "name": "python",
   "nbconvert_exporter": "python",
   "pygments_lexer": "ipython3",
   "version": "3.9.1-final"
  },
  "orig_nbformat": 2,
  "kernelspec": {
   "name": "python3",
   "display_name": "Python 3.9.1 64-bit",
   "metadata": {
    "interpreter": {
     "hash": "b5843a13e7131a14c3c0e364f0390d6592a995e3082c3f83420ac4385eeb2370"
    }
   }
  }
 },
 "nbformat": 4,
 "nbformat_minor": 2,
 "cells": [
  {
   "source": [
    "# Practical SQL"
   ],
   "cell_type": "markdown",
   "metadata": {}
  },
  {
   "cell_type": "code",
   "execution_count": 1,
   "metadata": {},
   "outputs": [],
   "source": [
    "import psycopg2\n",
    "import pandas as pd\n",
    "from sql_data import db, usr, pwd"
   ]
  },
  {
   "cell_type": "code",
   "execution_count": 2,
   "metadata": {},
   "outputs": [],
   "source": [
    "# Connecting to postgreSQL database\n",
    "conn = psycopg2.connect(\n",
    "    host = \"localhost\",\n",
    "    database = db,\n",
    "    user = usr,\n",
    "    password = pwd,\n",
    "    port = 5432\n",
    ")\n",
    "\n",
    "# Activating  the connection cursor\n",
    "cur = conn.cursor()"
   ]
  },
  {
   "source": [
    "## Chapter 2:"
   ],
   "cell_type": "markdown",
   "metadata": {}
  },
  {
   "source": [
    "** Challenge Queries **\n",
    "\n",
    "** Write a query that lists the schools in alphabetical order along with teachers ordered by last name A-Z **\n",
    "\n",
    "SELECT school, first_name, last_name\n",
    "FROM teachers\n",
    "ORDER BY school, last_name;\n",
    "\n",
    "** Write a query that finds the one teacher whose first name starts with the letter S and who earns more that $40k **\n",
    "\n",
    "SELECT *\n",
    "FROM teachers\n",
    "WHERE salary > 40000 AND\n",
    "\tfirst_name ILIKE 's%';\n",
    "\t\n",
    "** Rank teachers hired since Jan 1, 2010, ordered by highest paid to lowest **\n",
    "SELECT *\n",
    "FROM teachers\n",
    "WHERE hire_date >= '2010-01-01'\n",
    "ORDER BY salary DESC;"
   ],
   "cell_type": "markdown",
   "metadata": {}
  },
  {
   "source": [
    "# Write a query that lists the schools in alphabetical order along with teachers ordered by last name A-Z\n",
    "ch2_q1 = \"\"\"\n",
    "SELECT school, first_name, last_name\n",
    "FROM teachers\n",
    "ORDER BY school, last_name;\n",
    "\"\"\"\n",
    "\n",
    "cur.execute(ch2_q1)\n",
    "results1 = cur.fetchall()\n",
    "df1= pd.DataFrame(results1)\n",
    "df1.head()\n"
   ],
   "cell_type": "code",
   "metadata": {},
   "execution_count": 3,
   "outputs": [
    {
     "output_type": "execute_result",
     "data": {
      "text/plain": [
       "                     0         1         2\n",
       "0    F.D. Rossevelt HS       Lee  Reynolds\n",
       "1    F.D. Rossevelt HS  Kathleen     Roush\n",
       "2    F.D. Rossevelt HS     Janet     Smith\n",
       "3  Myers Middle School  Samantha      Bush\n",
       "4  Myers Middle School    Samuel      Cole"
      ],
      "text/html": "<div>\n<style scoped>\n    .dataframe tbody tr th:only-of-type {\n        vertical-align: middle;\n    }\n\n    .dataframe tbody tr th {\n        vertical-align: top;\n    }\n\n    .dataframe thead th {\n        text-align: right;\n    }\n</style>\n<table border=\"1\" class=\"dataframe\">\n  <thead>\n    <tr style=\"text-align: right;\">\n      <th></th>\n      <th>0</th>\n      <th>1</th>\n      <th>2</th>\n    </tr>\n  </thead>\n  <tbody>\n    <tr>\n      <th>0</th>\n      <td>F.D. Rossevelt HS</td>\n      <td>Lee</td>\n      <td>Reynolds</td>\n    </tr>\n    <tr>\n      <th>1</th>\n      <td>F.D. Rossevelt HS</td>\n      <td>Kathleen</td>\n      <td>Roush</td>\n    </tr>\n    <tr>\n      <th>2</th>\n      <td>F.D. Rossevelt HS</td>\n      <td>Janet</td>\n      <td>Smith</td>\n    </tr>\n    <tr>\n      <th>3</th>\n      <td>Myers Middle School</td>\n      <td>Samantha</td>\n      <td>Bush</td>\n    </tr>\n    <tr>\n      <th>4</th>\n      <td>Myers Middle School</td>\n      <td>Samuel</td>\n      <td>Cole</td>\n    </tr>\n  </tbody>\n</table>\n</div>"
     },
     "metadata": {},
     "execution_count": 3
    }
   ]
  },
  {
   "cell_type": "code",
   "execution_count": 4,
   "metadata": {},
   "outputs": [
    {
     "output_type": "execute_result",
     "data": {
      "text/plain": [
       "                     0         1         2\n",
       "0    F.D. Rossevelt HS       Lee  Reynolds\n",
       "1    F.D. Rossevelt HS  Kathleen     Roush\n",
       "2    F.D. Rossevelt HS     Janet     Smith\n",
       "3  Myers Middle School  Samantha      Bush\n",
       "4  Myers Middle School    Samuel      Cole"
      ],
      "text/html": "<div>\n<style scoped>\n    .dataframe tbody tr th:only-of-type {\n        vertical-align: middle;\n    }\n\n    .dataframe tbody tr th {\n        vertical-align: top;\n    }\n\n    .dataframe thead th {\n        text-align: right;\n    }\n</style>\n<table border=\"1\" class=\"dataframe\">\n  <thead>\n    <tr style=\"text-align: right;\">\n      <th></th>\n      <th>0</th>\n      <th>1</th>\n      <th>2</th>\n    </tr>\n  </thead>\n  <tbody>\n    <tr>\n      <th>0</th>\n      <td>F.D. Rossevelt HS</td>\n      <td>Lee</td>\n      <td>Reynolds</td>\n    </tr>\n    <tr>\n      <th>1</th>\n      <td>F.D. Rossevelt HS</td>\n      <td>Kathleen</td>\n      <td>Roush</td>\n    </tr>\n    <tr>\n      <th>2</th>\n      <td>F.D. Rossevelt HS</td>\n      <td>Janet</td>\n      <td>Smith</td>\n    </tr>\n    <tr>\n      <th>3</th>\n      <td>Myers Middle School</td>\n      <td>Samantha</td>\n      <td>Bush</td>\n    </tr>\n    <tr>\n      <th>4</th>\n      <td>Myers Middle School</td>\n      <td>Samuel</td>\n      <td>Cole</td>\n    </tr>\n  </tbody>\n</table>\n</div>"
     },
     "metadata": {},
     "execution_count": 4
    }
   ],
   "source": [
    "# Write a query that lists the schools in alphabetical order along with teachers ordered by last name A-Z\n",
    "\n",
    "ch2_q2 = \"\"\"\n",
    "SELECT school, first_name, last_name\n",
    "FROM teachers\n",
    "ORDER BY school, last_name;\n",
    "\"\"\"\n",
    "\n",
    "cur.execute(ch2_q2)\n",
    "results2 = cur.fetchall()\n",
    "df2= pd.DataFrame(results1)\n",
    "df2.head()"
   ]
  },
  {
   "cell_type": "code",
   "execution_count": 5,
   "metadata": {},
   "outputs": [
    {
     "output_type": "execute_result",
     "data": {
      "text/plain": [
       "                     0         1         2\n",
       "0    F.D. Rossevelt HS       Lee  Reynolds\n",
       "1    F.D. Rossevelt HS  Kathleen     Roush\n",
       "2    F.D. Rossevelt HS     Janet     Smith\n",
       "3  Myers Middle School  Samantha      Bush\n",
       "4  Myers Middle School    Samuel      Cole"
      ],
      "text/html": "<div>\n<style scoped>\n    .dataframe tbody tr th:only-of-type {\n        vertical-align: middle;\n    }\n\n    .dataframe tbody tr th {\n        vertical-align: top;\n    }\n\n    .dataframe thead th {\n        text-align: right;\n    }\n</style>\n<table border=\"1\" class=\"dataframe\">\n  <thead>\n    <tr style=\"text-align: right;\">\n      <th></th>\n      <th>0</th>\n      <th>1</th>\n      <th>2</th>\n    </tr>\n  </thead>\n  <tbody>\n    <tr>\n      <th>0</th>\n      <td>F.D. Rossevelt HS</td>\n      <td>Lee</td>\n      <td>Reynolds</td>\n    </tr>\n    <tr>\n      <th>1</th>\n      <td>F.D. Rossevelt HS</td>\n      <td>Kathleen</td>\n      <td>Roush</td>\n    </tr>\n    <tr>\n      <th>2</th>\n      <td>F.D. Rossevelt HS</td>\n      <td>Janet</td>\n      <td>Smith</td>\n    </tr>\n    <tr>\n      <th>3</th>\n      <td>Myers Middle School</td>\n      <td>Samantha</td>\n      <td>Bush</td>\n    </tr>\n    <tr>\n      <th>4</th>\n      <td>Myers Middle School</td>\n      <td>Samuel</td>\n      <td>Cole</td>\n    </tr>\n  </tbody>\n</table>\n</div>"
     },
     "metadata": {},
     "execution_count": 5
    }
   ],
   "source": [
    "# Rank teachers hired since Jan 1, 2010, ordered by highest paid to lowest **\n",
    "ch2_q3 = \"\"\"\n",
    "SELECT *\n",
    "FROM teachers\n",
    "WHERE hire_date >= '2010-01-01'\n",
    "ORDER BY salary DESC;\n",
    "\"\"\"\n",
    "\n",
    "cur.execute(ch2_q3)\n",
    "results3 = cur.fetchall()\n",
    "df3= pd.DataFrame(results1)\n",
    "df3.head()"
   ]
  },
  {
   "cell_type": "code",
   "execution_count": 6,
   "metadata": {},
   "outputs": [],
   "source": [
    "# Closing the cursor\n",
    "cur.close()\n",
    "del cur\n",
    "\n",
    "# Closing the connection\n",
    "conn.close()"
   ]
  },
  {
   "cell_type": "code",
   "execution_count": null,
   "metadata": {},
   "outputs": [],
   "source": []
  }
 ]
}