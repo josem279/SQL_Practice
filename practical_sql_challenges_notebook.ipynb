{
 "metadata": {
  "language_info": {
   "codemirror_mode": {
    "name": "ipython",
    "version": 3
   },
   "file_extension": ".py",
   "mimetype": "text/x-python",
   "name": "python",
   "nbconvert_exporter": "python",
   "pygments_lexer": "ipython3",
   "version": "3.9.1-final"
  },
  "orig_nbformat": 2,
  "kernelspec": {
   "name": "python3",
   "display_name": "Python 3.9.1 64-bit",
   "metadata": {
    "interpreter": {
     "hash": "b5843a13e7131a14c3c0e364f0390d6592a995e3082c3f83420ac4385eeb2370"
    }
   }
  }
 },
 "nbformat": 4,
 "nbformat_minor": 2,
 "cells": [
  {
   "source": [
    "# Practical SQL\n",
    "\n",
    "This Jupyter notebook will display all SQL queries that I have created as answers to the challenge questions at the end of each chapter of the book \"Practical SQL: A Beginner's Guide To Storytelling With Data\" by Anthony DeBarros.\n",
    "\n",
    "The first part of this notebook will require us to import a couple of dependencies as well as personal data that will allow us to link out Jupyter Notebook to PostgreSQL."
   ],
   "cell_type": "markdown",
   "metadata": {}
  },
  {
   "cell_type": "code",
   "execution_count": 1,
   "metadata": {},
   "outputs": [],
   "source": [
    "import psycopg2\n",
    "import pandas as pd\n",
    "from sql_data import db, usr, pwd"
   ]
  },
  {
   "cell_type": "code",
   "execution_count": 2,
   "metadata": {},
   "outputs": [],
   "source": [
    "# Connecting to postgreSQL database\n",
    "conn = psycopg2.connect(\n",
    "    host = \"localhost\",\n",
    "    database = db,\n",
    "    user = usr,\n",
    "    password = pwd,\n",
    "    port = 5432\n",
    ")\n",
    "\n",
    "def execute_query(connection, query):\n",
    "    connection.autocommit = True\n",
    "    cursor = connection.cursor()\n",
    "    try:\n",
    "        cursor.execute(query)\n",
    "        results = cursor.fetchall()\n",
    "        column_names = [i[0] for i in cursor.description]\n",
    "        results = pd.DataFrame(results, columns= column_names)\n",
    "        return results\n",
    "        print(\"Query executed succesfully!\")\n",
    "        # Closing the cursor\n",
    "        cursor.close()\n",
    "        del cursor\n",
    "        # Closing the connection\n",
    "        connection.close()\n",
    "    except OperationalError as e:\n",
    "        print(f\"The error '{e}' occurred.\")      "
   ]
  },
  {
   "source": [
    "## Chapter 2: Beginning Data Exploration With Select\n",
    "\n",
    "Challenge Questions\n",
    "\n",
    "1. Write a query that lists the schools in alphabetical order along with teachers ordered by last name A-Z"
   ],
   "cell_type": "markdown",
   "metadata": {}
  },
  {
   "cell_type": "code",
   "execution_count": 3,
   "metadata": {},
   "outputs": [
    {
     "output_type": "execute_result",
     "data": {
      "text/plain": [
       "                school first_name last_name\n",
       "0    F.D. Rossevelt HS        Lee  Reynolds\n",
       "1    F.D. Rossevelt HS   Kathleen     Roush\n",
       "2    F.D. Rossevelt HS      Janet     Smith\n",
       "3  Myers Middle School   Samantha      Bush\n",
       "4  Myers Middle School     Samuel      Cole\n",
       "5  Myers Middle School      Betty      Diaz"
      ],
      "text/html": "<div>\n<style scoped>\n    .dataframe tbody tr th:only-of-type {\n        vertical-align: middle;\n    }\n\n    .dataframe tbody tr th {\n        vertical-align: top;\n    }\n\n    .dataframe thead th {\n        text-align: right;\n    }\n</style>\n<table border=\"1\" class=\"dataframe\">\n  <thead>\n    <tr style=\"text-align: right;\">\n      <th></th>\n      <th>school</th>\n      <th>first_name</th>\n      <th>last_name</th>\n    </tr>\n  </thead>\n  <tbody>\n    <tr>\n      <th>0</th>\n      <td>F.D. Rossevelt HS</td>\n      <td>Lee</td>\n      <td>Reynolds</td>\n    </tr>\n    <tr>\n      <th>1</th>\n      <td>F.D. Rossevelt HS</td>\n      <td>Kathleen</td>\n      <td>Roush</td>\n    </tr>\n    <tr>\n      <th>2</th>\n      <td>F.D. Rossevelt HS</td>\n      <td>Janet</td>\n      <td>Smith</td>\n    </tr>\n    <tr>\n      <th>3</th>\n      <td>Myers Middle School</td>\n      <td>Samantha</td>\n      <td>Bush</td>\n    </tr>\n    <tr>\n      <th>4</th>\n      <td>Myers Middle School</td>\n      <td>Samuel</td>\n      <td>Cole</td>\n    </tr>\n    <tr>\n      <th>5</th>\n      <td>Myers Middle School</td>\n      <td>Betty</td>\n      <td>Diaz</td>\n    </tr>\n  </tbody>\n</table>\n</div>"
     },
     "metadata": {},
     "execution_count": 3
    }
   ],
   "source": [
    "query = \"\"\"\n",
    "SELECT school, first_name, last_name\n",
    "FROM teachers\n",
    "ORDER BY school, last_name;\n",
    "\"\"\"\n",
    "\n",
    "execute_query(conn, query)"
   ]
  },
  {
   "source": [
    "2. Write a query that finds the one teacher whose first name starts with the letter S and who earns more that $40k\n"
   ],
   "cell_type": "markdown",
   "metadata": {}
  },
  {
   "cell_type": "code",
   "execution_count": 4,
   "metadata": {},
   "outputs": [
    {
     "output_type": "execute_result",
     "data": {
      "text/plain": [
       "   id first_name last_name               school   hire_date salary\n",
       "0   3     Samuel      Cole  Myers Middle School  2005-08-01  43500"
      ],
      "text/html": "<div>\n<style scoped>\n    .dataframe tbody tr th:only-of-type {\n        vertical-align: middle;\n    }\n\n    .dataframe tbody tr th {\n        vertical-align: top;\n    }\n\n    .dataframe thead th {\n        text-align: right;\n    }\n</style>\n<table border=\"1\" class=\"dataframe\">\n  <thead>\n    <tr style=\"text-align: right;\">\n      <th></th>\n      <th>id</th>\n      <th>first_name</th>\n      <th>last_name</th>\n      <th>school</th>\n      <th>hire_date</th>\n      <th>salary</th>\n    </tr>\n  </thead>\n  <tbody>\n    <tr>\n      <th>0</th>\n      <td>3</td>\n      <td>Samuel</td>\n      <td>Cole</td>\n      <td>Myers Middle School</td>\n      <td>2005-08-01</td>\n      <td>43500</td>\n    </tr>\n  </tbody>\n</table>\n</div>"
     },
     "metadata": {},
     "execution_count": 4
    }
   ],
   "source": [
    "query = \"\"\"\n",
    "SELECT *\n",
    "FROM teachers\n",
    "WHERE salary > 40000 AND\n",
    "\tfirst_name ILIKE 's%';\n",
    "\"\"\"\n",
    "\n",
    "execute_query(conn, query)"
   ]
  },
  {
   "source": [
    "3. Rank teachers hired since Jan 1, 2010, ordered by highest paid to lowest"
   ],
   "cell_type": "markdown",
   "metadata": {}
  },
  {
   "cell_type": "code",
   "execution_count": 5,
   "metadata": {},
   "outputs": [
    {
     "output_type": "execute_result",
     "data": {
      "text/plain": [
       "   id first_name last_name               school   hire_date salary\n",
       "0   6   Kathleen     Roush    F.D. Rossevelt HS  2010-10-22  38500\n",
       "1   1      Janet     Smith    F.D. Rossevelt HS  2011-10-30  36200\n",
       "2   4   Samantha      Bush  Myers Middle School  2011-10-30  36200"
      ],
      "text/html": "<div>\n<style scoped>\n    .dataframe tbody tr th:only-of-type {\n        vertical-align: middle;\n    }\n\n    .dataframe tbody tr th {\n        vertical-align: top;\n    }\n\n    .dataframe thead th {\n        text-align: right;\n    }\n</style>\n<table border=\"1\" class=\"dataframe\">\n  <thead>\n    <tr style=\"text-align: right;\">\n      <th></th>\n      <th>id</th>\n      <th>first_name</th>\n      <th>last_name</th>\n      <th>school</th>\n      <th>hire_date</th>\n      <th>salary</th>\n    </tr>\n  </thead>\n  <tbody>\n    <tr>\n      <th>0</th>\n      <td>6</td>\n      <td>Kathleen</td>\n      <td>Roush</td>\n      <td>F.D. Rossevelt HS</td>\n      <td>2010-10-22</td>\n      <td>38500</td>\n    </tr>\n    <tr>\n      <th>1</th>\n      <td>1</td>\n      <td>Janet</td>\n      <td>Smith</td>\n      <td>F.D. Rossevelt HS</td>\n      <td>2011-10-30</td>\n      <td>36200</td>\n    </tr>\n    <tr>\n      <th>2</th>\n      <td>4</td>\n      <td>Samantha</td>\n      <td>Bush</td>\n      <td>Myers Middle School</td>\n      <td>2011-10-30</td>\n      <td>36200</td>\n    </tr>\n  </tbody>\n</table>\n</div>"
     },
     "metadata": {},
     "execution_count": 5
    }
   ],
   "source": [
    "query = \"\"\"\n",
    "SELECT *\n",
    "FROM teachers\n",
    "WHERE hire_date >= '2010-01-01'\n",
    "ORDER BY salary DESC;\n",
    "\"\"\"\n",
    "\n",
    "execute_query(conn, query)"
   ]
  },
  {
   "source": [
    "## Chapter 3: Understanding Data Types\n",
    "\n",
    "Challenge Questions\n",
    "\n",
    "1. Your company delivers fruit and vegetables to local grocery stores, and you need to track the mileaage driven by each driver each day to a tenth of a mile. Assuming no driver would ever travel more that 999 miles in a day, what would be an appropriate data type for the mileage column in your table. Why?\n",
    "\n",
    "    Assuming we would only need to track to the nearest tenth of a mile and drivers never drive more than 999 miles, we would want a data type that reflects 4 significant figures. I would choose to use the NUMERIC data type with a precision of 4 and a scale of 1.\n",
    "\n",
    "2. In the table listing each driver in your company, what are appropriate data types for the drivers' first and last names? Why is it a good idea to separate firs and last names into two columns rather than having one larger name column?\n",
    "\n",
    "    I would choose the VARCHAR data type for the first and last name columns in my table with an ample amount of characters to suit the two fields - (15) and (30) respectively. This data type is best for minimizing space as it can go up to the indicated character count but if a first or last name does not have that many characters, the program will not pad/fill in the remaining values. It is not adviseable to combine both first and last names into one field for the purpose of saving space - the combined field may need to house extra characters like a space or comma to distinguish the two values - and because a combined field may make future queries harder to perform.\n",
    "\n",
    "3. Assume you have a text column that includes strings formatted as dates. One of the strings is written as '4//2017'. What will happen when you try to convert that string to the timestamp data type?\n",
    "\n",
    "    An ERROR message should pop up when trying to convert the text '4//2017' in to a TIMESTAMP as it is lacking the months and is not written in the format required by the TIMESTAMP data type - 'YYYY-MM-DD HH:MM:SS'."
   ],
   "cell_type": "markdown",
   "metadata": {}
  },
  {
   "source": [
    "## Chapter 4: Importing and Exporting Data"
   ],
   "cell_type": "markdown",
   "metadata": {}
  },
  {
   "source": [
    "Challenge Questions\n",
    "\n",
    "1. Write a WITH statement to include with COPY to handle the import of an imaginary text file whose first couple of rows look like this:"
   ],
   "cell_type": "markdown",
   "metadata": {}
  },
  {
   "cell_type": "code",
   "execution_count": 6,
   "metadata": {},
   "outputs": [],
   "source": [
    "# ---------\n",
    "# id:movie:actor\n",
    "# 50:#Mission: Impossible#:Tom Cruise\n",
    "# ---------"
   ]
  },
  {
   "source": [
    "\tCOPY example_table\n",
    "\tFROM 'C:/RandomDirectory/indicatedtextfile.txt'\n",
    "\tWITH (FORMAT CSV, HEADER, DELIMITER ':', QUOTE '#');\n",
    "\n",
    "\n",
    "2. Using the table us_counties_2010_ you created and filled in this chapter, export to a CSV file the 20 counties in the United States thathave the most housing units. Make sure you export only each county's name, state, and number of housing units.\n",
    "\n",
    "\n",
    "\tCOPY (\n",
    "\t\tSELECT geo_name, state_us_abbreviation, housing_unit_count\n",
    "\t\tFROM us_counties_2010\n",
    "\t\tORDER BY housing_unit_count DESC\n",
    "\t\tLIMIT 20\n",
    "\t)\n",
    "\tTO 'C:/RandomDirectory/housing_export.csv'\n",
    "\tWITH (FORMAT CSV, HEADER);\n",
    "\n",
    "3. Imagine you're importing a file that contains a column with these values:"
   ],
   "cell_type": "markdown",
   "metadata": {}
  },
  {
   "cell_type": "code",
   "execution_count": 7,
   "metadata": {},
   "outputs": [],
   "source": [
    "# ----\n",
    "# 17519.668\n",
    "# 20084.461\n",
    "# 18973.335\n",
    "# ----"
   ]
  },
  {
   "source": [
    "3. Will a column in your target table with data type NUMERIC(3,8) work for these values?\n",
    "\n",
    "    The data type NUMERIC(3,8) will not work as it has switched the precision and scale values. It should instead be NUMERIC(8,3) to indicate that there should be 8 total digits with only 3 of them being to the right of the decimal."
   ],
   "cell_type": "markdown",
   "metadata": {}
  },
  {
   "source": [
    "## Chapter 5: Basic Math And Stats With SQL\n",
    "\n",
    "Challenge Questions\n",
    "\n",
    "1. Write a SQL statement for calculating the area of a circle whose radius is 5 inches. Do you need parenthese in your calculation? Why or why not?\n"
   ],
   "cell_type": "markdown",
   "metadata": {}
  },
  {
   "cell_type": "code",
   "execution_count": 8,
   "metadata": {},
   "outputs": [
    {
     "output_type": "execute_result",
     "data": {
      "text/plain": [
       "   ?column?\n",
       "0      78.5"
      ],
      "text/html": "<div>\n<style scoped>\n    .dataframe tbody tr th:only-of-type {\n        vertical-align: middle;\n    }\n\n    .dataframe tbody tr th {\n        vertical-align: top;\n    }\n\n    .dataframe thead th {\n        text-align: right;\n    }\n</style>\n<table border=\"1\" class=\"dataframe\">\n  <thead>\n    <tr style=\"text-align: right;\">\n      <th></th>\n      <th>?column?</th>\n    </tr>\n  </thead>\n  <tbody>\n    <tr>\n      <th>0</th>\n      <td>78.5</td>\n    </tr>\n  </tbody>\n</table>\n</div>"
     },
     "metadata": {},
     "execution_count": 8
    }
   ],
   "source": [
    "query = \"\"\"\n",
    "SELECT 3.14 * (5 ^ 2);\n",
    "\"\"\"\n",
    "\n",
    "execute_query(conn, query)"
   ]
  },
  {
   "source": [
    "    Answer: In this case we do not need parentheses as order of operations will give exponents priority over multiplication. However, parentheses may help make the expression easier to understand.\n",
    "\n",
    "2. Using the  2010 Census county data, find out which New York state county has the highest percentage of the population that identified as \"American Indian/Alaska Native Alone\"."
   ],
   "cell_type": "markdown",
   "metadata": {}
  },
  {
   "cell_type": "code",
   "execution_count": 9,
   "metadata": {},
   "outputs": [
    {
     "output_type": "execute_result",
     "data": {
      "text/plain": [
       "            county state_us_abbreviation  total_population  \\\n",
       "0  Franklin County                    NY             51599   \n",
       "\n",
       "   american_indian_alaska_native_alone     pct_american_indian  \n",
       "0                                 3797  7.35866974166166011000  "
      ],
      "text/html": "<div>\n<style scoped>\n    .dataframe tbody tr th:only-of-type {\n        vertical-align: middle;\n    }\n\n    .dataframe tbody tr th {\n        vertical-align: top;\n    }\n\n    .dataframe thead th {\n        text-align: right;\n    }\n</style>\n<table border=\"1\" class=\"dataframe\">\n  <thead>\n    <tr style=\"text-align: right;\">\n      <th></th>\n      <th>county</th>\n      <th>state_us_abbreviation</th>\n      <th>total_population</th>\n      <th>american_indian_alaska_native_alone</th>\n      <th>pct_american_indian</th>\n    </tr>\n  </thead>\n  <tbody>\n    <tr>\n      <th>0</th>\n      <td>Franklin County</td>\n      <td>NY</td>\n      <td>51599</td>\n      <td>3797</td>\n      <td>7.35866974166166011000</td>\n    </tr>\n  </tbody>\n</table>\n</div>"
     },
     "metadata": {},
     "execution_count": 9
    }
   ],
   "source": [
    "query = \"\"\"\n",
    "SELECT geo_name AS County,\n",
    "\tstate_us_abbreviation,\n",
    "\tp0010001 AS total_population,\n",
    "\tp0010005 AS american_indian_alaska_native_alone,\n",
    "\t(CAST(p0010005 AS NUMERIC(8,1)) / p0010001) * 100 AS Pct_American_Indian\n",
    "FROM us_counties_2010\n",
    "WHERE state_us_abbreviation = 'NY'\n",
    "ORDER BY Pct_American_Indian DESC\n",
    "LIMIT 1;\n",
    "\"\"\"\n",
    "\n",
    "execute_query(conn, query)"
   ]
  },
  {
   "source": [
    "3. Was the 2010 median county population higher in California or New York\n"
   ],
   "cell_type": "markdown",
   "metadata": {}
  },
  {
   "cell_type": "code",
   "execution_count": 10,
   "metadata": {},
   "outputs": [
    {
     "output_type": "execute_result",
     "data": {
      "text/plain": [
       "  State    Median\n",
       "0    CA  179140.5\n",
       "1    NY   91301.0"
      ],
      "text/html": "<div>\n<style scoped>\n    .dataframe tbody tr th:only-of-type {\n        vertical-align: middle;\n    }\n\n    .dataframe tbody tr th {\n        vertical-align: top;\n    }\n\n    .dataframe thead th {\n        text-align: right;\n    }\n</style>\n<table border=\"1\" class=\"dataframe\">\n  <thead>\n    <tr style=\"text-align: right;\">\n      <th></th>\n      <th>State</th>\n      <th>Median</th>\n    </tr>\n  </thead>\n  <tbody>\n    <tr>\n      <th>0</th>\n      <td>CA</td>\n      <td>179140.5</td>\n    </tr>\n    <tr>\n      <th>1</th>\n      <td>NY</td>\n      <td>91301.0</td>\n    </tr>\n  </tbody>\n</table>\n</div>"
     },
     "metadata": {},
     "execution_count": 10
    }
   ],
   "source": [
    "query = \"\"\"\n",
    "SELECT state_us_abbreviation AS \"State\",\n",
    "       percentile_cont(0.5)\n",
    "\t   WITHIN GROUP (ORDER BY p0010001) AS \"Median\"\n",
    "FROM us_counties_2010\n",
    "WHERE state_us_abbreviation IN ('NY', 'CA')\n",
    "GROUP BY state_us_abbreviation;\n",
    "\"\"\"\n",
    "\n",
    "execute_query(conn, query)"
   ]
  },
  {
   "source": [
    "     Answer: Based on the output from the query above, California had a higher median county population than New York - 179,140.5 to 91,301 respectively."
   ],
   "cell_type": "markdown",
   "metadata": {}
  },
  {
   "source": [
    "## Chapter 6: Joining Tables in a Relational Database\n",
    "\n",
    "Challenge Questions\n",
    "\n",
    "1. The table us_counties_2010 contains 3143 rows, and us_counties_2000 has 3141. That reflects the ongoing adjustments to county level geographies that typically result from government decision making. Using appropriate joins and the NULL value, identify which counties don't exist in both tables.\n"
   ],
   "cell_type": "markdown",
   "metadata": {}
  },
  {
   "cell_type": "code",
   "execution_count": 11,
   "metadata": {},
   "outputs": [
    {
     "output_type": "execute_result",
     "data": {
      "text/plain": [
       "                              county state_us_abbreviation geo_name\n",
       "0          Hoonah-Angoon Census Area                    AK     None\n",
       "1             Petersburg Census Area                    AK     None\n",
       "2  Prince of Wales-Hyder Census Area                    AK     None\n",
       "3               Skagway Municipality                    AK     None\n",
       "4          Wrangell City and Borough                    AK     None\n",
       "5                  Broomfield County                    CO     None"
      ],
      "text/html": "<div>\n<style scoped>\n    .dataframe tbody tr th:only-of-type {\n        vertical-align: middle;\n    }\n\n    .dataframe tbody tr th {\n        vertical-align: top;\n    }\n\n    .dataframe thead th {\n        text-align: right;\n    }\n</style>\n<table border=\"1\" class=\"dataframe\">\n  <thead>\n    <tr style=\"text-align: right;\">\n      <th></th>\n      <th>county</th>\n      <th>state_us_abbreviation</th>\n      <th>geo_name</th>\n    </tr>\n  </thead>\n  <tbody>\n    <tr>\n      <th>0</th>\n      <td>Hoonah-Angoon Census Area</td>\n      <td>AK</td>\n      <td>None</td>\n    </tr>\n    <tr>\n      <th>1</th>\n      <td>Petersburg Census Area</td>\n      <td>AK</td>\n      <td>None</td>\n    </tr>\n    <tr>\n      <th>2</th>\n      <td>Prince of Wales-Hyder Census Area</td>\n      <td>AK</td>\n      <td>None</td>\n    </tr>\n    <tr>\n      <th>3</th>\n      <td>Skagway Municipality</td>\n      <td>AK</td>\n      <td>None</td>\n    </tr>\n    <tr>\n      <th>4</th>\n      <td>Wrangell City and Borough</td>\n      <td>AK</td>\n      <td>None</td>\n    </tr>\n    <tr>\n      <th>5</th>\n      <td>Broomfield County</td>\n      <td>CO</td>\n      <td>None</td>\n    </tr>\n  </tbody>\n</table>\n</div>"
     },
     "metadata": {},
     "execution_count": 11
    }
   ],
   "source": [
    "# Answer: The following query reveals that there are 5 counties from Alaska along with Broomfield county are not present in both tables.\n",
    "\n",
    "query = \"\"\"\n",
    "SELECT\n",
    "\tten.geo_name AS county,\n",
    "\tten. state_us_abbreviation,\n",
    "\ttwok.geo_name\n",
    "FROM us_counties_2010 AS ten\n",
    "LEFT JOIN us_counties_2000 AS twok\n",
    "ON ten.state_fips = twok.state_fips\n",
    "\tAND ten.county_fips = twok.county_fips\n",
    "WHERE twok.geo_name IS NULL;\n",
    "\"\"\"\n",
    "\n",
    "execute_query(conn, query)"
   ]
  },
  {
   "source": [
    "2. Using either the median() or precentile_cont() functions, determine the median of the percent change in county population.\n"
   ],
   "cell_type": "markdown",
   "metadata": {}
  },
  {
   "cell_type": "code",
   "execution_count": 12,
   "metadata": {},
   "outputs": [
    {
     "output_type": "execute_result",
     "data": {
      "text/plain": [
       "   median_pop_change\n",
       "0                3.2"
      ],
      "text/html": "<div>\n<style scoped>\n    .dataframe tbody tr th:only-of-type {\n        vertical-align: middle;\n    }\n\n    .dataframe tbody tr th {\n        vertical-align: top;\n    }\n\n    .dataframe thead th {\n        text-align: right;\n    }\n</style>\n<table border=\"1\" class=\"dataframe\">\n  <thead>\n    <tr style=\"text-align: right;\">\n      <th></th>\n      <th>median_pop_change</th>\n    </tr>\n  </thead>\n  <tbody>\n    <tr>\n      <th>0</th>\n      <td>3.2</td>\n    </tr>\n  </tbody>\n</table>\n</div>"
     },
     "metadata": {},
     "execution_count": 12
    }
   ],
   "source": [
    "query = \"\"\"\n",
    "SELECT\n",
    "\tPERCENTILE_CONT(.5) WITHIN GROUP (ORDER BY (ROUND((CAST(ten.p0010001 AS NUMERIC(8,1)) - twok.p0010001) / twok.p0010001 * 100, 1))) AS median_pop_change\n",
    "FROM us_counties_2010 AS ten\n",
    "JOIN us_counties_2000 AS twok\n",
    "ON ten.state_fips = twok.state_fips\n",
    "\tAND ten.county_fips = twok.county_fips;\n",
    "\"\"\"\n",
    "\n",
    "execute_query(conn, query)"
   ]
  },
  {
   "source": [
    "3. Which county had the greates percentage loss of population between 2000 and 2010?"
   ],
   "cell_type": "markdown",
   "metadata": {}
  },
  {
   "cell_type": "code",
   "execution_count": 13,
   "metadata": {},
   "outputs": [
    {
     "output_type": "execute_result",
     "data": {
      "text/plain": [
       "                  county state_us_abbreviation  pop_2010  pop_2000  \\\n",
       "0     St. Bernard Parish                    LA     35897     67229   \n",
       "1         Kalawao County                    HI        90       147   \n",
       "2       Issaquena County                    MS      1406      2274   \n",
       "3         Cameron Parish                    LA      6839      9991   \n",
       "4         Orleans Parish                    LA    343829    484674   \n",
       "...                  ...                   ...       ...       ...   \n",
       "3132      Loudoun County                    VA    312311    169599   \n",
       "3133      Lincoln County                    SD     44828     24131   \n",
       "3134      Flagler County                    FL     95696     49832   \n",
       "3135        Pinal County                    AZ    375770    179727   \n",
       "3136      Kendall County                    IL    114736     54544   \n",
       "\n",
       "      raw_change pct_change  \n",
       "0         -31332      -46.6  \n",
       "1            -57      -38.8  \n",
       "2           -868      -38.2  \n",
       "3          -3152      -31.5  \n",
       "4        -140845      -29.1  \n",
       "...          ...        ...  \n",
       "3132      142712       84.1  \n",
       "3133       20697       85.8  \n",
       "3134       45864       92.0  \n",
       "3135      196043      109.1  \n",
       "3136       60192      110.4  \n",
       "\n",
       "[3137 rows x 6 columns]"
      ],
      "text/html": "<div>\n<style scoped>\n    .dataframe tbody tr th:only-of-type {\n        vertical-align: middle;\n    }\n\n    .dataframe tbody tr th {\n        vertical-align: top;\n    }\n\n    .dataframe thead th {\n        text-align: right;\n    }\n</style>\n<table border=\"1\" class=\"dataframe\">\n  <thead>\n    <tr style=\"text-align: right;\">\n      <th></th>\n      <th>county</th>\n      <th>state_us_abbreviation</th>\n      <th>pop_2010</th>\n      <th>pop_2000</th>\n      <th>raw_change</th>\n      <th>pct_change</th>\n    </tr>\n  </thead>\n  <tbody>\n    <tr>\n      <th>0</th>\n      <td>St. Bernard Parish</td>\n      <td>LA</td>\n      <td>35897</td>\n      <td>67229</td>\n      <td>-31332</td>\n      <td>-46.6</td>\n    </tr>\n    <tr>\n      <th>1</th>\n      <td>Kalawao County</td>\n      <td>HI</td>\n      <td>90</td>\n      <td>147</td>\n      <td>-57</td>\n      <td>-38.8</td>\n    </tr>\n    <tr>\n      <th>2</th>\n      <td>Issaquena County</td>\n      <td>MS</td>\n      <td>1406</td>\n      <td>2274</td>\n      <td>-868</td>\n      <td>-38.2</td>\n    </tr>\n    <tr>\n      <th>3</th>\n      <td>Cameron Parish</td>\n      <td>LA</td>\n      <td>6839</td>\n      <td>9991</td>\n      <td>-3152</td>\n      <td>-31.5</td>\n    </tr>\n    <tr>\n      <th>4</th>\n      <td>Orleans Parish</td>\n      <td>LA</td>\n      <td>343829</td>\n      <td>484674</td>\n      <td>-140845</td>\n      <td>-29.1</td>\n    </tr>\n    <tr>\n      <th>...</th>\n      <td>...</td>\n      <td>...</td>\n      <td>...</td>\n      <td>...</td>\n      <td>...</td>\n      <td>...</td>\n    </tr>\n    <tr>\n      <th>3132</th>\n      <td>Loudoun County</td>\n      <td>VA</td>\n      <td>312311</td>\n      <td>169599</td>\n      <td>142712</td>\n      <td>84.1</td>\n    </tr>\n    <tr>\n      <th>3133</th>\n      <td>Lincoln County</td>\n      <td>SD</td>\n      <td>44828</td>\n      <td>24131</td>\n      <td>20697</td>\n      <td>85.8</td>\n    </tr>\n    <tr>\n      <th>3134</th>\n      <td>Flagler County</td>\n      <td>FL</td>\n      <td>95696</td>\n      <td>49832</td>\n      <td>45864</td>\n      <td>92.0</td>\n    </tr>\n    <tr>\n      <th>3135</th>\n      <td>Pinal County</td>\n      <td>AZ</td>\n      <td>375770</td>\n      <td>179727</td>\n      <td>196043</td>\n      <td>109.1</td>\n    </tr>\n    <tr>\n      <th>3136</th>\n      <td>Kendall County</td>\n      <td>IL</td>\n      <td>114736</td>\n      <td>54544</td>\n      <td>60192</td>\n      <td>110.4</td>\n    </tr>\n  </tbody>\n</table>\n<p>3137 rows × 6 columns</p>\n</div>"
     },
     "metadata": {},
     "execution_count": 13
    }
   ],
   "source": [
    "# Answer: The following query shows that St. Bernard Parish had the greatese population loss.\n",
    "\n",
    "query = \"\"\"\n",
    "SELECT c2010.geo_name AS County,\n",
    "       c2010.state_us_abbreviation,\n",
    "       c2010.p0010001 AS pop_2010,\n",
    "       c2000.p0010001 AS pop_2000,\n",
    "       c2010.p0010001 - c2000.p0010001 AS raw_change,\n",
    "       round( (CAST(c2010.p0010001 AS DECIMAL(8,1)) - c2000.p0010001)\n",
    "           / c2000.p0010001 * 100, 1 ) AS pct_change\n",
    "FROM us_counties_2010 c2010 INNER JOIN us_counties_2000 c2000\n",
    "ON c2010.state_fips = c2000.state_fips\n",
    "   AND c2010.county_fips = c2000.county_fips\n",
    "ORDER BY pct_change ASC;\n",
    "\"\"\"\n",
    "\n",
    "execute_query(conn, query)"
   ]
  },
  {
   "source": [
    "## Chapter 7: Table Design That Works For You\n",
    "\n",
    "    CREATE TABLE albums (\n",
    "        album_id bigserial,\n",
    "        album_catalog_code varchar(100),\n",
    "        album_title text,\n",
    "        album_artist text,\n",
    "        album_time interval,\n",
    "        album_release_date date,\n",
    "        album_genre varchar(40),\n",
    "        album_description text\n",
    "    );\n",
    "\n",
    "    CREATE TABLE songs (\n",
    "        song_id bigserial,\n",
    "        song_title text,\n",
    "        song_artist text,\n",
    "        album_id bigint\n",
    "    );\n",
    "\n",
    "Use the tables to answer these questions:\n",
    "\n",
    "1. Modify these CREATE TABLE statements to include primary and foreign keys plus additional constraints on both tables.\n",
    "\n",
    "    Answer: \n",
    "    \n",
    "    CREATE TABLE albums (\n",
    "        album_id bigserial,\n",
    "        album_catalog_code varchar(80) NOT NULL,\n",
    "        album_title text NOT NULL,\n",
    "        album_artist text NOT NULL,\n",
    "        album_release_date date,\n",
    "        album_genre varchar(30),\n",
    "        album_description text,\n",
    "        CONSTRAINT album_id_key PRIMARY KEY (album_id),\n",
    "        CONSTRAINT release_date_check CHECK (album_release_date > '1/1/1925')\n",
    "    );\n",
    "\n",
    "    CREATE TABLE songs (\n",
    "        song_id bigserial,\n",
    "        song_title text NOT NULL,\n",
    "        song_artist text NOT NULL,\n",
    "        album_id bigint REFERENCES albums (album_id),\n",
    "        CONSTRAINT song_id_key PRIMARY KEY (song_id)\n",
    ");\n",
    "\n",
    "2. Instead of using column_id as a surrogate key for your primary key, are there any columns in albums that could be useful as a natural key? What would you have to know to decide?\n",
    "\n",
    "    Answer: \n",
    "    \n",
    "    Album_catalogue_code may be a viable primary key however we would have to know if it is unique across multiple companies or if it is always provided.\n",
    "\n",
    "\n",
    "3. To speed up queries, which columns are good candidates for indexes?\n",
    "\n",
    "    Answer: \n",
    "    \n",
    "    Any column that is designated as a primary key should be indexed and so should columns used as foreign keys. In these tables, we should consider indexing the album_id, titles, artists, and album_release_date columns."
   ],
   "cell_type": "markdown",
   "metadata": {}
  },
  {
   "source": [
    "## Chapter 8: Extracting Information By Grouping and Summarizing\n",
    "\n",
    "Challenge Questions\n",
    "\n",
    "1. What is the pattern in the use of technology in libraries? Both the 2014 and 2009 survey tables contain the columns gpterms and pitusr. Write code to calculate the percent change in the sum of each column over time. Watch out for negative values"
   ],
   "cell_type": "markdown",
   "metadata": {}
  },
  {
   "cell_type": "code",
   "execution_count": 14,
   "metadata": {},
   "outputs": [
    {
     "output_type": "execute_result",
     "data": {
      "text/plain": [
       "  stabr  gpterms_2014  gpterms_2009 pct_change_gpterms  pitusr_2014  \\\n",
       "0    GU           547            59             827.12        39842   \n",
       "1    DC          1000           594              68.35      1050623   \n",
       "2    AK           994           618              60.84       771075   \n",
       "3    DE           772           487              58.52       622515   \n",
       "4    ID          1792          1151              55.69      1878131   \n",
       "\n",
       "   pitusr_2009 pct_change_pitusr  \n",
       "0        19564            103.65  \n",
       "1       140251            649.10  \n",
       "2      1061498            -27.36  \n",
       "3       451689             37.82  \n",
       "4      1986141             -5.44  "
      ],
      "text/html": "<div>\n<style scoped>\n    .dataframe tbody tr th:only-of-type {\n        vertical-align: middle;\n    }\n\n    .dataframe tbody tr th {\n        vertical-align: top;\n    }\n\n    .dataframe thead th {\n        text-align: right;\n    }\n</style>\n<table border=\"1\" class=\"dataframe\">\n  <thead>\n    <tr style=\"text-align: right;\">\n      <th></th>\n      <th>stabr</th>\n      <th>gpterms_2014</th>\n      <th>gpterms_2009</th>\n      <th>pct_change_gpterms</th>\n      <th>pitusr_2014</th>\n      <th>pitusr_2009</th>\n      <th>pct_change_pitusr</th>\n    </tr>\n  </thead>\n  <tbody>\n    <tr>\n      <th>0</th>\n      <td>GU</td>\n      <td>547</td>\n      <td>59</td>\n      <td>827.12</td>\n      <td>39842</td>\n      <td>19564</td>\n      <td>103.65</td>\n    </tr>\n    <tr>\n      <th>1</th>\n      <td>DC</td>\n      <td>1000</td>\n      <td>594</td>\n      <td>68.35</td>\n      <td>1050623</td>\n      <td>140251</td>\n      <td>649.10</td>\n    </tr>\n    <tr>\n      <th>2</th>\n      <td>AK</td>\n      <td>994</td>\n      <td>618</td>\n      <td>60.84</td>\n      <td>771075</td>\n      <td>1061498</td>\n      <td>-27.36</td>\n    </tr>\n    <tr>\n      <th>3</th>\n      <td>DE</td>\n      <td>772</td>\n      <td>487</td>\n      <td>58.52</td>\n      <td>622515</td>\n      <td>451689</td>\n      <td>37.82</td>\n    </tr>\n    <tr>\n      <th>4</th>\n      <td>ID</td>\n      <td>1792</td>\n      <td>1151</td>\n      <td>55.69</td>\n      <td>1878131</td>\n      <td>1986141</td>\n      <td>-5.44</td>\n    </tr>\n  </tbody>\n</table>\n</div>"
     },
     "metadata": {},
     "execution_count": 14
    }
   ],
   "source": [
    "# Answer the following query should return the pct change in gpterms and pitusr\n",
    "query = \"\"\"\n",
    "SELECT\n",
    "    pls14.stabr,\n",
    "    SUM(pls14.gpterms) AS gpterms_2014,\n",
    "    SUM(pls09.gpterms) AS gpterms_2009,\n",
    "    ROUND( (CAST(SUM(pls14.gpterms) AS DECIMAL(10, 1)) - SUM(pls09.gpterms)) /\n",
    "        SUM(pls09.gpterms) * 100, 2) AS pct_change_gpterms,\n",
    "    SUM(pls14.pitusr) AS pitusr_2014,\n",
    "    SUM(pls09.pitusr) AS pitusr_2009,\n",
    "    ROUND( (CAST(SUM(pls14.pitusr) AS DECIMAL(10, 1)) - SUM(pls09.pitusr)) /\n",
    "        SUM(pls09.pitusr) * 100, 2) AS pct_change_pitusr\n",
    "FROM pls_fy2014_pupld14a AS pls14\n",
    "JOIN pls_fy2009_pupld09a AS pls09\n",
    "    ON pls14.fscskey = pls09.fscskey\n",
    "WHERE pls14.gpterms >=0 AND pls09.gpterms >= 0 AND pls14.pitusr >=0 AND pls09.pitusr >= 0\n",
    "GROUP BY pls14.stabr\n",
    "ORDER BY pct_change_gpterms DESC, pct_change_pitusr DESC\n",
    "LIMIT 5\n",
    ";\n",
    "\"\"\"\n",
    "\n",
    "execute_query(conn, query)"
   ]
  },
  {
   "source": [
    "2. Both library survey tables contain a column called obereg. Just as we calculated the percent change in visits grouped by state, do the same to group percent changes in visits by U.S. region using obereg. "
   ],
   "cell_type": "markdown",
   "metadata": {}
  },
  {
   "cell_type": "code",
   "execution_count": 15,
   "metadata": {},
   "outputs": [
    {
     "output_type": "execute_result",
     "data": {
      "text/plain": [
       "  obereg  visits_2014  visits_2009 pct_change\n",
       "0     07     67482370     68703182      -1.78\n",
       "1     01     87441083     92090682      -5.05\n",
       "2     04    100458571    110484975      -9.07\n",
       "3     08    244298987    271264003      -9.94\n",
       "4     02    232953540    261305024     -10.85"
      ],
      "text/html": "<div>\n<style scoped>\n    .dataframe tbody tr th:only-of-type {\n        vertical-align: middle;\n    }\n\n    .dataframe tbody tr th {\n        vertical-align: top;\n    }\n\n    .dataframe thead th {\n        text-align: right;\n    }\n</style>\n<table border=\"1\" class=\"dataframe\">\n  <thead>\n    <tr style=\"text-align: right;\">\n      <th></th>\n      <th>obereg</th>\n      <th>visits_2014</th>\n      <th>visits_2009</th>\n      <th>pct_change</th>\n    </tr>\n  </thead>\n  <tbody>\n    <tr>\n      <th>0</th>\n      <td>07</td>\n      <td>67482370</td>\n      <td>68703182</td>\n      <td>-1.78</td>\n    </tr>\n    <tr>\n      <th>1</th>\n      <td>01</td>\n      <td>87441083</td>\n      <td>92090682</td>\n      <td>-5.05</td>\n    </tr>\n    <tr>\n      <th>2</th>\n      <td>04</td>\n      <td>100458571</td>\n      <td>110484975</td>\n      <td>-9.07</td>\n    </tr>\n    <tr>\n      <th>3</th>\n      <td>08</td>\n      <td>244298987</td>\n      <td>271264003</td>\n      <td>-9.94</td>\n    </tr>\n    <tr>\n      <th>4</th>\n      <td>02</td>\n      <td>232953540</td>\n      <td>261305024</td>\n      <td>-10.85</td>\n    </tr>\n  </tbody>\n</table>\n</div>"
     },
     "metadata": {},
     "execution_count": 15
    }
   ],
   "source": [
    "query = \"\"\"\n",
    "SELECT\n",
    "    pls14.obereg,\n",
    "    SUM(pls14.visits) AS visits_2014,\n",
    "    SUM(pls09.visits) AS visits_2009,\n",
    "    ROUND( (CAST(SUM(pls14.visits) AS DECIMAL(10, 1)) - SUM(pls09.visits)) /\n",
    "        SUM(pls09.visits) * 100, 2) AS pct_change\n",
    "FROM pls_fy2014_pupld14a AS pls14\n",
    "JOIN pls_fy2009_pupld09a AS pls09\n",
    "    ON pls14.fscskey = pls09.fscskey\n",
    "WHERE pls14.visits >=0 AND pls09.visits >= 0\n",
    "GROUP BY pls14.obereg\n",
    "HAVING SUM(pls14.visits) > 50000000\n",
    "ORDER BY pct_change DESC\n",
    "LIMIT 5\n",
    ";\n",
    "\"\"\"\n",
    "\n",
    "execute_query(conn, query)"
   ]
  },
  {
   "source": [
    "3. Which join type will show you all the rows in both tables, including those without a match? Write such a query and add an IS NULL filter in a WHERE clause to show agencies not included in one or the other table.\n",
    "\n",
    "    A full outer join will show rows from both tables in a join, regardless of if they are matches. Below is a query that will show the agencies not included in one or the other table:"
   ],
   "cell_type": "markdown",
   "metadata": {}
  },
  {
   "cell_type": "code",
   "execution_count": 16,
   "metadata": {},
   "outputs": [
    {
     "output_type": "execute_result",
     "data": {
      "text/plain": [
       "   state_14 state_09\n",
       "0      None       TX\n",
       "1      None       NJ\n",
       "2      None       PR\n",
       "3      None       TX\n",
       "4      None       VT\n",
       "5      None       NC\n",
       "6      None       NE\n",
       "7      None       PR\n",
       "8      None       PR\n",
       "9      None       NH\n",
       "10     None       ND\n",
       "11     None       FL\n",
       "12     None       PA\n",
       "13     None       AK\n",
       "14     None       WI"
      ],
      "text/html": "<div>\n<style scoped>\n    .dataframe tbody tr th:only-of-type {\n        vertical-align: middle;\n    }\n\n    .dataframe tbody tr th {\n        vertical-align: top;\n    }\n\n    .dataframe thead th {\n        text-align: right;\n    }\n</style>\n<table border=\"1\" class=\"dataframe\">\n  <thead>\n    <tr style=\"text-align: right;\">\n      <th></th>\n      <th>state_14</th>\n      <th>state_09</th>\n    </tr>\n  </thead>\n  <tbody>\n    <tr>\n      <th>0</th>\n      <td>None</td>\n      <td>TX</td>\n    </tr>\n    <tr>\n      <th>1</th>\n      <td>None</td>\n      <td>NJ</td>\n    </tr>\n    <tr>\n      <th>2</th>\n      <td>None</td>\n      <td>PR</td>\n    </tr>\n    <tr>\n      <th>3</th>\n      <td>None</td>\n      <td>TX</td>\n    </tr>\n    <tr>\n      <th>4</th>\n      <td>None</td>\n      <td>VT</td>\n    </tr>\n    <tr>\n      <th>5</th>\n      <td>None</td>\n      <td>NC</td>\n    </tr>\n    <tr>\n      <th>6</th>\n      <td>None</td>\n      <td>NE</td>\n    </tr>\n    <tr>\n      <th>7</th>\n      <td>None</td>\n      <td>PR</td>\n    </tr>\n    <tr>\n      <th>8</th>\n      <td>None</td>\n      <td>PR</td>\n    </tr>\n    <tr>\n      <th>9</th>\n      <td>None</td>\n      <td>NH</td>\n    </tr>\n    <tr>\n      <th>10</th>\n      <td>None</td>\n      <td>ND</td>\n    </tr>\n    <tr>\n      <th>11</th>\n      <td>None</td>\n      <td>FL</td>\n    </tr>\n    <tr>\n      <th>12</th>\n      <td>None</td>\n      <td>PA</td>\n    </tr>\n    <tr>\n      <th>13</th>\n      <td>None</td>\n      <td>AK</td>\n    </tr>\n    <tr>\n      <th>14</th>\n      <td>None</td>\n      <td>WI</td>\n    </tr>\n  </tbody>\n</table>\n</div>"
     },
     "metadata": {},
     "execution_count": 16
    }
   ],
   "source": [
    "query = \"\"\"\n",
    "SELECT\n",
    "    pls14.stabr AS state_14,\n",
    "    pls09.stabr AS state_09\n",
    "FROM pls_fy2014_pupld14a AS pls14\n",
    "FULL OUTER JOIN pls_fy2009_pupld09a AS pls09\n",
    "    ON pls14.fscskey = pls09.fscskey\n",
    "WHERE pls14.stabr IS NULL OR pls09.stabr IS NULL\n",
    "ORDER BY pls14.stabr DESC\n",
    "LIMIT 15\n",
    ";\n",
    "\"\"\"\n",
    "\n",
    "execute_query(conn, query)"
   ]
  },
  {
   "source": [
    "## Chapte 9: Inspecting and Modifying Data\n",
    "\n",
    "Challenge Questions\n",
    "\n",
    "The following questions will use the meat_poultry_egg_inspect table to try and answer the following questions: how many of the plants in the table processs meat, and how many process poultry?\n",
    "\n",
    "1. Create two new columns called meat_processing and poultry_processing in your meat_poultry_egg_inspect table. Each can be of the type boolean.\n",
    "\n",
    "    The following queries should create two columns in our meat_poultry_egg_inspect table:\n",
    "\n",
    "        ALTER TABLE meat_poultry_egg_inspect ADD COLUMN meat_processing BOOLEAN;\n",
    "        ALTER TABLE meat_poultry_egg_inspect ADD COLUMN poultry_processing BOOLEAN;\n",
    "2. Using UPDATE, set meat_processing = TRUE on any row where the activities column contains the text \"Meat Processing\". Do the same update on the poultry processing column but this time look for the the text \"Poultry Processing\" in activities.\n",
    "\n",
    "    The following queries should make the updates to our table described above:"
   ],
   "cell_type": "markdown",
   "metadata": {}
  },
  {
   "cell_type": "code",
   "execution_count": 17,
   "metadata": {},
   "outputs": [
    {
     "output_type": "execute_result",
     "data": {
      "text/plain": [
       "              est_number                             company  \\\n",
       "0                  V3507  Zollinger Cold Storage Corporation   \n",
       "1                   V971                      Supervalu Inc.   \n",
       "2                  M1544                      J & M Meat Co.   \n",
       "3                 V45063       Del Rosario Enterprises, Inc.   \n",
       "4   M39910+P39910+V39910              Del Valle Brands, Inc.   \n",
       "5            M5536+P5536                   Banner Creek, LLC   \n",
       "6                 V27254                DeWied International   \n",
       "7            M6354+V6354                  E.L. Blood and Son   \n",
       "8                  M6867       Battaglia Distributing Co Inc   \n",
       "9                 V34628                     Frito Lay, Inc.   \n",
       "10                V18337                  A.N. Deringer Inc.   \n",
       "11                M48199          Bayou Barataria Foods, LLC   \n",
       "12                M34203   BDC Properties/Construction, Inc.   \n",
       "13                M34258           Beatrice Meat Company LLC   \n",
       "14           M6715+P6715         Beaver Street Fisheries Inc   \n",
       "15                M13400            Chapa's Fried Pork Skins   \n",
       "16                  M952                     BEF Foods, Inc.   \n",
       "17                M10103                     Berghorst Farms   \n",
       "18  M21293+P21293+V21293                     Bern Meat Plant   \n",
       "19         M10195+P10195               Bernthal Packing Inc.   \n",
       "\n",
       "                       street          city  st    zip           phone  \\\n",
       "0         699 West 1700 South         Logan  UT  84321  (801) 753-1134   \n",
       "1    1400 West Gadsden Street        Quincy  FL  32351  (850) 875-2600   \n",
       "2                 545 9th St.       Oakland  CA  94607  (510) 839-0380   \n",
       "3        7339 NW 79th Terrace        Medley  FL  33166  (786) 547-6813   \n",
       "4        7000 NW 33rf Terrace         Miami  FL  33122  (305) 592-8865   \n",
       "5            619 East 4th St.        Holton  KS  66436  (785) 364-3126   \n",
       "6              5010 East I-10   San Antonio  TX  78219  (210) 661-6161   \n",
       "7           94 W. Main Street   West Groton  MA  01472  (978) 448-6669   \n",
       "8        2545 S. Ashland Ave.       Chicago  IL  60608  (312) 738-1111   \n",
       "9         1886 Upper Maple St      Dayville  CT  06241  (860) 412-1000   \n",
       "10      178 West Service Road     Champlain  NY  12919  (518) 298-8281   \n",
       "11    2944 Jean Lafitte Blvd.       Lafitte  LA  70067  (504) 233-1150   \n",
       "12    10150 County Road W 116       Midland  TX  79706       432563629   \n",
       "13           2595 Grant Blvd.      Beatrice  AL  36425  (251) 575-4021   \n",
       "14          711 Robinson Ave.  Jacksonville  FL  32209  (904) 354-8533   \n",
       "15              720 W. Chapin      Edinburg  TX  78541  (800) 758-2092   \n",
       "16   200 North Wolcott Street     Hillsdale  MI  49242  (517) 437-3349   \n",
       "17  2255 South Baldwin Avenue       Fremont  MI  49412  (231) 924-0911   \n",
       "18                   411 Main          Bern  KS  66408  (785) 336-2165   \n",
       "19         9378 Junction Road   Frankenmuth  MI  48734  (989) 652-2648   \n",
       "\n",
       "    grant_date                                         activities  \\\n",
       "0   1990-02-27  Certification - Export, Identification - Meat,...   \n",
       "1   2011-09-16  Certification - Export, Identification - Meat,...   \n",
       "2   1982-05-24                                    Meat Processing   \n",
       "3   2016-12-09  Certification - Export, Identification - Meat,...   \n",
       "4   2011-08-02  Certification - Export, Identification - Meat,...   \n",
       "5   2011-09-29                    Meat Processing, Meat Slaughter   \n",
       "6   2009-06-25      Certification - Export, Identification - Meat   \n",
       "7   1998-08-28  Meat Slaughter, Voluntary Processing - Meat, V...   \n",
       "8   1985-01-10                                    Meat Processing   \n",
       "9   2008-03-17                              Identification - Meat   \n",
       "10  2016-08-17  Certification - Export, Identification - Meat,...   \n",
       "11  2016-07-07                                    Meat Processing   \n",
       "12  2008-03-27                                    Meat Processing   \n",
       "13  2007-08-23                                    Meat Processing   \n",
       "14  2016-03-09                                    Meat Processing   \n",
       "15  2013-06-17                                    Meat Processing   \n",
       "16  2011-11-15                    Meat Processing, Meat Slaughter   \n",
       "17  2004-07-28                                    Meat Processing   \n",
       "18  2000-11-06  Meat Processing, Meat Slaughter, Voluntary Pro...   \n",
       "19  2004-02-05                    Meat Processing, Meat Slaughter   \n",
       "\n",
       "                                                 dbas st_copy  \\\n",
       "0                                                None      UT   \n",
       "1                                                None      FL   \n",
       "2                                                None      CA   \n",
       "3                                                None      FL   \n",
       "4                                                None      FL   \n",
       "5   Cynthiana Farms; Johnsonville; Oldham's LLC; O...      KS   \n",
       "6                                                None      TX   \n",
       "7                             Blood Farm; Blood Farms      MA   \n",
       "8                                                None      IL   \n",
       "9                                                None      CT   \n",
       "10                                               None      NY   \n",
       "11                                               None      LA   \n",
       "12                Cox Marketing; TG's Wholesale Meats      TX   \n",
       "13                                               None      AL   \n",
       "14                                Beaver Street Foods      FL   \n",
       "15                                               None      TX   \n",
       "16                                               None      MI   \n",
       "17                                               None      MI   \n",
       "18                                               None      KS   \n",
       "19                                               None      MI   \n",
       "\n",
       "                      company_standard inspection_date reviewed_date  \\\n",
       "0   Zollinger Cold Storage Corporation            None    2018-02-07   \n",
       "1                       Supervalu Inc.            None    2018-02-07   \n",
       "2                       J & M Meat Co.            None    2018-02-07   \n",
       "3        Del Rosario Enterprises, Inc.            None    2018-02-07   \n",
       "4               Del Valle Brands, Inc.            None    2018-02-07   \n",
       "5                    Banner Creek, LLC            None    2018-02-07   \n",
       "6                 DeWied International            None    2018-02-07   \n",
       "7                   E.L. Blood and Son      2019-12-01    2018-02-07   \n",
       "8        Battaglia Distributing Co Inc            None    2018-02-07   \n",
       "9                      Frito Lay, Inc.      2019-12-01    2018-02-07   \n",
       "10                  A.N. Deringer Inc.            None    2018-02-07   \n",
       "11          Bayou Barataria Foods, LLC            None    2018-02-07   \n",
       "12   BDC Properties/Construction, Inc.            None    2018-02-07   \n",
       "13           Beatrice Meat Company LLC            None    2018-02-07   \n",
       "14         Beaver Street Fisheries Inc            None    2018-02-07   \n",
       "15            Chapa's Fried Pork Skins            None    2018-02-07   \n",
       "16                     BEF Foods, Inc.            None    2018-02-07   \n",
       "17                     Berghorst Farms            None    2018-02-07   \n",
       "18                     Bern Meat Plant            None    2018-02-07   \n",
       "19               Bernthal Packing Inc.            None    2018-02-07   \n",
       "\n",
       "   meat_processing poultry_processing  \n",
       "0             None               None  \n",
       "1             None               None  \n",
       "2             True               None  \n",
       "3             None               None  \n",
       "4             None               None  \n",
       "5             True               None  \n",
       "6             None               None  \n",
       "7             None               None  \n",
       "8             True               None  \n",
       "9             None               None  \n",
       "10            None               None  \n",
       "11            True               None  \n",
       "12            True               None  \n",
       "13            True               None  \n",
       "14            True               None  \n",
       "15            True               None  \n",
       "16            True               None  \n",
       "17            True               None  \n",
       "18            True               None  \n",
       "19            True               None  "
      ],
      "text/html": "<div>\n<style scoped>\n    .dataframe tbody tr th:only-of-type {\n        vertical-align: middle;\n    }\n\n    .dataframe tbody tr th {\n        vertical-align: top;\n    }\n\n    .dataframe thead th {\n        text-align: right;\n    }\n</style>\n<table border=\"1\" class=\"dataframe\">\n  <thead>\n    <tr style=\"text-align: right;\">\n      <th></th>\n      <th>est_number</th>\n      <th>company</th>\n      <th>street</th>\n      <th>city</th>\n      <th>st</th>\n      <th>zip</th>\n      <th>phone</th>\n      <th>grant_date</th>\n      <th>activities</th>\n      <th>dbas</th>\n      <th>st_copy</th>\n      <th>company_standard</th>\n      <th>inspection_date</th>\n      <th>reviewed_date</th>\n      <th>meat_processing</th>\n      <th>poultry_processing</th>\n    </tr>\n  </thead>\n  <tbody>\n    <tr>\n      <th>0</th>\n      <td>V3507</td>\n      <td>Zollinger Cold Storage Corporation</td>\n      <td>699 West 1700 South</td>\n      <td>Logan</td>\n      <td>UT</td>\n      <td>84321</td>\n      <td>(801) 753-1134</td>\n      <td>1990-02-27</td>\n      <td>Certification - Export, Identification - Meat,...</td>\n      <td>None</td>\n      <td>UT</td>\n      <td>Zollinger Cold Storage Corporation</td>\n      <td>None</td>\n      <td>2018-02-07</td>\n      <td>None</td>\n      <td>None</td>\n    </tr>\n    <tr>\n      <th>1</th>\n      <td>V971</td>\n      <td>Supervalu Inc.</td>\n      <td>1400 West Gadsden Street</td>\n      <td>Quincy</td>\n      <td>FL</td>\n      <td>32351</td>\n      <td>(850) 875-2600</td>\n      <td>2011-09-16</td>\n      <td>Certification - Export, Identification - Meat,...</td>\n      <td>None</td>\n      <td>FL</td>\n      <td>Supervalu Inc.</td>\n      <td>None</td>\n      <td>2018-02-07</td>\n      <td>None</td>\n      <td>None</td>\n    </tr>\n    <tr>\n      <th>2</th>\n      <td>M1544</td>\n      <td>J &amp; M Meat Co.</td>\n      <td>545 9th St.</td>\n      <td>Oakland</td>\n      <td>CA</td>\n      <td>94607</td>\n      <td>(510) 839-0380</td>\n      <td>1982-05-24</td>\n      <td>Meat Processing</td>\n      <td>None</td>\n      <td>CA</td>\n      <td>J &amp; M Meat Co.</td>\n      <td>None</td>\n      <td>2018-02-07</td>\n      <td>True</td>\n      <td>None</td>\n    </tr>\n    <tr>\n      <th>3</th>\n      <td>V45063</td>\n      <td>Del Rosario Enterprises, Inc.</td>\n      <td>7339 NW 79th Terrace</td>\n      <td>Medley</td>\n      <td>FL</td>\n      <td>33166</td>\n      <td>(786) 547-6813</td>\n      <td>2016-12-09</td>\n      <td>Certification - Export, Identification - Meat,...</td>\n      <td>None</td>\n      <td>FL</td>\n      <td>Del Rosario Enterprises, Inc.</td>\n      <td>None</td>\n      <td>2018-02-07</td>\n      <td>None</td>\n      <td>None</td>\n    </tr>\n    <tr>\n      <th>4</th>\n      <td>M39910+P39910+V39910</td>\n      <td>Del Valle Brands, Inc.</td>\n      <td>7000 NW 33rf Terrace</td>\n      <td>Miami</td>\n      <td>FL</td>\n      <td>33122</td>\n      <td>(305) 592-8865</td>\n      <td>2011-08-02</td>\n      <td>Certification - Export, Identification - Meat,...</td>\n      <td>None</td>\n      <td>FL</td>\n      <td>Del Valle Brands, Inc.</td>\n      <td>None</td>\n      <td>2018-02-07</td>\n      <td>None</td>\n      <td>None</td>\n    </tr>\n    <tr>\n      <th>5</th>\n      <td>M5536+P5536</td>\n      <td>Banner Creek, LLC</td>\n      <td>619 East 4th St.</td>\n      <td>Holton</td>\n      <td>KS</td>\n      <td>66436</td>\n      <td>(785) 364-3126</td>\n      <td>2011-09-29</td>\n      <td>Meat Processing, Meat Slaughter</td>\n      <td>Cynthiana Farms; Johnsonville; Oldham's LLC; O...</td>\n      <td>KS</td>\n      <td>Banner Creek, LLC</td>\n      <td>None</td>\n      <td>2018-02-07</td>\n      <td>True</td>\n      <td>None</td>\n    </tr>\n    <tr>\n      <th>6</th>\n      <td>V27254</td>\n      <td>DeWied International</td>\n      <td>5010 East I-10</td>\n      <td>San Antonio</td>\n      <td>TX</td>\n      <td>78219</td>\n      <td>(210) 661-6161</td>\n      <td>2009-06-25</td>\n      <td>Certification - Export, Identification - Meat</td>\n      <td>None</td>\n      <td>TX</td>\n      <td>DeWied International</td>\n      <td>None</td>\n      <td>2018-02-07</td>\n      <td>None</td>\n      <td>None</td>\n    </tr>\n    <tr>\n      <th>7</th>\n      <td>M6354+V6354</td>\n      <td>E.L. Blood and Son</td>\n      <td>94 W. Main Street</td>\n      <td>West Groton</td>\n      <td>MA</td>\n      <td>01472</td>\n      <td>(978) 448-6669</td>\n      <td>1998-08-28</td>\n      <td>Meat Slaughter, Voluntary Processing - Meat, V...</td>\n      <td>Blood Farm; Blood Farms</td>\n      <td>MA</td>\n      <td>E.L. Blood and Son</td>\n      <td>2019-12-01</td>\n      <td>2018-02-07</td>\n      <td>None</td>\n      <td>None</td>\n    </tr>\n    <tr>\n      <th>8</th>\n      <td>M6867</td>\n      <td>Battaglia Distributing Co Inc</td>\n      <td>2545 S. Ashland Ave.</td>\n      <td>Chicago</td>\n      <td>IL</td>\n      <td>60608</td>\n      <td>(312) 738-1111</td>\n      <td>1985-01-10</td>\n      <td>Meat Processing</td>\n      <td>None</td>\n      <td>IL</td>\n      <td>Battaglia Distributing Co Inc</td>\n      <td>None</td>\n      <td>2018-02-07</td>\n      <td>True</td>\n      <td>None</td>\n    </tr>\n    <tr>\n      <th>9</th>\n      <td>V34628</td>\n      <td>Frito Lay, Inc.</td>\n      <td>1886 Upper Maple St</td>\n      <td>Dayville</td>\n      <td>CT</td>\n      <td>06241</td>\n      <td>(860) 412-1000</td>\n      <td>2008-03-17</td>\n      <td>Identification - Meat</td>\n      <td>None</td>\n      <td>CT</td>\n      <td>Frito Lay, Inc.</td>\n      <td>2019-12-01</td>\n      <td>2018-02-07</td>\n      <td>None</td>\n      <td>None</td>\n    </tr>\n    <tr>\n      <th>10</th>\n      <td>V18337</td>\n      <td>A.N. Deringer Inc.</td>\n      <td>178 West Service Road</td>\n      <td>Champlain</td>\n      <td>NY</td>\n      <td>12919</td>\n      <td>(518) 298-8281</td>\n      <td>2016-08-17</td>\n      <td>Certification - Export, Identification - Meat,...</td>\n      <td>None</td>\n      <td>NY</td>\n      <td>A.N. Deringer Inc.</td>\n      <td>None</td>\n      <td>2018-02-07</td>\n      <td>None</td>\n      <td>None</td>\n    </tr>\n    <tr>\n      <th>11</th>\n      <td>M48199</td>\n      <td>Bayou Barataria Foods, LLC</td>\n      <td>2944 Jean Lafitte Blvd.</td>\n      <td>Lafitte</td>\n      <td>LA</td>\n      <td>70067</td>\n      <td>(504) 233-1150</td>\n      <td>2016-07-07</td>\n      <td>Meat Processing</td>\n      <td>None</td>\n      <td>LA</td>\n      <td>Bayou Barataria Foods, LLC</td>\n      <td>None</td>\n      <td>2018-02-07</td>\n      <td>True</td>\n      <td>None</td>\n    </tr>\n    <tr>\n      <th>12</th>\n      <td>M34203</td>\n      <td>BDC Properties/Construction, Inc.</td>\n      <td>10150 County Road W 116</td>\n      <td>Midland</td>\n      <td>TX</td>\n      <td>79706</td>\n      <td>432563629</td>\n      <td>2008-03-27</td>\n      <td>Meat Processing</td>\n      <td>Cox Marketing; TG's Wholesale Meats</td>\n      <td>TX</td>\n      <td>BDC Properties/Construction, Inc.</td>\n      <td>None</td>\n      <td>2018-02-07</td>\n      <td>True</td>\n      <td>None</td>\n    </tr>\n    <tr>\n      <th>13</th>\n      <td>M34258</td>\n      <td>Beatrice Meat Company LLC</td>\n      <td>2595 Grant Blvd.</td>\n      <td>Beatrice</td>\n      <td>AL</td>\n      <td>36425</td>\n      <td>(251) 575-4021</td>\n      <td>2007-08-23</td>\n      <td>Meat Processing</td>\n      <td>None</td>\n      <td>AL</td>\n      <td>Beatrice Meat Company LLC</td>\n      <td>None</td>\n      <td>2018-02-07</td>\n      <td>True</td>\n      <td>None</td>\n    </tr>\n    <tr>\n      <th>14</th>\n      <td>M6715+P6715</td>\n      <td>Beaver Street Fisheries Inc</td>\n      <td>711 Robinson Ave.</td>\n      <td>Jacksonville</td>\n      <td>FL</td>\n      <td>32209</td>\n      <td>(904) 354-8533</td>\n      <td>2016-03-09</td>\n      <td>Meat Processing</td>\n      <td>Beaver Street Foods</td>\n      <td>FL</td>\n      <td>Beaver Street Fisheries Inc</td>\n      <td>None</td>\n      <td>2018-02-07</td>\n      <td>True</td>\n      <td>None</td>\n    </tr>\n    <tr>\n      <th>15</th>\n      <td>M13400</td>\n      <td>Chapa's Fried Pork Skins</td>\n      <td>720 W. Chapin</td>\n      <td>Edinburg</td>\n      <td>TX</td>\n      <td>78541</td>\n      <td>(800) 758-2092</td>\n      <td>2013-06-17</td>\n      <td>Meat Processing</td>\n      <td>None</td>\n      <td>TX</td>\n      <td>Chapa's Fried Pork Skins</td>\n      <td>None</td>\n      <td>2018-02-07</td>\n      <td>True</td>\n      <td>None</td>\n    </tr>\n    <tr>\n      <th>16</th>\n      <td>M952</td>\n      <td>BEF Foods, Inc.</td>\n      <td>200 North Wolcott Street</td>\n      <td>Hillsdale</td>\n      <td>MI</td>\n      <td>49242</td>\n      <td>(517) 437-3349</td>\n      <td>2011-11-15</td>\n      <td>Meat Processing, Meat Slaughter</td>\n      <td>None</td>\n      <td>MI</td>\n      <td>BEF Foods, Inc.</td>\n      <td>None</td>\n      <td>2018-02-07</td>\n      <td>True</td>\n      <td>None</td>\n    </tr>\n    <tr>\n      <th>17</th>\n      <td>M10103</td>\n      <td>Berghorst Farms</td>\n      <td>2255 South Baldwin Avenue</td>\n      <td>Fremont</td>\n      <td>MI</td>\n      <td>49412</td>\n      <td>(231) 924-0911</td>\n      <td>2004-07-28</td>\n      <td>Meat Processing</td>\n      <td>None</td>\n      <td>MI</td>\n      <td>Berghorst Farms</td>\n      <td>None</td>\n      <td>2018-02-07</td>\n      <td>True</td>\n      <td>None</td>\n    </tr>\n    <tr>\n      <th>18</th>\n      <td>M21293+P21293+V21293</td>\n      <td>Bern Meat Plant</td>\n      <td>411 Main</td>\n      <td>Bern</td>\n      <td>KS</td>\n      <td>66408</td>\n      <td>(785) 336-2165</td>\n      <td>2000-11-06</td>\n      <td>Meat Processing, Meat Slaughter, Voluntary Pro...</td>\n      <td>None</td>\n      <td>KS</td>\n      <td>Bern Meat Plant</td>\n      <td>None</td>\n      <td>2018-02-07</td>\n      <td>True</td>\n      <td>None</td>\n    </tr>\n    <tr>\n      <th>19</th>\n      <td>M10195+P10195</td>\n      <td>Bernthal Packing Inc.</td>\n      <td>9378 Junction Road</td>\n      <td>Frankenmuth</td>\n      <td>MI</td>\n      <td>48734</td>\n      <td>(989) 652-2648</td>\n      <td>2004-02-05</td>\n      <td>Meat Processing, Meat Slaughter</td>\n      <td>None</td>\n      <td>MI</td>\n      <td>Bernthal Packing Inc.</td>\n      <td>None</td>\n      <td>2018-02-07</td>\n      <td>True</td>\n      <td>None</td>\n    </tr>\n  </tbody>\n</table>\n</div>"
     },
     "metadata": {},
     "execution_count": 17
    }
   ],
   "source": [
    "query = \"\"\"\n",
    "UPDATE meat_poultry_egg_inspect\n",
    "SET meat_processing = TRUE\n",
    "WHERE activities ILIKE '%Meat Processing%';\n",
    "\n",
    "UPDATE meat_poultry_egg_inspect\n",
    "SET poultry_processing = TRUE\n",
    "WHERE activities ILIKE '%Poultry Processing%';\n",
    "\n",
    "SELECT *\n",
    "FROM meat_poultry_egg_inspect\n",
    "LIMIT 20;\n",
    "\"\"\"\n",
    "\n",
    "execute_query(conn, query)"
   ]
  },
  {
   "source": [
    "3. Use the data from the new, update columns to count how many plants perform each type of activity. For a bonus activity, count how many plants perform both activities.\n",
    "\n",
    "    The following queries should give us the count of plants that process meat, poultry, or both:"
   ],
   "cell_type": "markdown",
   "metadata": {}
  },
  {
   "cell_type": "code",
   "execution_count": 18,
   "metadata": {},
   "outputs": [
    {
     "output_type": "execute_result",
     "data": {
      "text/plain": [
       "   count_of_meat_plants  count_of_poultry_plants\n",
       "0                  4764                     3728"
      ],
      "text/html": "<div>\n<style scoped>\n    .dataframe tbody tr th:only-of-type {\n        vertical-align: middle;\n    }\n\n    .dataframe tbody tr th {\n        vertical-align: top;\n    }\n\n    .dataframe thead th {\n        text-align: right;\n    }\n</style>\n<table border=\"1\" class=\"dataframe\">\n  <thead>\n    <tr style=\"text-align: right;\">\n      <th></th>\n      <th>count_of_meat_plants</th>\n      <th>count_of_poultry_plants</th>\n    </tr>\n  </thead>\n  <tbody>\n    <tr>\n      <th>0</th>\n      <td>4764</td>\n      <td>3728</td>\n    </tr>\n  </tbody>\n</table>\n</div>"
     },
     "metadata": {},
     "execution_count": 18
    }
   ],
   "source": [
    "query = \"\"\"\n",
    "SELECT \n",
    "    COUNT(meat_processing) AS count_of_meat_plants,\n",
    "    COUNT(poultry_processing) AS count_of_poultry_plants\n",
    "FROM meat_poultry_egg_inspect\n",
    "\"\"\"\n",
    "\n",
    "execute_query(conn, query)"
   ]
  },
  {
   "cell_type": "code",
   "execution_count": 19,
   "metadata": {},
   "outputs": [
    {
     "output_type": "execute_result",
     "data": {
      "text/plain": [
       "   plants_who_process_both\n",
       "0                     3338"
      ],
      "text/html": "<div>\n<style scoped>\n    .dataframe tbody tr th:only-of-type {\n        vertical-align: middle;\n    }\n\n    .dataframe tbody tr th {\n        vertical-align: top;\n    }\n\n    .dataframe thead th {\n        text-align: right;\n    }\n</style>\n<table border=\"1\" class=\"dataframe\">\n  <thead>\n    <tr style=\"text-align: right;\">\n      <th></th>\n      <th>plants_who_process_both</th>\n    </tr>\n  </thead>\n  <tbody>\n    <tr>\n      <th>0</th>\n      <td>3338</td>\n    </tr>\n  </tbody>\n</table>\n</div>"
     },
     "metadata": {},
     "execution_count": 19
    }
   ],
   "source": [
    "query = \"\"\"\n",
    "SELECT COUNT(*) as plants_who_process_both\n",
    "FROM meat_poultry_egg_inspect\n",
    "WHERE meat_processing = TRUE AND\n",
    "      poultry_processing = TRUE;\n",
    "\"\"\"\n",
    "\n",
    "execute_query(conn, query)"
   ]
  },
  {
   "cell_type": "code",
   "execution_count": null,
   "metadata": {},
   "outputs": [],
   "source": []
  }
 ]
}