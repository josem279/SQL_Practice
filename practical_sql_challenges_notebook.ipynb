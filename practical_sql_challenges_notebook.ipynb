{
 "metadata": {
  "language_info": {
   "codemirror_mode": {
    "name": "ipython",
    "version": 3
   },
   "file_extension": ".py",
   "mimetype": "text/x-python",
   "name": "python",
   "nbconvert_exporter": "python",
   "pygments_lexer": "ipython3",
   "version": "3.9.1-final"
  },
  "orig_nbformat": 2,
  "kernelspec": {
   "name": "python3",
   "display_name": "Python 3.9.1 64-bit",
   "metadata": {
    "interpreter": {
     "hash": "b5843a13e7131a14c3c0e364f0390d6592a995e3082c3f83420ac4385eeb2370"
    }
   }
  }
 },
 "nbformat": 4,
 "nbformat_minor": 2,
 "cells": [
  {
   "source": [
    "# Practical SQL\n",
    "\n",
    "This Jupyter notebook will display all SQL queries that I have created as answers to the challenge questions at the end of each chapter of the book \"Practical SQL: A Beginner's Guide To Storytelling With Data\" by Anthony DeBarros.\n",
    "\n",
    "The first part of this notebook will require us to import a couple of dependencies as well as personal data that will allow us to link out Jupyter Notebook to PostgreSQL."
   ],
   "cell_type": "markdown",
   "metadata": {}
  },
  {
   "cell_type": "code",
   "execution_count": 1,
   "metadata": {},
   "outputs": [],
   "source": [
    "import psycopg2\n",
    "import pandas as pd\n",
    "from sql_data import db, usr, pwd"
   ]
  },
  {
   "cell_type": "code",
   "execution_count": 2,
   "metadata": {},
   "outputs": [],
   "source": [
    "# Connecting to postgreSQL database\n",
    "conn = psycopg2.connect(\n",
    "    host = \"localhost\",\n",
    "    database = db,\n",
    "    user = usr,\n",
    "    password = pwd,\n",
    "    port = 5432\n",
    ")\n",
    "\n",
    "def execute_query(connection, query):\n",
    "    connection.autocommit = True\n",
    "    cursor = connection.cursor()\n",
    "    try:\n",
    "        cursor.execute(query)\n",
    "        results = cursor.fetchall()\n",
    "        column_names = [i[0] for i in cursor.description]\n",
    "        results = pd.DataFrame(results, columns= column_names)\n",
    "        return results\n",
    "        print(\"Query executed succesfully!\")\n",
    "        # Closing the cursor\n",
    "        cursor.close()\n",
    "        del cursor\n",
    "        # Closing the connection\n",
    "        connection.close()\n",
    "    except OperationalError as e:\n",
    "        print(f\"The error '{e}' occurred.\")      "
   ]
  },
  {
   "source": [
    "## Chapter 2: Beginning Data Exploration With Select\n",
    "\n",
    "Challenge Questions\n",
    "\n",
    "1. Write a query that lists the schools in alphabetical order along with teachers ordered by last name A-Z"
   ],
   "cell_type": "markdown",
   "metadata": {}
  },
  {
   "cell_type": "code",
   "execution_count": 3,
   "metadata": {},
   "outputs": [
    {
     "output_type": "execute_result",
     "data": {
      "text/plain": [
       "                school first_name last_name\n",
       "0    F.D. Rossevelt HS        Lee  Reynolds\n",
       "1    F.D. Rossevelt HS   Kathleen     Roush\n",
       "2    F.D. Rossevelt HS      Janet     Smith\n",
       "3  Myers Middle School   Samantha      Bush\n",
       "4  Myers Middle School     Samuel      Cole\n",
       "5  Myers Middle School      Betty      Diaz"
      ],
      "text/html": "<div>\n<style scoped>\n    .dataframe tbody tr th:only-of-type {\n        vertical-align: middle;\n    }\n\n    .dataframe tbody tr th {\n        vertical-align: top;\n    }\n\n    .dataframe thead th {\n        text-align: right;\n    }\n</style>\n<table border=\"1\" class=\"dataframe\">\n  <thead>\n    <tr style=\"text-align: right;\">\n      <th></th>\n      <th>school</th>\n      <th>first_name</th>\n      <th>last_name</th>\n    </tr>\n  </thead>\n  <tbody>\n    <tr>\n      <th>0</th>\n      <td>F.D. Rossevelt HS</td>\n      <td>Lee</td>\n      <td>Reynolds</td>\n    </tr>\n    <tr>\n      <th>1</th>\n      <td>F.D. Rossevelt HS</td>\n      <td>Kathleen</td>\n      <td>Roush</td>\n    </tr>\n    <tr>\n      <th>2</th>\n      <td>F.D. Rossevelt HS</td>\n      <td>Janet</td>\n      <td>Smith</td>\n    </tr>\n    <tr>\n      <th>3</th>\n      <td>Myers Middle School</td>\n      <td>Samantha</td>\n      <td>Bush</td>\n    </tr>\n    <tr>\n      <th>4</th>\n      <td>Myers Middle School</td>\n      <td>Samuel</td>\n      <td>Cole</td>\n    </tr>\n    <tr>\n      <th>5</th>\n      <td>Myers Middle School</td>\n      <td>Betty</td>\n      <td>Diaz</td>\n    </tr>\n  </tbody>\n</table>\n</div>"
     },
     "metadata": {},
     "execution_count": 3
    }
   ],
   "source": [
    "query = \"\"\"\n",
    "SELECT school, first_name, last_name\n",
    "FROM teachers\n",
    "ORDER BY school, last_name;\n",
    "\"\"\"\n",
    "\n",
    "execute_query(conn, query)"
   ]
  },
  {
   "source": [
    "2. Write a query that finds the one teacher whose first name starts with the letter S and who earns more that $40k\n"
   ],
   "cell_type": "markdown",
   "metadata": {}
  },
  {
   "cell_type": "code",
   "execution_count": 4,
   "metadata": {},
   "outputs": [
    {
     "output_type": "execute_result",
     "data": {
      "text/plain": [
       "   id first_name last_name               school   hire_date salary\n",
       "0   3     Samuel      Cole  Myers Middle School  2005-08-01  43500"
      ],
      "text/html": "<div>\n<style scoped>\n    .dataframe tbody tr th:only-of-type {\n        vertical-align: middle;\n    }\n\n    .dataframe tbody tr th {\n        vertical-align: top;\n    }\n\n    .dataframe thead th {\n        text-align: right;\n    }\n</style>\n<table border=\"1\" class=\"dataframe\">\n  <thead>\n    <tr style=\"text-align: right;\">\n      <th></th>\n      <th>id</th>\n      <th>first_name</th>\n      <th>last_name</th>\n      <th>school</th>\n      <th>hire_date</th>\n      <th>salary</th>\n    </tr>\n  </thead>\n  <tbody>\n    <tr>\n      <th>0</th>\n      <td>3</td>\n      <td>Samuel</td>\n      <td>Cole</td>\n      <td>Myers Middle School</td>\n      <td>2005-08-01</td>\n      <td>43500</td>\n    </tr>\n  </tbody>\n</table>\n</div>"
     },
     "metadata": {},
     "execution_count": 4
    }
   ],
   "source": [
    "query = \"\"\"\n",
    "SELECT *\n",
    "FROM teachers\n",
    "WHERE salary > 40000 AND\n",
    "\tfirst_name ILIKE 's%';\n",
    "\"\"\"\n",
    "\n",
    "execute_query(conn, query)"
   ]
  },
  {
   "source": [
    "3. Rank teachers hired since Jan 1, 2010, ordered by highest paid to lowest"
   ],
   "cell_type": "markdown",
   "metadata": {}
  },
  {
   "cell_type": "code",
   "execution_count": 5,
   "metadata": {},
   "outputs": [
    {
     "output_type": "execute_result",
     "data": {
      "text/plain": [
       "   id first_name last_name               school   hire_date salary\n",
       "0   6   Kathleen     Roush    F.D. Rossevelt HS  2010-10-22  38500\n",
       "1   1      Janet     Smith    F.D. Rossevelt HS  2011-10-30  36200\n",
       "2   4   Samantha      Bush  Myers Middle School  2011-10-30  36200"
      ],
      "text/html": "<div>\n<style scoped>\n    .dataframe tbody tr th:only-of-type {\n        vertical-align: middle;\n    }\n\n    .dataframe tbody tr th {\n        vertical-align: top;\n    }\n\n    .dataframe thead th {\n        text-align: right;\n    }\n</style>\n<table border=\"1\" class=\"dataframe\">\n  <thead>\n    <tr style=\"text-align: right;\">\n      <th></th>\n      <th>id</th>\n      <th>first_name</th>\n      <th>last_name</th>\n      <th>school</th>\n      <th>hire_date</th>\n      <th>salary</th>\n    </tr>\n  </thead>\n  <tbody>\n    <tr>\n      <th>0</th>\n      <td>6</td>\n      <td>Kathleen</td>\n      <td>Roush</td>\n      <td>F.D. Rossevelt HS</td>\n      <td>2010-10-22</td>\n      <td>38500</td>\n    </tr>\n    <tr>\n      <th>1</th>\n      <td>1</td>\n      <td>Janet</td>\n      <td>Smith</td>\n      <td>F.D. Rossevelt HS</td>\n      <td>2011-10-30</td>\n      <td>36200</td>\n    </tr>\n    <tr>\n      <th>2</th>\n      <td>4</td>\n      <td>Samantha</td>\n      <td>Bush</td>\n      <td>Myers Middle School</td>\n      <td>2011-10-30</td>\n      <td>36200</td>\n    </tr>\n  </tbody>\n</table>\n</div>"
     },
     "metadata": {},
     "execution_count": 5
    }
   ],
   "source": [
    "query = \"\"\"\n",
    "SELECT *\n",
    "FROM teachers\n",
    "WHERE hire_date >= '2010-01-01'\n",
    "ORDER BY salary DESC;\n",
    "\"\"\"\n",
    "\n",
    "execute_query(conn, query)"
   ]
  },
  {
   "source": [
    "## Chapter 3: Understanding Data Types\n",
    "\n",
    "Challenge Questions\n",
    "\n",
    "1. Your company delivers fruit and vegetables to local grocery stores, and you need to track the mileaage driven by each driver each day to a tenth of a mile. Assuming no driver would ever travel more that 999 miles in a day, what would be an appropriate data type for the mileage column in your table. Why?\n",
    "\n",
    "    Assuming we would only need to track to the nearest tenth of a mile and drivers never drive more than 999 miles, we would want a data type that reflects 4 significant figures. I would choose to use the NUMERIC data type with a precision of 4 and a scale of 1.\n",
    "\n",
    "2. In the table listing each driver in your company, what are appropriate data types for the drivers' first and last names? Why is it a good idea to separate firs and last names into two columns rather than having one larger name column?\n",
    "\n",
    "    I would choose the VARCHAR data type for the first and last name columns in my table with an ample amount of characters to suit the two fields - (15) and (30) respectively. This data type is best for minimizing space as it can go up to the indicated character count but if a first or last name does not have that many characters, the program will not pad/fill in the remaining values. It is not adviseable to combine both first and last names into one field for the purpose of saving space - the combined field may need to house extra characters like a space or comma to distinguish the two values - and because a combined field may make future queries harder to perform.\n",
    "\n",
    "3. Assume you have a text column that includes strings formatted as dates. One of the strings is written as '4//2017'. What will happen when you try to convert that string to the timestamp data type?\n",
    "\n",
    "    An ERROR message should pop up when trying to convert the text '4//2017' in to a TIMESTAMP as it is lacking the months and is not written in the format required by the TIMESTAMP data type - 'YYYY-MM-DD HH:MM:SS'."
   ],
   "cell_type": "markdown",
   "metadata": {}
  },
  {
   "source": [
    "## Chapter 4: Importing and Exporting Data"
   ],
   "cell_type": "markdown",
   "metadata": {}
  },
  {
   "source": [
    "Challenge Questions\n",
    "\n",
    "1. Write a WITH statement to include with COPY to handle the import of an imaginary text file whose first couple of rows look like this:"
   ],
   "cell_type": "markdown",
   "metadata": {}
  },
  {
   "cell_type": "code",
   "execution_count": 6,
   "metadata": {},
   "outputs": [],
   "source": [
    "# ---------\n",
    "# id:movie:actor\n",
    "# 50:#Mission: Impossible#:Tom Cruise\n",
    "# ---------"
   ]
  },
  {
   "source": [
    "\tCOPY example_table\n",
    "\tFROM 'C:/RandomDirectory/indicatedtextfile.txt'\n",
    "\tWITH (FORMAT CSV, HEADER, DELIMITER ':', QUOTE '#');\n",
    "\n",
    "\n",
    "2. Using the table us_counties_2010_ you created and filled in this chapter, export to a CSV file the 20 counties in the United States thathave the most housing units. Make sure you export only each county's name, state, and number of housing units.\n",
    "\n",
    "\n",
    "\tCOPY (\n",
    "\t\tSELECT geo_name, state_us_abbreviation, housing_unit_count\n",
    "\t\tFROM us_counties_2010\n",
    "\t\tORDER BY housing_unit_count DESC\n",
    "\t\tLIMIT 20\n",
    "\t)\n",
    "\tTO 'C:/RandomDirectory/housing_export.csv'\n",
    "\tWITH (FORMAT CSV, HEADER);\n",
    "\n",
    "3. Imagine you're importing a file that contains a column with these values:"
   ],
   "cell_type": "markdown",
   "metadata": {}
  },
  {
   "cell_type": "code",
   "execution_count": 7,
   "metadata": {},
   "outputs": [],
   "source": [
    "# ----\n",
    "# 17519.668\n",
    "# 20084.461\n",
    "# 18973.335\n",
    "# ----"
   ]
  },
  {
   "source": [
    "3. Will a column in your target table with data type NUMERIC(3,8) work for these values?\n",
    "\n",
    "    The data type NUMERIC(3,8) will not work as it has switched the precision and scale values. It should instead be NUMERIC(8,3) to indicate that there should be 8 total digits with only 3 of them being to the right of the decimal."
   ],
   "cell_type": "markdown",
   "metadata": {}
  },
  {
   "source": [
    "## Chapter 5: Basic Math And Stats With SQL\n",
    "\n",
    "Challenge Questions\n",
    "\n",
    "1. Write a SQL statement for calculating the area of a circle whose radius is 5 inches. Do you need parenthese in your calculation? Why or why not?\n"
   ],
   "cell_type": "markdown",
   "metadata": {}
  },
  {
   "cell_type": "code",
   "execution_count": 8,
   "metadata": {},
   "outputs": [
    {
     "output_type": "execute_result",
     "data": {
      "text/plain": [
       "   ?column?\n",
       "0      78.5"
      ],
      "text/html": "<div>\n<style scoped>\n    .dataframe tbody tr th:only-of-type {\n        vertical-align: middle;\n    }\n\n    .dataframe tbody tr th {\n        vertical-align: top;\n    }\n\n    .dataframe thead th {\n        text-align: right;\n    }\n</style>\n<table border=\"1\" class=\"dataframe\">\n  <thead>\n    <tr style=\"text-align: right;\">\n      <th></th>\n      <th>?column?</th>\n    </tr>\n  </thead>\n  <tbody>\n    <tr>\n      <th>0</th>\n      <td>78.5</td>\n    </tr>\n  </tbody>\n</table>\n</div>"
     },
     "metadata": {},
     "execution_count": 8
    }
   ],
   "source": [
    "query = \"\"\"\n",
    "SELECT 3.14 * (5 ^ 2);\n",
    "\"\"\"\n",
    "\n",
    "execute_query(conn, query)"
   ]
  },
  {
   "source": [
    "    Answer: In this case we do not need parentheses as order of operations will give exponents priority over multiplication. However, parentheses may help make the expression easier to understand.\n",
    "\n",
    "2. Using the  2010 Census county data, find out which New York state county has the highest percentage of the population that identified as \"American Indian/Alaska Native Alone\"."
   ],
   "cell_type": "markdown",
   "metadata": {}
  },
  {
   "cell_type": "code",
   "execution_count": 9,
   "metadata": {},
   "outputs": [
    {
     "output_type": "execute_result",
     "data": {
      "text/plain": [
       "            county state_us_abbreviation  total_population  \\\n",
       "0  Franklin County                    NY             51599   \n",
       "\n",
       "   american_indian_alaska_native_alone     pct_american_indian  \n",
       "0                                 3797  7.35866974166166011000  "
      ],
      "text/html": "<div>\n<style scoped>\n    .dataframe tbody tr th:only-of-type {\n        vertical-align: middle;\n    }\n\n    .dataframe tbody tr th {\n        vertical-align: top;\n    }\n\n    .dataframe thead th {\n        text-align: right;\n    }\n</style>\n<table border=\"1\" class=\"dataframe\">\n  <thead>\n    <tr style=\"text-align: right;\">\n      <th></th>\n      <th>county</th>\n      <th>state_us_abbreviation</th>\n      <th>total_population</th>\n      <th>american_indian_alaska_native_alone</th>\n      <th>pct_american_indian</th>\n    </tr>\n  </thead>\n  <tbody>\n    <tr>\n      <th>0</th>\n      <td>Franklin County</td>\n      <td>NY</td>\n      <td>51599</td>\n      <td>3797</td>\n      <td>7.35866974166166011000</td>\n    </tr>\n  </tbody>\n</table>\n</div>"
     },
     "metadata": {},
     "execution_count": 9
    }
   ],
   "source": [
    "query = \"\"\"\n",
    "SELECT geo_name AS County,\n",
    "\tstate_us_abbreviation,\n",
    "\tp0010001 AS total_population,\n",
    "\tp0010005 AS american_indian_alaska_native_alone,\n",
    "\t(CAST(p0010005 AS NUMERIC(8,1)) / p0010001) * 100 AS Pct_American_Indian\n",
    "FROM us_counties_2010\n",
    "WHERE state_us_abbreviation = 'NY'\n",
    "ORDER BY Pct_American_Indian DESC\n",
    "LIMIT 1;\n",
    "\"\"\"\n",
    "\n",
    "execute_query(conn, query)"
   ]
  },
  {
   "source": [
    "3. Was the 2010 median county population higher in California or New York\n"
   ],
   "cell_type": "markdown",
   "metadata": {}
  },
  {
   "cell_type": "code",
   "execution_count": 10,
   "metadata": {},
   "outputs": [
    {
     "output_type": "execute_result",
     "data": {
      "text/plain": [
       "  State    Median\n",
       "0    CA  179140.5\n",
       "1    NY   91301.0"
      ],
      "text/html": "<div>\n<style scoped>\n    .dataframe tbody tr th:only-of-type {\n        vertical-align: middle;\n    }\n\n    .dataframe tbody tr th {\n        vertical-align: top;\n    }\n\n    .dataframe thead th {\n        text-align: right;\n    }\n</style>\n<table border=\"1\" class=\"dataframe\">\n  <thead>\n    <tr style=\"text-align: right;\">\n      <th></th>\n      <th>State</th>\n      <th>Median</th>\n    </tr>\n  </thead>\n  <tbody>\n    <tr>\n      <th>0</th>\n      <td>CA</td>\n      <td>179140.5</td>\n    </tr>\n    <tr>\n      <th>1</th>\n      <td>NY</td>\n      <td>91301.0</td>\n    </tr>\n  </tbody>\n</table>\n</div>"
     },
     "metadata": {},
     "execution_count": 10
    }
   ],
   "source": [
    "query = \"\"\"\n",
    "SELECT state_us_abbreviation AS \"State\",\n",
    "       percentile_cont(0.5)\n",
    "\t   WITHIN GROUP (ORDER BY p0010001) AS \"Median\"\n",
    "FROM us_counties_2010\n",
    "WHERE state_us_abbreviation IN ('NY', 'CA')\n",
    "GROUP BY state_us_abbreviation;\n",
    "\"\"\"\n",
    "\n",
    "execute_query(conn, query)"
   ]
  },
  {
   "source": [
    "     Answer: Based on the output from the query above, California had a higher median county population than New York - 179,140.5 to 91,301 respectively."
   ],
   "cell_type": "markdown",
   "metadata": {}
  },
  {
   "source": [
    "## Chapter 6: Joining Tables in a Relational Database\n",
    "\n",
    "Challenge Questions\n",
    "\n",
    "1. The table us_counties_2010 contains 3143 rows, and us_counties_2000 has 3141. That reflects the ongoing adjustments to county level geographies that typically result from government decision making. Using appropriate joins and the NULL value, identify which counties don't exist in both tables.\n"
   ],
   "cell_type": "markdown",
   "metadata": {}
  },
  {
   "cell_type": "code",
   "execution_count": 11,
   "metadata": {},
   "outputs": [
    {
     "output_type": "execute_result",
     "data": {
      "text/plain": [
       "                              county state_us_abbreviation geo_name\n",
       "0          Hoonah-Angoon Census Area                    AK     None\n",
       "1             Petersburg Census Area                    AK     None\n",
       "2  Prince of Wales-Hyder Census Area                    AK     None\n",
       "3               Skagway Municipality                    AK     None\n",
       "4          Wrangell City and Borough                    AK     None\n",
       "5                  Broomfield County                    CO     None"
      ],
      "text/html": "<div>\n<style scoped>\n    .dataframe tbody tr th:only-of-type {\n        vertical-align: middle;\n    }\n\n    .dataframe tbody tr th {\n        vertical-align: top;\n    }\n\n    .dataframe thead th {\n        text-align: right;\n    }\n</style>\n<table border=\"1\" class=\"dataframe\">\n  <thead>\n    <tr style=\"text-align: right;\">\n      <th></th>\n      <th>county</th>\n      <th>state_us_abbreviation</th>\n      <th>geo_name</th>\n    </tr>\n  </thead>\n  <tbody>\n    <tr>\n      <th>0</th>\n      <td>Hoonah-Angoon Census Area</td>\n      <td>AK</td>\n      <td>None</td>\n    </tr>\n    <tr>\n      <th>1</th>\n      <td>Petersburg Census Area</td>\n      <td>AK</td>\n      <td>None</td>\n    </tr>\n    <tr>\n      <th>2</th>\n      <td>Prince of Wales-Hyder Census Area</td>\n      <td>AK</td>\n      <td>None</td>\n    </tr>\n    <tr>\n      <th>3</th>\n      <td>Skagway Municipality</td>\n      <td>AK</td>\n      <td>None</td>\n    </tr>\n    <tr>\n      <th>4</th>\n      <td>Wrangell City and Borough</td>\n      <td>AK</td>\n      <td>None</td>\n    </tr>\n    <tr>\n      <th>5</th>\n      <td>Broomfield County</td>\n      <td>CO</td>\n      <td>None</td>\n    </tr>\n  </tbody>\n</table>\n</div>"
     },
     "metadata": {},
     "execution_count": 11
    }
   ],
   "source": [
    "# Answer: The following query reveals that there are 5 counties from Alaska along with Broomfield county are not present in both tables.\n",
    "\n",
    "query = \"\"\"\n",
    "SELECT\n",
    "\tten.geo_name AS county,\n",
    "\tten. state_us_abbreviation,\n",
    "\ttwok.geo_name\n",
    "FROM us_counties_2010 AS ten\n",
    "LEFT JOIN us_counties_2000 AS twok\n",
    "ON ten.state_fips = twok.state_fips\n",
    "\tAND ten.county_fips = twok.county_fips\n",
    "WHERE twok.geo_name IS NULL;\n",
    "\"\"\"\n",
    "\n",
    "execute_query(conn, query)"
   ]
  },
  {
   "source": [
    "2. Using either the median() or precentile_cont() functions, determine the median of the percent change in county population.\n"
   ],
   "cell_type": "markdown",
   "metadata": {}
  },
  {
   "cell_type": "code",
   "execution_count": 12,
   "metadata": {},
   "outputs": [
    {
     "output_type": "execute_result",
     "data": {
      "text/plain": [
       "   median_pop_change\n",
       "0                3.2"
      ],
      "text/html": "<div>\n<style scoped>\n    .dataframe tbody tr th:only-of-type {\n        vertical-align: middle;\n    }\n\n    .dataframe tbody tr th {\n        vertical-align: top;\n    }\n\n    .dataframe thead th {\n        text-align: right;\n    }\n</style>\n<table border=\"1\" class=\"dataframe\">\n  <thead>\n    <tr style=\"text-align: right;\">\n      <th></th>\n      <th>median_pop_change</th>\n    </tr>\n  </thead>\n  <tbody>\n    <tr>\n      <th>0</th>\n      <td>3.2</td>\n    </tr>\n  </tbody>\n</table>\n</div>"
     },
     "metadata": {},
     "execution_count": 12
    }
   ],
   "source": [
    "query = \"\"\"\n",
    "SELECT\n",
    "\tPERCENTILE_CONT(.5) WITHIN GROUP (ORDER BY (ROUND((CAST(ten.p0010001 AS NUMERIC(8,1)) - twok.p0010001) / twok.p0010001 * 100, 1))) AS median_pop_change\n",
    "FROM us_counties_2010 AS ten\n",
    "JOIN us_counties_2000 AS twok\n",
    "ON ten.state_fips = twok.state_fips\n",
    "\tAND ten.county_fips = twok.county_fips;\n",
    "\"\"\"\n",
    "\n",
    "execute_query(conn, query)"
   ]
  },
  {
   "source": [
    "3. Which county had the greates percentage loss of population between 2000 and 2010?"
   ],
   "cell_type": "markdown",
   "metadata": {}
  },
  {
   "cell_type": "code",
   "execution_count": 13,
   "metadata": {},
   "outputs": [
    {
     "output_type": "execute_result",
     "data": {
      "text/plain": [
       "                  county state_us_abbreviation  pop_2010  pop_2000  \\\n",
       "0     St. Bernard Parish                    LA     35897     67229   \n",
       "1         Kalawao County                    HI        90       147   \n",
       "2       Issaquena County                    MS      1406      2274   \n",
       "3         Cameron Parish                    LA      6839      9991   \n",
       "4         Orleans Parish                    LA    343829    484674   \n",
       "...                  ...                   ...       ...       ...   \n",
       "3132      Loudoun County                    VA    312311    169599   \n",
       "3133      Lincoln County                    SD     44828     24131   \n",
       "3134      Flagler County                    FL     95696     49832   \n",
       "3135        Pinal County                    AZ    375770    179727   \n",
       "3136      Kendall County                    IL    114736     54544   \n",
       "\n",
       "      raw_change pct_change  \n",
       "0         -31332      -46.6  \n",
       "1            -57      -38.8  \n",
       "2           -868      -38.2  \n",
       "3          -3152      -31.5  \n",
       "4        -140845      -29.1  \n",
       "...          ...        ...  \n",
       "3132      142712       84.1  \n",
       "3133       20697       85.8  \n",
       "3134       45864       92.0  \n",
       "3135      196043      109.1  \n",
       "3136       60192      110.4  \n",
       "\n",
       "[3137 rows x 6 columns]"
      ],
      "text/html": "<div>\n<style scoped>\n    .dataframe tbody tr th:only-of-type {\n        vertical-align: middle;\n    }\n\n    .dataframe tbody tr th {\n        vertical-align: top;\n    }\n\n    .dataframe thead th {\n        text-align: right;\n    }\n</style>\n<table border=\"1\" class=\"dataframe\">\n  <thead>\n    <tr style=\"text-align: right;\">\n      <th></th>\n      <th>county</th>\n      <th>state_us_abbreviation</th>\n      <th>pop_2010</th>\n      <th>pop_2000</th>\n      <th>raw_change</th>\n      <th>pct_change</th>\n    </tr>\n  </thead>\n  <tbody>\n    <tr>\n      <th>0</th>\n      <td>St. Bernard Parish</td>\n      <td>LA</td>\n      <td>35897</td>\n      <td>67229</td>\n      <td>-31332</td>\n      <td>-46.6</td>\n    </tr>\n    <tr>\n      <th>1</th>\n      <td>Kalawao County</td>\n      <td>HI</td>\n      <td>90</td>\n      <td>147</td>\n      <td>-57</td>\n      <td>-38.8</td>\n    </tr>\n    <tr>\n      <th>2</th>\n      <td>Issaquena County</td>\n      <td>MS</td>\n      <td>1406</td>\n      <td>2274</td>\n      <td>-868</td>\n      <td>-38.2</td>\n    </tr>\n    <tr>\n      <th>3</th>\n      <td>Cameron Parish</td>\n      <td>LA</td>\n      <td>6839</td>\n      <td>9991</td>\n      <td>-3152</td>\n      <td>-31.5</td>\n    </tr>\n    <tr>\n      <th>4</th>\n      <td>Orleans Parish</td>\n      <td>LA</td>\n      <td>343829</td>\n      <td>484674</td>\n      <td>-140845</td>\n      <td>-29.1</td>\n    </tr>\n    <tr>\n      <th>...</th>\n      <td>...</td>\n      <td>...</td>\n      <td>...</td>\n      <td>...</td>\n      <td>...</td>\n      <td>...</td>\n    </tr>\n    <tr>\n      <th>3132</th>\n      <td>Loudoun County</td>\n      <td>VA</td>\n      <td>312311</td>\n      <td>169599</td>\n      <td>142712</td>\n      <td>84.1</td>\n    </tr>\n    <tr>\n      <th>3133</th>\n      <td>Lincoln County</td>\n      <td>SD</td>\n      <td>44828</td>\n      <td>24131</td>\n      <td>20697</td>\n      <td>85.8</td>\n    </tr>\n    <tr>\n      <th>3134</th>\n      <td>Flagler County</td>\n      <td>FL</td>\n      <td>95696</td>\n      <td>49832</td>\n      <td>45864</td>\n      <td>92.0</td>\n    </tr>\n    <tr>\n      <th>3135</th>\n      <td>Pinal County</td>\n      <td>AZ</td>\n      <td>375770</td>\n      <td>179727</td>\n      <td>196043</td>\n      <td>109.1</td>\n    </tr>\n    <tr>\n      <th>3136</th>\n      <td>Kendall County</td>\n      <td>IL</td>\n      <td>114736</td>\n      <td>54544</td>\n      <td>60192</td>\n      <td>110.4</td>\n    </tr>\n  </tbody>\n</table>\n<p>3137 rows × 6 columns</p>\n</div>"
     },
     "metadata": {},
     "execution_count": 13
    }
   ],
   "source": [
    "# Answer: The following query shows that St. Bernard Parish had the greatese population loss.\n",
    "\n",
    "query = \"\"\"\n",
    "SELECT c2010.geo_name AS County,\n",
    "       c2010.state_us_abbreviation,\n",
    "       c2010.p0010001 AS pop_2010,\n",
    "       c2000.p0010001 AS pop_2000,\n",
    "       c2010.p0010001 - c2000.p0010001 AS raw_change,\n",
    "       round( (CAST(c2010.p0010001 AS DECIMAL(8,1)) - c2000.p0010001)\n",
    "           / c2000.p0010001 * 100, 1 ) AS pct_change\n",
    "FROM us_counties_2010 c2010 INNER JOIN us_counties_2000 c2000\n",
    "ON c2010.state_fips = c2000.state_fips\n",
    "   AND c2010.county_fips = c2000.county_fips\n",
    "ORDER BY pct_change ASC;\n",
    "\"\"\"\n",
    "\n",
    "execute_query(conn, query)"
   ]
  },
  {
   "source": [
    "## Chapter 7: Table Design That Works For You\n",
    "\n",
    "    CREATE TABLE albums (\n",
    "        album_id bigserial,\n",
    "        album_catalog_code varchar(100),\n",
    "        album_title text,\n",
    "        album_artist text,\n",
    "        album_time interval,\n",
    "        album_release_date date,\n",
    "        album_genre varchar(40),\n",
    "        album_description text\n",
    "    );\n",
    "\n",
    "    CREATE TABLE songs (\n",
    "        song_id bigserial,\n",
    "        song_title text,\n",
    "        song_artist text,\n",
    "        album_id bigint\n",
    "    );\n",
    "\n",
    "Use the tables to answer these questions:\n",
    "\n",
    "1. Modify these CREATE TABLE statements to include primary and foreign keys plus additional constraints on both tables.\n",
    "\n",
    "    Answer: \n",
    "    \n",
    "    CREATE TABLE albums (\n",
    "        album_id bigserial,\n",
    "        album_catalog_code varchar(80) NOT NULL,\n",
    "        album_title text NOT NULL,\n",
    "        album_artist text NOT NULL,\n",
    "        album_release_date date,\n",
    "        album_genre varchar(30),\n",
    "        album_description text,\n",
    "        CONSTRAINT album_id_key PRIMARY KEY (album_id),\n",
    "        CONSTRAINT release_date_check CHECK (album_release_date > '1/1/1925')\n",
    "    );\n",
    "\n",
    "    CREATE TABLE songs (\n",
    "        song_id bigserial,\n",
    "        song_title text NOT NULL,\n",
    "        song_artist text NOT NULL,\n",
    "        album_id bigint REFERENCES albums (album_id),\n",
    "        CONSTRAINT song_id_key PRIMARY KEY (song_id)\n",
    ");\n",
    "\n",
    "2. Instead of using column_id as a surrogate key for your primary key, are there any columns in albums that could be useful as a natural key? What would you have to know to decide?\n",
    "\n",
    "    Answer: \n",
    "    \n",
    "    Album_catalogue_code may be a viable primary key however we would have to know if it is unique across multiple companies or if it is always provided.\n",
    "\n",
    "\n",
    "3. To speed up queries, which columns are good candidates for indexes?\n",
    "\n",
    "    Answer: \n",
    "    \n",
    "    Any column that is designated as a primary key should be indexed and so should columns used as foreign keys. In these tables, we should consider indexing the album_id, titles, artists, and album_release_date columns."
   ],
   "cell_type": "markdown",
   "metadata": {}
  },
  {
   "source": [
    "## Chapter 8: Extracting Information By Grouping and Summarizing\n",
    "\n",
    "Challenge Questions\n",
    "\n",
    "1. What is the pattern in the use of technology in libraries? Both the 2014 and 2009 survey tables contain the columns gpterms and pitusr. Write code to calculate the percent change in the sum of each column over time. Watch out for negative values"
   ],
   "cell_type": "markdown",
   "metadata": {}
  },
  {
   "cell_type": "code",
   "execution_count": 14,
   "metadata": {},
   "outputs": [
    {
     "output_type": "execute_result",
     "data": {
      "text/plain": [
       "  stabr  gpterms_2014  gpterms_2009 pct_change_gpterms  pitusr_2014  \\\n",
       "0    GU           547            59             827.12        39842   \n",
       "1    DC          1000           594              68.35      1050623   \n",
       "2    AK           994           618              60.84       771075   \n",
       "3    DE           772           487              58.52       622515   \n",
       "4    ID          1792          1151              55.69      1878131   \n",
       "\n",
       "   pitusr_2009 pct_change_pitusr  \n",
       "0        19564            103.65  \n",
       "1       140251            649.10  \n",
       "2      1061498            -27.36  \n",
       "3       451689             37.82  \n",
       "4      1986141             -5.44  "
      ],
      "text/html": "<div>\n<style scoped>\n    .dataframe tbody tr th:only-of-type {\n        vertical-align: middle;\n    }\n\n    .dataframe tbody tr th {\n        vertical-align: top;\n    }\n\n    .dataframe thead th {\n        text-align: right;\n    }\n</style>\n<table border=\"1\" class=\"dataframe\">\n  <thead>\n    <tr style=\"text-align: right;\">\n      <th></th>\n      <th>stabr</th>\n      <th>gpterms_2014</th>\n      <th>gpterms_2009</th>\n      <th>pct_change_gpterms</th>\n      <th>pitusr_2014</th>\n      <th>pitusr_2009</th>\n      <th>pct_change_pitusr</th>\n    </tr>\n  </thead>\n  <tbody>\n    <tr>\n      <th>0</th>\n      <td>GU</td>\n      <td>547</td>\n      <td>59</td>\n      <td>827.12</td>\n      <td>39842</td>\n      <td>19564</td>\n      <td>103.65</td>\n    </tr>\n    <tr>\n      <th>1</th>\n      <td>DC</td>\n      <td>1000</td>\n      <td>594</td>\n      <td>68.35</td>\n      <td>1050623</td>\n      <td>140251</td>\n      <td>649.10</td>\n    </tr>\n    <tr>\n      <th>2</th>\n      <td>AK</td>\n      <td>994</td>\n      <td>618</td>\n      <td>60.84</td>\n      <td>771075</td>\n      <td>1061498</td>\n      <td>-27.36</td>\n    </tr>\n    <tr>\n      <th>3</th>\n      <td>DE</td>\n      <td>772</td>\n      <td>487</td>\n      <td>58.52</td>\n      <td>622515</td>\n      <td>451689</td>\n      <td>37.82</td>\n    </tr>\n    <tr>\n      <th>4</th>\n      <td>ID</td>\n      <td>1792</td>\n      <td>1151</td>\n      <td>55.69</td>\n      <td>1878131</td>\n      <td>1986141</td>\n      <td>-5.44</td>\n    </tr>\n  </tbody>\n</table>\n</div>"
     },
     "metadata": {},
     "execution_count": 14
    }
   ],
   "source": [
    "# Answer the following query should return the pct change in gpterms and pitusr\n",
    "query = \"\"\"\n",
    "SELECT\n",
    "    pls14.stabr,\n",
    "    SUM(pls14.gpterms) AS gpterms_2014,\n",
    "    SUM(pls09.gpterms) AS gpterms_2009,\n",
    "    ROUND( (CAST(SUM(pls14.gpterms) AS DECIMAL(10, 1)) - SUM(pls09.gpterms)) /\n",
    "        SUM(pls09.gpterms) * 100, 2) AS pct_change_gpterms,\n",
    "    SUM(pls14.pitusr) AS pitusr_2014,\n",
    "    SUM(pls09.pitusr) AS pitusr_2009,\n",
    "    ROUND( (CAST(SUM(pls14.pitusr) AS DECIMAL(10, 1)) - SUM(pls09.pitusr)) /\n",
    "        SUM(pls09.pitusr) * 100, 2) AS pct_change_pitusr\n",
    "FROM pls_fy2014_pupld14a AS pls14\n",
    "JOIN pls_fy2009_pupld09a AS pls09\n",
    "    ON pls14.fscskey = pls09.fscskey\n",
    "WHERE pls14.gpterms >=0 AND pls09.gpterms >= 0 AND pls14.pitusr >=0 AND pls09.pitusr >= 0\n",
    "GROUP BY pls14.stabr\n",
    "ORDER BY pct_change_gpterms DESC, pct_change_pitusr DESC\n",
    "LIMIT 5\n",
    ";\n",
    "\"\"\"\n",
    "\n",
    "execute_query(conn, query)"
   ]
  },
  {
   "source": [
    "2. Both library survey tables contain a column called obereg. Just as we calculated the percent change in visits grouped by state, do the same to group percent changes in visits by U.S. region using obereg. "
   ],
   "cell_type": "markdown",
   "metadata": {}
  },
  {
   "cell_type": "code",
   "execution_count": 15,
   "metadata": {},
   "outputs": [
    {
     "output_type": "execute_result",
     "data": {
      "text/plain": [
       "  obereg  visits_2014  visits_2009 pct_change\n",
       "0     07     67482370     68703182      -1.78\n",
       "1     01     87441083     92090682      -5.05\n",
       "2     04    100458571    110484975      -9.07\n",
       "3     08    244298987    271264003      -9.94\n",
       "4     02    232953540    261305024     -10.85"
      ],
      "text/html": "<div>\n<style scoped>\n    .dataframe tbody tr th:only-of-type {\n        vertical-align: middle;\n    }\n\n    .dataframe tbody tr th {\n        vertical-align: top;\n    }\n\n    .dataframe thead th {\n        text-align: right;\n    }\n</style>\n<table border=\"1\" class=\"dataframe\">\n  <thead>\n    <tr style=\"text-align: right;\">\n      <th></th>\n      <th>obereg</th>\n      <th>visits_2014</th>\n      <th>visits_2009</th>\n      <th>pct_change</th>\n    </tr>\n  </thead>\n  <tbody>\n    <tr>\n      <th>0</th>\n      <td>07</td>\n      <td>67482370</td>\n      <td>68703182</td>\n      <td>-1.78</td>\n    </tr>\n    <tr>\n      <th>1</th>\n      <td>01</td>\n      <td>87441083</td>\n      <td>92090682</td>\n      <td>-5.05</td>\n    </tr>\n    <tr>\n      <th>2</th>\n      <td>04</td>\n      <td>100458571</td>\n      <td>110484975</td>\n      <td>-9.07</td>\n    </tr>\n    <tr>\n      <th>3</th>\n      <td>08</td>\n      <td>244298987</td>\n      <td>271264003</td>\n      <td>-9.94</td>\n    </tr>\n    <tr>\n      <th>4</th>\n      <td>02</td>\n      <td>232953540</td>\n      <td>261305024</td>\n      <td>-10.85</td>\n    </tr>\n  </tbody>\n</table>\n</div>"
     },
     "metadata": {},
     "execution_count": 15
    }
   ],
   "source": [
    "query = \"\"\"\n",
    "SELECT\n",
    "    pls14.obereg,\n",
    "    SUM(pls14.visits) AS visits_2014,\n",
    "    SUM(pls09.visits) AS visits_2009,\n",
    "    ROUND( (CAST(SUM(pls14.visits) AS DECIMAL(10, 1)) - SUM(pls09.visits)) /\n",
    "        SUM(pls09.visits) * 100, 2) AS pct_change\n",
    "FROM pls_fy2014_pupld14a AS pls14\n",
    "JOIN pls_fy2009_pupld09a AS pls09\n",
    "    ON pls14.fscskey = pls09.fscskey\n",
    "WHERE pls14.visits >=0 AND pls09.visits >= 0\n",
    "GROUP BY pls14.obereg\n",
    "HAVING SUM(pls14.visits) > 50000000\n",
    "ORDER BY pct_change DESC\n",
    "LIMIT 5\n",
    ";\n",
    "\"\"\"\n",
    "\n",
    "execute_query(conn, query)"
   ]
  },
  {
   "source": [
    "3. Which join type will show you all the rows in both tables, including those without a match? Write such a query and add an IS NULL filter in a WHERE clause to show agencies not included in one or the other table.\n",
    "\n",
    "    A full outer join will show rows from both tables in a join, regardless of if they are matches. Below is a query that will show the agencies not included in one or the other table:"
   ],
   "cell_type": "markdown",
   "metadata": {}
  },
  {
   "cell_type": "code",
   "execution_count": 16,
   "metadata": {},
   "outputs": [
    {
     "output_type": "execute_result",
     "data": {
      "text/plain": [
       "   state_14 state_09\n",
       "0      None       TX\n",
       "1      None       NJ\n",
       "2      None       PR\n",
       "3      None       TX\n",
       "4      None       VT\n",
       "5      None       NC\n",
       "6      None       NE\n",
       "7      None       PR\n",
       "8      None       PR\n",
       "9      None       NH\n",
       "10     None       ND\n",
       "11     None       FL\n",
       "12     None       PA\n",
       "13     None       AK\n",
       "14     None       WI"
      ],
      "text/html": "<div>\n<style scoped>\n    .dataframe tbody tr th:only-of-type {\n        vertical-align: middle;\n    }\n\n    .dataframe tbody tr th {\n        vertical-align: top;\n    }\n\n    .dataframe thead th {\n        text-align: right;\n    }\n</style>\n<table border=\"1\" class=\"dataframe\">\n  <thead>\n    <tr style=\"text-align: right;\">\n      <th></th>\n      <th>state_14</th>\n      <th>state_09</th>\n    </tr>\n  </thead>\n  <tbody>\n    <tr>\n      <th>0</th>\n      <td>None</td>\n      <td>TX</td>\n    </tr>\n    <tr>\n      <th>1</th>\n      <td>None</td>\n      <td>NJ</td>\n    </tr>\n    <tr>\n      <th>2</th>\n      <td>None</td>\n      <td>PR</td>\n    </tr>\n    <tr>\n      <th>3</th>\n      <td>None</td>\n      <td>TX</td>\n    </tr>\n    <tr>\n      <th>4</th>\n      <td>None</td>\n      <td>VT</td>\n    </tr>\n    <tr>\n      <th>5</th>\n      <td>None</td>\n      <td>NC</td>\n    </tr>\n    <tr>\n      <th>6</th>\n      <td>None</td>\n      <td>NE</td>\n    </tr>\n    <tr>\n      <th>7</th>\n      <td>None</td>\n      <td>PR</td>\n    </tr>\n    <tr>\n      <th>8</th>\n      <td>None</td>\n      <td>PR</td>\n    </tr>\n    <tr>\n      <th>9</th>\n      <td>None</td>\n      <td>NH</td>\n    </tr>\n    <tr>\n      <th>10</th>\n      <td>None</td>\n      <td>ND</td>\n    </tr>\n    <tr>\n      <th>11</th>\n      <td>None</td>\n      <td>FL</td>\n    </tr>\n    <tr>\n      <th>12</th>\n      <td>None</td>\n      <td>PA</td>\n    </tr>\n    <tr>\n      <th>13</th>\n      <td>None</td>\n      <td>AK</td>\n    </tr>\n    <tr>\n      <th>14</th>\n      <td>None</td>\n      <td>WI</td>\n    </tr>\n  </tbody>\n</table>\n</div>"
     },
     "metadata": {},
     "execution_count": 16
    }
   ],
   "source": [
    "query = \"\"\"\n",
    "SELECT\n",
    "    pls14.stabr AS state_14,\n",
    "    pls09.stabr AS state_09\n",
    "FROM pls_fy2014_pupld14a AS pls14\n",
    "FULL OUTER JOIN pls_fy2009_pupld09a AS pls09\n",
    "    ON pls14.fscskey = pls09.fscskey\n",
    "WHERE pls14.stabr IS NULL OR pls09.stabr IS NULL\n",
    "ORDER BY pls14.stabr DESC\n",
    "LIMIT 15\n",
    ";\n",
    "\"\"\"\n",
    "\n",
    "execute_query(conn, query)"
   ]
  },
  {
   "source": [
    "## Chapter 9: Inspecting and Modifying Data\n",
    "\n",
    "Challenge Questions\n",
    "\n",
    "The following questions will use the meat_poultry_egg_inspect table to try and answer the following questions: how many of the plants in the table processs meat, and how many process poultry?\n",
    "\n",
    "1. Create two new columns called meat_processing and poultry_processing in your meat_poultry_egg_inspect table. Each can be of the type boolean.\n",
    "\n",
    "    The following queries should create two columns in our meat_poultry_egg_inspect table:\n",
    "\n",
    "        ALTER TABLE meat_poultry_egg_inspect ADD COLUMN meat_processing BOOLEAN;\n",
    "        ALTER TABLE meat_poultry_egg_inspect ADD COLUMN poultry_processing BOOLEAN;\n",
    "2. Using UPDATE, set meat_processing = TRUE on any row where the activities column contains the text \"Meat Processing\". Do the same update on the poultry processing column but this time look for the the text \"Poultry Processing\" in activities.\n",
    "\n",
    "    The following queries should make the updates to our table described above:"
   ],
   "cell_type": "markdown",
   "metadata": {}
  },
  {
   "cell_type": "code",
   "execution_count": 17,
   "metadata": {},
   "outputs": [
    {
     "output_type": "execute_result",
     "data": {
      "text/plain": [
       "       est_number                                   company  \\\n",
       "0           M1544                            J & M Meat Co.   \n",
       "1           V3507        Zollinger Cold Storage Corporation   \n",
       "2          M34258                 Beatrice Meat Company LLC   \n",
       "3            V971                            Supervalu Inc.   \n",
       "4   M34092+V34092                         Plumrose USA, INC   \n",
       "5          M34617                  Ellingson Companies Inc.   \n",
       "6          M27472                Noah's Ark Processors, LLC   \n",
       "7   M20856+V20856                       Eureka Locker, Inc.   \n",
       "8          M4010A  Euro Foods Inc., d/b/a Citterio USA Corp   \n",
       "9           M1673                       Evans Food Products   \n",
       "10          M6456                         F & M Sausage Co.   \n",
       "11  M20173+P20173                           Ivars Commisary   \n",
       "12          M4395            Chef's Delight Packing Co, Inc   \n",
       "13      M293+P293             Cedar Creek Beef Jerky L.L.C.   \n",
       "14  M13187+P13187          Vinaco Food Products Corporation   \n",
       "15    M9112+P9112                  Fairplay Meat Processing   \n",
       "16         M20547                    Mareta's Ravioli, Inc.   \n",
       "17         M10825                   Ostrowski's of Bank St.   \n",
       "18    M104U+P104U                   Otto & Sons West Jordan   \n",
       "19    M9287+V9287                        Ovid Meat Co., LLC   \n",
       "\n",
       "                       street               city  st    zip           phone  \\\n",
       "0                 545 9th St.            Oakland  CA  94607  (510) 839-0380   \n",
       "1         699 West 1700 South              Logan  UT  84321  (801) 753-1134   \n",
       "2            2595 Grant Blvd.           Beatrice  AL  36425  (251) 575-4021   \n",
       "3    1400 West Gadsden Street             Quincy  FL  32351  (850) 875-2600   \n",
       "4              125 Coley Road             Tupelo  MS  38801  (662) 840-6831   \n",
       "5       210 Main Street North          Deer Park  WI  54007  (715) 269-5118   \n",
       "6         1009 West M. Street           Hastings  NE  68901  (402) 461-3412   \n",
       "7            110 4-H Park Rd.             Eureka  IL  61530  (309) 467-2731   \n",
       "8            718 Hazel Street           Freeland  PA  18224  (570) 636-3171   \n",
       "9   4118 South Halsted Street            Chicago  IL  60609  (773) 254-7400   \n",
       "10        2000 Santa Fe Drive             Pueblo  CO  81006  (719) 544-8319   \n",
       "11            11777 Cyrus Way           Mukilteo  WA  98275  (425) 493-1861   \n",
       "12           94 N. 8th Street           Brooklyn  NY  11211  (718) 388-8581   \n",
       "13            3115 S. 331 Rd.  El dorado Springs  MO  64744  (417) 876-5687   \n",
       "14             1257 Hollywood            Houston  TX  77015  (713) 451-3293   \n",
       "15         275 Jack Smith Rd.           Columbia  KY  42728  (270) 384-4024   \n",
       "16  303 Gary St. P.O. Box 163            Leonore  IL  61332  (815) 856-2621   \n",
       "17              1801 Bank St.          Baltimore  MD  21231  (410) 732-1118   \n",
       "18       4980 West 9470 South        West Jordan  UT  84081  (801) 280-0166   \n",
       "19            115 Main Street               Ovid  CO  80744  (970) 463-5657   \n",
       "\n",
       "    grant_date                                         activities  \\\n",
       "0   1982-05-24                                    Meat Processing   \n",
       "1   1990-02-27  Certification - Export, Identification - Meat,...   \n",
       "2   2007-08-23                                    Meat Processing   \n",
       "3   2011-09-16  Certification - Export, Identification - Meat,...   \n",
       "4   2011-11-02  Certification - Export, Certification - Trichi...   \n",
       "5   2016-11-22                                    Meat Processing   \n",
       "6   2015-03-05                    Meat Processing, Meat Slaughter   \n",
       "7   2011-07-01  Meat Processing, Meat Slaughter, Voluntary Pro...   \n",
       "8   2016-07-19                                    Meat Processing   \n",
       "9   2016-08-19                                    Meat Processing   \n",
       "10  1998-06-08                                    Meat Processing   \n",
       "11  2005-02-10                                    Meat Processing   \n",
       "12  1993-04-05                                    Meat Processing   \n",
       "13  2010-11-09                                    Meat Processing   \n",
       "14  1995-09-21                                    Meat Processing   \n",
       "15  2007-10-23                    Meat Processing, Meat Slaughter   \n",
       "16  1998-08-20                                    Meat Processing   \n",
       "17  1996-09-19                                    Meat Processing   \n",
       "18  2007-03-20                                    Meat Processing   \n",
       "19  2011-09-15  Meat Processing, Meat Slaughter, Voluntary Pro...   \n",
       "\n",
       "                                                 dbas st_copy  \\\n",
       "0                                                None      CA   \n",
       "1                                                None      UT   \n",
       "2                                                None      AL   \n",
       "3                                                None      FL   \n",
       "4                                                None      MS   \n",
       "5                                   Deers Food Locker      WI   \n",
       "6                                          WR RESERVE      NE   \n",
       "7                                                None      IL   \n",
       "8                                  Citterio USA Corp.      PA   \n",
       "9                         Evans Foods Products , Inc.      IL   \n",
       "10             Frank's Meat Market; Torpedo Farm Inc.      CO   \n",
       "11                                               None      WA   \n",
       "12                                               None      NY   \n",
       "13                                               None      MO   \n",
       "14                                               None      TX   \n",
       "15                                               None      KY   \n",
       "16                                               None      IL   \n",
       "17                                               None      MD   \n",
       "18  Otto & Sons West Jordan, a division of OSI Ind...      UT   \n",
       "19                                     D & L Meat Co.      CO   \n",
       "\n",
       "                            company_standard inspection_date reviewed_date  \\\n",
       "0                             J & M Meat Co.            None    2018-02-07   \n",
       "1         Zollinger Cold Storage Corporation            None    2018-02-07   \n",
       "2                  Beatrice Meat Company LLC            None    2018-02-07   \n",
       "3                             Supervalu Inc.            None    2018-02-07   \n",
       "4                          Plumrose USA, INC            None    2018-02-07   \n",
       "5                   Ellingson Companies Inc.            None    2018-02-07   \n",
       "6                 Noah's Ark Processors, LLC            None    2018-02-07   \n",
       "7                        Eureka Locker, Inc.            None    2018-02-07   \n",
       "8   Euro Foods Inc., d/b/a Citterio USA Corp            None    2018-02-07   \n",
       "9                        Evans Food Products            None    2018-02-07   \n",
       "10                         F & M Sausage Co.            None    2018-02-07   \n",
       "11                           Ivars Commisary            None    2018-02-07   \n",
       "12            Chef's Delight Packing Co, Inc            None    2018-02-07   \n",
       "13             Cedar Creek Beef Jerky L.L.C.            None    2018-02-07   \n",
       "14          Vinaco Food Products Corporation            None    2018-02-07   \n",
       "15                  Fairplay Meat Processing            None    2018-02-07   \n",
       "16                    Mareta's Ravioli, Inc.            None    2018-02-07   \n",
       "17                   Ostrowski's of Bank St.            None    2018-02-07   \n",
       "18                   Otto & Sons West Jordan            None    2018-02-07   \n",
       "19                        Ovid Meat Co., LLC            None    2018-02-07   \n",
       "\n",
       "   meat_processing poultry_processing  \n",
       "0             True               None  \n",
       "1             None               None  \n",
       "2             True               None  \n",
       "3             None               None  \n",
       "4             True               None  \n",
       "5             True               None  \n",
       "6             True               None  \n",
       "7             True               None  \n",
       "8             True               None  \n",
       "9             True               None  \n",
       "10            True               None  \n",
       "11            True               None  \n",
       "12            True               None  \n",
       "13            True               None  \n",
       "14            True               None  \n",
       "15            True               None  \n",
       "16            True               None  \n",
       "17            True               None  \n",
       "18            True               None  \n",
       "19            True               None  "
      ],
      "text/html": "<div>\n<style scoped>\n    .dataframe tbody tr th:only-of-type {\n        vertical-align: middle;\n    }\n\n    .dataframe tbody tr th {\n        vertical-align: top;\n    }\n\n    .dataframe thead th {\n        text-align: right;\n    }\n</style>\n<table border=\"1\" class=\"dataframe\">\n  <thead>\n    <tr style=\"text-align: right;\">\n      <th></th>\n      <th>est_number</th>\n      <th>company</th>\n      <th>street</th>\n      <th>city</th>\n      <th>st</th>\n      <th>zip</th>\n      <th>phone</th>\n      <th>grant_date</th>\n      <th>activities</th>\n      <th>dbas</th>\n      <th>st_copy</th>\n      <th>company_standard</th>\n      <th>inspection_date</th>\n      <th>reviewed_date</th>\n      <th>meat_processing</th>\n      <th>poultry_processing</th>\n    </tr>\n  </thead>\n  <tbody>\n    <tr>\n      <th>0</th>\n      <td>M1544</td>\n      <td>J &amp; M Meat Co.</td>\n      <td>545 9th St.</td>\n      <td>Oakland</td>\n      <td>CA</td>\n      <td>94607</td>\n      <td>(510) 839-0380</td>\n      <td>1982-05-24</td>\n      <td>Meat Processing</td>\n      <td>None</td>\n      <td>CA</td>\n      <td>J &amp; M Meat Co.</td>\n      <td>None</td>\n      <td>2018-02-07</td>\n      <td>True</td>\n      <td>None</td>\n    </tr>\n    <tr>\n      <th>1</th>\n      <td>V3507</td>\n      <td>Zollinger Cold Storage Corporation</td>\n      <td>699 West 1700 South</td>\n      <td>Logan</td>\n      <td>UT</td>\n      <td>84321</td>\n      <td>(801) 753-1134</td>\n      <td>1990-02-27</td>\n      <td>Certification - Export, Identification - Meat,...</td>\n      <td>None</td>\n      <td>UT</td>\n      <td>Zollinger Cold Storage Corporation</td>\n      <td>None</td>\n      <td>2018-02-07</td>\n      <td>None</td>\n      <td>None</td>\n    </tr>\n    <tr>\n      <th>2</th>\n      <td>M34258</td>\n      <td>Beatrice Meat Company LLC</td>\n      <td>2595 Grant Blvd.</td>\n      <td>Beatrice</td>\n      <td>AL</td>\n      <td>36425</td>\n      <td>(251) 575-4021</td>\n      <td>2007-08-23</td>\n      <td>Meat Processing</td>\n      <td>None</td>\n      <td>AL</td>\n      <td>Beatrice Meat Company LLC</td>\n      <td>None</td>\n      <td>2018-02-07</td>\n      <td>True</td>\n      <td>None</td>\n    </tr>\n    <tr>\n      <th>3</th>\n      <td>V971</td>\n      <td>Supervalu Inc.</td>\n      <td>1400 West Gadsden Street</td>\n      <td>Quincy</td>\n      <td>FL</td>\n      <td>32351</td>\n      <td>(850) 875-2600</td>\n      <td>2011-09-16</td>\n      <td>Certification - Export, Identification - Meat,...</td>\n      <td>None</td>\n      <td>FL</td>\n      <td>Supervalu Inc.</td>\n      <td>None</td>\n      <td>2018-02-07</td>\n      <td>None</td>\n      <td>None</td>\n    </tr>\n    <tr>\n      <th>4</th>\n      <td>M34092+V34092</td>\n      <td>Plumrose USA, INC</td>\n      <td>125 Coley Road</td>\n      <td>Tupelo</td>\n      <td>MS</td>\n      <td>38801</td>\n      <td>(662) 840-6831</td>\n      <td>2011-11-02</td>\n      <td>Certification - Export, Certification - Trichi...</td>\n      <td>None</td>\n      <td>MS</td>\n      <td>Plumrose USA, INC</td>\n      <td>None</td>\n      <td>2018-02-07</td>\n      <td>True</td>\n      <td>None</td>\n    </tr>\n    <tr>\n      <th>5</th>\n      <td>M34617</td>\n      <td>Ellingson Companies Inc.</td>\n      <td>210 Main Street North</td>\n      <td>Deer Park</td>\n      <td>WI</td>\n      <td>54007</td>\n      <td>(715) 269-5118</td>\n      <td>2016-11-22</td>\n      <td>Meat Processing</td>\n      <td>Deers Food Locker</td>\n      <td>WI</td>\n      <td>Ellingson Companies Inc.</td>\n      <td>None</td>\n      <td>2018-02-07</td>\n      <td>True</td>\n      <td>None</td>\n    </tr>\n    <tr>\n      <th>6</th>\n      <td>M27472</td>\n      <td>Noah's Ark Processors, LLC</td>\n      <td>1009 West M. Street</td>\n      <td>Hastings</td>\n      <td>NE</td>\n      <td>68901</td>\n      <td>(402) 461-3412</td>\n      <td>2015-03-05</td>\n      <td>Meat Processing, Meat Slaughter</td>\n      <td>WR RESERVE</td>\n      <td>NE</td>\n      <td>Noah's Ark Processors, LLC</td>\n      <td>None</td>\n      <td>2018-02-07</td>\n      <td>True</td>\n      <td>None</td>\n    </tr>\n    <tr>\n      <th>7</th>\n      <td>M20856+V20856</td>\n      <td>Eureka Locker, Inc.</td>\n      <td>110 4-H Park Rd.</td>\n      <td>Eureka</td>\n      <td>IL</td>\n      <td>61530</td>\n      <td>(309) 467-2731</td>\n      <td>2011-07-01</td>\n      <td>Meat Processing, Meat Slaughter, Voluntary Pro...</td>\n      <td>None</td>\n      <td>IL</td>\n      <td>Eureka Locker, Inc.</td>\n      <td>None</td>\n      <td>2018-02-07</td>\n      <td>True</td>\n      <td>None</td>\n    </tr>\n    <tr>\n      <th>8</th>\n      <td>M4010A</td>\n      <td>Euro Foods Inc., d/b/a Citterio USA Corp</td>\n      <td>718 Hazel Street</td>\n      <td>Freeland</td>\n      <td>PA</td>\n      <td>18224</td>\n      <td>(570) 636-3171</td>\n      <td>2016-07-19</td>\n      <td>Meat Processing</td>\n      <td>Citterio USA Corp.</td>\n      <td>PA</td>\n      <td>Euro Foods Inc., d/b/a Citterio USA Corp</td>\n      <td>None</td>\n      <td>2018-02-07</td>\n      <td>True</td>\n      <td>None</td>\n    </tr>\n    <tr>\n      <th>9</th>\n      <td>M1673</td>\n      <td>Evans Food Products</td>\n      <td>4118 South Halsted Street</td>\n      <td>Chicago</td>\n      <td>IL</td>\n      <td>60609</td>\n      <td>(773) 254-7400</td>\n      <td>2016-08-19</td>\n      <td>Meat Processing</td>\n      <td>Evans Foods Products , Inc.</td>\n      <td>IL</td>\n      <td>Evans Food Products</td>\n      <td>None</td>\n      <td>2018-02-07</td>\n      <td>True</td>\n      <td>None</td>\n    </tr>\n    <tr>\n      <th>10</th>\n      <td>M6456</td>\n      <td>F &amp; M Sausage Co.</td>\n      <td>2000 Santa Fe Drive</td>\n      <td>Pueblo</td>\n      <td>CO</td>\n      <td>81006</td>\n      <td>(719) 544-8319</td>\n      <td>1998-06-08</td>\n      <td>Meat Processing</td>\n      <td>Frank's Meat Market; Torpedo Farm Inc.</td>\n      <td>CO</td>\n      <td>F &amp; M Sausage Co.</td>\n      <td>None</td>\n      <td>2018-02-07</td>\n      <td>True</td>\n      <td>None</td>\n    </tr>\n    <tr>\n      <th>11</th>\n      <td>M20173+P20173</td>\n      <td>Ivars Commisary</td>\n      <td>11777 Cyrus Way</td>\n      <td>Mukilteo</td>\n      <td>WA</td>\n      <td>98275</td>\n      <td>(425) 493-1861</td>\n      <td>2005-02-10</td>\n      <td>Meat Processing</td>\n      <td>None</td>\n      <td>WA</td>\n      <td>Ivars Commisary</td>\n      <td>None</td>\n      <td>2018-02-07</td>\n      <td>True</td>\n      <td>None</td>\n    </tr>\n    <tr>\n      <th>12</th>\n      <td>M4395</td>\n      <td>Chef's Delight Packing Co, Inc</td>\n      <td>94 N. 8th Street</td>\n      <td>Brooklyn</td>\n      <td>NY</td>\n      <td>11211</td>\n      <td>(718) 388-8581</td>\n      <td>1993-04-05</td>\n      <td>Meat Processing</td>\n      <td>None</td>\n      <td>NY</td>\n      <td>Chef's Delight Packing Co, Inc</td>\n      <td>None</td>\n      <td>2018-02-07</td>\n      <td>True</td>\n      <td>None</td>\n    </tr>\n    <tr>\n      <th>13</th>\n      <td>M293+P293</td>\n      <td>Cedar Creek Beef Jerky L.L.C.</td>\n      <td>3115 S. 331 Rd.</td>\n      <td>El dorado Springs</td>\n      <td>MO</td>\n      <td>64744</td>\n      <td>(417) 876-5687</td>\n      <td>2010-11-09</td>\n      <td>Meat Processing</td>\n      <td>None</td>\n      <td>MO</td>\n      <td>Cedar Creek Beef Jerky L.L.C.</td>\n      <td>None</td>\n      <td>2018-02-07</td>\n      <td>True</td>\n      <td>None</td>\n    </tr>\n    <tr>\n      <th>14</th>\n      <td>M13187+P13187</td>\n      <td>Vinaco Food Products Corporation</td>\n      <td>1257 Hollywood</td>\n      <td>Houston</td>\n      <td>TX</td>\n      <td>77015</td>\n      <td>(713) 451-3293</td>\n      <td>1995-09-21</td>\n      <td>Meat Processing</td>\n      <td>None</td>\n      <td>TX</td>\n      <td>Vinaco Food Products Corporation</td>\n      <td>None</td>\n      <td>2018-02-07</td>\n      <td>True</td>\n      <td>None</td>\n    </tr>\n    <tr>\n      <th>15</th>\n      <td>M9112+P9112</td>\n      <td>Fairplay Meat Processing</td>\n      <td>275 Jack Smith Rd.</td>\n      <td>Columbia</td>\n      <td>KY</td>\n      <td>42728</td>\n      <td>(270) 384-4024</td>\n      <td>2007-10-23</td>\n      <td>Meat Processing, Meat Slaughter</td>\n      <td>None</td>\n      <td>KY</td>\n      <td>Fairplay Meat Processing</td>\n      <td>None</td>\n      <td>2018-02-07</td>\n      <td>True</td>\n      <td>None</td>\n    </tr>\n    <tr>\n      <th>16</th>\n      <td>M20547</td>\n      <td>Mareta's Ravioli, Inc.</td>\n      <td>303 Gary St. P.O. Box 163</td>\n      <td>Leonore</td>\n      <td>IL</td>\n      <td>61332</td>\n      <td>(815) 856-2621</td>\n      <td>1998-08-20</td>\n      <td>Meat Processing</td>\n      <td>None</td>\n      <td>IL</td>\n      <td>Mareta's Ravioli, Inc.</td>\n      <td>None</td>\n      <td>2018-02-07</td>\n      <td>True</td>\n      <td>None</td>\n    </tr>\n    <tr>\n      <th>17</th>\n      <td>M10825</td>\n      <td>Ostrowski's of Bank St.</td>\n      <td>1801 Bank St.</td>\n      <td>Baltimore</td>\n      <td>MD</td>\n      <td>21231</td>\n      <td>(410) 732-1118</td>\n      <td>1996-09-19</td>\n      <td>Meat Processing</td>\n      <td>None</td>\n      <td>MD</td>\n      <td>Ostrowski's of Bank St.</td>\n      <td>None</td>\n      <td>2018-02-07</td>\n      <td>True</td>\n      <td>None</td>\n    </tr>\n    <tr>\n      <th>18</th>\n      <td>M104U+P104U</td>\n      <td>Otto &amp; Sons West Jordan</td>\n      <td>4980 West 9470 South</td>\n      <td>West Jordan</td>\n      <td>UT</td>\n      <td>84081</td>\n      <td>(801) 280-0166</td>\n      <td>2007-03-20</td>\n      <td>Meat Processing</td>\n      <td>Otto &amp; Sons West Jordan, a division of OSI Ind...</td>\n      <td>UT</td>\n      <td>Otto &amp; Sons West Jordan</td>\n      <td>None</td>\n      <td>2018-02-07</td>\n      <td>True</td>\n      <td>None</td>\n    </tr>\n    <tr>\n      <th>19</th>\n      <td>M9287+V9287</td>\n      <td>Ovid Meat Co., LLC</td>\n      <td>115 Main Street</td>\n      <td>Ovid</td>\n      <td>CO</td>\n      <td>80744</td>\n      <td>(970) 463-5657</td>\n      <td>2011-09-15</td>\n      <td>Meat Processing, Meat Slaughter, Voluntary Pro...</td>\n      <td>D &amp; L Meat Co.</td>\n      <td>CO</td>\n      <td>Ovid Meat Co., LLC</td>\n      <td>None</td>\n      <td>2018-02-07</td>\n      <td>True</td>\n      <td>None</td>\n    </tr>\n  </tbody>\n</table>\n</div>"
     },
     "metadata": {},
     "execution_count": 17
    }
   ],
   "source": [
    "query = \"\"\"\n",
    "UPDATE meat_poultry_egg_inspect\n",
    "SET meat_processing = TRUE\n",
    "WHERE activities ILIKE '%Meat Processing%';\n",
    "\n",
    "UPDATE meat_poultry_egg_inspect\n",
    "SET poultry_processing = TRUE\n",
    "WHERE activities ILIKE '%Poultry Processing%';\n",
    "\n",
    "SELECT *\n",
    "FROM meat_poultry_egg_inspect\n",
    "LIMIT 20;\n",
    "\"\"\"\n",
    "\n",
    "execute_query(conn, query)"
   ]
  },
  {
   "source": [
    "3. Use the data from the new, update columns to count how many plants perform each type of activity. For a bonus activity, count how many plants perform both activities.\n",
    "\n",
    "    The following queries should give us the count of plants that process meat, poultry, or both:"
   ],
   "cell_type": "markdown",
   "metadata": {}
  },
  {
   "cell_type": "code",
   "execution_count": 18,
   "metadata": {},
   "outputs": [
    {
     "output_type": "execute_result",
     "data": {
      "text/plain": [
       "   count_of_meat_plants  count_of_poultry_plants\n",
       "0                  4764                     3728"
      ],
      "text/html": "<div>\n<style scoped>\n    .dataframe tbody tr th:only-of-type {\n        vertical-align: middle;\n    }\n\n    .dataframe tbody tr th {\n        vertical-align: top;\n    }\n\n    .dataframe thead th {\n        text-align: right;\n    }\n</style>\n<table border=\"1\" class=\"dataframe\">\n  <thead>\n    <tr style=\"text-align: right;\">\n      <th></th>\n      <th>count_of_meat_plants</th>\n      <th>count_of_poultry_plants</th>\n    </tr>\n  </thead>\n  <tbody>\n    <tr>\n      <th>0</th>\n      <td>4764</td>\n      <td>3728</td>\n    </tr>\n  </tbody>\n</table>\n</div>"
     },
     "metadata": {},
     "execution_count": 18
    }
   ],
   "source": [
    "query = \"\"\"\n",
    "SELECT \n",
    "    COUNT(meat_processing) AS count_of_meat_plants,\n",
    "    COUNT(poultry_processing) AS count_of_poultry_plants\n",
    "FROM meat_poultry_egg_inspect\n",
    "\"\"\"\n",
    "\n",
    "execute_query(conn, query)"
   ]
  },
  {
   "cell_type": "code",
   "execution_count": 19,
   "metadata": {},
   "outputs": [
    {
     "output_type": "execute_result",
     "data": {
      "text/plain": [
       "   plants_who_process_both\n",
       "0                     3338"
      ],
      "text/html": "<div>\n<style scoped>\n    .dataframe tbody tr th:only-of-type {\n        vertical-align: middle;\n    }\n\n    .dataframe tbody tr th {\n        vertical-align: top;\n    }\n\n    .dataframe thead th {\n        text-align: right;\n    }\n</style>\n<table border=\"1\" class=\"dataframe\">\n  <thead>\n    <tr style=\"text-align: right;\">\n      <th></th>\n      <th>plants_who_process_both</th>\n    </tr>\n  </thead>\n  <tbody>\n    <tr>\n      <th>0</th>\n      <td>3338</td>\n    </tr>\n  </tbody>\n</table>\n</div>"
     },
     "metadata": {},
     "execution_count": 19
    }
   ],
   "source": [
    "query = \"\"\"\n",
    "SELECT COUNT(*) as plants_who_process_both\n",
    "FROM meat_poultry_egg_inspect\n",
    "WHERE meat_processing = TRUE AND\n",
    "      poultry_processing = TRUE;\n",
    "\"\"\"\n",
    "\n",
    "execute_query(conn, query)"
   ]
  },
  {
   "source": [
    "## Chapter 10: Statistical Funtions in SQL\n",
    "\n",
    "1. IN this chapter we saw that the correlation coefficient, or r value, of the variables pct_bachelors_higher and median_hh_income was about 0.68. Write a query using the acs data set to show the correlation between pct_masters_higher and median_hh_income. Is the r value higher or lower? What might explain the difference?\n",
    "\n",
    "    Answer: The result from our query below shows that the correlation coefficient between the variables pct_masters_higher and median_hh_income is roughly 0.57. This r value is lower than the bachelors_income_r calculated earlier in the chapter. This may be a weaker correlation coefficient because it takes more money/time to earn a masters degree or higher and therefore most households will not have an adult who possesses that level of education."
   ],
   "cell_type": "markdown",
   "metadata": {}
  },
  {
   "cell_type": "code",
   "execution_count": 20,
   "metadata": {},
   "outputs": [
    {
     "output_type": "execute_result",
     "data": {
      "text/plain": [
       "   masters_income_r\n",
       "0            0.5682"
      ],
      "text/html": "<div>\n<style scoped>\n    .dataframe tbody tr th:only-of-type {\n        vertical-align: middle;\n    }\n\n    .dataframe tbody tr th {\n        vertical-align: top;\n    }\n\n    .dataframe thead th {\n        text-align: right;\n    }\n</style>\n<table border=\"1\" class=\"dataframe\">\n  <thead>\n    <tr style=\"text-align: right;\">\n      <th></th>\n      <th>masters_income_r</th>\n    </tr>\n  </thead>\n  <tbody>\n    <tr>\n      <th>0</th>\n      <td>0.5682</td>\n    </tr>\n  </tbody>\n</table>\n</div>"
     },
     "metadata": {},
     "execution_count": 20
    }
   ],
   "source": [
    "# The following query should show us the correlation between pct_masters_higher and median_hh_income\n",
    "query = \"\"\"\n",
    "SELECT CORR(median_hh_income, pct_masters_higher) AS masters_income_r\n",
    "FROM acs_2011_2015_stats;\n",
    "\"\"\"\n",
    "\n",
    "execute_query(conn, query)"
   ]
  },
  {
   "source": [
    "2. In the FBI crime data, which cities with a population of 500k or more have the highest rates of motor vehicle thefts (column motor_vehicle_theft)? Which have the highest violent crime rates (column violent_crime)?\n",
    "\n",
    "    Answer: As shown by our queries below, Milwaukee has the highest rate of motor vehicle theft(12.3%) and Detroit has the highest rate of violent crimes (17.6%)."
   ],
   "cell_type": "markdown",
   "metadata": {}
  },
  {
   "cell_type": "code",
   "execution_count": 21,
   "metadata": {},
   "outputs": [
    {
     "output_type": "execute_result",
     "data": {
      "text/plain": [
       "            city          st  population  motor_vehicle_theft pc_per_1000\n",
       "0      Milwaukee   Wisconsin      600400                 7380        12.3\n",
       "1    Albuquerque  New Mexico      559721                 5179         9.3\n",
       "2      Baltimore    Maryland      621252                 5526         8.9\n",
       "3  San Francisco  California      863782                 6915         8.0\n",
       "4        Detroit    Michigan      673225                 5216         7.7\n",
       "5       San Jose  California     1031458                 7001         6.8\n",
       "6         Denver    Colorado      682418                 4365         6.4\n",
       "7        Houston       Texas     2275221                13560         6.0\n",
       "8   Indianapolis     Indiana      863675                 4991         5.8\n",
       "9         Dallas       Texas     1301977                 7594         5.8"
      ],
      "text/html": "<div>\n<style scoped>\n    .dataframe tbody tr th:only-of-type {\n        vertical-align: middle;\n    }\n\n    .dataframe tbody tr th {\n        vertical-align: top;\n    }\n\n    .dataframe thead th {\n        text-align: right;\n    }\n</style>\n<table border=\"1\" class=\"dataframe\">\n  <thead>\n    <tr style=\"text-align: right;\">\n      <th></th>\n      <th>city</th>\n      <th>st</th>\n      <th>population</th>\n      <th>motor_vehicle_theft</th>\n      <th>pc_per_1000</th>\n    </tr>\n  </thead>\n  <tbody>\n    <tr>\n      <th>0</th>\n      <td>Milwaukee</td>\n      <td>Wisconsin</td>\n      <td>600400</td>\n      <td>7380</td>\n      <td>12.3</td>\n    </tr>\n    <tr>\n      <th>1</th>\n      <td>Albuquerque</td>\n      <td>New Mexico</td>\n      <td>559721</td>\n      <td>5179</td>\n      <td>9.3</td>\n    </tr>\n    <tr>\n      <th>2</th>\n      <td>Baltimore</td>\n      <td>Maryland</td>\n      <td>621252</td>\n      <td>5526</td>\n      <td>8.9</td>\n    </tr>\n    <tr>\n      <th>3</th>\n      <td>San Francisco</td>\n      <td>California</td>\n      <td>863782</td>\n      <td>6915</td>\n      <td>8.0</td>\n    </tr>\n    <tr>\n      <th>4</th>\n      <td>Detroit</td>\n      <td>Michigan</td>\n      <td>673225</td>\n      <td>5216</td>\n      <td>7.7</td>\n    </tr>\n    <tr>\n      <th>5</th>\n      <td>San Jose</td>\n      <td>California</td>\n      <td>1031458</td>\n      <td>7001</td>\n      <td>6.8</td>\n    </tr>\n    <tr>\n      <th>6</th>\n      <td>Denver</td>\n      <td>Colorado</td>\n      <td>682418</td>\n      <td>4365</td>\n      <td>6.4</td>\n    </tr>\n    <tr>\n      <th>7</th>\n      <td>Houston</td>\n      <td>Texas</td>\n      <td>2275221</td>\n      <td>13560</td>\n      <td>6.0</td>\n    </tr>\n    <tr>\n      <th>8</th>\n      <td>Indianapolis</td>\n      <td>Indiana</td>\n      <td>863675</td>\n      <td>4991</td>\n      <td>5.8</td>\n    </tr>\n    <tr>\n      <th>9</th>\n      <td>Dallas</td>\n      <td>Texas</td>\n      <td>1301977</td>\n      <td>7594</td>\n      <td>5.8</td>\n    </tr>\n  </tbody>\n</table>\n</div>"
     },
     "metadata": {},
     "execution_count": 21
    }
   ],
   "source": [
    "# Finding highest rate of motor vehicle thefts\n",
    "query = \"\"\"\n",
    "SELECT\n",
    "    city,\n",
    "    st,\n",
    "    population,\n",
    "    motor_vehicle_theft,\n",
    "    ROUND((motor_vehicle_theft::NUMERIC / population) * 1000, 1) AS pc_per_1000\n",
    "FROM fbi_crime_data_2015\n",
    "WHERE population >= 500000\n",
    "ORDER BY pc_per_1000 DESC\n",
    "LIMIT 10;\n",
    "\"\"\"\n",
    "\n",
    "execute_query(conn, query)\n"
   ]
  },
  {
   "cell_type": "code",
   "execution_count": 22,
   "metadata": {},
   "outputs": [
    {
     "output_type": "execute_result",
     "data": {
      "text/plain": [
       "                     city                    st  population  violent_crime  \\\n",
       "0                 Detroit              Michigan      673225          11846   \n",
       "1                 Memphis             Tennessee      657936          11449   \n",
       "2               Milwaukee             Wisconsin      600400           9583   \n",
       "3               Baltimore              Maryland      621252           9542   \n",
       "4            Indianapolis               Indiana      863675          11124   \n",
       "5              Washington  District of Columbia      672228           8084   \n",
       "6  Nashville Metropolitan             Tennessee      658029           7245   \n",
       "7            Philadelphia          Pennsylvania     1567810          16132   \n",
       "8                 Houston                 Texas     2275221          21994   \n",
       "9             Albuquerque            New Mexico      559721           5406   \n",
       "\n",
       "  pc_per_1000  \n",
       "0        17.6  \n",
       "1        17.4  \n",
       "2        16.0  \n",
       "3        15.4  \n",
       "4        12.9  \n",
       "5        12.0  \n",
       "6        11.0  \n",
       "7        10.3  \n",
       "8         9.7  \n",
       "9         9.7  "
      ],
      "text/html": "<div>\n<style scoped>\n    .dataframe tbody tr th:only-of-type {\n        vertical-align: middle;\n    }\n\n    .dataframe tbody tr th {\n        vertical-align: top;\n    }\n\n    .dataframe thead th {\n        text-align: right;\n    }\n</style>\n<table border=\"1\" class=\"dataframe\">\n  <thead>\n    <tr style=\"text-align: right;\">\n      <th></th>\n      <th>city</th>\n      <th>st</th>\n      <th>population</th>\n      <th>violent_crime</th>\n      <th>pc_per_1000</th>\n    </tr>\n  </thead>\n  <tbody>\n    <tr>\n      <th>0</th>\n      <td>Detroit</td>\n      <td>Michigan</td>\n      <td>673225</td>\n      <td>11846</td>\n      <td>17.6</td>\n    </tr>\n    <tr>\n      <th>1</th>\n      <td>Memphis</td>\n      <td>Tennessee</td>\n      <td>657936</td>\n      <td>11449</td>\n      <td>17.4</td>\n    </tr>\n    <tr>\n      <th>2</th>\n      <td>Milwaukee</td>\n      <td>Wisconsin</td>\n      <td>600400</td>\n      <td>9583</td>\n      <td>16.0</td>\n    </tr>\n    <tr>\n      <th>3</th>\n      <td>Baltimore</td>\n      <td>Maryland</td>\n      <td>621252</td>\n      <td>9542</td>\n      <td>15.4</td>\n    </tr>\n    <tr>\n      <th>4</th>\n      <td>Indianapolis</td>\n      <td>Indiana</td>\n      <td>863675</td>\n      <td>11124</td>\n      <td>12.9</td>\n    </tr>\n    <tr>\n      <th>5</th>\n      <td>Washington</td>\n      <td>District of Columbia</td>\n      <td>672228</td>\n      <td>8084</td>\n      <td>12.0</td>\n    </tr>\n    <tr>\n      <th>6</th>\n      <td>Nashville Metropolitan</td>\n      <td>Tennessee</td>\n      <td>658029</td>\n      <td>7245</td>\n      <td>11.0</td>\n    </tr>\n    <tr>\n      <th>7</th>\n      <td>Philadelphia</td>\n      <td>Pennsylvania</td>\n      <td>1567810</td>\n      <td>16132</td>\n      <td>10.3</td>\n    </tr>\n    <tr>\n      <th>8</th>\n      <td>Houston</td>\n      <td>Texas</td>\n      <td>2275221</td>\n      <td>21994</td>\n      <td>9.7</td>\n    </tr>\n    <tr>\n      <th>9</th>\n      <td>Albuquerque</td>\n      <td>New Mexico</td>\n      <td>559721</td>\n      <td>5406</td>\n      <td>9.7</td>\n    </tr>\n  </tbody>\n</table>\n</div>"
     },
     "metadata": {},
     "execution_count": 22
    }
   ],
   "source": [
    "# Finding highest rate of violent crime rates\n",
    "query = \"\"\"\n",
    "SELECT\n",
    "    city,\n",
    "    st,\n",
    "    population,\n",
    "    violent_crime,\n",
    "    ROUND((violent_crime::NUMERIC / population) * 1000, 1) AS pc_per_1000\n",
    "FROM fbi_crime_data_2015\n",
    "WHERE population >= 500000\n",
    "ORDER BY pc_per_1000 DESC\n",
    "LIMIT 10;\n",
    "\"\"\"\n",
    "\n",
    "execute_query(conn, query)"
   ]
  },
  {
   "source": [
    "3. Revisit the libraries data in the table pls_fy_2014. Rank library agencies based on the rate of visits per 1000 population (column popu_lsa), and limit the query to agencies serving 250,000 people or more"
   ],
   "cell_type": "markdown",
   "metadata": {}
  },
  {
   "cell_type": "code",
   "execution_count": 23,
   "metadata": {},
   "outputs": [
    {
     "output_type": "execute_result",
     "data": {
      "text/plain": [
       "                                   libname  popu_lsa visits_per_1000  \\\n",
       "0           CUYAHOGA COUNTY PUBLIC LIBRARY    616527         12962.8   \n",
       "1                   SEATTLE PUBLIC LIBRARY    640500         10273.9   \n",
       "2    CENTRAL RAPPAHANNOCK REGIONAL LIBRARY    298007         10147.0   \n",
       "3             HOWARD COUNTY LIBRARY SYSTEM    293142          9893.5   \n",
       "4                   ALAMEDA COUNTY LIBRARY    557378          8711.8   \n",
       "..                                     ...       ...             ...   \n",
       "192               SANTA ANA PUBLIC LIBRARY    331953           773.4   \n",
       "193             MONT CO-NORRISTOWN PUB LIB    325368           529.1   \n",
       "194                  MORRIS COUNTY LIBRARY    492276           442.0   \n",
       "195          PINAL COUNTY LIBRARY DISTRICT    396237           355.8   \n",
       "196               ARROWHEAD LIBRARY SYSTEM    314428            15.0   \n",
       "\n",
       "     visits_rank  \n",
       "0              1  \n",
       "1              2  \n",
       "2              3  \n",
       "3              4  \n",
       "4              5  \n",
       "..           ...  \n",
       "192          193  \n",
       "193          194  \n",
       "194          195  \n",
       "195          196  \n",
       "196          197  \n",
       "\n",
       "[197 rows x 4 columns]"
      ],
      "text/html": "<div>\n<style scoped>\n    .dataframe tbody tr th:only-of-type {\n        vertical-align: middle;\n    }\n\n    .dataframe tbody tr th {\n        vertical-align: top;\n    }\n\n    .dataframe thead th {\n        text-align: right;\n    }\n</style>\n<table border=\"1\" class=\"dataframe\">\n  <thead>\n    <tr style=\"text-align: right;\">\n      <th></th>\n      <th>libname</th>\n      <th>popu_lsa</th>\n      <th>visits_per_1000</th>\n      <th>visits_rank</th>\n    </tr>\n  </thead>\n  <tbody>\n    <tr>\n      <th>0</th>\n      <td>CUYAHOGA COUNTY PUBLIC LIBRARY</td>\n      <td>616527</td>\n      <td>12962.8</td>\n      <td>1</td>\n    </tr>\n    <tr>\n      <th>1</th>\n      <td>SEATTLE PUBLIC LIBRARY</td>\n      <td>640500</td>\n      <td>10273.9</td>\n      <td>2</td>\n    </tr>\n    <tr>\n      <th>2</th>\n      <td>CENTRAL RAPPAHANNOCK REGIONAL LIBRARY</td>\n      <td>298007</td>\n      <td>10147.0</td>\n      <td>3</td>\n    </tr>\n    <tr>\n      <th>3</th>\n      <td>HOWARD COUNTY LIBRARY SYSTEM</td>\n      <td>293142</td>\n      <td>9893.5</td>\n      <td>4</td>\n    </tr>\n    <tr>\n      <th>4</th>\n      <td>ALAMEDA COUNTY LIBRARY</td>\n      <td>557378</td>\n      <td>8711.8</td>\n      <td>5</td>\n    </tr>\n    <tr>\n      <th>...</th>\n      <td>...</td>\n      <td>...</td>\n      <td>...</td>\n      <td>...</td>\n    </tr>\n    <tr>\n      <th>192</th>\n      <td>SANTA ANA PUBLIC LIBRARY</td>\n      <td>331953</td>\n      <td>773.4</td>\n      <td>193</td>\n    </tr>\n    <tr>\n      <th>193</th>\n      <td>MONT CO-NORRISTOWN PUB LIB</td>\n      <td>325368</td>\n      <td>529.1</td>\n      <td>194</td>\n    </tr>\n    <tr>\n      <th>194</th>\n      <td>MORRIS COUNTY LIBRARY</td>\n      <td>492276</td>\n      <td>442.0</td>\n      <td>195</td>\n    </tr>\n    <tr>\n      <th>195</th>\n      <td>PINAL COUNTY LIBRARY DISTRICT</td>\n      <td>396237</td>\n      <td>355.8</td>\n      <td>196</td>\n    </tr>\n    <tr>\n      <th>196</th>\n      <td>ARROWHEAD LIBRARY SYSTEM</td>\n      <td>314428</td>\n      <td>15.0</td>\n      <td>197</td>\n    </tr>\n  </tbody>\n</table>\n<p>197 rows × 4 columns</p>\n</div>"
     },
     "metadata": {},
     "execution_count": 23
    }
   ],
   "source": [
    "query = \"\"\"\n",
    "SELECT\n",
    "    libname,\n",
    "    popu_lsa,\n",
    "    ROUND(\n",
    "        (visits::NUMERIC / popu_lsa) * 1000, 1\n",
    "    ) AS visits_per_1000,\n",
    "    RANK() OVER(ORDER BY  (visits::NUMERIC / popu_lsa) * 1000 DESC) AS visits_rank\n",
    "FROM pls_fy2014_pupld14a\n",
    "WHERE visits >= 0 AND\n",
    "    popu_lsa >= 250000;\n",
    "\"\"\"\n",
    "\n",
    "execute_query(conn, query)"
   ]
  },
  {
   "source": [
    "## Chapter 11: Working With Dates and Times\n",
    "\n",
    "Challenge Questions\n",
    "\n",
    "    1. Using the NY City taxi data, calculate the length of each ride using the pickup and drop-off timestamps. Sort the query results from the longest ride to the shortest. Do you notice anything about the longest or shortest trips that you might want to ask city officials about?"
   ],
   "cell_type": "markdown",
   "metadata": {}
  },
  {
   "cell_type": "code",
   "execution_count": 24,
   "metadata": {},
   "outputs": [
    {
     "output_type": "execute_result",
     "data": {
      "text/plain": [
       "  trip_distance total_amount      tpep_pickup_datetime  \\\n",
       "0          2.40        14.30 2016-06-01 08:38:03-04:00   \n",
       "1          1.38        11.84 2016-06-01 21:02:23-04:00   \n",
       "2          0.00         0.00 2016-06-01 16:22:04-04:00   \n",
       "3          2.39        17.38 2016-06-01 11:03:44-04:00   \n",
       "4          1.44         8.80 2016-06-01 15:25:57-04:00   \n",
       "\n",
       "      tpep_dropoff_datetime          length  \n",
       "0 2016-06-02 08:37:40-04:00 0 days 23:59:37  \n",
       "1 2016-06-02 21:01:54-04:00 0 days 23:59:31  \n",
       "2 2016-06-02 16:21:29-04:00 0 days 23:59:25  \n",
       "3 2016-06-02 11:03:06-04:00 0 days 23:59:22  \n",
       "4 2016-06-02 15:25:17-04:00 0 days 23:59:20  "
      ],
      "text/html": "<div>\n<style scoped>\n    .dataframe tbody tr th:only-of-type {\n        vertical-align: middle;\n    }\n\n    .dataframe tbody tr th {\n        vertical-align: top;\n    }\n\n    .dataframe thead th {\n        text-align: right;\n    }\n</style>\n<table border=\"1\" class=\"dataframe\">\n  <thead>\n    <tr style=\"text-align: right;\">\n      <th></th>\n      <th>trip_distance</th>\n      <th>total_amount</th>\n      <th>tpep_pickup_datetime</th>\n      <th>tpep_dropoff_datetime</th>\n      <th>length</th>\n    </tr>\n  </thead>\n  <tbody>\n    <tr>\n      <th>0</th>\n      <td>2.40</td>\n      <td>14.30</td>\n      <td>2016-06-01 08:38:03-04:00</td>\n      <td>2016-06-02 08:37:40-04:00</td>\n      <td>0 days 23:59:37</td>\n    </tr>\n    <tr>\n      <th>1</th>\n      <td>1.38</td>\n      <td>11.84</td>\n      <td>2016-06-01 21:02:23-04:00</td>\n      <td>2016-06-02 21:01:54-04:00</td>\n      <td>0 days 23:59:31</td>\n    </tr>\n    <tr>\n      <th>2</th>\n      <td>0.00</td>\n      <td>0.00</td>\n      <td>2016-06-01 16:22:04-04:00</td>\n      <td>2016-06-02 16:21:29-04:00</td>\n      <td>0 days 23:59:25</td>\n    </tr>\n    <tr>\n      <th>3</th>\n      <td>2.39</td>\n      <td>17.38</td>\n      <td>2016-06-01 11:03:44-04:00</td>\n      <td>2016-06-02 11:03:06-04:00</td>\n      <td>0 days 23:59:22</td>\n    </tr>\n    <tr>\n      <th>4</th>\n      <td>1.44</td>\n      <td>8.80</td>\n      <td>2016-06-01 15:25:57-04:00</td>\n      <td>2016-06-02 15:25:17-04:00</td>\n      <td>0 days 23:59:20</td>\n    </tr>\n  </tbody>\n</table>\n</div>"
     },
     "metadata": {},
     "execution_count": 24
    }
   ],
   "source": [
    "query = \"\"\"\n",
    "SELECT\n",
    "    trip_distance,\n",
    "    total_amount,\n",
    "    tpep_pickup_datetime,\n",
    "    tpep_dropoff_datetime,\n",
    "    tpep_dropoff_datetime - tpep_pickup_datetime AS length\n",
    "FROM nyc_yellow_taxi_trips_2016_06_01\n",
    "ORDER BY length DESC\n",
    "LIMIT 5\n",
    "\"\"\"\n",
    "\n",
    "execute_query(conn,query)"
   ]
  },
  {
   "cell_type": "code",
   "execution_count": 25,
   "metadata": {},
   "outputs": [
    {
     "output_type": "execute_result",
     "data": {
      "text/plain": [
       "  trip_distance total_amount      tpep_pickup_datetime  \\\n",
       "0          0.00        70.00 2016-06-01 21:38:54-04:00   \n",
       "1          2.30        13.80 2016-06-01 15:46:15-04:00   \n",
       "2          0.00         3.30 2016-06-01 09:05:34-04:00   \n",
       "3          0.00         3.30 2016-06-01 07:53:38-04:00   \n",
       "4          0.00         0.00 2016-06-01 08:04:42-04:00   \n",
       "\n",
       "      tpep_dropoff_datetime            length  \n",
       "0 2016-06-01 21:34:21-04:00 -1 days +23:55:27  \n",
       "1 2016-06-01 15:45:55-04:00 -1 days +23:59:40  \n",
       "2 2016-06-01 09:05:34-04:00   0 days 00:00:00  \n",
       "3 2016-06-01 07:53:38-04:00   0 days 00:00:00  \n",
       "4 2016-06-01 08:04:42-04:00   0 days 00:00:00  "
      ],
      "text/html": "<div>\n<style scoped>\n    .dataframe tbody tr th:only-of-type {\n        vertical-align: middle;\n    }\n\n    .dataframe tbody tr th {\n        vertical-align: top;\n    }\n\n    .dataframe thead th {\n        text-align: right;\n    }\n</style>\n<table border=\"1\" class=\"dataframe\">\n  <thead>\n    <tr style=\"text-align: right;\">\n      <th></th>\n      <th>trip_distance</th>\n      <th>total_amount</th>\n      <th>tpep_pickup_datetime</th>\n      <th>tpep_dropoff_datetime</th>\n      <th>length</th>\n    </tr>\n  </thead>\n  <tbody>\n    <tr>\n      <th>0</th>\n      <td>0.00</td>\n      <td>70.00</td>\n      <td>2016-06-01 21:38:54-04:00</td>\n      <td>2016-06-01 21:34:21-04:00</td>\n      <td>-1 days +23:55:27</td>\n    </tr>\n    <tr>\n      <th>1</th>\n      <td>2.30</td>\n      <td>13.80</td>\n      <td>2016-06-01 15:46:15-04:00</td>\n      <td>2016-06-01 15:45:55-04:00</td>\n      <td>-1 days +23:59:40</td>\n    </tr>\n    <tr>\n      <th>2</th>\n      <td>0.00</td>\n      <td>3.30</td>\n      <td>2016-06-01 09:05:34-04:00</td>\n      <td>2016-06-01 09:05:34-04:00</td>\n      <td>0 days 00:00:00</td>\n    </tr>\n    <tr>\n      <th>3</th>\n      <td>0.00</td>\n      <td>3.30</td>\n      <td>2016-06-01 07:53:38-04:00</td>\n      <td>2016-06-01 07:53:38-04:00</td>\n      <td>0 days 00:00:00</td>\n    </tr>\n    <tr>\n      <th>4</th>\n      <td>0.00</td>\n      <td>0.00</td>\n      <td>2016-06-01 08:04:42-04:00</td>\n      <td>2016-06-01 08:04:42-04:00</td>\n      <td>0 days 00:00:00</td>\n    </tr>\n  </tbody>\n</table>\n</div>"
     },
     "metadata": {},
     "execution_count": 25
    }
   ],
   "source": [
    "query = \"\"\"\n",
    "SELECT\n",
    "    trip_distance,\n",
    "    total_amount,\n",
    "    tpep_pickup_datetime,\n",
    "    tpep_dropoff_datetime,\n",
    "    tpep_dropoff_datetime - tpep_pickup_datetime AS length\n",
    "FROM nyc_yellow_taxi_trips_2016_06_01\n",
    "ORDER BY length\n",
    "LIMIT 5\n",
    "\"\"\"\n",
    "\n",
    "execute_query(conn,query)"
   ]
  },
  {
   "source": [
    "    It looks as though the data for the shortest rides based on timestamps may have been entered incorrectly as the numbers show that there was a negative ride time which is not possible. Moreover there are taxi rides that are almost a day long which also seems very unusual.\n",
    "\n",
    "2. Using the AT TIME ZONE keyworkds, write a query that displays the date and time for London, Johannesburg, Moscow, and Melbourne the moment January 1, 2100, arrives in New York City."
   ],
   "cell_type": "markdown",
   "metadata": {}
  },
  {
   "cell_type": "code",
   "execution_count": 26,
   "metadata": {},
   "outputs": [
    {
     "output_type": "execute_result",
     "data": {
      "text/plain": [
       "         nyc              london        johannesburg              moscow  \\\n",
       "0 2100-01-01 2100-01-01 05:00:00 2100-01-01 07:00:00 2100-01-01 08:00:00   \n",
       "\n",
       "            melbourne  \n",
       "0 2100-01-01 16:00:00  "
      ],
      "text/html": "<div>\n<style scoped>\n    .dataframe tbody tr th:only-of-type {\n        vertical-align: middle;\n    }\n\n    .dataframe tbody tr th {\n        vertical-align: top;\n    }\n\n    .dataframe thead th {\n        text-align: right;\n    }\n</style>\n<table border=\"1\" class=\"dataframe\">\n  <thead>\n    <tr style=\"text-align: right;\">\n      <th></th>\n      <th>nyc</th>\n      <th>london</th>\n      <th>johannesburg</th>\n      <th>moscow</th>\n      <th>melbourne</th>\n    </tr>\n  </thead>\n  <tbody>\n    <tr>\n      <th>0</th>\n      <td>2100-01-01</td>\n      <td>2100-01-01 05:00:00</td>\n      <td>2100-01-01 07:00:00</td>\n      <td>2100-01-01 08:00:00</td>\n      <td>2100-01-01 16:00:00</td>\n    </tr>\n  </tbody>\n</table>\n</div>"
     },
     "metadata": {},
     "execution_count": 26
    }
   ],
   "source": [
    "query = \"\"\"\n",
    "SELECT\n",
    "    MAKE_TIMESTAMPTZ(2100, 1, 1, 0, 0, 0, 'US/Eastern') AT TIME ZONE 'US/Eastern' AS NYC,\n",
    "    MAKE_TIMESTAMPTZ(2100, 1, 1, 0, 0, 0, 'US/Eastern') AT TIME ZONE 'Europe/London' AS London,\n",
    "    MAKE_TIMESTAMPTZ(2100, 1, 1, 0, 0, 0, 'US/Eastern') AT TIME ZONE 'Africa/Johannesburg' AS Johannesburg,\n",
    "    MAKE_TIMESTAMPTZ(2100, 1, 1, 0, 0, 0, 'US/Eastern') AT TIME ZONE 'Europe/Moscow' AS Moscow,\n",
    "    MAKE_TIMESTAMPTZ(2100, 1, 1, 0, 0, 0, 'US/Eastern') AT TIME ZONE 'Australia/Melbourne' AS Melbourne;\n",
    "\"\"\"\n",
    "\n",
    "execute_query(conn, query)"
   ]
  },
  {
   "source": [
    "3. Use the statistics funcitons from Chapter 10 to calculate the correlation coefficient and r-squared values using trip time and the total_amount column in the New York City taxi data, which represents the total amount charged to passengers. Do the samee with the trip_distance and total_amount columns. Limit the query to rides that last 3 hours or less."
   ],
   "cell_type": "markdown",
   "metadata": {}
  },
  {
   "cell_type": "code",
   "execution_count": 27,
   "metadata": {},
   "outputs": [
    {
     "output_type": "execute_result",
     "data": {
      "text/plain": [
       "  amount_time_corr amount_time_r2\n",
       "0             0.80           0.64"
      ],
      "text/html": "<div>\n<style scoped>\n    .dataframe tbody tr th:only-of-type {\n        vertical-align: middle;\n    }\n\n    .dataframe tbody tr th {\n        vertical-align: top;\n    }\n\n    .dataframe thead th {\n        text-align: right;\n    }\n</style>\n<table border=\"1\" class=\"dataframe\">\n  <thead>\n    <tr style=\"text-align: right;\">\n      <th></th>\n      <th>amount_time_corr</th>\n      <th>amount_time_r2</th>\n    </tr>\n  </thead>\n  <tbody>\n    <tr>\n      <th>0</th>\n      <td>0.80</td>\n      <td>0.64</td>\n    </tr>\n  </tbody>\n</table>\n</div>"
     },
     "metadata": {},
     "execution_count": 27
    }
   ],
   "source": [
    "# Query to find the correlation between length of trip and total cost of a taxi ride\n",
    "query = \"\"\"\n",
    "SELECT\n",
    "    ROUND(\n",
    "          CORR(total_amount, (\n",
    "              DATE_PART('epoch', tpep_dropoff_datetime) -\n",
    "              DATE_PART('epoch', tpep_pickup_datetime)\n",
    "                ))::NUMERIC, 2\n",
    "          ) AS amount_time_corr,\n",
    "    ROUND(\n",
    "        REGR_R2(total_amount, (\n",
    "              DATE_PART('epoch', tpep_dropoff_datetime) -\n",
    "              DATE_PART('epoch', tpep_pickup_datetime)\n",
    "        ))::NUMERIC, 2\n",
    "    ) AS amount_time_r2\n",
    "FROM nyc_yellow_taxi_trips_2016_06_01\n",
    "WHERE tpep_dropoff_datetime - tpep_pickup_datetime <= '03:00:00';\n",
    "\"\"\"\n",
    "\n",
    "execute_query(conn, query)"
   ]
  },
  {
   "cell_type": "code",
   "execution_count": 28,
   "metadata": {},
   "outputs": [
    {
     "output_type": "execute_result",
     "data": {
      "text/plain": [
       "   cost_amount_r  cost_amount_r2\n",
       "0       0.855132        0.731251"
      ],
      "text/html": "<div>\n<style scoped>\n    .dataframe tbody tr th:only-of-type {\n        vertical-align: middle;\n    }\n\n    .dataframe tbody tr th {\n        vertical-align: top;\n    }\n\n    .dataframe thead th {\n        text-align: right;\n    }\n</style>\n<table border=\"1\" class=\"dataframe\">\n  <thead>\n    <tr style=\"text-align: right;\">\n      <th></th>\n      <th>cost_amount_r</th>\n      <th>cost_amount_r2</th>\n    </tr>\n  </thead>\n  <tbody>\n    <tr>\n      <th>0</th>\n      <td>0.855132</td>\n      <td>0.731251</td>\n    </tr>\n  </tbody>\n</table>\n</div>"
     },
     "metadata": {},
     "execution_count": 28
    }
   ],
   "source": [
    "# Query to find the correlation between distance and total cost of a taxi ride\n",
    "query = \"\"\"\n",
    "SELECT\n",
    "    CORR(trip_distance, total_amount) AS cost_amount_r,\n",
    "    REGR_R2(trip_distance, total_amount) AS cost_amount_r2\n",
    "FROM nyc_yellow_taxi_trips_2016_06_01\n",
    "WHERE tpep_dropoff_datetime - tpep_pickup_datetime <= '03:00:00';\n",
    "\"\"\"\n",
    "\n",
    "execute_query(conn, query)"
   ]
  },
  {
   "source": [
    "## Chapter 12: Advanced Query Techniques\n",
    "\n",
    "Challenge Questions:\n",
    "\n",
    "1. Revise the temperature_readings work from the chapter to dig deeper into the nuances of Waikiki's high temperatures. Limit the temps_collapsed table to the Waikiki maximum daily temperature observations. Then use the WHEN clause in the CASE statement to reclassify the temperatures into seven gorups that would result in the following text output\n",
    "\n",
    "    '90 or more'\n",
    "    '88-89'\n",
    "    '86-87'\n",
    "    '84-85'\n",
    "    '82-83'\n",
    "    '80-81'\n",
    "    '79 or less'\n",
    "In which of those groups does Waikiki's daily maximum temperature fall most often?"
   ],
   "cell_type": "markdown",
   "metadata": {}
  },
  {
   "cell_type": "code",
   "execution_count": 29,
   "metadata": {},
   "outputs": [
    {
     "output_type": "execute_result",
     "data": {
      "text/plain": [
       "          station_name max_temperature_group  count\n",
       "0  WAIKIKI 717.2 HI US                 86-87    118\n",
       "1  WAIKIKI 717.2 HI US                 84-85     89\n",
       "2  WAIKIKI 717.2 HI US                 88-89     62\n",
       "3  WAIKIKI 717.2 HI US                 82-83     61\n",
       "4  WAIKIKI 717.2 HI US                 80-81     23\n",
       "5  WAIKIKI 717.2 HI US            79 or less      8\n",
       "6  WAIKIKI 717.2 HI US            90 or more      5"
      ],
      "text/html": "<div>\n<style scoped>\n    .dataframe tbody tr th:only-of-type {\n        vertical-align: middle;\n    }\n\n    .dataframe tbody tr th {\n        vertical-align: top;\n    }\n\n    .dataframe thead th {\n        text-align: right;\n    }\n</style>\n<table border=\"1\" class=\"dataframe\">\n  <thead>\n    <tr style=\"text-align: right;\">\n      <th></th>\n      <th>station_name</th>\n      <th>max_temperature_group</th>\n      <th>count</th>\n    </tr>\n  </thead>\n  <tbody>\n    <tr>\n      <th>0</th>\n      <td>WAIKIKI 717.2 HI US</td>\n      <td>86-87</td>\n      <td>118</td>\n    </tr>\n    <tr>\n      <th>1</th>\n      <td>WAIKIKI 717.2 HI US</td>\n      <td>84-85</td>\n      <td>89</td>\n    </tr>\n    <tr>\n      <th>2</th>\n      <td>WAIKIKI 717.2 HI US</td>\n      <td>88-89</td>\n      <td>62</td>\n    </tr>\n    <tr>\n      <th>3</th>\n      <td>WAIKIKI 717.2 HI US</td>\n      <td>82-83</td>\n      <td>61</td>\n    </tr>\n    <tr>\n      <th>4</th>\n      <td>WAIKIKI 717.2 HI US</td>\n      <td>80-81</td>\n      <td>23</td>\n    </tr>\n    <tr>\n      <th>5</th>\n      <td>WAIKIKI 717.2 HI US</td>\n      <td>79 or less</td>\n      <td>8</td>\n    </tr>\n    <tr>\n      <th>6</th>\n      <td>WAIKIKI 717.2 HI US</td>\n      <td>90 or more</td>\n      <td>5</td>\n    </tr>\n  </tbody>\n</table>\n</div>"
     },
     "metadata": {},
     "execution_count": 29
    }
   ],
   "source": [
    "# The following query shows that Waikiki's daily maximum temperature tends to fall in the 86-87 degree category most often\n",
    "query = \"\"\"\n",
    "WITH temps_collapsed AS\n",
    "    (SELECT\n",
    "        station_name,\n",
    "        CASE WHEN max_temp >= 90 THEN '90 or more'\n",
    "        WHEN max_temp BETWEEN 88 AND 89 THEN '88-89'\n",
    "        WHEN max_temp BETWEEN 86 AND 87 THEN '86-87'\n",
    "        WHEN max_temp BETWEEN 84 AND 85 THEN '84-85'\n",
    "        WHEN max_temp BETWEEN 82 AND 83 THEN '82-83'\n",
    "        WHEN max_temp BETWEEN 80 AND 81 THEN '80-81'\n",
    "        ELSE '79 or less'\n",
    "        END AS max_temperature_group\n",
    "    FROM temperature_readings\n",
    "    WHERE station_name = 'WAIKIKI 717.2 HI US')\n",
    "\n",
    "SELECT station_name, max_temperature_group, COUNT(*)\n",
    "FROM temps_collapsed\n",
    "GROUP BY station_name, max_temperature_group\n",
    "ORDER BY station_name, COUNT(*) DESC;\n",
    "\"\"\"\n",
    "\n",
    "execute_query(conn, query)"
   ]
  },
  {
   "source": [
    "2. Revise the ice cream survey crosstab from the chapter to flip the table. In other words, make flavor the rows and office columns. Which elements of the query do you need to change? Are the counts different?"
   ],
   "cell_type": "markdown",
   "metadata": {}
  },
  {
   "cell_type": "code",
   "execution_count": 30,
   "metadata": {},
   "outputs": [
    {
     "output_type": "execute_result",
     "data": {
      "text/plain": [
       "       flavor  downtown  midtown  uptown\n",
       "0   Chocolate        23     41.0      22\n",
       "1  Strawberry        32      NaN      17\n",
       "2     Vanilla        19     23.0      23"
      ],
      "text/html": "<div>\n<style scoped>\n    .dataframe tbody tr th:only-of-type {\n        vertical-align: middle;\n    }\n\n    .dataframe tbody tr th {\n        vertical-align: top;\n    }\n\n    .dataframe thead th {\n        text-align: right;\n    }\n</style>\n<table border=\"1\" class=\"dataframe\">\n  <thead>\n    <tr style=\"text-align: right;\">\n      <th></th>\n      <th>flavor</th>\n      <th>downtown</th>\n      <th>midtown</th>\n      <th>uptown</th>\n    </tr>\n  </thead>\n  <tbody>\n    <tr>\n      <th>0</th>\n      <td>Chocolate</td>\n      <td>23</td>\n      <td>41.0</td>\n      <td>22</td>\n    </tr>\n    <tr>\n      <th>1</th>\n      <td>Strawberry</td>\n      <td>32</td>\n      <td>NaN</td>\n      <td>17</td>\n    </tr>\n    <tr>\n      <th>2</th>\n      <td>Vanilla</td>\n      <td>19</td>\n      <td>23.0</td>\n      <td>23</td>\n    </tr>\n  </tbody>\n</table>\n</div>"
     },
     "metadata": {},
     "execution_count": 30
    }
   ],
   "source": [
    "# The following query shows the transformed Crosstab for the ice cream survey data\n",
    "query = \"\"\"\n",
    "SELECT *\n",
    "FROM CROSSTAB(\n",
    "        'SELECT flavor,\n",
    "            office,\n",
    "            COUNT(*)\n",
    "        FROM ice_cream_survey\n",
    "        GROUP BY flavor, office\n",
    "        ORDER BY flavor',\n",
    "\n",
    "        'SELECT office\n",
    "        FROM ice_cream_survey\n",
    "        GROUP BY office\n",
    "        ORDER BY office'\n",
    "        )\n",
    "    AS (flavor VARCHAR(20),\n",
    "        downtown BIGINT,\n",
    "        midtown BIGINT,\n",
    "        uptown BIGINT\n",
    "        );\n",
    "\"\"\"\n",
    "\n",
    "execute_query(conn, query)"
   ]
  },
  {
   "cell_type": "code",
   "execution_count": null,
   "metadata": {},
   "outputs": [],
   "source": []
  }
 ]
}