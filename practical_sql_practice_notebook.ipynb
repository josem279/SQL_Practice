{
 "metadata": {
  "language_info": {
   "codemirror_mode": {
    "name": "ipython",
    "version": 3
   },
   "file_extension": ".py",
   "mimetype": "text/x-python",
   "name": "python",
   "nbconvert_exporter": "python",
   "pygments_lexer": "ipython3",
   "version": "3.9.1-final"
  },
  "orig_nbformat": 2,
  "kernelspec": {
   "name": "python3",
   "display_name": "Python 3.9.1 64-bit",
   "metadata": {
    "interpreter": {
     "hash": "b5843a13e7131a14c3c0e364f0390d6592a995e3082c3f83420ac4385eeb2370"
    }
   }
  }
 },
 "nbformat": 4,
 "nbformat_minor": 2,
 "cells": [
  {
   "source": [
    "# Practical SQL: Chapter Practice Notebook\n",
    "\n",
    "This Jupyter notebook will display all SQL queries and practices covered in each chapter of the book \"Practical SQL: A Beginner's Guide To Storytelling With Data\" by Anthony DeBarros.\n",
    "\n",
    "The first part of this notebook will require us to import a couple of dependencies as well as personal data that will allow us to link out Jupyter Notebook to PostgreSQL."
   ],
   "cell_type": "markdown",
   "metadata": {}
  },
  {
   "cell_type": "code",
   "execution_count": 1,
   "metadata": {},
   "outputs": [],
   "source": [
    "import psycopg2\n",
    "import pandas as pd\n",
    "from sql_data import db, usr, pwd"
   ]
  },
  {
   "cell_type": "code",
   "execution_count": 2,
   "metadata": {},
   "outputs": [],
   "source": [
    "# Connecting to postgreSQL database\n",
    "conn = psycopg2.connect(\n",
    "    host = \"localhost\",\n",
    "    database = db,\n",
    "    user = usr,\n",
    "    password = pwd,\n",
    "    port = 5432\n",
    ")\n",
    "\n",
    "def execute_query(connection, query):\n",
    "    connection.autocommit = True\n",
    "    cursor = connection.cursor()\n",
    "    try:\n",
    "        cursor.execute(query)\n",
    "        results = cursor.fetchall()\n",
    "        column_names = [i[0] for i in cursor.description]\n",
    "        results = pd.DataFrame(results, columns= column_names)\n",
    "        return results\n",
    "        print(\"Query executed succesfully!\")\n",
    "        # Closing the cursor\n",
    "        cursor.close()\n",
    "        del cursor\n",
    "        # Closing the connection\n",
    "        connection.close()\n",
    "    except OperationalError as e:\n",
    "        print(f\"The error '{e}' occurred.\")"
   ]
  },
  {
   "source": [
    "## Chapter 8: Extracting Information By Grouping and Summarizing\n",
    "\n",
    "This chapter requires us to build two tables based on the 2009 and 2014 Public Library Surveys conducted by the Institute of Museum and Library Services (IMLS). Please refer to the books resources as detailed in the readme page to gain access to the csv files needed to fill in the two library tables used henceforth."
   ],
   "cell_type": "markdown",
   "metadata": {}
  },
  {
   "cell_type": "code",
   "execution_count": 3,
   "metadata": {},
   "outputs": [
    {
     "output_type": "execute_result",
     "data": {
      "text/plain": [
       "   count\n",
       "0   9305"
      ],
      "text/html": "<div>\n<style scoped>\n    .dataframe tbody tr th:only-of-type {\n        vertical-align: middle;\n    }\n\n    .dataframe tbody tr th {\n        vertical-align: top;\n    }\n\n    .dataframe thead th {\n        text-align: right;\n    }\n</style>\n<table border=\"1\" class=\"dataframe\">\n  <thead>\n    <tr style=\"text-align: right;\">\n      <th></th>\n      <th>count</th>\n    </tr>\n  </thead>\n  <tbody>\n    <tr>\n      <th>0</th>\n      <td>9305</td>\n    </tr>\n  </tbody>\n</table>\n</div>"
     },
     "metadata": {},
     "execution_count": 3
    }
   ],
   "source": [
    "# Exploring the Library Data Using Aggregate Functions\n",
    "# Counting Rows and Values using Count()\n",
    "\n",
    "query = \"\"\"\n",
    "SELECT COUNT(*)\n",
    "FROM pls_fy2014_pupld14a;\n",
    "\"\"\"\n",
    "\n",
    "execute_query(conn, query)"
   ]
  },
  {
   "cell_type": "code",
   "execution_count": 4,
   "metadata": {},
   "outputs": [
    {
     "output_type": "execute_result",
     "data": {
      "text/plain": [
       "   count\n",
       "0   9299"
      ],
      "text/html": "<div>\n<style scoped>\n    .dataframe tbody tr th:only-of-type {\n        vertical-align: middle;\n    }\n\n    .dataframe tbody tr th {\n        vertical-align: top;\n    }\n\n    .dataframe thead th {\n        text-align: right;\n    }\n</style>\n<table border=\"1\" class=\"dataframe\">\n  <thead>\n    <tr style=\"text-align: right;\">\n      <th></th>\n      <th>count</th>\n    </tr>\n  </thead>\n  <tbody>\n    <tr>\n      <th>0</th>\n      <td>9299</td>\n    </tr>\n  </tbody>\n</table>\n</div>"
     },
     "metadata": {},
     "execution_count": 4
    }
   ],
   "source": [
    "query = \"\"\"\n",
    "SELECT COUNT(*)\n",
    "FROM pls_fy2009_pupld09a;\n",
    "\"\"\"\n",
    "\n",
    "execute_query(conn, query)"
   ]
  },
  {
   "cell_type": "code",
   "execution_count": 5,
   "metadata": {},
   "outputs": [
    {
     "output_type": "execute_result",
     "data": {
      "text/plain": [
       "   count\n",
       "0   5983"
      ],
      "text/html": "<div>\n<style scoped>\n    .dataframe tbody tr th:only-of-type {\n        vertical-align: middle;\n    }\n\n    .dataframe tbody tr th {\n        vertical-align: top;\n    }\n\n    .dataframe thead th {\n        text-align: right;\n    }\n</style>\n<table border=\"1\" class=\"dataframe\">\n  <thead>\n    <tr style=\"text-align: right;\">\n      <th></th>\n      <th>count</th>\n    </tr>\n  </thead>\n  <tbody>\n    <tr>\n      <th>0</th>\n      <td>5983</td>\n    </tr>\n  </tbody>\n</table>\n</div>"
     },
     "metadata": {},
     "execution_count": 5
    }
   ],
   "source": [
    "# Examining the count of rows in columns where the NOT NULL constraint was not applied\n",
    "query = \"\"\"\n",
    "SELECT COUNT(salaries)\n",
    "FROM pls_fy2014_pupld14a;\n",
    "\"\"\"\n",
    "execute_query(conn,query)"
   ]
  },
  {
   "cell_type": "code",
   "execution_count": 6,
   "metadata": {},
   "outputs": [
    {
     "output_type": "execute_result",
     "data": {
      "text/plain": [
       "   count\n",
       "0   9305"
      ],
      "text/html": "<div>\n<style scoped>\n    .dataframe tbody tr th:only-of-type {\n        vertical-align: middle;\n    }\n\n    .dataframe tbody tr th {\n        vertical-align: top;\n    }\n\n    .dataframe thead th {\n        text-align: right;\n    }\n</style>\n<table border=\"1\" class=\"dataframe\">\n  <thead>\n    <tr style=\"text-align: right;\">\n      <th></th>\n      <th>count</th>\n    </tr>\n  </thead>\n  <tbody>\n    <tr>\n      <th>0</th>\n      <td>9305</td>\n    </tr>\n  </tbody>\n</table>\n</div>"
     },
     "metadata": {},
     "execution_count": 6
    }
   ],
   "source": [
    "# Using the DISTINCT function to see how many unique values are contained within a column\n",
    "# This query returns the count of all rows\n",
    "query = \"\"\"\n",
    "SELECT COUNT(libname)\n",
    "FROM pls_fy2014_pupld14a;\n",
    "\"\"\"\n",
    "execute_query(conn,query)"
   ]
  },
  {
   "cell_type": "code",
   "execution_count": 7,
   "metadata": {},
   "outputs": [
    {
     "output_type": "execute_result",
     "data": {
      "text/plain": [
       "   count\n",
       "0   8515"
      ],
      "text/html": "<div>\n<style scoped>\n    .dataframe tbody tr th:only-of-type {\n        vertical-align: middle;\n    }\n\n    .dataframe tbody tr th {\n        vertical-align: top;\n    }\n\n    .dataframe thead th {\n        text-align: right;\n    }\n</style>\n<table border=\"1\" class=\"dataframe\">\n  <thead>\n    <tr style=\"text-align: right;\">\n      <th></th>\n      <th>count</th>\n    </tr>\n  </thead>\n  <tbody>\n    <tr>\n      <th>0</th>\n      <td>8515</td>\n    </tr>\n  </tbody>\n</table>\n</div>"
     },
     "metadata": {},
     "execution_count": 7
    }
   ],
   "source": [
    "# This query return the unique values of the same column. The number should be smaller as there are some duplicated values.\n",
    "query = \"\"\"\n",
    "SELECT COUNT(DISTINCT(libname))\n",
    "FROM pls_fy2014_pupld14a;\n",
    "\"\"\"\n",
    "execute_query(conn,query)"
   ]
  },
  {
   "cell_type": "code",
   "execution_count": 8,
   "metadata": {},
   "outputs": [
    {
     "output_type": "execute_result",
     "data": {
      "text/plain": [
       "        max  min\n",
       "0  17729020   -3"
      ],
      "text/html": "<div>\n<style scoped>\n    .dataframe tbody tr th:only-of-type {\n        vertical-align: middle;\n    }\n\n    .dataframe tbody tr th {\n        vertical-align: top;\n    }\n\n    .dataframe thead th {\n        text-align: right;\n    }\n</style>\n<table border=\"1\" class=\"dataframe\">\n  <thead>\n    <tr style=\"text-align: right;\">\n      <th></th>\n      <th>max</th>\n      <th>min</th>\n    </tr>\n  </thead>\n  <tbody>\n    <tr>\n      <th>0</th>\n      <td>17729020</td>\n      <td>-3</td>\n    </tr>\n  </tbody>\n</table>\n</div>"
     },
     "metadata": {},
     "execution_count": 8
    }
   ],
   "source": [
    "# Finding Maximum and Minimum Values Using MAX() and MIN()\n",
    "query = \"\"\"\n",
    "SELECT MAX(visits), MIN(visits)\n",
    "FROM pls_fy2014_pupld14a;\n",
    "\"\"\"\n",
    "execute_query(conn, query)"
   ]
  },
  {
   "cell_type": "code",
   "execution_count": 9,
   "metadata": {},
   "outputs": [
    {
     "output_type": "execute_result",
     "data": {
      "text/plain": [
       "  stabr  count\n",
       "0    NY    756\n",
       "1    IL    625\n",
       "2    TX    556\n",
       "3    IA    543\n",
       "4    PA    455"
      ],
      "text/html": "<div>\n<style scoped>\n    .dataframe tbody tr th:only-of-type {\n        vertical-align: middle;\n    }\n\n    .dataframe tbody tr th {\n        vertical-align: top;\n    }\n\n    .dataframe thead th {\n        text-align: right;\n    }\n</style>\n<table border=\"1\" class=\"dataframe\">\n  <thead>\n    <tr style=\"text-align: right;\">\n      <th></th>\n      <th>stabr</th>\n      <th>count</th>\n    </tr>\n  </thead>\n  <tbody>\n    <tr>\n      <th>0</th>\n      <td>NY</td>\n      <td>756</td>\n    </tr>\n    <tr>\n      <th>1</th>\n      <td>IL</td>\n      <td>625</td>\n    </tr>\n    <tr>\n      <th>2</th>\n      <td>TX</td>\n      <td>556</td>\n    </tr>\n    <tr>\n      <th>3</th>\n      <td>IA</td>\n      <td>543</td>\n    </tr>\n    <tr>\n      <th>4</th>\n      <td>PA</td>\n      <td>455</td>\n    </tr>\n  </tbody>\n</table>\n</div>"
     },
     "metadata": {},
     "execution_count": 9
    }
   ],
   "source": [
    "# Aggregating Data Using GROUP BY\n",
    "\n",
    "# Combining GROUP BY clause with COUNT()\n",
    "query = \"\"\"\n",
    "SELECT stabr, COUNT(*)\n",
    "FROM pls_fy2014_pupld14a\n",
    "GROUP BY stabr\n",
    "ORDER BY COUNT(*) DESC\n",
    "LIMIT 5;\n",
    "\"\"\"\n",
    "execute_query(conn, query)"
   ]
  },
  {
   "cell_type": "code",
   "execution_count": 12,
   "metadata": {},
   "outputs": [
    {
     "output_type": "execute_result",
     "data": {
      "text/plain": [
       "    stabr stataddr  count\n",
       "0      AK       00     70\n",
       "1      AK       15     10\n",
       "2      AK       07      5\n",
       "3      AL       00    221\n",
       "4      AL       07      3\n",
       "..    ...      ...    ...\n",
       "101    WI       07      6\n",
       "102    WI       15      3\n",
       "103    WV       00     93\n",
       "104    WV       15      4\n",
       "105    WY       00     23\n",
       "\n",
       "[106 rows x 3 columns]"
      ],
      "text/html": "<div>\n<style scoped>\n    .dataframe tbody tr th:only-of-type {\n        vertical-align: middle;\n    }\n\n    .dataframe tbody tr th {\n        vertical-align: top;\n    }\n\n    .dataframe thead th {\n        text-align: right;\n    }\n</style>\n<table border=\"1\" class=\"dataframe\">\n  <thead>\n    <tr style=\"text-align: right;\">\n      <th></th>\n      <th>stabr</th>\n      <th>stataddr</th>\n      <th>count</th>\n    </tr>\n  </thead>\n  <tbody>\n    <tr>\n      <th>0</th>\n      <td>AK</td>\n      <td>00</td>\n      <td>70</td>\n    </tr>\n    <tr>\n      <th>1</th>\n      <td>AK</td>\n      <td>15</td>\n      <td>10</td>\n    </tr>\n    <tr>\n      <th>2</th>\n      <td>AK</td>\n      <td>07</td>\n      <td>5</td>\n    </tr>\n    <tr>\n      <th>3</th>\n      <td>AL</td>\n      <td>00</td>\n      <td>221</td>\n    </tr>\n    <tr>\n      <th>4</th>\n      <td>AL</td>\n      <td>07</td>\n      <td>3</td>\n    </tr>\n    <tr>\n      <th>...</th>\n      <td>...</td>\n      <td>...</td>\n      <td>...</td>\n    </tr>\n    <tr>\n      <th>101</th>\n      <td>WI</td>\n      <td>07</td>\n      <td>6</td>\n    </tr>\n    <tr>\n      <th>102</th>\n      <td>WI</td>\n      <td>15</td>\n      <td>3</td>\n    </tr>\n    <tr>\n      <th>103</th>\n      <td>WV</td>\n      <td>00</td>\n      <td>93</td>\n    </tr>\n    <tr>\n      <th>104</th>\n      <td>WV</td>\n      <td>15</td>\n      <td>4</td>\n    </tr>\n    <tr>\n      <th>105</th>\n      <td>WY</td>\n      <td>00</td>\n      <td>23</td>\n    </tr>\n  </tbody>\n</table>\n<p>106 rows × 3 columns</p>\n</div>"
     },
     "metadata": {},
     "execution_count": 12
    }
   ],
   "source": [
    "# Aggregating data from multiple columns using GROUP BY\n",
    "query = \"\"\"\n",
    "SELECT stabr, stataddr, COUNT(*)\n",
    "FROM pls_fy2014_pupld14a\n",
    "GROUP BY stabr, stataddr\n",
    "ORDER BY stabr ASC, COUNT(*) DESC;\n",
    "\"\"\"\n",
    "\n",
    "execute_query(conn, query)"
   ]
  },
  {
   "cell_type": "code",
   "execution_count": 15,
   "metadata": {},
   "outputs": [
    {
     "output_type": "execute_result",
     "data": {
      "text/plain": [
       "   visits_2014  visits_2009\n",
       "0   1417299241   1585455205"
      ],
      "text/html": "<div>\n<style scoped>\n    .dataframe tbody tr th:only-of-type {\n        vertical-align: middle;\n    }\n\n    .dataframe tbody tr th {\n        vertical-align: top;\n    }\n\n    .dataframe thead th {\n        text-align: right;\n    }\n</style>\n<table border=\"1\" class=\"dataframe\">\n  <thead>\n    <tr style=\"text-align: right;\">\n      <th></th>\n      <th>visits_2014</th>\n      <th>visits_2009</th>\n    </tr>\n  </thead>\n  <tbody>\n    <tr>\n      <th>0</th>\n      <td>1417299241</td>\n      <td>1585455205</td>\n    </tr>\n  </tbody>\n</table>\n</div>"
     },
     "metadata": {},
     "execution_count": 15
    }
   ],
   "source": [
    "# Aggregating data from multiple joined tables\n",
    "\n",
    "# No aggregation but here we are trying to determine trends in library visists using the 2014 and 2009 tables \n",
    "query = \"\"\"\n",
    "SELECT SUM(pls14.visits) AS visits_2014,\n",
    "    SUM(pls09.visits) AS visits_2009\n",
    "FROM pls_fy2014_pupld14a AS pls14\n",
    "JOIN pls_fy2009_pupld09a AS pls09\n",
    "    ON pls14.fscskey = pls09.fscskey\n",
    "WHERE pls14.visits >=0 AND pls09.visits >= 0;\n",
    "\"\"\"\n",
    "\n",
    "execute_query(conn, query)"
   ]
  },
  {
   "cell_type": "code",
   "execution_count": 19,
   "metadata": {},
   "outputs": [
    {
     "output_type": "execute_result",
     "data": {
      "text/plain": [
       "  stabr  visits_2014  visits_2009 pct_change\n",
       "0    GU       103593        60763      70.49\n",
       "1    DC      4230790      2944774      43.67\n",
       "2    LA     17242110     15591805      10.58\n",
       "3    MT      4582604      4386504       4.47\n",
       "4    AL     17113602     16933967       1.06"
      ],
      "text/html": "<div>\n<style scoped>\n    .dataframe tbody tr th:only-of-type {\n        vertical-align: middle;\n    }\n\n    .dataframe tbody tr th {\n        vertical-align: top;\n    }\n\n    .dataframe thead th {\n        text-align: right;\n    }\n</style>\n<table border=\"1\" class=\"dataframe\">\n  <thead>\n    <tr style=\"text-align: right;\">\n      <th></th>\n      <th>stabr</th>\n      <th>visits_2014</th>\n      <th>visits_2009</th>\n      <th>pct_change</th>\n    </tr>\n  </thead>\n  <tbody>\n    <tr>\n      <th>0</th>\n      <td>GU</td>\n      <td>103593</td>\n      <td>60763</td>\n      <td>70.49</td>\n    </tr>\n    <tr>\n      <th>1</th>\n      <td>DC</td>\n      <td>4230790</td>\n      <td>2944774</td>\n      <td>43.67</td>\n    </tr>\n    <tr>\n      <th>2</th>\n      <td>LA</td>\n      <td>17242110</td>\n      <td>15591805</td>\n      <td>10.58</td>\n    </tr>\n    <tr>\n      <th>3</th>\n      <td>MT</td>\n      <td>4582604</td>\n      <td>4386504</td>\n      <td>4.47</td>\n    </tr>\n    <tr>\n      <th>4</th>\n      <td>AL</td>\n      <td>17113602</td>\n      <td>16933967</td>\n      <td>1.06</td>\n    </tr>\n  </tbody>\n</table>\n</div>"
     },
     "metadata": {},
     "execution_count": 19
    }
   ],
   "source": [
    "# Aggregating data to compare trends by states\n",
    "query = \"\"\"\n",
    "SELECT\n",
    "    pls14.stabr,\n",
    "    SUM(pls14.visits) AS visits_2014,\n",
    "    SUM(pls09.visits) AS visits_2009,\n",
    "    ROUND( (CAST(SUM(pls14.visits) AS DECIMAL(10, 1)) - SUM(pls09.visits)) /\n",
    "        SUM(pls09.visits) * 100, 2) AS pct_change\n",
    "FROM pls_fy2014_pupld14a AS pls14\n",
    "JOIN pls_fy2009_pupld09a AS pls09\n",
    "    ON pls14.fscskey = pls09.fscskey\n",
    "WHERE pls14.visits >=0 AND pls09.visits >= 0\n",
    "GROUP BY pls14.stabr\n",
    "ORDER BY pct_change DESC\n",
    "LIMIT 5\n",
    ";\n",
    "\"\"\"\n",
    "\n",
    "execute_query(conn, query)"
   ]
  },
  {
   "cell_type": "code",
   "execution_count": 20,
   "metadata": {},
   "outputs": [
    {
     "output_type": "execute_result",
     "data": {
      "text/plain": [
       "  stabr  visits_2014  visits_2009 pct_change\n",
       "0    TX     72876601     78838400      -7.56\n",
       "1    CA    162787836    182181408     -10.65\n",
       "2    OH     82495138     92402369     -10.72\n",
       "3    NY    106453546    119810969     -11.15\n",
       "4    IL     72598213     82438755     -11.94"
      ],
      "text/html": "<div>\n<style scoped>\n    .dataframe tbody tr th:only-of-type {\n        vertical-align: middle;\n    }\n\n    .dataframe tbody tr th {\n        vertical-align: top;\n    }\n\n    .dataframe thead th {\n        text-align: right;\n    }\n</style>\n<table border=\"1\" class=\"dataframe\">\n  <thead>\n    <tr style=\"text-align: right;\">\n      <th></th>\n      <th>stabr</th>\n      <th>visits_2014</th>\n      <th>visits_2009</th>\n      <th>pct_change</th>\n    </tr>\n  </thead>\n  <tbody>\n    <tr>\n      <th>0</th>\n      <td>TX</td>\n      <td>72876601</td>\n      <td>78838400</td>\n      <td>-7.56</td>\n    </tr>\n    <tr>\n      <th>1</th>\n      <td>CA</td>\n      <td>162787836</td>\n      <td>182181408</td>\n      <td>-10.65</td>\n    </tr>\n    <tr>\n      <th>2</th>\n      <td>OH</td>\n      <td>82495138</td>\n      <td>92402369</td>\n      <td>-10.72</td>\n    </tr>\n    <tr>\n      <th>3</th>\n      <td>NY</td>\n      <td>106453546</td>\n      <td>119810969</td>\n      <td>-11.15</td>\n    </tr>\n    <tr>\n      <th>4</th>\n      <td>IL</td>\n      <td>72598213</td>\n      <td>82438755</td>\n      <td>-11.94</td>\n    </tr>\n  </tbody>\n</table>\n</div>"
     },
     "metadata": {},
     "execution_count": 20
    }
   ],
   "source": [
    "# Filtering an Aggregate Query Using Having\n",
    "query = \"\"\"\n",
    "SELECT\n",
    "    pls14.stabr,\n",
    "    SUM(pls14.visits) AS visits_2014,\n",
    "    SUM(pls09.visits) AS visits_2009,\n",
    "    ROUND( (CAST(SUM(pls14.visits) AS DECIMAL(10, 1)) - SUM(pls09.visits)) /\n",
    "        SUM(pls09.visits) * 100, 2) AS pct_change\n",
    "FROM pls_fy2014_pupld14a AS pls14\n",
    "JOIN pls_fy2009_pupld09a AS pls09\n",
    "    ON pls14.fscskey = pls09.fscskey\n",
    "WHERE pls14.visits >=0 AND pls09.visits >= 0\n",
    "GROUP BY pls14.stabr\n",
    "HAVING SUM(pls14.visits) > 50000000\n",
    "ORDER BY pct_change DESC\n",
    "LIMIT 5\n",
    ";\n",
    "\"\"\"\n",
    "\n",
    "execute_query(conn, query)"
   ]
  },
  {
   "cell_type": "code",
   "execution_count": null,
   "metadata": {},
   "outputs": [],
   "source": []
  }
 ]
}