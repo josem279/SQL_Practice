{
 "metadata": {
  "language_info": {
   "codemirror_mode": {
    "name": "ipython",
    "version": 3
   },
   "file_extension": ".py",
   "mimetype": "text/x-python",
   "name": "python",
   "nbconvert_exporter": "python",
   "pygments_lexer": "ipython3",
   "version": "3.9.1-final"
  },
  "orig_nbformat": 2,
  "kernelspec": {
   "name": "python3",
   "display_name": "Python 3.9.1 64-bit",
   "metadata": {
    "interpreter": {
     "hash": "b5843a13e7131a14c3c0e364f0390d6592a995e3082c3f83420ac4385eeb2370"
    }
   }
  }
 },
 "nbformat": 4,
 "nbformat_minor": 2,
 "cells": [
  {
   "source": [
    "# Practical SQL: Chapter Practice Notebook\n",
    "\n",
    "This Jupyter notebook will display all SQL queries and practices covered in each chapter of the book \"Practical SQL: A Beginner's Guide To Storytelling With Data\" by Anthony DeBarros.\n",
    "\n",
    "The first part of this notebook will require us to import a couple of dependencies as well as personal data that will allow us to link out Jupyter Notebook to PostgreSQL."
   ],
   "cell_type": "markdown",
   "metadata": {}
  },
  {
   "cell_type": "code",
   "execution_count": 1,
   "metadata": {},
   "outputs": [],
   "source": [
    "import psycopg2\n",
    "import pandas as pd\n",
    "from sql_data import db, usr, pwd"
   ]
  },
  {
   "cell_type": "code",
   "execution_count": 2,
   "metadata": {},
   "outputs": [],
   "source": [
    "# Connecting to postgreSQL database\n",
    "conn = psycopg2.connect(\n",
    "    host = \"localhost\",\n",
    "    database = db,\n",
    "    user = usr,\n",
    "    password = pwd,\n",
    "    port = 5432\n",
    ")\n",
    "\n",
    "def execute_query(connection, query):\n",
    "    connection.autocommit = True\n",
    "    cursor = connection.cursor()\n",
    "    try:\n",
    "        cursor.execute(query)\n",
    "        results = cursor.fetchall()\n",
    "        column_names = [i[0] for i in cursor.description]\n",
    "        results = pd.DataFrame(results, columns= column_names)\n",
    "        return results\n",
    "        print(\"Query executed succesfully!\")\n",
    "        # Closing the cursor\n",
    "        cursor.close()\n",
    "        del cursor\n",
    "        # Closing the connection\n",
    "        connection.close()\n",
    "    except OperationalError as e:\n",
    "        print(f\"The error '{e}' occurred.\")"
   ]
  },
  {
   "source": [
    "## Chapter 8: Extracting Information By Grouping and Summarizing\n",
    "\n",
    "This chapter requires us to build two tables based on the 2009 and 2014 Public Library Surveys conducted by the Institute of Museum and Library Services (IMLS). Please refer to the books resources as detailed in the readme page to gain access to the csv files needed to fill in the two library tables used henceforth."
   ],
   "cell_type": "markdown",
   "metadata": {}
  },
  {
   "cell_type": "code",
   "execution_count": 3,
   "metadata": {},
   "outputs": [
    {
     "output_type": "execute_result",
     "data": {
      "text/plain": [
       "   count\n",
       "0   9305"
      ],
      "text/html": "<div>\n<style scoped>\n    .dataframe tbody tr th:only-of-type {\n        vertical-align: middle;\n    }\n\n    .dataframe tbody tr th {\n        vertical-align: top;\n    }\n\n    .dataframe thead th {\n        text-align: right;\n    }\n</style>\n<table border=\"1\" class=\"dataframe\">\n  <thead>\n    <tr style=\"text-align: right;\">\n      <th></th>\n      <th>count</th>\n    </tr>\n  </thead>\n  <tbody>\n    <tr>\n      <th>0</th>\n      <td>9305</td>\n    </tr>\n  </tbody>\n</table>\n</div>"
     },
     "metadata": {},
     "execution_count": 3
    }
   ],
   "source": [
    "# Exploring the Library Data Using Aggregate Functions\n",
    "# Counting Rows and Values using Count()\n",
    "\n",
    "query = \"\"\"\n",
    "SELECT COUNT(*)\n",
    "FROM pls_fy2014_pupld14a;\n",
    "\"\"\"\n",
    "\n",
    "execute_query(conn, query)"
   ]
  },
  {
   "cell_type": "code",
   "execution_count": 4,
   "metadata": {},
   "outputs": [
    {
     "output_type": "execute_result",
     "data": {
      "text/plain": [
       "   count\n",
       "0   9299"
      ],
      "text/html": "<div>\n<style scoped>\n    .dataframe tbody tr th:only-of-type {\n        vertical-align: middle;\n    }\n\n    .dataframe tbody tr th {\n        vertical-align: top;\n    }\n\n    .dataframe thead th {\n        text-align: right;\n    }\n</style>\n<table border=\"1\" class=\"dataframe\">\n  <thead>\n    <tr style=\"text-align: right;\">\n      <th></th>\n      <th>count</th>\n    </tr>\n  </thead>\n  <tbody>\n    <tr>\n      <th>0</th>\n      <td>9299</td>\n    </tr>\n  </tbody>\n</table>\n</div>"
     },
     "metadata": {},
     "execution_count": 4
    }
   ],
   "source": [
    "query = \"\"\"\n",
    "SELECT COUNT(*)\n",
    "FROM pls_fy2009_pupld09a;\n",
    "\"\"\"\n",
    "\n",
    "execute_query(conn, query)"
   ]
  },
  {
   "cell_type": "code",
   "execution_count": 5,
   "metadata": {},
   "outputs": [
    {
     "output_type": "execute_result",
     "data": {
      "text/plain": [
       "   count\n",
       "0   5983"
      ],
      "text/html": "<div>\n<style scoped>\n    .dataframe tbody tr th:only-of-type {\n        vertical-align: middle;\n    }\n\n    .dataframe tbody tr th {\n        vertical-align: top;\n    }\n\n    .dataframe thead th {\n        text-align: right;\n    }\n</style>\n<table border=\"1\" class=\"dataframe\">\n  <thead>\n    <tr style=\"text-align: right;\">\n      <th></th>\n      <th>count</th>\n    </tr>\n  </thead>\n  <tbody>\n    <tr>\n      <th>0</th>\n      <td>5983</td>\n    </tr>\n  </tbody>\n</table>\n</div>"
     },
     "metadata": {},
     "execution_count": 5
    }
   ],
   "source": [
    "# Examining the count of rows in columns where the NOT NULL constraint was not applied\n",
    "query = \"\"\"\n",
    "SELECT COUNT(salaries)\n",
    "FROM pls_fy2014_pupld14a;\n",
    "\"\"\"\n",
    "execute_query(conn,query)"
   ]
  },
  {
   "cell_type": "code",
   "execution_count": 6,
   "metadata": {},
   "outputs": [
    {
     "output_type": "execute_result",
     "data": {
      "text/plain": [
       "   count\n",
       "0   9305"
      ],
      "text/html": "<div>\n<style scoped>\n    .dataframe tbody tr th:only-of-type {\n        vertical-align: middle;\n    }\n\n    .dataframe tbody tr th {\n        vertical-align: top;\n    }\n\n    .dataframe thead th {\n        text-align: right;\n    }\n</style>\n<table border=\"1\" class=\"dataframe\">\n  <thead>\n    <tr style=\"text-align: right;\">\n      <th></th>\n      <th>count</th>\n    </tr>\n  </thead>\n  <tbody>\n    <tr>\n      <th>0</th>\n      <td>9305</td>\n    </tr>\n  </tbody>\n</table>\n</div>"
     },
     "metadata": {},
     "execution_count": 6
    }
   ],
   "source": [
    "# Using the DISTINCT function to see how many unique values are contained within a column\n",
    "# This query returns the count of all rows\n",
    "query = \"\"\"\n",
    "SELECT COUNT(libname)\n",
    "FROM pls_fy2014_pupld14a;\n",
    "\"\"\"\n",
    "execute_query(conn,query)"
   ]
  },
  {
   "cell_type": "code",
   "execution_count": 7,
   "metadata": {},
   "outputs": [
    {
     "output_type": "execute_result",
     "data": {
      "text/plain": [
       "   count\n",
       "0   8515"
      ],
      "text/html": "<div>\n<style scoped>\n    .dataframe tbody tr th:only-of-type {\n        vertical-align: middle;\n    }\n\n    .dataframe tbody tr th {\n        vertical-align: top;\n    }\n\n    .dataframe thead th {\n        text-align: right;\n    }\n</style>\n<table border=\"1\" class=\"dataframe\">\n  <thead>\n    <tr style=\"text-align: right;\">\n      <th></th>\n      <th>count</th>\n    </tr>\n  </thead>\n  <tbody>\n    <tr>\n      <th>0</th>\n      <td>8515</td>\n    </tr>\n  </tbody>\n</table>\n</div>"
     },
     "metadata": {},
     "execution_count": 7
    }
   ],
   "source": [
    "# This query return the unique values of the same column. The number should be smaller as there are some duplicated values.\n",
    "query = \"\"\"\n",
    "SELECT COUNT(DISTINCT(libname))\n",
    "FROM pls_fy2014_pupld14a;\n",
    "\"\"\"\n",
    "execute_query(conn,query)"
   ]
  },
  {
   "cell_type": "code",
   "execution_count": 8,
   "metadata": {},
   "outputs": [
    {
     "output_type": "execute_result",
     "data": {
      "text/plain": [
       "        max  min\n",
       "0  17729020   -3"
      ],
      "text/html": "<div>\n<style scoped>\n    .dataframe tbody tr th:only-of-type {\n        vertical-align: middle;\n    }\n\n    .dataframe tbody tr th {\n        vertical-align: top;\n    }\n\n    .dataframe thead th {\n        text-align: right;\n    }\n</style>\n<table border=\"1\" class=\"dataframe\">\n  <thead>\n    <tr style=\"text-align: right;\">\n      <th></th>\n      <th>max</th>\n      <th>min</th>\n    </tr>\n  </thead>\n  <tbody>\n    <tr>\n      <th>0</th>\n      <td>17729020</td>\n      <td>-3</td>\n    </tr>\n  </tbody>\n</table>\n</div>"
     },
     "metadata": {},
     "execution_count": 8
    }
   ],
   "source": [
    "# Finding Maximum and Minimum Values Using MAX() and MIN()\n",
    "query = \"\"\"\n",
    "SELECT MAX(visits), MIN(visits)\n",
    "FROM pls_fy2014_pupld14a;\n",
    "\"\"\"\n",
    "execute_query(conn, query)"
   ]
  },
  {
   "cell_type": "code",
   "execution_count": 9,
   "metadata": {},
   "outputs": [
    {
     "output_type": "execute_result",
     "data": {
      "text/plain": [
       "  stabr  count\n",
       "0    NY    756\n",
       "1    IL    625\n",
       "2    TX    556\n",
       "3    IA    543\n",
       "4    PA    455"
      ],
      "text/html": "<div>\n<style scoped>\n    .dataframe tbody tr th:only-of-type {\n        vertical-align: middle;\n    }\n\n    .dataframe tbody tr th {\n        vertical-align: top;\n    }\n\n    .dataframe thead th {\n        text-align: right;\n    }\n</style>\n<table border=\"1\" class=\"dataframe\">\n  <thead>\n    <tr style=\"text-align: right;\">\n      <th></th>\n      <th>stabr</th>\n      <th>count</th>\n    </tr>\n  </thead>\n  <tbody>\n    <tr>\n      <th>0</th>\n      <td>NY</td>\n      <td>756</td>\n    </tr>\n    <tr>\n      <th>1</th>\n      <td>IL</td>\n      <td>625</td>\n    </tr>\n    <tr>\n      <th>2</th>\n      <td>TX</td>\n      <td>556</td>\n    </tr>\n    <tr>\n      <th>3</th>\n      <td>IA</td>\n      <td>543</td>\n    </tr>\n    <tr>\n      <th>4</th>\n      <td>PA</td>\n      <td>455</td>\n    </tr>\n  </tbody>\n</table>\n</div>"
     },
     "metadata": {},
     "execution_count": 9
    }
   ],
   "source": [
    "# Aggregating Data Using GROUP BY\n",
    "\n",
    "# Combining GROUP BY clause with COUNT()\n",
    "query = \"\"\"\n",
    "SELECT stabr, COUNT(*)\n",
    "FROM pls_fy2014_pupld14a\n",
    "GROUP BY stabr\n",
    "ORDER BY COUNT(*) DESC\n",
    "LIMIT 5;\n",
    "\"\"\"\n",
    "execute_query(conn, query)"
   ]
  },
  {
   "cell_type": "code",
   "execution_count": 10,
   "metadata": {},
   "outputs": [
    {
     "output_type": "execute_result",
     "data": {
      "text/plain": [
       "    stabr stataddr  count\n",
       "0      AK       00     70\n",
       "1      AK       15     10\n",
       "2      AK       07      5\n",
       "3      AL       00    221\n",
       "4      AL       07      3\n",
       "..    ...      ...    ...\n",
       "101    WI       07      6\n",
       "102    WI       15      3\n",
       "103    WV       00     93\n",
       "104    WV       15      4\n",
       "105    WY       00     23\n",
       "\n",
       "[106 rows x 3 columns]"
      ],
      "text/html": "<div>\n<style scoped>\n    .dataframe tbody tr th:only-of-type {\n        vertical-align: middle;\n    }\n\n    .dataframe tbody tr th {\n        vertical-align: top;\n    }\n\n    .dataframe thead th {\n        text-align: right;\n    }\n</style>\n<table border=\"1\" class=\"dataframe\">\n  <thead>\n    <tr style=\"text-align: right;\">\n      <th></th>\n      <th>stabr</th>\n      <th>stataddr</th>\n      <th>count</th>\n    </tr>\n  </thead>\n  <tbody>\n    <tr>\n      <th>0</th>\n      <td>AK</td>\n      <td>00</td>\n      <td>70</td>\n    </tr>\n    <tr>\n      <th>1</th>\n      <td>AK</td>\n      <td>15</td>\n      <td>10</td>\n    </tr>\n    <tr>\n      <th>2</th>\n      <td>AK</td>\n      <td>07</td>\n      <td>5</td>\n    </tr>\n    <tr>\n      <th>3</th>\n      <td>AL</td>\n      <td>00</td>\n      <td>221</td>\n    </tr>\n    <tr>\n      <th>4</th>\n      <td>AL</td>\n      <td>07</td>\n      <td>3</td>\n    </tr>\n    <tr>\n      <th>...</th>\n      <td>...</td>\n      <td>...</td>\n      <td>...</td>\n    </tr>\n    <tr>\n      <th>101</th>\n      <td>WI</td>\n      <td>07</td>\n      <td>6</td>\n    </tr>\n    <tr>\n      <th>102</th>\n      <td>WI</td>\n      <td>15</td>\n      <td>3</td>\n    </tr>\n    <tr>\n      <th>103</th>\n      <td>WV</td>\n      <td>00</td>\n      <td>93</td>\n    </tr>\n    <tr>\n      <th>104</th>\n      <td>WV</td>\n      <td>15</td>\n      <td>4</td>\n    </tr>\n    <tr>\n      <th>105</th>\n      <td>WY</td>\n      <td>00</td>\n      <td>23</td>\n    </tr>\n  </tbody>\n</table>\n<p>106 rows × 3 columns</p>\n</div>"
     },
     "metadata": {},
     "execution_count": 10
    }
   ],
   "source": [
    "# Aggregating data from multiple columns using GROUP BY\n",
    "query = \"\"\"\n",
    "SELECT stabr, stataddr, COUNT(*)\n",
    "FROM pls_fy2014_pupld14a\n",
    "GROUP BY stabr, stataddr\n",
    "ORDER BY stabr ASC, COUNT(*) DESC;\n",
    "\"\"\"\n",
    "\n",
    "execute_query(conn, query)"
   ]
  },
  {
   "cell_type": "code",
   "execution_count": 11,
   "metadata": {},
   "outputs": [
    {
     "output_type": "execute_result",
     "data": {
      "text/plain": [
       "   visits_2014  visits_2009\n",
       "0   1417299241   1585455205"
      ],
      "text/html": "<div>\n<style scoped>\n    .dataframe tbody tr th:only-of-type {\n        vertical-align: middle;\n    }\n\n    .dataframe tbody tr th {\n        vertical-align: top;\n    }\n\n    .dataframe thead th {\n        text-align: right;\n    }\n</style>\n<table border=\"1\" class=\"dataframe\">\n  <thead>\n    <tr style=\"text-align: right;\">\n      <th></th>\n      <th>visits_2014</th>\n      <th>visits_2009</th>\n    </tr>\n  </thead>\n  <tbody>\n    <tr>\n      <th>0</th>\n      <td>1417299241</td>\n      <td>1585455205</td>\n    </tr>\n  </tbody>\n</table>\n</div>"
     },
     "metadata": {},
     "execution_count": 11
    }
   ],
   "source": [
    "# Aggregating data from multiple joined tables\n",
    "\n",
    "# No aggregation but here we are trying to determine trends in library visists using the 2014 and 2009 tables \n",
    "query = \"\"\"\n",
    "SELECT SUM(pls14.visits) AS visits_2014,\n",
    "    SUM(pls09.visits) AS visits_2009\n",
    "FROM pls_fy2014_pupld14a AS pls14\n",
    "JOIN pls_fy2009_pupld09a AS pls09\n",
    "    ON pls14.fscskey = pls09.fscskey\n",
    "WHERE pls14.visits >=0 AND pls09.visits >= 0;\n",
    "\"\"\"\n",
    "\n",
    "execute_query(conn, query)"
   ]
  },
  {
   "cell_type": "code",
   "execution_count": 12,
   "metadata": {},
   "outputs": [
    {
     "output_type": "execute_result",
     "data": {
      "text/plain": [
       "  stabr  visits_2014  visits_2009 pct_change\n",
       "0    GU       103593        60763      70.49\n",
       "1    DC      4230790      2944774      43.67\n",
       "2    LA     17242110     15591805      10.58\n",
       "3    MT      4582604      4386504       4.47\n",
       "4    AL     17113602     16933967       1.06"
      ],
      "text/html": "<div>\n<style scoped>\n    .dataframe tbody tr th:only-of-type {\n        vertical-align: middle;\n    }\n\n    .dataframe tbody tr th {\n        vertical-align: top;\n    }\n\n    .dataframe thead th {\n        text-align: right;\n    }\n</style>\n<table border=\"1\" class=\"dataframe\">\n  <thead>\n    <tr style=\"text-align: right;\">\n      <th></th>\n      <th>stabr</th>\n      <th>visits_2014</th>\n      <th>visits_2009</th>\n      <th>pct_change</th>\n    </tr>\n  </thead>\n  <tbody>\n    <tr>\n      <th>0</th>\n      <td>GU</td>\n      <td>103593</td>\n      <td>60763</td>\n      <td>70.49</td>\n    </tr>\n    <tr>\n      <th>1</th>\n      <td>DC</td>\n      <td>4230790</td>\n      <td>2944774</td>\n      <td>43.67</td>\n    </tr>\n    <tr>\n      <th>2</th>\n      <td>LA</td>\n      <td>17242110</td>\n      <td>15591805</td>\n      <td>10.58</td>\n    </tr>\n    <tr>\n      <th>3</th>\n      <td>MT</td>\n      <td>4582604</td>\n      <td>4386504</td>\n      <td>4.47</td>\n    </tr>\n    <tr>\n      <th>4</th>\n      <td>AL</td>\n      <td>17113602</td>\n      <td>16933967</td>\n      <td>1.06</td>\n    </tr>\n  </tbody>\n</table>\n</div>"
     },
     "metadata": {},
     "execution_count": 12
    }
   ],
   "source": [
    "# Aggregating data to compare trends by states\n",
    "query = \"\"\"\n",
    "SELECT\n",
    "    pls14.stabr,\n",
    "    SUM(pls14.visits) AS visits_2014,\n",
    "    SUM(pls09.visits) AS visits_2009,\n",
    "    ROUND( (CAST(SUM(pls14.visits) AS DECIMAL(10, 1)) - SUM(pls09.visits)) /\n",
    "        SUM(pls09.visits) * 100, 2) AS pct_change\n",
    "FROM pls_fy2014_pupld14a AS pls14\n",
    "JOIN pls_fy2009_pupld09a AS pls09\n",
    "    ON pls14.fscskey = pls09.fscskey\n",
    "WHERE pls14.visits >=0 AND pls09.visits >= 0\n",
    "GROUP BY pls14.stabr\n",
    "ORDER BY pct_change DESC\n",
    "LIMIT 5\n",
    ";\n",
    "\"\"\"\n",
    "\n",
    "execute_query(conn, query)"
   ]
  },
  {
   "cell_type": "code",
   "execution_count": 13,
   "metadata": {},
   "outputs": [
    {
     "output_type": "execute_result",
     "data": {
      "text/plain": [
       "  stabr  visits_2014  visits_2009 pct_change\n",
       "0    TX     72876601     78838400      -7.56\n",
       "1    CA    162787836    182181408     -10.65\n",
       "2    OH     82495138     92402369     -10.72\n",
       "3    NY    106453546    119810969     -11.15\n",
       "4    IL     72598213     82438755     -11.94"
      ],
      "text/html": "<div>\n<style scoped>\n    .dataframe tbody tr th:only-of-type {\n        vertical-align: middle;\n    }\n\n    .dataframe tbody tr th {\n        vertical-align: top;\n    }\n\n    .dataframe thead th {\n        text-align: right;\n    }\n</style>\n<table border=\"1\" class=\"dataframe\">\n  <thead>\n    <tr style=\"text-align: right;\">\n      <th></th>\n      <th>stabr</th>\n      <th>visits_2014</th>\n      <th>visits_2009</th>\n      <th>pct_change</th>\n    </tr>\n  </thead>\n  <tbody>\n    <tr>\n      <th>0</th>\n      <td>TX</td>\n      <td>72876601</td>\n      <td>78838400</td>\n      <td>-7.56</td>\n    </tr>\n    <tr>\n      <th>1</th>\n      <td>CA</td>\n      <td>162787836</td>\n      <td>182181408</td>\n      <td>-10.65</td>\n    </tr>\n    <tr>\n      <th>2</th>\n      <td>OH</td>\n      <td>82495138</td>\n      <td>92402369</td>\n      <td>-10.72</td>\n    </tr>\n    <tr>\n      <th>3</th>\n      <td>NY</td>\n      <td>106453546</td>\n      <td>119810969</td>\n      <td>-11.15</td>\n    </tr>\n    <tr>\n      <th>4</th>\n      <td>IL</td>\n      <td>72598213</td>\n      <td>82438755</td>\n      <td>-11.94</td>\n    </tr>\n  </tbody>\n</table>\n</div>"
     },
     "metadata": {},
     "execution_count": 13
    }
   ],
   "source": [
    "# Filtering an Aggregate Query Using Having\n",
    "query = \"\"\"\n",
    "SELECT\n",
    "    pls14.stabr,\n",
    "    SUM(pls14.visits) AS visits_2014,\n",
    "    SUM(pls09.visits) AS visits_2009,\n",
    "    ROUND( (CAST(SUM(pls14.visits) AS DECIMAL(10, 1)) - SUM(pls09.visits)) /\n",
    "        SUM(pls09.visits) * 100, 2) AS pct_change\n",
    "FROM pls_fy2014_pupld14a AS pls14\n",
    "JOIN pls_fy2009_pupld09a AS pls09\n",
    "    ON pls14.fscskey = pls09.fscskey\n",
    "WHERE pls14.visits >=0 AND pls09.visits >= 0\n",
    "GROUP BY pls14.stabr\n",
    "HAVING SUM(pls14.visits) > 50000000\n",
    "ORDER BY pct_change DESC\n",
    "LIMIT 5\n",
    ";\n",
    "\"\"\"\n",
    "\n",
    "execute_query(conn, query)"
   ]
  },
  {
   "source": [
    "## Chapter 9: Inspecting and Modifying Data\n",
    "\n",
    "For this chaper, we will use a direcory of U.S. meat, poultry, and egg producers provided by the Food Safety and Inspection Service (FSIS)  agency within the U.S. Department of Agriculture.\n",
    "\n",
    "These first initial queries should give us some insight into our dataset:"
   ],
   "cell_type": "markdown",
   "metadata": {}
  },
  {
   "cell_type": "code",
   "execution_count": 15,
   "metadata": {},
   "outputs": [
    {
     "output_type": "execute_result",
     "data": {
      "text/plain": [
       "   count\n",
       "0   6287"
      ],
      "text/html": "<div>\n<style scoped>\n    .dataframe tbody tr th:only-of-type {\n        vertical-align: middle;\n    }\n\n    .dataframe tbody tr th {\n        vertical-align: top;\n    }\n\n    .dataframe thead th {\n        text-align: right;\n    }\n</style>\n<table border=\"1\" class=\"dataframe\">\n  <thead>\n    <tr style=\"text-align: right;\">\n      <th></th>\n      <th>count</th>\n    </tr>\n  </thead>\n  <tbody>\n    <tr>\n      <th>0</th>\n      <td>6287</td>\n    </tr>\n  </tbody>\n</table>\n</div>"
     },
     "metadata": {},
     "execution_count": 15
    }
   ],
   "source": [
    "# Reviweing our imported data\n",
    "query = \"\"\"\n",
    "SELECT COUNT(*)\n",
    "FROM meat_poultry_egg_inspect;\n",
    "\"\"\"\n",
    "\n",
    "execute_query(conn, query)"
   ]
  },
  {
   "cell_type": "code",
   "execution_count": 16,
   "metadata": {},
   "outputs": [
    {
     "output_type": "execute_result",
     "data": {
      "text/plain": [
       "                                           company  \\\n",
       "0                           Acre Station Meat Farm   \n",
       "1                               Beltex Corporation   \n",
       "2                          Cloverleaf Cold Storage   \n",
       "3                      Crete Core Ingredients, LLC   \n",
       "4                                     Crider, Inc.   \n",
       "5                Dimension Marketing & Sales, Inc.   \n",
       "6   Foster Poultry Farms, A California Corporation   \n",
       "7                       Freezer & Dry Storage, LLC   \n",
       "8                               JBS Souderton Inc.   \n",
       "9                        KB Poultry Processing LLC   \n",
       "10                  Lakeside Refrigerated Services   \n",
       "11                            Liberty Cold Storage   \n",
       "12                           M.G. Waldbaum Company   \n",
       "13              Midway International Logistics LLC   \n",
       "14           Nordic Logistics and Warehousing, LLC   \n",
       "15                                  OK Foods, Inc.   \n",
       "16                     Pacific Produce Corporation   \n",
       "17               Payless Distribution Center (PDC)   \n",
       "18                   Piatkowski Riteway Meats Inc.   \n",
       "19                      Preferred Freezer Services   \n",
       "20                                THE AMERICAN PIG   \n",
       "21                       The Classic Jerky Company   \n",
       "22                 United States Cold Storage Inc.   \n",
       "\n",
       "                                  street           city  st  address_count  \n",
       "0                         17076 Hwy 32 N       Pinetown  NC              2  \n",
       "1                3801 North Grove Street     Fort Worth  TX              2  \n",
       "2                     111 Imperial Drive        Sanford  NC              2  \n",
       "3                     2220 County Road I          Crete  NE              2  \n",
       "4                         1 Plant Avenue      Stillmore  GA              3  \n",
       "5                    386 West 9400 South          Sandy  UT              2  \n",
       "6                  6648 Highway 15 North    Farmerville  LA              2  \n",
       "7         21740 Trolley Industrial Drive         Taylor  MI              2  \n",
       "8                     249 Allentown Road      Souderton  PA              2  \n",
       "9                    15024 Sandstone Dr.          Utica  MN              2  \n",
       "10               2600 Oldmans Creek Road     Swedesboro  NJ              2  \n",
       "11                  1310 Remington Blvd.    Bolingbrook  IL              2  \n",
       "12                      120 Tower Street        Gaylord  MN              3  \n",
       "13                    948 Bradley Street      Watertown  NY              2  \n",
       "14                        220 Nordic Way         Pooler  GA              2  \n",
       "15                        3921 Reed Lane     Fort Smith  AR              2  \n",
       "16  220 East Harmon Industrial Park Road       Tamuning  GU              2  \n",
       "17                   370 Mendioka Street         Dededo  GU              2  \n",
       "18                      3555 Witmer Road  Niagara Falls  NY              2  \n",
       "19                     2700 Trade Street     Chesapeake  VA              2  \n",
       "20                        25 MEADOW ROAD      ASHEVILLE  NC              2  \n",
       "21        21655 Trolley Industrial Drive         Taylor  MI              2  \n",
       "22                     11801 NW 102 Road         Medley  FL              2  "
      ],
      "text/html": "<div>\n<style scoped>\n    .dataframe tbody tr th:only-of-type {\n        vertical-align: middle;\n    }\n\n    .dataframe tbody tr th {\n        vertical-align: top;\n    }\n\n    .dataframe thead th {\n        text-align: right;\n    }\n</style>\n<table border=\"1\" class=\"dataframe\">\n  <thead>\n    <tr style=\"text-align: right;\">\n      <th></th>\n      <th>company</th>\n      <th>street</th>\n      <th>city</th>\n      <th>st</th>\n      <th>address_count</th>\n    </tr>\n  </thead>\n  <tbody>\n    <tr>\n      <th>0</th>\n      <td>Acre Station Meat Farm</td>\n      <td>17076 Hwy 32 N</td>\n      <td>Pinetown</td>\n      <td>NC</td>\n      <td>2</td>\n    </tr>\n    <tr>\n      <th>1</th>\n      <td>Beltex Corporation</td>\n      <td>3801 North Grove Street</td>\n      <td>Fort Worth</td>\n      <td>TX</td>\n      <td>2</td>\n    </tr>\n    <tr>\n      <th>2</th>\n      <td>Cloverleaf Cold Storage</td>\n      <td>111 Imperial Drive</td>\n      <td>Sanford</td>\n      <td>NC</td>\n      <td>2</td>\n    </tr>\n    <tr>\n      <th>3</th>\n      <td>Crete Core Ingredients, LLC</td>\n      <td>2220 County Road I</td>\n      <td>Crete</td>\n      <td>NE</td>\n      <td>2</td>\n    </tr>\n    <tr>\n      <th>4</th>\n      <td>Crider, Inc.</td>\n      <td>1 Plant Avenue</td>\n      <td>Stillmore</td>\n      <td>GA</td>\n      <td>3</td>\n    </tr>\n    <tr>\n      <th>5</th>\n      <td>Dimension Marketing &amp; Sales, Inc.</td>\n      <td>386 West 9400 South</td>\n      <td>Sandy</td>\n      <td>UT</td>\n      <td>2</td>\n    </tr>\n    <tr>\n      <th>6</th>\n      <td>Foster Poultry Farms, A California Corporation</td>\n      <td>6648 Highway 15 North</td>\n      <td>Farmerville</td>\n      <td>LA</td>\n      <td>2</td>\n    </tr>\n    <tr>\n      <th>7</th>\n      <td>Freezer &amp; Dry Storage, LLC</td>\n      <td>21740 Trolley Industrial Drive</td>\n      <td>Taylor</td>\n      <td>MI</td>\n      <td>2</td>\n    </tr>\n    <tr>\n      <th>8</th>\n      <td>JBS Souderton Inc.</td>\n      <td>249 Allentown Road</td>\n      <td>Souderton</td>\n      <td>PA</td>\n      <td>2</td>\n    </tr>\n    <tr>\n      <th>9</th>\n      <td>KB Poultry Processing LLC</td>\n      <td>15024 Sandstone Dr.</td>\n      <td>Utica</td>\n      <td>MN</td>\n      <td>2</td>\n    </tr>\n    <tr>\n      <th>10</th>\n      <td>Lakeside Refrigerated Services</td>\n      <td>2600 Oldmans Creek Road</td>\n      <td>Swedesboro</td>\n      <td>NJ</td>\n      <td>2</td>\n    </tr>\n    <tr>\n      <th>11</th>\n      <td>Liberty Cold Storage</td>\n      <td>1310 Remington Blvd.</td>\n      <td>Bolingbrook</td>\n      <td>IL</td>\n      <td>2</td>\n    </tr>\n    <tr>\n      <th>12</th>\n      <td>M.G. Waldbaum Company</td>\n      <td>120 Tower Street</td>\n      <td>Gaylord</td>\n      <td>MN</td>\n      <td>3</td>\n    </tr>\n    <tr>\n      <th>13</th>\n      <td>Midway International Logistics LLC</td>\n      <td>948 Bradley Street</td>\n      <td>Watertown</td>\n      <td>NY</td>\n      <td>2</td>\n    </tr>\n    <tr>\n      <th>14</th>\n      <td>Nordic Logistics and Warehousing, LLC</td>\n      <td>220 Nordic Way</td>\n      <td>Pooler</td>\n      <td>GA</td>\n      <td>2</td>\n    </tr>\n    <tr>\n      <th>15</th>\n      <td>OK Foods, Inc.</td>\n      <td>3921 Reed Lane</td>\n      <td>Fort Smith</td>\n      <td>AR</td>\n      <td>2</td>\n    </tr>\n    <tr>\n      <th>16</th>\n      <td>Pacific Produce Corporation</td>\n      <td>220 East Harmon Industrial Park Road</td>\n      <td>Tamuning</td>\n      <td>GU</td>\n      <td>2</td>\n    </tr>\n    <tr>\n      <th>17</th>\n      <td>Payless Distribution Center (PDC)</td>\n      <td>370 Mendioka Street</td>\n      <td>Dededo</td>\n      <td>GU</td>\n      <td>2</td>\n    </tr>\n    <tr>\n      <th>18</th>\n      <td>Piatkowski Riteway Meats Inc.</td>\n      <td>3555 Witmer Road</td>\n      <td>Niagara Falls</td>\n      <td>NY</td>\n      <td>2</td>\n    </tr>\n    <tr>\n      <th>19</th>\n      <td>Preferred Freezer Services</td>\n      <td>2700 Trade Street</td>\n      <td>Chesapeake</td>\n      <td>VA</td>\n      <td>2</td>\n    </tr>\n    <tr>\n      <th>20</th>\n      <td>THE AMERICAN PIG</td>\n      <td>25 MEADOW ROAD</td>\n      <td>ASHEVILLE</td>\n      <td>NC</td>\n      <td>2</td>\n    </tr>\n    <tr>\n      <th>21</th>\n      <td>The Classic Jerky Company</td>\n      <td>21655 Trolley Industrial Drive</td>\n      <td>Taylor</td>\n      <td>MI</td>\n      <td>2</td>\n    </tr>\n    <tr>\n      <th>22</th>\n      <td>United States Cold Storage Inc.</td>\n      <td>11801 NW 102 Road</td>\n      <td>Medley</td>\n      <td>FL</td>\n      <td>2</td>\n    </tr>\n  </tbody>\n</table>\n</div>"
     },
     "metadata": {},
     "execution_count": 16
    }
   ],
   "source": [
    "# Looking for duplicates\n",
    "query = \"\"\"\n",
    "SELECT company,\n",
    "    street,\n",
    "    city,\n",
    "    st,\n",
    "    COUNT(*) AS address_count\n",
    "FROM meat_poultry_egg_inspect\n",
    "GROUP BY company, street, city, st\n",
    "HAVING COUNT(*) > 1\n",
    "ORDER BY company, street, city, st;\n",
    "\"\"\"\n",
    "\n",
    "execute_query(conn, query)"
   ]
  },
  {
   "cell_type": "code",
   "execution_count": null,
   "metadata": {},
   "outputs": [],
   "source": [
    "# Checking for missing values\n"
   ]
  }
 ]
}