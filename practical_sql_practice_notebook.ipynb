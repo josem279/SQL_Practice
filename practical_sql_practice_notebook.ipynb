{
 "metadata": {
  "language_info": {
   "codemirror_mode": {
    "name": "ipython",
    "version": 3
   },
   "file_extension": ".py",
   "mimetype": "text/x-python",
   "name": "python",
   "nbconvert_exporter": "python",
   "pygments_lexer": "ipython3",
   "version": "3.9.1-final"
  },
  "orig_nbformat": 2,
  "kernelspec": {
   "name": "python3",
   "display_name": "Python 3.9.1 64-bit",
   "metadata": {
    "interpreter": {
     "hash": "b5843a13e7131a14c3c0e364f0390d6592a995e3082c3f83420ac4385eeb2370"
    }
   }
  }
 },
 "nbformat": 4,
 "nbformat_minor": 2,
 "cells": [
  {
   "source": [
    "# Practical SQL: Chapter Practice Notebook\n",
    "\n",
    "This Jupyter notebook will display all SQL queries and practices covered in each chapter of the book \"Practical SQL: A Beginner's Guide To Storytelling With Data\" by Anthony DeBarros.\n",
    "\n",
    "The first part of this notebook will require us to import a couple of dependencies as well as personal data that will allow us to link out Jupyter Notebook to PostgreSQL."
   ],
   "cell_type": "markdown",
   "metadata": {}
  },
  {
   "cell_type": "code",
   "execution_count": 1,
   "metadata": {},
   "outputs": [],
   "source": [
    "import psycopg2\n",
    "import pandas as pd\n",
    "from sql_data import db, usr, pwd"
   ]
  },
  {
   "cell_type": "code",
   "execution_count": 2,
   "metadata": {},
   "outputs": [],
   "source": [
    "# Connecting to postgreSQL database\n",
    "conn = psycopg2.connect(\n",
    "    host = \"localhost\",\n",
    "    database = db,\n",
    "    user = usr,\n",
    "    password = pwd,\n",
    "    port = 5432\n",
    ")\n",
    "\n",
    "def execute_query(connection, query):\n",
    "    connection.autocommit = True\n",
    "    cursor = connection.cursor()\n",
    "    try:\n",
    "        cursor.execute(query)\n",
    "        results = cursor.fetchall()\n",
    "        column_names = [i[0] for i in cursor.description]\n",
    "        results = pd.DataFrame(results, columns= column_names)\n",
    "        return results\n",
    "        print(\"Query executed succesfully!\")\n",
    "        # Closing the cursor\n",
    "        cursor.close()\n",
    "        del cursor\n",
    "        # Closing the connection\n",
    "        connection.close()\n",
    "    except OperationalError as e:\n",
    "        print(f\"The error '{e}' occurred.\")"
   ]
  },
  {
   "source": [
    "## Chapter 8: Extracting Information By Grouping and Summarizing\n",
    "\n",
    "This chapter requires us to build two tables based on the 2009 and 2014 Public Library Surveys conducted by the Institute of Museum and Library Services (IMLS). Please refer to the books resources as detailed in the readme page to gain access to the csv files needed to fill in the two library tables used henceforth."
   ],
   "cell_type": "markdown",
   "metadata": {}
  },
  {
   "cell_type": "code",
   "execution_count": 3,
   "metadata": {},
   "outputs": [
    {
     "output_type": "execute_result",
     "data": {
      "text/plain": [
       "   count\n",
       "0   9305"
      ],
      "text/html": "<div>\n<style scoped>\n    .dataframe tbody tr th:only-of-type {\n        vertical-align: middle;\n    }\n\n    .dataframe tbody tr th {\n        vertical-align: top;\n    }\n\n    .dataframe thead th {\n        text-align: right;\n    }\n</style>\n<table border=\"1\" class=\"dataframe\">\n  <thead>\n    <tr style=\"text-align: right;\">\n      <th></th>\n      <th>count</th>\n    </tr>\n  </thead>\n  <tbody>\n    <tr>\n      <th>0</th>\n      <td>9305</td>\n    </tr>\n  </tbody>\n</table>\n</div>"
     },
     "metadata": {},
     "execution_count": 3
    }
   ],
   "source": [
    "# Exploring the Library Data Using Aggregate Functions\n",
    "# Counting Rows and Values using Count()\n",
    "\n",
    "query = \"\"\"\n",
    "SELECT COUNT(*)\n",
    "FROM pls_fy2014_pupld14a;\n",
    "\"\"\"\n",
    "\n",
    "execute_query(conn, query)"
   ]
  },
  {
   "cell_type": "code",
   "execution_count": 4,
   "metadata": {},
   "outputs": [
    {
     "output_type": "execute_result",
     "data": {
      "text/plain": [
       "   count\n",
       "0   9299"
      ],
      "text/html": "<div>\n<style scoped>\n    .dataframe tbody tr th:only-of-type {\n        vertical-align: middle;\n    }\n\n    .dataframe tbody tr th {\n        vertical-align: top;\n    }\n\n    .dataframe thead th {\n        text-align: right;\n    }\n</style>\n<table border=\"1\" class=\"dataframe\">\n  <thead>\n    <tr style=\"text-align: right;\">\n      <th></th>\n      <th>count</th>\n    </tr>\n  </thead>\n  <tbody>\n    <tr>\n      <th>0</th>\n      <td>9299</td>\n    </tr>\n  </tbody>\n</table>\n</div>"
     },
     "metadata": {},
     "execution_count": 4
    }
   ],
   "source": [
    "query = \"\"\"\n",
    "SELECT COUNT(*)\n",
    "FROM pls_fy2009_pupld09a;\n",
    "\"\"\"\n",
    "\n",
    "execute_query(conn, query)"
   ]
  },
  {
   "cell_type": "code",
   "execution_count": 5,
   "metadata": {},
   "outputs": [
    {
     "output_type": "execute_result",
     "data": {
      "text/plain": [
       "   count\n",
       "0   5983"
      ],
      "text/html": "<div>\n<style scoped>\n    .dataframe tbody tr th:only-of-type {\n        vertical-align: middle;\n    }\n\n    .dataframe tbody tr th {\n        vertical-align: top;\n    }\n\n    .dataframe thead th {\n        text-align: right;\n    }\n</style>\n<table border=\"1\" class=\"dataframe\">\n  <thead>\n    <tr style=\"text-align: right;\">\n      <th></th>\n      <th>count</th>\n    </tr>\n  </thead>\n  <tbody>\n    <tr>\n      <th>0</th>\n      <td>5983</td>\n    </tr>\n  </tbody>\n</table>\n</div>"
     },
     "metadata": {},
     "execution_count": 5
    }
   ],
   "source": [
    "# Examining the count of rows in columns where the NOT NULL constraint was not applied\n",
    "query = \"\"\"\n",
    "SELECT COUNT(salaries)\n",
    "FROM pls_fy2014_pupld14a;\n",
    "\"\"\"\n",
    "execute_query(conn,query)"
   ]
  },
  {
   "cell_type": "code",
   "execution_count": 6,
   "metadata": {},
   "outputs": [
    {
     "output_type": "execute_result",
     "data": {
      "text/plain": [
       "   count\n",
       "0   9305"
      ],
      "text/html": "<div>\n<style scoped>\n    .dataframe tbody tr th:only-of-type {\n        vertical-align: middle;\n    }\n\n    .dataframe tbody tr th {\n        vertical-align: top;\n    }\n\n    .dataframe thead th {\n        text-align: right;\n    }\n</style>\n<table border=\"1\" class=\"dataframe\">\n  <thead>\n    <tr style=\"text-align: right;\">\n      <th></th>\n      <th>count</th>\n    </tr>\n  </thead>\n  <tbody>\n    <tr>\n      <th>0</th>\n      <td>9305</td>\n    </tr>\n  </tbody>\n</table>\n</div>"
     },
     "metadata": {},
     "execution_count": 6
    }
   ],
   "source": [
    "# Using the DISTINCT function to see how many unique values are contained within a column\n",
    "# This query returns the count of all rows\n",
    "query = \"\"\"\n",
    "SELECT COUNT(libname)\n",
    "FROM pls_fy2014_pupld14a;\n",
    "\"\"\"\n",
    "execute_query(conn,query)"
   ]
  },
  {
   "cell_type": "code",
   "execution_count": 7,
   "metadata": {},
   "outputs": [
    {
     "output_type": "execute_result",
     "data": {
      "text/plain": [
       "   count\n",
       "0   8515"
      ],
      "text/html": "<div>\n<style scoped>\n    .dataframe tbody tr th:only-of-type {\n        vertical-align: middle;\n    }\n\n    .dataframe tbody tr th {\n        vertical-align: top;\n    }\n\n    .dataframe thead th {\n        text-align: right;\n    }\n</style>\n<table border=\"1\" class=\"dataframe\">\n  <thead>\n    <tr style=\"text-align: right;\">\n      <th></th>\n      <th>count</th>\n    </tr>\n  </thead>\n  <tbody>\n    <tr>\n      <th>0</th>\n      <td>8515</td>\n    </tr>\n  </tbody>\n</table>\n</div>"
     },
     "metadata": {},
     "execution_count": 7
    }
   ],
   "source": [
    "# This query return the unique values of the same column. The number should be smaller as there are some duplicated values.\n",
    "query = \"\"\"\n",
    "SELECT COUNT(DISTINCT(libname))\n",
    "FROM pls_fy2014_pupld14a;\n",
    "\"\"\"\n",
    "execute_query(conn,query)"
   ]
  },
  {
   "cell_type": "code",
   "execution_count": 8,
   "metadata": {},
   "outputs": [
    {
     "output_type": "execute_result",
     "data": {
      "text/plain": [
       "        max  min\n",
       "0  17729020   -3"
      ],
      "text/html": "<div>\n<style scoped>\n    .dataframe tbody tr th:only-of-type {\n        vertical-align: middle;\n    }\n\n    .dataframe tbody tr th {\n        vertical-align: top;\n    }\n\n    .dataframe thead th {\n        text-align: right;\n    }\n</style>\n<table border=\"1\" class=\"dataframe\">\n  <thead>\n    <tr style=\"text-align: right;\">\n      <th></th>\n      <th>max</th>\n      <th>min</th>\n    </tr>\n  </thead>\n  <tbody>\n    <tr>\n      <th>0</th>\n      <td>17729020</td>\n      <td>-3</td>\n    </tr>\n  </tbody>\n</table>\n</div>"
     },
     "metadata": {},
     "execution_count": 8
    }
   ],
   "source": [
    "# Finding Maximum and Minimum Values Using MAX() and MIN()\n",
    "query = \"\"\"\n",
    "SELECT MAX(visits), MIN(visits)\n",
    "FROM pls_fy2014_pupld14a;\n",
    "\"\"\"\n",
    "execute_query(conn, query)"
   ]
  },
  {
   "cell_type": "code",
   "execution_count": 9,
   "metadata": {},
   "outputs": [
    {
     "output_type": "execute_result",
     "data": {
      "text/plain": [
       "  stabr  count\n",
       "0    NY    756\n",
       "1    IL    625\n",
       "2    TX    556\n",
       "3    IA    543\n",
       "4    PA    455"
      ],
      "text/html": "<div>\n<style scoped>\n    .dataframe tbody tr th:only-of-type {\n        vertical-align: middle;\n    }\n\n    .dataframe tbody tr th {\n        vertical-align: top;\n    }\n\n    .dataframe thead th {\n        text-align: right;\n    }\n</style>\n<table border=\"1\" class=\"dataframe\">\n  <thead>\n    <tr style=\"text-align: right;\">\n      <th></th>\n      <th>stabr</th>\n      <th>count</th>\n    </tr>\n  </thead>\n  <tbody>\n    <tr>\n      <th>0</th>\n      <td>NY</td>\n      <td>756</td>\n    </tr>\n    <tr>\n      <th>1</th>\n      <td>IL</td>\n      <td>625</td>\n    </tr>\n    <tr>\n      <th>2</th>\n      <td>TX</td>\n      <td>556</td>\n    </tr>\n    <tr>\n      <th>3</th>\n      <td>IA</td>\n      <td>543</td>\n    </tr>\n    <tr>\n      <th>4</th>\n      <td>PA</td>\n      <td>455</td>\n    </tr>\n  </tbody>\n</table>\n</div>"
     },
     "metadata": {},
     "execution_count": 9
    }
   ],
   "source": [
    "# Aggregating Data Using GROUP BY\n",
    "\n",
    "# Combining GROUP BY clause with COUNT()\n",
    "query = \"\"\"\n",
    "SELECT stabr, COUNT(*)\n",
    "FROM pls_fy2014_pupld14a\n",
    "GROUP BY stabr\n",
    "ORDER BY COUNT(*) DESC\n",
    "LIMIT 5;\n",
    "\"\"\"\n",
    "execute_query(conn, query)"
   ]
  },
  {
   "cell_type": "code",
   "execution_count": 10,
   "metadata": {},
   "outputs": [
    {
     "output_type": "execute_result",
     "data": {
      "text/plain": [
       "    stabr stataddr  count\n",
       "0      AK       00     70\n",
       "1      AK       15     10\n",
       "2      AK       07      5\n",
       "3      AL       00    221\n",
       "4      AL       07      3\n",
       "..    ...      ...    ...\n",
       "101    WI       07      6\n",
       "102    WI       15      3\n",
       "103    WV       00     93\n",
       "104    WV       15      4\n",
       "105    WY       00     23\n",
       "\n",
       "[106 rows x 3 columns]"
      ],
      "text/html": "<div>\n<style scoped>\n    .dataframe tbody tr th:only-of-type {\n        vertical-align: middle;\n    }\n\n    .dataframe tbody tr th {\n        vertical-align: top;\n    }\n\n    .dataframe thead th {\n        text-align: right;\n    }\n</style>\n<table border=\"1\" class=\"dataframe\">\n  <thead>\n    <tr style=\"text-align: right;\">\n      <th></th>\n      <th>stabr</th>\n      <th>stataddr</th>\n      <th>count</th>\n    </tr>\n  </thead>\n  <tbody>\n    <tr>\n      <th>0</th>\n      <td>AK</td>\n      <td>00</td>\n      <td>70</td>\n    </tr>\n    <tr>\n      <th>1</th>\n      <td>AK</td>\n      <td>15</td>\n      <td>10</td>\n    </tr>\n    <tr>\n      <th>2</th>\n      <td>AK</td>\n      <td>07</td>\n      <td>5</td>\n    </tr>\n    <tr>\n      <th>3</th>\n      <td>AL</td>\n      <td>00</td>\n      <td>221</td>\n    </tr>\n    <tr>\n      <th>4</th>\n      <td>AL</td>\n      <td>07</td>\n      <td>3</td>\n    </tr>\n    <tr>\n      <th>...</th>\n      <td>...</td>\n      <td>...</td>\n      <td>...</td>\n    </tr>\n    <tr>\n      <th>101</th>\n      <td>WI</td>\n      <td>07</td>\n      <td>6</td>\n    </tr>\n    <tr>\n      <th>102</th>\n      <td>WI</td>\n      <td>15</td>\n      <td>3</td>\n    </tr>\n    <tr>\n      <th>103</th>\n      <td>WV</td>\n      <td>00</td>\n      <td>93</td>\n    </tr>\n    <tr>\n      <th>104</th>\n      <td>WV</td>\n      <td>15</td>\n      <td>4</td>\n    </tr>\n    <tr>\n      <th>105</th>\n      <td>WY</td>\n      <td>00</td>\n      <td>23</td>\n    </tr>\n  </tbody>\n</table>\n<p>106 rows × 3 columns</p>\n</div>"
     },
     "metadata": {},
     "execution_count": 10
    }
   ],
   "source": [
    "# Aggregating data from multiple columns using GROUP BY\n",
    "query = \"\"\"\n",
    "SELECT stabr, stataddr, COUNT(*)\n",
    "FROM pls_fy2014_pupld14a\n",
    "GROUP BY stabr, stataddr\n",
    "ORDER BY stabr ASC, COUNT(*) DESC;\n",
    "\"\"\"\n",
    "\n",
    "execute_query(conn, query)"
   ]
  },
  {
   "cell_type": "code",
   "execution_count": 11,
   "metadata": {},
   "outputs": [
    {
     "output_type": "execute_result",
     "data": {
      "text/plain": [
       "   visits_2014  visits_2009\n",
       "0   1417299241   1585455205"
      ],
      "text/html": "<div>\n<style scoped>\n    .dataframe tbody tr th:only-of-type {\n        vertical-align: middle;\n    }\n\n    .dataframe tbody tr th {\n        vertical-align: top;\n    }\n\n    .dataframe thead th {\n        text-align: right;\n    }\n</style>\n<table border=\"1\" class=\"dataframe\">\n  <thead>\n    <tr style=\"text-align: right;\">\n      <th></th>\n      <th>visits_2014</th>\n      <th>visits_2009</th>\n    </tr>\n  </thead>\n  <tbody>\n    <tr>\n      <th>0</th>\n      <td>1417299241</td>\n      <td>1585455205</td>\n    </tr>\n  </tbody>\n</table>\n</div>"
     },
     "metadata": {},
     "execution_count": 11
    }
   ],
   "source": [
    "# Aggregating data from multiple joined tables\n",
    "\n",
    "# No aggregation but here we are trying to determine trends in library visists using the 2014 and 2009 tables \n",
    "query = \"\"\"\n",
    "SELECT SUM(pls14.visits) AS visits_2014,\n",
    "    SUM(pls09.visits) AS visits_2009\n",
    "FROM pls_fy2014_pupld14a AS pls14\n",
    "JOIN pls_fy2009_pupld09a AS pls09\n",
    "    ON pls14.fscskey = pls09.fscskey\n",
    "WHERE pls14.visits >=0 AND pls09.visits >= 0;\n",
    "\"\"\"\n",
    "\n",
    "execute_query(conn, query)"
   ]
  },
  {
   "cell_type": "code",
   "execution_count": 12,
   "metadata": {},
   "outputs": [
    {
     "output_type": "execute_result",
     "data": {
      "text/plain": [
       "  stabr  visits_2014  visits_2009 pct_change\n",
       "0    GU       103593        60763      70.49\n",
       "1    DC      4230790      2944774      43.67\n",
       "2    LA     17242110     15591805      10.58\n",
       "3    MT      4582604      4386504       4.47\n",
       "4    AL     17113602     16933967       1.06"
      ],
      "text/html": "<div>\n<style scoped>\n    .dataframe tbody tr th:only-of-type {\n        vertical-align: middle;\n    }\n\n    .dataframe tbody tr th {\n        vertical-align: top;\n    }\n\n    .dataframe thead th {\n        text-align: right;\n    }\n</style>\n<table border=\"1\" class=\"dataframe\">\n  <thead>\n    <tr style=\"text-align: right;\">\n      <th></th>\n      <th>stabr</th>\n      <th>visits_2014</th>\n      <th>visits_2009</th>\n      <th>pct_change</th>\n    </tr>\n  </thead>\n  <tbody>\n    <tr>\n      <th>0</th>\n      <td>GU</td>\n      <td>103593</td>\n      <td>60763</td>\n      <td>70.49</td>\n    </tr>\n    <tr>\n      <th>1</th>\n      <td>DC</td>\n      <td>4230790</td>\n      <td>2944774</td>\n      <td>43.67</td>\n    </tr>\n    <tr>\n      <th>2</th>\n      <td>LA</td>\n      <td>17242110</td>\n      <td>15591805</td>\n      <td>10.58</td>\n    </tr>\n    <tr>\n      <th>3</th>\n      <td>MT</td>\n      <td>4582604</td>\n      <td>4386504</td>\n      <td>4.47</td>\n    </tr>\n    <tr>\n      <th>4</th>\n      <td>AL</td>\n      <td>17113602</td>\n      <td>16933967</td>\n      <td>1.06</td>\n    </tr>\n  </tbody>\n</table>\n</div>"
     },
     "metadata": {},
     "execution_count": 12
    }
   ],
   "source": [
    "# Aggregating data to compare trends by states\n",
    "query = \"\"\"\n",
    "SELECT\n",
    "    pls14.stabr,\n",
    "    SUM(pls14.visits) AS visits_2014,\n",
    "    SUM(pls09.visits) AS visits_2009,\n",
    "    ROUND( (CAST(SUM(pls14.visits) AS DECIMAL(10, 1)) - SUM(pls09.visits)) /\n",
    "        SUM(pls09.visits) * 100, 2) AS pct_change\n",
    "FROM pls_fy2014_pupld14a AS pls14\n",
    "JOIN pls_fy2009_pupld09a AS pls09\n",
    "    ON pls14.fscskey = pls09.fscskey\n",
    "WHERE pls14.visits >=0 AND pls09.visits >= 0\n",
    "GROUP BY pls14.stabr\n",
    "ORDER BY pct_change DESC\n",
    "LIMIT 5\n",
    ";\n",
    "\"\"\"\n",
    "\n",
    "execute_query(conn, query)"
   ]
  },
  {
   "cell_type": "code",
   "execution_count": 13,
   "metadata": {},
   "outputs": [
    {
     "output_type": "execute_result",
     "data": {
      "text/plain": [
       "  stabr  visits_2014  visits_2009 pct_change\n",
       "0    TX     72876601     78838400      -7.56\n",
       "1    CA    162787836    182181408     -10.65\n",
       "2    OH     82495138     92402369     -10.72\n",
       "3    NY    106453546    119810969     -11.15\n",
       "4    IL     72598213     82438755     -11.94"
      ],
      "text/html": "<div>\n<style scoped>\n    .dataframe tbody tr th:only-of-type {\n        vertical-align: middle;\n    }\n\n    .dataframe tbody tr th {\n        vertical-align: top;\n    }\n\n    .dataframe thead th {\n        text-align: right;\n    }\n</style>\n<table border=\"1\" class=\"dataframe\">\n  <thead>\n    <tr style=\"text-align: right;\">\n      <th></th>\n      <th>stabr</th>\n      <th>visits_2014</th>\n      <th>visits_2009</th>\n      <th>pct_change</th>\n    </tr>\n  </thead>\n  <tbody>\n    <tr>\n      <th>0</th>\n      <td>TX</td>\n      <td>72876601</td>\n      <td>78838400</td>\n      <td>-7.56</td>\n    </tr>\n    <tr>\n      <th>1</th>\n      <td>CA</td>\n      <td>162787836</td>\n      <td>182181408</td>\n      <td>-10.65</td>\n    </tr>\n    <tr>\n      <th>2</th>\n      <td>OH</td>\n      <td>82495138</td>\n      <td>92402369</td>\n      <td>-10.72</td>\n    </tr>\n    <tr>\n      <th>3</th>\n      <td>NY</td>\n      <td>106453546</td>\n      <td>119810969</td>\n      <td>-11.15</td>\n    </tr>\n    <tr>\n      <th>4</th>\n      <td>IL</td>\n      <td>72598213</td>\n      <td>82438755</td>\n      <td>-11.94</td>\n    </tr>\n  </tbody>\n</table>\n</div>"
     },
     "metadata": {},
     "execution_count": 13
    }
   ],
   "source": [
    "# Filtering an Aggregate Query Using Having\n",
    "query = \"\"\"\n",
    "SELECT\n",
    "    pls14.stabr,\n",
    "    SUM(pls14.visits) AS visits_2014,\n",
    "    SUM(pls09.visits) AS visits_2009,\n",
    "    ROUND( (CAST(SUM(pls14.visits) AS DECIMAL(10, 1)) - SUM(pls09.visits)) /\n",
    "        SUM(pls09.visits) * 100, 2) AS pct_change\n",
    "FROM pls_fy2014_pupld14a AS pls14\n",
    "JOIN pls_fy2009_pupld09a AS pls09\n",
    "    ON pls14.fscskey = pls09.fscskey\n",
    "WHERE pls14.visits >=0 AND pls09.visits >= 0\n",
    "GROUP BY pls14.stabr\n",
    "HAVING SUM(pls14.visits) > 50000000\n",
    "ORDER BY pct_change DESC\n",
    "LIMIT 5\n",
    ";\n",
    "\"\"\"\n",
    "\n",
    "execute_query(conn, query)"
   ]
  },
  {
   "source": [
    "## Chapter 9: Inspecting and Modifying Data\n",
    "\n",
    "For this chaper, we will use a direcory of U.S. meat, poultry, and egg producers provided by the Food Safety and Inspection Service (FSIS)  agency within the U.S. Department of Agriculture.\n",
    "\n",
    "These first initial queries should give us some insight into our dataset:"
   ],
   "cell_type": "markdown",
   "metadata": {}
  },
  {
   "cell_type": "code",
   "execution_count": 14,
   "metadata": {},
   "outputs": [
    {
     "output_type": "execute_result",
     "data": {
      "text/plain": [
       "   count\n",
       "0   6287"
      ],
      "text/html": "<div>\n<style scoped>\n    .dataframe tbody tr th:only-of-type {\n        vertical-align: middle;\n    }\n\n    .dataframe tbody tr th {\n        vertical-align: top;\n    }\n\n    .dataframe thead th {\n        text-align: right;\n    }\n</style>\n<table border=\"1\" class=\"dataframe\">\n  <thead>\n    <tr style=\"text-align: right;\">\n      <th></th>\n      <th>count</th>\n    </tr>\n  </thead>\n  <tbody>\n    <tr>\n      <th>0</th>\n      <td>6287</td>\n    </tr>\n  </tbody>\n</table>\n</div>"
     },
     "metadata": {},
     "execution_count": 14
    }
   ],
   "source": [
    "# Reviweing our imported data\n",
    "query = \"\"\"\n",
    "SELECT COUNT(*)\n",
    "FROM meat_poultry_egg_inspect;\n",
    "\"\"\"\n",
    "\n",
    "execute_query(conn, query)"
   ]
  },
  {
   "cell_type": "code",
   "execution_count": 15,
   "metadata": {},
   "outputs": [
    {
     "output_type": "execute_result",
     "data": {
      "text/plain": [
       "                                           company  \\\n",
       "0                           Acre Station Meat Farm   \n",
       "1                               Beltex Corporation   \n",
       "2                          Cloverleaf Cold Storage   \n",
       "3                      Crete Core Ingredients, LLC   \n",
       "4                                     Crider, Inc.   \n",
       "5                Dimension Marketing & Sales, Inc.   \n",
       "6   Foster Poultry Farms, A California Corporation   \n",
       "7                       Freezer & Dry Storage, LLC   \n",
       "8                               JBS Souderton Inc.   \n",
       "9                        KB Poultry Processing LLC   \n",
       "10                  Lakeside Refrigerated Services   \n",
       "11                            Liberty Cold Storage   \n",
       "12                           M.G. Waldbaum Company   \n",
       "13              Midway International Logistics LLC   \n",
       "14           Nordic Logistics and Warehousing, LLC   \n",
       "15                                  OK Foods, Inc.   \n",
       "16                     Pacific Produce Corporation   \n",
       "17               Payless Distribution Center (PDC)   \n",
       "18                   Piatkowski Riteway Meats Inc.   \n",
       "19                      Preferred Freezer Services   \n",
       "20                                THE AMERICAN PIG   \n",
       "21                       The Classic Jerky Company   \n",
       "22                 United States Cold Storage Inc.   \n",
       "\n",
       "                                  street           city  st  address_count  \n",
       "0                         17076 Hwy 32 N       Pinetown  NC              2  \n",
       "1                3801 North Grove Street     Fort Worth  TX              2  \n",
       "2                     111 Imperial Drive        Sanford  NC              2  \n",
       "3                     2220 County Road I          Crete  NE              2  \n",
       "4                         1 Plant Avenue      Stillmore  GA              3  \n",
       "5                    386 West 9400 South          Sandy  UT              2  \n",
       "6                  6648 Highway 15 North    Farmerville  LA              2  \n",
       "7         21740 Trolley Industrial Drive         Taylor  MI              2  \n",
       "8                     249 Allentown Road      Souderton  PA              2  \n",
       "9                    15024 Sandstone Dr.          Utica  MN              2  \n",
       "10               2600 Oldmans Creek Road     Swedesboro  NJ              2  \n",
       "11                  1310 Remington Blvd.    Bolingbrook  IL              2  \n",
       "12                      120 Tower Street        Gaylord  MN              3  \n",
       "13                    948 Bradley Street      Watertown  NY              2  \n",
       "14                        220 Nordic Way         Pooler  GA              2  \n",
       "15                        3921 Reed Lane     Fort Smith  AR              2  \n",
       "16  220 East Harmon Industrial Park Road       Tamuning  GU              2  \n",
       "17                   370 Mendioka Street         Dededo  GU              2  \n",
       "18                      3555 Witmer Road  Niagara Falls  NY              2  \n",
       "19                     2700 Trade Street     Chesapeake  VA              2  \n",
       "20                        25 MEADOW ROAD      ASHEVILLE  NC              2  \n",
       "21        21655 Trolley Industrial Drive         Taylor  MI              2  \n",
       "22                     11801 NW 102 Road         Medley  FL              2  "
      ],
      "text/html": "<div>\n<style scoped>\n    .dataframe tbody tr th:only-of-type {\n        vertical-align: middle;\n    }\n\n    .dataframe tbody tr th {\n        vertical-align: top;\n    }\n\n    .dataframe thead th {\n        text-align: right;\n    }\n</style>\n<table border=\"1\" class=\"dataframe\">\n  <thead>\n    <tr style=\"text-align: right;\">\n      <th></th>\n      <th>company</th>\n      <th>street</th>\n      <th>city</th>\n      <th>st</th>\n      <th>address_count</th>\n    </tr>\n  </thead>\n  <tbody>\n    <tr>\n      <th>0</th>\n      <td>Acre Station Meat Farm</td>\n      <td>17076 Hwy 32 N</td>\n      <td>Pinetown</td>\n      <td>NC</td>\n      <td>2</td>\n    </tr>\n    <tr>\n      <th>1</th>\n      <td>Beltex Corporation</td>\n      <td>3801 North Grove Street</td>\n      <td>Fort Worth</td>\n      <td>TX</td>\n      <td>2</td>\n    </tr>\n    <tr>\n      <th>2</th>\n      <td>Cloverleaf Cold Storage</td>\n      <td>111 Imperial Drive</td>\n      <td>Sanford</td>\n      <td>NC</td>\n      <td>2</td>\n    </tr>\n    <tr>\n      <th>3</th>\n      <td>Crete Core Ingredients, LLC</td>\n      <td>2220 County Road I</td>\n      <td>Crete</td>\n      <td>NE</td>\n      <td>2</td>\n    </tr>\n    <tr>\n      <th>4</th>\n      <td>Crider, Inc.</td>\n      <td>1 Plant Avenue</td>\n      <td>Stillmore</td>\n      <td>GA</td>\n      <td>3</td>\n    </tr>\n    <tr>\n      <th>5</th>\n      <td>Dimension Marketing &amp; Sales, Inc.</td>\n      <td>386 West 9400 South</td>\n      <td>Sandy</td>\n      <td>UT</td>\n      <td>2</td>\n    </tr>\n    <tr>\n      <th>6</th>\n      <td>Foster Poultry Farms, A California Corporation</td>\n      <td>6648 Highway 15 North</td>\n      <td>Farmerville</td>\n      <td>LA</td>\n      <td>2</td>\n    </tr>\n    <tr>\n      <th>7</th>\n      <td>Freezer &amp; Dry Storage, LLC</td>\n      <td>21740 Trolley Industrial Drive</td>\n      <td>Taylor</td>\n      <td>MI</td>\n      <td>2</td>\n    </tr>\n    <tr>\n      <th>8</th>\n      <td>JBS Souderton Inc.</td>\n      <td>249 Allentown Road</td>\n      <td>Souderton</td>\n      <td>PA</td>\n      <td>2</td>\n    </tr>\n    <tr>\n      <th>9</th>\n      <td>KB Poultry Processing LLC</td>\n      <td>15024 Sandstone Dr.</td>\n      <td>Utica</td>\n      <td>MN</td>\n      <td>2</td>\n    </tr>\n    <tr>\n      <th>10</th>\n      <td>Lakeside Refrigerated Services</td>\n      <td>2600 Oldmans Creek Road</td>\n      <td>Swedesboro</td>\n      <td>NJ</td>\n      <td>2</td>\n    </tr>\n    <tr>\n      <th>11</th>\n      <td>Liberty Cold Storage</td>\n      <td>1310 Remington Blvd.</td>\n      <td>Bolingbrook</td>\n      <td>IL</td>\n      <td>2</td>\n    </tr>\n    <tr>\n      <th>12</th>\n      <td>M.G. Waldbaum Company</td>\n      <td>120 Tower Street</td>\n      <td>Gaylord</td>\n      <td>MN</td>\n      <td>3</td>\n    </tr>\n    <tr>\n      <th>13</th>\n      <td>Midway International Logistics LLC</td>\n      <td>948 Bradley Street</td>\n      <td>Watertown</td>\n      <td>NY</td>\n      <td>2</td>\n    </tr>\n    <tr>\n      <th>14</th>\n      <td>Nordic Logistics and Warehousing, LLC</td>\n      <td>220 Nordic Way</td>\n      <td>Pooler</td>\n      <td>GA</td>\n      <td>2</td>\n    </tr>\n    <tr>\n      <th>15</th>\n      <td>OK Foods, Inc.</td>\n      <td>3921 Reed Lane</td>\n      <td>Fort Smith</td>\n      <td>AR</td>\n      <td>2</td>\n    </tr>\n    <tr>\n      <th>16</th>\n      <td>Pacific Produce Corporation</td>\n      <td>220 East Harmon Industrial Park Road</td>\n      <td>Tamuning</td>\n      <td>GU</td>\n      <td>2</td>\n    </tr>\n    <tr>\n      <th>17</th>\n      <td>Payless Distribution Center (PDC)</td>\n      <td>370 Mendioka Street</td>\n      <td>Dededo</td>\n      <td>GU</td>\n      <td>2</td>\n    </tr>\n    <tr>\n      <th>18</th>\n      <td>Piatkowski Riteway Meats Inc.</td>\n      <td>3555 Witmer Road</td>\n      <td>Niagara Falls</td>\n      <td>NY</td>\n      <td>2</td>\n    </tr>\n    <tr>\n      <th>19</th>\n      <td>Preferred Freezer Services</td>\n      <td>2700 Trade Street</td>\n      <td>Chesapeake</td>\n      <td>VA</td>\n      <td>2</td>\n    </tr>\n    <tr>\n      <th>20</th>\n      <td>THE AMERICAN PIG</td>\n      <td>25 MEADOW ROAD</td>\n      <td>ASHEVILLE</td>\n      <td>NC</td>\n      <td>2</td>\n    </tr>\n    <tr>\n      <th>21</th>\n      <td>The Classic Jerky Company</td>\n      <td>21655 Trolley Industrial Drive</td>\n      <td>Taylor</td>\n      <td>MI</td>\n      <td>2</td>\n    </tr>\n    <tr>\n      <th>22</th>\n      <td>United States Cold Storage Inc.</td>\n      <td>11801 NW 102 Road</td>\n      <td>Medley</td>\n      <td>FL</td>\n      <td>2</td>\n    </tr>\n  </tbody>\n</table>\n</div>"
     },
     "metadata": {},
     "execution_count": 15
    }
   ],
   "source": [
    "# Looking for duplicates\n",
    "query = \"\"\"\n",
    "SELECT company,\n",
    "    street,\n",
    "    city,\n",
    "    st,\n",
    "    COUNT(*) AS address_count\n",
    "FROM meat_poultry_egg_inspect\n",
    "GROUP BY company, street, city, st\n",
    "HAVING COUNT(*) > 1\n",
    "ORDER BY company, street, city, st;\n",
    "\"\"\"\n",
    "\n",
    "execute_query(conn, query)"
   ]
  },
  {
   "cell_type": "code",
   "execution_count": 16,
   "metadata": {},
   "outputs": [
    {
     "output_type": "execute_result",
     "data": {
      "text/plain": [
       "   st  state_count\n",
       "0  AK           17\n",
       "1  AL           94\n",
       "2  AR           87\n",
       "3  AS            1\n",
       "4  AZ           37\n",
       "5  CA          666\n",
       "6  CO          121\n",
       "7  CT           55\n",
       "8  DC            2\n",
       "9  DE           22"
      ],
      "text/html": "<div>\n<style scoped>\n    .dataframe tbody tr th:only-of-type {\n        vertical-align: middle;\n    }\n\n    .dataframe tbody tr th {\n        vertical-align: top;\n    }\n\n    .dataframe thead th {\n        text-align: right;\n    }\n</style>\n<table border=\"1\" class=\"dataframe\">\n  <thead>\n    <tr style=\"text-align: right;\">\n      <th></th>\n      <th>st</th>\n      <th>state_count</th>\n    </tr>\n  </thead>\n  <tbody>\n    <tr>\n      <th>0</th>\n      <td>AK</td>\n      <td>17</td>\n    </tr>\n    <tr>\n      <th>1</th>\n      <td>AL</td>\n      <td>94</td>\n    </tr>\n    <tr>\n      <th>2</th>\n      <td>AR</td>\n      <td>87</td>\n    </tr>\n    <tr>\n      <th>3</th>\n      <td>AS</td>\n      <td>1</td>\n    </tr>\n    <tr>\n      <th>4</th>\n      <td>AZ</td>\n      <td>37</td>\n    </tr>\n    <tr>\n      <th>5</th>\n      <td>CA</td>\n      <td>666</td>\n    </tr>\n    <tr>\n      <th>6</th>\n      <td>CO</td>\n      <td>121</td>\n    </tr>\n    <tr>\n      <th>7</th>\n      <td>CT</td>\n      <td>55</td>\n    </tr>\n    <tr>\n      <th>8</th>\n      <td>DC</td>\n      <td>2</td>\n    </tr>\n    <tr>\n      <th>9</th>\n      <td>DE</td>\n      <td>22</td>\n    </tr>\n  </tbody>\n</table>\n</div>"
     },
     "metadata": {},
     "execution_count": 16
    }
   ],
   "source": [
    "# Checking for missing values\n",
    "query = \"\"\"\n",
    "SELECT st,\n",
    "    COUNT(*) AS state_count\n",
    "FROM meat_poultry_egg_inspect\n",
    "GROUP BY st\n",
    "ORDER BY st NULLS FIRST\n",
    "LIMIT 10\n",
    "\"\"\"\n",
    "\n",
    "execute_query(conn, query)"
   ]
  },
  {
   "cell_type": "code",
   "execution_count": 17,
   "metadata": {},
   "outputs": [
    {
     "output_type": "execute_result",
     "data": {
      "text/plain": [
       "Empty DataFrame\n",
       "Columns: [est_number, company, city, st, zip]\n",
       "Index: []"
      ],
      "text/html": "<div>\n<style scoped>\n    .dataframe tbody tr th:only-of-type {\n        vertical-align: middle;\n    }\n\n    .dataframe tbody tr th {\n        vertical-align: top;\n    }\n\n    .dataframe thead th {\n        text-align: right;\n    }\n</style>\n<table border=\"1\" class=\"dataframe\">\n  <thead>\n    <tr style=\"text-align: right;\">\n      <th></th>\n      <th>est_number</th>\n      <th>company</th>\n      <th>city</th>\n      <th>st</th>\n      <th>zip</th>\n    </tr>\n  </thead>\n  <tbody>\n  </tbody>\n</table>\n</div>"
     },
     "metadata": {},
     "execution_count": 17
    }
   ],
   "source": [
    "# Looking at rows that don't have a value in a column(s)\n",
    "query = \"\"\"\n",
    "SELECT est_number,\n",
    "    company,\n",
    "    city,\n",
    "    st,\n",
    "    zip\n",
    "FROM meat_poultry_egg_inspect\n",
    "WHERE st IS NULL;\n",
    "\"\"\"\n",
    "\n",
    "execute_query(conn, query)"
   ]
  },
  {
   "cell_type": "code",
   "execution_count": 18,
   "metadata": {},
   "outputs": [
    {
     "output_type": "execute_result",
     "data": {
      "text/plain": [
       "                                     company  count\n",
       "0                 121 In-Flight Catering LLC      1\n",
       "1                     165368 C. Corporation       1\n",
       "2                             1732 Meats LLC      1\n",
       "3     1st Original Texas Chili Company, Inc.      1\n",
       "4                       290 West Bar & Grill      1\n",
       "...                                      ...    ...\n",
       "5581             Zrile Bros. Packing Co.,Inc      1\n",
       "5582                    Zummo Meat Co., Inc.      1\n",
       "5583       Zwanenberg Food Group (USA), Inc.      1\n",
       "5584                          Zweigle's Inc.      1\n",
       "5585                   ZYK Enterprises, Inc.      1\n",
       "\n",
       "[5586 rows x 2 columns]"
      ],
      "text/html": "<div>\n<style scoped>\n    .dataframe tbody tr th:only-of-type {\n        vertical-align: middle;\n    }\n\n    .dataframe tbody tr th {\n        vertical-align: top;\n    }\n\n    .dataframe thead th {\n        text-align: right;\n    }\n</style>\n<table border=\"1\" class=\"dataframe\">\n  <thead>\n    <tr style=\"text-align: right;\">\n      <th></th>\n      <th>company</th>\n      <th>count</th>\n    </tr>\n  </thead>\n  <tbody>\n    <tr>\n      <th>0</th>\n      <td>121 In-Flight Catering LLC</td>\n      <td>1</td>\n    </tr>\n    <tr>\n      <th>1</th>\n      <td>165368 C. Corporation</td>\n      <td>1</td>\n    </tr>\n    <tr>\n      <th>2</th>\n      <td>1732 Meats LLC</td>\n      <td>1</td>\n    </tr>\n    <tr>\n      <th>3</th>\n      <td>1st Original Texas Chili Company, Inc.</td>\n      <td>1</td>\n    </tr>\n    <tr>\n      <th>4</th>\n      <td>290 West Bar &amp; Grill</td>\n      <td>1</td>\n    </tr>\n    <tr>\n      <th>...</th>\n      <td>...</td>\n      <td>...</td>\n    </tr>\n    <tr>\n      <th>5581</th>\n      <td>Zrile Bros. Packing Co.,Inc</td>\n      <td>1</td>\n    </tr>\n    <tr>\n      <th>5582</th>\n      <td>Zummo Meat Co., Inc.</td>\n      <td>1</td>\n    </tr>\n    <tr>\n      <th>5583</th>\n      <td>Zwanenberg Food Group (USA), Inc.</td>\n      <td>1</td>\n    </tr>\n    <tr>\n      <th>5584</th>\n      <td>Zweigle's Inc.</td>\n      <td>1</td>\n    </tr>\n    <tr>\n      <th>5585</th>\n      <td>ZYK Enterprises, Inc.</td>\n      <td>1</td>\n    </tr>\n  </tbody>\n</table>\n<p>5586 rows × 2 columns</p>\n</div>"
     },
     "metadata": {},
     "execution_count": 18
    }
   ],
   "source": [
    "# Checking for inconsitent data values\n",
    "query = \"\"\"\n",
    "SELECT company,\n",
    "    COUNT(*)\n",
    "FROM meat_poultry_egg_inspect\n",
    "GROUP BY company\n",
    "ORDER BY company ASC;\n",
    "\"\"\"\n",
    "\n",
    "execute_query(conn, query)"
   ]
  },
  {
   "cell_type": "code",
   "execution_count": 19,
   "metadata": {},
   "outputs": [
    {
     "output_type": "execute_result",
     "data": {
      "text/plain": [
       "   length  length_count\n",
       "0       4           496\n",
       "1       5          5791"
      ],
      "text/html": "<div>\n<style scoped>\n    .dataframe tbody tr th:only-of-type {\n        vertical-align: middle;\n    }\n\n    .dataframe tbody tr th {\n        vertical-align: top;\n    }\n\n    .dataframe thead th {\n        text-align: right;\n    }\n</style>\n<table border=\"1\" class=\"dataframe\">\n  <thead>\n    <tr style=\"text-align: right;\">\n      <th></th>\n      <th>length</th>\n      <th>length_count</th>\n    </tr>\n  </thead>\n  <tbody>\n    <tr>\n      <th>0</th>\n      <td>4</td>\n      <td>496</td>\n    </tr>\n    <tr>\n      <th>1</th>\n      <td>5</td>\n      <td>5791</td>\n    </tr>\n  </tbody>\n</table>\n</div>"
     },
     "metadata": {},
     "execution_count": 19
    }
   ],
   "source": [
    "# Checking for malformed values using length() - here we see that because the zip column was read in as a number rather than as text it lost the leading 0's\n",
    "query = \"\"\"\n",
    "SELECT LENGTH(zip),\n",
    "    COUNT(*) AS length_count\n",
    "FROM meat_poultry_egg_inspect\n",
    "GROUP BY LENGTH(zip)\n",
    "ORDER BY LENGTH(zip);\n",
    "\"\"\"\n",
    "\n",
    "execute_query(conn, query)"
   ]
  },
  {
   "cell_type": "code",
   "execution_count": 20,
   "metadata": {},
   "outputs": [
    {
     "output_type": "execute_result",
     "data": {
      "text/plain": [
       "   st  st_count\n",
       "0  CT        55\n",
       "1  MA       101\n",
       "2  ME        24\n",
       "3  NH        18\n",
       "4  NJ       244\n",
       "5  RI        27\n",
       "6  VT        27"
      ],
      "text/html": "<div>\n<style scoped>\n    .dataframe tbody tr th:only-of-type {\n        vertical-align: middle;\n    }\n\n    .dataframe tbody tr th {\n        vertical-align: top;\n    }\n\n    .dataframe thead th {\n        text-align: right;\n    }\n</style>\n<table border=\"1\" class=\"dataframe\">\n  <thead>\n    <tr style=\"text-align: right;\">\n      <th></th>\n      <th>st</th>\n      <th>st_count</th>\n    </tr>\n  </thead>\n  <tbody>\n    <tr>\n      <th>0</th>\n      <td>CT</td>\n      <td>55</td>\n    </tr>\n    <tr>\n      <th>1</th>\n      <td>MA</td>\n      <td>101</td>\n    </tr>\n    <tr>\n      <th>2</th>\n      <td>ME</td>\n      <td>24</td>\n    </tr>\n    <tr>\n      <th>3</th>\n      <td>NH</td>\n      <td>18</td>\n    </tr>\n    <tr>\n      <th>4</th>\n      <td>NJ</td>\n      <td>244</td>\n    </tr>\n    <tr>\n      <th>5</th>\n      <td>RI</td>\n      <td>27</td>\n    </tr>\n    <tr>\n      <th>6</th>\n      <td>VT</td>\n      <td>27</td>\n    </tr>\n  </tbody>\n</table>\n</div>"
     },
     "metadata": {},
     "execution_count": 20
    }
   ],
   "source": [
    "# Examining rows that lost leading 0's\n",
    "query = \"\"\"\n",
    "SELECT st,\n",
    "    COUNT(*) AS st_count\n",
    "FROM meat_poultry_egg_inspect\n",
    "WHERE LENGTH(zip) < 5\n",
    "GROUP BY st\n",
    "ORDER BY st;\n",
    "\"\"\"\n",
    "\n",
    "execute_query(conn, query)"
   ]
  },
  {
   "source": [
    "For the following part of the chapter an identical copy of the st column was created in the meat_poultry_egg_inspect table titled st_copy"
   ],
   "cell_type": "markdown",
   "metadata": {}
  },
  {
   "cell_type": "code",
   "execution_count": 21,
   "metadata": {},
   "outputs": [
    {
     "output_type": "execute_result",
     "data": {
      "text/plain": [
       "Empty DataFrame\n",
       "Columns: [est_number, company, city, st, zip]\n",
       "Index: []"
      ],
      "text/html": "<div>\n<style scoped>\n    .dataframe tbody tr th:only-of-type {\n        vertical-align: middle;\n    }\n\n    .dataframe tbody tr th {\n        vertical-align: top;\n    }\n\n    .dataframe thead th {\n        text-align: right;\n    }\n</style>\n<table border=\"1\" class=\"dataframe\">\n  <thead>\n    <tr style=\"text-align: right;\">\n      <th></th>\n      <th>est_number</th>\n      <th>company</th>\n      <th>city</th>\n      <th>st</th>\n      <th>zip</th>\n    </tr>\n  </thead>\n  <tbody>\n  </tbody>\n</table>\n</div>"
     },
     "metadata": {},
     "execution_count": 21
    }
   ],
   "source": [
    "# Modifying Tables, Columns, and Data\n",
    "# Updating the rows where the values were missing\n",
    "query = \"\"\"\n",
    "UPDATE meat_poultry_egg_inspect\n",
    "SET st = 'MN'\n",
    "WHERE est_number = 'V18677A';\n",
    "\n",
    "UPDATE meat_poultry_egg_inspect\n",
    "SET st = 'AL'\n",
    "WHERE est_number = 'M45319+P45319';\n",
    "\n",
    "UPDATE meat_poultry_egg_inspect\n",
    "SET st = 'WI'\n",
    "WHERE est_number = 'M263A+P263A+V263A';\n",
    "\n",
    "SELECT est_number,\n",
    "    company,\n",
    "    city,\n",
    "    st,\n",
    "    zip\n",
    "FROM meat_poultry_egg_inspect\n",
    "WHERE st IS NULL; \n",
    "\"\"\"\n",
    "\n",
    "# The last part of the query just inspects the table to find NULL values - after our update there should be none\n",
    "execute_query(conn, query)\n"
   ]
  },
  {
   "source": [
    "For the following part of the chapter, an identical copy of the company column was created in the meat_poultry_egg_inspect table titled company_standard"
   ],
   "cell_type": "markdown",
   "metadata": {}
  },
  {
   "cell_type": "code",
   "execution_count": 23,
   "metadata": {},
   "outputs": [
    {
     "output_type": "execute_result",
     "data": {
      "text/plain": [
       "      est_number                   company  \\\n",
       "0    M6714+P6714        A. Concepcion Hnos   \n",
       "1  M44941+P44941         Alcor Foods, Inc.   \n",
       "2  M40232+P40232   American Butchers, Inc.   \n",
       "3           I319  Ballester Hermanos, Inc.   \n",
       "4      M896+P896                Bupik Inc.   \n",
       "\n",
       "                                              street      city  st    zip  \\\n",
       "0                                  105 Aguila Street  Mayaguez  PR  00680   \n",
       "1                     Ave. Hostos WF-8 Santa Juanita   Bayamon  PR  00956   \n",
       "2         Diana Street Lot #5 Amelia Industrial Park  Guaynabo  PR  00968   \n",
       "3  Ballester Hermanos, Inc. Westgate Industrial P...    Catano  PR  00962   \n",
       "4         1052 Nueva Palma 1052-54 Ba. Tras Talleres  San Juan  PR  00907   \n",
       "\n",
       "            phone  grant_date                           activities  \\\n",
       "0  (809) 832-4145  1993-02-09  Meat Processing, Poultry Processing   \n",
       "1  (787) 718-9449  2016-06-20  Meat Processing, Poultry Processing   \n",
       "2  (787) 774-8802  2011-05-11  Meat Processing, Poultry Processing   \n",
       "3  (787) 788-4110  2016-07-13                     Imported Product   \n",
       "4  (787) 717-7739  2016-04-15  Meat Processing, Poultry Processing   \n",
       "\n",
       "                                      dbas st_copy          company_standard  \\\n",
       "0                                     None      PR        A. Concepcion Hnos   \n",
       "1                                     None      PR         Alcor Foods, Inc.   \n",
       "2                                     None      PR   American Butchers, Inc.   \n",
       "3                                     None      PR  Ballester Hermanos, Inc.   \n",
       "4  Bocadito CG; Don Alfonso; La Borinquena      PR                Bupik Inc.   \n",
       "\n",
       "  zip_copy  \n",
       "0      680  \n",
       "1      956  \n",
       "2      968  \n",
       "3      962  \n",
       "4      907  "
      ],
      "text/html": "<div>\n<style scoped>\n    .dataframe tbody tr th:only-of-type {\n        vertical-align: middle;\n    }\n\n    .dataframe tbody tr th {\n        vertical-align: top;\n    }\n\n    .dataframe thead th {\n        text-align: right;\n    }\n</style>\n<table border=\"1\" class=\"dataframe\">\n  <thead>\n    <tr style=\"text-align: right;\">\n      <th></th>\n      <th>est_number</th>\n      <th>company</th>\n      <th>street</th>\n      <th>city</th>\n      <th>st</th>\n      <th>zip</th>\n      <th>phone</th>\n      <th>grant_date</th>\n      <th>activities</th>\n      <th>dbas</th>\n      <th>st_copy</th>\n      <th>company_standard</th>\n      <th>zip_copy</th>\n    </tr>\n  </thead>\n  <tbody>\n    <tr>\n      <th>0</th>\n      <td>M6714+P6714</td>\n      <td>A. Concepcion Hnos</td>\n      <td>105 Aguila Street</td>\n      <td>Mayaguez</td>\n      <td>PR</td>\n      <td>00680</td>\n      <td>(809) 832-4145</td>\n      <td>1993-02-09</td>\n      <td>Meat Processing, Poultry Processing</td>\n      <td>None</td>\n      <td>PR</td>\n      <td>A. Concepcion Hnos</td>\n      <td>680</td>\n    </tr>\n    <tr>\n      <th>1</th>\n      <td>M44941+P44941</td>\n      <td>Alcor Foods, Inc.</td>\n      <td>Ave. Hostos WF-8 Santa Juanita</td>\n      <td>Bayamon</td>\n      <td>PR</td>\n      <td>00956</td>\n      <td>(787) 718-9449</td>\n      <td>2016-06-20</td>\n      <td>Meat Processing, Poultry Processing</td>\n      <td>None</td>\n      <td>PR</td>\n      <td>Alcor Foods, Inc.</td>\n      <td>956</td>\n    </tr>\n    <tr>\n      <th>2</th>\n      <td>M40232+P40232</td>\n      <td>American Butchers, Inc.</td>\n      <td>Diana Street Lot #5 Amelia Industrial Park</td>\n      <td>Guaynabo</td>\n      <td>PR</td>\n      <td>00968</td>\n      <td>(787) 774-8802</td>\n      <td>2011-05-11</td>\n      <td>Meat Processing, Poultry Processing</td>\n      <td>None</td>\n      <td>PR</td>\n      <td>American Butchers, Inc.</td>\n      <td>968</td>\n    </tr>\n    <tr>\n      <th>3</th>\n      <td>I319</td>\n      <td>Ballester Hermanos, Inc.</td>\n      <td>Ballester Hermanos, Inc. Westgate Industrial P...</td>\n      <td>Catano</td>\n      <td>PR</td>\n      <td>00962</td>\n      <td>(787) 788-4110</td>\n      <td>2016-07-13</td>\n      <td>Imported Product</td>\n      <td>None</td>\n      <td>PR</td>\n      <td>Ballester Hermanos, Inc.</td>\n      <td>962</td>\n    </tr>\n    <tr>\n      <th>4</th>\n      <td>M896+P896</td>\n      <td>Bupik Inc.</td>\n      <td>1052 Nueva Palma 1052-54 Ba. Tras Talleres</td>\n      <td>San Juan</td>\n      <td>PR</td>\n      <td>00907</td>\n      <td>(787) 717-7739</td>\n      <td>2016-04-15</td>\n      <td>Meat Processing, Poultry Processing</td>\n      <td>Bocadito CG; Don Alfonso; La Borinquena</td>\n      <td>PR</td>\n      <td>Bupik Inc.</td>\n      <td>907</td>\n    </tr>\n  </tbody>\n</table>\n</div>"
     },
     "metadata": {},
     "execution_count": 23
    }
   ],
   "source": [
    "# Updating values for consistency\n",
    "query = \"\"\"\n",
    "UPDATE meat_poultry_egg_inspect\n",
    "SET company_standard = company;\n",
    "\n",
    "SELECT * FROM meat_poultry_egg_inspect LIMIT 5;\n",
    "\"\"\"\n",
    "\n",
    "execute_query(conn, query)"
   ]
  },
  {
   "cell_type": "code",
   "execution_count": 24,
   "metadata": {},
   "outputs": [
    {
     "output_type": "execute_result",
     "data": {
      "text/plain": [
       "                       company      company_standard\n",
       "0   Armour-Eckrich Meats, Inc.  Armour_Eckrich Meats\n",
       "1    Armour-Eckrich Meats, LLC  Armour_Eckrich Meats\n",
       "2     Armour-Eckrich Meats LLC  Armour_Eckrich Meats\n",
       "3    Armour-Eckrich Meats, LLC  Armour_Eckrich Meats\n",
       "4  Armour - Eckrich Meats, LLC  Armour_Eckrich Meats\n",
       "5     Armour-Eckrich Meats LLC  Armour_Eckrich Meats\n",
       "6     Armour-Eckrich Meats LLC  Armour_Eckrich Meats"
      ],
      "text/html": "<div>\n<style scoped>\n    .dataframe tbody tr th:only-of-type {\n        vertical-align: middle;\n    }\n\n    .dataframe tbody tr th {\n        vertical-align: top;\n    }\n\n    .dataframe thead th {\n        text-align: right;\n    }\n</style>\n<table border=\"1\" class=\"dataframe\">\n  <thead>\n    <tr style=\"text-align: right;\">\n      <th></th>\n      <th>company</th>\n      <th>company_standard</th>\n    </tr>\n  </thead>\n  <tbody>\n    <tr>\n      <th>0</th>\n      <td>Armour-Eckrich Meats, Inc.</td>\n      <td>Armour_Eckrich Meats</td>\n    </tr>\n    <tr>\n      <th>1</th>\n      <td>Armour-Eckrich Meats, LLC</td>\n      <td>Armour_Eckrich Meats</td>\n    </tr>\n    <tr>\n      <th>2</th>\n      <td>Armour-Eckrich Meats LLC</td>\n      <td>Armour_Eckrich Meats</td>\n    </tr>\n    <tr>\n      <th>3</th>\n      <td>Armour-Eckrich Meats, LLC</td>\n      <td>Armour_Eckrich Meats</td>\n    </tr>\n    <tr>\n      <th>4</th>\n      <td>Armour - Eckrich Meats, LLC</td>\n      <td>Armour_Eckrich Meats</td>\n    </tr>\n    <tr>\n      <th>5</th>\n      <td>Armour-Eckrich Meats LLC</td>\n      <td>Armour_Eckrich Meats</td>\n    </tr>\n    <tr>\n      <th>6</th>\n      <td>Armour-Eckrich Meats LLC</td>\n      <td>Armour_Eckrich Meats</td>\n    </tr>\n  </tbody>\n</table>\n</div>"
     },
     "metadata": {},
     "execution_count": 24
    }
   ],
   "source": [
    "# Updating and standardizing all rows that contain the string 'Armour' to appear in company_standard as Armour_Eckrich Meats\n",
    "query = \"\"\"\n",
    "UPDATE meat_poultry_egg_inspect\n",
    "SET company_standard = 'Armour_Eckrich Meats'\n",
    "WHERE company LIKE '%Armour%';\n",
    "\n",
    "SELECT company, company_standard\n",
    "FROM meat_poultry_egg_inspect\n",
    "WHERE company LIKE '%Armour%';\n",
    "\"\"\"\n",
    "\n",
    "execute_query(conn, query)"
   ]
  },
  {
   "source": [
    "For the following part of the chapter, an identicalcopy of the zip column was created in the meat_poultry_egg_inspect table titled zip_copy"
   ],
   "cell_type": "markdown",
   "metadata": {}
  },
  {
   "cell_type": "code",
   "execution_count": 26,
   "metadata": {},
   "outputs": [
    {
     "output_type": "execute_result",
     "data": {
      "text/plain": [
       "      est_number                   company  \\\n",
       "0    M6714+P6714        A. Concepcion Hnos   \n",
       "1  M44941+P44941         Alcor Foods, Inc.   \n",
       "2  M40232+P40232   American Butchers, Inc.   \n",
       "3           I319  Ballester Hermanos, Inc.   \n",
       "4      M896+P896                Bupik Inc.   \n",
       "\n",
       "                                              street      city  st    zip  \\\n",
       "0                                  105 Aguila Street  Mayaguez  PR  00680   \n",
       "1                     Ave. Hostos WF-8 Santa Juanita   Bayamon  PR  00956   \n",
       "2         Diana Street Lot #5 Amelia Industrial Park  Guaynabo  PR  00968   \n",
       "3  Ballester Hermanos, Inc. Westgate Industrial P...    Catano  PR  00962   \n",
       "4         1052 Nueva Palma 1052-54 Ba. Tras Talleres  San Juan  PR  00907   \n",
       "\n",
       "            phone  grant_date                           activities  \\\n",
       "0  (809) 832-4145  1993-02-09  Meat Processing, Poultry Processing   \n",
       "1  (787) 718-9449  2016-06-20  Meat Processing, Poultry Processing   \n",
       "2  (787) 774-8802  2011-05-11  Meat Processing, Poultry Processing   \n",
       "3  (787) 788-4110  2016-07-13                     Imported Product   \n",
       "4  (787) 717-7739  2016-04-15  Meat Processing, Poultry Processing   \n",
       "\n",
       "                                      dbas st_copy          company_standard  \\\n",
       "0                                     None      PR        A. Concepcion Hnos   \n",
       "1                                     None      PR         Alcor Foods, Inc.   \n",
       "2                                     None      PR   American Butchers, Inc.   \n",
       "3                                     None      PR  Ballester Hermanos, Inc.   \n",
       "4  Bocadito CG; Don Alfonso; La Borinquena      PR                Bupik Inc.   \n",
       "\n",
       "  zip_copy  \n",
       "0    00680  \n",
       "1    00956  \n",
       "2    00968  \n",
       "3    00962  \n",
       "4    00907  "
      ],
      "text/html": "<div>\n<style scoped>\n    .dataframe tbody tr th:only-of-type {\n        vertical-align: middle;\n    }\n\n    .dataframe tbody tr th {\n        vertical-align: top;\n    }\n\n    .dataframe thead th {\n        text-align: right;\n    }\n</style>\n<table border=\"1\" class=\"dataframe\">\n  <thead>\n    <tr style=\"text-align: right;\">\n      <th></th>\n      <th>est_number</th>\n      <th>company</th>\n      <th>street</th>\n      <th>city</th>\n      <th>st</th>\n      <th>zip</th>\n      <th>phone</th>\n      <th>grant_date</th>\n      <th>activities</th>\n      <th>dbas</th>\n      <th>st_copy</th>\n      <th>company_standard</th>\n      <th>zip_copy</th>\n    </tr>\n  </thead>\n  <tbody>\n    <tr>\n      <th>0</th>\n      <td>M6714+P6714</td>\n      <td>A. Concepcion Hnos</td>\n      <td>105 Aguila Street</td>\n      <td>Mayaguez</td>\n      <td>PR</td>\n      <td>00680</td>\n      <td>(809) 832-4145</td>\n      <td>1993-02-09</td>\n      <td>Meat Processing, Poultry Processing</td>\n      <td>None</td>\n      <td>PR</td>\n      <td>A. Concepcion Hnos</td>\n      <td>00680</td>\n    </tr>\n    <tr>\n      <th>1</th>\n      <td>M44941+P44941</td>\n      <td>Alcor Foods, Inc.</td>\n      <td>Ave. Hostos WF-8 Santa Juanita</td>\n      <td>Bayamon</td>\n      <td>PR</td>\n      <td>00956</td>\n      <td>(787) 718-9449</td>\n      <td>2016-06-20</td>\n      <td>Meat Processing, Poultry Processing</td>\n      <td>None</td>\n      <td>PR</td>\n      <td>Alcor Foods, Inc.</td>\n      <td>00956</td>\n    </tr>\n    <tr>\n      <th>2</th>\n      <td>M40232+P40232</td>\n      <td>American Butchers, Inc.</td>\n      <td>Diana Street Lot #5 Amelia Industrial Park</td>\n      <td>Guaynabo</td>\n      <td>PR</td>\n      <td>00968</td>\n      <td>(787) 774-8802</td>\n      <td>2011-05-11</td>\n      <td>Meat Processing, Poultry Processing</td>\n      <td>None</td>\n      <td>PR</td>\n      <td>American Butchers, Inc.</td>\n      <td>00968</td>\n    </tr>\n    <tr>\n      <th>3</th>\n      <td>I319</td>\n      <td>Ballester Hermanos, Inc.</td>\n      <td>Ballester Hermanos, Inc. Westgate Industrial P...</td>\n      <td>Catano</td>\n      <td>PR</td>\n      <td>00962</td>\n      <td>(787) 788-4110</td>\n      <td>2016-07-13</td>\n      <td>Imported Product</td>\n      <td>None</td>\n      <td>PR</td>\n      <td>Ballester Hermanos, Inc.</td>\n      <td>00962</td>\n    </tr>\n    <tr>\n      <th>4</th>\n      <td>M896+P896</td>\n      <td>Bupik Inc.</td>\n      <td>1052 Nueva Palma 1052-54 Ba. Tras Talleres</td>\n      <td>San Juan</td>\n      <td>PR</td>\n      <td>00907</td>\n      <td>(787) 717-7739</td>\n      <td>2016-04-15</td>\n      <td>Meat Processing, Poultry Processing</td>\n      <td>Bocadito CG; Don Alfonso; La Borinquena</td>\n      <td>PR</td>\n      <td>Bupik Inc.</td>\n      <td>00907</td>\n    </tr>\n  </tbody>\n</table>\n</div>"
     },
     "metadata": {},
     "execution_count": 26
    }
   ],
   "source": [
    "query = \"\"\"\n",
    "UPDATE meat_poultry_egg_inspect\n",
    "SET zip_copy = zip;\n",
    "\n",
    "SELECT * FROM meat_poultry_egg_inspect LIMIT 5;\n",
    "\"\"\"\n",
    "\n",
    "execute_query(conn, query)"
   ]
  },
  {
   "cell_type": "code",
   "execution_count": 27,
   "metadata": {},
   "outputs": [
    {
     "output_type": "execute_result",
     "data": {
      "text/plain": [
       "      est_number                   company  \\\n",
       "0    M6714+P6714        A. Concepcion Hnos   \n",
       "1  M44941+P44941         Alcor Foods, Inc.   \n",
       "2  M40232+P40232   American Butchers, Inc.   \n",
       "3           I319  Ballester Hermanos, Inc.   \n",
       "4      M896+P896                Bupik Inc.   \n",
       "\n",
       "                                              street      city  st    zip  \\\n",
       "0                                  105 Aguila Street  Mayaguez  PR  00680   \n",
       "1                     Ave. Hostos WF-8 Santa Juanita   Bayamon  PR  00956   \n",
       "2         Diana Street Lot #5 Amelia Industrial Park  Guaynabo  PR  00968   \n",
       "3  Ballester Hermanos, Inc. Westgate Industrial P...    Catano  PR  00962   \n",
       "4         1052 Nueva Palma 1052-54 Ba. Tras Talleres  San Juan  PR  00907   \n",
       "\n",
       "            phone  grant_date                           activities  \\\n",
       "0  (809) 832-4145  1993-02-09  Meat Processing, Poultry Processing   \n",
       "1  (787) 718-9449  2016-06-20  Meat Processing, Poultry Processing   \n",
       "2  (787) 774-8802  2011-05-11  Meat Processing, Poultry Processing   \n",
       "3  (787) 788-4110  2016-07-13                     Imported Product   \n",
       "4  (787) 717-7739  2016-04-15  Meat Processing, Poultry Processing   \n",
       "\n",
       "                                      dbas st_copy          company_standard  \\\n",
       "0                                     None      PR        A. Concepcion Hnos   \n",
       "1                                     None      PR         Alcor Foods, Inc.   \n",
       "2                                     None      PR   American Butchers, Inc.   \n",
       "3                                     None      PR  Ballester Hermanos, Inc.   \n",
       "4  Bocadito CG; Don Alfonso; La Borinquena      PR                Bupik Inc.   \n",
       "\n",
       "  zip_copy  \n",
       "0    00680  \n",
       "1    00956  \n",
       "2    00968  \n",
       "3    00962  \n",
       "4    00907  "
      ],
      "text/html": "<div>\n<style scoped>\n    .dataframe tbody tr th:only-of-type {\n        vertical-align: middle;\n    }\n\n    .dataframe tbody tr th {\n        vertical-align: top;\n    }\n\n    .dataframe thead th {\n        text-align: right;\n    }\n</style>\n<table border=\"1\" class=\"dataframe\">\n  <thead>\n    <tr style=\"text-align: right;\">\n      <th></th>\n      <th>est_number</th>\n      <th>company</th>\n      <th>street</th>\n      <th>city</th>\n      <th>st</th>\n      <th>zip</th>\n      <th>phone</th>\n      <th>grant_date</th>\n      <th>activities</th>\n      <th>dbas</th>\n      <th>st_copy</th>\n      <th>company_standard</th>\n      <th>zip_copy</th>\n    </tr>\n  </thead>\n  <tbody>\n    <tr>\n      <th>0</th>\n      <td>M6714+P6714</td>\n      <td>A. Concepcion Hnos</td>\n      <td>105 Aguila Street</td>\n      <td>Mayaguez</td>\n      <td>PR</td>\n      <td>00680</td>\n      <td>(809) 832-4145</td>\n      <td>1993-02-09</td>\n      <td>Meat Processing, Poultry Processing</td>\n      <td>None</td>\n      <td>PR</td>\n      <td>A. Concepcion Hnos</td>\n      <td>00680</td>\n    </tr>\n    <tr>\n      <th>1</th>\n      <td>M44941+P44941</td>\n      <td>Alcor Foods, Inc.</td>\n      <td>Ave. Hostos WF-8 Santa Juanita</td>\n      <td>Bayamon</td>\n      <td>PR</td>\n      <td>00956</td>\n      <td>(787) 718-9449</td>\n      <td>2016-06-20</td>\n      <td>Meat Processing, Poultry Processing</td>\n      <td>None</td>\n      <td>PR</td>\n      <td>Alcor Foods, Inc.</td>\n      <td>00956</td>\n    </tr>\n    <tr>\n      <th>2</th>\n      <td>M40232+P40232</td>\n      <td>American Butchers, Inc.</td>\n      <td>Diana Street Lot #5 Amelia Industrial Park</td>\n      <td>Guaynabo</td>\n      <td>PR</td>\n      <td>00968</td>\n      <td>(787) 774-8802</td>\n      <td>2011-05-11</td>\n      <td>Meat Processing, Poultry Processing</td>\n      <td>None</td>\n      <td>PR</td>\n      <td>American Butchers, Inc.</td>\n      <td>00968</td>\n    </tr>\n    <tr>\n      <th>3</th>\n      <td>I319</td>\n      <td>Ballester Hermanos, Inc.</td>\n      <td>Ballester Hermanos, Inc. Westgate Industrial P...</td>\n      <td>Catano</td>\n      <td>PR</td>\n      <td>00962</td>\n      <td>(787) 788-4110</td>\n      <td>2016-07-13</td>\n      <td>Imported Product</td>\n      <td>None</td>\n      <td>PR</td>\n      <td>Ballester Hermanos, Inc.</td>\n      <td>00962</td>\n    </tr>\n    <tr>\n      <th>4</th>\n      <td>M896+P896</td>\n      <td>Bupik Inc.</td>\n      <td>1052 Nueva Palma 1052-54 Ba. Tras Talleres</td>\n      <td>San Juan</td>\n      <td>PR</td>\n      <td>00907</td>\n      <td>(787) 717-7739</td>\n      <td>2016-04-15</td>\n      <td>Meat Processing, Poultry Processing</td>\n      <td>Bocadito CG; Don Alfonso; La Borinquena</td>\n      <td>PR</td>\n      <td>Bupik Inc.</td>\n      <td>00907</td>\n    </tr>\n  </tbody>\n</table>\n</div>"
     },
     "metadata": {},
     "execution_count": 27
    }
   ],
   "source": [
    "# Removing ZIP codes using concatenation\n",
    "query = \"\"\"\n",
    "UPDATE meat_poultry_egg_inspect\n",
    "SET zip = '00' || zip\n",
    "WHERE st IN('PR', 'VI') AND LENGTH(zip) = 3;\n",
    "\n",
    "SELECT * FROM meat_poultry_egg_inspect LIMIT 5;\n",
    "\"\"\"\n",
    "\n",
    "execute_query(conn, query)"
   ]
  },
  {
   "cell_type": "code",
   "execution_count": 28,
   "metadata": {},
   "outputs": [
    {
     "output_type": "execute_result",
     "data": {
      "text/plain": [
       "      est_number                   company  \\\n",
       "0    M6714+P6714        A. Concepcion Hnos   \n",
       "1  M44941+P44941         Alcor Foods, Inc.   \n",
       "2  M40232+P40232   American Butchers, Inc.   \n",
       "3           I319  Ballester Hermanos, Inc.   \n",
       "4      M896+P896                Bupik Inc.   \n",
       "\n",
       "                                              street      city  st    zip  \\\n",
       "0                                  105 Aguila Street  Mayaguez  PR  00680   \n",
       "1                     Ave. Hostos WF-8 Santa Juanita   Bayamon  PR  00956   \n",
       "2         Diana Street Lot #5 Amelia Industrial Park  Guaynabo  PR  00968   \n",
       "3  Ballester Hermanos, Inc. Westgate Industrial P...    Catano  PR  00962   \n",
       "4         1052 Nueva Palma 1052-54 Ba. Tras Talleres  San Juan  PR  00907   \n",
       "\n",
       "            phone  grant_date                           activities  \\\n",
       "0  (809) 832-4145  1993-02-09  Meat Processing, Poultry Processing   \n",
       "1  (787) 718-9449  2016-06-20  Meat Processing, Poultry Processing   \n",
       "2  (787) 774-8802  2011-05-11  Meat Processing, Poultry Processing   \n",
       "3  (787) 788-4110  2016-07-13                     Imported Product   \n",
       "4  (787) 717-7739  2016-04-15  Meat Processing, Poultry Processing   \n",
       "\n",
       "                                      dbas st_copy          company_standard  \\\n",
       "0                                     None      PR        A. Concepcion Hnos   \n",
       "1                                     None      PR         Alcor Foods, Inc.   \n",
       "2                                     None      PR   American Butchers, Inc.   \n",
       "3                                     None      PR  Ballester Hermanos, Inc.   \n",
       "4  Bocadito CG; Don Alfonso; La Borinquena      PR                Bupik Inc.   \n",
       "\n",
       "  zip_copy  \n",
       "0    00680  \n",
       "1    00956  \n",
       "2    00968  \n",
       "3    00962  \n",
       "4    00907  "
      ],
      "text/html": "<div>\n<style scoped>\n    .dataframe tbody tr th:only-of-type {\n        vertical-align: middle;\n    }\n\n    .dataframe tbody tr th {\n        vertical-align: top;\n    }\n\n    .dataframe thead th {\n        text-align: right;\n    }\n</style>\n<table border=\"1\" class=\"dataframe\">\n  <thead>\n    <tr style=\"text-align: right;\">\n      <th></th>\n      <th>est_number</th>\n      <th>company</th>\n      <th>street</th>\n      <th>city</th>\n      <th>st</th>\n      <th>zip</th>\n      <th>phone</th>\n      <th>grant_date</th>\n      <th>activities</th>\n      <th>dbas</th>\n      <th>st_copy</th>\n      <th>company_standard</th>\n      <th>zip_copy</th>\n    </tr>\n  </thead>\n  <tbody>\n    <tr>\n      <th>0</th>\n      <td>M6714+P6714</td>\n      <td>A. Concepcion Hnos</td>\n      <td>105 Aguila Street</td>\n      <td>Mayaguez</td>\n      <td>PR</td>\n      <td>00680</td>\n      <td>(809) 832-4145</td>\n      <td>1993-02-09</td>\n      <td>Meat Processing, Poultry Processing</td>\n      <td>None</td>\n      <td>PR</td>\n      <td>A. Concepcion Hnos</td>\n      <td>00680</td>\n    </tr>\n    <tr>\n      <th>1</th>\n      <td>M44941+P44941</td>\n      <td>Alcor Foods, Inc.</td>\n      <td>Ave. Hostos WF-8 Santa Juanita</td>\n      <td>Bayamon</td>\n      <td>PR</td>\n      <td>00956</td>\n      <td>(787) 718-9449</td>\n      <td>2016-06-20</td>\n      <td>Meat Processing, Poultry Processing</td>\n      <td>None</td>\n      <td>PR</td>\n      <td>Alcor Foods, Inc.</td>\n      <td>00956</td>\n    </tr>\n    <tr>\n      <th>2</th>\n      <td>M40232+P40232</td>\n      <td>American Butchers, Inc.</td>\n      <td>Diana Street Lot #5 Amelia Industrial Park</td>\n      <td>Guaynabo</td>\n      <td>PR</td>\n      <td>00968</td>\n      <td>(787) 774-8802</td>\n      <td>2011-05-11</td>\n      <td>Meat Processing, Poultry Processing</td>\n      <td>None</td>\n      <td>PR</td>\n      <td>American Butchers, Inc.</td>\n      <td>00968</td>\n    </tr>\n    <tr>\n      <th>3</th>\n      <td>I319</td>\n      <td>Ballester Hermanos, Inc.</td>\n      <td>Ballester Hermanos, Inc. Westgate Industrial P...</td>\n      <td>Catano</td>\n      <td>PR</td>\n      <td>00962</td>\n      <td>(787) 788-4110</td>\n      <td>2016-07-13</td>\n      <td>Imported Product</td>\n      <td>None</td>\n      <td>PR</td>\n      <td>Ballester Hermanos, Inc.</td>\n      <td>00962</td>\n    </tr>\n    <tr>\n      <th>4</th>\n      <td>M896+P896</td>\n      <td>Bupik Inc.</td>\n      <td>1052 Nueva Palma 1052-54 Ba. Tras Talleres</td>\n      <td>San Juan</td>\n      <td>PR</td>\n      <td>00907</td>\n      <td>(787) 717-7739</td>\n      <td>2016-04-15</td>\n      <td>Meat Processing, Poultry Processing</td>\n      <td>Bocadito CG; Don Alfonso; La Borinquena</td>\n      <td>PR</td>\n      <td>Bupik Inc.</td>\n      <td>00907</td>\n    </tr>\n  </tbody>\n</table>\n</div>"
     },
     "metadata": {},
     "execution_count": 28
    }
   ],
   "source": [
    "# Updating the remaining rows lacking leading zero's\n",
    "query = \"\"\"\n",
    "UPDATE meat_poultry_egg_inspect\n",
    "SET zip = '0' || zip\n",
    "WHERE st IN('CT', 'MA', 'ME', 'NH', 'NJ', 'RI', 'VT') AND LENGTH(zip) = 4;\n",
    "\n",
    "SELECT * FROM meat_poultry_egg_inspect LIMIT 5;\n",
    "\"\"\"\n",
    "\n",
    "execute_query(conn, query)"
   ]
  },
  {
   "cell_type": "code",
   "execution_count": 32,
   "metadata": {},
   "outputs": [
    {
     "output_type": "execute_result",
     "data": {
      "text/plain": [
       "   length  count\n",
       "0       5   6287"
      ],
      "text/html": "<div>\n<style scoped>\n    .dataframe tbody tr th:only-of-type {\n        vertical-align: middle;\n    }\n\n    .dataframe tbody tr th {\n        vertical-align: top;\n    }\n\n    .dataframe thead th {\n        text-align: right;\n    }\n</style>\n<table border=\"1\" class=\"dataframe\">\n  <thead>\n    <tr style=\"text-align: right;\">\n      <th></th>\n      <th>length</th>\n      <th>count</th>\n    </tr>\n  </thead>\n  <tbody>\n    <tr>\n      <th>0</th>\n      <td>5</td>\n      <td>6287</td>\n    </tr>\n  </tbody>\n</table>\n</div>"
     },
     "metadata": {},
     "execution_count": 32
    }
   ],
   "source": [
    "# Making sure that we fixed all zip codes\n",
    "query = \"\"\"\n",
    "SELECT LENGTH(zip),\n",
    "    COUNT(zip)\n",
    "FROM meat_poultry_egg_inspect\n",
    "GROUP BY LENGTH(zip);\n",
    "\"\"\"\n",
    "\n",
    "execute_query(conn, query)"
   ]
  },
  {
   "cell_type": "code",
   "execution_count": null,
   "metadata": {},
   "outputs": [],
   "source": []
  }
 ]
}