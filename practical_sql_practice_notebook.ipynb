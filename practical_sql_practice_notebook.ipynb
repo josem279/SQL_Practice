{
 "metadata": {
  "language_info": {
   "codemirror_mode": {
    "name": "ipython",
    "version": 3
   },
   "file_extension": ".py",
   "mimetype": "text/x-python",
   "name": "python",
   "nbconvert_exporter": "python",
   "pygments_lexer": "ipython3",
   "version": "3.9.1-final"
  },
  "orig_nbformat": 2,
  "kernelspec": {
   "name": "python3",
   "display_name": "Python 3.9.1 64-bit",
   "metadata": {
    "interpreter": {
     "hash": "b5843a13e7131a14c3c0e364f0390d6592a995e3082c3f83420ac4385eeb2370"
    }
   }
  }
 },
 "nbformat": 4,
 "nbformat_minor": 2,
 "cells": [
  {
   "source": [
    "# Practical SQL: Chapter Practice Notebook\n",
    "\n",
    "This Jupyter notebook will display all SQL queries and practices covered in each chapter of the book \"Practical SQL: A Beginner's Guide To Storytelling With Data\" by Anthony DeBarros.\n",
    "\n",
    "The first part of this notebook will require us to import a couple of dependencies as well as personal data that will allow us to link out Jupyter Notebook to PostgreSQL."
   ],
   "cell_type": "markdown",
   "metadata": {}
  },
  {
   "cell_type": "code",
   "execution_count": 1,
   "metadata": {},
   "outputs": [],
   "source": [
    "import psycopg2\n",
    "import pandas as pd\n",
    "from sql_data import db, usr, pwd"
   ]
  },
  {
   "cell_type": "code",
   "execution_count": 2,
   "metadata": {},
   "outputs": [],
   "source": [
    "# Connecting to postgreSQL database\n",
    "conn = psycopg2.connect(\n",
    "    host = \"localhost\",\n",
    "    database = db,\n",
    "    user = usr,\n",
    "    password = pwd,\n",
    "    port = 5432\n",
    ")\n",
    "\n",
    "def execute_query(connection, query):\n",
    "    connection.autocommit = True\n",
    "    cursor = connection.cursor()\n",
    "    try:\n",
    "        cursor.execute(query)\n",
    "        results = cursor.fetchall()\n",
    "        column_names = [i[0] for i in cursor.description]\n",
    "        results = pd.DataFrame(results, columns= column_names)\n",
    "        return results\n",
    "        return print(\"Query executed succesfully!\")\n",
    "        # Closing the cursor\n",
    "        cursor.close()\n",
    "        del cursor\n",
    "        # Closing the connection\n",
    "        connection.close()\n",
    "    except OperationalError as e:\n",
    "        print(f\"The error '{e}' occurred.\")"
   ]
  },
  {
   "source": [
    "## Chapter 8: Extracting Information By Grouping and Summarizing\n",
    "\n",
    "This chapter requires us to build two tables based on the 2009 and 2014 Public Library Surveys conducted by the Institute of Museum and Library Services (IMLS). Please refer to the books resources as detailed in the readme page to gain access to the csv files needed to fill in the two library tables used henceforth."
   ],
   "cell_type": "markdown",
   "metadata": {}
  },
  {
   "cell_type": "code",
   "execution_count": 3,
   "metadata": {},
   "outputs": [
    {
     "output_type": "execute_result",
     "data": {
      "text/plain": [
       "   count\n",
       "0   9305"
      ],
      "text/html": "<div>\n<style scoped>\n    .dataframe tbody tr th:only-of-type {\n        vertical-align: middle;\n    }\n\n    .dataframe tbody tr th {\n        vertical-align: top;\n    }\n\n    .dataframe thead th {\n        text-align: right;\n    }\n</style>\n<table border=\"1\" class=\"dataframe\">\n  <thead>\n    <tr style=\"text-align: right;\">\n      <th></th>\n      <th>count</th>\n    </tr>\n  </thead>\n  <tbody>\n    <tr>\n      <th>0</th>\n      <td>9305</td>\n    </tr>\n  </tbody>\n</table>\n</div>"
     },
     "metadata": {},
     "execution_count": 3
    }
   ],
   "source": [
    "# Exploring the Library Data Using Aggregate Functions\n",
    "# Counting Rows and Values using Count()\n",
    "\n",
    "query = \"\"\"\n",
    "SELECT COUNT(*)\n",
    "FROM pls_fy2014_pupld14a;\n",
    "\"\"\"\n",
    "\n",
    "execute_query(conn, query)"
   ]
  },
  {
   "cell_type": "code",
   "execution_count": 4,
   "metadata": {},
   "outputs": [
    {
     "output_type": "execute_result",
     "data": {
      "text/plain": [
       "   count\n",
       "0   9299"
      ],
      "text/html": "<div>\n<style scoped>\n    .dataframe tbody tr th:only-of-type {\n        vertical-align: middle;\n    }\n\n    .dataframe tbody tr th {\n        vertical-align: top;\n    }\n\n    .dataframe thead th {\n        text-align: right;\n    }\n</style>\n<table border=\"1\" class=\"dataframe\">\n  <thead>\n    <tr style=\"text-align: right;\">\n      <th></th>\n      <th>count</th>\n    </tr>\n  </thead>\n  <tbody>\n    <tr>\n      <th>0</th>\n      <td>9299</td>\n    </tr>\n  </tbody>\n</table>\n</div>"
     },
     "metadata": {},
     "execution_count": 4
    }
   ],
   "source": [
    "query = \"\"\"\n",
    "SELECT COUNT(*)\n",
    "FROM pls_fy2009_pupld09a;\n",
    "\"\"\"\n",
    "\n",
    "execute_query(conn, query)"
   ]
  },
  {
   "cell_type": "code",
   "execution_count": 5,
   "metadata": {},
   "outputs": [
    {
     "output_type": "execute_result",
     "data": {
      "text/plain": [
       "   count\n",
       "0   5983"
      ],
      "text/html": "<div>\n<style scoped>\n    .dataframe tbody tr th:only-of-type {\n        vertical-align: middle;\n    }\n\n    .dataframe tbody tr th {\n        vertical-align: top;\n    }\n\n    .dataframe thead th {\n        text-align: right;\n    }\n</style>\n<table border=\"1\" class=\"dataframe\">\n  <thead>\n    <tr style=\"text-align: right;\">\n      <th></th>\n      <th>count</th>\n    </tr>\n  </thead>\n  <tbody>\n    <tr>\n      <th>0</th>\n      <td>5983</td>\n    </tr>\n  </tbody>\n</table>\n</div>"
     },
     "metadata": {},
     "execution_count": 5
    }
   ],
   "source": [
    "# Examining the count of rows in columns where the NOT NULL constraint was not applied\n",
    "query = \"\"\"\n",
    "SELECT COUNT(salaries)\n",
    "FROM pls_fy2014_pupld14a;\n",
    "\"\"\"\n",
    "execute_query(conn,query)"
   ]
  },
  {
   "cell_type": "code",
   "execution_count": 6,
   "metadata": {},
   "outputs": [
    {
     "output_type": "execute_result",
     "data": {
      "text/plain": [
       "   count\n",
       "0   9305"
      ],
      "text/html": "<div>\n<style scoped>\n    .dataframe tbody tr th:only-of-type {\n        vertical-align: middle;\n    }\n\n    .dataframe tbody tr th {\n        vertical-align: top;\n    }\n\n    .dataframe thead th {\n        text-align: right;\n    }\n</style>\n<table border=\"1\" class=\"dataframe\">\n  <thead>\n    <tr style=\"text-align: right;\">\n      <th></th>\n      <th>count</th>\n    </tr>\n  </thead>\n  <tbody>\n    <tr>\n      <th>0</th>\n      <td>9305</td>\n    </tr>\n  </tbody>\n</table>\n</div>"
     },
     "metadata": {},
     "execution_count": 6
    }
   ],
   "source": [
    "# Using the DISTINCT function to see how many unique values are contained within a column\n",
    "# This query returns the count of all rows\n",
    "query = \"\"\"\n",
    "SELECT COUNT(libname)\n",
    "FROM pls_fy2014_pupld14a;\n",
    "\"\"\"\n",
    "execute_query(conn,query)"
   ]
  },
  {
   "cell_type": "code",
   "execution_count": 7,
   "metadata": {},
   "outputs": [
    {
     "output_type": "execute_result",
     "data": {
      "text/plain": [
       "   count\n",
       "0   8515"
      ],
      "text/html": "<div>\n<style scoped>\n    .dataframe tbody tr th:only-of-type {\n        vertical-align: middle;\n    }\n\n    .dataframe tbody tr th {\n        vertical-align: top;\n    }\n\n    .dataframe thead th {\n        text-align: right;\n    }\n</style>\n<table border=\"1\" class=\"dataframe\">\n  <thead>\n    <tr style=\"text-align: right;\">\n      <th></th>\n      <th>count</th>\n    </tr>\n  </thead>\n  <tbody>\n    <tr>\n      <th>0</th>\n      <td>8515</td>\n    </tr>\n  </tbody>\n</table>\n</div>"
     },
     "metadata": {},
     "execution_count": 7
    }
   ],
   "source": [
    "# This query return the unique values of the same column. The number should be smaller as there are some duplicated values.\n",
    "query = \"\"\"\n",
    "SELECT COUNT(DISTINCT(libname))\n",
    "FROM pls_fy2014_pupld14a;\n",
    "\"\"\"\n",
    "execute_query(conn,query)"
   ]
  },
  {
   "cell_type": "code",
   "execution_count": 8,
   "metadata": {},
   "outputs": [
    {
     "output_type": "execute_result",
     "data": {
      "text/plain": [
       "        max  min\n",
       "0  17729020   -3"
      ],
      "text/html": "<div>\n<style scoped>\n    .dataframe tbody tr th:only-of-type {\n        vertical-align: middle;\n    }\n\n    .dataframe tbody tr th {\n        vertical-align: top;\n    }\n\n    .dataframe thead th {\n        text-align: right;\n    }\n</style>\n<table border=\"1\" class=\"dataframe\">\n  <thead>\n    <tr style=\"text-align: right;\">\n      <th></th>\n      <th>max</th>\n      <th>min</th>\n    </tr>\n  </thead>\n  <tbody>\n    <tr>\n      <th>0</th>\n      <td>17729020</td>\n      <td>-3</td>\n    </tr>\n  </tbody>\n</table>\n</div>"
     },
     "metadata": {},
     "execution_count": 8
    }
   ],
   "source": [
    "# Finding Maximum and Minimum Values Using MAX() and MIN()\n",
    "query = \"\"\"\n",
    "SELECT MAX(visits), MIN(visits)\n",
    "FROM pls_fy2014_pupld14a;\n",
    "\"\"\"\n",
    "execute_query(conn, query)"
   ]
  },
  {
   "cell_type": "code",
   "execution_count": 9,
   "metadata": {},
   "outputs": [
    {
     "output_type": "execute_result",
     "data": {
      "text/plain": [
       "  stabr  count\n",
       "0    NY    756\n",
       "1    IL    625\n",
       "2    TX    556\n",
       "3    IA    543\n",
       "4    PA    455"
      ],
      "text/html": "<div>\n<style scoped>\n    .dataframe tbody tr th:only-of-type {\n        vertical-align: middle;\n    }\n\n    .dataframe tbody tr th {\n        vertical-align: top;\n    }\n\n    .dataframe thead th {\n        text-align: right;\n    }\n</style>\n<table border=\"1\" class=\"dataframe\">\n  <thead>\n    <tr style=\"text-align: right;\">\n      <th></th>\n      <th>stabr</th>\n      <th>count</th>\n    </tr>\n  </thead>\n  <tbody>\n    <tr>\n      <th>0</th>\n      <td>NY</td>\n      <td>756</td>\n    </tr>\n    <tr>\n      <th>1</th>\n      <td>IL</td>\n      <td>625</td>\n    </tr>\n    <tr>\n      <th>2</th>\n      <td>TX</td>\n      <td>556</td>\n    </tr>\n    <tr>\n      <th>3</th>\n      <td>IA</td>\n      <td>543</td>\n    </tr>\n    <tr>\n      <th>4</th>\n      <td>PA</td>\n      <td>455</td>\n    </tr>\n  </tbody>\n</table>\n</div>"
     },
     "metadata": {},
     "execution_count": 9
    }
   ],
   "source": [
    "# Aggregating Data Using GROUP BY\n",
    "\n",
    "# Combining GROUP BY clause with COUNT()\n",
    "query = \"\"\"\n",
    "SELECT stabr, COUNT(*)\n",
    "FROM pls_fy2014_pupld14a\n",
    "GROUP BY stabr\n",
    "ORDER BY COUNT(*) DESC\n",
    "LIMIT 5;\n",
    "\"\"\"\n",
    "execute_query(conn, query)"
   ]
  },
  {
   "cell_type": "code",
   "execution_count": 10,
   "metadata": {},
   "outputs": [
    {
     "output_type": "execute_result",
     "data": {
      "text/plain": [
       "    stabr stataddr  count\n",
       "0      AK       00     70\n",
       "1      AK       15     10\n",
       "2      AK       07      5\n",
       "3      AL       00    221\n",
       "4      AL       07      3\n",
       "..    ...      ...    ...\n",
       "101    WI       07      6\n",
       "102    WI       15      3\n",
       "103    WV       00     93\n",
       "104    WV       15      4\n",
       "105    WY       00     23\n",
       "\n",
       "[106 rows x 3 columns]"
      ],
      "text/html": "<div>\n<style scoped>\n    .dataframe tbody tr th:only-of-type {\n        vertical-align: middle;\n    }\n\n    .dataframe tbody tr th {\n        vertical-align: top;\n    }\n\n    .dataframe thead th {\n        text-align: right;\n    }\n</style>\n<table border=\"1\" class=\"dataframe\">\n  <thead>\n    <tr style=\"text-align: right;\">\n      <th></th>\n      <th>stabr</th>\n      <th>stataddr</th>\n      <th>count</th>\n    </tr>\n  </thead>\n  <tbody>\n    <tr>\n      <th>0</th>\n      <td>AK</td>\n      <td>00</td>\n      <td>70</td>\n    </tr>\n    <tr>\n      <th>1</th>\n      <td>AK</td>\n      <td>15</td>\n      <td>10</td>\n    </tr>\n    <tr>\n      <th>2</th>\n      <td>AK</td>\n      <td>07</td>\n      <td>5</td>\n    </tr>\n    <tr>\n      <th>3</th>\n      <td>AL</td>\n      <td>00</td>\n      <td>221</td>\n    </tr>\n    <tr>\n      <th>4</th>\n      <td>AL</td>\n      <td>07</td>\n      <td>3</td>\n    </tr>\n    <tr>\n      <th>...</th>\n      <td>...</td>\n      <td>...</td>\n      <td>...</td>\n    </tr>\n    <tr>\n      <th>101</th>\n      <td>WI</td>\n      <td>07</td>\n      <td>6</td>\n    </tr>\n    <tr>\n      <th>102</th>\n      <td>WI</td>\n      <td>15</td>\n      <td>3</td>\n    </tr>\n    <tr>\n      <th>103</th>\n      <td>WV</td>\n      <td>00</td>\n      <td>93</td>\n    </tr>\n    <tr>\n      <th>104</th>\n      <td>WV</td>\n      <td>15</td>\n      <td>4</td>\n    </tr>\n    <tr>\n      <th>105</th>\n      <td>WY</td>\n      <td>00</td>\n      <td>23</td>\n    </tr>\n  </tbody>\n</table>\n<p>106 rows × 3 columns</p>\n</div>"
     },
     "metadata": {},
     "execution_count": 10
    }
   ],
   "source": [
    "# Aggregating data from multiple columns using GROUP BY\n",
    "query = \"\"\"\n",
    "SELECT stabr, stataddr, COUNT(*)\n",
    "FROM pls_fy2014_pupld14a\n",
    "GROUP BY stabr, stataddr\n",
    "ORDER BY stabr ASC, COUNT(*) DESC;\n",
    "\"\"\"\n",
    "\n",
    "execute_query(conn, query)"
   ]
  },
  {
   "cell_type": "code",
   "execution_count": 11,
   "metadata": {},
   "outputs": [
    {
     "output_type": "execute_result",
     "data": {
      "text/plain": [
       "   visits_2014  visits_2009\n",
       "0   1417299241   1585455205"
      ],
      "text/html": "<div>\n<style scoped>\n    .dataframe tbody tr th:only-of-type {\n        vertical-align: middle;\n    }\n\n    .dataframe tbody tr th {\n        vertical-align: top;\n    }\n\n    .dataframe thead th {\n        text-align: right;\n    }\n</style>\n<table border=\"1\" class=\"dataframe\">\n  <thead>\n    <tr style=\"text-align: right;\">\n      <th></th>\n      <th>visits_2014</th>\n      <th>visits_2009</th>\n    </tr>\n  </thead>\n  <tbody>\n    <tr>\n      <th>0</th>\n      <td>1417299241</td>\n      <td>1585455205</td>\n    </tr>\n  </tbody>\n</table>\n</div>"
     },
     "metadata": {},
     "execution_count": 11
    }
   ],
   "source": [
    "# Aggregating data from multiple joined tables\n",
    "\n",
    "# No aggregation but here we are trying to determine trends in library visists using the 2014 and 2009 tables \n",
    "query = \"\"\"\n",
    "SELECT SUM(pls14.visits) AS visits_2014,\n",
    "    SUM(pls09.visits) AS visits_2009\n",
    "FROM pls_fy2014_pupld14a AS pls14\n",
    "JOIN pls_fy2009_pupld09a AS pls09\n",
    "    ON pls14.fscskey = pls09.fscskey\n",
    "WHERE pls14.visits >=0 AND pls09.visits >= 0;\n",
    "\"\"\"\n",
    "\n",
    "execute_query(conn, query)"
   ]
  },
  {
   "cell_type": "code",
   "execution_count": 12,
   "metadata": {},
   "outputs": [
    {
     "output_type": "execute_result",
     "data": {
      "text/plain": [
       "  stabr  visits_2014  visits_2009 pct_change\n",
       "0    GU       103593        60763      70.49\n",
       "1    DC      4230790      2944774      43.67\n",
       "2    LA     17242110     15591805      10.58\n",
       "3    MT      4582604      4386504       4.47\n",
       "4    AL     17113602     16933967       1.06"
      ],
      "text/html": "<div>\n<style scoped>\n    .dataframe tbody tr th:only-of-type {\n        vertical-align: middle;\n    }\n\n    .dataframe tbody tr th {\n        vertical-align: top;\n    }\n\n    .dataframe thead th {\n        text-align: right;\n    }\n</style>\n<table border=\"1\" class=\"dataframe\">\n  <thead>\n    <tr style=\"text-align: right;\">\n      <th></th>\n      <th>stabr</th>\n      <th>visits_2014</th>\n      <th>visits_2009</th>\n      <th>pct_change</th>\n    </tr>\n  </thead>\n  <tbody>\n    <tr>\n      <th>0</th>\n      <td>GU</td>\n      <td>103593</td>\n      <td>60763</td>\n      <td>70.49</td>\n    </tr>\n    <tr>\n      <th>1</th>\n      <td>DC</td>\n      <td>4230790</td>\n      <td>2944774</td>\n      <td>43.67</td>\n    </tr>\n    <tr>\n      <th>2</th>\n      <td>LA</td>\n      <td>17242110</td>\n      <td>15591805</td>\n      <td>10.58</td>\n    </tr>\n    <tr>\n      <th>3</th>\n      <td>MT</td>\n      <td>4582604</td>\n      <td>4386504</td>\n      <td>4.47</td>\n    </tr>\n    <tr>\n      <th>4</th>\n      <td>AL</td>\n      <td>17113602</td>\n      <td>16933967</td>\n      <td>1.06</td>\n    </tr>\n  </tbody>\n</table>\n</div>"
     },
     "metadata": {},
     "execution_count": 12
    }
   ],
   "source": [
    "# Aggregating data to compare trends by states\n",
    "query = \"\"\"\n",
    "SELECT\n",
    "    pls14.stabr,\n",
    "    SUM(pls14.visits) AS visits_2014,\n",
    "    SUM(pls09.visits) AS visits_2009,\n",
    "    ROUND( (CAST(SUM(pls14.visits) AS DECIMAL(10, 1)) - SUM(pls09.visits)) /\n",
    "        SUM(pls09.visits) * 100, 2) AS pct_change\n",
    "FROM pls_fy2014_pupld14a AS pls14\n",
    "JOIN pls_fy2009_pupld09a AS pls09\n",
    "    ON pls14.fscskey = pls09.fscskey\n",
    "WHERE pls14.visits >=0 AND pls09.visits >= 0\n",
    "GROUP BY pls14.stabr\n",
    "ORDER BY pct_change DESC\n",
    "LIMIT 5\n",
    ";\n",
    "\"\"\"\n",
    "\n",
    "execute_query(conn, query)"
   ]
  },
  {
   "cell_type": "code",
   "execution_count": 13,
   "metadata": {},
   "outputs": [
    {
     "output_type": "execute_result",
     "data": {
      "text/plain": [
       "  stabr  visits_2014  visits_2009 pct_change\n",
       "0    TX     72876601     78838400      -7.56\n",
       "1    CA    162787836    182181408     -10.65\n",
       "2    OH     82495138     92402369     -10.72\n",
       "3    NY    106453546    119810969     -11.15\n",
       "4    IL     72598213     82438755     -11.94"
      ],
      "text/html": "<div>\n<style scoped>\n    .dataframe tbody tr th:only-of-type {\n        vertical-align: middle;\n    }\n\n    .dataframe tbody tr th {\n        vertical-align: top;\n    }\n\n    .dataframe thead th {\n        text-align: right;\n    }\n</style>\n<table border=\"1\" class=\"dataframe\">\n  <thead>\n    <tr style=\"text-align: right;\">\n      <th></th>\n      <th>stabr</th>\n      <th>visits_2014</th>\n      <th>visits_2009</th>\n      <th>pct_change</th>\n    </tr>\n  </thead>\n  <tbody>\n    <tr>\n      <th>0</th>\n      <td>TX</td>\n      <td>72876601</td>\n      <td>78838400</td>\n      <td>-7.56</td>\n    </tr>\n    <tr>\n      <th>1</th>\n      <td>CA</td>\n      <td>162787836</td>\n      <td>182181408</td>\n      <td>-10.65</td>\n    </tr>\n    <tr>\n      <th>2</th>\n      <td>OH</td>\n      <td>82495138</td>\n      <td>92402369</td>\n      <td>-10.72</td>\n    </tr>\n    <tr>\n      <th>3</th>\n      <td>NY</td>\n      <td>106453546</td>\n      <td>119810969</td>\n      <td>-11.15</td>\n    </tr>\n    <tr>\n      <th>4</th>\n      <td>IL</td>\n      <td>72598213</td>\n      <td>82438755</td>\n      <td>-11.94</td>\n    </tr>\n  </tbody>\n</table>\n</div>"
     },
     "metadata": {},
     "execution_count": 13
    }
   ],
   "source": [
    "# Filtering an Aggregate Query Using Having\n",
    "query = \"\"\"\n",
    "SELECT\n",
    "    pls14.stabr,\n",
    "    SUM(pls14.visits) AS visits_2014,\n",
    "    SUM(pls09.visits) AS visits_2009,\n",
    "    ROUND( (CAST(SUM(pls14.visits) AS DECIMAL(10, 1)) - SUM(pls09.visits)) /\n",
    "        SUM(pls09.visits) * 100, 2) AS pct_change\n",
    "FROM pls_fy2014_pupld14a AS pls14\n",
    "JOIN pls_fy2009_pupld09a AS pls09\n",
    "    ON pls14.fscskey = pls09.fscskey\n",
    "WHERE pls14.visits >=0 AND pls09.visits >= 0\n",
    "GROUP BY pls14.stabr\n",
    "HAVING SUM(pls14.visits) > 50000000\n",
    "ORDER BY pct_change DESC\n",
    "LIMIT 5\n",
    ";\n",
    "\"\"\"\n",
    "\n",
    "execute_query(conn, query)"
   ]
  },
  {
   "source": [
    "## Chapter 9: Inspecting and Modifying Data\n",
    "\n",
    "For this chaper, we will use a direcory of U.S. meat, poultry, and egg producers provided by the Food Safety and Inspection Service (FSIS)  agency within the U.S. Department of Agriculture.\n",
    "\n",
    "These first initial queries should give us some insight into our dataset:"
   ],
   "cell_type": "markdown",
   "metadata": {}
  },
  {
   "cell_type": "code",
   "execution_count": 14,
   "metadata": {},
   "outputs": [
    {
     "output_type": "execute_result",
     "data": {
      "text/plain": [
       "   count\n",
       "0   6201"
      ],
      "text/html": "<div>\n<style scoped>\n    .dataframe tbody tr th:only-of-type {\n        vertical-align: middle;\n    }\n\n    .dataframe tbody tr th {\n        vertical-align: top;\n    }\n\n    .dataframe thead th {\n        text-align: right;\n    }\n</style>\n<table border=\"1\" class=\"dataframe\">\n  <thead>\n    <tr style=\"text-align: right;\">\n      <th></th>\n      <th>count</th>\n    </tr>\n  </thead>\n  <tbody>\n    <tr>\n      <th>0</th>\n      <td>6201</td>\n    </tr>\n  </tbody>\n</table>\n</div>"
     },
     "metadata": {},
     "execution_count": 14
    }
   ],
   "source": [
    "# Reviweing our imported data\n",
    "query = \"\"\"\n",
    "SELECT COUNT(*)\n",
    "FROM meat_poultry_egg_inspect;\n",
    "\"\"\"\n",
    "\n",
    "execute_query(conn, query)"
   ]
  },
  {
   "cell_type": "code",
   "execution_count": 15,
   "metadata": {},
   "outputs": [
    {
     "output_type": "execute_result",
     "data": {
      "text/plain": [
       "                                           company  \\\n",
       "0                           Acre Station Meat Farm   \n",
       "1                               Beltex Corporation   \n",
       "2                          Cloverleaf Cold Storage   \n",
       "3                      Crete Core Ingredients, LLC   \n",
       "4                                     Crider, Inc.   \n",
       "5                Dimension Marketing & Sales, Inc.   \n",
       "6   Foster Poultry Farms, A California Corporation   \n",
       "7                       Freezer & Dry Storage, LLC   \n",
       "8                               JBS Souderton Inc.   \n",
       "9                        KB Poultry Processing LLC   \n",
       "10                  Lakeside Refrigerated Services   \n",
       "11                            Liberty Cold Storage   \n",
       "12                           M.G. Waldbaum Company   \n",
       "13              Midway International Logistics LLC   \n",
       "14           Nordic Logistics and Warehousing, LLC   \n",
       "15                                  OK Foods, Inc.   \n",
       "16                     Pacific Produce Corporation   \n",
       "17               Payless Distribution Center (PDC)   \n",
       "18                   Piatkowski Riteway Meats Inc.   \n",
       "19                      Preferred Freezer Services   \n",
       "20                                THE AMERICAN PIG   \n",
       "21                       The Classic Jerky Company   \n",
       "22                 United States Cold Storage Inc.   \n",
       "\n",
       "                                  street           city  st  address_count  \n",
       "0                         17076 Hwy 32 N       Pinetown  NC              2  \n",
       "1                3801 North Grove Street     Fort Worth  TX              2  \n",
       "2                     111 Imperial Drive        Sanford  NC              2  \n",
       "3                     2220 County Road I          Crete  NE              2  \n",
       "4                         1 Plant Avenue      Stillmore  GA              3  \n",
       "5                    386 West 9400 South          Sandy  UT              2  \n",
       "6                  6648 Highway 15 North    Farmerville  LA              2  \n",
       "7         21740 Trolley Industrial Drive         Taylor  MI              2  \n",
       "8                     249 Allentown Road      Souderton  PA              2  \n",
       "9                    15024 Sandstone Dr.          Utica  MN              2  \n",
       "10               2600 Oldmans Creek Road     Swedesboro  NJ              2  \n",
       "11                  1310 Remington Blvd.    Bolingbrook  IL              2  \n",
       "12                      120 Tower Street        Gaylord  MN              3  \n",
       "13                    948 Bradley Street      Watertown  NY              2  \n",
       "14                        220 Nordic Way         Pooler  GA              2  \n",
       "15                        3921 Reed Lane     Fort Smith  AR              2  \n",
       "16  220 East Harmon Industrial Park Road       Tamuning  GU              2  \n",
       "17                   370 Mendioka Street         Dededo  GU              2  \n",
       "18                      3555 Witmer Road  Niagara Falls  NY              2  \n",
       "19                     2700 Trade Street     Chesapeake  VA              2  \n",
       "20                        25 MEADOW ROAD      ASHEVILLE  NC              2  \n",
       "21        21655 Trolley Industrial Drive         Taylor  MI              2  \n",
       "22                     11801 NW 102 Road         Medley  FL              2  "
      ],
      "text/html": "<div>\n<style scoped>\n    .dataframe tbody tr th:only-of-type {\n        vertical-align: middle;\n    }\n\n    .dataframe tbody tr th {\n        vertical-align: top;\n    }\n\n    .dataframe thead th {\n        text-align: right;\n    }\n</style>\n<table border=\"1\" class=\"dataframe\">\n  <thead>\n    <tr style=\"text-align: right;\">\n      <th></th>\n      <th>company</th>\n      <th>street</th>\n      <th>city</th>\n      <th>st</th>\n      <th>address_count</th>\n    </tr>\n  </thead>\n  <tbody>\n    <tr>\n      <th>0</th>\n      <td>Acre Station Meat Farm</td>\n      <td>17076 Hwy 32 N</td>\n      <td>Pinetown</td>\n      <td>NC</td>\n      <td>2</td>\n    </tr>\n    <tr>\n      <th>1</th>\n      <td>Beltex Corporation</td>\n      <td>3801 North Grove Street</td>\n      <td>Fort Worth</td>\n      <td>TX</td>\n      <td>2</td>\n    </tr>\n    <tr>\n      <th>2</th>\n      <td>Cloverleaf Cold Storage</td>\n      <td>111 Imperial Drive</td>\n      <td>Sanford</td>\n      <td>NC</td>\n      <td>2</td>\n    </tr>\n    <tr>\n      <th>3</th>\n      <td>Crete Core Ingredients, LLC</td>\n      <td>2220 County Road I</td>\n      <td>Crete</td>\n      <td>NE</td>\n      <td>2</td>\n    </tr>\n    <tr>\n      <th>4</th>\n      <td>Crider, Inc.</td>\n      <td>1 Plant Avenue</td>\n      <td>Stillmore</td>\n      <td>GA</td>\n      <td>3</td>\n    </tr>\n    <tr>\n      <th>5</th>\n      <td>Dimension Marketing &amp; Sales, Inc.</td>\n      <td>386 West 9400 South</td>\n      <td>Sandy</td>\n      <td>UT</td>\n      <td>2</td>\n    </tr>\n    <tr>\n      <th>6</th>\n      <td>Foster Poultry Farms, A California Corporation</td>\n      <td>6648 Highway 15 North</td>\n      <td>Farmerville</td>\n      <td>LA</td>\n      <td>2</td>\n    </tr>\n    <tr>\n      <th>7</th>\n      <td>Freezer &amp; Dry Storage, LLC</td>\n      <td>21740 Trolley Industrial Drive</td>\n      <td>Taylor</td>\n      <td>MI</td>\n      <td>2</td>\n    </tr>\n    <tr>\n      <th>8</th>\n      <td>JBS Souderton Inc.</td>\n      <td>249 Allentown Road</td>\n      <td>Souderton</td>\n      <td>PA</td>\n      <td>2</td>\n    </tr>\n    <tr>\n      <th>9</th>\n      <td>KB Poultry Processing LLC</td>\n      <td>15024 Sandstone Dr.</td>\n      <td>Utica</td>\n      <td>MN</td>\n      <td>2</td>\n    </tr>\n    <tr>\n      <th>10</th>\n      <td>Lakeside Refrigerated Services</td>\n      <td>2600 Oldmans Creek Road</td>\n      <td>Swedesboro</td>\n      <td>NJ</td>\n      <td>2</td>\n    </tr>\n    <tr>\n      <th>11</th>\n      <td>Liberty Cold Storage</td>\n      <td>1310 Remington Blvd.</td>\n      <td>Bolingbrook</td>\n      <td>IL</td>\n      <td>2</td>\n    </tr>\n    <tr>\n      <th>12</th>\n      <td>M.G. Waldbaum Company</td>\n      <td>120 Tower Street</td>\n      <td>Gaylord</td>\n      <td>MN</td>\n      <td>3</td>\n    </tr>\n    <tr>\n      <th>13</th>\n      <td>Midway International Logistics LLC</td>\n      <td>948 Bradley Street</td>\n      <td>Watertown</td>\n      <td>NY</td>\n      <td>2</td>\n    </tr>\n    <tr>\n      <th>14</th>\n      <td>Nordic Logistics and Warehousing, LLC</td>\n      <td>220 Nordic Way</td>\n      <td>Pooler</td>\n      <td>GA</td>\n      <td>2</td>\n    </tr>\n    <tr>\n      <th>15</th>\n      <td>OK Foods, Inc.</td>\n      <td>3921 Reed Lane</td>\n      <td>Fort Smith</td>\n      <td>AR</td>\n      <td>2</td>\n    </tr>\n    <tr>\n      <th>16</th>\n      <td>Pacific Produce Corporation</td>\n      <td>220 East Harmon Industrial Park Road</td>\n      <td>Tamuning</td>\n      <td>GU</td>\n      <td>2</td>\n    </tr>\n    <tr>\n      <th>17</th>\n      <td>Payless Distribution Center (PDC)</td>\n      <td>370 Mendioka Street</td>\n      <td>Dededo</td>\n      <td>GU</td>\n      <td>2</td>\n    </tr>\n    <tr>\n      <th>18</th>\n      <td>Piatkowski Riteway Meats Inc.</td>\n      <td>3555 Witmer Road</td>\n      <td>Niagara Falls</td>\n      <td>NY</td>\n      <td>2</td>\n    </tr>\n    <tr>\n      <th>19</th>\n      <td>Preferred Freezer Services</td>\n      <td>2700 Trade Street</td>\n      <td>Chesapeake</td>\n      <td>VA</td>\n      <td>2</td>\n    </tr>\n    <tr>\n      <th>20</th>\n      <td>THE AMERICAN PIG</td>\n      <td>25 MEADOW ROAD</td>\n      <td>ASHEVILLE</td>\n      <td>NC</td>\n      <td>2</td>\n    </tr>\n    <tr>\n      <th>21</th>\n      <td>The Classic Jerky Company</td>\n      <td>21655 Trolley Industrial Drive</td>\n      <td>Taylor</td>\n      <td>MI</td>\n      <td>2</td>\n    </tr>\n    <tr>\n      <th>22</th>\n      <td>United States Cold Storage Inc.</td>\n      <td>11801 NW 102 Road</td>\n      <td>Medley</td>\n      <td>FL</td>\n      <td>2</td>\n    </tr>\n  </tbody>\n</table>\n</div>"
     },
     "metadata": {},
     "execution_count": 15
    }
   ],
   "source": [
    "# Looking for duplicates\n",
    "query = \"\"\"\n",
    "SELECT company,\n",
    "    street,\n",
    "    city,\n",
    "    st,\n",
    "    COUNT(*) AS address_count\n",
    "FROM meat_poultry_egg_inspect\n",
    "GROUP BY company, street, city, st\n",
    "HAVING COUNT(*) > 1\n",
    "ORDER BY company, street, city, st;\n",
    "\"\"\"\n",
    "\n",
    "execute_query(conn, query)"
   ]
  },
  {
   "cell_type": "code",
   "execution_count": 16,
   "metadata": {},
   "outputs": [
    {
     "output_type": "execute_result",
     "data": {
      "text/plain": [
       "   st  state_count\n",
       "0  AK           17\n",
       "1  AL           94\n",
       "2  AR           87\n",
       "3  AS            1\n",
       "4  AZ           37\n",
       "5  CA          666\n",
       "6  CO          121\n",
       "7  CT           55\n",
       "8  DC            2\n",
       "9  DE           22"
      ],
      "text/html": "<div>\n<style scoped>\n    .dataframe tbody tr th:only-of-type {\n        vertical-align: middle;\n    }\n\n    .dataframe tbody tr th {\n        vertical-align: top;\n    }\n\n    .dataframe thead th {\n        text-align: right;\n    }\n</style>\n<table border=\"1\" class=\"dataframe\">\n  <thead>\n    <tr style=\"text-align: right;\">\n      <th></th>\n      <th>st</th>\n      <th>state_count</th>\n    </tr>\n  </thead>\n  <tbody>\n    <tr>\n      <th>0</th>\n      <td>AK</td>\n      <td>17</td>\n    </tr>\n    <tr>\n      <th>1</th>\n      <td>AL</td>\n      <td>94</td>\n    </tr>\n    <tr>\n      <th>2</th>\n      <td>AR</td>\n      <td>87</td>\n    </tr>\n    <tr>\n      <th>3</th>\n      <td>AS</td>\n      <td>1</td>\n    </tr>\n    <tr>\n      <th>4</th>\n      <td>AZ</td>\n      <td>37</td>\n    </tr>\n    <tr>\n      <th>5</th>\n      <td>CA</td>\n      <td>666</td>\n    </tr>\n    <tr>\n      <th>6</th>\n      <td>CO</td>\n      <td>121</td>\n    </tr>\n    <tr>\n      <th>7</th>\n      <td>CT</td>\n      <td>55</td>\n    </tr>\n    <tr>\n      <th>8</th>\n      <td>DC</td>\n      <td>2</td>\n    </tr>\n    <tr>\n      <th>9</th>\n      <td>DE</td>\n      <td>22</td>\n    </tr>\n  </tbody>\n</table>\n</div>"
     },
     "metadata": {},
     "execution_count": 16
    }
   ],
   "source": [
    "# Checking for missing values\n",
    "query = \"\"\"\n",
    "SELECT st,\n",
    "    COUNT(*) AS state_count\n",
    "FROM meat_poultry_egg_inspect\n",
    "GROUP BY st\n",
    "ORDER BY st NULLS FIRST\n",
    "LIMIT 10\n",
    "\"\"\"\n",
    "\n",
    "execute_query(conn, query)"
   ]
  },
  {
   "cell_type": "code",
   "execution_count": 17,
   "metadata": {},
   "outputs": [
    {
     "output_type": "execute_result",
     "data": {
      "text/plain": [
       "Empty DataFrame\n",
       "Columns: [est_number, company, city, st, zip]\n",
       "Index: []"
      ],
      "text/html": "<div>\n<style scoped>\n    .dataframe tbody tr th:only-of-type {\n        vertical-align: middle;\n    }\n\n    .dataframe tbody tr th {\n        vertical-align: top;\n    }\n\n    .dataframe thead th {\n        text-align: right;\n    }\n</style>\n<table border=\"1\" class=\"dataframe\">\n  <thead>\n    <tr style=\"text-align: right;\">\n      <th></th>\n      <th>est_number</th>\n      <th>company</th>\n      <th>city</th>\n      <th>st</th>\n      <th>zip</th>\n    </tr>\n  </thead>\n  <tbody>\n  </tbody>\n</table>\n</div>"
     },
     "metadata": {},
     "execution_count": 17
    }
   ],
   "source": [
    "# Looking at rows that don't have a value in a column(s)\n",
    "query = \"\"\"\n",
    "SELECT est_number,\n",
    "    company,\n",
    "    city,\n",
    "    st,\n",
    "    zip\n",
    "FROM meat_poultry_egg_inspect\n",
    "WHERE st IS NULL;\n",
    "\"\"\"\n",
    "\n",
    "execute_query(conn, query)"
   ]
  },
  {
   "cell_type": "code",
   "execution_count": 18,
   "metadata": {},
   "outputs": [
    {
     "output_type": "execute_result",
     "data": {
      "text/plain": [
       "                                     company  count\n",
       "0                 121 In-Flight Catering LLC      1\n",
       "1                     165368 C. Corporation       1\n",
       "2                             1732 Meats LLC      1\n",
       "3     1st Original Texas Chili Company, Inc.      1\n",
       "4                       290 West Bar & Grill      1\n",
       "...                                      ...    ...\n",
       "5497             Zrile Bros. Packing Co.,Inc      1\n",
       "5498                    Zummo Meat Co., Inc.      1\n",
       "5499       Zwanenberg Food Group (USA), Inc.      1\n",
       "5500                          Zweigle's Inc.      1\n",
       "5501                   ZYK Enterprises, Inc.      1\n",
       "\n",
       "[5502 rows x 2 columns]"
      ],
      "text/html": "<div>\n<style scoped>\n    .dataframe tbody tr th:only-of-type {\n        vertical-align: middle;\n    }\n\n    .dataframe tbody tr th {\n        vertical-align: top;\n    }\n\n    .dataframe thead th {\n        text-align: right;\n    }\n</style>\n<table border=\"1\" class=\"dataframe\">\n  <thead>\n    <tr style=\"text-align: right;\">\n      <th></th>\n      <th>company</th>\n      <th>count</th>\n    </tr>\n  </thead>\n  <tbody>\n    <tr>\n      <th>0</th>\n      <td>121 In-Flight Catering LLC</td>\n      <td>1</td>\n    </tr>\n    <tr>\n      <th>1</th>\n      <td>165368 C. Corporation</td>\n      <td>1</td>\n    </tr>\n    <tr>\n      <th>2</th>\n      <td>1732 Meats LLC</td>\n      <td>1</td>\n    </tr>\n    <tr>\n      <th>3</th>\n      <td>1st Original Texas Chili Company, Inc.</td>\n      <td>1</td>\n    </tr>\n    <tr>\n      <th>4</th>\n      <td>290 West Bar &amp; Grill</td>\n      <td>1</td>\n    </tr>\n    <tr>\n      <th>...</th>\n      <td>...</td>\n      <td>...</td>\n    </tr>\n    <tr>\n      <th>5497</th>\n      <td>Zrile Bros. Packing Co.,Inc</td>\n      <td>1</td>\n    </tr>\n    <tr>\n      <th>5498</th>\n      <td>Zummo Meat Co., Inc.</td>\n      <td>1</td>\n    </tr>\n    <tr>\n      <th>5499</th>\n      <td>Zwanenberg Food Group (USA), Inc.</td>\n      <td>1</td>\n    </tr>\n    <tr>\n      <th>5500</th>\n      <td>Zweigle's Inc.</td>\n      <td>1</td>\n    </tr>\n    <tr>\n      <th>5501</th>\n      <td>ZYK Enterprises, Inc.</td>\n      <td>1</td>\n    </tr>\n  </tbody>\n</table>\n<p>5502 rows × 2 columns</p>\n</div>"
     },
     "metadata": {},
     "execution_count": 18
    }
   ],
   "source": [
    "# Checking for inconsitent data values\n",
    "query = \"\"\"\n",
    "SELECT company,\n",
    "    COUNT(*)\n",
    "FROM meat_poultry_egg_inspect\n",
    "GROUP BY company\n",
    "ORDER BY company ASC;\n",
    "\"\"\"\n",
    "\n",
    "execute_query(conn, query)"
   ]
  },
  {
   "cell_type": "code",
   "execution_count": 19,
   "metadata": {},
   "outputs": [
    {
     "output_type": "execute_result",
     "data": {
      "text/plain": [
       "   length  length_count\n",
       "0       5          6201"
      ],
      "text/html": "<div>\n<style scoped>\n    .dataframe tbody tr th:only-of-type {\n        vertical-align: middle;\n    }\n\n    .dataframe tbody tr th {\n        vertical-align: top;\n    }\n\n    .dataframe thead th {\n        text-align: right;\n    }\n</style>\n<table border=\"1\" class=\"dataframe\">\n  <thead>\n    <tr style=\"text-align: right;\">\n      <th></th>\n      <th>length</th>\n      <th>length_count</th>\n    </tr>\n  </thead>\n  <tbody>\n    <tr>\n      <th>0</th>\n      <td>5</td>\n      <td>6201</td>\n    </tr>\n  </tbody>\n</table>\n</div>"
     },
     "metadata": {},
     "execution_count": 19
    }
   ],
   "source": [
    "# Checking for malformed values using length() - here we see that because the zip column was read in as a number rather than as text it lost the leading 0's\n",
    "query = \"\"\"\n",
    "SELECT LENGTH(zip),\n",
    "    COUNT(*) AS length_count\n",
    "FROM meat_poultry_egg_inspect\n",
    "GROUP BY LENGTH(zip)\n",
    "ORDER BY LENGTH(zip);\n",
    "\"\"\"\n",
    "\n",
    "execute_query(conn, query)"
   ]
  },
  {
   "cell_type": "code",
   "execution_count": 20,
   "metadata": {},
   "outputs": [
    {
     "output_type": "execute_result",
     "data": {
      "text/plain": [
       "Empty DataFrame\n",
       "Columns: [st, st_count]\n",
       "Index: []"
      ],
      "text/html": "<div>\n<style scoped>\n    .dataframe tbody tr th:only-of-type {\n        vertical-align: middle;\n    }\n\n    .dataframe tbody tr th {\n        vertical-align: top;\n    }\n\n    .dataframe thead th {\n        text-align: right;\n    }\n</style>\n<table border=\"1\" class=\"dataframe\">\n  <thead>\n    <tr style=\"text-align: right;\">\n      <th></th>\n      <th>st</th>\n      <th>st_count</th>\n    </tr>\n  </thead>\n  <tbody>\n  </tbody>\n</table>\n</div>"
     },
     "metadata": {},
     "execution_count": 20
    }
   ],
   "source": [
    "# Examining rows that lost leading 0's\n",
    "query = \"\"\"\n",
    "SELECT st,\n",
    "    COUNT(*) AS st_count\n",
    "FROM meat_poultry_egg_inspect\n",
    "WHERE LENGTH(zip) < 5\n",
    "GROUP BY st\n",
    "ORDER BY st;\n",
    "\"\"\"\n",
    "\n",
    "execute_query(conn, query)"
   ]
  },
  {
   "source": [
    "For the following part of the chapter an identical copy of the st column was created in the meat_poultry_egg_inspect table titled st_copy"
   ],
   "cell_type": "markdown",
   "metadata": {}
  },
  {
   "cell_type": "code",
   "execution_count": 21,
   "metadata": {},
   "outputs": [
    {
     "output_type": "execute_result",
     "data": {
      "text/plain": [
       "Empty DataFrame\n",
       "Columns: [est_number, company, city, st, zip]\n",
       "Index: []"
      ],
      "text/html": "<div>\n<style scoped>\n    .dataframe tbody tr th:only-of-type {\n        vertical-align: middle;\n    }\n\n    .dataframe tbody tr th {\n        vertical-align: top;\n    }\n\n    .dataframe thead th {\n        text-align: right;\n    }\n</style>\n<table border=\"1\" class=\"dataframe\">\n  <thead>\n    <tr style=\"text-align: right;\">\n      <th></th>\n      <th>est_number</th>\n      <th>company</th>\n      <th>city</th>\n      <th>st</th>\n      <th>zip</th>\n    </tr>\n  </thead>\n  <tbody>\n  </tbody>\n</table>\n</div>"
     },
     "metadata": {},
     "execution_count": 21
    }
   ],
   "source": [
    "# Modifying Tables, Columns, and Data\n",
    "# Updating the rows where the values were missing\n",
    "query = \"\"\"\n",
    "UPDATE meat_poultry_egg_inspect\n",
    "SET st = 'MN'\n",
    "WHERE est_number = 'V18677A';\n",
    "\n",
    "UPDATE meat_poultry_egg_inspect\n",
    "SET st = 'AL'\n",
    "WHERE est_number = 'M45319+P45319';\n",
    "\n",
    "UPDATE meat_poultry_egg_inspect\n",
    "SET st = 'WI'\n",
    "WHERE est_number = 'M263A+P263A+V263A';\n",
    "\n",
    "SELECT est_number,\n",
    "    company,\n",
    "    city,\n",
    "    st,\n",
    "    zip\n",
    "FROM meat_poultry_egg_inspect\n",
    "WHERE st IS NULL; \n",
    "\"\"\"\n",
    "\n",
    "# The last part of the query just inspects the table to find NULL values - after our update there should be none\n",
    "execute_query(conn, query)\n"
   ]
  },
  {
   "source": [
    "For the following part of the chapter, an identical copy of the company column was created in the meat_poultry_egg_inspect table titled company_standard"
   ],
   "cell_type": "markdown",
   "metadata": {}
  },
  {
   "cell_type": "code",
   "execution_count": 22,
   "metadata": {},
   "outputs": [
    {
     "output_type": "execute_result",
     "data": {
      "text/plain": [
       "          est_number                             company  \\\n",
       "0  M263A+P263A+V263A                    Jones Dairy Farm   \n",
       "1              V3507  Zollinger Cold Storage Corporation   \n",
       "2               V971                      Supervalu Inc.   \n",
       "3              M1544                      J & M Meat Co.   \n",
       "4             M34258           Beatrice Meat Company LLC   \n",
       "\n",
       "                     street      city  st    zip           phone  grant_date  \\\n",
       "0         801 Rockwell Ave.      None  WI  53538  (920) 563-2431  2016-06-22   \n",
       "1       699 West 1700 South     Logan  UT  84321  (801) 753-1134  1990-02-27   \n",
       "2  1400 West Gadsden Street    Quincy  FL  32351  (850) 875-2600  2011-09-16   \n",
       "3               545 9th St.   Oakland  CA  94607  (510) 839-0380  1982-05-24   \n",
       "4          2595 Grant Blvd.  Beatrice  AL  36425  (251) 575-4021  2007-08-23   \n",
       "\n",
       "                                          activities  \\\n",
       "0  Identification - Meat, Identification - Poultr...   \n",
       "1  Certification - Export, Identification - Meat,...   \n",
       "2  Certification - Export, Identification - Meat,...   \n",
       "3                                    Meat Processing   \n",
       "4                                    Meat Processing   \n",
       "\n",
       "                                                dbas st_copy  \\\n",
       "0  Greensboro Packers; Habbersett; Ralph & Paul A...    None   \n",
       "1                                               None      UT   \n",
       "2                                               None      FL   \n",
       "3                                               None      CA   \n",
       "4                                               None      AL   \n",
       "\n",
       "                     company_standard inspection_date reviewed_date  \\\n",
       "0                    Jones Dairy Farm            None    2018-02-07   \n",
       "1  Zollinger Cold Storage Corporation            None    2018-02-07   \n",
       "2                      Supervalu Inc.            None    2018-02-07   \n",
       "3                      J & M Meat Co.            None    2018-02-07   \n",
       "4           Beatrice Meat Company LLC            None    2018-02-07   \n",
       "\n",
       "  meat_processing poultry_processing  \n",
       "0            True               True  \n",
       "1            None               None  \n",
       "2            None               None  \n",
       "3            True               None  \n",
       "4            True               None  "
      ],
      "text/html": "<div>\n<style scoped>\n    .dataframe tbody tr th:only-of-type {\n        vertical-align: middle;\n    }\n\n    .dataframe tbody tr th {\n        vertical-align: top;\n    }\n\n    .dataframe thead th {\n        text-align: right;\n    }\n</style>\n<table border=\"1\" class=\"dataframe\">\n  <thead>\n    <tr style=\"text-align: right;\">\n      <th></th>\n      <th>est_number</th>\n      <th>company</th>\n      <th>street</th>\n      <th>city</th>\n      <th>st</th>\n      <th>zip</th>\n      <th>phone</th>\n      <th>grant_date</th>\n      <th>activities</th>\n      <th>dbas</th>\n      <th>st_copy</th>\n      <th>company_standard</th>\n      <th>inspection_date</th>\n      <th>reviewed_date</th>\n      <th>meat_processing</th>\n      <th>poultry_processing</th>\n    </tr>\n  </thead>\n  <tbody>\n    <tr>\n      <th>0</th>\n      <td>M263A+P263A+V263A</td>\n      <td>Jones Dairy Farm</td>\n      <td>801 Rockwell Ave.</td>\n      <td>None</td>\n      <td>WI</td>\n      <td>53538</td>\n      <td>(920) 563-2431</td>\n      <td>2016-06-22</td>\n      <td>Identification - Meat, Identification - Poultr...</td>\n      <td>Greensboro Packers; Habbersett; Ralph &amp; Paul A...</td>\n      <td>None</td>\n      <td>Jones Dairy Farm</td>\n      <td>None</td>\n      <td>2018-02-07</td>\n      <td>True</td>\n      <td>True</td>\n    </tr>\n    <tr>\n      <th>1</th>\n      <td>V3507</td>\n      <td>Zollinger Cold Storage Corporation</td>\n      <td>699 West 1700 South</td>\n      <td>Logan</td>\n      <td>UT</td>\n      <td>84321</td>\n      <td>(801) 753-1134</td>\n      <td>1990-02-27</td>\n      <td>Certification - Export, Identification - Meat,...</td>\n      <td>None</td>\n      <td>UT</td>\n      <td>Zollinger Cold Storage Corporation</td>\n      <td>None</td>\n      <td>2018-02-07</td>\n      <td>None</td>\n      <td>None</td>\n    </tr>\n    <tr>\n      <th>2</th>\n      <td>V971</td>\n      <td>Supervalu Inc.</td>\n      <td>1400 West Gadsden Street</td>\n      <td>Quincy</td>\n      <td>FL</td>\n      <td>32351</td>\n      <td>(850) 875-2600</td>\n      <td>2011-09-16</td>\n      <td>Certification - Export, Identification - Meat,...</td>\n      <td>None</td>\n      <td>FL</td>\n      <td>Supervalu Inc.</td>\n      <td>None</td>\n      <td>2018-02-07</td>\n      <td>None</td>\n      <td>None</td>\n    </tr>\n    <tr>\n      <th>3</th>\n      <td>M1544</td>\n      <td>J &amp; M Meat Co.</td>\n      <td>545 9th St.</td>\n      <td>Oakland</td>\n      <td>CA</td>\n      <td>94607</td>\n      <td>(510) 839-0380</td>\n      <td>1982-05-24</td>\n      <td>Meat Processing</td>\n      <td>None</td>\n      <td>CA</td>\n      <td>J &amp; M Meat Co.</td>\n      <td>None</td>\n      <td>2018-02-07</td>\n      <td>True</td>\n      <td>None</td>\n    </tr>\n    <tr>\n      <th>4</th>\n      <td>M34258</td>\n      <td>Beatrice Meat Company LLC</td>\n      <td>2595 Grant Blvd.</td>\n      <td>Beatrice</td>\n      <td>AL</td>\n      <td>36425</td>\n      <td>(251) 575-4021</td>\n      <td>2007-08-23</td>\n      <td>Meat Processing</td>\n      <td>None</td>\n      <td>AL</td>\n      <td>Beatrice Meat Company LLC</td>\n      <td>None</td>\n      <td>2018-02-07</td>\n      <td>True</td>\n      <td>None</td>\n    </tr>\n  </tbody>\n</table>\n</div>"
     },
     "metadata": {},
     "execution_count": 22
    }
   ],
   "source": [
    "# Updating values for consistency\n",
    "query = \"\"\"\n",
    "UPDATE meat_poultry_egg_inspect\n",
    "SET company_standard = company;\n",
    "\n",
    "SELECT * FROM meat_poultry_egg_inspect LIMIT 5;\n",
    "\"\"\"\n",
    "\n",
    "execute_query(conn, query)"
   ]
  },
  {
   "cell_type": "code",
   "execution_count": 23,
   "metadata": {},
   "outputs": [
    {
     "output_type": "execute_result",
     "data": {
      "text/plain": [
       "                       company      company_standard\n",
       "0     Armour-Eckrich Meats LLC  Armour_Eckrich Meats\n",
       "1     Armour-Eckrich Meats LLC  Armour_Eckrich Meats\n",
       "2   Armour-Eckrich Meats, Inc.  Armour_Eckrich Meats\n",
       "3    Armour-Eckrich Meats, LLC  Armour_Eckrich Meats\n",
       "4    Armour-Eckrich Meats, LLC  Armour_Eckrich Meats\n",
       "5  Armour - Eckrich Meats, LLC  Armour_Eckrich Meats\n",
       "6     Armour-Eckrich Meats LLC  Armour_Eckrich Meats"
      ],
      "text/html": "<div>\n<style scoped>\n    .dataframe tbody tr th:only-of-type {\n        vertical-align: middle;\n    }\n\n    .dataframe tbody tr th {\n        vertical-align: top;\n    }\n\n    .dataframe thead th {\n        text-align: right;\n    }\n</style>\n<table border=\"1\" class=\"dataframe\">\n  <thead>\n    <tr style=\"text-align: right;\">\n      <th></th>\n      <th>company</th>\n      <th>company_standard</th>\n    </tr>\n  </thead>\n  <tbody>\n    <tr>\n      <th>0</th>\n      <td>Armour-Eckrich Meats LLC</td>\n      <td>Armour_Eckrich Meats</td>\n    </tr>\n    <tr>\n      <th>1</th>\n      <td>Armour-Eckrich Meats LLC</td>\n      <td>Armour_Eckrich Meats</td>\n    </tr>\n    <tr>\n      <th>2</th>\n      <td>Armour-Eckrich Meats, Inc.</td>\n      <td>Armour_Eckrich Meats</td>\n    </tr>\n    <tr>\n      <th>3</th>\n      <td>Armour-Eckrich Meats, LLC</td>\n      <td>Armour_Eckrich Meats</td>\n    </tr>\n    <tr>\n      <th>4</th>\n      <td>Armour-Eckrich Meats, LLC</td>\n      <td>Armour_Eckrich Meats</td>\n    </tr>\n    <tr>\n      <th>5</th>\n      <td>Armour - Eckrich Meats, LLC</td>\n      <td>Armour_Eckrich Meats</td>\n    </tr>\n    <tr>\n      <th>6</th>\n      <td>Armour-Eckrich Meats LLC</td>\n      <td>Armour_Eckrich Meats</td>\n    </tr>\n  </tbody>\n</table>\n</div>"
     },
     "metadata": {},
     "execution_count": 23
    }
   ],
   "source": [
    "# Updating and standardizing all rows that contain the string 'Armour' to appear in company_standard as Armour_Eckrich Meats\n",
    "query = \"\"\"\n",
    "UPDATE meat_poultry_egg_inspect\n",
    "SET company_standard = 'Armour_Eckrich Meats'\n",
    "WHERE company LIKE '%Armour%';\n",
    "\n",
    "SELECT company, company_standard\n",
    "FROM meat_poultry_egg_inspect\n",
    "WHERE company LIKE '%Armour%';\n",
    "\"\"\"\n",
    "\n",
    "execute_query(conn, query)"
   ]
  },
  {
   "source": [
    "For the following part of the chapter, an identicalcopy of the zip column was created in the meat_poultry_egg_inspect table titled zip_copy"
   ],
   "cell_type": "markdown",
   "metadata": {}
  },
  {
   "cell_type": "code",
   "execution_count": 24,
   "metadata": {},
   "outputs": [
    {
     "output_type": "error",
     "ename": "NameError",
     "evalue": "name 'OperationalError' is not defined",
     "traceback": [
      "\u001b[1;31m---------------------------------------------------------------------------\u001b[0m",
      "\u001b[1;31mUndefinedColumn\u001b[0m                           Traceback (most recent call last)",
      "\u001b[1;32m<ipython-input-2-d0ffee2c9e4d>\u001b[0m in \u001b[0;36mexecute_query\u001b[1;34m(connection, query)\u001b[0m\n\u001b[0;32m     13\u001b[0m     \u001b[1;32mtry\u001b[0m\u001b[1;33m:\u001b[0m\u001b[1;33m\u001b[0m\u001b[1;33m\u001b[0m\u001b[0m\n\u001b[1;32m---> 14\u001b[1;33m         \u001b[0mcursor\u001b[0m\u001b[1;33m.\u001b[0m\u001b[0mexecute\u001b[0m\u001b[1;33m(\u001b[0m\u001b[0mquery\u001b[0m\u001b[1;33m)\u001b[0m\u001b[1;33m\u001b[0m\u001b[1;33m\u001b[0m\u001b[0m\n\u001b[0m\u001b[0;32m     15\u001b[0m         \u001b[0mresults\u001b[0m \u001b[1;33m=\u001b[0m \u001b[0mcursor\u001b[0m\u001b[1;33m.\u001b[0m\u001b[0mfetchall\u001b[0m\u001b[1;33m(\u001b[0m\u001b[1;33m)\u001b[0m\u001b[1;33m\u001b[0m\u001b[1;33m\u001b[0m\u001b[0m\n",
      "\u001b[1;31mUndefinedColumn\u001b[0m: column \"zip_copy\" of relation \"meat_poultry_egg_inspect\" does not exist\nLINE 3: SET zip_copy = zip;\n            ^\n",
      "\nDuring handling of the above exception, another exception occurred:\n",
      "\u001b[1;31mNameError\u001b[0m                                 Traceback (most recent call last)",
      "\u001b[1;32m<ipython-input-24-aeadc6fa5da9>\u001b[0m in \u001b[0;36m<module>\u001b[1;34m\u001b[0m\n\u001b[0;32m      6\u001b[0m \"\"\"\n\u001b[0;32m      7\u001b[0m \u001b[1;33m\u001b[0m\u001b[0m\n\u001b[1;32m----> 8\u001b[1;33m \u001b[0mexecute_query\u001b[0m\u001b[1;33m(\u001b[0m\u001b[0mconn\u001b[0m\u001b[1;33m,\u001b[0m \u001b[0mquery\u001b[0m\u001b[1;33m)\u001b[0m\u001b[1;33m\u001b[0m\u001b[1;33m\u001b[0m\u001b[0m\n\u001b[0m",
      "\u001b[1;32m<ipython-input-2-d0ffee2c9e4d>\u001b[0m in \u001b[0;36mexecute_query\u001b[1;34m(connection, query)\u001b[0m\n\u001b[0;32m     23\u001b[0m         \u001b[1;31m# Closing the connection\u001b[0m\u001b[1;33m\u001b[0m\u001b[1;33m\u001b[0m\u001b[1;33m\u001b[0m\u001b[0m\n\u001b[0;32m     24\u001b[0m         \u001b[0mconnection\u001b[0m\u001b[1;33m.\u001b[0m\u001b[0mclose\u001b[0m\u001b[1;33m(\u001b[0m\u001b[1;33m)\u001b[0m\u001b[1;33m\u001b[0m\u001b[1;33m\u001b[0m\u001b[0m\n\u001b[1;32m---> 25\u001b[1;33m     \u001b[1;32mexcept\u001b[0m \u001b[0mOperationalError\u001b[0m \u001b[1;32mas\u001b[0m \u001b[0me\u001b[0m\u001b[1;33m:\u001b[0m\u001b[1;33m\u001b[0m\u001b[1;33m\u001b[0m\u001b[0m\n\u001b[0m\u001b[0;32m     26\u001b[0m         \u001b[0mprint\u001b[0m\u001b[1;33m(\u001b[0m\u001b[1;34mf\"The error '{e}' occurred.\"\u001b[0m\u001b[1;33m)\u001b[0m\u001b[1;33m\u001b[0m\u001b[1;33m\u001b[0m\u001b[0m\n",
      "\u001b[1;31mNameError\u001b[0m: name 'OperationalError' is not defined"
     ]
    }
   ],
   "source": [
    "query = \"\"\"\n",
    "UPDATE meat_poultry_egg_inspect\n",
    "SET zip_copy = zip;\n",
    "\n",
    "SELECT * FROM meat_poultry_egg_inspect LIMIT 5;\n",
    "\"\"\"\n",
    "\n",
    "execute_query(conn, query)"
   ]
  },
  {
   "cell_type": "code",
   "execution_count": 25,
   "metadata": {},
   "outputs": [
    {
     "output_type": "execute_result",
     "data": {
      "text/plain": [
       "             est_number                         company  \\\n",
       "0           M6714+P6714              A. Concepcion Hnos   \n",
       "1  M17820+P17820+V17820                    Sunset Foods   \n",
       "2                 M9330                     Younis Inc.   \n",
       "3         M45020+P45020                 Yuris Food, LTD   \n",
       "4         M10249+P10249  Zalack's Flint Provision, Inc.   \n",
       "\n",
       "                          street             city  st    zip           phone  \\\n",
       "0              105 Aguila Street         Mayaguez  PR  00680  (809) 832-4145   \n",
       "1  Sunset Foods 1640 Fuller Road  West Des Moines  IA  50265  (515) 222-4477   \n",
       "2             1124 Howell Street          Seattle  WA  98101  (206) 624-9248   \n",
       "3  6933 Flintlock Road, Bldg. #4          Houston  TX  77040  (713) 547-4601   \n",
       "4           2801 Lippincott Blvd            Flint  MI  48507  (810) 742-4100   \n",
       "\n",
       "   grant_date                                         activities  \\\n",
       "0  1993-02-09                Meat Processing, Poultry Processing   \n",
       "1  2007-05-23  Meat Processing, Poultry Processing, Voluntary...   \n",
       "2  2016-08-04                                    Meat Processing   \n",
       "3  2014-08-21                Meat Processing, Poultry Processing   \n",
       "4  2004-04-26                Meat Processing, Poultry Processing   \n",
       "\n",
       "                                              dbas st_copy  \\\n",
       "0                                             None      PR   \n",
       "1                                             None      IA   \n",
       "2                                     Market House      WA   \n",
       "3                                             None      TX   \n",
       "4  Flint Provision, Inc.; Zalack's Provision, Inc.      MI   \n",
       "\n",
       "                 company_standard zip_copy  \n",
       "0              A. Concepcion Hnos    00680  \n",
       "1                    Sunset Foods    50265  \n",
       "2                     Younis Inc.    98101  \n",
       "3                 Yuris Food, LTD    77040  \n",
       "4  Zalack's Flint Provision, Inc.    48507  "
      ],
      "text/html": "<div>\n<style scoped>\n    .dataframe tbody tr th:only-of-type {\n        vertical-align: middle;\n    }\n\n    .dataframe tbody tr th {\n        vertical-align: top;\n    }\n\n    .dataframe thead th {\n        text-align: right;\n    }\n</style>\n<table border=\"1\" class=\"dataframe\">\n  <thead>\n    <tr style=\"text-align: right;\">\n      <th></th>\n      <th>est_number</th>\n      <th>company</th>\n      <th>street</th>\n      <th>city</th>\n      <th>st</th>\n      <th>zip</th>\n      <th>phone</th>\n      <th>grant_date</th>\n      <th>activities</th>\n      <th>dbas</th>\n      <th>st_copy</th>\n      <th>company_standard</th>\n      <th>zip_copy</th>\n    </tr>\n  </thead>\n  <tbody>\n    <tr>\n      <th>0</th>\n      <td>M6714+P6714</td>\n      <td>A. Concepcion Hnos</td>\n      <td>105 Aguila Street</td>\n      <td>Mayaguez</td>\n      <td>PR</td>\n      <td>00680</td>\n      <td>(809) 832-4145</td>\n      <td>1993-02-09</td>\n      <td>Meat Processing, Poultry Processing</td>\n      <td>None</td>\n      <td>PR</td>\n      <td>A. Concepcion Hnos</td>\n      <td>00680</td>\n    </tr>\n    <tr>\n      <th>1</th>\n      <td>M17820+P17820+V17820</td>\n      <td>Sunset Foods</td>\n      <td>Sunset Foods 1640 Fuller Road</td>\n      <td>West Des Moines</td>\n      <td>IA</td>\n      <td>50265</td>\n      <td>(515) 222-4477</td>\n      <td>2007-05-23</td>\n      <td>Meat Processing, Poultry Processing, Voluntary...</td>\n      <td>None</td>\n      <td>IA</td>\n      <td>Sunset Foods</td>\n      <td>50265</td>\n    </tr>\n    <tr>\n      <th>2</th>\n      <td>M9330</td>\n      <td>Younis Inc.</td>\n      <td>1124 Howell Street</td>\n      <td>Seattle</td>\n      <td>WA</td>\n      <td>98101</td>\n      <td>(206) 624-9248</td>\n      <td>2016-08-04</td>\n      <td>Meat Processing</td>\n      <td>Market House</td>\n      <td>WA</td>\n      <td>Younis Inc.</td>\n      <td>98101</td>\n    </tr>\n    <tr>\n      <th>3</th>\n      <td>M45020+P45020</td>\n      <td>Yuris Food, LTD</td>\n      <td>6933 Flintlock Road, Bldg. #4</td>\n      <td>Houston</td>\n      <td>TX</td>\n      <td>77040</td>\n      <td>(713) 547-4601</td>\n      <td>2014-08-21</td>\n      <td>Meat Processing, Poultry Processing</td>\n      <td>None</td>\n      <td>TX</td>\n      <td>Yuris Food, LTD</td>\n      <td>77040</td>\n    </tr>\n    <tr>\n      <th>4</th>\n      <td>M10249+P10249</td>\n      <td>Zalack's Flint Provision, Inc.</td>\n      <td>2801 Lippincott Blvd</td>\n      <td>Flint</td>\n      <td>MI</td>\n      <td>48507</td>\n      <td>(810) 742-4100</td>\n      <td>2004-04-26</td>\n      <td>Meat Processing, Poultry Processing</td>\n      <td>Flint Provision, Inc.; Zalack's Provision, Inc.</td>\n      <td>MI</td>\n      <td>Zalack's Flint Provision, Inc.</td>\n      <td>48507</td>\n    </tr>\n  </tbody>\n</table>\n</div>"
     },
     "metadata": {},
     "execution_count": 25
    }
   ],
   "source": [
    "# Removing ZIP codes using concatenation\n",
    "query = \"\"\"\n",
    "UPDATE meat_poultry_egg_inspect\n",
    "SET zip = '00' || zip\n",
    "WHERE st IN('PR', 'VI') AND LENGTH(zip) = 3;\n",
    "\n",
    "SELECT * FROM meat_poultry_egg_inspect LIMIT 5;\n",
    "\"\"\"\n",
    "\n",
    "execute_query(conn, query)"
   ]
  },
  {
   "cell_type": "code",
   "execution_count": 26,
   "metadata": {},
   "outputs": [
    {
     "output_type": "execute_result",
     "data": {
      "text/plain": [
       "             est_number                         company  \\\n",
       "0           M6714+P6714              A. Concepcion Hnos   \n",
       "1  M17820+P17820+V17820                    Sunset Foods   \n",
       "2                 M9330                     Younis Inc.   \n",
       "3         M45020+P45020                 Yuris Food, LTD   \n",
       "4         M10249+P10249  Zalack's Flint Provision, Inc.   \n",
       "\n",
       "                          street             city  st    zip           phone  \\\n",
       "0              105 Aguila Street         Mayaguez  PR  00680  (809) 832-4145   \n",
       "1  Sunset Foods 1640 Fuller Road  West Des Moines  IA  50265  (515) 222-4477   \n",
       "2             1124 Howell Street          Seattle  WA  98101  (206) 624-9248   \n",
       "3  6933 Flintlock Road, Bldg. #4          Houston  TX  77040  (713) 547-4601   \n",
       "4           2801 Lippincott Blvd            Flint  MI  48507  (810) 742-4100   \n",
       "\n",
       "   grant_date                                         activities  \\\n",
       "0  1993-02-09                Meat Processing, Poultry Processing   \n",
       "1  2007-05-23  Meat Processing, Poultry Processing, Voluntary...   \n",
       "2  2016-08-04                                    Meat Processing   \n",
       "3  2014-08-21                Meat Processing, Poultry Processing   \n",
       "4  2004-04-26                Meat Processing, Poultry Processing   \n",
       "\n",
       "                                              dbas st_copy  \\\n",
       "0                                             None      PR   \n",
       "1                                             None      IA   \n",
       "2                                     Market House      WA   \n",
       "3                                             None      TX   \n",
       "4  Flint Provision, Inc.; Zalack's Provision, Inc.      MI   \n",
       "\n",
       "                 company_standard zip_copy  \n",
       "0              A. Concepcion Hnos    00680  \n",
       "1                    Sunset Foods    50265  \n",
       "2                     Younis Inc.    98101  \n",
       "3                 Yuris Food, LTD    77040  \n",
       "4  Zalack's Flint Provision, Inc.    48507  "
      ],
      "text/html": "<div>\n<style scoped>\n    .dataframe tbody tr th:only-of-type {\n        vertical-align: middle;\n    }\n\n    .dataframe tbody tr th {\n        vertical-align: top;\n    }\n\n    .dataframe thead th {\n        text-align: right;\n    }\n</style>\n<table border=\"1\" class=\"dataframe\">\n  <thead>\n    <tr style=\"text-align: right;\">\n      <th></th>\n      <th>est_number</th>\n      <th>company</th>\n      <th>street</th>\n      <th>city</th>\n      <th>st</th>\n      <th>zip</th>\n      <th>phone</th>\n      <th>grant_date</th>\n      <th>activities</th>\n      <th>dbas</th>\n      <th>st_copy</th>\n      <th>company_standard</th>\n      <th>zip_copy</th>\n    </tr>\n  </thead>\n  <tbody>\n    <tr>\n      <th>0</th>\n      <td>M6714+P6714</td>\n      <td>A. Concepcion Hnos</td>\n      <td>105 Aguila Street</td>\n      <td>Mayaguez</td>\n      <td>PR</td>\n      <td>00680</td>\n      <td>(809) 832-4145</td>\n      <td>1993-02-09</td>\n      <td>Meat Processing, Poultry Processing</td>\n      <td>None</td>\n      <td>PR</td>\n      <td>A. Concepcion Hnos</td>\n      <td>00680</td>\n    </tr>\n    <tr>\n      <th>1</th>\n      <td>M17820+P17820+V17820</td>\n      <td>Sunset Foods</td>\n      <td>Sunset Foods 1640 Fuller Road</td>\n      <td>West Des Moines</td>\n      <td>IA</td>\n      <td>50265</td>\n      <td>(515) 222-4477</td>\n      <td>2007-05-23</td>\n      <td>Meat Processing, Poultry Processing, Voluntary...</td>\n      <td>None</td>\n      <td>IA</td>\n      <td>Sunset Foods</td>\n      <td>50265</td>\n    </tr>\n    <tr>\n      <th>2</th>\n      <td>M9330</td>\n      <td>Younis Inc.</td>\n      <td>1124 Howell Street</td>\n      <td>Seattle</td>\n      <td>WA</td>\n      <td>98101</td>\n      <td>(206) 624-9248</td>\n      <td>2016-08-04</td>\n      <td>Meat Processing</td>\n      <td>Market House</td>\n      <td>WA</td>\n      <td>Younis Inc.</td>\n      <td>98101</td>\n    </tr>\n    <tr>\n      <th>3</th>\n      <td>M45020+P45020</td>\n      <td>Yuris Food, LTD</td>\n      <td>6933 Flintlock Road, Bldg. #4</td>\n      <td>Houston</td>\n      <td>TX</td>\n      <td>77040</td>\n      <td>(713) 547-4601</td>\n      <td>2014-08-21</td>\n      <td>Meat Processing, Poultry Processing</td>\n      <td>None</td>\n      <td>TX</td>\n      <td>Yuris Food, LTD</td>\n      <td>77040</td>\n    </tr>\n    <tr>\n      <th>4</th>\n      <td>M10249+P10249</td>\n      <td>Zalack's Flint Provision, Inc.</td>\n      <td>2801 Lippincott Blvd</td>\n      <td>Flint</td>\n      <td>MI</td>\n      <td>48507</td>\n      <td>(810) 742-4100</td>\n      <td>2004-04-26</td>\n      <td>Meat Processing, Poultry Processing</td>\n      <td>Flint Provision, Inc.; Zalack's Provision, Inc.</td>\n      <td>MI</td>\n      <td>Zalack's Flint Provision, Inc.</td>\n      <td>48507</td>\n    </tr>\n  </tbody>\n</table>\n</div>"
     },
     "metadata": {},
     "execution_count": 26
    }
   ],
   "source": [
    "# Updating the remaining rows lacking leading zero's\n",
    "query = \"\"\"\n",
    "UPDATE meat_poultry_egg_inspect\n",
    "SET zip = '0' || zip\n",
    "WHERE st IN('CT', 'MA', 'ME', 'NH', 'NJ', 'RI', 'VT') AND LENGTH(zip) = 4;\n",
    "\n",
    "SELECT * FROM meat_poultry_egg_inspect LIMIT 5;\n",
    "\"\"\"\n",
    "\n",
    "execute_query(conn, query)"
   ]
  },
  {
   "cell_type": "code",
   "execution_count": 27,
   "metadata": {},
   "outputs": [
    {
     "output_type": "execute_result",
     "data": {
      "text/plain": [
       "   length  count\n",
       "0       5   6287"
      ],
      "text/html": "<div>\n<style scoped>\n    .dataframe tbody tr th:only-of-type {\n        vertical-align: middle;\n    }\n\n    .dataframe tbody tr th {\n        vertical-align: top;\n    }\n\n    .dataframe thead th {\n        text-align: right;\n    }\n</style>\n<table border=\"1\" class=\"dataframe\">\n  <thead>\n    <tr style=\"text-align: right;\">\n      <th></th>\n      <th>length</th>\n      <th>count</th>\n    </tr>\n  </thead>\n  <tbody>\n    <tr>\n      <th>0</th>\n      <td>5</td>\n      <td>6287</td>\n    </tr>\n  </tbody>\n</table>\n</div>"
     },
     "metadata": {},
     "execution_count": 27
    }
   ],
   "source": [
    "# Making sure that we fixed all zip codes\n",
    "query = \"\"\"\n",
    "SELECT LENGTH(zip),\n",
    "    COUNT(zip)\n",
    "FROM meat_poultry_egg_inspect\n",
    "GROUP BY LENGTH(zip);\n",
    "\"\"\"\n",
    "\n",
    "execute_query(conn, query)"
   ]
  },
  {
   "source": [
    "For the following part of the chapter, a table was created in order to se tan inspection date for each company by U.S. regions"
   ],
   "cell_type": "markdown",
   "metadata": {}
  },
  {
   "cell_type": "code",
   "execution_count": 38,
   "metadata": {},
   "outputs": [
    {
     "output_type": "execute_result",
     "data": {
      "text/plain": [
       "   st inspection_date\n",
       "0  AK            None\n",
       "1  AL            None\n",
       "2  AR            None\n",
       "3  AS            None\n",
       "4  AZ            None\n",
       "5  CA            None\n",
       "6  CO            None\n",
       "7  CT      2019-12-01\n",
       "8  DC            None\n",
       "9  DE            None"
      ],
      "text/html": "<div>\n<style scoped>\n    .dataframe tbody tr th:only-of-type {\n        vertical-align: middle;\n    }\n\n    .dataframe tbody tr th {\n        vertical-align: top;\n    }\n\n    .dataframe thead th {\n        text-align: right;\n    }\n</style>\n<table border=\"1\" class=\"dataframe\">\n  <thead>\n    <tr style=\"text-align: right;\">\n      <th></th>\n      <th>st</th>\n      <th>inspection_date</th>\n    </tr>\n  </thead>\n  <tbody>\n    <tr>\n      <th>0</th>\n      <td>AK</td>\n      <td>None</td>\n    </tr>\n    <tr>\n      <th>1</th>\n      <td>AL</td>\n      <td>None</td>\n    </tr>\n    <tr>\n      <th>2</th>\n      <td>AR</td>\n      <td>None</td>\n    </tr>\n    <tr>\n      <th>3</th>\n      <td>AS</td>\n      <td>None</td>\n    </tr>\n    <tr>\n      <th>4</th>\n      <td>AZ</td>\n      <td>None</td>\n    </tr>\n    <tr>\n      <th>5</th>\n      <td>CA</td>\n      <td>None</td>\n    </tr>\n    <tr>\n      <th>6</th>\n      <td>CO</td>\n      <td>None</td>\n    </tr>\n    <tr>\n      <th>7</th>\n      <td>CT</td>\n      <td>2019-12-01</td>\n    </tr>\n    <tr>\n      <th>8</th>\n      <td>DC</td>\n      <td>None</td>\n    </tr>\n    <tr>\n      <th>9</th>\n      <td>DE</td>\n      <td>None</td>\n    </tr>\n  </tbody>\n</table>\n</div>"
     },
     "metadata": {},
     "execution_count": 38
    }
   ],
   "source": [
    "query = \"\"\"\n",
    "UPDATE meat_poultry_egg_inspect AS inspect\n",
    "SET inspection_date = '2019-12-01'\n",
    "WHERE EXISTS (SELECT state_regions.region\n",
    "        FROM state_regions\n",
    "        WHERE inspect.st = state_regions.st\n",
    "            AND state_regions.region = 'New England');\n",
    "\n",
    "SELECT st, inspection_date\n",
    "FROM meat_poultry_egg_inspect\n",
    "GROUP BY st, inspection_date\n",
    "ORDER BY st\n",
    "LIMIT 10;\n",
    "\"\"\"\n",
    "\n",
    "execute_query(conn, query)"
   ]
  },
  {
   "source": [
    "Deleting Data"
   ],
   "cell_type": "markdown",
   "metadata": {}
  },
  {
   "cell_type": "code",
   "execution_count": 40,
   "metadata": {},
   "outputs": [
    {
     "output_type": "execute_result",
     "data": {
      "text/plain": [
       "Empty DataFrame\n",
       "Columns: [st]\n",
       "Index: []"
      ],
      "text/html": "<div>\n<style scoped>\n    .dataframe tbody tr th:only-of-type {\n        vertical-align: middle;\n    }\n\n    .dataframe tbody tr th {\n        vertical-align: top;\n    }\n\n    .dataframe thead th {\n        text-align: right;\n    }\n</style>\n<table border=\"1\" class=\"dataframe\">\n  <thead>\n    <tr style=\"text-align: right;\">\n      <th></th>\n      <th>st</th>\n    </tr>\n  </thead>\n  <tbody>\n  </tbody>\n</table>\n</div>"
     },
     "metadata": {},
     "execution_count": 40
    }
   ],
   "source": [
    "# Using DELETE FROM and WHERE to delete all companies in U.S. territories\n",
    "query = \"\"\"\n",
    "DELETE FROM meat_poultry_egg_inspect\n",
    "WHERE st IN('PR', 'VI');\n",
    "\n",
    "SELECT st\n",
    "FROM meat_poultry_egg_inspect\n",
    "WHERE st IN ('PR', 'VI');\n",
    "\"\"\"\n",
    "\n",
    "execute_query(conn, query)"
   ]
  },
  {
   "cell_type": "code",
   "execution_count": 41,
   "metadata": {},
   "outputs": [
    {
     "output_type": "execute_result",
     "data": {
      "text/plain": [
       "                est_number                          company  \\\n",
       "0     M17820+P17820+V17820                     Sunset Foods   \n",
       "1                    M9330                      Younis Inc.   \n",
       "2            M45743+P45743        5th Generation Adams Farm   \n",
       "3            M45020+P45020                  Yuris Food, LTD   \n",
       "4            M10249+P10249   Zalack's Flint Provision, Inc.   \n",
       "...                    ...                              ...   \n",
       "6196           M6863+P6863        Armour-Eckrich Meats, LLC   \n",
       "6197             M276+P276       Advance Pierre Foods, Inc.   \n",
       "6198         M40161+P40161  Afya Brands International, Inc.   \n",
       "6199                M45230        Against The Grain Gourmet   \n",
       "6200         M45093+P45093          AleCon Enterprises Inc.   \n",
       "\n",
       "                                      street             city  st    zip  \\\n",
       "0              Sunset Foods 1640 Fuller Road  West Des Moines  IA  50265   \n",
       "1                         1124 Howell Street          Seattle  WA  98101   \n",
       "2                       15 Higley Adams Road       Wilmington  VT  05363   \n",
       "3              6933 Flintlock Road, Bldg. #4          Houston  TX  77040   \n",
       "4                       2801 Lippincott Blvd            Flint  MI  48507   \n",
       "...                                      ...              ...  ..    ...   \n",
       "6196  3311 South, Hwy 19 State Road 19 South             Peru  IN  46970   \n",
       "6197                    70 Saint John Street         Portland  ME  04102   \n",
       "6198                   2781 US Route 5 North          Windsor  VT  05089   \n",
       "6199               22 Browne Court Unit #119      Brattleboro  VT  05301   \n",
       "6200              31 Pulpit Rock Road Unit B           Pelham  NH  03076   \n",
       "\n",
       "               phone  grant_date  \\\n",
       "0     (515) 222-4477  2007-05-23   \n",
       "1     (206) 624-9248  2016-08-04   \n",
       "2     (802) 464-3762  2016-03-03   \n",
       "3     (713) 547-4601  2014-08-21   \n",
       "4     (810) 742-4100  2004-04-26   \n",
       "...              ...         ...   \n",
       "6196  (765) 473-3086  2015-11-03   \n",
       "6197  (207) 541-2800  2015-06-10   \n",
       "6198  (603) 676-8591  2016-01-28   \n",
       "6199  (802) 258-3838  2014-10-15   \n",
       "6200  (603) 635-0819  2016-05-12   \n",
       "\n",
       "                                             activities  \\\n",
       "0     Meat Processing, Poultry Processing, Voluntary...   \n",
       "1                                       Meat Processing   \n",
       "2     Meat Processing, Meat Slaughter, Poultry Proce...   \n",
       "3                   Meat Processing, Poultry Processing   \n",
       "4                   Meat Processing, Poultry Processing   \n",
       "...                                                 ...   \n",
       "6196                Meat Processing, Poultry Processing   \n",
       "6197                Meat Processing, Poultry Processing   \n",
       "6198                Meat Processing, Poultry Processing   \n",
       "6199                                    Meat Processing   \n",
       "6200                Meat Processing, Poultry Processing   \n",
       "\n",
       "                                                   dbas st_copy  \\\n",
       "0                                                  None      IA   \n",
       "1                                          Market House      WA   \n",
       "2                                            Adams Farm      VT   \n",
       "3                                                  None      TX   \n",
       "4       Flint Provision, Inc.; Zalack's Provision, Inc.      MI   \n",
       "...                                                 ...     ...   \n",
       "6196  Agar Foods; Ark Valley; Armour Food Company; A...      IN   \n",
       "6197  Advance Brands LLC; Barber Foods; Chef's Pantr...      ME   \n",
       "6198                             Global Village Cuisine      VT   \n",
       "6199                                               None      VT   \n",
       "6200                                               None      NH   \n",
       "\n",
       "                     company_standard inspection_date  \n",
       "0                        Sunset Foods            None  \n",
       "1                         Younis Inc.            None  \n",
       "2           5th Generation Adams Farm      2019-12-01  \n",
       "3                     Yuris Food, LTD            None  \n",
       "4      Zalack's Flint Provision, Inc.            None  \n",
       "...                               ...             ...  \n",
       "6196             Armour_Eckrich Meats            None  \n",
       "6197       Advance Pierre Foods, Inc.      2019-12-01  \n",
       "6198  Afya Brands International, Inc.      2019-12-01  \n",
       "6199        Against The Grain Gourmet      2019-12-01  \n",
       "6200          AleCon Enterprises Inc.      2019-12-01  \n",
       "\n",
       "[6201 rows x 13 columns]"
      ],
      "text/html": "<div>\n<style scoped>\n    .dataframe tbody tr th:only-of-type {\n        vertical-align: middle;\n    }\n\n    .dataframe tbody tr th {\n        vertical-align: top;\n    }\n\n    .dataframe thead th {\n        text-align: right;\n    }\n</style>\n<table border=\"1\" class=\"dataframe\">\n  <thead>\n    <tr style=\"text-align: right;\">\n      <th></th>\n      <th>est_number</th>\n      <th>company</th>\n      <th>street</th>\n      <th>city</th>\n      <th>st</th>\n      <th>zip</th>\n      <th>phone</th>\n      <th>grant_date</th>\n      <th>activities</th>\n      <th>dbas</th>\n      <th>st_copy</th>\n      <th>company_standard</th>\n      <th>inspection_date</th>\n    </tr>\n  </thead>\n  <tbody>\n    <tr>\n      <th>0</th>\n      <td>M17820+P17820+V17820</td>\n      <td>Sunset Foods</td>\n      <td>Sunset Foods 1640 Fuller Road</td>\n      <td>West Des Moines</td>\n      <td>IA</td>\n      <td>50265</td>\n      <td>(515) 222-4477</td>\n      <td>2007-05-23</td>\n      <td>Meat Processing, Poultry Processing, Voluntary...</td>\n      <td>None</td>\n      <td>IA</td>\n      <td>Sunset Foods</td>\n      <td>None</td>\n    </tr>\n    <tr>\n      <th>1</th>\n      <td>M9330</td>\n      <td>Younis Inc.</td>\n      <td>1124 Howell Street</td>\n      <td>Seattle</td>\n      <td>WA</td>\n      <td>98101</td>\n      <td>(206) 624-9248</td>\n      <td>2016-08-04</td>\n      <td>Meat Processing</td>\n      <td>Market House</td>\n      <td>WA</td>\n      <td>Younis Inc.</td>\n      <td>None</td>\n    </tr>\n    <tr>\n      <th>2</th>\n      <td>M45743+P45743</td>\n      <td>5th Generation Adams Farm</td>\n      <td>15 Higley Adams Road</td>\n      <td>Wilmington</td>\n      <td>VT</td>\n      <td>05363</td>\n      <td>(802) 464-3762</td>\n      <td>2016-03-03</td>\n      <td>Meat Processing, Meat Slaughter, Poultry Proce...</td>\n      <td>Adams Farm</td>\n      <td>VT</td>\n      <td>5th Generation Adams Farm</td>\n      <td>2019-12-01</td>\n    </tr>\n    <tr>\n      <th>3</th>\n      <td>M45020+P45020</td>\n      <td>Yuris Food, LTD</td>\n      <td>6933 Flintlock Road, Bldg. #4</td>\n      <td>Houston</td>\n      <td>TX</td>\n      <td>77040</td>\n      <td>(713) 547-4601</td>\n      <td>2014-08-21</td>\n      <td>Meat Processing, Poultry Processing</td>\n      <td>None</td>\n      <td>TX</td>\n      <td>Yuris Food, LTD</td>\n      <td>None</td>\n    </tr>\n    <tr>\n      <th>4</th>\n      <td>M10249+P10249</td>\n      <td>Zalack's Flint Provision, Inc.</td>\n      <td>2801 Lippincott Blvd</td>\n      <td>Flint</td>\n      <td>MI</td>\n      <td>48507</td>\n      <td>(810) 742-4100</td>\n      <td>2004-04-26</td>\n      <td>Meat Processing, Poultry Processing</td>\n      <td>Flint Provision, Inc.; Zalack's Provision, Inc.</td>\n      <td>MI</td>\n      <td>Zalack's Flint Provision, Inc.</td>\n      <td>None</td>\n    </tr>\n    <tr>\n      <th>...</th>\n      <td>...</td>\n      <td>...</td>\n      <td>...</td>\n      <td>...</td>\n      <td>...</td>\n      <td>...</td>\n      <td>...</td>\n      <td>...</td>\n      <td>...</td>\n      <td>...</td>\n      <td>...</td>\n      <td>...</td>\n      <td>...</td>\n    </tr>\n    <tr>\n      <th>6196</th>\n      <td>M6863+P6863</td>\n      <td>Armour-Eckrich Meats, LLC</td>\n      <td>3311 South, Hwy 19 State Road 19 South</td>\n      <td>Peru</td>\n      <td>IN</td>\n      <td>46970</td>\n      <td>(765) 473-3086</td>\n      <td>2015-11-03</td>\n      <td>Meat Processing, Poultry Processing</td>\n      <td>Agar Foods; Ark Valley; Armour Food Company; A...</td>\n      <td>IN</td>\n      <td>Armour_Eckrich Meats</td>\n      <td>None</td>\n    </tr>\n    <tr>\n      <th>6197</th>\n      <td>M276+P276</td>\n      <td>Advance Pierre Foods, Inc.</td>\n      <td>70 Saint John Street</td>\n      <td>Portland</td>\n      <td>ME</td>\n      <td>04102</td>\n      <td>(207) 541-2800</td>\n      <td>2015-06-10</td>\n      <td>Meat Processing, Poultry Processing</td>\n      <td>Advance Brands LLC; Barber Foods; Chef's Pantr...</td>\n      <td>ME</td>\n      <td>Advance Pierre Foods, Inc.</td>\n      <td>2019-12-01</td>\n    </tr>\n    <tr>\n      <th>6198</th>\n      <td>M40161+P40161</td>\n      <td>Afya Brands International, Inc.</td>\n      <td>2781 US Route 5 North</td>\n      <td>Windsor</td>\n      <td>VT</td>\n      <td>05089</td>\n      <td>(603) 676-8591</td>\n      <td>2016-01-28</td>\n      <td>Meat Processing, Poultry Processing</td>\n      <td>Global Village Cuisine</td>\n      <td>VT</td>\n      <td>Afya Brands International, Inc.</td>\n      <td>2019-12-01</td>\n    </tr>\n    <tr>\n      <th>6199</th>\n      <td>M45230</td>\n      <td>Against The Grain Gourmet</td>\n      <td>22 Browne Court Unit #119</td>\n      <td>Brattleboro</td>\n      <td>VT</td>\n      <td>05301</td>\n      <td>(802) 258-3838</td>\n      <td>2014-10-15</td>\n      <td>Meat Processing</td>\n      <td>None</td>\n      <td>VT</td>\n      <td>Against The Grain Gourmet</td>\n      <td>2019-12-01</td>\n    </tr>\n    <tr>\n      <th>6200</th>\n      <td>M45093+P45093</td>\n      <td>AleCon Enterprises Inc.</td>\n      <td>31 Pulpit Rock Road Unit B</td>\n      <td>Pelham</td>\n      <td>NH</td>\n      <td>03076</td>\n      <td>(603) 635-0819</td>\n      <td>2016-05-12</td>\n      <td>Meat Processing, Poultry Processing</td>\n      <td>None</td>\n      <td>NH</td>\n      <td>AleCon Enterprises Inc.</td>\n      <td>2019-12-01</td>\n    </tr>\n  </tbody>\n</table>\n<p>6201 rows × 13 columns</p>\n</div>"
     },
     "metadata": {},
     "execution_count": 41
    }
   ],
   "source": [
    "# Deleting a column from a table - here we drop the zip_copy column from the meat_poultry_egg_inspect table\n",
    "query = \"\"\"\n",
    "ALTER TABLE meat_poultry_egg_inspect\n",
    "DROP COLUMN zip_copy;\n",
    "\n",
    "SELECT * FROM meat_poultry_egg_inspect;\n",
    "\"\"\"\n",
    "\n",
    "execute_query(conn, query)"
   ]
  },
  {
   "source": [
    "Using Transaction Blocks to save or revert changes\n",
    "\n",
    "The following queries would be executed to show how we can make changes to a table without fully committing them - thus giving us the opportunity to revert back to a point prior to our alteration of data\n",
    "\n",
    "        START TRANSACTION;\n",
    "\n",
    "        UPDATE meat_poultry_egg_inspect\n",
    "        SET company = 'AGRO Merchants Oakland LLC'\n",
    "        WHERE company = 'AGRO Merchants Oakland, LLC';\n",
    "\n",
    "        SELECT company\n",
    "        FROM meat_poultry_egg_inspect\n",
    "        WHERE company LIKE 'AGRO%'\n",
    "        ORDER BY company\n",
    "        LIMIT 5;\n",
    "\n",
    "        ROLLBACK;\n"
   ],
   "cell_type": "markdown",
   "metadata": {}
  },
  {
   "source": [
    "For the following part of this chapter, a new table called meat_poultry_egg_inspect_backup was created to demonstrate how to improve performance when updating tables. Please refer to the book documentation for more details."
   ],
   "cell_type": "markdown",
   "metadata": {}
  },
  {
   "source": [
    "In the following query we create a new meat_poultry_egg_inspect table with a new column to avoid taking up additional space that would come with just adding a column\n",
    "\n",
    "\n",
    "    CREATE TABLE meat_poultry_egg_inspect_backup AS\n",
    "    SELECT *,\n",
    "        '2018-02-07'::date AS reviewed_date\n",
    "    FROM meat_poultry_egg_inspect;\n",
    "\n",
    "\n",
    "After the table is created, we can then use the following query to swap this newly created table's name with the original:\n",
    "\n",
    "    ALTER TABLE meat_poultry_egg_inspect RENAME TO meat_poultry_egg_inspect_temp;\n",
    "    ALTER TABLE meat_poultry_egg_inspect_backup RENAME TO meat_poultry_egg_inspect;\n",
    "    ALTER TABLE meat_poultry_egg_inspect_temp RENAME TO meat_poultry_egg_backup;"
   ],
   "cell_type": "markdown",
   "metadata": {}
  },
  {
   "cell_type": "code",
   "execution_count": 31,
   "metadata": {},
   "outputs": [
    {
     "output_type": "execute_result",
     "data": {
      "text/plain": [
       "      est_number                               company  \\\n",
       "0  M45461+P45461              Zeera India Catering Co.   \n",
       "1          M9776           Zeiler-Caruth Quality Meats   \n",
       "2    M6308+P6308  Zenner's Quality Meat Products, Inc.   \n",
       "3          V3507    Zollinger Cold Storage Corporation   \n",
       "4  M21797+P21797      Zook's Homemade Chicken Pies LLC   \n",
       "\n",
       "                   street       city  st    zip           phone  grant_date  \\\n",
       "0   1116 S. Rainbow Blvd.  Las Vegas  NV  89146  (702) 538-2945  2016-02-11   \n",
       "1     139 Callapoose Road     Moscow  PA  18444  (570) 689-2350  2010-10-06   \n",
       "2  2131 NW Kearney Street   Portland  OR  97210  (503) 241-4113  2015-05-27   \n",
       "3     699 West 1700 South      Logan  UT  84321  (801) 753-1134  1990-02-27   \n",
       "4      3194 Harvest Drive      Ronks  PA  17572  (717) 768-0239  2010-09-13   \n",
       "\n",
       "                                          activities  \\\n",
       "0                                 Poultry Processing   \n",
       "1                    Meat Processing, Meat Slaughter   \n",
       "2                Meat Processing, Poultry Processing   \n",
       "3  Certification - Export, Identification - Meat,...   \n",
       "4                Meat Processing, Poultry Processing   \n",
       "\n",
       "                       dbas st_copy                      company_standard  \\\n",
       "0                   Z India      NV              Zeera India Catering Co.   \n",
       "1                      None      PA           Zeiler-Caruth Quality Meats   \n",
       "2  Zenner's Sausage Company      OR  Zenner's Quality Meat Products, Inc.   \n",
       "3                      None      UT    Zollinger Cold Storage Corporation   \n",
       "4                      None      PA      Zook's Homemade Chicken Pies LLC   \n",
       "\n",
       "  inspection_date reviewed_date  \n",
       "0            None    2018-02-07  \n",
       "1            None    2018-02-07  \n",
       "2            None    2018-02-07  \n",
       "3            None    2018-02-07  \n",
       "4            None    2018-02-07  "
      ],
      "text/html": "<div>\n<style scoped>\n    .dataframe tbody tr th:only-of-type {\n        vertical-align: middle;\n    }\n\n    .dataframe tbody tr th {\n        vertical-align: top;\n    }\n\n    .dataframe thead th {\n        text-align: right;\n    }\n</style>\n<table border=\"1\" class=\"dataframe\">\n  <thead>\n    <tr style=\"text-align: right;\">\n      <th></th>\n      <th>est_number</th>\n      <th>company</th>\n      <th>street</th>\n      <th>city</th>\n      <th>st</th>\n      <th>zip</th>\n      <th>phone</th>\n      <th>grant_date</th>\n      <th>activities</th>\n      <th>dbas</th>\n      <th>st_copy</th>\n      <th>company_standard</th>\n      <th>inspection_date</th>\n      <th>reviewed_date</th>\n    </tr>\n  </thead>\n  <tbody>\n    <tr>\n      <th>0</th>\n      <td>M45461+P45461</td>\n      <td>Zeera India Catering Co.</td>\n      <td>1116 S. Rainbow Blvd.</td>\n      <td>Las Vegas</td>\n      <td>NV</td>\n      <td>89146</td>\n      <td>(702) 538-2945</td>\n      <td>2016-02-11</td>\n      <td>Poultry Processing</td>\n      <td>Z India</td>\n      <td>NV</td>\n      <td>Zeera India Catering Co.</td>\n      <td>None</td>\n      <td>2018-02-07</td>\n    </tr>\n    <tr>\n      <th>1</th>\n      <td>M9776</td>\n      <td>Zeiler-Caruth Quality Meats</td>\n      <td>139 Callapoose Road</td>\n      <td>Moscow</td>\n      <td>PA</td>\n      <td>18444</td>\n      <td>(570) 689-2350</td>\n      <td>2010-10-06</td>\n      <td>Meat Processing, Meat Slaughter</td>\n      <td>None</td>\n      <td>PA</td>\n      <td>Zeiler-Caruth Quality Meats</td>\n      <td>None</td>\n      <td>2018-02-07</td>\n    </tr>\n    <tr>\n      <th>2</th>\n      <td>M6308+P6308</td>\n      <td>Zenner's Quality Meat Products, Inc.</td>\n      <td>2131 NW Kearney Street</td>\n      <td>Portland</td>\n      <td>OR</td>\n      <td>97210</td>\n      <td>(503) 241-4113</td>\n      <td>2015-05-27</td>\n      <td>Meat Processing, Poultry Processing</td>\n      <td>Zenner's Sausage Company</td>\n      <td>OR</td>\n      <td>Zenner's Quality Meat Products, Inc.</td>\n      <td>None</td>\n      <td>2018-02-07</td>\n    </tr>\n    <tr>\n      <th>3</th>\n      <td>V3507</td>\n      <td>Zollinger Cold Storage Corporation</td>\n      <td>699 West 1700 South</td>\n      <td>Logan</td>\n      <td>UT</td>\n      <td>84321</td>\n      <td>(801) 753-1134</td>\n      <td>1990-02-27</td>\n      <td>Certification - Export, Identification - Meat,...</td>\n      <td>None</td>\n      <td>UT</td>\n      <td>Zollinger Cold Storage Corporation</td>\n      <td>None</td>\n      <td>2018-02-07</td>\n    </tr>\n    <tr>\n      <th>4</th>\n      <td>M21797+P21797</td>\n      <td>Zook's Homemade Chicken Pies LLC</td>\n      <td>3194 Harvest Drive</td>\n      <td>Ronks</td>\n      <td>PA</td>\n      <td>17572</td>\n      <td>(717) 768-0239</td>\n      <td>2010-09-13</td>\n      <td>Meat Processing, Poultry Processing</td>\n      <td>None</td>\n      <td>PA</td>\n      <td>Zook's Homemade Chicken Pies LLC</td>\n      <td>None</td>\n      <td>2018-02-07</td>\n    </tr>\n  </tbody>\n</table>\n</div>"
     },
     "metadata": {},
     "execution_count": 31
    }
   ],
   "source": [
    "# Ensuring that our tables have switched names - by doing this process we avoid updating rows and having the db inflate the size of the table. Eventually the \"backup\" table will be dropped and the remaning data table will be smaller\n",
    "query = \"\"\"\n",
    "SELECT * FROM meat_poultry_egg_inspect LIMIT 5;\n",
    "\"\"\"\n",
    "\n",
    "execute_query(conn, query)"
   ]
  },
  {
   "source": [
    "## Chapter 10: Statistical Functions in SQL\n",
    "\n",
    "For this chapter, a data table was created from the 2011-2015 American Community Survey. Please see the book documentation for more information."
   ],
   "cell_type": "markdown",
   "metadata": {}
  },
  {
   "cell_type": "code",
   "execution_count": 25,
   "metadata": {},
   "outputs": [
    {
     "output_type": "execute_result",
     "data": {
      "text/plain": [
       "               geoid             county       st pct_travel_60_min  \\\n",
       "0     0500000US01001     Autauga County  Alabama             5.630   \n",
       "1     0500000US01003     Baldwin County  Alabama             7.966   \n",
       "2     0500000US01005     Barbour County  Alabama             7.672   \n",
       "3     0500000US01007        Bibb County  Alabama             9.198   \n",
       "4     0500000US01009      Blount County  Alabama            16.741   \n",
       "...              ...                ...      ...               ...   \n",
       "3137  0500000US56037  Sweetwater County  Wyoming             6.741   \n",
       "3138  0500000US56039       Teton County  Wyoming             1.720   \n",
       "3139  0500000US56041       Uinta County  Wyoming             8.460   \n",
       "3140  0500000US56043    Washakie County  Wyoming             2.763   \n",
       "3141  0500000US56045      Weston County  Wyoming            26.639   \n",
       "\n",
       "     pct_bachelors_higher pct_masters_higher  median_hh_income  \n",
       "0                  23.230              9.747           51281.0  \n",
       "1                  28.985              9.724           50254.0  \n",
       "2                  12.516              5.009           32964.0  \n",
       "3                  10.647              4.594           38678.0  \n",
       "4                  12.891              4.273           45813.0  \n",
       "...                   ...                ...               ...  \n",
       "3137               19.599              5.810           69022.0  \n",
       "3138               53.932             16.115           75325.0  \n",
       "3139               19.306              5.373           56569.0  \n",
       "3140               21.131              6.121           47652.0  \n",
       "3141               18.114              5.251           57738.0  \n",
       "\n",
       "[3142 rows x 7 columns]"
      ],
      "text/html": "<div>\n<style scoped>\n    .dataframe tbody tr th:only-of-type {\n        vertical-align: middle;\n    }\n\n    .dataframe tbody tr th {\n        vertical-align: top;\n    }\n\n    .dataframe thead th {\n        text-align: right;\n    }\n</style>\n<table border=\"1\" class=\"dataframe\">\n  <thead>\n    <tr style=\"text-align: right;\">\n      <th></th>\n      <th>geoid</th>\n      <th>county</th>\n      <th>st</th>\n      <th>pct_travel_60_min</th>\n      <th>pct_bachelors_higher</th>\n      <th>pct_masters_higher</th>\n      <th>median_hh_income</th>\n    </tr>\n  </thead>\n  <tbody>\n    <tr>\n      <th>0</th>\n      <td>0500000US01001</td>\n      <td>Autauga County</td>\n      <td>Alabama</td>\n      <td>5.630</td>\n      <td>23.230</td>\n      <td>9.747</td>\n      <td>51281.0</td>\n    </tr>\n    <tr>\n      <th>1</th>\n      <td>0500000US01003</td>\n      <td>Baldwin County</td>\n      <td>Alabama</td>\n      <td>7.966</td>\n      <td>28.985</td>\n      <td>9.724</td>\n      <td>50254.0</td>\n    </tr>\n    <tr>\n      <th>2</th>\n      <td>0500000US01005</td>\n      <td>Barbour County</td>\n      <td>Alabama</td>\n      <td>7.672</td>\n      <td>12.516</td>\n      <td>5.009</td>\n      <td>32964.0</td>\n    </tr>\n    <tr>\n      <th>3</th>\n      <td>0500000US01007</td>\n      <td>Bibb County</td>\n      <td>Alabama</td>\n      <td>9.198</td>\n      <td>10.647</td>\n      <td>4.594</td>\n      <td>38678.0</td>\n    </tr>\n    <tr>\n      <th>4</th>\n      <td>0500000US01009</td>\n      <td>Blount County</td>\n      <td>Alabama</td>\n      <td>16.741</td>\n      <td>12.891</td>\n      <td>4.273</td>\n      <td>45813.0</td>\n    </tr>\n    <tr>\n      <th>...</th>\n      <td>...</td>\n      <td>...</td>\n      <td>...</td>\n      <td>...</td>\n      <td>...</td>\n      <td>...</td>\n      <td>...</td>\n    </tr>\n    <tr>\n      <th>3137</th>\n      <td>0500000US56037</td>\n      <td>Sweetwater County</td>\n      <td>Wyoming</td>\n      <td>6.741</td>\n      <td>19.599</td>\n      <td>5.810</td>\n      <td>69022.0</td>\n    </tr>\n    <tr>\n      <th>3138</th>\n      <td>0500000US56039</td>\n      <td>Teton County</td>\n      <td>Wyoming</td>\n      <td>1.720</td>\n      <td>53.932</td>\n      <td>16.115</td>\n      <td>75325.0</td>\n    </tr>\n    <tr>\n      <th>3139</th>\n      <td>0500000US56041</td>\n      <td>Uinta County</td>\n      <td>Wyoming</td>\n      <td>8.460</td>\n      <td>19.306</td>\n      <td>5.373</td>\n      <td>56569.0</td>\n    </tr>\n    <tr>\n      <th>3140</th>\n      <td>0500000US56043</td>\n      <td>Washakie County</td>\n      <td>Wyoming</td>\n      <td>2.763</td>\n      <td>21.131</td>\n      <td>6.121</td>\n      <td>47652.0</td>\n    </tr>\n    <tr>\n      <th>3141</th>\n      <td>0500000US56045</td>\n      <td>Weston County</td>\n      <td>Wyoming</td>\n      <td>26.639</td>\n      <td>18.114</td>\n      <td>5.251</td>\n      <td>57738.0</td>\n    </tr>\n  </tbody>\n</table>\n<p>3142 rows × 7 columns</p>\n</div>"
     },
     "metadata": {},
     "execution_count": 25
    }
   ],
   "source": [
    "# Examining our newly created ACS 5 year estimate table\n",
    "query = \"SELECT * FROM acs_2011_2015_stats;\"\n",
    "\n",
    "execute_query(conn, query)"
   ]
  },
  {
   "cell_type": "code",
   "execution_count": 26,
   "metadata": {},
   "outputs": [
    {
     "output_type": "execute_result",
     "data": {
      "text/plain": [
       "   bachelors_incomre_r\n",
       "0             0.682186"
      ],
      "text/html": "<div>\n<style scoped>\n    .dataframe tbody tr th:only-of-type {\n        vertical-align: middle;\n    }\n\n    .dataframe tbody tr th {\n        vertical-align: top;\n    }\n\n    .dataframe thead th {\n        text-align: right;\n    }\n</style>\n<table border=\"1\" class=\"dataframe\">\n  <thead>\n    <tr style=\"text-align: right;\">\n      <th></th>\n      <th>bachelors_incomre_r</th>\n    </tr>\n  </thead>\n  <tbody>\n    <tr>\n      <th>0</th>\n      <td>0.682186</td>\n    </tr>\n  </tbody>\n</table>\n</div>"
     },
     "metadata": {},
     "execution_count": 26
    }
   ],
   "source": [
    "# Measuring Correlations with CORR(Y, X) - Here we examine the correlation between the median_hh_income and pct_bachelors_higher columns\n",
    "query = \"\"\"\n",
    "SELECT CORR(median_hh_income, pct_bachelors_higher) AS bachelors_incomre_r\n",
    "FROM acs_2011_2015_stats;\n",
    "\"\"\"\n",
    "\n",
    "execute_query(conn, query)"
   ]
  },
  {
   "cell_type": "code",
   "execution_count": 27,
   "metadata": {},
   "outputs": [
    {
     "output_type": "execute_result",
     "data": {
      "text/plain": [
       "  bachelors_income_r income_travel_r bachelors_travel_r\n",
       "0               0.68            0.05              -0.14"
      ],
      "text/html": "<div>\n<style scoped>\n    .dataframe tbody tr th:only-of-type {\n        vertical-align: middle;\n    }\n\n    .dataframe tbody tr th {\n        vertical-align: top;\n    }\n\n    .dataframe thead th {\n        text-align: right;\n    }\n</style>\n<table border=\"1\" class=\"dataframe\">\n  <thead>\n    <tr style=\"text-align: right;\">\n      <th></th>\n      <th>bachelors_income_r</th>\n      <th>income_travel_r</th>\n      <th>bachelors_travel_r</th>\n    </tr>\n  </thead>\n  <tbody>\n    <tr>\n      <th>0</th>\n      <td>0.68</td>\n      <td>0.05</td>\n      <td>-0.14</td>\n    </tr>\n  </tbody>\n</table>\n</div>"
     },
     "metadata": {},
     "execution_count": 27
    }
   ],
   "source": [
    "# Checking addditional correlation coefficients\n",
    "query = \"\"\"\n",
    "SELECT \n",
    "    ROUND(\n",
    "        CORR(median_hh_income, pct_bachelors_higher)::numeric, 2\n",
    "    ) AS bachelors_income_r,\n",
    "    ROUND(\n",
    "        CORR(pct_travel_60_min, median_hh_income)::numeric, 2\n",
    "    ) AS income_travel_r,\n",
    "    ROUND(\n",
    "        CORR(pct_travel_60_min, pct_bachelors_higher)::numeric, 2\n",
    "    ) AS bachelors_travel_r\n",
    "FROM acs_2011_2015_stats;\n",
    "\"\"\"\n",
    "\n",
    "execute_query(conn, query)"
   ]
  },
  {
   "cell_type": "code",
   "execution_count": 28,
   "metadata": {},
   "outputs": [
    {
     "output_type": "execute_result",
     "data": {
      "text/plain": [
       "    slope y_intercept\n",
       "0  926.95    27901.15"
      ],
      "text/html": "<div>\n<style scoped>\n    .dataframe tbody tr th:only-of-type {\n        vertical-align: middle;\n    }\n\n    .dataframe tbody tr th {\n        vertical-align: top;\n    }\n\n    .dataframe thead th {\n        text-align: right;\n    }\n</style>\n<table border=\"1\" class=\"dataframe\">\n  <thead>\n    <tr style=\"text-align: right;\">\n      <th></th>\n      <th>slope</th>\n      <th>y_intercept</th>\n    </tr>\n  </thead>\n  <tbody>\n    <tr>\n      <th>0</th>\n      <td>926.95</td>\n      <td>27901.15</td>\n    </tr>\n  </tbody>\n</table>\n</div>"
     },
     "metadata": {},
     "execution_count": 28
    }
   ],
   "source": [
    "# Predicting Values with Regression Analysis - here we try to predict what the expected median household income in a county would be if the percntage of people with a bachelor's degree or higher in that county was 30 percent. The first step is to try and find what our slope and intercepts will be using the REGR_SLOPE(Y, X) AND REGR_INTERCEPT(Y, X) functions\n",
    "query = \"\"\"\n",
    "SELECT \n",
    "    ROUND(\n",
    "        REGR_SLOPE(median_hh_income, pct_bachelors_higher)::numeric, 2\n",
    "    ) AS slope,\n",
    "    ROUND(\n",
    "        REGR_INTERCEPT(median_hh_income, pct_bachelors_higher)::numeric, 2\n",
    "    ) AS y_intercept\n",
    "FROM acs_2011_2015_stats;\n",
    "\"\"\"\n",
    "\n",
    "execute_query(conn, query)"
   ]
  },
  {
   "cell_type": "code",
   "execution_count": 30,
   "metadata": {},
   "outputs": [
    {
     "output_type": "stream",
     "name": "stdout",
     "text": [
      "55709.65\n"
     ]
    }
   ],
   "source": [
    "# Using this info we can calculate what the median household income would be using our slope-intercept formula\n",
    "y = (926.95*30)+27901.15\n",
    "print(y)"
   ]
  },
  {
   "cell_type": "code",
   "execution_count": null,
   "metadata": {},
   "outputs": [],
   "source": []
  }
 ]
}