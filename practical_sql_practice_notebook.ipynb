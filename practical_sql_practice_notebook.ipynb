{
 "metadata": {
  "language_info": {
   "codemirror_mode": {
    "name": "ipython",
    "version": 3
   },
   "file_extension": ".py",
   "mimetype": "text/x-python",
   "name": "python",
   "nbconvert_exporter": "python",
   "pygments_lexer": "ipython3",
   "version": "3.9.1-final"
  },
  "orig_nbformat": 2,
  "kernelspec": {
   "name": "python3",
   "display_name": "Python 3.9.1 64-bit",
   "metadata": {
    "interpreter": {
     "hash": "b5843a13e7131a14c3c0e364f0390d6592a995e3082c3f83420ac4385eeb2370"
    }
   }
  }
 },
 "nbformat": 4,
 "nbformat_minor": 2,
 "cells": [
  {
   "source": [
    "# Practical SQL: Chapter Practice Notebook\n",
    "\n",
    "This Jupyter notebook will display all SQL queries and practices covered in each chapter of the book \"Practical SQL: A Beginner's Guide To Storytelling With Data\" by Anthony DeBarros.\n",
    "\n",
    "The first part of this notebook will require us to import a couple of dependencies as well as personal data that will allow us to link out Jupyter Notebook to PostgreSQL."
   ],
   "cell_type": "markdown",
   "metadata": {}
  },
  {
   "cell_type": "code",
   "execution_count": 1,
   "metadata": {},
   "outputs": [],
   "source": [
    "import psycopg2\n",
    "import pandas as pd\n",
    "import matplotlib.pyplot as plt\n",
    "from sql_data import db, usr, pwd"
   ]
  },
  {
   "cell_type": "code",
   "execution_count": 2,
   "metadata": {},
   "outputs": [],
   "source": [
    "# Connecting to postgreSQL database\n",
    "conn = psycopg2.connect(\n",
    "    host = \"localhost\",\n",
    "    database = db,\n",
    "    user = usr,\n",
    "    password = pwd,\n",
    "    port = 5432\n",
    ")\n",
    "\n",
    "def execute_query(connection, query):\n",
    "    connection.autocommit = True\n",
    "    cursor = connection.cursor()\n",
    "    try:\n",
    "        cursor.execute(query)\n",
    "        results = cursor.fetchall()\n",
    "        column_names = [i[0] for i in cursor.description]\n",
    "        results = pd.DataFrame(results, columns= column_names)\n",
    "        return results\n",
    "        return print(\"Query executed succesfully!\")\n",
    "        # Closing the cursor\n",
    "        cursor.close()\n",
    "        del cursor\n",
    "        # Closing the connection\n",
    "        connection.close()\n",
    "    except OperationalError as e:\n",
    "        print(f\"The error '{e}' occurred.\")"
   ]
  },
  {
   "source": [
    "## Chapter 8: Extracting Information By Grouping and Summarizing\n",
    "\n",
    "This chapter requires us to build two tables based on the 2009 and 2014 Public Library Surveys conducted by the Institute of Museum and Library Services (IMLS). Please refer to the books resources as detailed in the readme page to gain access to the csv files needed to fill in the two library tables used henceforth."
   ],
   "cell_type": "markdown",
   "metadata": {}
  },
  {
   "cell_type": "code",
   "execution_count": 3,
   "metadata": {},
   "outputs": [
    {
     "output_type": "execute_result",
     "data": {
      "text/plain": [
       "   count\n",
       "0   9305"
      ],
      "text/html": "<div>\n<style scoped>\n    .dataframe tbody tr th:only-of-type {\n        vertical-align: middle;\n    }\n\n    .dataframe tbody tr th {\n        vertical-align: top;\n    }\n\n    .dataframe thead th {\n        text-align: right;\n    }\n</style>\n<table border=\"1\" class=\"dataframe\">\n  <thead>\n    <tr style=\"text-align: right;\">\n      <th></th>\n      <th>count</th>\n    </tr>\n  </thead>\n  <tbody>\n    <tr>\n      <th>0</th>\n      <td>9305</td>\n    </tr>\n  </tbody>\n</table>\n</div>"
     },
     "metadata": {},
     "execution_count": 3
    }
   ],
   "source": [
    "# Exploring the Library Data Using Aggregate Functions\n",
    "# Counting Rows and Values using Count()\n",
    "\n",
    "query = \"\"\"\n",
    "SELECT COUNT(*)\n",
    "FROM pls_fy2014_pupld14a;\n",
    "\"\"\"\n",
    "\n",
    "execute_query(conn, query)"
   ]
  },
  {
   "cell_type": "code",
   "execution_count": 4,
   "metadata": {},
   "outputs": [
    {
     "output_type": "execute_result",
     "data": {
      "text/plain": [
       "   count\n",
       "0   9299"
      ],
      "text/html": "<div>\n<style scoped>\n    .dataframe tbody tr th:only-of-type {\n        vertical-align: middle;\n    }\n\n    .dataframe tbody tr th {\n        vertical-align: top;\n    }\n\n    .dataframe thead th {\n        text-align: right;\n    }\n</style>\n<table border=\"1\" class=\"dataframe\">\n  <thead>\n    <tr style=\"text-align: right;\">\n      <th></th>\n      <th>count</th>\n    </tr>\n  </thead>\n  <tbody>\n    <tr>\n      <th>0</th>\n      <td>9299</td>\n    </tr>\n  </tbody>\n</table>\n</div>"
     },
     "metadata": {},
     "execution_count": 4
    }
   ],
   "source": [
    "query = \"\"\"\n",
    "SELECT COUNT(*)\n",
    "FROM pls_fy2009_pupld09a;\n",
    "\"\"\"\n",
    "\n",
    "execute_query(conn, query)"
   ]
  },
  {
   "cell_type": "code",
   "execution_count": 5,
   "metadata": {},
   "outputs": [
    {
     "output_type": "execute_result",
     "data": {
      "text/plain": [
       "   count\n",
       "0   5983"
      ],
      "text/html": "<div>\n<style scoped>\n    .dataframe tbody tr th:only-of-type {\n        vertical-align: middle;\n    }\n\n    .dataframe tbody tr th {\n        vertical-align: top;\n    }\n\n    .dataframe thead th {\n        text-align: right;\n    }\n</style>\n<table border=\"1\" class=\"dataframe\">\n  <thead>\n    <tr style=\"text-align: right;\">\n      <th></th>\n      <th>count</th>\n    </tr>\n  </thead>\n  <tbody>\n    <tr>\n      <th>0</th>\n      <td>5983</td>\n    </tr>\n  </tbody>\n</table>\n</div>"
     },
     "metadata": {},
     "execution_count": 5
    }
   ],
   "source": [
    "# Examining the count of rows in columns where the NOT NULL constraint was not applied\n",
    "query = \"\"\"\n",
    "SELECT COUNT(salaries)\n",
    "FROM pls_fy2014_pupld14a;\n",
    "\"\"\"\n",
    "execute_query(conn,query)"
   ]
  },
  {
   "cell_type": "code",
   "execution_count": 6,
   "metadata": {},
   "outputs": [
    {
     "output_type": "execute_result",
     "data": {
      "text/plain": [
       "   count\n",
       "0   9305"
      ],
      "text/html": "<div>\n<style scoped>\n    .dataframe tbody tr th:only-of-type {\n        vertical-align: middle;\n    }\n\n    .dataframe tbody tr th {\n        vertical-align: top;\n    }\n\n    .dataframe thead th {\n        text-align: right;\n    }\n</style>\n<table border=\"1\" class=\"dataframe\">\n  <thead>\n    <tr style=\"text-align: right;\">\n      <th></th>\n      <th>count</th>\n    </tr>\n  </thead>\n  <tbody>\n    <tr>\n      <th>0</th>\n      <td>9305</td>\n    </tr>\n  </tbody>\n</table>\n</div>"
     },
     "metadata": {},
     "execution_count": 6
    }
   ],
   "source": [
    "# Using the DISTINCT function to see how many unique values are contained within a column\n",
    "# This query returns the count of all rows\n",
    "query = \"\"\"\n",
    "SELECT COUNT(libname)\n",
    "FROM pls_fy2014_pupld14a;\n",
    "\"\"\"\n",
    "execute_query(conn,query)"
   ]
  },
  {
   "cell_type": "code",
   "execution_count": 7,
   "metadata": {},
   "outputs": [
    {
     "output_type": "execute_result",
     "data": {
      "text/plain": [
       "   count\n",
       "0   8515"
      ],
      "text/html": "<div>\n<style scoped>\n    .dataframe tbody tr th:only-of-type {\n        vertical-align: middle;\n    }\n\n    .dataframe tbody tr th {\n        vertical-align: top;\n    }\n\n    .dataframe thead th {\n        text-align: right;\n    }\n</style>\n<table border=\"1\" class=\"dataframe\">\n  <thead>\n    <tr style=\"text-align: right;\">\n      <th></th>\n      <th>count</th>\n    </tr>\n  </thead>\n  <tbody>\n    <tr>\n      <th>0</th>\n      <td>8515</td>\n    </tr>\n  </tbody>\n</table>\n</div>"
     },
     "metadata": {},
     "execution_count": 7
    }
   ],
   "source": [
    "# This query return the unique values of the same column. The number should be smaller as there are some duplicated values.\n",
    "query = \"\"\"\n",
    "SELECT COUNT(DISTINCT(libname))\n",
    "FROM pls_fy2014_pupld14a;\n",
    "\"\"\"\n",
    "execute_query(conn,query)"
   ]
  },
  {
   "cell_type": "code",
   "execution_count": 8,
   "metadata": {},
   "outputs": [
    {
     "output_type": "execute_result",
     "data": {
      "text/plain": [
       "        max  min\n",
       "0  17729020   -3"
      ],
      "text/html": "<div>\n<style scoped>\n    .dataframe tbody tr th:only-of-type {\n        vertical-align: middle;\n    }\n\n    .dataframe tbody tr th {\n        vertical-align: top;\n    }\n\n    .dataframe thead th {\n        text-align: right;\n    }\n</style>\n<table border=\"1\" class=\"dataframe\">\n  <thead>\n    <tr style=\"text-align: right;\">\n      <th></th>\n      <th>max</th>\n      <th>min</th>\n    </tr>\n  </thead>\n  <tbody>\n    <tr>\n      <th>0</th>\n      <td>17729020</td>\n      <td>-3</td>\n    </tr>\n  </tbody>\n</table>\n</div>"
     },
     "metadata": {},
     "execution_count": 8
    }
   ],
   "source": [
    "# Finding Maximum and Minimum Values Using MAX() and MIN()\n",
    "query = \"\"\"\n",
    "SELECT MAX(visits), MIN(visits)\n",
    "FROM pls_fy2014_pupld14a;\n",
    "\"\"\"\n",
    "execute_query(conn, query)"
   ]
  },
  {
   "cell_type": "code",
   "execution_count": 9,
   "metadata": {},
   "outputs": [
    {
     "output_type": "execute_result",
     "data": {
      "text/plain": [
       "  stabr  count\n",
       "0    NY    756\n",
       "1    IL    625\n",
       "2    TX    556\n",
       "3    IA    543\n",
       "4    PA    455"
      ],
      "text/html": "<div>\n<style scoped>\n    .dataframe tbody tr th:only-of-type {\n        vertical-align: middle;\n    }\n\n    .dataframe tbody tr th {\n        vertical-align: top;\n    }\n\n    .dataframe thead th {\n        text-align: right;\n    }\n</style>\n<table border=\"1\" class=\"dataframe\">\n  <thead>\n    <tr style=\"text-align: right;\">\n      <th></th>\n      <th>stabr</th>\n      <th>count</th>\n    </tr>\n  </thead>\n  <tbody>\n    <tr>\n      <th>0</th>\n      <td>NY</td>\n      <td>756</td>\n    </tr>\n    <tr>\n      <th>1</th>\n      <td>IL</td>\n      <td>625</td>\n    </tr>\n    <tr>\n      <th>2</th>\n      <td>TX</td>\n      <td>556</td>\n    </tr>\n    <tr>\n      <th>3</th>\n      <td>IA</td>\n      <td>543</td>\n    </tr>\n    <tr>\n      <th>4</th>\n      <td>PA</td>\n      <td>455</td>\n    </tr>\n  </tbody>\n</table>\n</div>"
     },
     "metadata": {},
     "execution_count": 9
    }
   ],
   "source": [
    "# Aggregating Data Using GROUP BY\n",
    "\n",
    "# Combining GROUP BY clause with COUNT()\n",
    "query = \"\"\"\n",
    "SELECT stabr, COUNT(*)\n",
    "FROM pls_fy2014_pupld14a\n",
    "GROUP BY stabr\n",
    "ORDER BY COUNT(*) DESC\n",
    "LIMIT 5;\n",
    "\"\"\"\n",
    "execute_query(conn, query)"
   ]
  },
  {
   "cell_type": "code",
   "execution_count": 10,
   "metadata": {},
   "outputs": [
    {
     "output_type": "execute_result",
     "data": {
      "text/plain": [
       "    stabr stataddr  count\n",
       "0      AK       00     70\n",
       "1      AK       15     10\n",
       "2      AK       07      5\n",
       "3      AL       00    221\n",
       "4      AL       07      3\n",
       "..    ...      ...    ...\n",
       "101    WI       07      6\n",
       "102    WI       15      3\n",
       "103    WV       00     93\n",
       "104    WV       15      4\n",
       "105    WY       00     23\n",
       "\n",
       "[106 rows x 3 columns]"
      ],
      "text/html": "<div>\n<style scoped>\n    .dataframe tbody tr th:only-of-type {\n        vertical-align: middle;\n    }\n\n    .dataframe tbody tr th {\n        vertical-align: top;\n    }\n\n    .dataframe thead th {\n        text-align: right;\n    }\n</style>\n<table border=\"1\" class=\"dataframe\">\n  <thead>\n    <tr style=\"text-align: right;\">\n      <th></th>\n      <th>stabr</th>\n      <th>stataddr</th>\n      <th>count</th>\n    </tr>\n  </thead>\n  <tbody>\n    <tr>\n      <th>0</th>\n      <td>AK</td>\n      <td>00</td>\n      <td>70</td>\n    </tr>\n    <tr>\n      <th>1</th>\n      <td>AK</td>\n      <td>15</td>\n      <td>10</td>\n    </tr>\n    <tr>\n      <th>2</th>\n      <td>AK</td>\n      <td>07</td>\n      <td>5</td>\n    </tr>\n    <tr>\n      <th>3</th>\n      <td>AL</td>\n      <td>00</td>\n      <td>221</td>\n    </tr>\n    <tr>\n      <th>4</th>\n      <td>AL</td>\n      <td>07</td>\n      <td>3</td>\n    </tr>\n    <tr>\n      <th>...</th>\n      <td>...</td>\n      <td>...</td>\n      <td>...</td>\n    </tr>\n    <tr>\n      <th>101</th>\n      <td>WI</td>\n      <td>07</td>\n      <td>6</td>\n    </tr>\n    <tr>\n      <th>102</th>\n      <td>WI</td>\n      <td>15</td>\n      <td>3</td>\n    </tr>\n    <tr>\n      <th>103</th>\n      <td>WV</td>\n      <td>00</td>\n      <td>93</td>\n    </tr>\n    <tr>\n      <th>104</th>\n      <td>WV</td>\n      <td>15</td>\n      <td>4</td>\n    </tr>\n    <tr>\n      <th>105</th>\n      <td>WY</td>\n      <td>00</td>\n      <td>23</td>\n    </tr>\n  </tbody>\n</table>\n<p>106 rows × 3 columns</p>\n</div>"
     },
     "metadata": {},
     "execution_count": 10
    }
   ],
   "source": [
    "# Aggregating data from multiple columns using GROUP BY\n",
    "query = \"\"\"\n",
    "SELECT stabr, stataddr, COUNT(*)\n",
    "FROM pls_fy2014_pupld14a\n",
    "GROUP BY stabr, stataddr\n",
    "ORDER BY stabr ASC, COUNT(*) DESC;\n",
    "\"\"\"\n",
    "\n",
    "execute_query(conn, query)"
   ]
  },
  {
   "cell_type": "code",
   "execution_count": 11,
   "metadata": {},
   "outputs": [
    {
     "output_type": "execute_result",
     "data": {
      "text/plain": [
       "   visits_2014  visits_2009\n",
       "0   1417299241   1585455205"
      ],
      "text/html": "<div>\n<style scoped>\n    .dataframe tbody tr th:only-of-type {\n        vertical-align: middle;\n    }\n\n    .dataframe tbody tr th {\n        vertical-align: top;\n    }\n\n    .dataframe thead th {\n        text-align: right;\n    }\n</style>\n<table border=\"1\" class=\"dataframe\">\n  <thead>\n    <tr style=\"text-align: right;\">\n      <th></th>\n      <th>visits_2014</th>\n      <th>visits_2009</th>\n    </tr>\n  </thead>\n  <tbody>\n    <tr>\n      <th>0</th>\n      <td>1417299241</td>\n      <td>1585455205</td>\n    </tr>\n  </tbody>\n</table>\n</div>"
     },
     "metadata": {},
     "execution_count": 11
    }
   ],
   "source": [
    "# Aggregating data from multiple joined tables\n",
    "\n",
    "# No aggregation but here we are trying to determine trends in library visists using the 2014 and 2009 tables \n",
    "query = \"\"\"\n",
    "SELECT SUM(pls14.visits) AS visits_2014,\n",
    "    SUM(pls09.visits) AS visits_2009\n",
    "FROM pls_fy2014_pupld14a AS pls14\n",
    "JOIN pls_fy2009_pupld09a AS pls09\n",
    "    ON pls14.fscskey = pls09.fscskey\n",
    "WHERE pls14.visits >=0 AND pls09.visits >= 0;\n",
    "\"\"\"\n",
    "\n",
    "execute_query(conn, query)"
   ]
  },
  {
   "cell_type": "code",
   "execution_count": 12,
   "metadata": {},
   "outputs": [
    {
     "output_type": "execute_result",
     "data": {
      "text/plain": [
       "  stabr  visits_2014  visits_2009 pct_change\n",
       "0    GU       103593        60763      70.49\n",
       "1    DC      4230790      2944774      43.67\n",
       "2    LA     17242110     15591805      10.58\n",
       "3    MT      4582604      4386504       4.47\n",
       "4    AL     17113602     16933967       1.06"
      ],
      "text/html": "<div>\n<style scoped>\n    .dataframe tbody tr th:only-of-type {\n        vertical-align: middle;\n    }\n\n    .dataframe tbody tr th {\n        vertical-align: top;\n    }\n\n    .dataframe thead th {\n        text-align: right;\n    }\n</style>\n<table border=\"1\" class=\"dataframe\">\n  <thead>\n    <tr style=\"text-align: right;\">\n      <th></th>\n      <th>stabr</th>\n      <th>visits_2014</th>\n      <th>visits_2009</th>\n      <th>pct_change</th>\n    </tr>\n  </thead>\n  <tbody>\n    <tr>\n      <th>0</th>\n      <td>GU</td>\n      <td>103593</td>\n      <td>60763</td>\n      <td>70.49</td>\n    </tr>\n    <tr>\n      <th>1</th>\n      <td>DC</td>\n      <td>4230790</td>\n      <td>2944774</td>\n      <td>43.67</td>\n    </tr>\n    <tr>\n      <th>2</th>\n      <td>LA</td>\n      <td>17242110</td>\n      <td>15591805</td>\n      <td>10.58</td>\n    </tr>\n    <tr>\n      <th>3</th>\n      <td>MT</td>\n      <td>4582604</td>\n      <td>4386504</td>\n      <td>4.47</td>\n    </tr>\n    <tr>\n      <th>4</th>\n      <td>AL</td>\n      <td>17113602</td>\n      <td>16933967</td>\n      <td>1.06</td>\n    </tr>\n  </tbody>\n</table>\n</div>"
     },
     "metadata": {},
     "execution_count": 12
    }
   ],
   "source": [
    "# Aggregating data to compare trends by states\n",
    "query = \"\"\"\n",
    "SELECT\n",
    "    pls14.stabr,\n",
    "    SUM(pls14.visits) AS visits_2014,\n",
    "    SUM(pls09.visits) AS visits_2009,\n",
    "    ROUND( (CAST(SUM(pls14.visits) AS DECIMAL(10, 1)) - SUM(pls09.visits)) /\n",
    "        SUM(pls09.visits) * 100, 2) AS pct_change\n",
    "FROM pls_fy2014_pupld14a AS pls14\n",
    "JOIN pls_fy2009_pupld09a AS pls09\n",
    "    ON pls14.fscskey = pls09.fscskey\n",
    "WHERE pls14.visits >=0 AND pls09.visits >= 0\n",
    "GROUP BY pls14.stabr\n",
    "ORDER BY pct_change DESC\n",
    "LIMIT 5\n",
    ";\n",
    "\"\"\"\n",
    "\n",
    "execute_query(conn, query)"
   ]
  },
  {
   "cell_type": "code",
   "execution_count": 13,
   "metadata": {},
   "outputs": [
    {
     "output_type": "execute_result",
     "data": {
      "text/plain": [
       "  stabr  visits_2014  visits_2009 pct_change\n",
       "0    TX     72876601     78838400      -7.56\n",
       "1    CA    162787836    182181408     -10.65\n",
       "2    OH     82495138     92402369     -10.72\n",
       "3    NY    106453546    119810969     -11.15\n",
       "4    IL     72598213     82438755     -11.94"
      ],
      "text/html": "<div>\n<style scoped>\n    .dataframe tbody tr th:only-of-type {\n        vertical-align: middle;\n    }\n\n    .dataframe tbody tr th {\n        vertical-align: top;\n    }\n\n    .dataframe thead th {\n        text-align: right;\n    }\n</style>\n<table border=\"1\" class=\"dataframe\">\n  <thead>\n    <tr style=\"text-align: right;\">\n      <th></th>\n      <th>stabr</th>\n      <th>visits_2014</th>\n      <th>visits_2009</th>\n      <th>pct_change</th>\n    </tr>\n  </thead>\n  <tbody>\n    <tr>\n      <th>0</th>\n      <td>TX</td>\n      <td>72876601</td>\n      <td>78838400</td>\n      <td>-7.56</td>\n    </tr>\n    <tr>\n      <th>1</th>\n      <td>CA</td>\n      <td>162787836</td>\n      <td>182181408</td>\n      <td>-10.65</td>\n    </tr>\n    <tr>\n      <th>2</th>\n      <td>OH</td>\n      <td>82495138</td>\n      <td>92402369</td>\n      <td>-10.72</td>\n    </tr>\n    <tr>\n      <th>3</th>\n      <td>NY</td>\n      <td>106453546</td>\n      <td>119810969</td>\n      <td>-11.15</td>\n    </tr>\n    <tr>\n      <th>4</th>\n      <td>IL</td>\n      <td>72598213</td>\n      <td>82438755</td>\n      <td>-11.94</td>\n    </tr>\n  </tbody>\n</table>\n</div>"
     },
     "metadata": {},
     "execution_count": 13
    }
   ],
   "source": [
    "# Filtering an Aggregate Query Using Having\n",
    "query = \"\"\"\n",
    "SELECT\n",
    "    pls14.stabr,\n",
    "    SUM(pls14.visits) AS visits_2014,\n",
    "    SUM(pls09.visits) AS visits_2009,\n",
    "    ROUND( (CAST(SUM(pls14.visits) AS DECIMAL(10, 1)) - SUM(pls09.visits)) /\n",
    "        SUM(pls09.visits) * 100, 2) AS pct_change\n",
    "FROM pls_fy2014_pupld14a AS pls14\n",
    "JOIN pls_fy2009_pupld09a AS pls09\n",
    "    ON pls14.fscskey = pls09.fscskey\n",
    "WHERE pls14.visits >=0 AND pls09.visits >= 0\n",
    "GROUP BY pls14.stabr\n",
    "HAVING SUM(pls14.visits) > 50000000\n",
    "ORDER BY pct_change DESC\n",
    "LIMIT 5\n",
    ";\n",
    "\"\"\"\n",
    "\n",
    "execute_query(conn, query)"
   ]
  },
  {
   "source": [
    "## Chapter 9: Inspecting and Modifying Data\n",
    "\n",
    "For this chaper, we will use a direcory of U.S. meat, poultry, and egg producers provided by the Food Safety and Inspection Service (FSIS)  agency within the U.S. Department of Agriculture.\n",
    "\n",
    "These first initial queries should give us some insight into our dataset:"
   ],
   "cell_type": "markdown",
   "metadata": {}
  },
  {
   "cell_type": "code",
   "execution_count": 14,
   "metadata": {},
   "outputs": [
    {
     "output_type": "execute_result",
     "data": {
      "text/plain": [
       "   count\n",
       "0   6201"
      ],
      "text/html": "<div>\n<style scoped>\n    .dataframe tbody tr th:only-of-type {\n        vertical-align: middle;\n    }\n\n    .dataframe tbody tr th {\n        vertical-align: top;\n    }\n\n    .dataframe thead th {\n        text-align: right;\n    }\n</style>\n<table border=\"1\" class=\"dataframe\">\n  <thead>\n    <tr style=\"text-align: right;\">\n      <th></th>\n      <th>count</th>\n    </tr>\n  </thead>\n  <tbody>\n    <tr>\n      <th>0</th>\n      <td>6201</td>\n    </tr>\n  </tbody>\n</table>\n</div>"
     },
     "metadata": {},
     "execution_count": 14
    }
   ],
   "source": [
    "# Reviweing our imported data\n",
    "query = \"\"\"\n",
    "SELECT COUNT(*)\n",
    "FROM meat_poultry_egg_inspect;\n",
    "\"\"\"\n",
    "\n",
    "execute_query(conn, query)"
   ]
  },
  {
   "cell_type": "code",
   "execution_count": 15,
   "metadata": {},
   "outputs": [
    {
     "output_type": "execute_result",
     "data": {
      "text/plain": [
       "                                           company  \\\n",
       "0                           Acre Station Meat Farm   \n",
       "1                               Beltex Corporation   \n",
       "2                          Cloverleaf Cold Storage   \n",
       "3                      Crete Core Ingredients, LLC   \n",
       "4                                     Crider, Inc.   \n",
       "5                Dimension Marketing & Sales, Inc.   \n",
       "6   Foster Poultry Farms, A California Corporation   \n",
       "7                       Freezer & Dry Storage, LLC   \n",
       "8                               JBS Souderton Inc.   \n",
       "9                        KB Poultry Processing LLC   \n",
       "10                  Lakeside Refrigerated Services   \n",
       "11                            Liberty Cold Storage   \n",
       "12                           M.G. Waldbaum Company   \n",
       "13              Midway International Logistics LLC   \n",
       "14           Nordic Logistics and Warehousing, LLC   \n",
       "15                                  OK Foods, Inc.   \n",
       "16                     Pacific Produce Corporation   \n",
       "17               Payless Distribution Center (PDC)   \n",
       "18                   Piatkowski Riteway Meats Inc.   \n",
       "19                      Preferred Freezer Services   \n",
       "20                                THE AMERICAN PIG   \n",
       "21                       The Classic Jerky Company   \n",
       "22                 United States Cold Storage Inc.   \n",
       "\n",
       "                                  street           city  st  address_count  \n",
       "0                         17076 Hwy 32 N       Pinetown  NC              2  \n",
       "1                3801 North Grove Street     Fort Worth  TX              2  \n",
       "2                     111 Imperial Drive        Sanford  NC              2  \n",
       "3                     2220 County Road I          Crete  NE              2  \n",
       "4                         1 Plant Avenue      Stillmore  GA              3  \n",
       "5                    386 West 9400 South          Sandy  UT              2  \n",
       "6                  6648 Highway 15 North    Farmerville  LA              2  \n",
       "7         21740 Trolley Industrial Drive         Taylor  MI              2  \n",
       "8                     249 Allentown Road      Souderton  PA              2  \n",
       "9                    15024 Sandstone Dr.          Utica  MN              2  \n",
       "10               2600 Oldmans Creek Road     Swedesboro  NJ              2  \n",
       "11                  1310 Remington Blvd.    Bolingbrook  IL              2  \n",
       "12                      120 Tower Street        Gaylord  MN              3  \n",
       "13                    948 Bradley Street      Watertown  NY              2  \n",
       "14                        220 Nordic Way         Pooler  GA              2  \n",
       "15                        3921 Reed Lane     Fort Smith  AR              2  \n",
       "16  220 East Harmon Industrial Park Road       Tamuning  GU              2  \n",
       "17                   370 Mendioka Street         Dededo  GU              2  \n",
       "18                      3555 Witmer Road  Niagara Falls  NY              2  \n",
       "19                     2700 Trade Street     Chesapeake  VA              2  \n",
       "20                        25 MEADOW ROAD      ASHEVILLE  NC              2  \n",
       "21        21655 Trolley Industrial Drive         Taylor  MI              2  \n",
       "22                     11801 NW 102 Road         Medley  FL              2  "
      ],
      "text/html": "<div>\n<style scoped>\n    .dataframe tbody tr th:only-of-type {\n        vertical-align: middle;\n    }\n\n    .dataframe tbody tr th {\n        vertical-align: top;\n    }\n\n    .dataframe thead th {\n        text-align: right;\n    }\n</style>\n<table border=\"1\" class=\"dataframe\">\n  <thead>\n    <tr style=\"text-align: right;\">\n      <th></th>\n      <th>company</th>\n      <th>street</th>\n      <th>city</th>\n      <th>st</th>\n      <th>address_count</th>\n    </tr>\n  </thead>\n  <tbody>\n    <tr>\n      <th>0</th>\n      <td>Acre Station Meat Farm</td>\n      <td>17076 Hwy 32 N</td>\n      <td>Pinetown</td>\n      <td>NC</td>\n      <td>2</td>\n    </tr>\n    <tr>\n      <th>1</th>\n      <td>Beltex Corporation</td>\n      <td>3801 North Grove Street</td>\n      <td>Fort Worth</td>\n      <td>TX</td>\n      <td>2</td>\n    </tr>\n    <tr>\n      <th>2</th>\n      <td>Cloverleaf Cold Storage</td>\n      <td>111 Imperial Drive</td>\n      <td>Sanford</td>\n      <td>NC</td>\n      <td>2</td>\n    </tr>\n    <tr>\n      <th>3</th>\n      <td>Crete Core Ingredients, LLC</td>\n      <td>2220 County Road I</td>\n      <td>Crete</td>\n      <td>NE</td>\n      <td>2</td>\n    </tr>\n    <tr>\n      <th>4</th>\n      <td>Crider, Inc.</td>\n      <td>1 Plant Avenue</td>\n      <td>Stillmore</td>\n      <td>GA</td>\n      <td>3</td>\n    </tr>\n    <tr>\n      <th>5</th>\n      <td>Dimension Marketing &amp; Sales, Inc.</td>\n      <td>386 West 9400 South</td>\n      <td>Sandy</td>\n      <td>UT</td>\n      <td>2</td>\n    </tr>\n    <tr>\n      <th>6</th>\n      <td>Foster Poultry Farms, A California Corporation</td>\n      <td>6648 Highway 15 North</td>\n      <td>Farmerville</td>\n      <td>LA</td>\n      <td>2</td>\n    </tr>\n    <tr>\n      <th>7</th>\n      <td>Freezer &amp; Dry Storage, LLC</td>\n      <td>21740 Trolley Industrial Drive</td>\n      <td>Taylor</td>\n      <td>MI</td>\n      <td>2</td>\n    </tr>\n    <tr>\n      <th>8</th>\n      <td>JBS Souderton Inc.</td>\n      <td>249 Allentown Road</td>\n      <td>Souderton</td>\n      <td>PA</td>\n      <td>2</td>\n    </tr>\n    <tr>\n      <th>9</th>\n      <td>KB Poultry Processing LLC</td>\n      <td>15024 Sandstone Dr.</td>\n      <td>Utica</td>\n      <td>MN</td>\n      <td>2</td>\n    </tr>\n    <tr>\n      <th>10</th>\n      <td>Lakeside Refrigerated Services</td>\n      <td>2600 Oldmans Creek Road</td>\n      <td>Swedesboro</td>\n      <td>NJ</td>\n      <td>2</td>\n    </tr>\n    <tr>\n      <th>11</th>\n      <td>Liberty Cold Storage</td>\n      <td>1310 Remington Blvd.</td>\n      <td>Bolingbrook</td>\n      <td>IL</td>\n      <td>2</td>\n    </tr>\n    <tr>\n      <th>12</th>\n      <td>M.G. Waldbaum Company</td>\n      <td>120 Tower Street</td>\n      <td>Gaylord</td>\n      <td>MN</td>\n      <td>3</td>\n    </tr>\n    <tr>\n      <th>13</th>\n      <td>Midway International Logistics LLC</td>\n      <td>948 Bradley Street</td>\n      <td>Watertown</td>\n      <td>NY</td>\n      <td>2</td>\n    </tr>\n    <tr>\n      <th>14</th>\n      <td>Nordic Logistics and Warehousing, LLC</td>\n      <td>220 Nordic Way</td>\n      <td>Pooler</td>\n      <td>GA</td>\n      <td>2</td>\n    </tr>\n    <tr>\n      <th>15</th>\n      <td>OK Foods, Inc.</td>\n      <td>3921 Reed Lane</td>\n      <td>Fort Smith</td>\n      <td>AR</td>\n      <td>2</td>\n    </tr>\n    <tr>\n      <th>16</th>\n      <td>Pacific Produce Corporation</td>\n      <td>220 East Harmon Industrial Park Road</td>\n      <td>Tamuning</td>\n      <td>GU</td>\n      <td>2</td>\n    </tr>\n    <tr>\n      <th>17</th>\n      <td>Payless Distribution Center (PDC)</td>\n      <td>370 Mendioka Street</td>\n      <td>Dededo</td>\n      <td>GU</td>\n      <td>2</td>\n    </tr>\n    <tr>\n      <th>18</th>\n      <td>Piatkowski Riteway Meats Inc.</td>\n      <td>3555 Witmer Road</td>\n      <td>Niagara Falls</td>\n      <td>NY</td>\n      <td>2</td>\n    </tr>\n    <tr>\n      <th>19</th>\n      <td>Preferred Freezer Services</td>\n      <td>2700 Trade Street</td>\n      <td>Chesapeake</td>\n      <td>VA</td>\n      <td>2</td>\n    </tr>\n    <tr>\n      <th>20</th>\n      <td>THE AMERICAN PIG</td>\n      <td>25 MEADOW ROAD</td>\n      <td>ASHEVILLE</td>\n      <td>NC</td>\n      <td>2</td>\n    </tr>\n    <tr>\n      <th>21</th>\n      <td>The Classic Jerky Company</td>\n      <td>21655 Trolley Industrial Drive</td>\n      <td>Taylor</td>\n      <td>MI</td>\n      <td>2</td>\n    </tr>\n    <tr>\n      <th>22</th>\n      <td>United States Cold Storage Inc.</td>\n      <td>11801 NW 102 Road</td>\n      <td>Medley</td>\n      <td>FL</td>\n      <td>2</td>\n    </tr>\n  </tbody>\n</table>\n</div>"
     },
     "metadata": {},
     "execution_count": 15
    }
   ],
   "source": [
    "# Looking for duplicates\n",
    "query = \"\"\"\n",
    "SELECT company,\n",
    "    street,\n",
    "    city,\n",
    "    st,\n",
    "    COUNT(*) AS address_count\n",
    "FROM meat_poultry_egg_inspect\n",
    "GROUP BY company, street, city, st\n",
    "HAVING COUNT(*) > 1\n",
    "ORDER BY company, street, city, st;\n",
    "\"\"\"\n",
    "\n",
    "execute_query(conn, query)"
   ]
  },
  {
   "cell_type": "code",
   "execution_count": 16,
   "metadata": {},
   "outputs": [
    {
     "output_type": "execute_result",
     "data": {
      "text/plain": [
       "   st  state_count\n",
       "0  AK           17\n",
       "1  AL           94\n",
       "2  AR           87\n",
       "3  AS            1\n",
       "4  AZ           37\n",
       "5  CA          666\n",
       "6  CO          121\n",
       "7  CT           55\n",
       "8  DC            2\n",
       "9  DE           22"
      ],
      "text/html": "<div>\n<style scoped>\n    .dataframe tbody tr th:only-of-type {\n        vertical-align: middle;\n    }\n\n    .dataframe tbody tr th {\n        vertical-align: top;\n    }\n\n    .dataframe thead th {\n        text-align: right;\n    }\n</style>\n<table border=\"1\" class=\"dataframe\">\n  <thead>\n    <tr style=\"text-align: right;\">\n      <th></th>\n      <th>st</th>\n      <th>state_count</th>\n    </tr>\n  </thead>\n  <tbody>\n    <tr>\n      <th>0</th>\n      <td>AK</td>\n      <td>17</td>\n    </tr>\n    <tr>\n      <th>1</th>\n      <td>AL</td>\n      <td>94</td>\n    </tr>\n    <tr>\n      <th>2</th>\n      <td>AR</td>\n      <td>87</td>\n    </tr>\n    <tr>\n      <th>3</th>\n      <td>AS</td>\n      <td>1</td>\n    </tr>\n    <tr>\n      <th>4</th>\n      <td>AZ</td>\n      <td>37</td>\n    </tr>\n    <tr>\n      <th>5</th>\n      <td>CA</td>\n      <td>666</td>\n    </tr>\n    <tr>\n      <th>6</th>\n      <td>CO</td>\n      <td>121</td>\n    </tr>\n    <tr>\n      <th>7</th>\n      <td>CT</td>\n      <td>55</td>\n    </tr>\n    <tr>\n      <th>8</th>\n      <td>DC</td>\n      <td>2</td>\n    </tr>\n    <tr>\n      <th>9</th>\n      <td>DE</td>\n      <td>22</td>\n    </tr>\n  </tbody>\n</table>\n</div>"
     },
     "metadata": {},
     "execution_count": 16
    }
   ],
   "source": [
    "# Checking for missing values\n",
    "query = \"\"\"\n",
    "SELECT st,\n",
    "    COUNT(*) AS state_count\n",
    "FROM meat_poultry_egg_inspect\n",
    "GROUP BY st\n",
    "ORDER BY st NULLS FIRST\n",
    "LIMIT 10\n",
    "\"\"\"\n",
    "\n",
    "execute_query(conn, query)"
   ]
  },
  {
   "cell_type": "code",
   "execution_count": 17,
   "metadata": {},
   "outputs": [
    {
     "output_type": "execute_result",
     "data": {
      "text/plain": [
       "Empty DataFrame\n",
       "Columns: [est_number, company, city, st, zip]\n",
       "Index: []"
      ],
      "text/html": "<div>\n<style scoped>\n    .dataframe tbody tr th:only-of-type {\n        vertical-align: middle;\n    }\n\n    .dataframe tbody tr th {\n        vertical-align: top;\n    }\n\n    .dataframe thead th {\n        text-align: right;\n    }\n</style>\n<table border=\"1\" class=\"dataframe\">\n  <thead>\n    <tr style=\"text-align: right;\">\n      <th></th>\n      <th>est_number</th>\n      <th>company</th>\n      <th>city</th>\n      <th>st</th>\n      <th>zip</th>\n    </tr>\n  </thead>\n  <tbody>\n  </tbody>\n</table>\n</div>"
     },
     "metadata": {},
     "execution_count": 17
    }
   ],
   "source": [
    "# Looking at rows that don't have a value in a column(s)\n",
    "query = \"\"\"\n",
    "SELECT est_number,\n",
    "    company,\n",
    "    city,\n",
    "    st,\n",
    "    zip\n",
    "FROM meat_poultry_egg_inspect\n",
    "WHERE st IS NULL;\n",
    "\"\"\"\n",
    "\n",
    "execute_query(conn, query)"
   ]
  },
  {
   "cell_type": "code",
   "execution_count": 18,
   "metadata": {},
   "outputs": [
    {
     "output_type": "execute_result",
     "data": {
      "text/plain": [
       "                                     company  count\n",
       "0                 121 In-Flight Catering LLC      1\n",
       "1                     165368 C. Corporation       1\n",
       "2                             1732 Meats LLC      1\n",
       "3     1st Original Texas Chili Company, Inc.      1\n",
       "4                       290 West Bar & Grill      1\n",
       "...                                      ...    ...\n",
       "5497             Zrile Bros. Packing Co.,Inc      1\n",
       "5498                    Zummo Meat Co., Inc.      1\n",
       "5499       Zwanenberg Food Group (USA), Inc.      1\n",
       "5500                          Zweigle's Inc.      1\n",
       "5501                   ZYK Enterprises, Inc.      1\n",
       "\n",
       "[5502 rows x 2 columns]"
      ],
      "text/html": "<div>\n<style scoped>\n    .dataframe tbody tr th:only-of-type {\n        vertical-align: middle;\n    }\n\n    .dataframe tbody tr th {\n        vertical-align: top;\n    }\n\n    .dataframe thead th {\n        text-align: right;\n    }\n</style>\n<table border=\"1\" class=\"dataframe\">\n  <thead>\n    <tr style=\"text-align: right;\">\n      <th></th>\n      <th>company</th>\n      <th>count</th>\n    </tr>\n  </thead>\n  <tbody>\n    <tr>\n      <th>0</th>\n      <td>121 In-Flight Catering LLC</td>\n      <td>1</td>\n    </tr>\n    <tr>\n      <th>1</th>\n      <td>165368 C. Corporation</td>\n      <td>1</td>\n    </tr>\n    <tr>\n      <th>2</th>\n      <td>1732 Meats LLC</td>\n      <td>1</td>\n    </tr>\n    <tr>\n      <th>3</th>\n      <td>1st Original Texas Chili Company, Inc.</td>\n      <td>1</td>\n    </tr>\n    <tr>\n      <th>4</th>\n      <td>290 West Bar &amp; Grill</td>\n      <td>1</td>\n    </tr>\n    <tr>\n      <th>...</th>\n      <td>...</td>\n      <td>...</td>\n    </tr>\n    <tr>\n      <th>5497</th>\n      <td>Zrile Bros. Packing Co.,Inc</td>\n      <td>1</td>\n    </tr>\n    <tr>\n      <th>5498</th>\n      <td>Zummo Meat Co., Inc.</td>\n      <td>1</td>\n    </tr>\n    <tr>\n      <th>5499</th>\n      <td>Zwanenberg Food Group (USA), Inc.</td>\n      <td>1</td>\n    </tr>\n    <tr>\n      <th>5500</th>\n      <td>Zweigle's Inc.</td>\n      <td>1</td>\n    </tr>\n    <tr>\n      <th>5501</th>\n      <td>ZYK Enterprises, Inc.</td>\n      <td>1</td>\n    </tr>\n  </tbody>\n</table>\n<p>5502 rows × 2 columns</p>\n</div>"
     },
     "metadata": {},
     "execution_count": 18
    }
   ],
   "source": [
    "# Checking for inconsitent data values\n",
    "query = \"\"\"\n",
    "SELECT company,\n",
    "    COUNT(*)\n",
    "FROM meat_poultry_egg_inspect\n",
    "GROUP BY company\n",
    "ORDER BY company ASC;\n",
    "\"\"\"\n",
    "\n",
    "execute_query(conn, query)"
   ]
  },
  {
   "cell_type": "code",
   "execution_count": 19,
   "metadata": {},
   "outputs": [
    {
     "output_type": "execute_result",
     "data": {
      "text/plain": [
       "   length  length_count\n",
       "0       5          6201"
      ],
      "text/html": "<div>\n<style scoped>\n    .dataframe tbody tr th:only-of-type {\n        vertical-align: middle;\n    }\n\n    .dataframe tbody tr th {\n        vertical-align: top;\n    }\n\n    .dataframe thead th {\n        text-align: right;\n    }\n</style>\n<table border=\"1\" class=\"dataframe\">\n  <thead>\n    <tr style=\"text-align: right;\">\n      <th></th>\n      <th>length</th>\n      <th>length_count</th>\n    </tr>\n  </thead>\n  <tbody>\n    <tr>\n      <th>0</th>\n      <td>5</td>\n      <td>6201</td>\n    </tr>\n  </tbody>\n</table>\n</div>"
     },
     "metadata": {},
     "execution_count": 19
    }
   ],
   "source": [
    "# Checking for malformed values using length() - here we see that because the zip column was read in as a number rather than as text it lost the leading 0's\n",
    "query = \"\"\"\n",
    "SELECT LENGTH(zip),\n",
    "    COUNT(*) AS length_count\n",
    "FROM meat_poultry_egg_inspect\n",
    "GROUP BY LENGTH(zip)\n",
    "ORDER BY LENGTH(zip);\n",
    "\"\"\"\n",
    "\n",
    "execute_query(conn, query)"
   ]
  },
  {
   "cell_type": "code",
   "execution_count": 20,
   "metadata": {},
   "outputs": [
    {
     "output_type": "execute_result",
     "data": {
      "text/plain": [
       "Empty DataFrame\n",
       "Columns: [st, st_count]\n",
       "Index: []"
      ],
      "text/html": "<div>\n<style scoped>\n    .dataframe tbody tr th:only-of-type {\n        vertical-align: middle;\n    }\n\n    .dataframe tbody tr th {\n        vertical-align: top;\n    }\n\n    .dataframe thead th {\n        text-align: right;\n    }\n</style>\n<table border=\"1\" class=\"dataframe\">\n  <thead>\n    <tr style=\"text-align: right;\">\n      <th></th>\n      <th>st</th>\n      <th>st_count</th>\n    </tr>\n  </thead>\n  <tbody>\n  </tbody>\n</table>\n</div>"
     },
     "metadata": {},
     "execution_count": 20
    }
   ],
   "source": [
    "# Examining rows that lost leading 0's\n",
    "query = \"\"\"\n",
    "SELECT st,\n",
    "    COUNT(*) AS st_count\n",
    "FROM meat_poultry_egg_inspect\n",
    "WHERE LENGTH(zip) < 5\n",
    "GROUP BY st\n",
    "ORDER BY st;\n",
    "\"\"\"\n",
    "\n",
    "execute_query(conn, query)"
   ]
  },
  {
   "source": [
    "For the following part of the chapter an identical copy of the st column was created in the meat_poultry_egg_inspect table titled st_copy"
   ],
   "cell_type": "markdown",
   "metadata": {}
  },
  {
   "cell_type": "code",
   "execution_count": 21,
   "metadata": {},
   "outputs": [
    {
     "output_type": "execute_result",
     "data": {
      "text/plain": [
       "Empty DataFrame\n",
       "Columns: [est_number, company, city, st, zip]\n",
       "Index: []"
      ],
      "text/html": "<div>\n<style scoped>\n    .dataframe tbody tr th:only-of-type {\n        vertical-align: middle;\n    }\n\n    .dataframe tbody tr th {\n        vertical-align: top;\n    }\n\n    .dataframe thead th {\n        text-align: right;\n    }\n</style>\n<table border=\"1\" class=\"dataframe\">\n  <thead>\n    <tr style=\"text-align: right;\">\n      <th></th>\n      <th>est_number</th>\n      <th>company</th>\n      <th>city</th>\n      <th>st</th>\n      <th>zip</th>\n    </tr>\n  </thead>\n  <tbody>\n  </tbody>\n</table>\n</div>"
     },
     "metadata": {},
     "execution_count": 21
    }
   ],
   "source": [
    "# Modifying Tables, Columns, and Data\n",
    "# Updating the rows where the values were missing\n",
    "query = \"\"\"\n",
    "UPDATE meat_poultry_egg_inspect\n",
    "SET st = 'MN'\n",
    "WHERE est_number = 'V18677A';\n",
    "\n",
    "UPDATE meat_poultry_egg_inspect\n",
    "SET st = 'AL'\n",
    "WHERE est_number = 'M45319+P45319';\n",
    "\n",
    "UPDATE meat_poultry_egg_inspect\n",
    "SET st = 'WI'\n",
    "WHERE est_number = 'M263A+P263A+V263A';\n",
    "\n",
    "SELECT est_number,\n",
    "    company,\n",
    "    city,\n",
    "    st,\n",
    "    zip\n",
    "FROM meat_poultry_egg_inspect\n",
    "WHERE st IS NULL; \n",
    "\"\"\"\n",
    "\n",
    "# The last part of the query just inspects the table to find NULL values - after our update there should be none\n",
    "execute_query(conn, query)\n"
   ]
  },
  {
   "source": [
    "For the following part of the chapter, an identical copy of the company column was created in the meat_poultry_egg_inspect table titled company_standard"
   ],
   "cell_type": "markdown",
   "metadata": {}
  },
  {
   "cell_type": "code",
   "execution_count": 22,
   "metadata": {},
   "outputs": [
    {
     "output_type": "execute_result",
     "data": {
      "text/plain": [
       "      est_number                             company  \\\n",
       "0          M1544                      J & M Meat Co.   \n",
       "1  M45319+P45319     Hall-Namie Packing Company, Inc   \n",
       "2          V3507  Zollinger Cold Storage Corporation   \n",
       "3         M34258           Beatrice Meat Company LLC   \n",
       "4           V971                      Supervalu Inc.   \n",
       "\n",
       "                     street      city  st    zip           phone  grant_date  \\\n",
       "0               545 9th St.   Oakland  CA  94607  (510) 839-0380  1982-05-24   \n",
       "1       210 Iroquois Street      None  AL  36671  (251) 457-3321  2014-05-02   \n",
       "2       699 West 1700 South     Logan  UT  84321  (801) 753-1134  1990-02-27   \n",
       "3          2595 Grant Blvd.  Beatrice  AL  36425  (251) 575-4021  2007-08-23   \n",
       "4  1400 West Gadsden Street    Quincy  FL  32351  (850) 875-2600  2011-09-16   \n",
       "\n",
       "                                          activities  dbas st_copy  \\\n",
       "0                                    Meat Processing  None      CA   \n",
       "1                                    Meat Processing  None    None   \n",
       "2  Certification - Export, Identification - Meat,...  None      UT   \n",
       "3                                    Meat Processing  None      AL   \n",
       "4  Certification - Export, Identification - Meat,...  None      FL   \n",
       "\n",
       "                     company_standard inspection_date reviewed_date  \\\n",
       "0                      J & M Meat Co.            None    2018-02-07   \n",
       "1     Hall-Namie Packing Company, Inc            None    2018-02-07   \n",
       "2  Zollinger Cold Storage Corporation            None    2018-02-07   \n",
       "3           Beatrice Meat Company LLC            None    2018-02-07   \n",
       "4                      Supervalu Inc.            None    2018-02-07   \n",
       "\n",
       "  meat_processing poultry_processing zip_copy  \n",
       "0            True               None    94607  \n",
       "1            True               None    36671  \n",
       "2            None               None    84321  \n",
       "3            True               None    36425  \n",
       "4            None               None    32351  "
      ],
      "text/html": "<div>\n<style scoped>\n    .dataframe tbody tr th:only-of-type {\n        vertical-align: middle;\n    }\n\n    .dataframe tbody tr th {\n        vertical-align: top;\n    }\n\n    .dataframe thead th {\n        text-align: right;\n    }\n</style>\n<table border=\"1\" class=\"dataframe\">\n  <thead>\n    <tr style=\"text-align: right;\">\n      <th></th>\n      <th>est_number</th>\n      <th>company</th>\n      <th>street</th>\n      <th>city</th>\n      <th>st</th>\n      <th>zip</th>\n      <th>phone</th>\n      <th>grant_date</th>\n      <th>activities</th>\n      <th>dbas</th>\n      <th>st_copy</th>\n      <th>company_standard</th>\n      <th>inspection_date</th>\n      <th>reviewed_date</th>\n      <th>meat_processing</th>\n      <th>poultry_processing</th>\n      <th>zip_copy</th>\n    </tr>\n  </thead>\n  <tbody>\n    <tr>\n      <th>0</th>\n      <td>M1544</td>\n      <td>J &amp; M Meat Co.</td>\n      <td>545 9th St.</td>\n      <td>Oakland</td>\n      <td>CA</td>\n      <td>94607</td>\n      <td>(510) 839-0380</td>\n      <td>1982-05-24</td>\n      <td>Meat Processing</td>\n      <td>None</td>\n      <td>CA</td>\n      <td>J &amp; M Meat Co.</td>\n      <td>None</td>\n      <td>2018-02-07</td>\n      <td>True</td>\n      <td>None</td>\n      <td>94607</td>\n    </tr>\n    <tr>\n      <th>1</th>\n      <td>M45319+P45319</td>\n      <td>Hall-Namie Packing Company, Inc</td>\n      <td>210 Iroquois Street</td>\n      <td>None</td>\n      <td>AL</td>\n      <td>36671</td>\n      <td>(251) 457-3321</td>\n      <td>2014-05-02</td>\n      <td>Meat Processing</td>\n      <td>None</td>\n      <td>None</td>\n      <td>Hall-Namie Packing Company, Inc</td>\n      <td>None</td>\n      <td>2018-02-07</td>\n      <td>True</td>\n      <td>None</td>\n      <td>36671</td>\n    </tr>\n    <tr>\n      <th>2</th>\n      <td>V3507</td>\n      <td>Zollinger Cold Storage Corporation</td>\n      <td>699 West 1700 South</td>\n      <td>Logan</td>\n      <td>UT</td>\n      <td>84321</td>\n      <td>(801) 753-1134</td>\n      <td>1990-02-27</td>\n      <td>Certification - Export, Identification - Meat,...</td>\n      <td>None</td>\n      <td>UT</td>\n      <td>Zollinger Cold Storage Corporation</td>\n      <td>None</td>\n      <td>2018-02-07</td>\n      <td>None</td>\n      <td>None</td>\n      <td>84321</td>\n    </tr>\n    <tr>\n      <th>3</th>\n      <td>M34258</td>\n      <td>Beatrice Meat Company LLC</td>\n      <td>2595 Grant Blvd.</td>\n      <td>Beatrice</td>\n      <td>AL</td>\n      <td>36425</td>\n      <td>(251) 575-4021</td>\n      <td>2007-08-23</td>\n      <td>Meat Processing</td>\n      <td>None</td>\n      <td>AL</td>\n      <td>Beatrice Meat Company LLC</td>\n      <td>None</td>\n      <td>2018-02-07</td>\n      <td>True</td>\n      <td>None</td>\n      <td>36425</td>\n    </tr>\n    <tr>\n      <th>4</th>\n      <td>V971</td>\n      <td>Supervalu Inc.</td>\n      <td>1400 West Gadsden Street</td>\n      <td>Quincy</td>\n      <td>FL</td>\n      <td>32351</td>\n      <td>(850) 875-2600</td>\n      <td>2011-09-16</td>\n      <td>Certification - Export, Identification - Meat,...</td>\n      <td>None</td>\n      <td>FL</td>\n      <td>Supervalu Inc.</td>\n      <td>None</td>\n      <td>2018-02-07</td>\n      <td>None</td>\n      <td>None</td>\n      <td>32351</td>\n    </tr>\n  </tbody>\n</table>\n</div>"
     },
     "metadata": {},
     "execution_count": 22
    }
   ],
   "source": [
    "# Updating values for consistency\n",
    "query = \"\"\"\n",
    "UPDATE meat_poultry_egg_inspect\n",
    "SET company_standard = company;\n",
    "\n",
    "SELECT * FROM meat_poultry_egg_inspect LIMIT 5;\n",
    "\"\"\"\n",
    "\n",
    "execute_query(conn, query)"
   ]
  },
  {
   "cell_type": "code",
   "execution_count": 23,
   "metadata": {},
   "outputs": [
    {
     "output_type": "execute_result",
     "data": {
      "text/plain": [
       "                       company      company_standard\n",
       "0     Armour-Eckrich Meats LLC  Armour_Eckrich Meats\n",
       "1    Armour-Eckrich Meats, LLC  Armour_Eckrich Meats\n",
       "2  Armour - Eckrich Meats, LLC  Armour_Eckrich Meats\n",
       "3   Armour-Eckrich Meats, Inc.  Armour_Eckrich Meats\n",
       "4     Armour-Eckrich Meats LLC  Armour_Eckrich Meats\n",
       "5    Armour-Eckrich Meats, LLC  Armour_Eckrich Meats\n",
       "6     Armour-Eckrich Meats LLC  Armour_Eckrich Meats"
      ],
      "text/html": "<div>\n<style scoped>\n    .dataframe tbody tr th:only-of-type {\n        vertical-align: middle;\n    }\n\n    .dataframe tbody tr th {\n        vertical-align: top;\n    }\n\n    .dataframe thead th {\n        text-align: right;\n    }\n</style>\n<table border=\"1\" class=\"dataframe\">\n  <thead>\n    <tr style=\"text-align: right;\">\n      <th></th>\n      <th>company</th>\n      <th>company_standard</th>\n    </tr>\n  </thead>\n  <tbody>\n    <tr>\n      <th>0</th>\n      <td>Armour-Eckrich Meats LLC</td>\n      <td>Armour_Eckrich Meats</td>\n    </tr>\n    <tr>\n      <th>1</th>\n      <td>Armour-Eckrich Meats, LLC</td>\n      <td>Armour_Eckrich Meats</td>\n    </tr>\n    <tr>\n      <th>2</th>\n      <td>Armour - Eckrich Meats, LLC</td>\n      <td>Armour_Eckrich Meats</td>\n    </tr>\n    <tr>\n      <th>3</th>\n      <td>Armour-Eckrich Meats, Inc.</td>\n      <td>Armour_Eckrich Meats</td>\n    </tr>\n    <tr>\n      <th>4</th>\n      <td>Armour-Eckrich Meats LLC</td>\n      <td>Armour_Eckrich Meats</td>\n    </tr>\n    <tr>\n      <th>5</th>\n      <td>Armour-Eckrich Meats, LLC</td>\n      <td>Armour_Eckrich Meats</td>\n    </tr>\n    <tr>\n      <th>6</th>\n      <td>Armour-Eckrich Meats LLC</td>\n      <td>Armour_Eckrich Meats</td>\n    </tr>\n  </tbody>\n</table>\n</div>"
     },
     "metadata": {},
     "execution_count": 23
    }
   ],
   "source": [
    "# Updating and standardizing all rows that contain the string 'Armour' to appear in company_standard as Armour_Eckrich Meats\n",
    "query = \"\"\"\n",
    "UPDATE meat_poultry_egg_inspect\n",
    "SET company_standard = 'Armour_Eckrich Meats'\n",
    "WHERE company LIKE '%Armour%';\n",
    "\n",
    "SELECT company, company_standard\n",
    "FROM meat_poultry_egg_inspect\n",
    "WHERE company LIKE '%Armour%';\n",
    "\"\"\"\n",
    "\n",
    "execute_query(conn, query)"
   ]
  },
  {
   "source": [
    "For the following part of the chapter, an identical copy of the zip column was created in the meat_poultry_egg_inspect table titled zip_copy"
   ],
   "cell_type": "markdown",
   "metadata": {}
  },
  {
   "cell_type": "code",
   "execution_count": 24,
   "metadata": {},
   "outputs": [
    {
     "output_type": "error",
     "ename": "NameError",
     "evalue": "name 'OperationalError' is not defined",
     "traceback": [
      "\u001b[1;31m---------------------------------------------------------------------------\u001b[0m",
      "\u001b[1;31mDuplicateColumn\u001b[0m                           Traceback (most recent call last)",
      "\u001b[1;32m<ipython-input-2-d0ffee2c9e4d>\u001b[0m in \u001b[0;36mexecute_query\u001b[1;34m(connection, query)\u001b[0m\n\u001b[0;32m     13\u001b[0m     \u001b[1;32mtry\u001b[0m\u001b[1;33m:\u001b[0m\u001b[1;33m\u001b[0m\u001b[1;33m\u001b[0m\u001b[0m\n\u001b[1;32m---> 14\u001b[1;33m         \u001b[0mcursor\u001b[0m\u001b[1;33m.\u001b[0m\u001b[0mexecute\u001b[0m\u001b[1;33m(\u001b[0m\u001b[0mquery\u001b[0m\u001b[1;33m)\u001b[0m\u001b[1;33m\u001b[0m\u001b[1;33m\u001b[0m\u001b[0m\n\u001b[0m\u001b[0;32m     15\u001b[0m         \u001b[0mresults\u001b[0m \u001b[1;33m=\u001b[0m \u001b[0mcursor\u001b[0m\u001b[1;33m.\u001b[0m\u001b[0mfetchall\u001b[0m\u001b[1;33m(\u001b[0m\u001b[1;33m)\u001b[0m\u001b[1;33m\u001b[0m\u001b[1;33m\u001b[0m\u001b[0m\n",
      "\u001b[1;31mDuplicateColumn\u001b[0m: column \"zip_copy\" of relation \"meat_poultry_egg_inspect\" already exists\n",
      "\nDuring handling of the above exception, another exception occurred:\n",
      "\u001b[1;31mNameError\u001b[0m                                 Traceback (most recent call last)",
      "\u001b[1;32m<ipython-input-24-8dd3557b25be>\u001b[0m in \u001b[0;36m<module>\u001b[1;34m\u001b[0m\n\u001b[0;32m      8\u001b[0m \"\"\"\n\u001b[0;32m      9\u001b[0m \u001b[1;33m\u001b[0m\u001b[0m\n\u001b[1;32m---> 10\u001b[1;33m \u001b[0mexecute_query\u001b[0m\u001b[1;33m(\u001b[0m\u001b[0mconn\u001b[0m\u001b[1;33m,\u001b[0m \u001b[0mquery\u001b[0m\u001b[1;33m)\u001b[0m\u001b[1;33m\u001b[0m\u001b[1;33m\u001b[0m\u001b[0m\n\u001b[0m",
      "\u001b[1;32m<ipython-input-2-d0ffee2c9e4d>\u001b[0m in \u001b[0;36mexecute_query\u001b[1;34m(connection, query)\u001b[0m\n\u001b[0;32m     23\u001b[0m         \u001b[1;31m# Closing the connection\u001b[0m\u001b[1;33m\u001b[0m\u001b[1;33m\u001b[0m\u001b[1;33m\u001b[0m\u001b[0m\n\u001b[0;32m     24\u001b[0m         \u001b[0mconnection\u001b[0m\u001b[1;33m.\u001b[0m\u001b[0mclose\u001b[0m\u001b[1;33m(\u001b[0m\u001b[1;33m)\u001b[0m\u001b[1;33m\u001b[0m\u001b[1;33m\u001b[0m\u001b[0m\n\u001b[1;32m---> 25\u001b[1;33m     \u001b[1;32mexcept\u001b[0m \u001b[0mOperationalError\u001b[0m \u001b[1;32mas\u001b[0m \u001b[0me\u001b[0m\u001b[1;33m:\u001b[0m\u001b[1;33m\u001b[0m\u001b[1;33m\u001b[0m\u001b[0m\n\u001b[0m\u001b[0;32m     26\u001b[0m         \u001b[0mprint\u001b[0m\u001b[1;33m(\u001b[0m\u001b[1;34mf\"The error '{e}' occurred.\"\u001b[0m\u001b[1;33m)\u001b[0m\u001b[1;33m\u001b[0m\u001b[1;33m\u001b[0m\u001b[0m\n",
      "\u001b[1;31mNameError\u001b[0m: name 'OperationalError' is not defined"
     ]
    }
   ],
   "source": [
    "query = \"\"\"\n",
    "ALTER TABLE meat_poultry_egg_inspect ADD COLUMN zip_copy VARCHAR(5);\n",
    "\n",
    "UPDATE meat_poultry_egg_inspect\n",
    "SET zip_copy = zip;\n",
    "\n",
    "SELECT * FROM meat_poultry_egg_inspect LIMIT 5;\n",
    "\"\"\"\n",
    "\n",
    "execute_query(conn, query)"
   ]
  },
  {
   "cell_type": "code",
   "execution_count": 25,
   "metadata": {},
   "outputs": [
    {
     "output_type": "execute_result",
     "data": {
      "text/plain": [
       "      est_number                             company  \\\n",
       "0  M45319+P45319     Hall-Namie Packing Company, Inc   \n",
       "1          M1544                      J & M Meat Co.   \n",
       "2          V3507  Zollinger Cold Storage Corporation   \n",
       "3         M34258           Beatrice Meat Company LLC   \n",
       "4           V971                      Supervalu Inc.   \n",
       "\n",
       "                     street      city  st    zip           phone  grant_date  \\\n",
       "0       210 Iroquois Street      None  AL  36671  (251) 457-3321  2014-05-02   \n",
       "1               545 9th St.   Oakland  CA  94607  (510) 839-0380  1982-05-24   \n",
       "2       699 West 1700 South     Logan  UT  84321  (801) 753-1134  1990-02-27   \n",
       "3          2595 Grant Blvd.  Beatrice  AL  36425  (251) 575-4021  2007-08-23   \n",
       "4  1400 West Gadsden Street    Quincy  FL  32351  (850) 875-2600  2011-09-16   \n",
       "\n",
       "                                          activities  dbas st_copy  \\\n",
       "0                                    Meat Processing  None    None   \n",
       "1                                    Meat Processing  None      CA   \n",
       "2  Certification - Export, Identification - Meat,...  None      UT   \n",
       "3                                    Meat Processing  None      AL   \n",
       "4  Certification - Export, Identification - Meat,...  None      FL   \n",
       "\n",
       "                     company_standard inspection_date reviewed_date  \\\n",
       "0     Hall-Namie Packing Company, Inc            None    2018-02-07   \n",
       "1                      J & M Meat Co.            None    2018-02-07   \n",
       "2  Zollinger Cold Storage Corporation            None    2018-02-07   \n",
       "3           Beatrice Meat Company LLC            None    2018-02-07   \n",
       "4                      Supervalu Inc.            None    2018-02-07   \n",
       "\n",
       "  meat_processing poultry_processing zip_copy  \n",
       "0            True               None    36671  \n",
       "1            True               None    94607  \n",
       "2            None               None    84321  \n",
       "3            True               None    36425  \n",
       "4            None               None    32351  "
      ],
      "text/html": "<div>\n<style scoped>\n    .dataframe tbody tr th:only-of-type {\n        vertical-align: middle;\n    }\n\n    .dataframe tbody tr th {\n        vertical-align: top;\n    }\n\n    .dataframe thead th {\n        text-align: right;\n    }\n</style>\n<table border=\"1\" class=\"dataframe\">\n  <thead>\n    <tr style=\"text-align: right;\">\n      <th></th>\n      <th>est_number</th>\n      <th>company</th>\n      <th>street</th>\n      <th>city</th>\n      <th>st</th>\n      <th>zip</th>\n      <th>phone</th>\n      <th>grant_date</th>\n      <th>activities</th>\n      <th>dbas</th>\n      <th>st_copy</th>\n      <th>company_standard</th>\n      <th>inspection_date</th>\n      <th>reviewed_date</th>\n      <th>meat_processing</th>\n      <th>poultry_processing</th>\n      <th>zip_copy</th>\n    </tr>\n  </thead>\n  <tbody>\n    <tr>\n      <th>0</th>\n      <td>M45319+P45319</td>\n      <td>Hall-Namie Packing Company, Inc</td>\n      <td>210 Iroquois Street</td>\n      <td>None</td>\n      <td>AL</td>\n      <td>36671</td>\n      <td>(251) 457-3321</td>\n      <td>2014-05-02</td>\n      <td>Meat Processing</td>\n      <td>None</td>\n      <td>None</td>\n      <td>Hall-Namie Packing Company, Inc</td>\n      <td>None</td>\n      <td>2018-02-07</td>\n      <td>True</td>\n      <td>None</td>\n      <td>36671</td>\n    </tr>\n    <tr>\n      <th>1</th>\n      <td>M1544</td>\n      <td>J &amp; M Meat Co.</td>\n      <td>545 9th St.</td>\n      <td>Oakland</td>\n      <td>CA</td>\n      <td>94607</td>\n      <td>(510) 839-0380</td>\n      <td>1982-05-24</td>\n      <td>Meat Processing</td>\n      <td>None</td>\n      <td>CA</td>\n      <td>J &amp; M Meat Co.</td>\n      <td>None</td>\n      <td>2018-02-07</td>\n      <td>True</td>\n      <td>None</td>\n      <td>94607</td>\n    </tr>\n    <tr>\n      <th>2</th>\n      <td>V3507</td>\n      <td>Zollinger Cold Storage Corporation</td>\n      <td>699 West 1700 South</td>\n      <td>Logan</td>\n      <td>UT</td>\n      <td>84321</td>\n      <td>(801) 753-1134</td>\n      <td>1990-02-27</td>\n      <td>Certification - Export, Identification - Meat,...</td>\n      <td>None</td>\n      <td>UT</td>\n      <td>Zollinger Cold Storage Corporation</td>\n      <td>None</td>\n      <td>2018-02-07</td>\n      <td>None</td>\n      <td>None</td>\n      <td>84321</td>\n    </tr>\n    <tr>\n      <th>3</th>\n      <td>M34258</td>\n      <td>Beatrice Meat Company LLC</td>\n      <td>2595 Grant Blvd.</td>\n      <td>Beatrice</td>\n      <td>AL</td>\n      <td>36425</td>\n      <td>(251) 575-4021</td>\n      <td>2007-08-23</td>\n      <td>Meat Processing</td>\n      <td>None</td>\n      <td>AL</td>\n      <td>Beatrice Meat Company LLC</td>\n      <td>None</td>\n      <td>2018-02-07</td>\n      <td>True</td>\n      <td>None</td>\n      <td>36425</td>\n    </tr>\n    <tr>\n      <th>4</th>\n      <td>V971</td>\n      <td>Supervalu Inc.</td>\n      <td>1400 West Gadsden Street</td>\n      <td>Quincy</td>\n      <td>FL</td>\n      <td>32351</td>\n      <td>(850) 875-2600</td>\n      <td>2011-09-16</td>\n      <td>Certification - Export, Identification - Meat,...</td>\n      <td>None</td>\n      <td>FL</td>\n      <td>Supervalu Inc.</td>\n      <td>None</td>\n      <td>2018-02-07</td>\n      <td>None</td>\n      <td>None</td>\n      <td>32351</td>\n    </tr>\n  </tbody>\n</table>\n</div>"
     },
     "metadata": {},
     "execution_count": 25
    }
   ],
   "source": [
    "# Removing ZIP codes using concatenation\n",
    "query = \"\"\"\n",
    "UPDATE meat_poultry_egg_inspect\n",
    "SET zip = '00' || zip\n",
    "WHERE st IN('PR', 'VI') AND LENGTH(zip) = 3;\n",
    "\n",
    "SELECT * FROM meat_poultry_egg_inspect LIMIT 5;\n",
    "\"\"\"\n",
    "\n",
    "execute_query(conn, query)"
   ]
  },
  {
   "cell_type": "code",
   "execution_count": 26,
   "metadata": {},
   "outputs": [
    {
     "output_type": "execute_result",
     "data": {
      "text/plain": [
       "      est_number                             company  \\\n",
       "0  M45319+P45319     Hall-Namie Packing Company, Inc   \n",
       "1          M1544                      J & M Meat Co.   \n",
       "2          V3507  Zollinger Cold Storage Corporation   \n",
       "3         M34258           Beatrice Meat Company LLC   \n",
       "4           V971                      Supervalu Inc.   \n",
       "\n",
       "                     street      city  st    zip           phone  grant_date  \\\n",
       "0       210 Iroquois Street      None  AL  36671  (251) 457-3321  2014-05-02   \n",
       "1               545 9th St.   Oakland  CA  94607  (510) 839-0380  1982-05-24   \n",
       "2       699 West 1700 South     Logan  UT  84321  (801) 753-1134  1990-02-27   \n",
       "3          2595 Grant Blvd.  Beatrice  AL  36425  (251) 575-4021  2007-08-23   \n",
       "4  1400 West Gadsden Street    Quincy  FL  32351  (850) 875-2600  2011-09-16   \n",
       "\n",
       "                                          activities  dbas st_copy  \\\n",
       "0                                    Meat Processing  None    None   \n",
       "1                                    Meat Processing  None      CA   \n",
       "2  Certification - Export, Identification - Meat,...  None      UT   \n",
       "3                                    Meat Processing  None      AL   \n",
       "4  Certification - Export, Identification - Meat,...  None      FL   \n",
       "\n",
       "                     company_standard inspection_date reviewed_date  \\\n",
       "0     Hall-Namie Packing Company, Inc            None    2018-02-07   \n",
       "1                      J & M Meat Co.            None    2018-02-07   \n",
       "2  Zollinger Cold Storage Corporation            None    2018-02-07   \n",
       "3           Beatrice Meat Company LLC            None    2018-02-07   \n",
       "4                      Supervalu Inc.            None    2018-02-07   \n",
       "\n",
       "  meat_processing poultry_processing zip_copy  \n",
       "0            True               None    36671  \n",
       "1            True               None    94607  \n",
       "2            None               None    84321  \n",
       "3            True               None    36425  \n",
       "4            None               None    32351  "
      ],
      "text/html": "<div>\n<style scoped>\n    .dataframe tbody tr th:only-of-type {\n        vertical-align: middle;\n    }\n\n    .dataframe tbody tr th {\n        vertical-align: top;\n    }\n\n    .dataframe thead th {\n        text-align: right;\n    }\n</style>\n<table border=\"1\" class=\"dataframe\">\n  <thead>\n    <tr style=\"text-align: right;\">\n      <th></th>\n      <th>est_number</th>\n      <th>company</th>\n      <th>street</th>\n      <th>city</th>\n      <th>st</th>\n      <th>zip</th>\n      <th>phone</th>\n      <th>grant_date</th>\n      <th>activities</th>\n      <th>dbas</th>\n      <th>st_copy</th>\n      <th>company_standard</th>\n      <th>inspection_date</th>\n      <th>reviewed_date</th>\n      <th>meat_processing</th>\n      <th>poultry_processing</th>\n      <th>zip_copy</th>\n    </tr>\n  </thead>\n  <tbody>\n    <tr>\n      <th>0</th>\n      <td>M45319+P45319</td>\n      <td>Hall-Namie Packing Company, Inc</td>\n      <td>210 Iroquois Street</td>\n      <td>None</td>\n      <td>AL</td>\n      <td>36671</td>\n      <td>(251) 457-3321</td>\n      <td>2014-05-02</td>\n      <td>Meat Processing</td>\n      <td>None</td>\n      <td>None</td>\n      <td>Hall-Namie Packing Company, Inc</td>\n      <td>None</td>\n      <td>2018-02-07</td>\n      <td>True</td>\n      <td>None</td>\n      <td>36671</td>\n    </tr>\n    <tr>\n      <th>1</th>\n      <td>M1544</td>\n      <td>J &amp; M Meat Co.</td>\n      <td>545 9th St.</td>\n      <td>Oakland</td>\n      <td>CA</td>\n      <td>94607</td>\n      <td>(510) 839-0380</td>\n      <td>1982-05-24</td>\n      <td>Meat Processing</td>\n      <td>None</td>\n      <td>CA</td>\n      <td>J &amp; M Meat Co.</td>\n      <td>None</td>\n      <td>2018-02-07</td>\n      <td>True</td>\n      <td>None</td>\n      <td>94607</td>\n    </tr>\n    <tr>\n      <th>2</th>\n      <td>V3507</td>\n      <td>Zollinger Cold Storage Corporation</td>\n      <td>699 West 1700 South</td>\n      <td>Logan</td>\n      <td>UT</td>\n      <td>84321</td>\n      <td>(801) 753-1134</td>\n      <td>1990-02-27</td>\n      <td>Certification - Export, Identification - Meat,...</td>\n      <td>None</td>\n      <td>UT</td>\n      <td>Zollinger Cold Storage Corporation</td>\n      <td>None</td>\n      <td>2018-02-07</td>\n      <td>None</td>\n      <td>None</td>\n      <td>84321</td>\n    </tr>\n    <tr>\n      <th>3</th>\n      <td>M34258</td>\n      <td>Beatrice Meat Company LLC</td>\n      <td>2595 Grant Blvd.</td>\n      <td>Beatrice</td>\n      <td>AL</td>\n      <td>36425</td>\n      <td>(251) 575-4021</td>\n      <td>2007-08-23</td>\n      <td>Meat Processing</td>\n      <td>None</td>\n      <td>AL</td>\n      <td>Beatrice Meat Company LLC</td>\n      <td>None</td>\n      <td>2018-02-07</td>\n      <td>True</td>\n      <td>None</td>\n      <td>36425</td>\n    </tr>\n    <tr>\n      <th>4</th>\n      <td>V971</td>\n      <td>Supervalu Inc.</td>\n      <td>1400 West Gadsden Street</td>\n      <td>Quincy</td>\n      <td>FL</td>\n      <td>32351</td>\n      <td>(850) 875-2600</td>\n      <td>2011-09-16</td>\n      <td>Certification - Export, Identification - Meat,...</td>\n      <td>None</td>\n      <td>FL</td>\n      <td>Supervalu Inc.</td>\n      <td>None</td>\n      <td>2018-02-07</td>\n      <td>None</td>\n      <td>None</td>\n      <td>32351</td>\n    </tr>\n  </tbody>\n</table>\n</div>"
     },
     "metadata": {},
     "execution_count": 26
    }
   ],
   "source": [
    "# Updating the remaining rows lacking leading zero's\n",
    "query = \"\"\"\n",
    "UPDATE meat_poultry_egg_inspect\n",
    "SET zip = '0' || zip\n",
    "WHERE st IN('CT', 'MA', 'ME', 'NH', 'NJ', 'RI', 'VT') AND LENGTH(zip) = 4;\n",
    "\n",
    "SELECT * FROM meat_poultry_egg_inspect LIMIT 5;\n",
    "\"\"\"\n",
    "\n",
    "execute_query(conn, query)"
   ]
  },
  {
   "cell_type": "code",
   "execution_count": 27,
   "metadata": {},
   "outputs": [
    {
     "output_type": "execute_result",
     "data": {
      "text/plain": [
       "   length  count\n",
       "0       5   6201"
      ],
      "text/html": "<div>\n<style scoped>\n    .dataframe tbody tr th:only-of-type {\n        vertical-align: middle;\n    }\n\n    .dataframe tbody tr th {\n        vertical-align: top;\n    }\n\n    .dataframe thead th {\n        text-align: right;\n    }\n</style>\n<table border=\"1\" class=\"dataframe\">\n  <thead>\n    <tr style=\"text-align: right;\">\n      <th></th>\n      <th>length</th>\n      <th>count</th>\n    </tr>\n  </thead>\n  <tbody>\n    <tr>\n      <th>0</th>\n      <td>5</td>\n      <td>6201</td>\n    </tr>\n  </tbody>\n</table>\n</div>"
     },
     "metadata": {},
     "execution_count": 27
    }
   ],
   "source": [
    "# Making sure that we fixed all zip codes\n",
    "query = \"\"\"\n",
    "SELECT LENGTH(zip),\n",
    "    COUNT(zip)\n",
    "FROM meat_poultry_egg_inspect\n",
    "GROUP BY LENGTH(zip);\n",
    "\"\"\"\n",
    "\n",
    "execute_query(conn, query)"
   ]
  },
  {
   "source": [
    "For the following part of the chapter, a table was created in order to set an inspection date for each company by U.S. regions"
   ],
   "cell_type": "markdown",
   "metadata": {}
  },
  {
   "cell_type": "code",
   "execution_count": 28,
   "metadata": {},
   "outputs": [
    {
     "output_type": "execute_result",
     "data": {
      "text/plain": [
       "   st inspection_date\n",
       "0  AK            None\n",
       "1  AL            None\n",
       "2  AR            None\n",
       "3  AS            None\n",
       "4  AZ            None\n",
       "5  CA            None\n",
       "6  CO            None\n",
       "7  CT      2019-12-01\n",
       "8  DC            None\n",
       "9  DE            None"
      ],
      "text/html": "<div>\n<style scoped>\n    .dataframe tbody tr th:only-of-type {\n        vertical-align: middle;\n    }\n\n    .dataframe tbody tr th {\n        vertical-align: top;\n    }\n\n    .dataframe thead th {\n        text-align: right;\n    }\n</style>\n<table border=\"1\" class=\"dataframe\">\n  <thead>\n    <tr style=\"text-align: right;\">\n      <th></th>\n      <th>st</th>\n      <th>inspection_date</th>\n    </tr>\n  </thead>\n  <tbody>\n    <tr>\n      <th>0</th>\n      <td>AK</td>\n      <td>None</td>\n    </tr>\n    <tr>\n      <th>1</th>\n      <td>AL</td>\n      <td>None</td>\n    </tr>\n    <tr>\n      <th>2</th>\n      <td>AR</td>\n      <td>None</td>\n    </tr>\n    <tr>\n      <th>3</th>\n      <td>AS</td>\n      <td>None</td>\n    </tr>\n    <tr>\n      <th>4</th>\n      <td>AZ</td>\n      <td>None</td>\n    </tr>\n    <tr>\n      <th>5</th>\n      <td>CA</td>\n      <td>None</td>\n    </tr>\n    <tr>\n      <th>6</th>\n      <td>CO</td>\n      <td>None</td>\n    </tr>\n    <tr>\n      <th>7</th>\n      <td>CT</td>\n      <td>2019-12-01</td>\n    </tr>\n    <tr>\n      <th>8</th>\n      <td>DC</td>\n      <td>None</td>\n    </tr>\n    <tr>\n      <th>9</th>\n      <td>DE</td>\n      <td>None</td>\n    </tr>\n  </tbody>\n</table>\n</div>"
     },
     "metadata": {},
     "execution_count": 28
    }
   ],
   "source": [
    "query = \"\"\"\n",
    "UPDATE meat_poultry_egg_inspect AS inspect\n",
    "SET inspection_date = '2019-12-01'\n",
    "WHERE EXISTS (SELECT state_regions.region\n",
    "        FROM state_regions\n",
    "        WHERE inspect.st = state_regions.st\n",
    "            AND state_regions.region = 'New England');\n",
    "\n",
    "SELECT st, inspection_date\n",
    "FROM meat_poultry_egg_inspect\n",
    "GROUP BY st, inspection_date\n",
    "ORDER BY st\n",
    "LIMIT 10;\n",
    "\"\"\"\n",
    "\n",
    "execute_query(conn, query)"
   ]
  },
  {
   "source": [
    "Deleting Data"
   ],
   "cell_type": "markdown",
   "metadata": {}
  },
  {
   "cell_type": "code",
   "execution_count": 29,
   "metadata": {},
   "outputs": [
    {
     "output_type": "execute_result",
     "data": {
      "text/plain": [
       "Empty DataFrame\n",
       "Columns: [st]\n",
       "Index: []"
      ],
      "text/html": "<div>\n<style scoped>\n    .dataframe tbody tr th:only-of-type {\n        vertical-align: middle;\n    }\n\n    .dataframe tbody tr th {\n        vertical-align: top;\n    }\n\n    .dataframe thead th {\n        text-align: right;\n    }\n</style>\n<table border=\"1\" class=\"dataframe\">\n  <thead>\n    <tr style=\"text-align: right;\">\n      <th></th>\n      <th>st</th>\n    </tr>\n  </thead>\n  <tbody>\n  </tbody>\n</table>\n</div>"
     },
     "metadata": {},
     "execution_count": 29
    }
   ],
   "source": [
    "# Using DELETE FROM and WHERE to delete all companies in U.S. territories\n",
    "query = \"\"\"\n",
    "DELETE FROM meat_poultry_egg_inspect\n",
    "WHERE st IN('PR', 'VI');\n",
    "\n",
    "SELECT st\n",
    "FROM meat_poultry_egg_inspect\n",
    "WHERE st IN ('PR', 'VI');\n",
    "\"\"\"\n",
    "\n",
    "execute_query(conn, query)"
   ]
  },
  {
   "cell_type": "code",
   "execution_count": 30,
   "metadata": {},
   "outputs": [],
   "source": [
    "# # Deleting a column from a table - here we drop the zip_copy column from the meat_poultry_egg_inspect table\n",
    "# query = \"\"\"\n",
    "# ALTER TABLE meat_poultry_egg_inspect\n",
    "# DROP COLUMN zip_copy;\n",
    "\n",
    "# SELECT * FROM meat_poultry_egg_inspect;\n",
    "# \"\"\"\n",
    "\n",
    "# execute_query(conn, query)"
   ]
  },
  {
   "source": [
    "Using Transaction Blocks to save or revert changes\n",
    "\n",
    "The following queries would be executed to show how we can make changes to a table without fully committing them - thus giving us the opportunity to revert back to a point prior to our alteration of data\n",
    "\n",
    "        START TRANSACTION;\n",
    "\n",
    "        UPDATE meat_poultry_egg_inspect\n",
    "        SET company = 'AGRO Merchants Oakland LLC'\n",
    "        WHERE company = 'AGRO Merchants Oakland, LLC';\n",
    "\n",
    "        SELECT company\n",
    "        FROM meat_poultry_egg_inspect\n",
    "        WHERE company LIKE 'AGRO%'\n",
    "        ORDER BY company\n",
    "        LIMIT 5;\n",
    "\n",
    "        ROLLBACK;\n"
   ],
   "cell_type": "markdown",
   "metadata": {}
  },
  {
   "source": [
    "For the following part of this chapter, a new table called meat_poultry_egg_inspect_backup was created to demonstrate how to improve performance when updating tables. Please refer to the book documentation for more details."
   ],
   "cell_type": "markdown",
   "metadata": {}
  },
  {
   "source": [
    "In the following query we create a new meat_poultry_egg_inspect table with a new column to avoid taking up additional space that would come with just adding a column\n",
    "\n",
    "\n",
    "    CREATE TABLE meat_poultry_egg_inspect_backup AS\n",
    "    SELECT *,\n",
    "        '2018-02-07'::date AS reviewed_date\n",
    "    FROM meat_poultry_egg_inspect;\n",
    "\n",
    "\n",
    "After the table is created, we can then use the following query to swap this newly created table's name with the original:\n",
    "\n",
    "    ALTER TABLE meat_poultry_egg_inspect RENAME TO meat_poultry_egg_inspect_temp;\n",
    "    ALTER TABLE meat_poultry_egg_inspect_backup RENAME TO meat_poultry_egg_inspect;\n",
    "    ALTER TABLE meat_poultry_egg_inspect_temp RENAME TO meat_poultry_egg_backup;"
   ],
   "cell_type": "markdown",
   "metadata": {}
  },
  {
   "cell_type": "code",
   "execution_count": 31,
   "metadata": {},
   "outputs": [
    {
     "output_type": "execute_result",
     "data": {
      "text/plain": [
       "      est_number                             company  \\\n",
       "0  M45319+P45319     Hall-Namie Packing Company, Inc   \n",
       "1          M1544                      J & M Meat Co.   \n",
       "2          V3507  Zollinger Cold Storage Corporation   \n",
       "3         M34258           Beatrice Meat Company LLC   \n",
       "4           V971                      Supervalu Inc.   \n",
       "\n",
       "                     street      city  st    zip           phone  grant_date  \\\n",
       "0       210 Iroquois Street      None  AL  36671  (251) 457-3321  2014-05-02   \n",
       "1               545 9th St.   Oakland  CA  94607  (510) 839-0380  1982-05-24   \n",
       "2       699 West 1700 South     Logan  UT  84321  (801) 753-1134  1990-02-27   \n",
       "3          2595 Grant Blvd.  Beatrice  AL  36425  (251) 575-4021  2007-08-23   \n",
       "4  1400 West Gadsden Street    Quincy  FL  32351  (850) 875-2600  2011-09-16   \n",
       "\n",
       "                                          activities  dbas st_copy  \\\n",
       "0                                    Meat Processing  None    None   \n",
       "1                                    Meat Processing  None      CA   \n",
       "2  Certification - Export, Identification - Meat,...  None      UT   \n",
       "3                                    Meat Processing  None      AL   \n",
       "4  Certification - Export, Identification - Meat,...  None      FL   \n",
       "\n",
       "                     company_standard inspection_date reviewed_date  \\\n",
       "0     Hall-Namie Packing Company, Inc            None    2018-02-07   \n",
       "1                      J & M Meat Co.            None    2018-02-07   \n",
       "2  Zollinger Cold Storage Corporation            None    2018-02-07   \n",
       "3           Beatrice Meat Company LLC            None    2018-02-07   \n",
       "4                      Supervalu Inc.            None    2018-02-07   \n",
       "\n",
       "  meat_processing poultry_processing zip_copy  \n",
       "0            True               None    36671  \n",
       "1            True               None    94607  \n",
       "2            None               None    84321  \n",
       "3            True               None    36425  \n",
       "4            None               None    32351  "
      ],
      "text/html": "<div>\n<style scoped>\n    .dataframe tbody tr th:only-of-type {\n        vertical-align: middle;\n    }\n\n    .dataframe tbody tr th {\n        vertical-align: top;\n    }\n\n    .dataframe thead th {\n        text-align: right;\n    }\n</style>\n<table border=\"1\" class=\"dataframe\">\n  <thead>\n    <tr style=\"text-align: right;\">\n      <th></th>\n      <th>est_number</th>\n      <th>company</th>\n      <th>street</th>\n      <th>city</th>\n      <th>st</th>\n      <th>zip</th>\n      <th>phone</th>\n      <th>grant_date</th>\n      <th>activities</th>\n      <th>dbas</th>\n      <th>st_copy</th>\n      <th>company_standard</th>\n      <th>inspection_date</th>\n      <th>reviewed_date</th>\n      <th>meat_processing</th>\n      <th>poultry_processing</th>\n      <th>zip_copy</th>\n    </tr>\n  </thead>\n  <tbody>\n    <tr>\n      <th>0</th>\n      <td>M45319+P45319</td>\n      <td>Hall-Namie Packing Company, Inc</td>\n      <td>210 Iroquois Street</td>\n      <td>None</td>\n      <td>AL</td>\n      <td>36671</td>\n      <td>(251) 457-3321</td>\n      <td>2014-05-02</td>\n      <td>Meat Processing</td>\n      <td>None</td>\n      <td>None</td>\n      <td>Hall-Namie Packing Company, Inc</td>\n      <td>None</td>\n      <td>2018-02-07</td>\n      <td>True</td>\n      <td>None</td>\n      <td>36671</td>\n    </tr>\n    <tr>\n      <th>1</th>\n      <td>M1544</td>\n      <td>J &amp; M Meat Co.</td>\n      <td>545 9th St.</td>\n      <td>Oakland</td>\n      <td>CA</td>\n      <td>94607</td>\n      <td>(510) 839-0380</td>\n      <td>1982-05-24</td>\n      <td>Meat Processing</td>\n      <td>None</td>\n      <td>CA</td>\n      <td>J &amp; M Meat Co.</td>\n      <td>None</td>\n      <td>2018-02-07</td>\n      <td>True</td>\n      <td>None</td>\n      <td>94607</td>\n    </tr>\n    <tr>\n      <th>2</th>\n      <td>V3507</td>\n      <td>Zollinger Cold Storage Corporation</td>\n      <td>699 West 1700 South</td>\n      <td>Logan</td>\n      <td>UT</td>\n      <td>84321</td>\n      <td>(801) 753-1134</td>\n      <td>1990-02-27</td>\n      <td>Certification - Export, Identification - Meat,...</td>\n      <td>None</td>\n      <td>UT</td>\n      <td>Zollinger Cold Storage Corporation</td>\n      <td>None</td>\n      <td>2018-02-07</td>\n      <td>None</td>\n      <td>None</td>\n      <td>84321</td>\n    </tr>\n    <tr>\n      <th>3</th>\n      <td>M34258</td>\n      <td>Beatrice Meat Company LLC</td>\n      <td>2595 Grant Blvd.</td>\n      <td>Beatrice</td>\n      <td>AL</td>\n      <td>36425</td>\n      <td>(251) 575-4021</td>\n      <td>2007-08-23</td>\n      <td>Meat Processing</td>\n      <td>None</td>\n      <td>AL</td>\n      <td>Beatrice Meat Company LLC</td>\n      <td>None</td>\n      <td>2018-02-07</td>\n      <td>True</td>\n      <td>None</td>\n      <td>36425</td>\n    </tr>\n    <tr>\n      <th>4</th>\n      <td>V971</td>\n      <td>Supervalu Inc.</td>\n      <td>1400 West Gadsden Street</td>\n      <td>Quincy</td>\n      <td>FL</td>\n      <td>32351</td>\n      <td>(850) 875-2600</td>\n      <td>2011-09-16</td>\n      <td>Certification - Export, Identification - Meat,...</td>\n      <td>None</td>\n      <td>FL</td>\n      <td>Supervalu Inc.</td>\n      <td>None</td>\n      <td>2018-02-07</td>\n      <td>None</td>\n      <td>None</td>\n      <td>32351</td>\n    </tr>\n  </tbody>\n</table>\n</div>"
     },
     "metadata": {},
     "execution_count": 31
    }
   ],
   "source": [
    "# Ensuring that our tables have switched names - by doing this process we avoid updating rows and having the db inflate the size of the table. Eventually the \"backup\" table will be dropped and the remaning data table will be smaller\n",
    "query = \"\"\"\n",
    "SELECT * FROM meat_poultry_egg_inspect LIMIT 5;\n",
    "\"\"\"\n",
    "\n",
    "execute_query(conn, query)"
   ]
  },
  {
   "source": [
    "## Chapter 10: Statistical Functions in SQL\n",
    "\n",
    "For this chapter, a data table was created from the 2011-2015 American Community Survey. Please see the book documentation for more information."
   ],
   "cell_type": "markdown",
   "metadata": {}
  },
  {
   "cell_type": "code",
   "execution_count": 32,
   "metadata": {},
   "outputs": [
    {
     "output_type": "execute_result",
     "data": {
      "text/plain": [
       "               geoid             county       st pct_travel_60_min  \\\n",
       "0     0500000US01001     Autauga County  Alabama             5.630   \n",
       "1     0500000US01003     Baldwin County  Alabama             7.966   \n",
       "2     0500000US01005     Barbour County  Alabama             7.672   \n",
       "3     0500000US01007        Bibb County  Alabama             9.198   \n",
       "4     0500000US01009      Blount County  Alabama            16.741   \n",
       "...              ...                ...      ...               ...   \n",
       "3137  0500000US56037  Sweetwater County  Wyoming             6.741   \n",
       "3138  0500000US56039       Teton County  Wyoming             1.720   \n",
       "3139  0500000US56041       Uinta County  Wyoming             8.460   \n",
       "3140  0500000US56043    Washakie County  Wyoming             2.763   \n",
       "3141  0500000US56045      Weston County  Wyoming            26.639   \n",
       "\n",
       "     pct_bachelors_higher pct_masters_higher  median_hh_income  \n",
       "0                  23.230              9.747           51281.0  \n",
       "1                  28.985              9.724           50254.0  \n",
       "2                  12.516              5.009           32964.0  \n",
       "3                  10.647              4.594           38678.0  \n",
       "4                  12.891              4.273           45813.0  \n",
       "...                   ...                ...               ...  \n",
       "3137               19.599              5.810           69022.0  \n",
       "3138               53.932             16.115           75325.0  \n",
       "3139               19.306              5.373           56569.0  \n",
       "3140               21.131              6.121           47652.0  \n",
       "3141               18.114              5.251           57738.0  \n",
       "\n",
       "[3142 rows x 7 columns]"
      ],
      "text/html": "<div>\n<style scoped>\n    .dataframe tbody tr th:only-of-type {\n        vertical-align: middle;\n    }\n\n    .dataframe tbody tr th {\n        vertical-align: top;\n    }\n\n    .dataframe thead th {\n        text-align: right;\n    }\n</style>\n<table border=\"1\" class=\"dataframe\">\n  <thead>\n    <tr style=\"text-align: right;\">\n      <th></th>\n      <th>geoid</th>\n      <th>county</th>\n      <th>st</th>\n      <th>pct_travel_60_min</th>\n      <th>pct_bachelors_higher</th>\n      <th>pct_masters_higher</th>\n      <th>median_hh_income</th>\n    </tr>\n  </thead>\n  <tbody>\n    <tr>\n      <th>0</th>\n      <td>0500000US01001</td>\n      <td>Autauga County</td>\n      <td>Alabama</td>\n      <td>5.630</td>\n      <td>23.230</td>\n      <td>9.747</td>\n      <td>51281.0</td>\n    </tr>\n    <tr>\n      <th>1</th>\n      <td>0500000US01003</td>\n      <td>Baldwin County</td>\n      <td>Alabama</td>\n      <td>7.966</td>\n      <td>28.985</td>\n      <td>9.724</td>\n      <td>50254.0</td>\n    </tr>\n    <tr>\n      <th>2</th>\n      <td>0500000US01005</td>\n      <td>Barbour County</td>\n      <td>Alabama</td>\n      <td>7.672</td>\n      <td>12.516</td>\n      <td>5.009</td>\n      <td>32964.0</td>\n    </tr>\n    <tr>\n      <th>3</th>\n      <td>0500000US01007</td>\n      <td>Bibb County</td>\n      <td>Alabama</td>\n      <td>9.198</td>\n      <td>10.647</td>\n      <td>4.594</td>\n      <td>38678.0</td>\n    </tr>\n    <tr>\n      <th>4</th>\n      <td>0500000US01009</td>\n      <td>Blount County</td>\n      <td>Alabama</td>\n      <td>16.741</td>\n      <td>12.891</td>\n      <td>4.273</td>\n      <td>45813.0</td>\n    </tr>\n    <tr>\n      <th>...</th>\n      <td>...</td>\n      <td>...</td>\n      <td>...</td>\n      <td>...</td>\n      <td>...</td>\n      <td>...</td>\n      <td>...</td>\n    </tr>\n    <tr>\n      <th>3137</th>\n      <td>0500000US56037</td>\n      <td>Sweetwater County</td>\n      <td>Wyoming</td>\n      <td>6.741</td>\n      <td>19.599</td>\n      <td>5.810</td>\n      <td>69022.0</td>\n    </tr>\n    <tr>\n      <th>3138</th>\n      <td>0500000US56039</td>\n      <td>Teton County</td>\n      <td>Wyoming</td>\n      <td>1.720</td>\n      <td>53.932</td>\n      <td>16.115</td>\n      <td>75325.0</td>\n    </tr>\n    <tr>\n      <th>3139</th>\n      <td>0500000US56041</td>\n      <td>Uinta County</td>\n      <td>Wyoming</td>\n      <td>8.460</td>\n      <td>19.306</td>\n      <td>5.373</td>\n      <td>56569.0</td>\n    </tr>\n    <tr>\n      <th>3140</th>\n      <td>0500000US56043</td>\n      <td>Washakie County</td>\n      <td>Wyoming</td>\n      <td>2.763</td>\n      <td>21.131</td>\n      <td>6.121</td>\n      <td>47652.0</td>\n    </tr>\n    <tr>\n      <th>3141</th>\n      <td>0500000US56045</td>\n      <td>Weston County</td>\n      <td>Wyoming</td>\n      <td>26.639</td>\n      <td>18.114</td>\n      <td>5.251</td>\n      <td>57738.0</td>\n    </tr>\n  </tbody>\n</table>\n<p>3142 rows × 7 columns</p>\n</div>"
     },
     "metadata": {},
     "execution_count": 32
    }
   ],
   "source": [
    "# Examining our newly created ACS 5 year estimate table\n",
    "query = \"SELECT * FROM acs_2011_2015_stats;\"\n",
    "\n",
    "execute_query(conn, query)"
   ]
  },
  {
   "cell_type": "code",
   "execution_count": 33,
   "metadata": {},
   "outputs": [
    {
     "output_type": "execute_result",
     "data": {
      "text/plain": [
       "   bachelors_incomre_r\n",
       "0             0.682186"
      ],
      "text/html": "<div>\n<style scoped>\n    .dataframe tbody tr th:only-of-type {\n        vertical-align: middle;\n    }\n\n    .dataframe tbody tr th {\n        vertical-align: top;\n    }\n\n    .dataframe thead th {\n        text-align: right;\n    }\n</style>\n<table border=\"1\" class=\"dataframe\">\n  <thead>\n    <tr style=\"text-align: right;\">\n      <th></th>\n      <th>bachelors_incomre_r</th>\n    </tr>\n  </thead>\n  <tbody>\n    <tr>\n      <th>0</th>\n      <td>0.682186</td>\n    </tr>\n  </tbody>\n</table>\n</div>"
     },
     "metadata": {},
     "execution_count": 33
    }
   ],
   "source": [
    "# Measuring Correlations with CORR(Y, X) - Here we examine the correlation between the median_hh_income and pct_bachelors_higher columns\n",
    "query = \"\"\"\n",
    "SELECT CORR(median_hh_income, pct_bachelors_higher) AS bachelors_incomre_r\n",
    "FROM acs_2011_2015_stats;\n",
    "\"\"\"\n",
    "\n",
    "execute_query(conn, query)"
   ]
  },
  {
   "cell_type": "code",
   "execution_count": 34,
   "metadata": {},
   "outputs": [
    {
     "output_type": "execute_result",
     "data": {
      "text/plain": [
       "  bachelors_income_r income_travel_r bachelors_travel_r\n",
       "0               0.68            0.05              -0.14"
      ],
      "text/html": "<div>\n<style scoped>\n    .dataframe tbody tr th:only-of-type {\n        vertical-align: middle;\n    }\n\n    .dataframe tbody tr th {\n        vertical-align: top;\n    }\n\n    .dataframe thead th {\n        text-align: right;\n    }\n</style>\n<table border=\"1\" class=\"dataframe\">\n  <thead>\n    <tr style=\"text-align: right;\">\n      <th></th>\n      <th>bachelors_income_r</th>\n      <th>income_travel_r</th>\n      <th>bachelors_travel_r</th>\n    </tr>\n  </thead>\n  <tbody>\n    <tr>\n      <th>0</th>\n      <td>0.68</td>\n      <td>0.05</td>\n      <td>-0.14</td>\n    </tr>\n  </tbody>\n</table>\n</div>"
     },
     "metadata": {},
     "execution_count": 34
    }
   ],
   "source": [
    "# Checking addditional correlation coefficients\n",
    "query = \"\"\"\n",
    "SELECT \n",
    "    ROUND(\n",
    "        CORR(median_hh_income, pct_bachelors_higher)::NUMERIC, 2\n",
    "    ) AS bachelors_income_r,\n",
    "    ROUND(\n",
    "        CORR(pct_travel_60_min, median_hh_income)::NUMERIC, 2\n",
    "    ) AS income_travel_r,\n",
    "    ROUND(\n",
    "        CORR(pct_travel_60_min, pct_bachelors_higher)::NUMERIC, 2\n",
    "    ) AS bachelors_travel_r\n",
    "FROM acs_2011_2015_stats;\n",
    "\"\"\"\n",
    "\n",
    "execute_query(conn, query)"
   ]
  },
  {
   "cell_type": "code",
   "execution_count": 35,
   "metadata": {},
   "outputs": [
    {
     "output_type": "execute_result",
     "data": {
      "text/plain": [
       "    slope y_intercept\n",
       "0  926.95    27901.15"
      ],
      "text/html": "<div>\n<style scoped>\n    .dataframe tbody tr th:only-of-type {\n        vertical-align: middle;\n    }\n\n    .dataframe tbody tr th {\n        vertical-align: top;\n    }\n\n    .dataframe thead th {\n        text-align: right;\n    }\n</style>\n<table border=\"1\" class=\"dataframe\">\n  <thead>\n    <tr style=\"text-align: right;\">\n      <th></th>\n      <th>slope</th>\n      <th>y_intercept</th>\n    </tr>\n  </thead>\n  <tbody>\n    <tr>\n      <th>0</th>\n      <td>926.95</td>\n      <td>27901.15</td>\n    </tr>\n  </tbody>\n</table>\n</div>"
     },
     "metadata": {},
     "execution_count": 35
    }
   ],
   "source": [
    "# Predicting Values with Regression Analysis - here we try to predict what the expected median household income in a county would be if the percntage of people with a bachelor's degree or higher in that county was 30 percent. The first step is to try and find what our slope and intercepts will be using the REGR_SLOPE(Y, X) AND REGR_INTERCEPT(Y, X) functions\n",
    "query = \"\"\"\n",
    "SELECT \n",
    "    ROUND(\n",
    "        REGR_SLOPE(median_hh_income, pct_bachelors_higher)::NUMERIC, 2\n",
    "    ) AS slope,\n",
    "    ROUND(\n",
    "        REGR_INTERCEPT(median_hh_income, pct_bachelors_higher)::NUMERIC, 2\n",
    "    ) AS y_intercept\n",
    "FROM acs_2011_2015_stats;\n",
    "\"\"\"\n",
    "\n",
    "execute_query(conn, query)"
   ]
  },
  {
   "cell_type": "code",
   "execution_count": 36,
   "metadata": {},
   "outputs": [
    {
     "output_type": "stream",
     "name": "stdout",
     "text": [
      "55709.65\n"
     ]
    }
   ],
   "source": [
    "# Using this info we can calculate what the median household income would be using our slope-intercept formula\n",
    "y = (926.95*30)+27901.15\n",
    "print(y)"
   ]
  },
  {
   "cell_type": "code",
   "execution_count": 37,
   "metadata": {},
   "outputs": [
    {
     "output_type": "execute_result",
     "data": {
      "text/plain": [
       "  r_squared\n",
       "0     0.465"
      ],
      "text/html": "<div>\n<style scoped>\n    .dataframe tbody tr th:only-of-type {\n        vertical-align: middle;\n    }\n\n    .dataframe tbody tr th {\n        vertical-align: top;\n    }\n\n    .dataframe thead th {\n        text-align: right;\n    }\n</style>\n<table border=\"1\" class=\"dataframe\">\n  <thead>\n    <tr style=\"text-align: right;\">\n      <th></th>\n      <th>r_squared</th>\n    </tr>\n  </thead>\n  <tbody>\n    <tr>\n      <th>0</th>\n      <td>0.465</td>\n    </tr>\n  </tbody>\n</table>\n</div>"
     },
     "metadata": {},
     "execution_count": 37
    }
   ],
   "source": [
    "# Finding the effect of an independent variable with r-squared - this requires us to use the REGR_R2(Y, X) function\n",
    "query = \"\"\"\n",
    "SELECT ROUND(\n",
    "    REGR_R2(median_hh_income, pct_bachelors_higher):: NUMERIC, 3\n",
    "    ) AS r_squared\n",
    "FROM acs_2011_2015_stats;\n",
    "\"\"\"\n",
    "\n",
    "execute_query(conn, query)"
   ]
  },
  {
   "source": [
    "For this next part of the chapter we look at window functions. In order to use some of the window functions a table titled, \"widget_companies\", was created. Please see the book documentation for more details."
   ],
   "cell_type": "markdown",
   "metadata": {}
  },
  {
   "cell_type": "code",
   "execution_count": 38,
   "metadata": {},
   "outputs": [
    {
     "output_type": "execute_result",
     "data": {
      "text/plain": [
       "                      company  widget_output  rank  dense_rank\n",
       "0          Clarke Amalgamated         620000     1           1\n",
       "1       Stavesacre Industries         244000     2           2\n",
       "2      Bowers Widget Emporium         201000     3           3\n",
       "3        District Widget Inc.         201000     3           3\n",
       "4                Best Widgets         196000     5           4\n",
       "5  Springfield Widget Masters         143000     6           5\n",
       "6                   Acme Inc.         133000     7           6\n",
       "7               Morse Widgets         125000     8           7"
      ],
      "text/html": "<div>\n<style scoped>\n    .dataframe tbody tr th:only-of-type {\n        vertical-align: middle;\n    }\n\n    .dataframe tbody tr th {\n        vertical-align: top;\n    }\n\n    .dataframe thead th {\n        text-align: right;\n    }\n</style>\n<table border=\"1\" class=\"dataframe\">\n  <thead>\n    <tr style=\"text-align: right;\">\n      <th></th>\n      <th>company</th>\n      <th>widget_output</th>\n      <th>rank</th>\n      <th>dense_rank</th>\n    </tr>\n  </thead>\n  <tbody>\n    <tr>\n      <th>0</th>\n      <td>Clarke Amalgamated</td>\n      <td>620000</td>\n      <td>1</td>\n      <td>1</td>\n    </tr>\n    <tr>\n      <th>1</th>\n      <td>Stavesacre Industries</td>\n      <td>244000</td>\n      <td>2</td>\n      <td>2</td>\n    </tr>\n    <tr>\n      <th>2</th>\n      <td>Bowers Widget Emporium</td>\n      <td>201000</td>\n      <td>3</td>\n      <td>3</td>\n    </tr>\n    <tr>\n      <th>3</th>\n      <td>District Widget Inc.</td>\n      <td>201000</td>\n      <td>3</td>\n      <td>3</td>\n    </tr>\n    <tr>\n      <th>4</th>\n      <td>Best Widgets</td>\n      <td>196000</td>\n      <td>5</td>\n      <td>4</td>\n    </tr>\n    <tr>\n      <th>5</th>\n      <td>Springfield Widget Masters</td>\n      <td>143000</td>\n      <td>6</td>\n      <td>5</td>\n    </tr>\n    <tr>\n      <th>6</th>\n      <td>Acme Inc.</td>\n      <td>133000</td>\n      <td>7</td>\n      <td>6</td>\n    </tr>\n    <tr>\n      <th>7</th>\n      <td>Morse Widgets</td>\n      <td>125000</td>\n      <td>8</td>\n      <td>7</td>\n    </tr>\n  </tbody>\n</table>\n</div>"
     },
     "metadata": {},
     "execution_count": 38
    }
   ],
   "source": [
    "# Creating rankings with the RANK() AND DENSE_RANK() functions\n",
    "query = \"\"\"\n",
    "SELECT \n",
    "    company,\n",
    "    widget_output,\n",
    "    RANK() OVER (ORDER BY widget_output DESC),\n",
    "    DENSE_RANK() OVER (ORDER BY widget_output DESC)\n",
    "FROM widget_companies;\n",
    "\"\"\"\n",
    "\n",
    "execute_query(conn, query)"
   ]
  },
  {
   "source": [
    "For the next part of the chapter, we look at partitioning in window functions. To do so, a table titled, \"store_sales\" was created. Please see the book documentation for more details."
   ],
   "cell_type": "markdown",
   "metadata": {}
  },
  {
   "cell_type": "code",
   "execution_count": 39,
   "metadata": {},
   "outputs": [
    {
     "output_type": "execute_result",
     "data": {
      "text/plain": [
       "    category    store  unit_sales  rank\n",
       "0       Beer  Wallace         988     1\n",
       "1       Beer  Broders         641     2\n",
       "2       Beer  Cramers         640     3\n",
       "3     Cereal  Broders        1104     1\n",
       "4     Cereal  Cramers        1003     2\n",
       "5     Cereal  Wallace         980     3\n",
       "6  Ice Cream  Broders        2517     1\n",
       "7  Ice Cream  Cramers        2112     2\n",
       "8  Ice Cream  Wallace        1863     3"
      ],
      "text/html": "<div>\n<style scoped>\n    .dataframe tbody tr th:only-of-type {\n        vertical-align: middle;\n    }\n\n    .dataframe tbody tr th {\n        vertical-align: top;\n    }\n\n    .dataframe thead th {\n        text-align: right;\n    }\n</style>\n<table border=\"1\" class=\"dataframe\">\n  <thead>\n    <tr style=\"text-align: right;\">\n      <th></th>\n      <th>category</th>\n      <th>store</th>\n      <th>unit_sales</th>\n      <th>rank</th>\n    </tr>\n  </thead>\n  <tbody>\n    <tr>\n      <th>0</th>\n      <td>Beer</td>\n      <td>Wallace</td>\n      <td>988</td>\n      <td>1</td>\n    </tr>\n    <tr>\n      <th>1</th>\n      <td>Beer</td>\n      <td>Broders</td>\n      <td>641</td>\n      <td>2</td>\n    </tr>\n    <tr>\n      <th>2</th>\n      <td>Beer</td>\n      <td>Cramers</td>\n      <td>640</td>\n      <td>3</td>\n    </tr>\n    <tr>\n      <th>3</th>\n      <td>Cereal</td>\n      <td>Broders</td>\n      <td>1104</td>\n      <td>1</td>\n    </tr>\n    <tr>\n      <th>4</th>\n      <td>Cereal</td>\n      <td>Cramers</td>\n      <td>1003</td>\n      <td>2</td>\n    </tr>\n    <tr>\n      <th>5</th>\n      <td>Cereal</td>\n      <td>Wallace</td>\n      <td>980</td>\n      <td>3</td>\n    </tr>\n    <tr>\n      <th>6</th>\n      <td>Ice Cream</td>\n      <td>Broders</td>\n      <td>2517</td>\n      <td>1</td>\n    </tr>\n    <tr>\n      <th>7</th>\n      <td>Ice Cream</td>\n      <td>Cramers</td>\n      <td>2112</td>\n      <td>2</td>\n    </tr>\n    <tr>\n      <th>8</th>\n      <td>Ice Cream</td>\n      <td>Wallace</td>\n      <td>1863</td>\n      <td>3</td>\n    </tr>\n  </tbody>\n</table>\n</div>"
     },
     "metadata": {},
     "execution_count": 39
    }
   ],
   "source": [
    "# Ranking within subroups with PARTITION BY\n",
    "query = \"\"\"\n",
    "SELECT \n",
    "    category,\n",
    "    store,\n",
    "    unit_sales,\n",
    "    RANK() OVER(PARTITION BY category ORDER BY unit_sales DESC)\n",
    "FROM store_sales\n",
    "\"\"\"\n",
    "\n",
    "execute_query(conn, query)"
   ]
  },
  {
   "source": [
    "For the next part of the chapter, we look at using rates as opposed to simple raw counts for comparisons across different measures. To do so, a table titled, \"fbi_crime_data_2015\" was created. Please see the book documentation for more details."
   ],
   "cell_type": "markdown",
   "metadata": {}
  },
  {
   "cell_type": "code",
   "execution_count": 40,
   "metadata": {},
   "outputs": [
    {
     "output_type": "execute_result",
     "data": {
      "text/plain": [
       "            city                    st  population  property_crime pc_per_1000\n",
       "0         Tucson               Arizona      529675           35185        66.4\n",
       "1  San Francisco            California      863782           53019        61.4\n",
       "2    Albuquerque            New Mexico      559721           33993        60.7\n",
       "3        Memphis             Tennessee      657936           37047        56.3\n",
       "4        Seattle            Washington      683700           37754        55.2\n",
       "5    San Antonio                 Texas     1463586           73611        50.3\n",
       "6      Baltimore              Maryland      621252           30941        49.8\n",
       "7   Indianapolis               Indiana      863675           41377        47.9\n",
       "8     Washington  District of Columbia      672228           30359        45.2\n",
       "9        Houston                 Texas     2275221          100053        44.0"
      ],
      "text/html": "<div>\n<style scoped>\n    .dataframe tbody tr th:only-of-type {\n        vertical-align: middle;\n    }\n\n    .dataframe tbody tr th {\n        vertical-align: top;\n    }\n\n    .dataframe thead th {\n        text-align: right;\n    }\n</style>\n<table border=\"1\" class=\"dataframe\">\n  <thead>\n    <tr style=\"text-align: right;\">\n      <th></th>\n      <th>city</th>\n      <th>st</th>\n      <th>population</th>\n      <th>property_crime</th>\n      <th>pc_per_1000</th>\n    </tr>\n  </thead>\n  <tbody>\n    <tr>\n      <th>0</th>\n      <td>Tucson</td>\n      <td>Arizona</td>\n      <td>529675</td>\n      <td>35185</td>\n      <td>66.4</td>\n    </tr>\n    <tr>\n      <th>1</th>\n      <td>San Francisco</td>\n      <td>California</td>\n      <td>863782</td>\n      <td>53019</td>\n      <td>61.4</td>\n    </tr>\n    <tr>\n      <th>2</th>\n      <td>Albuquerque</td>\n      <td>New Mexico</td>\n      <td>559721</td>\n      <td>33993</td>\n      <td>60.7</td>\n    </tr>\n    <tr>\n      <th>3</th>\n      <td>Memphis</td>\n      <td>Tennessee</td>\n      <td>657936</td>\n      <td>37047</td>\n      <td>56.3</td>\n    </tr>\n    <tr>\n      <th>4</th>\n      <td>Seattle</td>\n      <td>Washington</td>\n      <td>683700</td>\n      <td>37754</td>\n      <td>55.2</td>\n    </tr>\n    <tr>\n      <th>5</th>\n      <td>San Antonio</td>\n      <td>Texas</td>\n      <td>1463586</td>\n      <td>73611</td>\n      <td>50.3</td>\n    </tr>\n    <tr>\n      <th>6</th>\n      <td>Baltimore</td>\n      <td>Maryland</td>\n      <td>621252</td>\n      <td>30941</td>\n      <td>49.8</td>\n    </tr>\n    <tr>\n      <th>7</th>\n      <td>Indianapolis</td>\n      <td>Indiana</td>\n      <td>863675</td>\n      <td>41377</td>\n      <td>47.9</td>\n    </tr>\n    <tr>\n      <th>8</th>\n      <td>Washington</td>\n      <td>District of Columbia</td>\n      <td>672228</td>\n      <td>30359</td>\n      <td>45.2</td>\n    </tr>\n    <tr>\n      <th>9</th>\n      <td>Houston</td>\n      <td>Texas</td>\n      <td>2275221</td>\n      <td>100053</td>\n      <td>44.0</td>\n    </tr>\n  </tbody>\n</table>\n</div>"
     },
     "metadata": {},
     "execution_count": 40
    }
   ],
   "source": [
    "# Calculating rates for meaningful data\n",
    "query = \"\"\"\n",
    "SELECT\n",
    "    city,\n",
    "    st,\n",
    "    population,\n",
    "    property_crime,\n",
    "    ROUND(\n",
    "        (property_crime::NUMERIC / population) * 1000, 1\n",
    "    ) AS pc_per_1000\n",
    "FROM fbi_crime_data_2015\n",
    "WHERE population >= 500000\n",
    "ORDER BY (pc_per_1000) DESC\n",
    "LIMIT 10;\n",
    "\"\"\"\n",
    "\n",
    "execute_query(conn, query)"
   ]
  },
  {
   "source": [
    "## Chapter 11: Working With Dates and Times\n",
    "\n"
   ],
   "cell_type": "markdown",
   "metadata": {}
  },
  {
   "cell_type": "code",
   "execution_count": 41,
   "metadata": {},
   "outputs": [
    {
     "output_type": "execute_result",
     "data": {
      "text/plain": [
       "   date_part  date_part  date_part  date_part  date_part  date_part  \\\n",
       "0     2019.0       12.0        1.0       18.0       37.0       12.0   \n",
       "\n",
       "   date_part  date_part  date_part     date_part  \n",
       "0       -5.0       48.0        4.0  1.575243e+09  "
      ],
      "text/html": "<div>\n<style scoped>\n    .dataframe tbody tr th:only-of-type {\n        vertical-align: middle;\n    }\n\n    .dataframe tbody tr th {\n        vertical-align: top;\n    }\n\n    .dataframe thead th {\n        text-align: right;\n    }\n</style>\n<table border=\"1\" class=\"dataframe\">\n  <thead>\n    <tr style=\"text-align: right;\">\n      <th></th>\n      <th>date_part</th>\n      <th>date_part</th>\n      <th>date_part</th>\n      <th>date_part</th>\n      <th>date_part</th>\n      <th>date_part</th>\n      <th>date_part</th>\n      <th>date_part</th>\n      <th>date_part</th>\n      <th>date_part</th>\n    </tr>\n  </thead>\n  <tbody>\n    <tr>\n      <th>0</th>\n      <td>2019.0</td>\n      <td>12.0</td>\n      <td>1.0</td>\n      <td>18.0</td>\n      <td>37.0</td>\n      <td>12.0</td>\n      <td>-5.0</td>\n      <td>48.0</td>\n      <td>4.0</td>\n      <td>1.575243e+09</td>\n    </tr>\n  </tbody>\n</table>\n</div>"
     },
     "metadata": {},
     "execution_count": 41
    }
   ],
   "source": [
    "# Using the PostgreSQL DATE_PART() function to parse through components of a timestamp value\n",
    "query = \"\"\"\n",
    "SELECT \n",
    "    DATE_PART('year', CAST('2019-12-01 18:37:12 EST' AS TIMESTAMPTZ)),\n",
    "    DATE_PART('month', CAST('2019-12-01 18:37:12 EST' AS TIMESTAMPTZ)),\n",
    "    DATE_PART('day', CAST('2019-12-01 18:37:12 EST' AS TIMESTAMPTZ)),\n",
    "    DATE_PART('hour', CAST('2019-12-01 18:37:12 EST' AS TIMESTAMPTZ)),\n",
    "    DATE_PART('minute', CAST('2019-12-01 18:37:12 EST' AS TIMESTAMPTZ)),\n",
    "    DATE_PART('seconds', CAST('2019-12-01 18:37:12 EST' AS TIMESTAMPTZ)),\n",
    "    DATE_PART('timezone_hour', CAST('2019-12-01 18:37:12 EST' AS TIMESTAMPTZ)),\n",
    "    DATE_PART('week', CAST('2019-12-01 18:37:12 EST' AS TIMESTAMPTZ)),\n",
    "    DATE_PART('quarter', CAST('2019-12-01 18:37:12 EST' AS TIMESTAMPTZ)),\n",
    "    DATE_PART('epoch', CAST('2019-12-01 18:37:12 EST' AS TIMESTAMPTZ))\n",
    "    ;\n",
    "\"\"\"\n",
    "\n",
    "execute_query(conn, query)"
   ]
  },
  {
   "cell_type": "code",
   "execution_count": 42,
   "metadata": {},
   "outputs": [
    {
     "output_type": "execute_result",
     "data": {
      "text/plain": [
       "    make_date        make_time                 make_timestamptz\n",
       "0  2018-02-22  18:04:30.300000 2018-02-22 13:04:30.300000-05:00"
      ],
      "text/html": "<div>\n<style scoped>\n    .dataframe tbody tr th:only-of-type {\n        vertical-align: middle;\n    }\n\n    .dataframe tbody tr th {\n        vertical-align: top;\n    }\n\n    .dataframe thead th {\n        text-align: right;\n    }\n</style>\n<table border=\"1\" class=\"dataframe\">\n  <thead>\n    <tr style=\"text-align: right;\">\n      <th></th>\n      <th>make_date</th>\n      <th>make_time</th>\n      <th>make_timestamptz</th>\n    </tr>\n  </thead>\n  <tbody>\n    <tr>\n      <th>0</th>\n      <td>2018-02-22</td>\n      <td>18:04:30.300000</td>\n      <td>2018-02-22 13:04:30.300000-05:00</td>\n    </tr>\n  </tbody>\n</table>\n</div>"
     },
     "metadata": {},
     "execution_count": 42
    }
   ],
   "source": [
    "# Creating Datetime values from timestamp components\n",
    "query = \"\"\"\n",
    "SELECT \n",
    "    MAKE_DATE(2018, 2, 22),\n",
    "    MAKE_TIME(18, 4, 30.3),\n",
    "    MAKE_TIMESTAMPTZ(2018, 2, 22, 18, 4, 30.3, 'Europe/Lisbon');\n",
    "\"\"\"\n",
    "\n",
    "execute_query(conn, query)"
   ]
  },
  {
   "source": [
    "For the next part of this chapter, a table titled, \"nyc_yellow_taxi_trips_2016_06_01\", was created to find patterns in datetime data. Please see the book documentation for reference."
   ],
   "cell_type": "markdown",
   "metadata": {}
  },
  {
   "cell_type": "code",
   "execution_count": 43,
   "metadata": {},
   "outputs": [
    {
     "output_type": "execute_result",
     "data": {
      "text/plain": [
       "    trip_hour  count\n",
       "0         0.0   8182\n",
       "1         1.0   5003\n",
       "2         2.0   3070\n",
       "3         3.0   2275\n",
       "4         4.0   2229\n",
       "5         5.0   3925\n",
       "6         6.0  10825\n",
       "7         7.0  18287\n",
       "8         8.0  21062\n",
       "9         9.0  18975\n",
       "10       10.0  17367\n",
       "11       11.0  17383\n",
       "12       12.0  18031\n",
       "13       13.0  17998\n",
       "14       14.0  19125\n",
       "15       15.0  18053\n",
       "16       16.0  15069\n",
       "17       17.0  18513\n",
       "18       18.0  22689\n",
       "19       19.0  23190\n",
       "20       20.0  23098\n",
       "21       21.0  24106\n",
       "22       22.0  22554\n",
       "23       23.0  17765"
      ],
      "text/html": "<div>\n<style scoped>\n    .dataframe tbody tr th:only-of-type {\n        vertical-align: middle;\n    }\n\n    .dataframe tbody tr th {\n        vertical-align: top;\n    }\n\n    .dataframe thead th {\n        text-align: right;\n    }\n</style>\n<table border=\"1\" class=\"dataframe\">\n  <thead>\n    <tr style=\"text-align: right;\">\n      <th></th>\n      <th>trip_hour</th>\n      <th>count</th>\n    </tr>\n  </thead>\n  <tbody>\n    <tr>\n      <th>0</th>\n      <td>0.0</td>\n      <td>8182</td>\n    </tr>\n    <tr>\n      <th>1</th>\n      <td>1.0</td>\n      <td>5003</td>\n    </tr>\n    <tr>\n      <th>2</th>\n      <td>2.0</td>\n      <td>3070</td>\n    </tr>\n    <tr>\n      <th>3</th>\n      <td>3.0</td>\n      <td>2275</td>\n    </tr>\n    <tr>\n      <th>4</th>\n      <td>4.0</td>\n      <td>2229</td>\n    </tr>\n    <tr>\n      <th>5</th>\n      <td>5.0</td>\n      <td>3925</td>\n    </tr>\n    <tr>\n      <th>6</th>\n      <td>6.0</td>\n      <td>10825</td>\n    </tr>\n    <tr>\n      <th>7</th>\n      <td>7.0</td>\n      <td>18287</td>\n    </tr>\n    <tr>\n      <th>8</th>\n      <td>8.0</td>\n      <td>21062</td>\n    </tr>\n    <tr>\n      <th>9</th>\n      <td>9.0</td>\n      <td>18975</td>\n    </tr>\n    <tr>\n      <th>10</th>\n      <td>10.0</td>\n      <td>17367</td>\n    </tr>\n    <tr>\n      <th>11</th>\n      <td>11.0</td>\n      <td>17383</td>\n    </tr>\n    <tr>\n      <th>12</th>\n      <td>12.0</td>\n      <td>18031</td>\n    </tr>\n    <tr>\n      <th>13</th>\n      <td>13.0</td>\n      <td>17998</td>\n    </tr>\n    <tr>\n      <th>14</th>\n      <td>14.0</td>\n      <td>19125</td>\n    </tr>\n    <tr>\n      <th>15</th>\n      <td>15.0</td>\n      <td>18053</td>\n    </tr>\n    <tr>\n      <th>16</th>\n      <td>16.0</td>\n      <td>15069</td>\n    </tr>\n    <tr>\n      <th>17</th>\n      <td>17.0</td>\n      <td>18513</td>\n    </tr>\n    <tr>\n      <th>18</th>\n      <td>18.0</td>\n      <td>22689</td>\n    </tr>\n    <tr>\n      <th>19</th>\n      <td>19.0</td>\n      <td>23190</td>\n    </tr>\n    <tr>\n      <th>20</th>\n      <td>20.0</td>\n      <td>23098</td>\n    </tr>\n    <tr>\n      <th>21</th>\n      <td>21.0</td>\n      <td>24106</td>\n    </tr>\n    <tr>\n      <th>22</th>\n      <td>22.0</td>\n      <td>22554</td>\n    </tr>\n    <tr>\n      <th>23</th>\n      <td>23.0</td>\n      <td>17765</td>\n    </tr>\n  </tbody>\n</table>\n</div>"
     },
     "metadata": {},
     "execution_count": 43
    }
   ],
   "source": [
    "# Finding the busiest time of the day\n",
    "query = \"\"\"\n",
    "SELECT\n",
    "    DATE_PART('hour', tpep_pickup_datetime) AS trip_hour,\n",
    "    COUNT(*)\n",
    "FROM nyc_yellow_taxi_trips_2016_06_01\n",
    "GROUP BY trip_hour\n",
    "ORDER BY trip_hour;\n",
    "\"\"\"\n",
    "\n",
    "execute_query(conn, query)"
   ]
  },
  {
   "source": [
    "The following part of this chapter has us exporing data for visualization. I have written and commented out the query - Note: The file path will be individual to your own local environment."
   ],
   "cell_type": "markdown",
   "metadata": {}
  },
  {
   "cell_type": "code",
   "execution_count": 44,
   "metadata": {},
   "outputs": [],
   "source": [
    "# Exporting to CSV for visualization\n",
    "# query = \"\"\"\n",
    "# COPY(\n",
    "#     SELECT\n",
    "#         DATE_PART('hour', tpep_pickup_datetime) AS trip_hour,\n",
    "#         COUNT(*)\n",
    "#     FROM nyc_yellow_taxi_trips_2016_06_01\n",
    "#     GROUP BY trip_hour\n",
    "#     ORDER BY trip_hour\n",
    "# )\n",
    "# TO 'YOUR DIRECTORY/hourly_pickups_2016_06_01.csv'\n",
    "# WITH (FORMAT CSV, HEADER, DELIMITER ',');\n",
    "\n",
    "# SELECT * FROM nyc_yellow_taxi_trips_2016_06_01 LIMIT 5;\n",
    "# \"\"\"\n",
    "\n",
    "# execute_query(conn, query)"
   ]
  },
  {
   "cell_type": "code",
   "execution_count": 45,
   "metadata": {},
   "outputs": [
    {
     "output_type": "display_data",
     "data": {
      "text/plain": "<Figure size 432x288 with 1 Axes>",
      "image/svg+xml": "<?xml version=\"1.0\" encoding=\"utf-8\" standalone=\"no\"?>\r\n<!DOCTYPE svg PUBLIC \"-//W3C//DTD SVG 1.1//EN\"\r\n  \"http://www.w3.org/Graphics/SVG/1.1/DTD/svg11.dtd\">\r\n<!-- Created with matplotlib (https://matplotlib.org/) -->\r\n<svg height=\"249.764638pt\" version=\"1.1\" viewBox=\"0 0 388.0125 249.764638\" width=\"388.0125pt\" xmlns=\"http://www.w3.org/2000/svg\" xmlns:xlink=\"http://www.w3.org/1999/xlink\">\r\n <metadata>\r\n  <rdf:RDF xmlns:cc=\"http://creativecommons.org/ns#\" xmlns:dc=\"http://purl.org/dc/elements/1.1/\" xmlns:rdf=\"http://www.w3.org/1999/02/22-rdf-syntax-ns#\">\r\n   <cc:Work>\r\n    <dc:type rdf:resource=\"http://purl.org/dc/dcmitype/StillImage\"/>\r\n    <dc:date>2021-03-18T16:21:44.822601</dc:date>\r\n    <dc:format>image/svg+xml</dc:format>\r\n    <dc:creator>\r\n     <cc:Agent>\r\n      <dc:title>Matplotlib v3.3.4, https://matplotlib.org/</dc:title>\r\n     </cc:Agent>\r\n    </dc:creator>\r\n   </cc:Work>\r\n  </rdf:RDF>\r\n </metadata>\r\n <defs>\r\n  <style type=\"text/css\">*{stroke-linecap:butt;stroke-linejoin:round;}</style>\r\n </defs>\r\n <g id=\"figure_1\">\r\n  <g id=\"patch_1\">\r\n   <path d=\"M 0 249.764638 \r\nL 388.0125 249.764638 \r\nL 388.0125 0 \r\nL 0 0 \r\nz\r\n\" style=\"fill:none;\"/>\r\n  </g>\r\n  <g id=\"axes_1\">\r\n   <g id=\"patch_2\">\r\n    <path d=\"M 46.0125 225.886513 \r\nL 380.8125 225.886513 \r\nL 380.8125 8.446513 \r\nL 46.0125 8.446513 \r\nz\r\n\" style=\"fill:#ffffff;\"/>\r\n   </g>\r\n   <g id=\"matplotlib.axis_1\">\r\n    <g id=\"xtick_1\">\r\n     <g id=\"line2d_1\">\r\n      <path clip-path=\"url(#p47c3fa9664)\" d=\"M 61.230682 225.886513 \r\nL 61.230682 8.446513 \r\n\" style=\"fill:none;stroke:#b0b0b0;stroke-linecap:square;stroke-width:0.8;\"/>\r\n     </g>\r\n     <g id=\"line2d_2\">\r\n      <defs>\r\n       <path d=\"M 0 0 \r\nL 0 3.5 \r\n\" id=\"m6f99d87696\" style=\"stroke:#000000;stroke-width:0.8;\"/>\r\n      </defs>\r\n      <g>\r\n       <use style=\"stroke:#000000;stroke-width:0.8;\" x=\"61.230682\" xlink:href=\"#m6f99d87696\" y=\"225.886513\"/>\r\n      </g>\r\n     </g>\r\n     <g id=\"text_1\">\r\n      <!-- 0 -->\r\n      <g transform=\"translate(58.049432 240.484951)scale(0.1 -0.1)\">\r\n       <defs>\r\n        <path d=\"M 31.78125 66.40625 \r\nQ 24.171875 66.40625 20.328125 58.90625 \r\nQ 16.5 51.421875 16.5 36.375 \r\nQ 16.5 21.390625 20.328125 13.890625 \r\nQ 24.171875 6.390625 31.78125 6.390625 \r\nQ 39.453125 6.390625 43.28125 13.890625 \r\nQ 47.125 21.390625 47.125 36.375 \r\nQ 47.125 51.421875 43.28125 58.90625 \r\nQ 39.453125 66.40625 31.78125 66.40625 \r\nz\r\nM 31.78125 74.21875 \r\nQ 44.046875 74.21875 50.515625 64.515625 \r\nQ 56.984375 54.828125 56.984375 36.375 \r\nQ 56.984375 17.96875 50.515625 8.265625 \r\nQ 44.046875 -1.421875 31.78125 -1.421875 \r\nQ 19.53125 -1.421875 13.0625 8.265625 \r\nQ 6.59375 17.96875 6.59375 36.375 \r\nQ 6.59375 54.828125 13.0625 64.515625 \r\nQ 19.53125 74.21875 31.78125 74.21875 \r\nz\r\n\" id=\"DejaVuSans-48\"/>\r\n       </defs>\r\n       <use xlink:href=\"#DejaVuSans-48\"/>\r\n      </g>\r\n     </g>\r\n    </g>\r\n    <g id=\"xtick_2\">\r\n     <g id=\"line2d_3\">\r\n      <path clip-path=\"url(#p47c3fa9664)\" d=\"M 127.39669 225.886513 \r\nL 127.39669 8.446513 \r\n\" style=\"fill:none;stroke:#b0b0b0;stroke-linecap:square;stroke-width:0.8;\"/>\r\n     </g>\r\n     <g id=\"line2d_4\">\r\n      <g>\r\n       <use style=\"stroke:#000000;stroke-width:0.8;\" x=\"127.39669\" xlink:href=\"#m6f99d87696\" y=\"225.886513\"/>\r\n      </g>\r\n     </g>\r\n     <g id=\"text_2\">\r\n      <!-- 5 -->\r\n      <g transform=\"translate(124.21544 240.484951)scale(0.1 -0.1)\">\r\n       <defs>\r\n        <path d=\"M 10.796875 72.90625 \r\nL 49.515625 72.90625 \r\nL 49.515625 64.59375 \r\nL 19.828125 64.59375 \r\nL 19.828125 46.734375 \r\nQ 21.96875 47.46875 24.109375 47.828125 \r\nQ 26.265625 48.1875 28.421875 48.1875 \r\nQ 40.625 48.1875 47.75 41.5 \r\nQ 54.890625 34.8125 54.890625 23.390625 \r\nQ 54.890625 11.625 47.5625 5.09375 \r\nQ 40.234375 -1.421875 26.90625 -1.421875 \r\nQ 22.3125 -1.421875 17.546875 -0.640625 \r\nQ 12.796875 0.140625 7.71875 1.703125 \r\nL 7.71875 11.625 \r\nQ 12.109375 9.234375 16.796875 8.0625 \r\nQ 21.484375 6.890625 26.703125 6.890625 \r\nQ 35.15625 6.890625 40.078125 11.328125 \r\nQ 45.015625 15.765625 45.015625 23.390625 \r\nQ 45.015625 31 40.078125 35.4375 \r\nQ 35.15625 39.890625 26.703125 39.890625 \r\nQ 22.75 39.890625 18.8125 39.015625 \r\nQ 14.890625 38.140625 10.796875 36.28125 \r\nz\r\n\" id=\"DejaVuSans-53\"/>\r\n       </defs>\r\n       <use xlink:href=\"#DejaVuSans-53\"/>\r\n      </g>\r\n     </g>\r\n    </g>\r\n    <g id=\"xtick_3\">\r\n     <g id=\"line2d_5\">\r\n      <path clip-path=\"url(#p47c3fa9664)\" d=\"M 193.562698 225.886513 \r\nL 193.562698 8.446513 \r\n\" style=\"fill:none;stroke:#b0b0b0;stroke-linecap:square;stroke-width:0.8;\"/>\r\n     </g>\r\n     <g id=\"line2d_6\">\r\n      <g>\r\n       <use style=\"stroke:#000000;stroke-width:0.8;\" x=\"193.562698\" xlink:href=\"#m6f99d87696\" y=\"225.886513\"/>\r\n      </g>\r\n     </g>\r\n     <g id=\"text_3\">\r\n      <!-- 10 -->\r\n      <g transform=\"translate(187.200198 240.484951)scale(0.1 -0.1)\">\r\n       <defs>\r\n        <path d=\"M 12.40625 8.296875 \r\nL 28.515625 8.296875 \r\nL 28.515625 63.921875 \r\nL 10.984375 60.40625 \r\nL 10.984375 69.390625 \r\nL 28.421875 72.90625 \r\nL 38.28125 72.90625 \r\nL 38.28125 8.296875 \r\nL 54.390625 8.296875 \r\nL 54.390625 0 \r\nL 12.40625 0 \r\nz\r\n\" id=\"DejaVuSans-49\"/>\r\n       </defs>\r\n       <use xlink:href=\"#DejaVuSans-49\"/>\r\n       <use x=\"63.623047\" xlink:href=\"#DejaVuSans-48\"/>\r\n      </g>\r\n     </g>\r\n    </g>\r\n    <g id=\"xtick_4\">\r\n     <g id=\"line2d_7\">\r\n      <path clip-path=\"url(#p47c3fa9664)\" d=\"M 259.728706 225.886513 \r\nL 259.728706 8.446513 \r\n\" style=\"fill:none;stroke:#b0b0b0;stroke-linecap:square;stroke-width:0.8;\"/>\r\n     </g>\r\n     <g id=\"line2d_8\">\r\n      <g>\r\n       <use style=\"stroke:#000000;stroke-width:0.8;\" x=\"259.728706\" xlink:href=\"#m6f99d87696\" y=\"225.886513\"/>\r\n      </g>\r\n     </g>\r\n     <g id=\"text_4\">\r\n      <!-- 15 -->\r\n      <g transform=\"translate(253.366206 240.484951)scale(0.1 -0.1)\">\r\n       <use xlink:href=\"#DejaVuSans-49\"/>\r\n       <use x=\"63.623047\" xlink:href=\"#DejaVuSans-53\"/>\r\n      </g>\r\n     </g>\r\n    </g>\r\n    <g id=\"xtick_5\">\r\n     <g id=\"line2d_9\">\r\n      <path clip-path=\"url(#p47c3fa9664)\" d=\"M 325.894713 225.886513 \r\nL 325.894713 8.446513 \r\n\" style=\"fill:none;stroke:#b0b0b0;stroke-linecap:square;stroke-width:0.8;\"/>\r\n     </g>\r\n     <g id=\"line2d_10\">\r\n      <g>\r\n       <use style=\"stroke:#000000;stroke-width:0.8;\" x=\"325.894713\" xlink:href=\"#m6f99d87696\" y=\"225.886513\"/>\r\n      </g>\r\n     </g>\r\n     <g id=\"text_5\">\r\n      <!-- 20 -->\r\n      <g transform=\"translate(319.532213 240.484951)scale(0.1 -0.1)\">\r\n       <defs>\r\n        <path d=\"M 19.1875 8.296875 \r\nL 53.609375 8.296875 \r\nL 53.609375 0 \r\nL 7.328125 0 \r\nL 7.328125 8.296875 \r\nQ 12.9375 14.109375 22.625 23.890625 \r\nQ 32.328125 33.6875 34.8125 36.53125 \r\nQ 39.546875 41.84375 41.421875 45.53125 \r\nQ 43.3125 49.21875 43.3125 52.78125 \r\nQ 43.3125 58.59375 39.234375 62.25 \r\nQ 35.15625 65.921875 28.609375 65.921875 \r\nQ 23.96875 65.921875 18.8125 64.3125 \r\nQ 13.671875 62.703125 7.8125 59.421875 \r\nL 7.8125 69.390625 \r\nQ 13.765625 71.78125 18.9375 73 \r\nQ 24.125 74.21875 28.421875 74.21875 \r\nQ 39.75 74.21875 46.484375 68.546875 \r\nQ 53.21875 62.890625 53.21875 53.421875 \r\nQ 53.21875 48.921875 51.53125 44.890625 \r\nQ 49.859375 40.875 45.40625 35.40625 \r\nQ 44.1875 33.984375 37.640625 27.21875 \r\nQ 31.109375 20.453125 19.1875 8.296875 \r\nz\r\n\" id=\"DejaVuSans-50\"/>\r\n       </defs>\r\n       <use xlink:href=\"#DejaVuSans-50\"/>\r\n       <use x=\"63.623047\" xlink:href=\"#DejaVuSans-48\"/>\r\n      </g>\r\n     </g>\r\n    </g>\r\n   </g>\r\n   <g id=\"matplotlib.axis_2\">\r\n    <g id=\"ytick_1\">\r\n     <g id=\"line2d_11\">\r\n      <path clip-path=\"url(#p47c3fa9664)\" d=\"M 46.0125 216.002877 \r\nL 380.8125 216.002877 \r\n\" style=\"fill:none;stroke:#b0b0b0;stroke-linecap:square;stroke-width:0.8;\"/>\r\n     </g>\r\n     <g id=\"line2d_12\">\r\n      <defs>\r\n       <path d=\"M 0 0 \r\nL -3.5 0 \r\n\" id=\"m25a1257533\" style=\"stroke:#000000;stroke-width:0.8;\"/>\r\n      </defs>\r\n      <g>\r\n       <use style=\"stroke:#000000;stroke-width:0.8;\" x=\"46.0125\" xlink:href=\"#m25a1257533\" y=\"216.002877\"/>\r\n      </g>\r\n     </g>\r\n     <g id=\"text_6\">\r\n      <!-- 0 -->\r\n      <g transform=\"translate(32.65 219.802096)scale(0.1 -0.1)\">\r\n       <use xlink:href=\"#DejaVuSans-48\"/>\r\n      </g>\r\n     </g>\r\n    </g>\r\n    <g id=\"ytick_2\">\r\n     <g id=\"line2d_13\">\r\n      <path clip-path=\"url(#p47c3fa9664)\" d=\"M 46.0125 175.002145 \r\nL 380.8125 175.002145 \r\n\" style=\"fill:none;stroke:#b0b0b0;stroke-linecap:square;stroke-width:0.8;\"/>\r\n     </g>\r\n     <g id=\"line2d_14\">\r\n      <g>\r\n       <use style=\"stroke:#000000;stroke-width:0.8;\" x=\"46.0125\" xlink:href=\"#m25a1257533\" y=\"175.002145\"/>\r\n      </g>\r\n     </g>\r\n     <g id=\"text_7\">\r\n      <!-- 5000 -->\r\n      <g transform=\"translate(13.5625 178.801364)scale(0.1 -0.1)\">\r\n       <use xlink:href=\"#DejaVuSans-53\"/>\r\n       <use x=\"63.623047\" xlink:href=\"#DejaVuSans-48\"/>\r\n       <use x=\"127.246094\" xlink:href=\"#DejaVuSans-48\"/>\r\n       <use x=\"190.869141\" xlink:href=\"#DejaVuSans-48\"/>\r\n      </g>\r\n     </g>\r\n    </g>\r\n    <g id=\"ytick_3\">\r\n     <g id=\"line2d_15\">\r\n      <path clip-path=\"url(#p47c3fa9664)\" d=\"M 46.0125 134.001414 \r\nL 380.8125 134.001414 \r\n\" style=\"fill:none;stroke:#b0b0b0;stroke-linecap:square;stroke-width:0.8;\"/>\r\n     </g>\r\n     <g id=\"line2d_16\">\r\n      <g>\r\n       <use style=\"stroke:#000000;stroke-width:0.8;\" x=\"46.0125\" xlink:href=\"#m25a1257533\" y=\"134.001414\"/>\r\n      </g>\r\n     </g>\r\n     <g id=\"text_8\">\r\n      <!-- 10000 -->\r\n      <g transform=\"translate(7.2 137.800632)scale(0.1 -0.1)\">\r\n       <use xlink:href=\"#DejaVuSans-49\"/>\r\n       <use x=\"63.623047\" xlink:href=\"#DejaVuSans-48\"/>\r\n       <use x=\"127.246094\" xlink:href=\"#DejaVuSans-48\"/>\r\n       <use x=\"190.869141\" xlink:href=\"#DejaVuSans-48\"/>\r\n       <use x=\"254.492188\" xlink:href=\"#DejaVuSans-48\"/>\r\n      </g>\r\n     </g>\r\n    </g>\r\n    <g id=\"ytick_4\">\r\n     <g id=\"line2d_17\">\r\n      <path clip-path=\"url(#p47c3fa9664)\" d=\"M 46.0125 93.000682 \r\nL 380.8125 93.000682 \r\n\" style=\"fill:none;stroke:#b0b0b0;stroke-linecap:square;stroke-width:0.8;\"/>\r\n     </g>\r\n     <g id=\"line2d_18\">\r\n      <g>\r\n       <use style=\"stroke:#000000;stroke-width:0.8;\" x=\"46.0125\" xlink:href=\"#m25a1257533\" y=\"93.000682\"/>\r\n      </g>\r\n     </g>\r\n     <g id=\"text_9\">\r\n      <!-- 15000 -->\r\n      <g transform=\"translate(7.2 96.799901)scale(0.1 -0.1)\">\r\n       <use xlink:href=\"#DejaVuSans-49\"/>\r\n       <use x=\"63.623047\" xlink:href=\"#DejaVuSans-53\"/>\r\n       <use x=\"127.246094\" xlink:href=\"#DejaVuSans-48\"/>\r\n       <use x=\"190.869141\" xlink:href=\"#DejaVuSans-48\"/>\r\n       <use x=\"254.492188\" xlink:href=\"#DejaVuSans-48\"/>\r\n      </g>\r\n     </g>\r\n    </g>\r\n    <g id=\"ytick_5\">\r\n     <g id=\"line2d_19\">\r\n      <path clip-path=\"url(#p47c3fa9664)\" d=\"M 46.0125 51.99995 \r\nL 380.8125 51.99995 \r\n\" style=\"fill:none;stroke:#b0b0b0;stroke-linecap:square;stroke-width:0.8;\"/>\r\n     </g>\r\n     <g id=\"line2d_20\">\r\n      <g>\r\n       <use style=\"stroke:#000000;stroke-width:0.8;\" x=\"46.0125\" xlink:href=\"#m25a1257533\" y=\"51.99995\"/>\r\n      </g>\r\n     </g>\r\n     <g id=\"text_10\">\r\n      <!-- 20000 -->\r\n      <g transform=\"translate(7.2 55.799169)scale(0.1 -0.1)\">\r\n       <use xlink:href=\"#DejaVuSans-50\"/>\r\n       <use x=\"63.623047\" xlink:href=\"#DejaVuSans-48\"/>\r\n       <use x=\"127.246094\" xlink:href=\"#DejaVuSans-48\"/>\r\n       <use x=\"190.869141\" xlink:href=\"#DejaVuSans-48\"/>\r\n       <use x=\"254.492188\" xlink:href=\"#DejaVuSans-48\"/>\r\n      </g>\r\n     </g>\r\n    </g>\r\n    <g id=\"ytick_6\">\r\n     <g id=\"line2d_21\">\r\n      <path clip-path=\"url(#p47c3fa9664)\" d=\"M 46.0125 10.999219 \r\nL 380.8125 10.999219 \r\n\" style=\"fill:none;stroke:#b0b0b0;stroke-linecap:square;stroke-width:0.8;\"/>\r\n     </g>\r\n     <g id=\"line2d_22\">\r\n      <g>\r\n       <use style=\"stroke:#000000;stroke-width:0.8;\" x=\"46.0125\" xlink:href=\"#m25a1257533\" y=\"10.999219\"/>\r\n      </g>\r\n     </g>\r\n     <g id=\"text_11\">\r\n      <!-- 25000 -->\r\n      <g transform=\"translate(7.2 14.798437)scale(0.1 -0.1)\">\r\n       <use xlink:href=\"#DejaVuSans-50\"/>\r\n       <use x=\"63.623047\" xlink:href=\"#DejaVuSans-53\"/>\r\n       <use x=\"127.246094\" xlink:href=\"#DejaVuSans-48\"/>\r\n       <use x=\"190.869141\" xlink:href=\"#DejaVuSans-48\"/>\r\n       <use x=\"254.492188\" xlink:href=\"#DejaVuSans-48\"/>\r\n      </g>\r\n     </g>\r\n    </g>\r\n   </g>\r\n   <g id=\"line2d_23\">\r\n    <path clip-path=\"url(#p47c3fa9664)\" d=\"M 61.230682 216.002877 \r\nL 74.463883 215.994677 \r\nL 87.697085 215.986477 \r\nL 100.930287 215.978276 \r\nL 114.163488 215.970076 \r\nL 127.39669 215.961876 \r\nL 140.629891 215.953676 \r\nL 153.863093 215.945476 \r\nL 167.096294 215.937276 \r\nL 180.329496 215.929076 \r\nL 193.562698 215.920875 \r\nL 206.795899 215.912675 \r\nL 220.029101 215.904475 \r\nL 233.262302 215.896275 \r\nL 246.495504 215.888075 \r\nL 259.728706 215.879875 \r\nL 272.961907 215.871674 \r\nL 286.195109 215.863474 \r\nL 299.42831 215.855274 \r\nL 312.661512 215.847074 \r\nL 325.894713 215.838874 \r\nL 339.127915 215.830674 \r\nL 352.361117 215.822474 \r\nL 365.594318 215.814273 \r\n\" style=\"fill:none;stroke:#1f77b4;stroke-linecap:square;stroke-width:1.5;\"/>\r\n    <defs>\r\n     <path d=\"M 0 1.5 \r\nC 0.397805 1.5 0.77937 1.341951 1.06066 1.06066 \r\nC 1.341951 0.77937 1.5 0.397805 1.5 0 \r\nC 1.5 -0.397805 1.341951 -0.77937 1.06066 -1.06066 \r\nC 0.77937 -1.341951 0.397805 -1.5 0 -1.5 \r\nC -0.397805 -1.5 -0.77937 -1.341951 -1.06066 -1.06066 \r\nC -1.341951 -0.77937 -1.5 -0.397805 -1.5 0 \r\nC -1.5 0.397805 -1.341951 0.77937 -1.06066 1.06066 \r\nC -0.77937 1.341951 -0.397805 1.5 0 1.5 \r\nz\r\n\" id=\"m9eac990b45\" style=\"stroke:#1f77b4;\"/>\r\n    </defs>\r\n    <g clip-path=\"url(#p47c3fa9664)\">\r\n     <use style=\"fill:#1f77b4;stroke:#1f77b4;\" x=\"61.230682\" xlink:href=\"#m9eac990b45\" y=\"216.002877\"/>\r\n     <use style=\"fill:#1f77b4;stroke:#1f77b4;\" x=\"74.463883\" xlink:href=\"#m9eac990b45\" y=\"215.994677\"/>\r\n     <use style=\"fill:#1f77b4;stroke:#1f77b4;\" x=\"87.697085\" xlink:href=\"#m9eac990b45\" y=\"215.986477\"/>\r\n     <use style=\"fill:#1f77b4;stroke:#1f77b4;\" x=\"100.930287\" xlink:href=\"#m9eac990b45\" y=\"215.978276\"/>\r\n     <use style=\"fill:#1f77b4;stroke:#1f77b4;\" x=\"114.163488\" xlink:href=\"#m9eac990b45\" y=\"215.970076\"/>\r\n     <use style=\"fill:#1f77b4;stroke:#1f77b4;\" x=\"127.39669\" xlink:href=\"#m9eac990b45\" y=\"215.961876\"/>\r\n     <use style=\"fill:#1f77b4;stroke:#1f77b4;\" x=\"140.629891\" xlink:href=\"#m9eac990b45\" y=\"215.953676\"/>\r\n     <use style=\"fill:#1f77b4;stroke:#1f77b4;\" x=\"153.863093\" xlink:href=\"#m9eac990b45\" y=\"215.945476\"/>\r\n     <use style=\"fill:#1f77b4;stroke:#1f77b4;\" x=\"167.096294\" xlink:href=\"#m9eac990b45\" y=\"215.937276\"/>\r\n     <use style=\"fill:#1f77b4;stroke:#1f77b4;\" x=\"180.329496\" xlink:href=\"#m9eac990b45\" y=\"215.929076\"/>\r\n     <use style=\"fill:#1f77b4;stroke:#1f77b4;\" x=\"193.562698\" xlink:href=\"#m9eac990b45\" y=\"215.920875\"/>\r\n     <use style=\"fill:#1f77b4;stroke:#1f77b4;\" x=\"206.795899\" xlink:href=\"#m9eac990b45\" y=\"215.912675\"/>\r\n     <use style=\"fill:#1f77b4;stroke:#1f77b4;\" x=\"220.029101\" xlink:href=\"#m9eac990b45\" y=\"215.904475\"/>\r\n     <use style=\"fill:#1f77b4;stroke:#1f77b4;\" x=\"233.262302\" xlink:href=\"#m9eac990b45\" y=\"215.896275\"/>\r\n     <use style=\"fill:#1f77b4;stroke:#1f77b4;\" x=\"246.495504\" xlink:href=\"#m9eac990b45\" y=\"215.888075\"/>\r\n     <use style=\"fill:#1f77b4;stroke:#1f77b4;\" x=\"259.728706\" xlink:href=\"#m9eac990b45\" y=\"215.879875\"/>\r\n     <use style=\"fill:#1f77b4;stroke:#1f77b4;\" x=\"272.961907\" xlink:href=\"#m9eac990b45\" y=\"215.871674\"/>\r\n     <use style=\"fill:#1f77b4;stroke:#1f77b4;\" x=\"286.195109\" xlink:href=\"#m9eac990b45\" y=\"215.863474\"/>\r\n     <use style=\"fill:#1f77b4;stroke:#1f77b4;\" x=\"299.42831\" xlink:href=\"#m9eac990b45\" y=\"215.855274\"/>\r\n     <use style=\"fill:#1f77b4;stroke:#1f77b4;\" x=\"312.661512\" xlink:href=\"#m9eac990b45\" y=\"215.847074\"/>\r\n     <use style=\"fill:#1f77b4;stroke:#1f77b4;\" x=\"325.894713\" xlink:href=\"#m9eac990b45\" y=\"215.838874\"/>\r\n     <use style=\"fill:#1f77b4;stroke:#1f77b4;\" x=\"339.127915\" xlink:href=\"#m9eac990b45\" y=\"215.830674\"/>\r\n     <use style=\"fill:#1f77b4;stroke:#1f77b4;\" x=\"352.361117\" xlink:href=\"#m9eac990b45\" y=\"215.822474\"/>\r\n     <use style=\"fill:#1f77b4;stroke:#1f77b4;\" x=\"365.594318\" xlink:href=\"#m9eac990b45\" y=\"215.814273\"/>\r\n    </g>\r\n   </g>\r\n   <g id=\"line2d_24\">\r\n    <path clip-path=\"url(#p47c3fa9664)\" d=\"M 61.230682 148.90928 \r\nL 74.463883 174.977545 \r\nL 87.697085 190.828428 \r\nL 100.930287 197.347544 \r\nL 114.163488 197.724751 \r\nL 127.39669 183.817303 \r\nL 140.629891 127.236293 \r\nL 153.863093 66.046801 \r\nL 167.096294 43.291395 \r\nL 180.329496 60.4051 \r\nL 193.562698 73.590936 \r\nL 206.795899 73.459733 \r\nL 220.029101 68.146038 \r\nL 233.262302 68.416643 \r\nL 246.495504 59.175078 \r\nL 259.728706 67.965635 \r\nL 272.961907 92.434872 \r\nL 286.195109 64.193568 \r\nL 299.42831 29.949757 \r\nL 312.661512 25.841484 \r\nL 325.894713 26.595897 \r\nL 339.127915 18.33015 \r\nL 352.361117 31.056777 \r\nL 365.594318 70.327277 \r\n\" style=\"fill:none;stroke:#ff7f0e;stroke-linecap:square;stroke-width:1.5;\"/>\r\n    <defs>\r\n     <path d=\"M 0 1.5 \r\nC 0.397805 1.5 0.77937 1.341951 1.06066 1.06066 \r\nC 1.341951 0.77937 1.5 0.397805 1.5 0 \r\nC 1.5 -0.397805 1.341951 -0.77937 1.06066 -1.06066 \r\nC 0.77937 -1.341951 0.397805 -1.5 0 -1.5 \r\nC -0.397805 -1.5 -0.77937 -1.341951 -1.06066 -1.06066 \r\nC -1.341951 -0.77937 -1.5 -0.397805 -1.5 0 \r\nC -1.5 0.397805 -1.341951 0.77937 -1.06066 1.06066 \r\nC -0.77937 1.341951 -0.397805 1.5 0 1.5 \r\nz\r\n\" id=\"m8ec4234870\" style=\"stroke:#ff7f0e;\"/>\r\n    </defs>\r\n    <g clip-path=\"url(#p47c3fa9664)\">\r\n     <use style=\"fill:#ff7f0e;stroke:#ff7f0e;\" x=\"61.230682\" xlink:href=\"#m8ec4234870\" y=\"148.90928\"/>\r\n     <use style=\"fill:#ff7f0e;stroke:#ff7f0e;\" x=\"74.463883\" xlink:href=\"#m8ec4234870\" y=\"174.977545\"/>\r\n     <use style=\"fill:#ff7f0e;stroke:#ff7f0e;\" x=\"87.697085\" xlink:href=\"#m8ec4234870\" y=\"190.828428\"/>\r\n     <use style=\"fill:#ff7f0e;stroke:#ff7f0e;\" x=\"100.930287\" xlink:href=\"#m8ec4234870\" y=\"197.347544\"/>\r\n     <use style=\"fill:#ff7f0e;stroke:#ff7f0e;\" x=\"114.163488\" xlink:href=\"#m8ec4234870\" y=\"197.724751\"/>\r\n     <use style=\"fill:#ff7f0e;stroke:#ff7f0e;\" x=\"127.39669\" xlink:href=\"#m8ec4234870\" y=\"183.817303\"/>\r\n     <use style=\"fill:#ff7f0e;stroke:#ff7f0e;\" x=\"140.629891\" xlink:href=\"#m8ec4234870\" y=\"127.236293\"/>\r\n     <use style=\"fill:#ff7f0e;stroke:#ff7f0e;\" x=\"153.863093\" xlink:href=\"#m8ec4234870\" y=\"66.046801\"/>\r\n     <use style=\"fill:#ff7f0e;stroke:#ff7f0e;\" x=\"167.096294\" xlink:href=\"#m8ec4234870\" y=\"43.291395\"/>\r\n     <use style=\"fill:#ff7f0e;stroke:#ff7f0e;\" x=\"180.329496\" xlink:href=\"#m8ec4234870\" y=\"60.4051\"/>\r\n     <use style=\"fill:#ff7f0e;stroke:#ff7f0e;\" x=\"193.562698\" xlink:href=\"#m8ec4234870\" y=\"73.590936\"/>\r\n     <use style=\"fill:#ff7f0e;stroke:#ff7f0e;\" x=\"206.795899\" xlink:href=\"#m8ec4234870\" y=\"73.459733\"/>\r\n     <use style=\"fill:#ff7f0e;stroke:#ff7f0e;\" x=\"220.029101\" xlink:href=\"#m8ec4234870\" y=\"68.146038\"/>\r\n     <use style=\"fill:#ff7f0e;stroke:#ff7f0e;\" x=\"233.262302\" xlink:href=\"#m8ec4234870\" y=\"68.416643\"/>\r\n     <use style=\"fill:#ff7f0e;stroke:#ff7f0e;\" x=\"246.495504\" xlink:href=\"#m8ec4234870\" y=\"59.175078\"/>\r\n     <use style=\"fill:#ff7f0e;stroke:#ff7f0e;\" x=\"259.728706\" xlink:href=\"#m8ec4234870\" y=\"67.965635\"/>\r\n     <use style=\"fill:#ff7f0e;stroke:#ff7f0e;\" x=\"272.961907\" xlink:href=\"#m8ec4234870\" y=\"92.434872\"/>\r\n     <use style=\"fill:#ff7f0e;stroke:#ff7f0e;\" x=\"286.195109\" xlink:href=\"#m8ec4234870\" y=\"64.193568\"/>\r\n     <use style=\"fill:#ff7f0e;stroke:#ff7f0e;\" x=\"299.42831\" xlink:href=\"#m8ec4234870\" y=\"29.949757\"/>\r\n     <use style=\"fill:#ff7f0e;stroke:#ff7f0e;\" x=\"312.661512\" xlink:href=\"#m8ec4234870\" y=\"25.841484\"/>\r\n     <use style=\"fill:#ff7f0e;stroke:#ff7f0e;\" x=\"325.894713\" xlink:href=\"#m8ec4234870\" y=\"26.595897\"/>\r\n     <use style=\"fill:#ff7f0e;stroke:#ff7f0e;\" x=\"339.127915\" xlink:href=\"#m8ec4234870\" y=\"18.33015\"/>\r\n     <use style=\"fill:#ff7f0e;stroke:#ff7f0e;\" x=\"352.361117\" xlink:href=\"#m8ec4234870\" y=\"31.056777\"/>\r\n     <use style=\"fill:#ff7f0e;stroke:#ff7f0e;\" x=\"365.594318\" xlink:href=\"#m8ec4234870\" y=\"70.327277\"/>\r\n    </g>\r\n   </g>\r\n   <g id=\"patch_3\">\r\n    <path d=\"M 46.0125 225.886513 \r\nL 46.0125 8.446513 \r\n\" style=\"fill:none;stroke:#000000;stroke-linecap:square;stroke-linejoin:miter;stroke-width:0.8;\"/>\r\n   </g>\r\n   <g id=\"patch_4\">\r\n    <path d=\"M 380.8125 225.886513 \r\nL 380.8125 8.446513 \r\n\" style=\"fill:none;stroke:#000000;stroke-linecap:square;stroke-linejoin:miter;stroke-width:0.8;\"/>\r\n   </g>\r\n   <g id=\"patch_5\">\r\n    <path d=\"M 46.0125 225.886513 \r\nL 380.8125 225.886513 \r\n\" style=\"fill:none;stroke:#000000;stroke-linecap:square;stroke-linejoin:miter;stroke-width:0.8;\"/>\r\n   </g>\r\n   <g id=\"patch_6\">\r\n    <path d=\"M 46.0125 8.446513 \r\nL 380.8125 8.446513 \r\n\" style=\"fill:none;stroke:#000000;stroke-linecap:square;stroke-linejoin:miter;stroke-width:0.8;\"/>\r\n   </g>\r\n  </g>\r\n </g>\r\n <defs>\r\n  <clipPath id=\"p47c3fa9664\">\r\n   <rect height=\"217.44\" width=\"334.8\" x=\"46.0125\" y=\"8.446513\"/>\r\n  </clipPath>\r\n </defs>\r\n</svg>\r\n",
      "image/png": "[encoded data removed]"
     },
     "metadata": {
      "needs_background": "light"
     }
    }
   ],
   "source": [
    "taxi_data = pd.read_csv('C:/Users/Asus/Desktop/SQL_Practice/exports/hourly_pickups_2016_06_01.csv')\n",
    "taxi_plot = plt.plot(taxi_data, marker= \".\")\n",
    "plt.grid()\n",
    "plt.show()"
   ]
  },
  {
   "cell_type": "code",
   "execution_count": 46,
   "metadata": {},
   "outputs": [
    {
     "output_type": "execute_result",
     "data": {
      "text/plain": [
       "    trip_hour     median_trip\n",
       "0         0.0 0 days 00:10:04\n",
       "1         1.0 0 days 00:09:27\n",
       "2         2.0 0 days 00:08:59\n",
       "3         3.0 0 days 00:09:57\n",
       "4         4.0 0 days 00:10:06\n",
       "5         5.0 0 days 00:07:37\n",
       "6         6.0 0 days 00:07:54\n",
       "7         7.0 0 days 00:10:23\n",
       "8         8.0 0 days 00:12:28\n",
       "9         9.0 0 days 00:13:11\n",
       "10       10.0 0 days 00:13:46\n",
       "11       11.0 0 days 00:14:20\n",
       "12       12.0 0 days 00:14:49\n",
       "13       13.0 0 days 00:15:00\n",
       "14       14.0 0 days 00:14:35\n",
       "15       15.0 0 days 00:14:43\n",
       "16       16.0 0 days 00:14:42\n",
       "17       17.0 0 days 00:14:15\n",
       "18       18.0 0 days 00:13:19\n",
       "19       19.0 0 days 00:12:25\n",
       "20       20.0 0 days 00:11:46\n",
       "21       21.0 0 days 00:11:54\n",
       "22       22.0 0 days 00:11:37\n",
       "23       23.0 0 days 00:11:14"
      ],
      "text/html": "<div>\n<style scoped>\n    .dataframe tbody tr th:only-of-type {\n        vertical-align: middle;\n    }\n\n    .dataframe tbody tr th {\n        vertical-align: top;\n    }\n\n    .dataframe thead th {\n        text-align: right;\n    }\n</style>\n<table border=\"1\" class=\"dataframe\">\n  <thead>\n    <tr style=\"text-align: right;\">\n      <th></th>\n      <th>trip_hour</th>\n      <th>median_trip</th>\n    </tr>\n  </thead>\n  <tbody>\n    <tr>\n      <th>0</th>\n      <td>0.0</td>\n      <td>0 days 00:10:04</td>\n    </tr>\n    <tr>\n      <th>1</th>\n      <td>1.0</td>\n      <td>0 days 00:09:27</td>\n    </tr>\n    <tr>\n      <th>2</th>\n      <td>2.0</td>\n      <td>0 days 00:08:59</td>\n    </tr>\n    <tr>\n      <th>3</th>\n      <td>3.0</td>\n      <td>0 days 00:09:57</td>\n    </tr>\n    <tr>\n      <th>4</th>\n      <td>4.0</td>\n      <td>0 days 00:10:06</td>\n    </tr>\n    <tr>\n      <th>5</th>\n      <td>5.0</td>\n      <td>0 days 00:07:37</td>\n    </tr>\n    <tr>\n      <th>6</th>\n      <td>6.0</td>\n      <td>0 days 00:07:54</td>\n    </tr>\n    <tr>\n      <th>7</th>\n      <td>7.0</td>\n      <td>0 days 00:10:23</td>\n    </tr>\n    <tr>\n      <th>8</th>\n      <td>8.0</td>\n      <td>0 days 00:12:28</td>\n    </tr>\n    <tr>\n      <th>9</th>\n      <td>9.0</td>\n      <td>0 days 00:13:11</td>\n    </tr>\n    <tr>\n      <th>10</th>\n      <td>10.0</td>\n      <td>0 days 00:13:46</td>\n    </tr>\n    <tr>\n      <th>11</th>\n      <td>11.0</td>\n      <td>0 days 00:14:20</td>\n    </tr>\n    <tr>\n      <th>12</th>\n      <td>12.0</td>\n      <td>0 days 00:14:49</td>\n    </tr>\n    <tr>\n      <th>13</th>\n      <td>13.0</td>\n      <td>0 days 00:15:00</td>\n    </tr>\n    <tr>\n      <th>14</th>\n      <td>14.0</td>\n      <td>0 days 00:14:35</td>\n    </tr>\n    <tr>\n      <th>15</th>\n      <td>15.0</td>\n      <td>0 days 00:14:43</td>\n    </tr>\n    <tr>\n      <th>16</th>\n      <td>16.0</td>\n      <td>0 days 00:14:42</td>\n    </tr>\n    <tr>\n      <th>17</th>\n      <td>17.0</td>\n      <td>0 days 00:14:15</td>\n    </tr>\n    <tr>\n      <th>18</th>\n      <td>18.0</td>\n      <td>0 days 00:13:19</td>\n    </tr>\n    <tr>\n      <th>19</th>\n      <td>19.0</td>\n      <td>0 days 00:12:25</td>\n    </tr>\n    <tr>\n      <th>20</th>\n      <td>20.0</td>\n      <td>0 days 00:11:46</td>\n    </tr>\n    <tr>\n      <th>21</th>\n      <td>21.0</td>\n      <td>0 days 00:11:54</td>\n    </tr>\n    <tr>\n      <th>22</th>\n      <td>22.0</td>\n      <td>0 days 00:11:37</td>\n    </tr>\n    <tr>\n      <th>23</th>\n      <td>23.0</td>\n      <td>0 days 00:11:14</td>\n    </tr>\n  </tbody>\n</table>\n</div>"
     },
     "metadata": {},
     "execution_count": 46
    }
   ],
   "source": [
    "# When do taxi trips take the longest?\n",
    "query = \"\"\"\n",
    "SELECT \n",
    "    DATE_PART('hour', tpep_pickup_datetime) AS trip_hour,\n",
    "    PERCENTILE_CONT(.5)\n",
    "        WITHIN GROUP (ORDER BY \n",
    "            tpep_dropoff_datetime - tpep_pickup_datetime) AS median_trip\n",
    "FROM nyc_yellow_taxi_trips_2016_06_01\n",
    "GROUP BY trip_hour\n",
    "ORDER BY trip_hour;\n",
    "\"\"\"\n",
    "\n",
    "execute_query(conn, query)"
   ]
  },
  {
   "source": [
    "For the next part of this chapter, data from the Amtrak website was used to create a table titiled \"train_rides\". For more information, please refer to the Practical SQL book documentation."
   ],
   "cell_type": "markdown",
   "metadata": {}
  },
  {
   "cell_type": "code",
   "execution_count": 47,
   "metadata": {},
   "outputs": [
    {
     "output_type": "execute_result",
     "data": {
      "text/plain": [
       "   trip_id                       segment                 departure  \\\n",
       "0        1           Chicago to New York 2017-11-13 22:30:00-05:00   \n",
       "1        2       New York to New Orleans 2017-11-15 14:15:00-05:00   \n",
       "2        3    New Orleans to Los Angeles 2017-11-17 14:45:00-05:00   \n",
       "3        4  Los Angeles to San Francisco 2017-11-19 13:10:00-05:00   \n",
       "4        5       San Francisco to Denver 2017-11-20 12:10:00-05:00   \n",
       "5        6             Denver to Chicago 2017-11-22 21:10:00-05:00   \n",
       "\n",
       "                    arrival  \n",
       "0 2017-11-14 18:23:00-05:00  \n",
       "1 2017-11-16 20:32:00-05:00  \n",
       "2 2017-11-18 12:00:00-05:00  \n",
       "3 2017-11-20 00:24:00-05:00  \n",
       "4 2017-11-21 20:38:00-05:00  \n",
       "5 2017-11-23 15:50:00-05:00  "
      ],
      "text/html": "<div>\n<style scoped>\n    .dataframe tbody tr th:only-of-type {\n        vertical-align: middle;\n    }\n\n    .dataframe tbody tr th {\n        vertical-align: top;\n    }\n\n    .dataframe thead th {\n        text-align: right;\n    }\n</style>\n<table border=\"1\" class=\"dataframe\">\n  <thead>\n    <tr style=\"text-align: right;\">\n      <th></th>\n      <th>trip_id</th>\n      <th>segment</th>\n      <th>departure</th>\n      <th>arrival</th>\n    </tr>\n  </thead>\n  <tbody>\n    <tr>\n      <th>0</th>\n      <td>1</td>\n      <td>Chicago to New York</td>\n      <td>2017-11-13 22:30:00-05:00</td>\n      <td>2017-11-14 18:23:00-05:00</td>\n    </tr>\n    <tr>\n      <th>1</th>\n      <td>2</td>\n      <td>New York to New Orleans</td>\n      <td>2017-11-15 14:15:00-05:00</td>\n      <td>2017-11-16 20:32:00-05:00</td>\n    </tr>\n    <tr>\n      <th>2</th>\n      <td>3</td>\n      <td>New Orleans to Los Angeles</td>\n      <td>2017-11-17 14:45:00-05:00</td>\n      <td>2017-11-18 12:00:00-05:00</td>\n    </tr>\n    <tr>\n      <th>3</th>\n      <td>4</td>\n      <td>Los Angeles to San Francisco</td>\n      <td>2017-11-19 13:10:00-05:00</td>\n      <td>2017-11-20 00:24:00-05:00</td>\n    </tr>\n    <tr>\n      <th>4</th>\n      <td>5</td>\n      <td>San Francisco to Denver</td>\n      <td>2017-11-20 12:10:00-05:00</td>\n      <td>2017-11-21 20:38:00-05:00</td>\n    </tr>\n    <tr>\n      <th>5</th>\n      <td>6</td>\n      <td>Denver to Chicago</td>\n      <td>2017-11-22 21:10:00-05:00</td>\n      <td>2017-11-23 15:50:00-05:00</td>\n    </tr>\n  </tbody>\n</table>\n</div>"
     },
     "metadata": {},
     "execution_count": 47
    }
   ],
   "source": [
    "query = \" SELECT * FROM train_rides;\"\n",
    "\n",
    "execute_query(conn, query)"
   ]
  },
  {
   "cell_type": "code",
   "execution_count": 48,
   "metadata": {},
   "outputs": [
    {
     "output_type": "execute_result",
     "data": {
      "text/plain": [
       "                        segment                  departure    segment_time\n",
       "0           Chicago to New York  2017-11-13 10:30 p.m. EST 0 days 19:53:00\n",
       "1       New York to New Orleans  2017-11-15 02:15 p.m. EST 1 days 06:17:00\n",
       "2    New Orleans to Los Angeles  2017-11-17 02:45 p.m. EST 0 days 21:15:00\n",
       "3  Los Angeles to San Francisco  2017-11-19 01:10 p.m. EST 0 days 11:14:00\n",
       "4       San Francisco to Denver  2017-11-20 12:10 p.m. EST 1 days 08:28:00\n",
       "5             Denver to Chicago  2017-11-22 09:10 p.m. EST 0 days 18:40:00"
      ],
      "text/html": "<div>\n<style scoped>\n    .dataframe tbody tr th:only-of-type {\n        vertical-align: middle;\n    }\n\n    .dataframe tbody tr th {\n        vertical-align: top;\n    }\n\n    .dataframe thead th {\n        text-align: right;\n    }\n</style>\n<table border=\"1\" class=\"dataframe\">\n  <thead>\n    <tr style=\"text-align: right;\">\n      <th></th>\n      <th>segment</th>\n      <th>departure</th>\n      <th>segment_time</th>\n    </tr>\n  </thead>\n  <tbody>\n    <tr>\n      <th>0</th>\n      <td>Chicago to New York</td>\n      <td>2017-11-13 10:30 p.m. EST</td>\n      <td>0 days 19:53:00</td>\n    </tr>\n    <tr>\n      <th>1</th>\n      <td>New York to New Orleans</td>\n      <td>2017-11-15 02:15 p.m. EST</td>\n      <td>1 days 06:17:00</td>\n    </tr>\n    <tr>\n      <th>2</th>\n      <td>New Orleans to Los Angeles</td>\n      <td>2017-11-17 02:45 p.m. EST</td>\n      <td>0 days 21:15:00</td>\n    </tr>\n    <tr>\n      <th>3</th>\n      <td>Los Angeles to San Francisco</td>\n      <td>2017-11-19 01:10 p.m. EST</td>\n      <td>0 days 11:14:00</td>\n    </tr>\n    <tr>\n      <th>4</th>\n      <td>San Francisco to Denver</td>\n      <td>2017-11-20 12:10 p.m. EST</td>\n      <td>1 days 08:28:00</td>\n    </tr>\n    <tr>\n      <th>5</th>\n      <td>Denver to Chicago</td>\n      <td>2017-11-22 09:10 p.m. EST</td>\n      <td>0 days 18:40:00</td>\n    </tr>\n  </tbody>\n</table>\n</div>"
     },
     "metadata": {},
     "execution_count": 48
    }
   ],
   "source": [
    "# Calculating the length of each leg of the trip in our train_rides table\n",
    "query = \"\"\"\n",
    "SELECT segment,\n",
    "    TO_CHAR(departure, 'YYYY-MM-DD HH12:MI a.m. TZ') AS departure,\n",
    "    arrival - departure AS segment_time\n",
    "FROM train_rides;\n",
    "\"\"\"\n",
    "\n",
    "execute_query(conn, query)"
   ]
  },
  {
   "cell_type": "code",
   "execution_count": 49,
   "metadata": {},
   "outputs": [
    {
     "output_type": "execute_result",
     "data": {
      "text/plain": [
       "                        segment    segment_time cumulative_time\n",
       "0           Chicago to New York 0 days 19:53:00 0 days 19:53:00\n",
       "1       New York to New Orleans 1 days 06:17:00 2 days 02:10:00\n",
       "2    New Orleans to Los Angeles 0 days 21:15:00 2 days 23:25:00\n",
       "3  Los Angeles to San Francisco 0 days 11:14:00 3 days 10:39:00\n",
       "4       San Francisco to Denver 1 days 08:28:00 4 days 19:07:00\n",
       "5             Denver to Chicago 0 days 18:40:00 5 days 13:47:00"
      ],
      "text/html": "<div>\n<style scoped>\n    .dataframe tbody tr th:only-of-type {\n        vertical-align: middle;\n    }\n\n    .dataframe tbody tr th {\n        vertical-align: top;\n    }\n\n    .dataframe thead th {\n        text-align: right;\n    }\n</style>\n<table border=\"1\" class=\"dataframe\">\n  <thead>\n    <tr style=\"text-align: right;\">\n      <th></th>\n      <th>segment</th>\n      <th>segment_time</th>\n      <th>cumulative_time</th>\n    </tr>\n  </thead>\n  <tbody>\n    <tr>\n      <th>0</th>\n      <td>Chicago to New York</td>\n      <td>0 days 19:53:00</td>\n      <td>0 days 19:53:00</td>\n    </tr>\n    <tr>\n      <th>1</th>\n      <td>New York to New Orleans</td>\n      <td>1 days 06:17:00</td>\n      <td>2 days 02:10:00</td>\n    </tr>\n    <tr>\n      <th>2</th>\n      <td>New Orleans to Los Angeles</td>\n      <td>0 days 21:15:00</td>\n      <td>2 days 23:25:00</td>\n    </tr>\n    <tr>\n      <th>3</th>\n      <td>Los Angeles to San Francisco</td>\n      <td>0 days 11:14:00</td>\n      <td>3 days 10:39:00</td>\n    </tr>\n    <tr>\n      <th>4</th>\n      <td>San Francisco to Denver</td>\n      <td>1 days 08:28:00</td>\n      <td>4 days 19:07:00</td>\n    </tr>\n    <tr>\n      <th>5</th>\n      <td>Denver to Chicago</td>\n      <td>0 days 18:40:00</td>\n      <td>5 days 13:47:00</td>\n    </tr>\n  </tbody>\n</table>\n</div>"
     },
     "metadata": {},
     "execution_count": 49
    }
   ],
   "source": [
    "# Calculating cumulative trip time\n",
    "query = \"\"\"\n",
    "SELECT\n",
    "    segment,\n",
    "    arrival - departure AS segment_time,\n",
    "    SUM(arrival - departure) OVER(ORDER BY trip_id) AS cumulative_time\n",
    "FROM train_rides;\n",
    "\"\"\"\n",
    "\n",
    "execute_query(conn, query)"
   ]
  },
  {
   "source": [
    "## Chapter 12: Advanced Query Techniques"
   ],
   "cell_type": "markdown",
   "metadata": {}
  },
  {
   "cell_type": "code",
   "execution_count": 50,
   "metadata": {},
   "outputs": [
    {
     "output_type": "execute_result",
     "data": {
      "text/plain": [
       "               geo_name state_us_abbreviation  p0010001\n",
       "0    Los Angeles County                    CA   9818605\n",
       "1           Cook County                    IL   5194675\n",
       "2         Harris County                    TX   4092459\n",
       "3       Maricopa County                    AZ   3817117\n",
       "4      San Diego County                    CA   3095313\n",
       "..                  ...                   ...       ...\n",
       "310    St. Louis County                    MN    200226\n",
       "311       Mohave County                    AZ    200186\n",
       "312      Saginaw County                    MI    200169\n",
       "313      Elkhart County                    IN    197559\n",
       "314     Sangamon County                    IL    197465\n",
       "\n",
       "[315 rows x 3 columns]"
      ],
      "text/html": "<div>\n<style scoped>\n    .dataframe tbody tr th:only-of-type {\n        vertical-align: middle;\n    }\n\n    .dataframe tbody tr th {\n        vertical-align: top;\n    }\n\n    .dataframe thead th {\n        text-align: right;\n    }\n</style>\n<table border=\"1\" class=\"dataframe\">\n  <thead>\n    <tr style=\"text-align: right;\">\n      <th></th>\n      <th>geo_name</th>\n      <th>state_us_abbreviation</th>\n      <th>p0010001</th>\n    </tr>\n  </thead>\n  <tbody>\n    <tr>\n      <th>0</th>\n      <td>Los Angeles County</td>\n      <td>CA</td>\n      <td>9818605</td>\n    </tr>\n    <tr>\n      <th>1</th>\n      <td>Cook County</td>\n      <td>IL</td>\n      <td>5194675</td>\n    </tr>\n    <tr>\n      <th>2</th>\n      <td>Harris County</td>\n      <td>TX</td>\n      <td>4092459</td>\n    </tr>\n    <tr>\n      <th>3</th>\n      <td>Maricopa County</td>\n      <td>AZ</td>\n      <td>3817117</td>\n    </tr>\n    <tr>\n      <th>4</th>\n      <td>San Diego County</td>\n      <td>CA</td>\n      <td>3095313</td>\n    </tr>\n    <tr>\n      <th>...</th>\n      <td>...</td>\n      <td>...</td>\n      <td>...</td>\n    </tr>\n    <tr>\n      <th>310</th>\n      <td>St. Louis County</td>\n      <td>MN</td>\n      <td>200226</td>\n    </tr>\n    <tr>\n      <th>311</th>\n      <td>Mohave County</td>\n      <td>AZ</td>\n      <td>200186</td>\n    </tr>\n    <tr>\n      <th>312</th>\n      <td>Saginaw County</td>\n      <td>MI</td>\n      <td>200169</td>\n    </tr>\n    <tr>\n      <th>313</th>\n      <td>Elkhart County</td>\n      <td>IN</td>\n      <td>197559</td>\n    </tr>\n    <tr>\n      <th>314</th>\n      <td>Sangamon County</td>\n      <td>IL</td>\n      <td>197465</td>\n    </tr>\n  </tbody>\n</table>\n<p>315 rows × 3 columns</p>\n</div>"
     },
     "metadata": {},
     "execution_count": 50
    }
   ],
   "source": [
    "# Filtering with subqueries in the WHERE clause - using a previously created US Counties table to calculate which U.S. counties are at the 90th percentile for population\n",
    "query = \"\"\"\n",
    "SELECT geo_name,\n",
    "    state_us_abbreviation,\n",
    "    p0010001\n",
    "FROM us_counties_2010\n",
    "WHERE p0010001 >= (\n",
    "    SELECT PERCENTILE_CONT(.9) WITHIN GROUP (ORDER BY p0010001)\n",
    "    FROM us_counties_2010\n",
    ")\n",
    "ORDER BY p0010001 DESC;\n",
    "\"\"\"\n",
    "\n",
    "execute_query(conn, query)"
   ]
  },
  {
   "cell_type": "code",
   "execution_count": 51,
   "metadata": {},
   "outputs": [
    {
     "output_type": "execute_result",
     "data": {
      "text/plain": [
       "  average   median median_average_diff\n",
       "0   98233  25857.0               72376"
      ],
      "text/html": "<div>\n<style scoped>\n    .dataframe tbody tr th:only-of-type {\n        vertical-align: middle;\n    }\n\n    .dataframe tbody tr th {\n        vertical-align: top;\n    }\n\n    .dataframe thead th {\n        text-align: right;\n    }\n</style>\n<table border=\"1\" class=\"dataframe\">\n  <thead>\n    <tr style=\"text-align: right;\">\n      <th></th>\n      <th>average</th>\n      <th>median</th>\n      <th>median_average_diff</th>\n    </tr>\n  </thead>\n  <tbody>\n    <tr>\n      <th>0</th>\n      <td>98233</td>\n      <td>25857.0</td>\n      <td>72376</td>\n    </tr>\n  </tbody>\n</table>\n</div>"
     },
     "metadata": {},
     "execution_count": 51
    }
   ],
   "source": [
    "# Creating derived tables with subqueries - here we use a derived subtable to figure out the mean and median of a population in one query\n",
    "query = \"\"\"\n",
    "SELECT ROUND(calcs.average, 0) AS average,\n",
    "    calcs.median,\n",
    "    ROUND(calcs.average - calcs.median, 0) AS median_average_diff\n",
    "FROM (\n",
    "    SELECT avg(p0010001) AS average,\n",
    "    CAST(PERCENTILE_CONT(0.5)\n",
    "        WITHIN GROUP (ORDER BY p0010001) AS NUMERIC(10,1)) AS median\n",
    "    FROM us_counties_2010\n",
    ") AS calcs;\n",
    "\"\"\"\n",
    "\n",
    "execute_query(conn, query)"
   ]
  },
  {
   "cell_type": "code",
   "execution_count": 52,
   "metadata": {},
   "outputs": [
    {
     "output_type": "execute_result",
     "data": {
      "text/plain": [
       "    st  st_population  plant_count plants_per_million\n",
       "0   NE        1826341          110               60.2\n",
       "1   IA        3046355          149               48.9\n",
       "2   VT         625741           27               43.1\n",
       "3   HI        1360301           47               34.6\n",
       "4   ND         672591           22               32.7\n",
       "5   WI        5686986          185               32.5\n",
       "6   MN        5303925          161               30.4\n",
       "7   AR        2915918           87               29.8\n",
       "8   SD         814180           24               29.5\n",
       "9   PA       12702379          364               28.7\n",
       "10  NJ        8791894          244               27.8\n",
       "11  IL       12830632          348               27.1\n",
       "12  MO        5988927          158               26.4\n",
       "13  UT        2763885           71               25.7\n",
       "14  RI        1052567           27               25.7\n",
       "15  KY        4339367          110               25.3\n",
       "16  DE         897934           22               24.5\n",
       "17  KS        2853118           69               24.2\n",
       "18  ID        1567582           38               24.2\n",
       "19  CO        5029196          121               24.1\n",
       "20  AK         710231           17               23.9\n",
       "21  MS        2967297           69               23.3\n",
       "22  MT         989415           23               23.2\n",
       "23  OR        3831074           86               22.4\n",
       "24  NC        9535483          212               22.2\n",
       "25  GA        9687653          206               21.3\n",
       "26  WA        6724540          139               20.7\n",
       "27  AL        4779736           94               19.7\n",
       "28  ME        1328361           24               18.1\n",
       "29  CA       37253956          666               17.9\n",
       "30  NY       19378102          346               17.9\n",
       "31  MI        9883640          177               17.9\n",
       "32  TN        6346105          113               17.8\n",
       "33  FL       18801310          322               17.1\n",
       "34  OH       11536504          186               16.1\n",
       "35  OK        3751351           59               15.7\n",
       "36  TX       25145561          387               15.4\n",
       "37  CT        3574097           55               15.4\n",
       "38  MA        6547629          101               15.4\n",
       "39  VA        8001024          111               13.9\n",
       "40  NH        1316470           18               13.7\n",
       "41  NM        2059179           28               13.6\n",
       "42  NV        2700551           35               13.0\n",
       "43  MD        5773552           75               13.0\n",
       "44  IN        6483802           82               12.6\n",
       "45  WV        1852994           23               12.4\n",
       "46  SC        4625364           55               11.9\n",
       "47  LA        4533372           49               10.8\n",
       "48  AZ        6392017           37                5.8\n",
       "49  DC         601723            2                3.3\n",
       "50  WY         563626            1                1.8"
      ],
      "text/html": "<div>\n<style scoped>\n    .dataframe tbody tr th:only-of-type {\n        vertical-align: middle;\n    }\n\n    .dataframe tbody tr th {\n        vertical-align: top;\n    }\n\n    .dataframe thead th {\n        text-align: right;\n    }\n</style>\n<table border=\"1\" class=\"dataframe\">\n  <thead>\n    <tr style=\"text-align: right;\">\n      <th></th>\n      <th>st</th>\n      <th>st_population</th>\n      <th>plant_count</th>\n      <th>plants_per_million</th>\n    </tr>\n  </thead>\n  <tbody>\n    <tr>\n      <th>0</th>\n      <td>NE</td>\n      <td>1826341</td>\n      <td>110</td>\n      <td>60.2</td>\n    </tr>\n    <tr>\n      <th>1</th>\n      <td>IA</td>\n      <td>3046355</td>\n      <td>149</td>\n      <td>48.9</td>\n    </tr>\n    <tr>\n      <th>2</th>\n      <td>VT</td>\n      <td>625741</td>\n      <td>27</td>\n      <td>43.1</td>\n    </tr>\n    <tr>\n      <th>3</th>\n      <td>HI</td>\n      <td>1360301</td>\n      <td>47</td>\n      <td>34.6</td>\n    </tr>\n    <tr>\n      <th>4</th>\n      <td>ND</td>\n      <td>672591</td>\n      <td>22</td>\n      <td>32.7</td>\n    </tr>\n    <tr>\n      <th>5</th>\n      <td>WI</td>\n      <td>5686986</td>\n      <td>185</td>\n      <td>32.5</td>\n    </tr>\n    <tr>\n      <th>6</th>\n      <td>MN</td>\n      <td>5303925</td>\n      <td>161</td>\n      <td>30.4</td>\n    </tr>\n    <tr>\n      <th>7</th>\n      <td>AR</td>\n      <td>2915918</td>\n      <td>87</td>\n      <td>29.8</td>\n    </tr>\n    <tr>\n      <th>8</th>\n      <td>SD</td>\n      <td>814180</td>\n      <td>24</td>\n      <td>29.5</td>\n    </tr>\n    <tr>\n      <th>9</th>\n      <td>PA</td>\n      <td>12702379</td>\n      <td>364</td>\n      <td>28.7</td>\n    </tr>\n    <tr>\n      <th>10</th>\n      <td>NJ</td>\n      <td>8791894</td>\n      <td>244</td>\n      <td>27.8</td>\n    </tr>\n    <tr>\n      <th>11</th>\n      <td>IL</td>\n      <td>12830632</td>\n      <td>348</td>\n      <td>27.1</td>\n    </tr>\n    <tr>\n      <th>12</th>\n      <td>MO</td>\n      <td>5988927</td>\n      <td>158</td>\n      <td>26.4</td>\n    </tr>\n    <tr>\n      <th>13</th>\n      <td>UT</td>\n      <td>2763885</td>\n      <td>71</td>\n      <td>25.7</td>\n    </tr>\n    <tr>\n      <th>14</th>\n      <td>RI</td>\n      <td>1052567</td>\n      <td>27</td>\n      <td>25.7</td>\n    </tr>\n    <tr>\n      <th>15</th>\n      <td>KY</td>\n      <td>4339367</td>\n      <td>110</td>\n      <td>25.3</td>\n    </tr>\n    <tr>\n      <th>16</th>\n      <td>DE</td>\n      <td>897934</td>\n      <td>22</td>\n      <td>24.5</td>\n    </tr>\n    <tr>\n      <th>17</th>\n      <td>KS</td>\n      <td>2853118</td>\n      <td>69</td>\n      <td>24.2</td>\n    </tr>\n    <tr>\n      <th>18</th>\n      <td>ID</td>\n      <td>1567582</td>\n      <td>38</td>\n      <td>24.2</td>\n    </tr>\n    <tr>\n      <th>19</th>\n      <td>CO</td>\n      <td>5029196</td>\n      <td>121</td>\n      <td>24.1</td>\n    </tr>\n    <tr>\n      <th>20</th>\n      <td>AK</td>\n      <td>710231</td>\n      <td>17</td>\n      <td>23.9</td>\n    </tr>\n    <tr>\n      <th>21</th>\n      <td>MS</td>\n      <td>2967297</td>\n      <td>69</td>\n      <td>23.3</td>\n    </tr>\n    <tr>\n      <th>22</th>\n      <td>MT</td>\n      <td>989415</td>\n      <td>23</td>\n      <td>23.2</td>\n    </tr>\n    <tr>\n      <th>23</th>\n      <td>OR</td>\n      <td>3831074</td>\n      <td>86</td>\n      <td>22.4</td>\n    </tr>\n    <tr>\n      <th>24</th>\n      <td>NC</td>\n      <td>9535483</td>\n      <td>212</td>\n      <td>22.2</td>\n    </tr>\n    <tr>\n      <th>25</th>\n      <td>GA</td>\n      <td>9687653</td>\n      <td>206</td>\n      <td>21.3</td>\n    </tr>\n    <tr>\n      <th>26</th>\n      <td>WA</td>\n      <td>6724540</td>\n      <td>139</td>\n      <td>20.7</td>\n    </tr>\n    <tr>\n      <th>27</th>\n      <td>AL</td>\n      <td>4779736</td>\n      <td>94</td>\n      <td>19.7</td>\n    </tr>\n    <tr>\n      <th>28</th>\n      <td>ME</td>\n      <td>1328361</td>\n      <td>24</td>\n      <td>18.1</td>\n    </tr>\n    <tr>\n      <th>29</th>\n      <td>CA</td>\n      <td>37253956</td>\n      <td>666</td>\n      <td>17.9</td>\n    </tr>\n    <tr>\n      <th>30</th>\n      <td>NY</td>\n      <td>19378102</td>\n      <td>346</td>\n      <td>17.9</td>\n    </tr>\n    <tr>\n      <th>31</th>\n      <td>MI</td>\n      <td>9883640</td>\n      <td>177</td>\n      <td>17.9</td>\n    </tr>\n    <tr>\n      <th>32</th>\n      <td>TN</td>\n      <td>6346105</td>\n      <td>113</td>\n      <td>17.8</td>\n    </tr>\n    <tr>\n      <th>33</th>\n      <td>FL</td>\n      <td>18801310</td>\n      <td>322</td>\n      <td>17.1</td>\n    </tr>\n    <tr>\n      <th>34</th>\n      <td>OH</td>\n      <td>11536504</td>\n      <td>186</td>\n      <td>16.1</td>\n    </tr>\n    <tr>\n      <th>35</th>\n      <td>OK</td>\n      <td>3751351</td>\n      <td>59</td>\n      <td>15.7</td>\n    </tr>\n    <tr>\n      <th>36</th>\n      <td>TX</td>\n      <td>25145561</td>\n      <td>387</td>\n      <td>15.4</td>\n    </tr>\n    <tr>\n      <th>37</th>\n      <td>CT</td>\n      <td>3574097</td>\n      <td>55</td>\n      <td>15.4</td>\n    </tr>\n    <tr>\n      <th>38</th>\n      <td>MA</td>\n      <td>6547629</td>\n      <td>101</td>\n      <td>15.4</td>\n    </tr>\n    <tr>\n      <th>39</th>\n      <td>VA</td>\n      <td>8001024</td>\n      <td>111</td>\n      <td>13.9</td>\n    </tr>\n    <tr>\n      <th>40</th>\n      <td>NH</td>\n      <td>1316470</td>\n      <td>18</td>\n      <td>13.7</td>\n    </tr>\n    <tr>\n      <th>41</th>\n      <td>NM</td>\n      <td>2059179</td>\n      <td>28</td>\n      <td>13.6</td>\n    </tr>\n    <tr>\n      <th>42</th>\n      <td>NV</td>\n      <td>2700551</td>\n      <td>35</td>\n      <td>13.0</td>\n    </tr>\n    <tr>\n      <th>43</th>\n      <td>MD</td>\n      <td>5773552</td>\n      <td>75</td>\n      <td>13.0</td>\n    </tr>\n    <tr>\n      <th>44</th>\n      <td>IN</td>\n      <td>6483802</td>\n      <td>82</td>\n      <td>12.6</td>\n    </tr>\n    <tr>\n      <th>45</th>\n      <td>WV</td>\n      <td>1852994</td>\n      <td>23</td>\n      <td>12.4</td>\n    </tr>\n    <tr>\n      <th>46</th>\n      <td>SC</td>\n      <td>4625364</td>\n      <td>55</td>\n      <td>11.9</td>\n    </tr>\n    <tr>\n      <th>47</th>\n      <td>LA</td>\n      <td>4533372</td>\n      <td>49</td>\n      <td>10.8</td>\n    </tr>\n    <tr>\n      <th>48</th>\n      <td>AZ</td>\n      <td>6392017</td>\n      <td>37</td>\n      <td>5.8</td>\n    </tr>\n    <tr>\n      <th>49</th>\n      <td>DC</td>\n      <td>601723</td>\n      <td>2</td>\n      <td>3.3</td>\n    </tr>\n    <tr>\n      <th>50</th>\n      <td>WY</td>\n      <td>563626</td>\n      <td>1</td>\n      <td>1.8</td>\n    </tr>\n  </tbody>\n</table>\n</div>"
     },
     "metadata": {},
     "execution_count": 52
    }
   ],
   "source": [
    "# Joining derived tables - here we try to determine which states have the most meat, egg, and poultry processing plants per million population\n",
    "query = \"\"\"\n",
    "SELECT census.state_us_abbreviation AS st,\n",
    "    census.st_population,\n",
    "    plants.plant_count,\n",
    "    ROUND((plants.plant_count / CAST(census.st_population AS NUMERIC(10,1))) * 1000000, 1)\n",
    "        AS plants_per_million\n",
    "FROM (\n",
    "    SELECT st,\n",
    "        COUNT(*) as plant_count\n",
    "    FROM meat_poultry_egg_inspect\n",
    "    GROUP BY st\n",
    ") AS plants\n",
    "JOIN (\n",
    "    SELECT state_us_abbreviation,\n",
    "        SUM(p0010001) AS st_population\n",
    "    FROM us_counties_2010\n",
    "    GROUP BY state_us_abbreviation\n",
    ") AS census\n",
    "ON plants.st = census.state_us_abbreviation\n",
    "ORDER BY plants_per_million DESC;\n",
    "\"\"\"\n",
    "\n",
    "execute_query(conn, query)"
   ]
  },
  {
   "cell_type": "code",
   "execution_count": 53,
   "metadata": {},
   "outputs": [
    {
     "output_type": "execute_result",
     "data": {
      "text/plain": [
       "               geo_name  st  total_pop  us_median\n",
       "0        Autauga County  AL      54571    25857.0\n",
       "1        Baldwin County  AL     182265    25857.0\n",
       "2        Barbour County  AL      27457    25857.0\n",
       "3           Bibb County  AL      22915    25857.0\n",
       "4         Blount County  AL      57322    25857.0\n",
       "...                 ...  ..        ...        ...\n",
       "3138  Sweetwater County  WY      43806    25857.0\n",
       "3139       Teton County  WY      21294    25857.0\n",
       "3140       Uinta County  WY      21118    25857.0\n",
       "3141    Washakie County  WY       8533    25857.0\n",
       "3142      Weston County  WY       7208    25857.0\n",
       "\n",
       "[3143 rows x 4 columns]"
      ],
      "text/html": "<div>\n<style scoped>\n    .dataframe tbody tr th:only-of-type {\n        vertical-align: middle;\n    }\n\n    .dataframe tbody tr th {\n        vertical-align: top;\n    }\n\n    .dataframe thead th {\n        text-align: right;\n    }\n</style>\n<table border=\"1\" class=\"dataframe\">\n  <thead>\n    <tr style=\"text-align: right;\">\n      <th></th>\n      <th>geo_name</th>\n      <th>st</th>\n      <th>total_pop</th>\n      <th>us_median</th>\n    </tr>\n  </thead>\n  <tbody>\n    <tr>\n      <th>0</th>\n      <td>Autauga County</td>\n      <td>AL</td>\n      <td>54571</td>\n      <td>25857.0</td>\n    </tr>\n    <tr>\n      <th>1</th>\n      <td>Baldwin County</td>\n      <td>AL</td>\n      <td>182265</td>\n      <td>25857.0</td>\n    </tr>\n    <tr>\n      <th>2</th>\n      <td>Barbour County</td>\n      <td>AL</td>\n      <td>27457</td>\n      <td>25857.0</td>\n    </tr>\n    <tr>\n      <th>3</th>\n      <td>Bibb County</td>\n      <td>AL</td>\n      <td>22915</td>\n      <td>25857.0</td>\n    </tr>\n    <tr>\n      <th>4</th>\n      <td>Blount County</td>\n      <td>AL</td>\n      <td>57322</td>\n      <td>25857.0</td>\n    </tr>\n    <tr>\n      <th>...</th>\n      <td>...</td>\n      <td>...</td>\n      <td>...</td>\n      <td>...</td>\n    </tr>\n    <tr>\n      <th>3138</th>\n      <td>Sweetwater County</td>\n      <td>WY</td>\n      <td>43806</td>\n      <td>25857.0</td>\n    </tr>\n    <tr>\n      <th>3139</th>\n      <td>Teton County</td>\n      <td>WY</td>\n      <td>21294</td>\n      <td>25857.0</td>\n    </tr>\n    <tr>\n      <th>3140</th>\n      <td>Uinta County</td>\n      <td>WY</td>\n      <td>21118</td>\n      <td>25857.0</td>\n    </tr>\n    <tr>\n      <th>3141</th>\n      <td>Washakie County</td>\n      <td>WY</td>\n      <td>8533</td>\n      <td>25857.0</td>\n    </tr>\n    <tr>\n      <th>3142</th>\n      <td>Weston County</td>\n      <td>WY</td>\n      <td>7208</td>\n      <td>25857.0</td>\n    </tr>\n  </tbody>\n</table>\n<p>3143 rows × 4 columns</p>\n</div>"
     },
     "metadata": {},
     "execution_count": 53
    }
   ],
   "source": [
    "# Generating columns with subqueries - adding in the median of all counties to each row\n",
    "query = \"\"\"\n",
    "SELECT geo_name,\n",
    "    state_us_abbreviation AS st,\n",
    "    p0010001 AS total_pop,\n",
    "    (SELECT PERCENTILE_CONT(0.5) WITHIN GROUP (ORDER BY p0010001)\n",
    "        FROM us_counties_2010) AS us_median\n",
    "FROM us_counties_2010;\n",
    "\"\"\"\n",
    "\n",
    "execute_query(conn, query)"
   ]
  },
  {
   "cell_type": "code",
   "execution_count": 54,
   "metadata": {},
   "outputs": [
    {
     "output_type": "execute_result",
     "data": {
      "text/plain": [
       "           geo_name  st  total_pop  us_median  diff_from_median\n",
       "0   Cherokee County  AL      25989    25857.0             132.0\n",
       "1     Clarke County  AL      25833    25857.0             -24.0\n",
       "2     Geneva County  AL      26790    25857.0             933.0\n",
       "3   Cleburne County  AR      25970    25857.0             113.0\n",
       "4    Johnson County  AR      25540    25857.0            -317.0\n",
       "..              ...  ..        ...        ...               ...\n",
       "66       Lee County  VA      25587    25857.0            -270.0\n",
       "67  Winchester city  VA      26203    25857.0             346.0\n",
       "68     Mingo County  WV      26839    25857.0             982.0\n",
       "69  Nicholas County  WV      26233    25857.0             376.0\n",
       "70    Juneau County  WI      26664    25857.0             807.0\n",
       "\n",
       "[71 rows x 5 columns]"
      ],
      "text/html": "<div>\n<style scoped>\n    .dataframe tbody tr th:only-of-type {\n        vertical-align: middle;\n    }\n\n    .dataframe tbody tr th {\n        vertical-align: top;\n    }\n\n    .dataframe thead th {\n        text-align: right;\n    }\n</style>\n<table border=\"1\" class=\"dataframe\">\n  <thead>\n    <tr style=\"text-align: right;\">\n      <th></th>\n      <th>geo_name</th>\n      <th>st</th>\n      <th>total_pop</th>\n      <th>us_median</th>\n      <th>diff_from_median</th>\n    </tr>\n  </thead>\n  <tbody>\n    <tr>\n      <th>0</th>\n      <td>Cherokee County</td>\n      <td>AL</td>\n      <td>25989</td>\n      <td>25857.0</td>\n      <td>132.0</td>\n    </tr>\n    <tr>\n      <th>1</th>\n      <td>Clarke County</td>\n      <td>AL</td>\n      <td>25833</td>\n      <td>25857.0</td>\n      <td>-24.0</td>\n    </tr>\n    <tr>\n      <th>2</th>\n      <td>Geneva County</td>\n      <td>AL</td>\n      <td>26790</td>\n      <td>25857.0</td>\n      <td>933.0</td>\n    </tr>\n    <tr>\n      <th>3</th>\n      <td>Cleburne County</td>\n      <td>AR</td>\n      <td>25970</td>\n      <td>25857.0</td>\n      <td>113.0</td>\n    </tr>\n    <tr>\n      <th>4</th>\n      <td>Johnson County</td>\n      <td>AR</td>\n      <td>25540</td>\n      <td>25857.0</td>\n      <td>-317.0</td>\n    </tr>\n    <tr>\n      <th>...</th>\n      <td>...</td>\n      <td>...</td>\n      <td>...</td>\n      <td>...</td>\n      <td>...</td>\n    </tr>\n    <tr>\n      <th>66</th>\n      <td>Lee County</td>\n      <td>VA</td>\n      <td>25587</td>\n      <td>25857.0</td>\n      <td>-270.0</td>\n    </tr>\n    <tr>\n      <th>67</th>\n      <td>Winchester city</td>\n      <td>VA</td>\n      <td>26203</td>\n      <td>25857.0</td>\n      <td>346.0</td>\n    </tr>\n    <tr>\n      <th>68</th>\n      <td>Mingo County</td>\n      <td>WV</td>\n      <td>26839</td>\n      <td>25857.0</td>\n      <td>982.0</td>\n    </tr>\n    <tr>\n      <th>69</th>\n      <td>Nicholas County</td>\n      <td>WV</td>\n      <td>26233</td>\n      <td>25857.0</td>\n      <td>376.0</td>\n    </tr>\n    <tr>\n      <th>70</th>\n      <td>Juneau County</td>\n      <td>WI</td>\n      <td>26664</td>\n      <td>25857.0</td>\n      <td>807.0</td>\n    </tr>\n  </tbody>\n</table>\n<p>71 rows × 5 columns</p>\n</div>"
     },
     "metadata": {},
     "execution_count": 54
    }
   ],
   "source": [
    "# Now we elaborate on the previous query to see the difference between each counties population and the median\n",
    "query = \"\"\"\n",
    "SELECT geo_name,\n",
    "    state_us_abbreviation AS st,\n",
    "    p0010001 AS total_pop,\n",
    "    (SELECT PERCENTILE_CONT(0.5) WITHIN GROUP (ORDER BY p0010001)\n",
    "        FROM us_counties_2010) AS us_median,\n",
    "    p0010001 - (SELECT PERCENTILE_CONT(0.5) WITHIN GROUP (ORDER BY P0010001) FROM us_counties_2010) AS diff_from_median\n",
    "FROM us_counties_2010\n",
    "WHERE (p0010001 - (SELECT PERCENTILE_CONT(0.5) WITHIN GROUP (ORDER BY P0010001) FROM us_counties_2010))\n",
    "    BETWEEN -1000 AND 1000;\n",
    "\"\"\"\n",
    "\n",
    "execute_query(conn, query)"
   ]
  },
  {
   "source": [
    "Using subqueries as expressions to filter rows\n",
    "\n",
    "Generating Values for the IN operator\n",
    "\n",
    "    SELECT first_name, last_name\n",
    "    FROM employees\n",
    "    WHERE id IN (\n",
    "        SELECT id\n",
    "        FROM retirees\n",
    "    );\n",
    "\n",
    "Checking whether values exist\n",
    "\n",
    "    SELECT first_name, last_name\n",
    "    FROM employees\n",
    "    WHERE EXISTS (\n",
    "        SELECT id\n",
    "        FROM retirees\n",
    "    );\n",
    "\n",
    "Or we could instead mimic the behavior of IN and limit names to where the subquery after EXISTS finds at least one corresponding id value in retirees.\n",
    "\n",
    "    SELECT first_name, last_name\n",
    "    FROM employees\n",
    "    WHERE EXISTS(\n",
    "        SELECT id\n",
    "        FROM retirees\n",
    "        WHERE id = employees.id\n",
    "    )"
   ],
   "cell_type": "markdown",
   "metadata": {}
  },
  {
   "source": [
    "**Common Table Expressions (CTE)** \n",
    "\n",
    "Another approach to creating temporary tables for querying. Informally called a \"WITH\" clause, this method defines one or more tables up front with subqueries that we can then query in the main query that follows.\n",
    "CTE's help with the following things:\n",
    "- Prestaging subsets of data to feed into a larger query for more complex analysis.\n",
    "- CTE's make code more readable than performing subqueries.\n",
    "- CTE's simplify queries with redundant code."
   ],
   "cell_type": "markdown",
   "metadata": {}
  },
  {
   "cell_type": "code",
   "execution_count": 55,
   "metadata": {},
   "outputs": [
    {
     "output_type": "execute_result",
     "data": {
      "text/plain": [
       "   st  count\n",
       "0  TX     39\n",
       "1  CA     35\n",
       "2  FL     33\n",
       "3  PA     31\n",
       "4  NY     28"
      ],
      "text/html": "<div>\n<style scoped>\n    .dataframe tbody tr th:only-of-type {\n        vertical-align: middle;\n    }\n\n    .dataframe tbody tr th {\n        vertical-align: top;\n    }\n\n    .dataframe thead th {\n        text-align: right;\n    }\n</style>\n<table border=\"1\" class=\"dataframe\">\n  <thead>\n    <tr style=\"text-align: right;\">\n      <th></th>\n      <th>st</th>\n      <th>count</th>\n    </tr>\n  </thead>\n  <tbody>\n    <tr>\n      <th>0</th>\n      <td>TX</td>\n      <td>39</td>\n    </tr>\n    <tr>\n      <th>1</th>\n      <td>CA</td>\n      <td>35</td>\n    </tr>\n    <tr>\n      <th>2</th>\n      <td>FL</td>\n      <td>33</td>\n    </tr>\n    <tr>\n      <th>3</th>\n      <td>PA</td>\n      <td>31</td>\n    </tr>\n    <tr>\n      <th>4</th>\n      <td>NY</td>\n      <td>28</td>\n    </tr>\n  </tbody>\n</table>\n</div>"
     },
     "metadata": {},
     "execution_count": 55
    }
   ],
   "source": [
    "# A simple CTE based on our census data that determines how many counties in each state have 100k people or more\n",
    "query = \"\"\"\n",
    "WITH\n",
    "    large_counties (geo_name, st, p0010001)\n",
    "AS (\n",
    "    SELECT geo_name, state_us_abbreviation, p0010001\n",
    "    FROM us_counties_2010\n",
    "    WHERE p0010001 >= 100000\n",
    ")\n",
    "SELECT st, COUNT(*)\n",
    "FROM large_counties\n",
    "GROUP BY st\n",
    "ORDER BY COUNT(*) DESC\n",
    "LIMIT 5;\n",
    "\"\"\"\n",
    "\n",
    "execute_query(conn, query)"
   ]
  },
  {
   "source": [
    "**Cross Tabulations**\n",
    "\n",
    "Often called Pivot Tables or Crosstabs. just tables that compare sets of variables. \n",
    "\n",
    "First we must install the 'tablefunc' module by running the following query:\n",
    "\n",
    "    'CREATE EXTENSION tablefunc;'\n",
    "\n",
    "For the follwoing part of the chapter, a table titled 'ice_cream_survey' was created to practice Crosstabs. Please refer to the book documentation for more information."
   ],
   "cell_type": "markdown",
   "metadata": {}
  },
  {
   "cell_type": "code",
   "execution_count": 56,
   "metadata": {},
   "outputs": [
    {
     "output_type": "execute_result",
     "data": {
      "text/plain": [
       "     office  chocolate  strawberry  vanilla\n",
       "0  Downtown         23        32.0       19\n",
       "1   Midtown         41         NaN       23\n",
       "2    Uptown         22        17.0       23"
      ],
      "text/html": "<div>\n<style scoped>\n    .dataframe tbody tr th:only-of-type {\n        vertical-align: middle;\n    }\n\n    .dataframe tbody tr th {\n        vertical-align: top;\n    }\n\n    .dataframe thead th {\n        text-align: right;\n    }\n</style>\n<table border=\"1\" class=\"dataframe\">\n  <thead>\n    <tr style=\"text-align: right;\">\n      <th></th>\n      <th>office</th>\n      <th>chocolate</th>\n      <th>strawberry</th>\n      <th>vanilla</th>\n    </tr>\n  </thead>\n  <tbody>\n    <tr>\n      <th>0</th>\n      <td>Downtown</td>\n      <td>23</td>\n      <td>32.0</td>\n      <td>19</td>\n    </tr>\n    <tr>\n      <th>1</th>\n      <td>Midtown</td>\n      <td>41</td>\n      <td>NaN</td>\n      <td>23</td>\n    </tr>\n    <tr>\n      <th>2</th>\n      <td>Uptown</td>\n      <td>22</td>\n      <td>17.0</td>\n      <td>23</td>\n    </tr>\n  </tbody>\n</table>\n</div>"
     },
     "metadata": {},
     "execution_count": 56
    }
   ],
   "source": [
    "# We can now use the crosstab function within the tablefunc() module to see how many people chose each flavor of ice cream in our ice_cream_survey table.\n",
    "query = \"\"\"\n",
    "SELECT *\n",
    "FROM CROSSTAB(\n",
    "    'SELECT\n",
    "        office,\n",
    "        flavor,\n",
    "        COUNT(*)\n",
    "    FROM ice_cream_survey\n",
    "    GROUP BY office, flavor\n",
    "    ORDER BY office',\n",
    "\n",
    "    'SELECT flavor\n",
    "    FROM ice_cream_survey\n",
    "    GROUP BY flavor\n",
    "    ORDER BY flavor'\n",
    ")\n",
    "AS (office VARCHAR(20),\n",
    "    chocolate BIGINT,\n",
    "    strawberry BIGINT,\n",
    "    vanilla BIGINT);\n",
    "\"\"\"\n",
    "\n",
    "execute_query(conn, query)"
   ]
  },
  {
   "source": [
    "For the next part of this chapter we will use a table titled, \"temperature_readings\", that uses data from the U.S. National Oceanic and Atmospheric Administration (NOAA). For more information, please refer to the book's documentation."
   ],
   "cell_type": "markdown",
   "metadata": {}
  },
  {
   "cell_type": "code",
   "execution_count": 57,
   "metadata": {},
   "outputs": [
    {
     "output_type": "execute_result",
     "data": {
      "text/plain": [
       "                          station jan feb mar apr may jun jul aug sep oct nov  \\\n",
       "0  CHICAGO NORTHERLY ISLAND IL US  34  36  46  50  66  77  81  80  77  65  57   \n",
       "1      SEATTLE BOEING FIELD WA US  50  54  56  64  66  71  76  77  69  62  55   \n",
       "2             WAIKIKI 717.2 HI US  83  84  84  86  87  87  88  87  87  86  84   \n",
       "\n",
       "  dec  \n",
       "0  35  \n",
       "1  42  \n",
       "2  82  "
      ],
      "text/html": "<div>\n<style scoped>\n    .dataframe tbody tr th:only-of-type {\n        vertical-align: middle;\n    }\n\n    .dataframe tbody tr th {\n        vertical-align: top;\n    }\n\n    .dataframe thead th {\n        text-align: right;\n    }\n</style>\n<table border=\"1\" class=\"dataframe\">\n  <thead>\n    <tr style=\"text-align: right;\">\n      <th></th>\n      <th>station</th>\n      <th>jan</th>\n      <th>feb</th>\n      <th>mar</th>\n      <th>apr</th>\n      <th>may</th>\n      <th>jun</th>\n      <th>jul</th>\n      <th>aug</th>\n      <th>sep</th>\n      <th>oct</th>\n      <th>nov</th>\n      <th>dec</th>\n    </tr>\n  </thead>\n  <tbody>\n    <tr>\n      <th>0</th>\n      <td>CHICAGO NORTHERLY ISLAND IL US</td>\n      <td>34</td>\n      <td>36</td>\n      <td>46</td>\n      <td>50</td>\n      <td>66</td>\n      <td>77</td>\n      <td>81</td>\n      <td>80</td>\n      <td>77</td>\n      <td>65</td>\n      <td>57</td>\n      <td>35</td>\n    </tr>\n    <tr>\n      <th>1</th>\n      <td>SEATTLE BOEING FIELD WA US</td>\n      <td>50</td>\n      <td>54</td>\n      <td>56</td>\n      <td>64</td>\n      <td>66</td>\n      <td>71</td>\n      <td>76</td>\n      <td>77</td>\n      <td>69</td>\n      <td>62</td>\n      <td>55</td>\n      <td>42</td>\n    </tr>\n    <tr>\n      <th>2</th>\n      <td>WAIKIKI 717.2 HI US</td>\n      <td>83</td>\n      <td>84</td>\n      <td>84</td>\n      <td>86</td>\n      <td>87</td>\n      <td>87</td>\n      <td>88</td>\n      <td>87</td>\n      <td>87</td>\n      <td>86</td>\n      <td>84</td>\n      <td>82</td>\n    </tr>\n  </tbody>\n</table>\n</div>"
     },
     "metadata": {},
     "execution_count": 57
    }
   ],
   "source": [
    "# Creating a Crosstab for our temperature_readings table to get median temperature for each month across three stations\n",
    "query = \"\"\"\n",
    "SELECT *\n",
    "FROM CROSSTAB(\n",
    "    'SELECT station_name,\n",
    "    DATE_PART(''month'', observation_date),\n",
    "    PERCENTILE_CONT(0.5)\n",
    "        WITHIN GROUP (ORDER BY max_temp)\n",
    "    FROM temperature_readings\n",
    "    GROUP BY station_name,\n",
    "    DATE_PART(''month'', observation_date)\n",
    "    ORDER BY station_name',\n",
    "\n",
    "    'SELECT month\n",
    "    FROM GENERATE_SERIES(1, 12) month')\n",
    "\n",
    "AS (\n",
    "    station VARCHAR(50),\n",
    "    jan NUMERIC(3,0),\n",
    "    feb NUMERIC(3,0),\n",
    "    mar NUMERIC(3,0),\n",
    "    apr NUMERIC(3,0),\n",
    "    may NUMERIC(3,0),\n",
    "    jun NUMERIC(3,0),\n",
    "    jul NUMERIC(3,0),\n",
    "    aug NUMERIC(3,0),\n",
    "    sep NUMERIC(3,0),\n",
    "    oct NUMERIC(3,0), \n",
    "    nov NUMERIC(3,0),\n",
    "    dec NUMERIC(3,0)\n",
    "    );\n",
    "\"\"\"\n",
    "\n",
    "execute_query(conn, query)"
   ]
  },
  {
   "cell_type": "code",
   "execution_count": 58,
   "metadata": {},
   "outputs": [
    {
     "output_type": "execute_result",
     "data": {
      "text/plain": [
       "      max_temp temperature_group\n",
       "0           31          Freezing\n",
       "1           34              Cold\n",
       "2           32          Freezing\n",
       "3           32          Freezing\n",
       "4           34              Cold\n",
       "...        ...               ...\n",
       "1072        47              Cold\n",
       "1073        48              Cold\n",
       "1074        48              Cold\n",
       "1075        57          Pleasant\n",
       "1076        40              Cold\n",
       "\n",
       "[1077 rows x 2 columns]"
      ],
      "text/html": "<div>\n<style scoped>\n    .dataframe tbody tr th:only-of-type {\n        vertical-align: middle;\n    }\n\n    .dataframe tbody tr th {\n        vertical-align: top;\n    }\n\n    .dataframe thead th {\n        text-align: right;\n    }\n</style>\n<table border=\"1\" class=\"dataframe\">\n  <thead>\n    <tr style=\"text-align: right;\">\n      <th></th>\n      <th>max_temp</th>\n      <th>temperature_group</th>\n    </tr>\n  </thead>\n  <tbody>\n    <tr>\n      <th>0</th>\n      <td>31</td>\n      <td>Freezing</td>\n    </tr>\n    <tr>\n      <th>1</th>\n      <td>34</td>\n      <td>Cold</td>\n    </tr>\n    <tr>\n      <th>2</th>\n      <td>32</td>\n      <td>Freezing</td>\n    </tr>\n    <tr>\n      <th>3</th>\n      <td>32</td>\n      <td>Freezing</td>\n    </tr>\n    <tr>\n      <th>4</th>\n      <td>34</td>\n      <td>Cold</td>\n    </tr>\n    <tr>\n      <th>...</th>\n      <td>...</td>\n      <td>...</td>\n    </tr>\n    <tr>\n      <th>1072</th>\n      <td>47</td>\n      <td>Cold</td>\n    </tr>\n    <tr>\n      <th>1073</th>\n      <td>48</td>\n      <td>Cold</td>\n    </tr>\n    <tr>\n      <th>1074</th>\n      <td>48</td>\n      <td>Cold</td>\n    </tr>\n    <tr>\n      <th>1075</th>\n      <td>57</td>\n      <td>Pleasant</td>\n    </tr>\n    <tr>\n      <th>1076</th>\n      <td>40</td>\n      <td>Cold</td>\n    </tr>\n  </tbody>\n</table>\n<p>1077 rows × 2 columns</p>\n</div>"
     },
     "metadata": {},
     "execution_count": 58
    }
   ],
   "source": [
    "# Reclassifying values with CASE\n",
    "query = \"\"\"\n",
    "SELECT\n",
    "    max_temp,\n",
    "    CASE WHEN max_temp >= 90 THEN 'Hot'\n",
    "        WHEN max_temp BETWEEN 70 AND 89 THEN 'Warm'\n",
    "        WHEN max_temp BETWEEN 50 AND 69 THEN 'Pleasant'\n",
    "        WHEN max_temp BETWEEN 33 AND 49 THEN 'Cold'\n",
    "        WHEN max_temp BETWEEN 20 AND 32 THEN 'Freezing'\n",
    "        ELSE 'Inhumane'\n",
    "    END AS temperature_group\n",
    "FROM temperature_readings;\n",
    "\"\"\"\n",
    "\n",
    "execute_query(conn, query)"
   ]
  },
  {
   "cell_type": "code",
   "execution_count": 59,
   "metadata": {},
   "outputs": [
    {
     "output_type": "execute_result",
     "data": {
      "text/plain": [
       "                      station_name max_temperature_group  count\n",
       "0   CHICAGO NORTHERLY ISLAND IL US                  Warm    133\n",
       "1   CHICAGO NORTHERLY ISLAND IL US                  Cold     92\n",
       "2   CHICAGO NORTHERLY ISLAND IL US              Pleasant     91\n",
       "3   CHICAGO NORTHERLY ISLAND IL US              Freezing     30\n",
       "4   CHICAGO NORTHERLY ISLAND IL US              Inhumane      8\n",
       "5   CHICAGO NORTHERLY ISLAND IL US                   Hot      8\n",
       "6       SEATTLE BOEING FIELD WA US              Pleasant    198\n",
       "7       SEATTLE BOEING FIELD WA US                  Warm     98\n",
       "8       SEATTLE BOEING FIELD WA US                  Cold     50\n",
       "9       SEATTLE BOEING FIELD WA US                   Hot      3\n",
       "10             WAIKIKI 717.2 HI US                  Warm    361\n",
       "11             WAIKIKI 717.2 HI US                   Hot      5"
      ],
      "text/html": "<div>\n<style scoped>\n    .dataframe tbody tr th:only-of-type {\n        vertical-align: middle;\n    }\n\n    .dataframe tbody tr th {\n        vertical-align: top;\n    }\n\n    .dataframe thead th {\n        text-align: right;\n    }\n</style>\n<table border=\"1\" class=\"dataframe\">\n  <thead>\n    <tr style=\"text-align: right;\">\n      <th></th>\n      <th>station_name</th>\n      <th>max_temperature_group</th>\n      <th>count</th>\n    </tr>\n  </thead>\n  <tbody>\n    <tr>\n      <th>0</th>\n      <td>CHICAGO NORTHERLY ISLAND IL US</td>\n      <td>Warm</td>\n      <td>133</td>\n    </tr>\n    <tr>\n      <th>1</th>\n      <td>CHICAGO NORTHERLY ISLAND IL US</td>\n      <td>Cold</td>\n      <td>92</td>\n    </tr>\n    <tr>\n      <th>2</th>\n      <td>CHICAGO NORTHERLY ISLAND IL US</td>\n      <td>Pleasant</td>\n      <td>91</td>\n    </tr>\n    <tr>\n      <th>3</th>\n      <td>CHICAGO NORTHERLY ISLAND IL US</td>\n      <td>Freezing</td>\n      <td>30</td>\n    </tr>\n    <tr>\n      <th>4</th>\n      <td>CHICAGO NORTHERLY ISLAND IL US</td>\n      <td>Inhumane</td>\n      <td>8</td>\n    </tr>\n    <tr>\n      <th>5</th>\n      <td>CHICAGO NORTHERLY ISLAND IL US</td>\n      <td>Hot</td>\n      <td>8</td>\n    </tr>\n    <tr>\n      <th>6</th>\n      <td>SEATTLE BOEING FIELD WA US</td>\n      <td>Pleasant</td>\n      <td>198</td>\n    </tr>\n    <tr>\n      <th>7</th>\n      <td>SEATTLE BOEING FIELD WA US</td>\n      <td>Warm</td>\n      <td>98</td>\n    </tr>\n    <tr>\n      <th>8</th>\n      <td>SEATTLE BOEING FIELD WA US</td>\n      <td>Cold</td>\n      <td>50</td>\n    </tr>\n    <tr>\n      <th>9</th>\n      <td>SEATTLE BOEING FIELD WA US</td>\n      <td>Hot</td>\n      <td>3</td>\n    </tr>\n    <tr>\n      <th>10</th>\n      <td>WAIKIKI 717.2 HI US</td>\n      <td>Warm</td>\n      <td>361</td>\n    </tr>\n    <tr>\n      <th>11</th>\n      <td>WAIKIKI 717.2 HI US</td>\n      <td>Hot</td>\n      <td>5</td>\n    </tr>\n  </tbody>\n</table>\n</div>"
     },
     "metadata": {},
     "execution_count": 59
    }
   ],
   "source": [
    "# Using CASE in a CTE to reclasssify the daily maximum temperatures forecast to generat a temps_collapsed CTE\n",
    "query = \"\"\"\n",
    "WITH temps_collapsed (station_name, max_temperature_group) AS\n",
    "    (SELECT\n",
    "        station_name,\n",
    "        CASE WHEN max_temp >= 90 THEN 'Hot'\n",
    "        WHEN max_temp BETWEEN 70 AND 89 THEN 'Warm'\n",
    "        WHEN max_temp BETWEEN 50 AND 69 THEN 'Pleasant'\n",
    "        WHEN max_temp BETWEEN 33 AND 49 THEN 'Cold'\n",
    "        WHEN max_temp BETWEEN 20 AND 32 THEN 'Freezing'\n",
    "        ELSE 'Inhumane'\n",
    "        END\n",
    "    FROM temperature_readings)\n",
    "\n",
    "SELECT station_name, max_temperature_group, COUNT(*)\n",
    "FROM temps_collapsed\n",
    "GROUP BY station_name, max_temperature_group\n",
    "ORDER BY station_name, COUNT(*) DESC;\n",
    "\"\"\"\n",
    "\n",
    "execute_query(conn, query)"
   ]
  },
  {
   "source": [
    "## Chapter 13: Mining Text To Find Meaningful Data\n",
    "\n",
    "For this chapter two tables will be created, one based on crime reports from a sheriff's department near Washington D.C. and a set of State of the Union Adressses delivered by former presidents."
   ],
   "cell_type": "markdown",
   "metadata": {}
  },
  {
   "source": [
    "# Turning Text to Data with REGEX functions\n",
    "query = \"SELECT * FROM crime_reports;\"\n",
    "\n",
    "execute_query(conn, query)"
   ],
   "cell_type": "code",
   "metadata": {},
   "execution_count": 60,
   "outputs": [
    {
     "output_type": "execute_result",
     "data": {
      "text/plain": [
       "   crime_id                    date_1                    date_2  \\\n",
       "0         1 2017-04-16 21:00:00-04:00 2017-04-17 09:00:00-04:00   \n",
       "1         2 2017-04-08 16:00:00-04:00                       NaT   \n",
       "2         3 2017-04-04 14:00:00-04:00 2017-04-04 15:00:00-04:00   \n",
       "3         4 2017-04-10 16:05:00-04:00                       NaT   \n",
       "4         5 2017-04-09 12:00:00-04:00                       NaT   \n",
       "5         6 2017-04-16 21:00:00-04:00 2017-04-17 09:00:00-04:00   \n",
       "6         8 2017-04-04 14:00:00-04:00 2017-04-04 15:00:00-04:00   \n",
       "7         7 2017-04-08 16:00:00-04:00                       NaT   \n",
       "8         9 2017-04-10 16:05:00-04:00                       NaT   \n",
       "9        10 2017-04-09 12:00:00-04:00                       NaT   \n",
       "\n",
       "                              street        city               crime_type  \\\n",
       "0            46000 Block Ashmere Sq.    Sterling                  Larceny   \n",
       "1       46000 Block Potomac Run Plz.    Sterling  Destruction of Property   \n",
       "2  24000 Block Hawthorn Thicket Ter.    Sterling                  Larceny   \n",
       "3        21800 block Newlin Mill Rd.  Middleburg                  Larceny   \n",
       "4           470000 block Fairway Dr.    Sterling  Destruction of Property   \n",
       "5            46000 Block Ashmere Sq.    Sterling                  Larceny   \n",
       "6  24000 Block Hawthorn Thicket Ter.    Sterling                  Larceny   \n",
       "7       46000 Block Potomac Run Plz.    Sterling  Destruction of Property   \n",
       "8        21800 block Newlin Mill Rd.  Middleburg                  Larceny   \n",
       "9           470000 block Fairway Dr.    Sterling  Destruction of Property   \n",
       "\n",
       "                                         description  case_number  \\\n",
       "0  The victim reported that a\\r\\nbicycle was stol...  C0170006614   \n",
       "1  The victim\\r\\nreported that their vehicle was ...  C0170006162   \n",
       "2  The complainant reported that\\r\\nmultiple wind...  C0170006079   \n",
       "3  A license plate was reported\\r\\nstolen from a ...  SO170006250   \n",
       "4  Unknown\\r\\nsubject(s) wrote graffiti on a sign...  SO170006211   \n",
       "5  The victim reported that a\\r\\nbicycle was stol...  C0170006614   \n",
       "6  The complainant reported that\\r\\nmultiple wind...  C0170006079   \n",
       "7  The victim\\r\\nreported that their vehicle was ...  C0170006162   \n",
       "8  A license plate was reported\\r\\nstolen from a ...  SO170006250   \n",
       "9  Unknown\\r\\nsubject(s) wrote graffiti on a sign...  SO170006211   \n",
       "\n",
       "                                       original_text  \n",
       "0  4/16/17-4/17/17\\r\\n2100-0900 hrs.\\r\\n46000 Blo...  \n",
       "1  4/8/17\\r\\n1600 hrs.\\r\\n46000 Block Potomac Run...  \n",
       "2  4/4/17\\r\\n1400-1500 hrs.\\r\\n24000 Block Hawtho...  \n",
       "3  04/10/17\\r\\n1605 hrs.\\r\\n21800 block Newlin Mi...  \n",
       "4  04/09/17\\r\\n1200 hrs.\\r\\n470000 block Fairway ...  \n",
       "5  4/16/17-4/17/17\\r\\n2100-0900 hrs.\\r\\n46000 Blo...  \n",
       "6  4/4/17\\r\\n1400-1500 hrs.\\r\\n24000 Block Hawtho...  \n",
       "7  4/8/17\\r\\n1600 hrs.\\r\\n46000 Block Potomac Run...  \n",
       "8  04/10/17\\r\\n1605 hrs.\\r\\n21800 block Newlin Mi...  \n",
       "9  04/09/17\\r\\n1200 hrs.\\r\\n470000 block Fairway ...  "
      ],
      "text/html": "<div>\n<style scoped>\n    .dataframe tbody tr th:only-of-type {\n        vertical-align: middle;\n    }\n\n    .dataframe tbody tr th {\n        vertical-align: top;\n    }\n\n    .dataframe thead th {\n        text-align: right;\n    }\n</style>\n<table border=\"1\" class=\"dataframe\">\n  <thead>\n    <tr style=\"text-align: right;\">\n      <th></th>\n      <th>crime_id</th>\n      <th>date_1</th>\n      <th>date_2</th>\n      <th>street</th>\n      <th>city</th>\n      <th>crime_type</th>\n      <th>description</th>\n      <th>case_number</th>\n      <th>original_text</th>\n    </tr>\n  </thead>\n  <tbody>\n    <tr>\n      <th>0</th>\n      <td>1</td>\n      <td>2017-04-16 21:00:00-04:00</td>\n      <td>2017-04-17 09:00:00-04:00</td>\n      <td>46000 Block Ashmere Sq.</td>\n      <td>Sterling</td>\n      <td>Larceny</td>\n      <td>The victim reported that a\\r\\nbicycle was stol...</td>\n      <td>C0170006614</td>\n      <td>4/16/17-4/17/17\\r\\n2100-0900 hrs.\\r\\n46000 Blo...</td>\n    </tr>\n    <tr>\n      <th>1</th>\n      <td>2</td>\n      <td>2017-04-08 16:00:00-04:00</td>\n      <td>NaT</td>\n      <td>46000 Block Potomac Run Plz.</td>\n      <td>Sterling</td>\n      <td>Destruction of Property</td>\n      <td>The victim\\r\\nreported that their vehicle was ...</td>\n      <td>C0170006162</td>\n      <td>4/8/17\\r\\n1600 hrs.\\r\\n46000 Block Potomac Run...</td>\n    </tr>\n    <tr>\n      <th>2</th>\n      <td>3</td>\n      <td>2017-04-04 14:00:00-04:00</td>\n      <td>2017-04-04 15:00:00-04:00</td>\n      <td>24000 Block Hawthorn Thicket Ter.</td>\n      <td>Sterling</td>\n      <td>Larceny</td>\n      <td>The complainant reported that\\r\\nmultiple wind...</td>\n      <td>C0170006079</td>\n      <td>4/4/17\\r\\n1400-1500 hrs.\\r\\n24000 Block Hawtho...</td>\n    </tr>\n    <tr>\n      <th>3</th>\n      <td>4</td>\n      <td>2017-04-10 16:05:00-04:00</td>\n      <td>NaT</td>\n      <td>21800 block Newlin Mill Rd.</td>\n      <td>Middleburg</td>\n      <td>Larceny</td>\n      <td>A license plate was reported\\r\\nstolen from a ...</td>\n      <td>SO170006250</td>\n      <td>04/10/17\\r\\n1605 hrs.\\r\\n21800 block Newlin Mi...</td>\n    </tr>\n    <tr>\n      <th>4</th>\n      <td>5</td>\n      <td>2017-04-09 12:00:00-04:00</td>\n      <td>NaT</td>\n      <td>470000 block Fairway Dr.</td>\n      <td>Sterling</td>\n      <td>Destruction of Property</td>\n      <td>Unknown\\r\\nsubject(s) wrote graffiti on a sign...</td>\n      <td>SO170006211</td>\n      <td>04/09/17\\r\\n1200 hrs.\\r\\n470000 block Fairway ...</td>\n    </tr>\n    <tr>\n      <th>5</th>\n      <td>6</td>\n      <td>2017-04-16 21:00:00-04:00</td>\n      <td>2017-04-17 09:00:00-04:00</td>\n      <td>46000 Block Ashmere Sq.</td>\n      <td>Sterling</td>\n      <td>Larceny</td>\n      <td>The victim reported that a\\r\\nbicycle was stol...</td>\n      <td>C0170006614</td>\n      <td>4/16/17-4/17/17\\r\\n2100-0900 hrs.\\r\\n46000 Blo...</td>\n    </tr>\n    <tr>\n      <th>6</th>\n      <td>8</td>\n      <td>2017-04-04 14:00:00-04:00</td>\n      <td>2017-04-04 15:00:00-04:00</td>\n      <td>24000 Block Hawthorn Thicket Ter.</td>\n      <td>Sterling</td>\n      <td>Larceny</td>\n      <td>The complainant reported that\\r\\nmultiple wind...</td>\n      <td>C0170006079</td>\n      <td>4/4/17\\r\\n1400-1500 hrs.\\r\\n24000 Block Hawtho...</td>\n    </tr>\n    <tr>\n      <th>7</th>\n      <td>7</td>\n      <td>2017-04-08 16:00:00-04:00</td>\n      <td>NaT</td>\n      <td>46000 Block Potomac Run Plz.</td>\n      <td>Sterling</td>\n      <td>Destruction of Property</td>\n      <td>The victim\\r\\nreported that their vehicle was ...</td>\n      <td>C0170006162</td>\n      <td>4/8/17\\r\\n1600 hrs.\\r\\n46000 Block Potomac Run...</td>\n    </tr>\n    <tr>\n      <th>8</th>\n      <td>9</td>\n      <td>2017-04-10 16:05:00-04:00</td>\n      <td>NaT</td>\n      <td>21800 block Newlin Mill Rd.</td>\n      <td>Middleburg</td>\n      <td>Larceny</td>\n      <td>A license plate was reported\\r\\nstolen from a ...</td>\n      <td>SO170006250</td>\n      <td>04/10/17\\r\\n1605 hrs.\\r\\n21800 block Newlin Mi...</td>\n    </tr>\n    <tr>\n      <th>9</th>\n      <td>10</td>\n      <td>2017-04-09 12:00:00-04:00</td>\n      <td>NaT</td>\n      <td>470000 block Fairway Dr.</td>\n      <td>Sterling</td>\n      <td>Destruction of Property</td>\n      <td>Unknown\\r\\nsubject(s) wrote graffiti on a sign...</td>\n      <td>SO170006211</td>\n      <td>04/09/17\\r\\n1200 hrs.\\r\\n470000 block Fairway ...</td>\n    </tr>\n  </tbody>\n</table>\n</div>"
     },
     "metadata": {},
     "execution_count": 60
    }
   ]
  },
  {
   "cell_type": "code",
   "execution_count": 61,
   "metadata": {},
   "outputs": [
    {
     "output_type": "execute_result",
     "data": {
      "text/plain": [
       "   crime_id regexp_match\n",
       "0         1    [4/16/17]\n",
       "1         2     [4/8/17]\n",
       "2         3     [4/4/17]\n",
       "3         4   [04/10/17]\n",
       "4         5   [04/09/17]\n",
       "5         6    [4/16/17]\n",
       "6         8     [4/4/17]\n",
       "7         7     [4/8/17]\n",
       "8         9   [04/10/17]\n",
       "9        10   [04/09/17]"
      ],
      "text/html": "<div>\n<style scoped>\n    .dataframe tbody tr th:only-of-type {\n        vertical-align: middle;\n    }\n\n    .dataframe tbody tr th {\n        vertical-align: top;\n    }\n\n    .dataframe thead th {\n        text-align: right;\n    }\n</style>\n<table border=\"1\" class=\"dataframe\">\n  <thead>\n    <tr style=\"text-align: right;\">\n      <th></th>\n      <th>crime_id</th>\n      <th>regexp_match</th>\n    </tr>\n  </thead>\n  <tbody>\n    <tr>\n      <th>0</th>\n      <td>1</td>\n      <td>[4/16/17]</td>\n    </tr>\n    <tr>\n      <th>1</th>\n      <td>2</td>\n      <td>[4/8/17]</td>\n    </tr>\n    <tr>\n      <th>2</th>\n      <td>3</td>\n      <td>[4/4/17]</td>\n    </tr>\n    <tr>\n      <th>3</th>\n      <td>4</td>\n      <td>[04/10/17]</td>\n    </tr>\n    <tr>\n      <th>4</th>\n      <td>5</td>\n      <td>[04/09/17]</td>\n    </tr>\n    <tr>\n      <th>5</th>\n      <td>6</td>\n      <td>[4/16/17]</td>\n    </tr>\n    <tr>\n      <th>6</th>\n      <td>8</td>\n      <td>[4/4/17]</td>\n    </tr>\n    <tr>\n      <th>7</th>\n      <td>7</td>\n      <td>[4/8/17]</td>\n    </tr>\n    <tr>\n      <th>8</th>\n      <td>9</td>\n      <td>[04/10/17]</td>\n    </tr>\n    <tr>\n      <th>9</th>\n      <td>10</td>\n      <td>[04/09/17]</td>\n    </tr>\n  </tbody>\n</table>\n</div>"
     },
     "metadata": {},
     "execution_count": 61
    }
   ],
   "source": [
    "# Turning Text to Data with REGEX functions\n",
    "query = \"\"\"\n",
    "SELECT crime_id,\n",
    "    REGEXP_MATCH(original_text, '\\d{1,2}\\/\\d{1,2}\\/\\d{2}')\n",
    "FROM crime_reports;\n",
    "\"\"\"\n",
    "\n",
    "execute_query(conn, query)"
   ]
  },
  {
   "cell_type": "code",
   "execution_count": 62,
   "metadata": {},
   "outputs": [
    {
     "output_type": "execute_result",
     "data": {
      "text/plain": [
       "    crime_id regexp_matches\n",
       "0          1      [4/16/17]\n",
       "1          1      [4/17/17]\n",
       "2          2       [4/8/17]\n",
       "3          3       [4/4/17]\n",
       "4          4     [04/10/17]\n",
       "5          5     [04/09/17]\n",
       "6          6      [4/16/17]\n",
       "7          6      [4/17/17]\n",
       "8          8       [4/4/17]\n",
       "9          7       [4/8/17]\n",
       "10         9     [04/10/17]\n",
       "11        10     [04/09/17]"
      ],
      "text/html": "<div>\n<style scoped>\n    .dataframe tbody tr th:only-of-type {\n        vertical-align: middle;\n    }\n\n    .dataframe tbody tr th {\n        vertical-align: top;\n    }\n\n    .dataframe thead th {\n        text-align: right;\n    }\n</style>\n<table border=\"1\" class=\"dataframe\">\n  <thead>\n    <tr style=\"text-align: right;\">\n      <th></th>\n      <th>crime_id</th>\n      <th>regexp_matches</th>\n    </tr>\n  </thead>\n  <tbody>\n    <tr>\n      <th>0</th>\n      <td>1</td>\n      <td>[4/16/17]</td>\n    </tr>\n    <tr>\n      <th>1</th>\n      <td>1</td>\n      <td>[4/17/17]</td>\n    </tr>\n    <tr>\n      <th>2</th>\n      <td>2</td>\n      <td>[4/8/17]</td>\n    </tr>\n    <tr>\n      <th>3</th>\n      <td>3</td>\n      <td>[4/4/17]</td>\n    </tr>\n    <tr>\n      <th>4</th>\n      <td>4</td>\n      <td>[04/10/17]</td>\n    </tr>\n    <tr>\n      <th>5</th>\n      <td>5</td>\n      <td>[04/09/17]</td>\n    </tr>\n    <tr>\n      <th>6</th>\n      <td>6</td>\n      <td>[4/16/17]</td>\n    </tr>\n    <tr>\n      <th>7</th>\n      <td>6</td>\n      <td>[4/17/17]</td>\n    </tr>\n    <tr>\n      <th>8</th>\n      <td>8</td>\n      <td>[4/4/17]</td>\n    </tr>\n    <tr>\n      <th>9</th>\n      <td>7</td>\n      <td>[4/8/17]</td>\n    </tr>\n    <tr>\n      <th>10</th>\n      <td>9</td>\n      <td>[04/10/17]</td>\n    </tr>\n    <tr>\n      <th>11</th>\n      <td>10</td>\n      <td>[04/09/17]</td>\n    </tr>\n  </tbody>\n</table>\n</div>"
     },
     "metadata": {},
     "execution_count": 62
    }
   ],
   "source": [
    "# Using REGEX functions to capture instances where rows have more than one date\n",
    "query = \"\"\"\n",
    "SELECT \n",
    "    crime_id,\n",
    "    REGEXP_MATCHES(original_text, '\\d{1,2}\\/\\d{1,2}\\/\\d{2}', 'g')\n",
    "FROM crime_reports;\n",
    "\"\"\"\n",
    "\n",
    "execute_query(conn, query)"
   ]
  },
  {
   "cell_type": "code",
   "execution_count": 63,
   "metadata": {},
   "outputs": [
    {
     "output_type": "execute_result",
     "data": {
      "text/plain": [
       "   crime_id first_hour second_hour                               street\n",
       "0         1     [2100]      [0900]            [46000 Block Ashmere Sq.]\n",
       "1         2     [1600]        None       [46000 Block Potomac Run Plz.]\n",
       "2         3     [1400]      [1500]  [24000 Block Hawthorn Thicket Ter.]\n",
       "3         4     [1605]        None        [21800 block Newlin Mill Rd.]\n",
       "4         5     [1200]        None           [470000 block Fairway Dr.]\n",
       "5         6     [2100]      [0900]            [46000 Block Ashmere Sq.]\n",
       "6         8     [1400]      [1500]  [24000 Block Hawthorn Thicket Ter.]\n",
       "7         7     [1600]        None       [46000 Block Potomac Run Plz.]\n",
       "8         9     [1605]        None        [21800 block Newlin Mill Rd.]\n",
       "9        10     [1200]        None           [470000 block Fairway Dr.]"
      ],
      "text/html": "<div>\n<style scoped>\n    .dataframe tbody tr th:only-of-type {\n        vertical-align: middle;\n    }\n\n    .dataframe tbody tr th {\n        vertical-align: top;\n    }\n\n    .dataframe thead th {\n        text-align: right;\n    }\n</style>\n<table border=\"1\" class=\"dataframe\">\n  <thead>\n    <tr style=\"text-align: right;\">\n      <th></th>\n      <th>crime_id</th>\n      <th>first_hour</th>\n      <th>second_hour</th>\n      <th>street</th>\n    </tr>\n  </thead>\n  <tbody>\n    <tr>\n      <th>0</th>\n      <td>1</td>\n      <td>[2100]</td>\n      <td>[0900]</td>\n      <td>[46000 Block Ashmere Sq.]</td>\n    </tr>\n    <tr>\n      <th>1</th>\n      <td>2</td>\n      <td>[1600]</td>\n      <td>None</td>\n      <td>[46000 Block Potomac Run Plz.]</td>\n    </tr>\n    <tr>\n      <th>2</th>\n      <td>3</td>\n      <td>[1400]</td>\n      <td>[1500]</td>\n      <td>[24000 Block Hawthorn Thicket Ter.]</td>\n    </tr>\n    <tr>\n      <th>3</th>\n      <td>4</td>\n      <td>[1605]</td>\n      <td>None</td>\n      <td>[21800 block Newlin Mill Rd.]</td>\n    </tr>\n    <tr>\n      <th>4</th>\n      <td>5</td>\n      <td>[1200]</td>\n      <td>None</td>\n      <td>[470000 block Fairway Dr.]</td>\n    </tr>\n    <tr>\n      <th>5</th>\n      <td>6</td>\n      <td>[2100]</td>\n      <td>[0900]</td>\n      <td>[46000 Block Ashmere Sq.]</td>\n    </tr>\n    <tr>\n      <th>6</th>\n      <td>8</td>\n      <td>[1400]</td>\n      <td>[1500]</td>\n      <td>[24000 Block Hawthorn Thicket Ter.]</td>\n    </tr>\n    <tr>\n      <th>7</th>\n      <td>7</td>\n      <td>[1600]</td>\n      <td>None</td>\n      <td>[46000 Block Potomac Run Plz.]</td>\n    </tr>\n    <tr>\n      <th>8</th>\n      <td>9</td>\n      <td>[1605]</td>\n      <td>None</td>\n      <td>[21800 block Newlin Mill Rd.]</td>\n    </tr>\n    <tr>\n      <th>9</th>\n      <td>10</td>\n      <td>[1200]</td>\n      <td>None</td>\n      <td>[470000 block Fairway Dr.]</td>\n    </tr>\n  </tbody>\n</table>\n</div>"
     },
     "metadata": {},
     "execution_count": 63
    }
   ],
   "source": [
    "# Using REGEX to match additional crime report elements - Here we match the first hour, second hour, and street\n",
    "query = \"\"\"\n",
    "SELECT\n",
    "    crime_id,\n",
    "    REGEXP_MATCH(original_text,'\\/\\d{2}\\r\\n(\\d{4})') AS first_hour,\n",
    "    REGEXP_MATCH(original_text,'\\d{2}\\r\\n\\d{4}-(\\d{4})') AS second_hour,\n",
    "    REGEXP_MATCH(original_text,'hrs.\\r\\n(\\d+ .+(?:Sq.|Plz.|Dr.|Ter.|Rd.))') AS street\n",
    "FROM crime_reports;\n",
    "\"\"\"\n",
    "\n",
    "execute_query(conn, query)"
   ]
  },
  {
   "cell_type": "code",
   "execution_count": 64,
   "metadata": {},
   "outputs": [
    {
     "output_type": "execute_result",
     "data": {
      "text/plain": [
       "     case_number      date_1                 crime_type          city\n",
       "0  [C0170006614]   [4/16/17]                  [Larceny]    [Sterling]\n",
       "1  [C0170006162]    [4/8/17]  [Destruction of Property]    [Sterling]\n",
       "2  [C0170006079]    [4/4/17]                  [Larceny]    [Sterling]\n",
       "3  [SO170006250]  [04/10/17]                  [Larceny]  [Middleburg]\n",
       "4  [SO170006211]  [04/09/17]  [Destruction of Property]    [Sterling]\n",
       "5  [C0170006614]   [4/16/17]                  [Larceny]    [Sterling]\n",
       "6  [C0170006079]    [4/4/17]                  [Larceny]    [Sterling]\n",
       "7  [C0170006162]    [4/8/17]  [Destruction of Property]    [Sterling]\n",
       "8  [SO170006250]  [04/10/17]                  [Larceny]  [Middleburg]\n",
       "9  [SO170006211]  [04/09/17]  [Destruction of Property]    [Sterling]"
      ],
      "text/html": "<div>\n<style scoped>\n    .dataframe tbody tr th:only-of-type {\n        vertical-align: middle;\n    }\n\n    .dataframe tbody tr th {\n        vertical-align: top;\n    }\n\n    .dataframe thead th {\n        text-align: right;\n    }\n</style>\n<table border=\"1\" class=\"dataframe\">\n  <thead>\n    <tr style=\"text-align: right;\">\n      <th></th>\n      <th>case_number</th>\n      <th>date_1</th>\n      <th>crime_type</th>\n      <th>city</th>\n    </tr>\n  </thead>\n  <tbody>\n    <tr>\n      <th>0</th>\n      <td>[C0170006614]</td>\n      <td>[4/16/17]</td>\n      <td>[Larceny]</td>\n      <td>[Sterling]</td>\n    </tr>\n    <tr>\n      <th>1</th>\n      <td>[C0170006162]</td>\n      <td>[4/8/17]</td>\n      <td>[Destruction of Property]</td>\n      <td>[Sterling]</td>\n    </tr>\n    <tr>\n      <th>2</th>\n      <td>[C0170006079]</td>\n      <td>[4/4/17]</td>\n      <td>[Larceny]</td>\n      <td>[Sterling]</td>\n    </tr>\n    <tr>\n      <th>3</th>\n      <td>[SO170006250]</td>\n      <td>[04/10/17]</td>\n      <td>[Larceny]</td>\n      <td>[Middleburg]</td>\n    </tr>\n    <tr>\n      <th>4</th>\n      <td>[SO170006211]</td>\n      <td>[04/09/17]</td>\n      <td>[Destruction of Property]</td>\n      <td>[Sterling]</td>\n    </tr>\n    <tr>\n      <th>5</th>\n      <td>[C0170006614]</td>\n      <td>[4/16/17]</td>\n      <td>[Larceny]</td>\n      <td>[Sterling]</td>\n    </tr>\n    <tr>\n      <th>6</th>\n      <td>[C0170006079]</td>\n      <td>[4/4/17]</td>\n      <td>[Larceny]</td>\n      <td>[Sterling]</td>\n    </tr>\n    <tr>\n      <th>7</th>\n      <td>[C0170006162]</td>\n      <td>[4/8/17]</td>\n      <td>[Destruction of Property]</td>\n      <td>[Sterling]</td>\n    </tr>\n    <tr>\n      <th>8</th>\n      <td>[SO170006250]</td>\n      <td>[04/10/17]</td>\n      <td>[Larceny]</td>\n      <td>[Middleburg]</td>\n    </tr>\n    <tr>\n      <th>9</th>\n      <td>[SO170006211]</td>\n      <td>[04/09/17]</td>\n      <td>[Destruction of Property]</td>\n      <td>[Sterling]</td>\n    </tr>\n  </tbody>\n</table>\n</div>"
     },
     "metadata": {},
     "execution_count": 64
    }
   ],
   "source": [
    "# Using REGEX to match additional crime report elements - Here we match the case number, first date, crim type, and city\n",
    "query = \"\"\"\n",
    "SELECT\n",
    "    REGEXP_MATCH(original_text,'(?:C|SO)[0-9]+') AS case_number,\n",
    "    REGEXP_MATCH(original_text,'\\d{1,2}\\/\\d{1,2}\\/\\d{2}') AS date_1,\n",
    "    REGEXP_MATCH(original_text,'\\r\\n(?:\\w+ \\w+|\\w+)\\r\\n(.*):') AS crime_type,\n",
    "    REGEXP_MATCH(original_text,'(?:Sq.|Plz.|Dr.|Ter.|Rd.)\\r\\n(\\w+ \\w+|\\w+)\\r\\n') AS city\n",
    "FROM crime_reports;\n",
    "\"\"\"\n",
    "\n",
    "execute_query(conn, query)"
   ]
  },
  {
   "cell_type": "code",
   "execution_count": 65,
   "metadata": {},
   "outputs": [
    {
     "output_type": "execute_result",
     "data": {
      "text/plain": [
       "   crime_id  case_number\n",
       "0         1  C0170006614\n",
       "1         2  C0170006162\n",
       "2         3  C0170006079\n",
       "3         4  SO170006250\n",
       "4         5  SO170006211\n",
       "5         6  C0170006614\n",
       "6         8  C0170006079\n",
       "7         7  C0170006162\n",
       "8         9  SO170006250\n",
       "9        10  SO170006211"
      ],
      "text/html": "<div>\n<style scoped>\n    .dataframe tbody tr th:only-of-type {\n        vertical-align: middle;\n    }\n\n    .dataframe tbody tr th {\n        vertical-align: top;\n    }\n\n    .dataframe thead th {\n        text-align: right;\n    }\n</style>\n<table border=\"1\" class=\"dataframe\">\n  <thead>\n    <tr style=\"text-align: right;\">\n      <th></th>\n      <th>crime_id</th>\n      <th>case_number</th>\n    </tr>\n  </thead>\n  <tbody>\n    <tr>\n      <th>0</th>\n      <td>1</td>\n      <td>C0170006614</td>\n    </tr>\n    <tr>\n      <th>1</th>\n      <td>2</td>\n      <td>C0170006162</td>\n    </tr>\n    <tr>\n      <th>2</th>\n      <td>3</td>\n      <td>C0170006079</td>\n    </tr>\n    <tr>\n      <th>3</th>\n      <td>4</td>\n      <td>SO170006250</td>\n    </tr>\n    <tr>\n      <th>4</th>\n      <td>5</td>\n      <td>SO170006211</td>\n    </tr>\n    <tr>\n      <th>5</th>\n      <td>6</td>\n      <td>C0170006614</td>\n    </tr>\n    <tr>\n      <th>6</th>\n      <td>8</td>\n      <td>C0170006079</td>\n    </tr>\n    <tr>\n      <th>7</th>\n      <td>7</td>\n      <td>C0170006162</td>\n    </tr>\n    <tr>\n      <th>8</th>\n      <td>9</td>\n      <td>SO170006250</td>\n    </tr>\n    <tr>\n      <th>9</th>\n      <td>10</td>\n      <td>SO170006211</td>\n    </tr>\n  </tbody>\n</table>\n</div>"
     },
     "metadata": {},
     "execution_count": 65
    }
   ],
   "source": [
    "# Extracting text from the regexp_match() result\n",
    "query = \"\"\"\n",
    "SELECT\n",
    "    crime_id,\n",
    "    (REGEXP_MATCH(original_text, '(?:C0|SO)[0-9]+'))[1]\n",
    "        AS case_number\n",
    "FROM crime_reports;\n",
    "\"\"\"\n",
    "\n",
    "execute_query(conn, query)"
   ]
  },
  {
   "cell_type": "code",
   "execution_count": 66,
   "metadata": {},
   "outputs": [
    {
     "output_type": "execute_result",
     "data": {
      "text/plain": [
       "   crime_id                    date_1  \\\n",
       "0         1 2017-04-16 21:00:00-04:00   \n",
       "1         2 2017-04-08 16:00:00-04:00   \n",
       "2         3 2017-04-04 14:00:00-04:00   \n",
       "3         4 2017-04-10 16:05:00-04:00   \n",
       "4         5 2017-04-09 12:00:00-04:00   \n",
       "5         6 2017-04-16 21:00:00-04:00   \n",
       "6         8 2017-04-04 14:00:00-04:00   \n",
       "7         7 2017-04-08 16:00:00-04:00   \n",
       "8         9 2017-04-10 16:05:00-04:00   \n",
       "9        10 2017-04-09 12:00:00-04:00   \n",
       "\n",
       "                                       original_text  \n",
       "0  4/16/17-4/17/17\\r\\n2100-0900 hrs.\\r\\n46000 Blo...  \n",
       "1  4/8/17\\r\\n1600 hrs.\\r\\n46000 Block Potomac Run...  \n",
       "2  4/4/17\\r\\n1400-1500 hrs.\\r\\n24000 Block Hawtho...  \n",
       "3  04/10/17\\r\\n1605 hrs.\\r\\n21800 block Newlin Mi...  \n",
       "4  04/09/17\\r\\n1200 hrs.\\r\\n470000 block Fairway ...  \n",
       "5  4/16/17-4/17/17\\r\\n2100-0900 hrs.\\r\\n46000 Blo...  \n",
       "6  4/4/17\\r\\n1400-1500 hrs.\\r\\n24000 Block Hawtho...  \n",
       "7  4/8/17\\r\\n1600 hrs.\\r\\n46000 Block Potomac Run...  \n",
       "8  04/10/17\\r\\n1605 hrs.\\r\\n21800 block Newlin Mi...  \n",
       "9  04/09/17\\r\\n1200 hrs.\\r\\n470000 block Fairway ...  "
      ],
      "text/html": "<div>\n<style scoped>\n    .dataframe tbody tr th:only-of-type {\n        vertical-align: middle;\n    }\n\n    .dataframe tbody tr th {\n        vertical-align: top;\n    }\n\n    .dataframe thead th {\n        text-align: right;\n    }\n</style>\n<table border=\"1\" class=\"dataframe\">\n  <thead>\n    <tr style=\"text-align: right;\">\n      <th></th>\n      <th>crime_id</th>\n      <th>date_1</th>\n      <th>original_text</th>\n    </tr>\n  </thead>\n  <tbody>\n    <tr>\n      <th>0</th>\n      <td>1</td>\n      <td>2017-04-16 21:00:00-04:00</td>\n      <td>4/16/17-4/17/17\\r\\n2100-0900 hrs.\\r\\n46000 Blo...</td>\n    </tr>\n    <tr>\n      <th>1</th>\n      <td>2</td>\n      <td>2017-04-08 16:00:00-04:00</td>\n      <td>4/8/17\\r\\n1600 hrs.\\r\\n46000 Block Potomac Run...</td>\n    </tr>\n    <tr>\n      <th>2</th>\n      <td>3</td>\n      <td>2017-04-04 14:00:00-04:00</td>\n      <td>4/4/17\\r\\n1400-1500 hrs.\\r\\n24000 Block Hawtho...</td>\n    </tr>\n    <tr>\n      <th>3</th>\n      <td>4</td>\n      <td>2017-04-10 16:05:00-04:00</td>\n      <td>04/10/17\\r\\n1605 hrs.\\r\\n21800 block Newlin Mi...</td>\n    </tr>\n    <tr>\n      <th>4</th>\n      <td>5</td>\n      <td>2017-04-09 12:00:00-04:00</td>\n      <td>04/09/17\\r\\n1200 hrs.\\r\\n470000 block Fairway ...</td>\n    </tr>\n    <tr>\n      <th>5</th>\n      <td>6</td>\n      <td>2017-04-16 21:00:00-04:00</td>\n      <td>4/16/17-4/17/17\\r\\n2100-0900 hrs.\\r\\n46000 Blo...</td>\n    </tr>\n    <tr>\n      <th>6</th>\n      <td>8</td>\n      <td>2017-04-04 14:00:00-04:00</td>\n      <td>4/4/17\\r\\n1400-1500 hrs.\\r\\n24000 Block Hawtho...</td>\n    </tr>\n    <tr>\n      <th>7</th>\n      <td>7</td>\n      <td>2017-04-08 16:00:00-04:00</td>\n      <td>4/8/17\\r\\n1600 hrs.\\r\\n46000 Block Potomac Run...</td>\n    </tr>\n    <tr>\n      <th>8</th>\n      <td>9</td>\n      <td>2017-04-10 16:05:00-04:00</td>\n      <td>04/10/17\\r\\n1605 hrs.\\r\\n21800 block Newlin Mi...</td>\n    </tr>\n    <tr>\n      <th>9</th>\n      <td>10</td>\n      <td>2017-04-09 12:00:00-04:00</td>\n      <td>04/09/17\\r\\n1200 hrs.\\r\\n470000 block Fairway ...</td>\n    </tr>\n  </tbody>\n</table>\n</div>"
     },
     "metadata": {},
     "execution_count": 66
    }
   ],
   "source": [
    "# Updating the crime_reports table with extracted data\n",
    "query = \"\"\"\n",
    "UPDATE crime_reports\n",
    "SET date_1 = \n",
    "(\n",
    "    (REGEXP_MATCH(original_text, '\\d{1,2}\\/\\d{1,2}\\/\\d{2}'))[1]\n",
    "        ||' '||\n",
    "    (REGEXP_MATCH(original_text, '\\/\\d{2}\\r\\n(\\d{4})'))[1] \n",
    "        ||' US/Eastern'\n",
    ")::TIMESTAMPTZ;\n",
    "\n",
    "SELECT crime_id,\n",
    "       date_1,\n",
    "       original_text\n",
    "FROM crime_reports;\n",
    "\"\"\"\n",
    "\n",
    "execute_query(conn, query)"
   ]
  },
  {
   "cell_type": "code",
   "execution_count": 67,
   "metadata": {},
   "outputs": [
    {
     "output_type": "execute_result",
     "data": {
      "text/plain": [
       "                     date_1                             street        city  \\\n",
       "0 2017-04-16 21:00:00-04:00            46000 Block Ashmere Sq.    Sterling   \n",
       "1 2017-04-08 16:00:00-04:00       46000 Block Potomac Run Plz.    Sterling   \n",
       "2 2017-04-04 14:00:00-04:00  24000 Block Hawthorn Thicket Ter.    Sterling   \n",
       "3 2017-04-10 16:05:00-04:00        21800 block Newlin Mill Rd.  Middleburg   \n",
       "4 2017-04-09 12:00:00-04:00           470000 block Fairway Dr.    Sterling   \n",
       "5 2017-04-16 21:00:00-04:00            46000 Block Ashmere Sq.    Sterling   \n",
       "6 2017-04-04 14:00:00-04:00  24000 Block Hawthorn Thicket Ter.    Sterling   \n",
       "7 2017-04-08 16:00:00-04:00       46000 Block Potomac Run Plz.    Sterling   \n",
       "8 2017-04-10 16:05:00-04:00        21800 block Newlin Mill Rd.  Middleburg   \n",
       "9 2017-04-09 12:00:00-04:00           470000 block Fairway Dr.    Sterling   \n",
       "\n",
       "                crime_type  \n",
       "0                  Larceny  \n",
       "1  Destruction of Property  \n",
       "2                  Larceny  \n",
       "3                  Larceny  \n",
       "4  Destruction of Property  \n",
       "5                  Larceny  \n",
       "6                  Larceny  \n",
       "7  Destruction of Property  \n",
       "8                  Larceny  \n",
       "9  Destruction of Property  "
      ],
      "text/html": "<div>\n<style scoped>\n    .dataframe tbody tr th:only-of-type {\n        vertical-align: middle;\n    }\n\n    .dataframe tbody tr th {\n        vertical-align: top;\n    }\n\n    .dataframe thead th {\n        text-align: right;\n    }\n</style>\n<table border=\"1\" class=\"dataframe\">\n  <thead>\n    <tr style=\"text-align: right;\">\n      <th></th>\n      <th>date_1</th>\n      <th>street</th>\n      <th>city</th>\n      <th>crime_type</th>\n    </tr>\n  </thead>\n  <tbody>\n    <tr>\n      <th>0</th>\n      <td>2017-04-16 21:00:00-04:00</td>\n      <td>46000 Block Ashmere Sq.</td>\n      <td>Sterling</td>\n      <td>Larceny</td>\n    </tr>\n    <tr>\n      <th>1</th>\n      <td>2017-04-08 16:00:00-04:00</td>\n      <td>46000 Block Potomac Run Plz.</td>\n      <td>Sterling</td>\n      <td>Destruction of Property</td>\n    </tr>\n    <tr>\n      <th>2</th>\n      <td>2017-04-04 14:00:00-04:00</td>\n      <td>24000 Block Hawthorn Thicket Ter.</td>\n      <td>Sterling</td>\n      <td>Larceny</td>\n    </tr>\n    <tr>\n      <th>3</th>\n      <td>2017-04-10 16:05:00-04:00</td>\n      <td>21800 block Newlin Mill Rd.</td>\n      <td>Middleburg</td>\n      <td>Larceny</td>\n    </tr>\n    <tr>\n      <th>4</th>\n      <td>2017-04-09 12:00:00-04:00</td>\n      <td>470000 block Fairway Dr.</td>\n      <td>Sterling</td>\n      <td>Destruction of Property</td>\n    </tr>\n    <tr>\n      <th>5</th>\n      <td>2017-04-16 21:00:00-04:00</td>\n      <td>46000 Block Ashmere Sq.</td>\n      <td>Sterling</td>\n      <td>Larceny</td>\n    </tr>\n    <tr>\n      <th>6</th>\n      <td>2017-04-04 14:00:00-04:00</td>\n      <td>24000 Block Hawthorn Thicket Ter.</td>\n      <td>Sterling</td>\n      <td>Larceny</td>\n    </tr>\n    <tr>\n      <th>7</th>\n      <td>2017-04-08 16:00:00-04:00</td>\n      <td>46000 Block Potomac Run Plz.</td>\n      <td>Sterling</td>\n      <td>Destruction of Property</td>\n    </tr>\n    <tr>\n      <th>8</th>\n      <td>2017-04-10 16:05:00-04:00</td>\n      <td>21800 block Newlin Mill Rd.</td>\n      <td>Middleburg</td>\n      <td>Larceny</td>\n    </tr>\n    <tr>\n      <th>9</th>\n      <td>2017-04-09 12:00:00-04:00</td>\n      <td>470000 block Fairway Dr.</td>\n      <td>Sterling</td>\n      <td>Destruction of Property</td>\n    </tr>\n  </tbody>\n</table>\n</div>"
     },
     "metadata": {},
     "execution_count": 67
    }
   ],
   "source": [
    "# Using CASE to handle special instances\n",
    "query = \"\"\"\n",
    "UPDATE crime_reports\n",
    "SET date_1 =\n",
    "(\n",
    "    (REGEXP_MATCH(original_text, '\\d{1,2}\\/\\d{1,2}\\/\\d{2}'))[1]\n",
    "        ||' '||\n",
    "    (REGEXP_MATCH(original_text, '\\/\\d{2}\\r\\n(\\d{4})'))[1] \n",
    "        ||' US/Eastern'\n",
    ")::TIMESTAMPTZ,\n",
    "\n",
    "date_2 =\n",
    "CASE\n",
    "    WHEN (SELECT REGEXP_MATCH(original_text, '-(\\d{1,2}\\/\\d{1,2}\\/\\d{1,2})') IS NULL)\n",
    "                    AND (SELECT REGEXP_MATCH(original_text, '\\/\\d{2}\\r\\n\\d{4}-(\\d{4})') IS NOT NULL)\n",
    "    THEN \n",
    "        ((REGEXP_MATCH(original_text, '\\d{1,2}\\/\\d{1,2}\\/\\d{2}'))[1]\n",
    "            || ' ' ||\n",
    "        (REGEXP_MATCH(original_text, '\\/\\d{2}\\r\\n\\d{4}-(\\d{4})'))[1] \n",
    "            ||' US/Eastern'\n",
    "        )::TIMESTAMPTZ \n",
    "\n",
    "    WHEN (SELECT REGEXP_MATCH(original_text, '-(\\d{1,2}\\/\\d{1,2}\\/\\d{1,2})') IS NOT NULL)\n",
    "            AND (SELECT REGEXP_MATCH(original_text, '\\/\\d{2}\\r\\n\\d{4}-(\\d{4})') IS NOT NULL)\n",
    "    THEN \n",
    "        ((REGEXP_MATCH(original_text, '-(\\d{1,2}\\/\\d{1,2}\\/\\d{1,2})'))[1]\n",
    "            || ' ' ||\n",
    "        (REGEXP_MATCH(original_text, '\\/\\d{2}\\r\\n\\d{4}-(\\d{4})'))[1] \n",
    "            ||' US/Eastern'\n",
    "        )::TIMESTAMPTZ\n",
    "    ELSE NULL \n",
    "END,\n",
    "street = (REGEXP_MATCH(original_text, 'hrs.\\r\\n(\\d+ .+(?:Sq.|Plz.|Dr.|Ter.|Rd.))'))[1],\n",
    "city = (REGEXP_MATCH(original_text,\n",
    "                        '(?:Sq.|Plz.|Dr.|Ter.|Rd.)\\r\\n(\\w+ \\w+|\\w+)\\r\\n'))[1],\n",
    "crime_type = (REGEXP_MATCH(original_text, '\\r\\n(?:\\w+ \\w+|\\w+)\\r\\n(.*):'))[1],\n",
    "description = (REGEXP_MATCH(original_text, ':\\s(.+)(?:C0|SO)'))[1],\n",
    "case_number = (REGEXP_MATCH(original_text, '(?:C0|SO)[0-9]+'))[1];\n",
    "\n",
    "SELECT date_1,\n",
    "    street,\n",
    "    city,\n",
    "    crime_type\n",
    "FROM crime_reports;\n",
    "\"\"\"\n",
    "\n",
    "execute_query(conn, query)"
   ]
  },
  {
   "cell_type": "code",
   "execution_count": 26,
   "metadata": {},
   "outputs": [
    {
     "output_type": "execute_result",
     "data": {
      "text/plain": [
       "              geo_name\n",
       "0        Bladen County\n",
       "1         Clare County\n",
       "2     Clarendon County\n",
       "3        Glades County\n",
       "4      Langlade County\n",
       "5  Philadelphia County\n",
       "6     Talladega County\n",
       "7        Tulare County"
      ],
      "text/html": "<div>\n<style scoped>\n    .dataframe tbody tr th:only-of-type {\n        vertical-align: middle;\n    }\n\n    .dataframe tbody tr th {\n        vertical-align: top;\n    }\n\n    .dataframe thead th {\n        text-align: right;\n    }\n</style>\n<table border=\"1\" class=\"dataframe\">\n  <thead>\n    <tr style=\"text-align: right;\">\n      <th></th>\n      <th>geo_name</th>\n    </tr>\n  </thead>\n  <tbody>\n    <tr>\n      <th>0</th>\n      <td>Bladen County</td>\n    </tr>\n    <tr>\n      <th>1</th>\n      <td>Clare County</td>\n    </tr>\n    <tr>\n      <th>2</th>\n      <td>Clarendon County</td>\n    </tr>\n    <tr>\n      <th>3</th>\n      <td>Glades County</td>\n    </tr>\n    <tr>\n      <th>4</th>\n      <td>Langlade County</td>\n    </tr>\n    <tr>\n      <th>5</th>\n      <td>Philadelphia County</td>\n    </tr>\n    <tr>\n      <th>6</th>\n      <td>Talladega County</td>\n    </tr>\n    <tr>\n      <th>7</th>\n      <td>Tulare County</td>\n    </tr>\n  </tbody>\n</table>\n</div>"
     },
     "metadata": {},
     "execution_count": 26
    }
   ],
   "source": [
    "# Using REGEX with WHERE()\n",
    "query = \"\"\"\n",
    "SELECT geo_name\n",
    "FROM us_counties_2010\n",
    "WHERE geo_name ~* '(.+lade.+|.+lare.+)'\n",
    "ORDER BY geo_name;\n",
    "\"\"\"\n",
    "\n",
    "execute_query(conn, query)"
   ]
  },
  {
   "cell_type": "code",
   "execution_count": 27,
   "metadata": {},
   "outputs": [
    {
     "output_type": "execute_result",
     "data": {
      "text/plain": [
       "         geo_name\n",
       "0     Nash County\n",
       "1   Wabash County\n",
       "2   Wabash County\n",
       "3  Wabasha County"
      ],
      "text/html": "<div>\n<style scoped>\n    .dataframe tbody tr th:only-of-type {\n        vertical-align: middle;\n    }\n\n    .dataframe tbody tr th {\n        vertical-align: top;\n    }\n\n    .dataframe thead th {\n        text-align: right;\n    }\n</style>\n<table border=\"1\" class=\"dataframe\">\n  <thead>\n    <tr style=\"text-align: right;\">\n      <th></th>\n      <th>geo_name</th>\n    </tr>\n  </thead>\n  <tbody>\n    <tr>\n      <th>0</th>\n      <td>Nash County</td>\n    </tr>\n    <tr>\n      <th>1</th>\n      <td>Wabash County</td>\n    </tr>\n    <tr>\n      <th>2</th>\n      <td>Wabash County</td>\n    </tr>\n    <tr>\n      <th>3</th>\n      <td>Wabasha County</td>\n    </tr>\n  </tbody>\n</table>\n</div>"
     },
     "metadata": {},
     "execution_count": 27
    }
   ],
   "source": [
    "# More examples of using REGEX with WHERE()\n",
    "query = \"\"\"\n",
    "SELECT geo_name\n",
    "FROM us_counties_2010\n",
    "WHERE geo_name ~* '.+ash.+' AND geo_name !~ 'Wash.+'\n",
    "ORDER BY geo_name;\n",
    "\"\"\"\n",
    "\n",
    "execute_query(conn, query)"
   ]
  },
  {
   "cell_type": "code",
   "execution_count": 28,
   "metadata": {},
   "outputs": [
    {
     "output_type": "execute_result",
     "data": {
      "text/plain": [
       "                              to_tsvector\n",
       "0  'across':4 'room':7 'sit':6,9 'walk':3"
      ],
      "text/html": "<div>\n<style scoped>\n    .dataframe tbody tr th:only-of-type {\n        vertical-align: middle;\n    }\n\n    .dataframe tbody tr th {\n        vertical-align: top;\n    }\n\n    .dataframe thead th {\n        text-align: right;\n    }\n</style>\n<table border=\"1\" class=\"dataframe\">\n  <thead>\n    <tr style=\"text-align: right;\">\n      <th></th>\n      <th>to_tsvector</th>\n    </tr>\n  </thead>\n  <tbody>\n    <tr>\n      <th>0</th>\n      <td>'across':4 'room':7 'sit':6,9 'walk':3</td>\n    </tr>\n  </tbody>\n</table>\n</div>"
     },
     "metadata": {},
     "execution_count": 28
    }
   ],
   "source": [
    "# Examining text as lexemes with TO_TSVECTOR()\n",
    "query = \" SELECT TO_TSVECTOR('I am walking across the sitting room to sit with you.');\"\n",
    "\n",
    "execute_query(conn, query)"
   ]
  },
  {
   "cell_type": "code",
   "execution_count": 29,
   "metadata": {},
   "outputs": [
    {
     "output_type": "execute_result",
     "data": {
      "text/plain": [
       "       to_tsquery\n",
       "0  'walk' & 'sit'"
      ],
      "text/html": "<div>\n<style scoped>\n    .dataframe tbody tr th:only-of-type {\n        vertical-align: middle;\n    }\n\n    .dataframe tbody tr th {\n        vertical-align: top;\n    }\n\n    .dataframe thead th {\n        text-align: right;\n    }\n</style>\n<table border=\"1\" class=\"dataframe\">\n  <thead>\n    <tr style=\"text-align: right;\">\n      <th></th>\n      <th>to_tsquery</th>\n    </tr>\n  </thead>\n  <tbody>\n    <tr>\n      <th>0</th>\n      <td>'walk' &amp; 'sit'</td>\n    </tr>\n  </tbody>\n</table>\n</div>"
     },
     "metadata": {},
     "execution_count": 29
    }
   ],
   "source": [
    "# Examining the TSQUERY() function\n",
    "query = \"SELECT TO_TSQUERY('walking & sitting')\"\n",
    "\n",
    "execute_query(conn, query)"
   ]
  },
  {
   "cell_type": "code",
   "execution_count": 30,
   "metadata": {},
   "outputs": [
    {
     "output_type": "execute_result",
     "data": {
      "text/plain": [
       "   ?column?\n",
       "0      True"
      ],
      "text/html": "<div>\n<style scoped>\n    .dataframe tbody tr th:only-of-type {\n        vertical-align: middle;\n    }\n\n    .dataframe tbody tr th {\n        vertical-align: top;\n    }\n\n    .dataframe thead th {\n        text-align: right;\n    }\n</style>\n<table border=\"1\" class=\"dataframe\">\n  <thead>\n    <tr style=\"text-align: right;\">\n      <th></th>\n      <th>?column?</th>\n    </tr>\n  </thead>\n  <tbody>\n    <tr>\n      <th>0</th>\n      <td>True</td>\n    </tr>\n  </tbody>\n</table>\n</div>"
     },
     "metadata": {},
     "execution_count": 30
    }
   ],
   "source": [
    "# Using the @@ match operator for searching\n",
    "query = \"SELECT TO_TSVECTOR('I am walking across the sitting room') @@ TO_TSQUERY('walking & sitting')\"\n",
    "\n",
    "execute_query(conn, query)"
   ]
  },
  {
   "source": [
    "For the next part of the chapter, a table titled, 'president_speeches, was created. Please refer to the books documentation for more information."
   ],
   "cell_type": "markdown",
   "metadata": {}
  },
  {
   "cell_type": "code",
   "execution_count": 32,
   "metadata": {},
   "outputs": [
    {
     "output_type": "execute_result",
     "data": {
      "text/plain": [
       "   sotu_id        president  \\\n",
       "0        1  Harry S. Truman   \n",
       "1        2  Harry S. Truman   \n",
       "2        3  Harry S. Truman   \n",
       "3        4  Harry S. Truman   \n",
       "4        5  Harry S. Truman   \n",
       "\n",
       "                                               title speech_date  \\\n",
       "0  Message to the Congress on the State of the Un...  1946-01-21   \n",
       "1  Annual Message to the Congress on the State of...  1947-01-06   \n",
       "2  Annual Message to the Congress on the State of...  1948-01-07   \n",
       "3  Annual Message to the Congress on the State of...  1949-01-05   \n",
       "4  Annual Message to the Congress on the State of...  1950-01-04   \n",
       "\n",
       "                                         speech_text search_speech_text  \n",
       "0  To the Congress of the United States:\\r\\nA qua...               None  \n",
       "1  Mr. President, Mr. Speaker, Members of the Con...               None  \n",
       "2  Mr. President, Mr. Speaker, and Members of the...               None  \n",
       "3  Mr. President, Mr. Speaker, Members of the Con...               None  \n",
       "4  Mr. President, Mr. Speaker, Members of the Con...               None  "
      ],
      "text/html": "<div>\n<style scoped>\n    .dataframe tbody tr th:only-of-type {\n        vertical-align: middle;\n    }\n\n    .dataframe tbody tr th {\n        vertical-align: top;\n    }\n\n    .dataframe thead th {\n        text-align: right;\n    }\n</style>\n<table border=\"1\" class=\"dataframe\">\n  <thead>\n    <tr style=\"text-align: right;\">\n      <th></th>\n      <th>sotu_id</th>\n      <th>president</th>\n      <th>title</th>\n      <th>speech_date</th>\n      <th>speech_text</th>\n      <th>search_speech_text</th>\n    </tr>\n  </thead>\n  <tbody>\n    <tr>\n      <th>0</th>\n      <td>1</td>\n      <td>Harry S. Truman</td>\n      <td>Message to the Congress on the State of the Un...</td>\n      <td>1946-01-21</td>\n      <td>To the Congress of the United States:\\r\\nA qua...</td>\n      <td>None</td>\n    </tr>\n    <tr>\n      <th>1</th>\n      <td>2</td>\n      <td>Harry S. Truman</td>\n      <td>Annual Message to the Congress on the State of...</td>\n      <td>1947-01-06</td>\n      <td>Mr. President, Mr. Speaker, Members of the Con...</td>\n      <td>None</td>\n    </tr>\n    <tr>\n      <th>2</th>\n      <td>3</td>\n      <td>Harry S. Truman</td>\n      <td>Annual Message to the Congress on the State of...</td>\n      <td>1948-01-07</td>\n      <td>Mr. President, Mr. Speaker, and Members of the...</td>\n      <td>None</td>\n    </tr>\n    <tr>\n      <th>3</th>\n      <td>4</td>\n      <td>Harry S. Truman</td>\n      <td>Annual Message to the Congress on the State of...</td>\n      <td>1949-01-05</td>\n      <td>Mr. President, Mr. Speaker, Members of the Con...</td>\n      <td>None</td>\n    </tr>\n    <tr>\n      <th>4</th>\n      <td>5</td>\n      <td>Harry S. Truman</td>\n      <td>Annual Message to the Congress on the State of...</td>\n      <td>1950-01-04</td>\n      <td>Mr. President, Mr. Speaker, Members of the Con...</td>\n      <td>None</td>\n    </tr>\n  </tbody>\n</table>\n</div>"
     },
     "metadata": {},
     "execution_count": 32
    }
   ],
   "source": [
    "# Creating a table for full text search and looking at the results\n",
    "query = \"SELECT * FROM president_speeches LIMIT 5;\"\n",
    "\n",
    "execute_query(conn, query)"
   ]
  },
  {
   "cell_type": "code",
   "execution_count": 38,
   "metadata": {},
   "outputs": [
    {
     "output_type": "execute_result",
     "data": {
      "text/plain": [
       "   sotu_id        president  \\\n",
       "0        1  Harry S. Truman   \n",
       "1        2  Harry S. Truman   \n",
       "2        3  Harry S. Truman   \n",
       "3        4  Harry S. Truman   \n",
       "4        5  Harry S. Truman   \n",
       "\n",
       "                                               title speech_date  \\\n",
       "0  Message to the Congress on the State of the Un...  1946-01-21   \n",
       "1  Annual Message to the Congress on the State of...  1947-01-06   \n",
       "2  Annual Message to the Congress on the State of...  1948-01-07   \n",
       "3  Annual Message to the Congress on the State of...  1949-01-05   \n",
       "4  Annual Message to the Congress on the State of...  1950-01-04   \n",
       "\n",
       "                                         speech_text  \\\n",
       "0  To the Congress of the United States:\\r\\nA qua...   \n",
       "1  Mr. President, Mr. Speaker, Members of the Con...   \n",
       "2  Mr. President, Mr. Speaker, and Members of the...   \n",
       "3  Mr. President, Mr. Speaker, Members of the Con...   \n",
       "4  Mr. President, Mr. Speaker, Members of the Con...   \n",
       "\n",
       "                                  search_speech_text  \n",
       "0  '-11':16383 '-17':12335 '-1945':704 '-39':1261...  \n",
       "1  '-1948':4371 '000':2925,4952,5515,5588 '070':5...  \n",
       "2  '1':2360,4112,4743 '10':469,480,483,533,699,20...  \n",
       "3  '1':2431 '16':73,3217 '1929':476 '1945':3203 '...  \n",
       "4  '1930':1604 '1948':4316 '1949':3413 '1950':362...  "
      ],
      "text/html": "<div>\n<style scoped>\n    .dataframe tbody tr th:only-of-type {\n        vertical-align: middle;\n    }\n\n    .dataframe tbody tr th {\n        vertical-align: top;\n    }\n\n    .dataframe thead th {\n        text-align: right;\n    }\n</style>\n<table border=\"1\" class=\"dataframe\">\n  <thead>\n    <tr style=\"text-align: right;\">\n      <th></th>\n      <th>sotu_id</th>\n      <th>president</th>\n      <th>title</th>\n      <th>speech_date</th>\n      <th>speech_text</th>\n      <th>search_speech_text</th>\n    </tr>\n  </thead>\n  <tbody>\n    <tr>\n      <th>0</th>\n      <td>1</td>\n      <td>Harry S. Truman</td>\n      <td>Message to the Congress on the State of the Un...</td>\n      <td>1946-01-21</td>\n      <td>To the Congress of the United States:\\r\\nA qua...</td>\n      <td>'-11':16383 '-17':12335 '-1945':704 '-39':1261...</td>\n    </tr>\n    <tr>\n      <th>1</th>\n      <td>2</td>\n      <td>Harry S. Truman</td>\n      <td>Annual Message to the Congress on the State of...</td>\n      <td>1947-01-06</td>\n      <td>Mr. President, Mr. Speaker, Members of the Con...</td>\n      <td>'-1948':4371 '000':2925,4952,5515,5588 '070':5...</td>\n    </tr>\n    <tr>\n      <th>2</th>\n      <td>3</td>\n      <td>Harry S. Truman</td>\n      <td>Annual Message to the Congress on the State of...</td>\n      <td>1948-01-07</td>\n      <td>Mr. President, Mr. Speaker, and Members of the...</td>\n      <td>'1':2360,4112,4743 '10':469,480,483,533,699,20...</td>\n    </tr>\n    <tr>\n      <th>3</th>\n      <td>4</td>\n      <td>Harry S. Truman</td>\n      <td>Annual Message to the Congress on the State of...</td>\n      <td>1949-01-05</td>\n      <td>Mr. President, Mr. Speaker, Members of the Con...</td>\n      <td>'1':2431 '16':73,3217 '1929':476 '1945':3203 '...</td>\n    </tr>\n    <tr>\n      <th>4</th>\n      <td>5</td>\n      <td>Harry S. Truman</td>\n      <td>Annual Message to the Congress on the State of...</td>\n      <td>1950-01-04</td>\n      <td>Mr. President, Mr. Speaker, Members of the Con...</td>\n      <td>'1930':1604 '1948':4316 '1949':3413 '1950':362...</td>\n    </tr>\n  </tbody>\n</table>\n</div>"
     },
     "metadata": {},
     "execution_count": 38
    }
   ],
   "source": [
    "# Copying the contents of the speech text column to the search_speech_text column while converting it to a tsvector data type\n",
    "query = \"\"\"\n",
    "UPDATE president_speeches\n",
    "SET search_speech_text = TO_TSVECTOR('english', speech_text);\n",
    "\n",
    "SELECT * FROM president_speeches LIMIT 5;\n",
    "\"\"\"\n",
    "\n",
    "execute_query(conn, query)"
   ]
  },
  {
   "cell_type": "code",
   "execution_count": 39,
   "metadata": {},
   "outputs": [
    {
     "output_type": "execute_result",
     "data": {
      "text/plain": [
       "           president speech_date\n",
       "0    John F. Kennedy  1961-05-25\n",
       "1  Lyndon B. Johnson  1966-01-12\n",
       "2  Lyndon B. Johnson  1967-01-10\n",
       "3  Lyndon B. Johnson  1968-01-17\n",
       "4  Lyndon B. Johnson  1969-01-14\n",
       "5   Richard M. Nixon  1970-01-22\n",
       "6   Richard M. Nixon  1972-01-20\n",
       "7   Richard M. Nixon  1973-02-02\n",
       "8     Gerald R. Ford  1975-01-15\n",
       "9     Gerald R. Ford  1977-01-12"
      ],
      "text/html": "<div>\n<style scoped>\n    .dataframe tbody tr th:only-of-type {\n        vertical-align: middle;\n    }\n\n    .dataframe tbody tr th {\n        vertical-align: top;\n    }\n\n    .dataframe thead th {\n        text-align: right;\n    }\n</style>\n<table border=\"1\" class=\"dataframe\">\n  <thead>\n    <tr style=\"text-align: right;\">\n      <th></th>\n      <th>president</th>\n      <th>speech_date</th>\n    </tr>\n  </thead>\n  <tbody>\n    <tr>\n      <th>0</th>\n      <td>John F. Kennedy</td>\n      <td>1961-05-25</td>\n    </tr>\n    <tr>\n      <th>1</th>\n      <td>Lyndon B. Johnson</td>\n      <td>1966-01-12</td>\n    </tr>\n    <tr>\n      <th>2</th>\n      <td>Lyndon B. Johnson</td>\n      <td>1967-01-10</td>\n    </tr>\n    <tr>\n      <th>3</th>\n      <td>Lyndon B. Johnson</td>\n      <td>1968-01-17</td>\n    </tr>\n    <tr>\n      <th>4</th>\n      <td>Lyndon B. Johnson</td>\n      <td>1969-01-14</td>\n    </tr>\n    <tr>\n      <th>5</th>\n      <td>Richard M. Nixon</td>\n      <td>1970-01-22</td>\n    </tr>\n    <tr>\n      <th>6</th>\n      <td>Richard M. Nixon</td>\n      <td>1972-01-20</td>\n    </tr>\n    <tr>\n      <th>7</th>\n      <td>Richard M. Nixon</td>\n      <td>1973-02-02</td>\n    </tr>\n    <tr>\n      <th>8</th>\n      <td>Gerald R. Ford</td>\n      <td>1975-01-15</td>\n    </tr>\n    <tr>\n      <th>9</th>\n      <td>Gerald R. Ford</td>\n      <td>1977-01-12</td>\n    </tr>\n  </tbody>\n</table>\n</div>"
     },
     "metadata": {},
     "execution_count": 39
    }
   ],
   "source": [
    "# Searching speech text in the president_speeches table\n",
    "query = \"\"\"\n",
    "SELECT president, speech_date\n",
    "FROM president_speeches\n",
    "WHERE search_speech_text @@ TO_TSQUERY('Vietnam')\n",
    "ORDER BY speech_date;\n",
    "\"\"\"\n",
    "\n",
    "execute_query(conn, query)"
   ]
  },
  {
   "cell_type": "code",
   "execution_count": 40,
   "metadata": {},
   "outputs": [
    {
     "output_type": "execute_result",
     "data": {
      "text/plain": [
       "           president speech_date  \\\n",
       "0    John F. Kennedy  1961-05-25   \n",
       "1  Lyndon B. Johnson  1966-01-12   \n",
       "2  Lyndon B. Johnson  1967-01-10   \n",
       "3  Lyndon B. Johnson  1968-01-17   \n",
       "4  Lyndon B. Johnson  1969-01-14   \n",
       "5   Richard M. Nixon  1970-01-22   \n",
       "6   Richard M. Nixon  1972-01-20   \n",
       "7   Richard M. Nixon  1973-02-02   \n",
       "8     Gerald R. Ford  1975-01-15   \n",
       "9     Gerald R. Ford  1977-01-12   \n",
       "\n",
       "                                         ts_headline  \n",
       "0   twelve months in <Vietnam> alone--by subversives  \n",
       "1                bitter conflict in <Vietnam>. Later  \n",
       "2              <Vietnam>--is not a simple one. There  \n",
       "3               been held in <Vietnam>--in the midst  \n",
       "4      conflict in <Vietnam>, the dangers of nuclear  \n",
       "5             <Vietnam> in a way that our generation  \n",
       "6                 <Vietnam> comes to an end, we must  \n",
       "7   have achieved in <Vietnam> has strengthened this  \n",
       "8  stress of the <Vietnam> war, legislative restr...  \n",
       "9       world.\\r\\nThe <Vietnam> war, both materially  "
      ],
      "text/html": "<div>\n<style scoped>\n    .dataframe tbody tr th:only-of-type {\n        vertical-align: middle;\n    }\n\n    .dataframe tbody tr th {\n        vertical-align: top;\n    }\n\n    .dataframe thead th {\n        text-align: right;\n    }\n</style>\n<table border=\"1\" class=\"dataframe\">\n  <thead>\n    <tr style=\"text-align: right;\">\n      <th></th>\n      <th>president</th>\n      <th>speech_date</th>\n      <th>ts_headline</th>\n    </tr>\n  </thead>\n  <tbody>\n    <tr>\n      <th>0</th>\n      <td>John F. Kennedy</td>\n      <td>1961-05-25</td>\n      <td>twelve months in &lt;Vietnam&gt; alone--by subversives</td>\n    </tr>\n    <tr>\n      <th>1</th>\n      <td>Lyndon B. Johnson</td>\n      <td>1966-01-12</td>\n      <td>bitter conflict in &lt;Vietnam&gt;. Later</td>\n    </tr>\n    <tr>\n      <th>2</th>\n      <td>Lyndon B. Johnson</td>\n      <td>1967-01-10</td>\n      <td>&lt;Vietnam&gt;--is not a simple one. There</td>\n    </tr>\n    <tr>\n      <th>3</th>\n      <td>Lyndon B. Johnson</td>\n      <td>1968-01-17</td>\n      <td>been held in &lt;Vietnam&gt;--in the midst</td>\n    </tr>\n    <tr>\n      <th>4</th>\n      <td>Lyndon B. Johnson</td>\n      <td>1969-01-14</td>\n      <td>conflict in &lt;Vietnam&gt;, the dangers of nuclear</td>\n    </tr>\n    <tr>\n      <th>5</th>\n      <td>Richard M. Nixon</td>\n      <td>1970-01-22</td>\n      <td>&lt;Vietnam&gt; in a way that our generation</td>\n    </tr>\n    <tr>\n      <th>6</th>\n      <td>Richard M. Nixon</td>\n      <td>1972-01-20</td>\n      <td>&lt;Vietnam&gt; comes to an end, we must</td>\n    </tr>\n    <tr>\n      <th>7</th>\n      <td>Richard M. Nixon</td>\n      <td>1973-02-02</td>\n      <td>have achieved in &lt;Vietnam&gt; has strengthened this</td>\n    </tr>\n    <tr>\n      <th>8</th>\n      <td>Gerald R. Ford</td>\n      <td>1975-01-15</td>\n      <td>stress of the &lt;Vietnam&gt; war, legislative restr...</td>\n    </tr>\n    <tr>\n      <th>9</th>\n      <td>Gerald R. Ford</td>\n      <td>1977-01-12</td>\n      <td>world.\\r\\nThe &lt;Vietnam&gt; war, both materially</td>\n    </tr>\n  </tbody>\n</table>\n</div>"
     },
     "metadata": {},
     "execution_count": 40
    }
   ],
   "source": [
    "# Showing search result locations\n",
    "query = \"\"\"\n",
    "SELECT president,\n",
    "    speech_date,\n",
    "    TS_HEADLINE(speech_text, TO_TSQUERY('Vietnam'),\n",
    "                'StartSel = <,\n",
    "                 StopSel = >,\n",
    "                 MinWords = 5,\n",
    "                 MaxWords = 7,\n",
    "                 MaxFragments = 1')\n",
    "FROM president_speeches\n",
    "WHERE search_speech_text @@ TO_TSQUERY('Vietnam');\n",
    "\"\"\"\n",
    "\n",
    "execute_query(conn, query)"
   ]
  },
  {
   "cell_type": "code",
   "execution_count": 43,
   "metadata": {},
   "outputs": [
    {
     "output_type": "execute_result",
     "data": {
      "text/plain": [
       "           president speech_date  \\\n",
       "0    Harry S. Truman  1947-01-06   \n",
       "1    Harry S. Truman  1949-01-05   \n",
       "2    John F. Kennedy  1961-01-30   \n",
       "3  Lyndon B. Johnson  1964-01-08   \n",
       "4  Lyndon B. Johnson  1967-01-10   \n",
       "5   Richard M. Nixon  1971-01-22   \n",
       "6   Richard M. Nixon  1972-01-20   \n",
       "7     Gerald R. Ford  1976-01-19   \n",
       "\n",
       "                                         ts_headline  \n",
       "0  such industries as <transportation>, coal, oil...  \n",
       "1  field of <transportation>.\\r\\n\\r\\nFifth, to au...  \n",
       "2  Obtaining additional air <transport> mobility-...  \n",
       "3  reformed our tangled <transportation> and tran...  \n",
       "4  develop the <transportation>, communications, ...  \n",
       "5  rural development, education, <transportation>...  \n",
       "6             education; to improve <transportation>  \n",
       "7  urban <transportation> systems; develop more a...  "
      ],
      "text/html": "<div>\n<style scoped>\n    .dataframe tbody tr th:only-of-type {\n        vertical-align: middle;\n    }\n\n    .dataframe tbody tr th {\n        vertical-align: top;\n    }\n\n    .dataframe thead th {\n        text-align: right;\n    }\n</style>\n<table border=\"1\" class=\"dataframe\">\n  <thead>\n    <tr style=\"text-align: right;\">\n      <th></th>\n      <th>president</th>\n      <th>speech_date</th>\n      <th>ts_headline</th>\n    </tr>\n  </thead>\n  <tbody>\n    <tr>\n      <th>0</th>\n      <td>Harry S. Truman</td>\n      <td>1947-01-06</td>\n      <td>such industries as &lt;transportation&gt;, coal, oil...</td>\n    </tr>\n    <tr>\n      <th>1</th>\n      <td>Harry S. Truman</td>\n      <td>1949-01-05</td>\n      <td>field of &lt;transportation&gt;.\\r\\n\\r\\nFifth, to au...</td>\n    </tr>\n    <tr>\n      <th>2</th>\n      <td>John F. Kennedy</td>\n      <td>1961-01-30</td>\n      <td>Obtaining additional air &lt;transport&gt; mobility-...</td>\n    </tr>\n    <tr>\n      <th>3</th>\n      <td>Lyndon B. Johnson</td>\n      <td>1964-01-08</td>\n      <td>reformed our tangled &lt;transportation&gt; and tran...</td>\n    </tr>\n    <tr>\n      <th>4</th>\n      <td>Lyndon B. Johnson</td>\n      <td>1967-01-10</td>\n      <td>develop the &lt;transportation&gt;, communications, ...</td>\n    </tr>\n    <tr>\n      <th>5</th>\n      <td>Richard M. Nixon</td>\n      <td>1971-01-22</td>\n      <td>rural development, education, &lt;transportation&gt;...</td>\n    </tr>\n    <tr>\n      <th>6</th>\n      <td>Richard M. Nixon</td>\n      <td>1972-01-20</td>\n      <td>education; to improve &lt;transportation&gt;</td>\n    </tr>\n    <tr>\n      <th>7</th>\n      <td>Gerald R. Ford</td>\n      <td>1976-01-19</td>\n      <td>urban &lt;transportation&gt; systems; develop more a...</td>\n    </tr>\n  </tbody>\n</table>\n</div>"
     },
     "metadata": {},
     "execution_count": 43
    }
   ],
   "source": [
    "# Using multiple search terms with TS_HEADLINE\n",
    "query = \"\"\"\n",
    "SELECT president,\n",
    "       speech_date,\n",
    "       TS_HEADLINE(speech_text, TO_TSQUERY('transportation & !roads'),\n",
    "                    'StartSel = <,\n",
    "                     StopSel = >,\n",
    "                     MinWords = 5,\n",
    "                     MaxWords = 7,\n",
    "                     MaxFragments = 1')\n",
    "FROM president_speeches\n",
    "WHERE search_speech_text @@ TO_TSQUERY('transportation & !roads');\n",
    "\"\"\"\n",
    "\n",
    "execute_query(conn, query)"
   ]
  },
  {
   "cell_type": "code",
   "execution_count": 44,
   "metadata": {},
   "outputs": [
    {
     "output_type": "execute_result",
     "data": {
      "text/plain": [
       "              president speech_date  \\\n",
       "0  Dwight D. Eisenhower  1956-01-05   \n",
       "1  Dwight D. Eisenhower  1958-01-09   \n",
       "2  Dwight D. Eisenhower  1959-01-09   \n",
       "3      Richard M. Nixon  1972-01-20   \n",
       "\n",
       "                                         ts_headline  \n",
       "0      system our <military> <defenses> are designed  \n",
       "1  direct <military> <defense> efforts, but likewise  \n",
       "2  survival--the <military> <defense> of national...  \n",
       "3  <defense> spending.\\r\\nStrong <military> <defe...  "
      ],
      "text/html": "<div>\n<style scoped>\n    .dataframe tbody tr th:only-of-type {\n        vertical-align: middle;\n    }\n\n    .dataframe tbody tr th {\n        vertical-align: top;\n    }\n\n    .dataframe thead th {\n        text-align: right;\n    }\n</style>\n<table border=\"1\" class=\"dataframe\">\n  <thead>\n    <tr style=\"text-align: right;\">\n      <th></th>\n      <th>president</th>\n      <th>speech_date</th>\n      <th>ts_headline</th>\n    </tr>\n  </thead>\n  <tbody>\n    <tr>\n      <th>0</th>\n      <td>Dwight D. Eisenhower</td>\n      <td>1956-01-05</td>\n      <td>system our &lt;military&gt; &lt;defenses&gt; are designed</td>\n    </tr>\n    <tr>\n      <th>1</th>\n      <td>Dwight D. Eisenhower</td>\n      <td>1958-01-09</td>\n      <td>direct &lt;military&gt; &lt;defense&gt; efforts, but likewise</td>\n    </tr>\n    <tr>\n      <th>2</th>\n      <td>Dwight D. Eisenhower</td>\n      <td>1959-01-09</td>\n      <td>survival--the &lt;military&gt; &lt;defense&gt; of national...</td>\n    </tr>\n    <tr>\n      <th>3</th>\n      <td>Richard M. Nixon</td>\n      <td>1972-01-20</td>\n      <td>&lt;defense&gt; spending.\\r\\nStrong &lt;military&gt; &lt;defe...</td>\n    </tr>\n  </tbody>\n</table>\n</div>"
     },
     "metadata": {},
     "execution_count": 44
    }
   ],
   "source": [
    "# Searching for adjacent words\n",
    "query = \"\"\"\n",
    "SELECT president,\n",
    "       speech_date,\n",
    "       TS_HEADLINE(speech_text, TO_TSQUERY('military <-> defense'),\n",
    "                    'StartSel = <,\n",
    "                     StopSel = >,\n",
    "                     MinWords = 5,\n",
    "                     MaxWords = 7,\n",
    "                     MaxFragments = 1')\n",
    "FROM president_speeches\n",
    "WHERE search_speech_text @@ TO_TSQUERY('military <-> defense');\n",
    "\"\"\"\n",
    "\n",
    "execute_query(conn, query)"
   ]
  },
  {
   "cell_type": "code",
   "execution_count": 47,
   "metadata": {},
   "outputs": [
    {
     "output_type": "execute_result",
     "data": {
      "text/plain": [
       "              president                                        speech_text  \\\n",
       "0     Lyndon B. Johnson  Mr. Speaker, Mr. President, Members of the Con...   \n",
       "1  Dwight D. Eisenhower  To the Congress of the United States:\\r\\nI app...   \n",
       "2      Richard M. Nixon  Mr. Speaker, Mr. President, my colleagues in t...   \n",
       "3       Harry S. Truman  Mr. President, Mr. Speaker, Members of the Con...   \n",
       "4  Dwight D. Eisenhower  Mr. President, Mr. Speaker, Members of the 85t...   \n",
       "\n",
       "          score  \n",
       "0  0.0000728288  \n",
       "1  0.0000633609  \n",
       "2  0.0000497998  \n",
       "3  0.0000365366  \n",
       "4  0.0000355315  "
      ],
      "text/html": "<div>\n<style scoped>\n    .dataframe tbody tr th:only-of-type {\n        vertical-align: middle;\n    }\n\n    .dataframe tbody tr th {\n        vertical-align: top;\n    }\n\n    .dataframe thead th {\n        text-align: right;\n    }\n</style>\n<table border=\"1\" class=\"dataframe\">\n  <thead>\n    <tr style=\"text-align: right;\">\n      <th></th>\n      <th>president</th>\n      <th>speech_text</th>\n      <th>score</th>\n    </tr>\n  </thead>\n  <tbody>\n    <tr>\n      <th>0</th>\n      <td>Lyndon B. Johnson</td>\n      <td>Mr. Speaker, Mr. President, Members of the Con...</td>\n      <td>0.0000728288</td>\n    </tr>\n    <tr>\n      <th>1</th>\n      <td>Dwight D. Eisenhower</td>\n      <td>To the Congress of the United States:\\r\\nI app...</td>\n      <td>0.0000633609</td>\n    </tr>\n    <tr>\n      <th>2</th>\n      <td>Richard M. Nixon</td>\n      <td>Mr. Speaker, Mr. President, my colleagues in t...</td>\n      <td>0.0000497998</td>\n    </tr>\n    <tr>\n      <th>3</th>\n      <td>Harry S. Truman</td>\n      <td>Mr. President, Mr. Speaker, Members of the Con...</td>\n      <td>0.0000365366</td>\n    </tr>\n    <tr>\n      <th>4</th>\n      <td>Dwight D. Eisenhower</td>\n      <td>Mr. President, Mr. Speaker, Members of the 85t...</td>\n      <td>0.0000355315</td>\n    </tr>\n  </tbody>\n</table>\n</div>"
     },
     "metadata": {},
     "execution_count": 47
    }
   ],
   "source": [
    "# Ranking queries by relevance\n",
    "query = \"\"\"\n",
    "SELECT president,\n",
    "       speech_text,\n",
    "       CAST(TS_RANK(search_speech_text,\n",
    "               TO_TSQUERY('war & security & threat & enemy'), 2) AS NUMERIC) AS score\n",
    "FROM president_speeches\n",
    "WHERE search_speech_text @@ TO_TSQUERY('war & security & threat & enemy')\n",
    "ORDER BY score DESC\n",
    "LIMIT 5;\n",
    "\"\"\"\n",
    "\n",
    "execute_query(conn, query)"
   ]
  },
  {
   "cell_type": "code",
   "execution_count": null,
   "metadata": {},
   "outputs": [],
   "source": []
  }
 ]
}