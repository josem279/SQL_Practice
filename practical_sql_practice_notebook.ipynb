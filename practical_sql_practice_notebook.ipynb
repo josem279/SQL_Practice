{
 "metadata": {
  "language_info": {
   "codemirror_mode": {
    "name": "ipython",
    "version": 3
   },
   "file_extension": ".py",
   "mimetype": "text/x-python",
   "name": "python",
   "nbconvert_exporter": "python",
   "pygments_lexer": "ipython3",
   "version": "3.9.1-final"
  },
  "orig_nbformat": 2,
  "kernelspec": {
   "name": "python3",
   "display_name": "Python 3.9.1 64-bit",
   "metadata": {
    "interpreter": {
     "hash": "b5843a13e7131a14c3c0e364f0390d6592a995e3082c3f83420ac4385eeb2370"
    }
   }
  }
 },
 "nbformat": 4,
 "nbformat_minor": 2,
 "cells": [
  {
   "source": [
    "# Practical SQL: Chapter Practice Notebook\n",
    "\n",
    "This Jupyter notebook will display all SQL queries and practices covered in each chapter of the book \"Practical SQL: A Beginner's Guide To Storytelling With Data\" by Anthony DeBarros.\n",
    "\n",
    "The first part of this notebook will require us to import a couple of dependencies as well as personal data that will allow us to link out Jupyter Notebook to PostgreSQL."
   ],
   "cell_type": "markdown",
   "metadata": {}
  },
  {
   "cell_type": "code",
   "execution_count": 1,
   "metadata": {},
   "outputs": [],
   "source": [
    "import psycopg2\n",
    "import pandas as pd\n",
    "from sql_data import db, usr, pwd"
   ]
  },
  {
   "cell_type": "code",
   "execution_count": 2,
   "metadata": {},
   "outputs": [],
   "source": [
    "# Connecting to postgreSQL database\n",
    "conn = psycopg2.connect(\n",
    "    host = \"localhost\",\n",
    "    database = db,\n",
    "    user = usr,\n",
    "    password = pwd,\n",
    "    port = 5432\n",
    ")\n",
    "\n",
    "def execute_query(connection, query):\n",
    "    connection.autocommit = True\n",
    "    cursor = connection.cursor()\n",
    "    try:\n",
    "        cursor.execute(query)\n",
    "        results = cursor.fetchall()\n",
    "        column_names = [i[0] for i in cursor.description]\n",
    "        results = pd.DataFrame(results, columns= column_names)\n",
    "        return results\n",
    "        return print(\"Query executed succesfully!\")\n",
    "        # Closing the cursor\n",
    "        cursor.close()\n",
    "        del cursor\n",
    "        # Closing the connection\n",
    "        connection.close()\n",
    "    except OperationalError as e:\n",
    "        print(f\"The error '{e}' occurred.\")"
   ]
  },
  {
   "source": [
    "## Chapter 8: Extracting Information By Grouping and Summarizing\n",
    "\n",
    "This chapter requires us to build two tables based on the 2009 and 2014 Public Library Surveys conducted by the Institute of Museum and Library Services (IMLS). Please refer to the books resources as detailed in the readme page to gain access to the csv files needed to fill in the two library tables used henceforth."
   ],
   "cell_type": "markdown",
   "metadata": {}
  },
  {
   "cell_type": "code",
   "execution_count": 3,
   "metadata": {},
   "outputs": [
    {
     "output_type": "execute_result",
     "data": {
      "text/plain": [
       "   count\n",
       "0   9305"
      ],
      "text/html": "<div>\n<style scoped>\n    .dataframe tbody tr th:only-of-type {\n        vertical-align: middle;\n    }\n\n    .dataframe tbody tr th {\n        vertical-align: top;\n    }\n\n    .dataframe thead th {\n        text-align: right;\n    }\n</style>\n<table border=\"1\" class=\"dataframe\">\n  <thead>\n    <tr style=\"text-align: right;\">\n      <th></th>\n      <th>count</th>\n    </tr>\n  </thead>\n  <tbody>\n    <tr>\n      <th>0</th>\n      <td>9305</td>\n    </tr>\n  </tbody>\n</table>\n</div>"
     },
     "metadata": {},
     "execution_count": 3
    }
   ],
   "source": [
    "# Exploring the Library Data Using Aggregate Functions\n",
    "# Counting Rows and Values using Count()\n",
    "\n",
    "query = \"\"\"\n",
    "SELECT COUNT(*)\n",
    "FROM pls_fy2014_pupld14a;\n",
    "\"\"\"\n",
    "\n",
    "execute_query(conn, query)"
   ]
  },
  {
   "cell_type": "code",
   "execution_count": 4,
   "metadata": {},
   "outputs": [
    {
     "output_type": "execute_result",
     "data": {
      "text/plain": [
       "   count\n",
       "0   9299"
      ],
      "text/html": "<div>\n<style scoped>\n    .dataframe tbody tr th:only-of-type {\n        vertical-align: middle;\n    }\n\n    .dataframe tbody tr th {\n        vertical-align: top;\n    }\n\n    .dataframe thead th {\n        text-align: right;\n    }\n</style>\n<table border=\"1\" class=\"dataframe\">\n  <thead>\n    <tr style=\"text-align: right;\">\n      <th></th>\n      <th>count</th>\n    </tr>\n  </thead>\n  <tbody>\n    <tr>\n      <th>0</th>\n      <td>9299</td>\n    </tr>\n  </tbody>\n</table>\n</div>"
     },
     "metadata": {},
     "execution_count": 4
    }
   ],
   "source": [
    "query = \"\"\"\n",
    "SELECT COUNT(*)\n",
    "FROM pls_fy2009_pupld09a;\n",
    "\"\"\"\n",
    "\n",
    "execute_query(conn, query)"
   ]
  },
  {
   "cell_type": "code",
   "execution_count": 5,
   "metadata": {},
   "outputs": [
    {
     "output_type": "execute_result",
     "data": {
      "text/plain": [
       "   count\n",
       "0   5983"
      ],
      "text/html": "<div>\n<style scoped>\n    .dataframe tbody tr th:only-of-type {\n        vertical-align: middle;\n    }\n\n    .dataframe tbody tr th {\n        vertical-align: top;\n    }\n\n    .dataframe thead th {\n        text-align: right;\n    }\n</style>\n<table border=\"1\" class=\"dataframe\">\n  <thead>\n    <tr style=\"text-align: right;\">\n      <th></th>\n      <th>count</th>\n    </tr>\n  </thead>\n  <tbody>\n    <tr>\n      <th>0</th>\n      <td>5983</td>\n    </tr>\n  </tbody>\n</table>\n</div>"
     },
     "metadata": {},
     "execution_count": 5
    }
   ],
   "source": [
    "# Examining the count of rows in columns where the NOT NULL constraint was not applied\n",
    "query = \"\"\"\n",
    "SELECT COUNT(salaries)\n",
    "FROM pls_fy2014_pupld14a;\n",
    "\"\"\"\n",
    "execute_query(conn,query)"
   ]
  },
  {
   "cell_type": "code",
   "execution_count": 6,
   "metadata": {},
   "outputs": [
    {
     "output_type": "execute_result",
     "data": {
      "text/plain": [
       "   count\n",
       "0   9305"
      ],
      "text/html": "<div>\n<style scoped>\n    .dataframe tbody tr th:only-of-type {\n        vertical-align: middle;\n    }\n\n    .dataframe tbody tr th {\n        vertical-align: top;\n    }\n\n    .dataframe thead th {\n        text-align: right;\n    }\n</style>\n<table border=\"1\" class=\"dataframe\">\n  <thead>\n    <tr style=\"text-align: right;\">\n      <th></th>\n      <th>count</th>\n    </tr>\n  </thead>\n  <tbody>\n    <tr>\n      <th>0</th>\n      <td>9305</td>\n    </tr>\n  </tbody>\n</table>\n</div>"
     },
     "metadata": {},
     "execution_count": 6
    }
   ],
   "source": [
    "# Using the DISTINCT function to see how many unique values are contained within a column\n",
    "# This query returns the count of all rows\n",
    "query = \"\"\"\n",
    "SELECT COUNT(libname)\n",
    "FROM pls_fy2014_pupld14a;\n",
    "\"\"\"\n",
    "execute_query(conn,query)"
   ]
  },
  {
   "cell_type": "code",
   "execution_count": 7,
   "metadata": {},
   "outputs": [
    {
     "output_type": "execute_result",
     "data": {
      "text/plain": [
       "   count\n",
       "0   8515"
      ],
      "text/html": "<div>\n<style scoped>\n    .dataframe tbody tr th:only-of-type {\n        vertical-align: middle;\n    }\n\n    .dataframe tbody tr th {\n        vertical-align: top;\n    }\n\n    .dataframe thead th {\n        text-align: right;\n    }\n</style>\n<table border=\"1\" class=\"dataframe\">\n  <thead>\n    <tr style=\"text-align: right;\">\n      <th></th>\n      <th>count</th>\n    </tr>\n  </thead>\n  <tbody>\n    <tr>\n      <th>0</th>\n      <td>8515</td>\n    </tr>\n  </tbody>\n</table>\n</div>"
     },
     "metadata": {},
     "execution_count": 7
    }
   ],
   "source": [
    "# This query return the unique values of the same column. The number should be smaller as there are some duplicated values.\n",
    "query = \"\"\"\n",
    "SELECT COUNT(DISTINCT(libname))\n",
    "FROM pls_fy2014_pupld14a;\n",
    "\"\"\"\n",
    "execute_query(conn,query)"
   ]
  },
  {
   "cell_type": "code",
   "execution_count": 8,
   "metadata": {},
   "outputs": [
    {
     "output_type": "execute_result",
     "data": {
      "text/plain": [
       "        max  min\n",
       "0  17729020   -3"
      ],
      "text/html": "<div>\n<style scoped>\n    .dataframe tbody tr th:only-of-type {\n        vertical-align: middle;\n    }\n\n    .dataframe tbody tr th {\n        vertical-align: top;\n    }\n\n    .dataframe thead th {\n        text-align: right;\n    }\n</style>\n<table border=\"1\" class=\"dataframe\">\n  <thead>\n    <tr style=\"text-align: right;\">\n      <th></th>\n      <th>max</th>\n      <th>min</th>\n    </tr>\n  </thead>\n  <tbody>\n    <tr>\n      <th>0</th>\n      <td>17729020</td>\n      <td>-3</td>\n    </tr>\n  </tbody>\n</table>\n</div>"
     },
     "metadata": {},
     "execution_count": 8
    }
   ],
   "source": [
    "# Finding Maximum and Minimum Values Using MAX() and MIN()\n",
    "query = \"\"\"\n",
    "SELECT MAX(visits), MIN(visits)\n",
    "FROM pls_fy2014_pupld14a;\n",
    "\"\"\"\n",
    "execute_query(conn, query)"
   ]
  },
  {
   "cell_type": "code",
   "execution_count": 9,
   "metadata": {},
   "outputs": [
    {
     "output_type": "execute_result",
     "data": {
      "text/plain": [
       "  stabr  count\n",
       "0    NY    756\n",
       "1    IL    625\n",
       "2    TX    556\n",
       "3    IA    543\n",
       "4    PA    455"
      ],
      "text/html": "<div>\n<style scoped>\n    .dataframe tbody tr th:only-of-type {\n        vertical-align: middle;\n    }\n\n    .dataframe tbody tr th {\n        vertical-align: top;\n    }\n\n    .dataframe thead th {\n        text-align: right;\n    }\n</style>\n<table border=\"1\" class=\"dataframe\">\n  <thead>\n    <tr style=\"text-align: right;\">\n      <th></th>\n      <th>stabr</th>\n      <th>count</th>\n    </tr>\n  </thead>\n  <tbody>\n    <tr>\n      <th>0</th>\n      <td>NY</td>\n      <td>756</td>\n    </tr>\n    <tr>\n      <th>1</th>\n      <td>IL</td>\n      <td>625</td>\n    </tr>\n    <tr>\n      <th>2</th>\n      <td>TX</td>\n      <td>556</td>\n    </tr>\n    <tr>\n      <th>3</th>\n      <td>IA</td>\n      <td>543</td>\n    </tr>\n    <tr>\n      <th>4</th>\n      <td>PA</td>\n      <td>455</td>\n    </tr>\n  </tbody>\n</table>\n</div>"
     },
     "metadata": {},
     "execution_count": 9
    }
   ],
   "source": [
    "# Aggregating Data Using GROUP BY\n",
    "\n",
    "# Combining GROUP BY clause with COUNT()\n",
    "query = \"\"\"\n",
    "SELECT stabr, COUNT(*)\n",
    "FROM pls_fy2014_pupld14a\n",
    "GROUP BY stabr\n",
    "ORDER BY COUNT(*) DESC\n",
    "LIMIT 5;\n",
    "\"\"\"\n",
    "execute_query(conn, query)"
   ]
  },
  {
   "cell_type": "code",
   "execution_count": 10,
   "metadata": {},
   "outputs": [
    {
     "output_type": "execute_result",
     "data": {
      "text/plain": [
       "    stabr stataddr  count\n",
       "0      AK       00     70\n",
       "1      AK       15     10\n",
       "2      AK       07      5\n",
       "3      AL       00    221\n",
       "4      AL       07      3\n",
       "..    ...      ...    ...\n",
       "101    WI       07      6\n",
       "102    WI       15      3\n",
       "103    WV       00     93\n",
       "104    WV       15      4\n",
       "105    WY       00     23\n",
       "\n",
       "[106 rows x 3 columns]"
      ],
      "text/html": "<div>\n<style scoped>\n    .dataframe tbody tr th:only-of-type {\n        vertical-align: middle;\n    }\n\n    .dataframe tbody tr th {\n        vertical-align: top;\n    }\n\n    .dataframe thead th {\n        text-align: right;\n    }\n</style>\n<table border=\"1\" class=\"dataframe\">\n  <thead>\n    <tr style=\"text-align: right;\">\n      <th></th>\n      <th>stabr</th>\n      <th>stataddr</th>\n      <th>count</th>\n    </tr>\n  </thead>\n  <tbody>\n    <tr>\n      <th>0</th>\n      <td>AK</td>\n      <td>00</td>\n      <td>70</td>\n    </tr>\n    <tr>\n      <th>1</th>\n      <td>AK</td>\n      <td>15</td>\n      <td>10</td>\n    </tr>\n    <tr>\n      <th>2</th>\n      <td>AK</td>\n      <td>07</td>\n      <td>5</td>\n    </tr>\n    <tr>\n      <th>3</th>\n      <td>AL</td>\n      <td>00</td>\n      <td>221</td>\n    </tr>\n    <tr>\n      <th>4</th>\n      <td>AL</td>\n      <td>07</td>\n      <td>3</td>\n    </tr>\n    <tr>\n      <th>...</th>\n      <td>...</td>\n      <td>...</td>\n      <td>...</td>\n    </tr>\n    <tr>\n      <th>101</th>\n      <td>WI</td>\n      <td>07</td>\n      <td>6</td>\n    </tr>\n    <tr>\n      <th>102</th>\n      <td>WI</td>\n      <td>15</td>\n      <td>3</td>\n    </tr>\n    <tr>\n      <th>103</th>\n      <td>WV</td>\n      <td>00</td>\n      <td>93</td>\n    </tr>\n    <tr>\n      <th>104</th>\n      <td>WV</td>\n      <td>15</td>\n      <td>4</td>\n    </tr>\n    <tr>\n      <th>105</th>\n      <td>WY</td>\n      <td>00</td>\n      <td>23</td>\n    </tr>\n  </tbody>\n</table>\n<p>106 rows × 3 columns</p>\n</div>"
     },
     "metadata": {},
     "execution_count": 10
    }
   ],
   "source": [
    "# Aggregating data from multiple columns using GROUP BY\n",
    "query = \"\"\"\n",
    "SELECT stabr, stataddr, COUNT(*)\n",
    "FROM pls_fy2014_pupld14a\n",
    "GROUP BY stabr, stataddr\n",
    "ORDER BY stabr ASC, COUNT(*) DESC;\n",
    "\"\"\"\n",
    "\n",
    "execute_query(conn, query)"
   ]
  },
  {
   "cell_type": "code",
   "execution_count": 11,
   "metadata": {},
   "outputs": [
    {
     "output_type": "execute_result",
     "data": {
      "text/plain": [
       "   visits_2014  visits_2009\n",
       "0   1417299241   1585455205"
      ],
      "text/html": "<div>\n<style scoped>\n    .dataframe tbody tr th:only-of-type {\n        vertical-align: middle;\n    }\n\n    .dataframe tbody tr th {\n        vertical-align: top;\n    }\n\n    .dataframe thead th {\n        text-align: right;\n    }\n</style>\n<table border=\"1\" class=\"dataframe\">\n  <thead>\n    <tr style=\"text-align: right;\">\n      <th></th>\n      <th>visits_2014</th>\n      <th>visits_2009</th>\n    </tr>\n  </thead>\n  <tbody>\n    <tr>\n      <th>0</th>\n      <td>1417299241</td>\n      <td>1585455205</td>\n    </tr>\n  </tbody>\n</table>\n</div>"
     },
     "metadata": {},
     "execution_count": 11
    }
   ],
   "source": [
    "# Aggregating data from multiple joined tables\n",
    "\n",
    "# No aggregation but here we are trying to determine trends in library visists using the 2014 and 2009 tables \n",
    "query = \"\"\"\n",
    "SELECT SUM(pls14.visits) AS visits_2014,\n",
    "    SUM(pls09.visits) AS visits_2009\n",
    "FROM pls_fy2014_pupld14a AS pls14\n",
    "JOIN pls_fy2009_pupld09a AS pls09\n",
    "    ON pls14.fscskey = pls09.fscskey\n",
    "WHERE pls14.visits >=0 AND pls09.visits >= 0;\n",
    "\"\"\"\n",
    "\n",
    "execute_query(conn, query)"
   ]
  },
  {
   "cell_type": "code",
   "execution_count": 12,
   "metadata": {},
   "outputs": [
    {
     "output_type": "execute_result",
     "data": {
      "text/plain": [
       "  stabr  visits_2014  visits_2009 pct_change\n",
       "0    GU       103593        60763      70.49\n",
       "1    DC      4230790      2944774      43.67\n",
       "2    LA     17242110     15591805      10.58\n",
       "3    MT      4582604      4386504       4.47\n",
       "4    AL     17113602     16933967       1.06"
      ],
      "text/html": "<div>\n<style scoped>\n    .dataframe tbody tr th:only-of-type {\n        vertical-align: middle;\n    }\n\n    .dataframe tbody tr th {\n        vertical-align: top;\n    }\n\n    .dataframe thead th {\n        text-align: right;\n    }\n</style>\n<table border=\"1\" class=\"dataframe\">\n  <thead>\n    <tr style=\"text-align: right;\">\n      <th></th>\n      <th>stabr</th>\n      <th>visits_2014</th>\n      <th>visits_2009</th>\n      <th>pct_change</th>\n    </tr>\n  </thead>\n  <tbody>\n    <tr>\n      <th>0</th>\n      <td>GU</td>\n      <td>103593</td>\n      <td>60763</td>\n      <td>70.49</td>\n    </tr>\n    <tr>\n      <th>1</th>\n      <td>DC</td>\n      <td>4230790</td>\n      <td>2944774</td>\n      <td>43.67</td>\n    </tr>\n    <tr>\n      <th>2</th>\n      <td>LA</td>\n      <td>17242110</td>\n      <td>15591805</td>\n      <td>10.58</td>\n    </tr>\n    <tr>\n      <th>3</th>\n      <td>MT</td>\n      <td>4582604</td>\n      <td>4386504</td>\n      <td>4.47</td>\n    </tr>\n    <tr>\n      <th>4</th>\n      <td>AL</td>\n      <td>17113602</td>\n      <td>16933967</td>\n      <td>1.06</td>\n    </tr>\n  </tbody>\n</table>\n</div>"
     },
     "metadata": {},
     "execution_count": 12
    }
   ],
   "source": [
    "# Aggregating data to compare trends by states\n",
    "query = \"\"\"\n",
    "SELECT\n",
    "    pls14.stabr,\n",
    "    SUM(pls14.visits) AS visits_2014,\n",
    "    SUM(pls09.visits) AS visits_2009,\n",
    "    ROUND( (CAST(SUM(pls14.visits) AS DECIMAL(10, 1)) - SUM(pls09.visits)) /\n",
    "        SUM(pls09.visits) * 100, 2) AS pct_change\n",
    "FROM pls_fy2014_pupld14a AS pls14\n",
    "JOIN pls_fy2009_pupld09a AS pls09\n",
    "    ON pls14.fscskey = pls09.fscskey\n",
    "WHERE pls14.visits >=0 AND pls09.visits >= 0\n",
    "GROUP BY pls14.stabr\n",
    "ORDER BY pct_change DESC\n",
    "LIMIT 5\n",
    ";\n",
    "\"\"\"\n",
    "\n",
    "execute_query(conn, query)"
   ]
  },
  {
   "cell_type": "code",
   "execution_count": 13,
   "metadata": {},
   "outputs": [
    {
     "output_type": "execute_result",
     "data": {
      "text/plain": [
       "  stabr  visits_2014  visits_2009 pct_change\n",
       "0    TX     72876601     78838400      -7.56\n",
       "1    CA    162787836    182181408     -10.65\n",
       "2    OH     82495138     92402369     -10.72\n",
       "3    NY    106453546    119810969     -11.15\n",
       "4    IL     72598213     82438755     -11.94"
      ],
      "text/html": "<div>\n<style scoped>\n    .dataframe tbody tr th:only-of-type {\n        vertical-align: middle;\n    }\n\n    .dataframe tbody tr th {\n        vertical-align: top;\n    }\n\n    .dataframe thead th {\n        text-align: right;\n    }\n</style>\n<table border=\"1\" class=\"dataframe\">\n  <thead>\n    <tr style=\"text-align: right;\">\n      <th></th>\n      <th>stabr</th>\n      <th>visits_2014</th>\n      <th>visits_2009</th>\n      <th>pct_change</th>\n    </tr>\n  </thead>\n  <tbody>\n    <tr>\n      <th>0</th>\n      <td>TX</td>\n      <td>72876601</td>\n      <td>78838400</td>\n      <td>-7.56</td>\n    </tr>\n    <tr>\n      <th>1</th>\n      <td>CA</td>\n      <td>162787836</td>\n      <td>182181408</td>\n      <td>-10.65</td>\n    </tr>\n    <tr>\n      <th>2</th>\n      <td>OH</td>\n      <td>82495138</td>\n      <td>92402369</td>\n      <td>-10.72</td>\n    </tr>\n    <tr>\n      <th>3</th>\n      <td>NY</td>\n      <td>106453546</td>\n      <td>119810969</td>\n      <td>-11.15</td>\n    </tr>\n    <tr>\n      <th>4</th>\n      <td>IL</td>\n      <td>72598213</td>\n      <td>82438755</td>\n      <td>-11.94</td>\n    </tr>\n  </tbody>\n</table>\n</div>"
     },
     "metadata": {},
     "execution_count": 13
    }
   ],
   "source": [
    "# Filtering an Aggregate Query Using Having\n",
    "query = \"\"\"\n",
    "SELECT\n",
    "    pls14.stabr,\n",
    "    SUM(pls14.visits) AS visits_2014,\n",
    "    SUM(pls09.visits) AS visits_2009,\n",
    "    ROUND( (CAST(SUM(pls14.visits) AS DECIMAL(10, 1)) - SUM(pls09.visits)) /\n",
    "        SUM(pls09.visits) * 100, 2) AS pct_change\n",
    "FROM pls_fy2014_pupld14a AS pls14\n",
    "JOIN pls_fy2009_pupld09a AS pls09\n",
    "    ON pls14.fscskey = pls09.fscskey\n",
    "WHERE pls14.visits >=0 AND pls09.visits >= 0\n",
    "GROUP BY pls14.stabr\n",
    "HAVING SUM(pls14.visits) > 50000000\n",
    "ORDER BY pct_change DESC\n",
    "LIMIT 5\n",
    ";\n",
    "\"\"\"\n",
    "\n",
    "execute_query(conn, query)"
   ]
  },
  {
   "source": [
    "## Chapter 9: Inspecting and Modifying Data\n",
    "\n",
    "For this chaper, we will use a direcory of U.S. meat, poultry, and egg producers provided by the Food Safety and Inspection Service (FSIS)  agency within the U.S. Department of Agriculture.\n",
    "\n",
    "These first initial queries should give us some insight into our dataset:"
   ],
   "cell_type": "markdown",
   "metadata": {}
  },
  {
   "cell_type": "code",
   "execution_count": 14,
   "metadata": {},
   "outputs": [
    {
     "output_type": "execute_result",
     "data": {
      "text/plain": [
       "   count\n",
       "0   6201"
      ],
      "text/html": "<div>\n<style scoped>\n    .dataframe tbody tr th:only-of-type {\n        vertical-align: middle;\n    }\n\n    .dataframe tbody tr th {\n        vertical-align: top;\n    }\n\n    .dataframe thead th {\n        text-align: right;\n    }\n</style>\n<table border=\"1\" class=\"dataframe\">\n  <thead>\n    <tr style=\"text-align: right;\">\n      <th></th>\n      <th>count</th>\n    </tr>\n  </thead>\n  <tbody>\n    <tr>\n      <th>0</th>\n      <td>6201</td>\n    </tr>\n  </tbody>\n</table>\n</div>"
     },
     "metadata": {},
     "execution_count": 14
    }
   ],
   "source": [
    "# Reviweing our imported data\n",
    "query = \"\"\"\n",
    "SELECT COUNT(*)\n",
    "FROM meat_poultry_egg_inspect;\n",
    "\"\"\"\n",
    "\n",
    "execute_query(conn, query)"
   ]
  },
  {
   "cell_type": "code",
   "execution_count": 15,
   "metadata": {},
   "outputs": [
    {
     "output_type": "execute_result",
     "data": {
      "text/plain": [
       "                                           company  \\\n",
       "0                           Acre Station Meat Farm   \n",
       "1                               Beltex Corporation   \n",
       "2                          Cloverleaf Cold Storage   \n",
       "3                      Crete Core Ingredients, LLC   \n",
       "4                                     Crider, Inc.   \n",
       "5                Dimension Marketing & Sales, Inc.   \n",
       "6   Foster Poultry Farms, A California Corporation   \n",
       "7                       Freezer & Dry Storage, LLC   \n",
       "8                               JBS Souderton Inc.   \n",
       "9                        KB Poultry Processing LLC   \n",
       "10                  Lakeside Refrigerated Services   \n",
       "11                            Liberty Cold Storage   \n",
       "12                           M.G. Waldbaum Company   \n",
       "13              Midway International Logistics LLC   \n",
       "14           Nordic Logistics and Warehousing, LLC   \n",
       "15                                  OK Foods, Inc.   \n",
       "16                     Pacific Produce Corporation   \n",
       "17               Payless Distribution Center (PDC)   \n",
       "18                   Piatkowski Riteway Meats Inc.   \n",
       "19                      Preferred Freezer Services   \n",
       "20                                THE AMERICAN PIG   \n",
       "21                       The Classic Jerky Company   \n",
       "22                 United States Cold Storage Inc.   \n",
       "\n",
       "                                  street           city  st  address_count  \n",
       "0                         17076 Hwy 32 N       Pinetown  NC              2  \n",
       "1                3801 North Grove Street     Fort Worth  TX              2  \n",
       "2                     111 Imperial Drive        Sanford  NC              2  \n",
       "3                     2220 County Road I          Crete  NE              2  \n",
       "4                         1 Plant Avenue      Stillmore  GA              3  \n",
       "5                    386 West 9400 South          Sandy  UT              2  \n",
       "6                  6648 Highway 15 North    Farmerville  LA              2  \n",
       "7         21740 Trolley Industrial Drive         Taylor  MI              2  \n",
       "8                     249 Allentown Road      Souderton  PA              2  \n",
       "9                    15024 Sandstone Dr.          Utica  MN              2  \n",
       "10               2600 Oldmans Creek Road     Swedesboro  NJ              2  \n",
       "11                  1310 Remington Blvd.    Bolingbrook  IL              2  \n",
       "12                      120 Tower Street        Gaylord  MN              3  \n",
       "13                    948 Bradley Street      Watertown  NY              2  \n",
       "14                        220 Nordic Way         Pooler  GA              2  \n",
       "15                        3921 Reed Lane     Fort Smith  AR              2  \n",
       "16  220 East Harmon Industrial Park Road       Tamuning  GU              2  \n",
       "17                   370 Mendioka Street         Dededo  GU              2  \n",
       "18                      3555 Witmer Road  Niagara Falls  NY              2  \n",
       "19                     2700 Trade Street     Chesapeake  VA              2  \n",
       "20                        25 MEADOW ROAD      ASHEVILLE  NC              2  \n",
       "21        21655 Trolley Industrial Drive         Taylor  MI              2  \n",
       "22                     11801 NW 102 Road         Medley  FL              2  "
      ],
      "text/html": "<div>\n<style scoped>\n    .dataframe tbody tr th:only-of-type {\n        vertical-align: middle;\n    }\n\n    .dataframe tbody tr th {\n        vertical-align: top;\n    }\n\n    .dataframe thead th {\n        text-align: right;\n    }\n</style>\n<table border=\"1\" class=\"dataframe\">\n  <thead>\n    <tr style=\"text-align: right;\">\n      <th></th>\n      <th>company</th>\n      <th>street</th>\n      <th>city</th>\n      <th>st</th>\n      <th>address_count</th>\n    </tr>\n  </thead>\n  <tbody>\n    <tr>\n      <th>0</th>\n      <td>Acre Station Meat Farm</td>\n      <td>17076 Hwy 32 N</td>\n      <td>Pinetown</td>\n      <td>NC</td>\n      <td>2</td>\n    </tr>\n    <tr>\n      <th>1</th>\n      <td>Beltex Corporation</td>\n      <td>3801 North Grove Street</td>\n      <td>Fort Worth</td>\n      <td>TX</td>\n      <td>2</td>\n    </tr>\n    <tr>\n      <th>2</th>\n      <td>Cloverleaf Cold Storage</td>\n      <td>111 Imperial Drive</td>\n      <td>Sanford</td>\n      <td>NC</td>\n      <td>2</td>\n    </tr>\n    <tr>\n      <th>3</th>\n      <td>Crete Core Ingredients, LLC</td>\n      <td>2220 County Road I</td>\n      <td>Crete</td>\n      <td>NE</td>\n      <td>2</td>\n    </tr>\n    <tr>\n      <th>4</th>\n      <td>Crider, Inc.</td>\n      <td>1 Plant Avenue</td>\n      <td>Stillmore</td>\n      <td>GA</td>\n      <td>3</td>\n    </tr>\n    <tr>\n      <th>5</th>\n      <td>Dimension Marketing &amp; Sales, Inc.</td>\n      <td>386 West 9400 South</td>\n      <td>Sandy</td>\n      <td>UT</td>\n      <td>2</td>\n    </tr>\n    <tr>\n      <th>6</th>\n      <td>Foster Poultry Farms, A California Corporation</td>\n      <td>6648 Highway 15 North</td>\n      <td>Farmerville</td>\n      <td>LA</td>\n      <td>2</td>\n    </tr>\n    <tr>\n      <th>7</th>\n      <td>Freezer &amp; Dry Storage, LLC</td>\n      <td>21740 Trolley Industrial Drive</td>\n      <td>Taylor</td>\n      <td>MI</td>\n      <td>2</td>\n    </tr>\n    <tr>\n      <th>8</th>\n      <td>JBS Souderton Inc.</td>\n      <td>249 Allentown Road</td>\n      <td>Souderton</td>\n      <td>PA</td>\n      <td>2</td>\n    </tr>\n    <tr>\n      <th>9</th>\n      <td>KB Poultry Processing LLC</td>\n      <td>15024 Sandstone Dr.</td>\n      <td>Utica</td>\n      <td>MN</td>\n      <td>2</td>\n    </tr>\n    <tr>\n      <th>10</th>\n      <td>Lakeside Refrigerated Services</td>\n      <td>2600 Oldmans Creek Road</td>\n      <td>Swedesboro</td>\n      <td>NJ</td>\n      <td>2</td>\n    </tr>\n    <tr>\n      <th>11</th>\n      <td>Liberty Cold Storage</td>\n      <td>1310 Remington Blvd.</td>\n      <td>Bolingbrook</td>\n      <td>IL</td>\n      <td>2</td>\n    </tr>\n    <tr>\n      <th>12</th>\n      <td>M.G. Waldbaum Company</td>\n      <td>120 Tower Street</td>\n      <td>Gaylord</td>\n      <td>MN</td>\n      <td>3</td>\n    </tr>\n    <tr>\n      <th>13</th>\n      <td>Midway International Logistics LLC</td>\n      <td>948 Bradley Street</td>\n      <td>Watertown</td>\n      <td>NY</td>\n      <td>2</td>\n    </tr>\n    <tr>\n      <th>14</th>\n      <td>Nordic Logistics and Warehousing, LLC</td>\n      <td>220 Nordic Way</td>\n      <td>Pooler</td>\n      <td>GA</td>\n      <td>2</td>\n    </tr>\n    <tr>\n      <th>15</th>\n      <td>OK Foods, Inc.</td>\n      <td>3921 Reed Lane</td>\n      <td>Fort Smith</td>\n      <td>AR</td>\n      <td>2</td>\n    </tr>\n    <tr>\n      <th>16</th>\n      <td>Pacific Produce Corporation</td>\n      <td>220 East Harmon Industrial Park Road</td>\n      <td>Tamuning</td>\n      <td>GU</td>\n      <td>2</td>\n    </tr>\n    <tr>\n      <th>17</th>\n      <td>Payless Distribution Center (PDC)</td>\n      <td>370 Mendioka Street</td>\n      <td>Dededo</td>\n      <td>GU</td>\n      <td>2</td>\n    </tr>\n    <tr>\n      <th>18</th>\n      <td>Piatkowski Riteway Meats Inc.</td>\n      <td>3555 Witmer Road</td>\n      <td>Niagara Falls</td>\n      <td>NY</td>\n      <td>2</td>\n    </tr>\n    <tr>\n      <th>19</th>\n      <td>Preferred Freezer Services</td>\n      <td>2700 Trade Street</td>\n      <td>Chesapeake</td>\n      <td>VA</td>\n      <td>2</td>\n    </tr>\n    <tr>\n      <th>20</th>\n      <td>THE AMERICAN PIG</td>\n      <td>25 MEADOW ROAD</td>\n      <td>ASHEVILLE</td>\n      <td>NC</td>\n      <td>2</td>\n    </tr>\n    <tr>\n      <th>21</th>\n      <td>The Classic Jerky Company</td>\n      <td>21655 Trolley Industrial Drive</td>\n      <td>Taylor</td>\n      <td>MI</td>\n      <td>2</td>\n    </tr>\n    <tr>\n      <th>22</th>\n      <td>United States Cold Storage Inc.</td>\n      <td>11801 NW 102 Road</td>\n      <td>Medley</td>\n      <td>FL</td>\n      <td>2</td>\n    </tr>\n  </tbody>\n</table>\n</div>"
     },
     "metadata": {},
     "execution_count": 15
    }
   ],
   "source": [
    "# Looking for duplicates\n",
    "query = \"\"\"\n",
    "SELECT company,\n",
    "    street,\n",
    "    city,\n",
    "    st,\n",
    "    COUNT(*) AS address_count\n",
    "FROM meat_poultry_egg_inspect\n",
    "GROUP BY company, street, city, st\n",
    "HAVING COUNT(*) > 1\n",
    "ORDER BY company, street, city, st;\n",
    "\"\"\"\n",
    "\n",
    "execute_query(conn, query)"
   ]
  },
  {
   "cell_type": "code",
   "execution_count": 16,
   "metadata": {},
   "outputs": [
    {
     "output_type": "execute_result",
     "data": {
      "text/plain": [
       "   st  state_count\n",
       "0  AK           17\n",
       "1  AL           94\n",
       "2  AR           87\n",
       "3  AS            1\n",
       "4  AZ           37\n",
       "5  CA          666\n",
       "6  CO          121\n",
       "7  CT           55\n",
       "8  DC            2\n",
       "9  DE           22"
      ],
      "text/html": "<div>\n<style scoped>\n    .dataframe tbody tr th:only-of-type {\n        vertical-align: middle;\n    }\n\n    .dataframe tbody tr th {\n        vertical-align: top;\n    }\n\n    .dataframe thead th {\n        text-align: right;\n    }\n</style>\n<table border=\"1\" class=\"dataframe\">\n  <thead>\n    <tr style=\"text-align: right;\">\n      <th></th>\n      <th>st</th>\n      <th>state_count</th>\n    </tr>\n  </thead>\n  <tbody>\n    <tr>\n      <th>0</th>\n      <td>AK</td>\n      <td>17</td>\n    </tr>\n    <tr>\n      <th>1</th>\n      <td>AL</td>\n      <td>94</td>\n    </tr>\n    <tr>\n      <th>2</th>\n      <td>AR</td>\n      <td>87</td>\n    </tr>\n    <tr>\n      <th>3</th>\n      <td>AS</td>\n      <td>1</td>\n    </tr>\n    <tr>\n      <th>4</th>\n      <td>AZ</td>\n      <td>37</td>\n    </tr>\n    <tr>\n      <th>5</th>\n      <td>CA</td>\n      <td>666</td>\n    </tr>\n    <tr>\n      <th>6</th>\n      <td>CO</td>\n      <td>121</td>\n    </tr>\n    <tr>\n      <th>7</th>\n      <td>CT</td>\n      <td>55</td>\n    </tr>\n    <tr>\n      <th>8</th>\n      <td>DC</td>\n      <td>2</td>\n    </tr>\n    <tr>\n      <th>9</th>\n      <td>DE</td>\n      <td>22</td>\n    </tr>\n  </tbody>\n</table>\n</div>"
     },
     "metadata": {},
     "execution_count": 16
    }
   ],
   "source": [
    "# Checking for missing values\n",
    "query = \"\"\"\n",
    "SELECT st,\n",
    "    COUNT(*) AS state_count\n",
    "FROM meat_poultry_egg_inspect\n",
    "GROUP BY st\n",
    "ORDER BY st NULLS FIRST\n",
    "LIMIT 10\n",
    "\"\"\"\n",
    "\n",
    "execute_query(conn, query)"
   ]
  },
  {
   "cell_type": "code",
   "execution_count": 17,
   "metadata": {},
   "outputs": [
    {
     "output_type": "execute_result",
     "data": {
      "text/plain": [
       "Empty DataFrame\n",
       "Columns: [est_number, company, city, st, zip]\n",
       "Index: []"
      ],
      "text/html": "<div>\n<style scoped>\n    .dataframe tbody tr th:only-of-type {\n        vertical-align: middle;\n    }\n\n    .dataframe tbody tr th {\n        vertical-align: top;\n    }\n\n    .dataframe thead th {\n        text-align: right;\n    }\n</style>\n<table border=\"1\" class=\"dataframe\">\n  <thead>\n    <tr style=\"text-align: right;\">\n      <th></th>\n      <th>est_number</th>\n      <th>company</th>\n      <th>city</th>\n      <th>st</th>\n      <th>zip</th>\n    </tr>\n  </thead>\n  <tbody>\n  </tbody>\n</table>\n</div>"
     },
     "metadata": {},
     "execution_count": 17
    }
   ],
   "source": [
    "# Looking at rows that don't have a value in a column(s)\n",
    "query = \"\"\"\n",
    "SELECT est_number,\n",
    "    company,\n",
    "    city,\n",
    "    st,\n",
    "    zip\n",
    "FROM meat_poultry_egg_inspect\n",
    "WHERE st IS NULL;\n",
    "\"\"\"\n",
    "\n",
    "execute_query(conn, query)"
   ]
  },
  {
   "cell_type": "code",
   "execution_count": 18,
   "metadata": {},
   "outputs": [
    {
     "output_type": "execute_result",
     "data": {
      "text/plain": [
       "                                     company  count\n",
       "0                 121 In-Flight Catering LLC      1\n",
       "1                     165368 C. Corporation       1\n",
       "2                             1732 Meats LLC      1\n",
       "3     1st Original Texas Chili Company, Inc.      1\n",
       "4                       290 West Bar & Grill      1\n",
       "...                                      ...    ...\n",
       "5497             Zrile Bros. Packing Co.,Inc      1\n",
       "5498                    Zummo Meat Co., Inc.      1\n",
       "5499       Zwanenberg Food Group (USA), Inc.      1\n",
       "5500                          Zweigle's Inc.      1\n",
       "5501                   ZYK Enterprises, Inc.      1\n",
       "\n",
       "[5502 rows x 2 columns]"
      ],
      "text/html": "<div>\n<style scoped>\n    .dataframe tbody tr th:only-of-type {\n        vertical-align: middle;\n    }\n\n    .dataframe tbody tr th {\n        vertical-align: top;\n    }\n\n    .dataframe thead th {\n        text-align: right;\n    }\n</style>\n<table border=\"1\" class=\"dataframe\">\n  <thead>\n    <tr style=\"text-align: right;\">\n      <th></th>\n      <th>company</th>\n      <th>count</th>\n    </tr>\n  </thead>\n  <tbody>\n    <tr>\n      <th>0</th>\n      <td>121 In-Flight Catering LLC</td>\n      <td>1</td>\n    </tr>\n    <tr>\n      <th>1</th>\n      <td>165368 C. Corporation</td>\n      <td>1</td>\n    </tr>\n    <tr>\n      <th>2</th>\n      <td>1732 Meats LLC</td>\n      <td>1</td>\n    </tr>\n    <tr>\n      <th>3</th>\n      <td>1st Original Texas Chili Company, Inc.</td>\n      <td>1</td>\n    </tr>\n    <tr>\n      <th>4</th>\n      <td>290 West Bar &amp; Grill</td>\n      <td>1</td>\n    </tr>\n    <tr>\n      <th>...</th>\n      <td>...</td>\n      <td>...</td>\n    </tr>\n    <tr>\n      <th>5497</th>\n      <td>Zrile Bros. Packing Co.,Inc</td>\n      <td>1</td>\n    </tr>\n    <tr>\n      <th>5498</th>\n      <td>Zummo Meat Co., Inc.</td>\n      <td>1</td>\n    </tr>\n    <tr>\n      <th>5499</th>\n      <td>Zwanenberg Food Group (USA), Inc.</td>\n      <td>1</td>\n    </tr>\n    <tr>\n      <th>5500</th>\n      <td>Zweigle's Inc.</td>\n      <td>1</td>\n    </tr>\n    <tr>\n      <th>5501</th>\n      <td>ZYK Enterprises, Inc.</td>\n      <td>1</td>\n    </tr>\n  </tbody>\n</table>\n<p>5502 rows × 2 columns</p>\n</div>"
     },
     "metadata": {},
     "execution_count": 18
    }
   ],
   "source": [
    "# Checking for inconsitent data values\n",
    "query = \"\"\"\n",
    "SELECT company,\n",
    "    COUNT(*)\n",
    "FROM meat_poultry_egg_inspect\n",
    "GROUP BY company\n",
    "ORDER BY company ASC;\n",
    "\"\"\"\n",
    "\n",
    "execute_query(conn, query)"
   ]
  },
  {
   "cell_type": "code",
   "execution_count": 19,
   "metadata": {},
   "outputs": [
    {
     "output_type": "execute_result",
     "data": {
      "text/plain": [
       "   length  length_count\n",
       "0       5          6201"
      ],
      "text/html": "<div>\n<style scoped>\n    .dataframe tbody tr th:only-of-type {\n        vertical-align: middle;\n    }\n\n    .dataframe tbody tr th {\n        vertical-align: top;\n    }\n\n    .dataframe thead th {\n        text-align: right;\n    }\n</style>\n<table border=\"1\" class=\"dataframe\">\n  <thead>\n    <tr style=\"text-align: right;\">\n      <th></th>\n      <th>length</th>\n      <th>length_count</th>\n    </tr>\n  </thead>\n  <tbody>\n    <tr>\n      <th>0</th>\n      <td>5</td>\n      <td>6201</td>\n    </tr>\n  </tbody>\n</table>\n</div>"
     },
     "metadata": {},
     "execution_count": 19
    }
   ],
   "source": [
    "# Checking for malformed values using length() - here we see that because the zip column was read in as a number rather than as text it lost the leading 0's\n",
    "query = \"\"\"\n",
    "SELECT LENGTH(zip),\n",
    "    COUNT(*) AS length_count\n",
    "FROM meat_poultry_egg_inspect\n",
    "GROUP BY LENGTH(zip)\n",
    "ORDER BY LENGTH(zip);\n",
    "\"\"\"\n",
    "\n",
    "execute_query(conn, query)"
   ]
  },
  {
   "cell_type": "code",
   "execution_count": 20,
   "metadata": {},
   "outputs": [
    {
     "output_type": "execute_result",
     "data": {
      "text/plain": [
       "Empty DataFrame\n",
       "Columns: [st, st_count]\n",
       "Index: []"
      ],
      "text/html": "<div>\n<style scoped>\n    .dataframe tbody tr th:only-of-type {\n        vertical-align: middle;\n    }\n\n    .dataframe tbody tr th {\n        vertical-align: top;\n    }\n\n    .dataframe thead th {\n        text-align: right;\n    }\n</style>\n<table border=\"1\" class=\"dataframe\">\n  <thead>\n    <tr style=\"text-align: right;\">\n      <th></th>\n      <th>st</th>\n      <th>st_count</th>\n    </tr>\n  </thead>\n  <tbody>\n  </tbody>\n</table>\n</div>"
     },
     "metadata": {},
     "execution_count": 20
    }
   ],
   "source": [
    "# Examining rows that lost leading 0's\n",
    "query = \"\"\"\n",
    "SELECT st,\n",
    "    COUNT(*) AS st_count\n",
    "FROM meat_poultry_egg_inspect\n",
    "WHERE LENGTH(zip) < 5\n",
    "GROUP BY st\n",
    "ORDER BY st;\n",
    "\"\"\"\n",
    "\n",
    "execute_query(conn, query)"
   ]
  },
  {
   "source": [
    "For the following part of the chapter an identical copy of the st column was created in the meat_poultry_egg_inspect table titled st_copy"
   ],
   "cell_type": "markdown",
   "metadata": {}
  },
  {
   "cell_type": "code",
   "execution_count": 21,
   "metadata": {},
   "outputs": [
    {
     "output_type": "execute_result",
     "data": {
      "text/plain": [
       "Empty DataFrame\n",
       "Columns: [est_number, company, city, st, zip]\n",
       "Index: []"
      ],
      "text/html": "<div>\n<style scoped>\n    .dataframe tbody tr th:only-of-type {\n        vertical-align: middle;\n    }\n\n    .dataframe tbody tr th {\n        vertical-align: top;\n    }\n\n    .dataframe thead th {\n        text-align: right;\n    }\n</style>\n<table border=\"1\" class=\"dataframe\">\n  <thead>\n    <tr style=\"text-align: right;\">\n      <th></th>\n      <th>est_number</th>\n      <th>company</th>\n      <th>city</th>\n      <th>st</th>\n      <th>zip</th>\n    </tr>\n  </thead>\n  <tbody>\n  </tbody>\n</table>\n</div>"
     },
     "metadata": {},
     "execution_count": 21
    }
   ],
   "source": [
    "# Modifying Tables, Columns, and Data\n",
    "# Updating the rows where the values were missing\n",
    "query = \"\"\"\n",
    "UPDATE meat_poultry_egg_inspect\n",
    "SET st = 'MN'\n",
    "WHERE est_number = 'V18677A';\n",
    "\n",
    "UPDATE meat_poultry_egg_inspect\n",
    "SET st = 'AL'\n",
    "WHERE est_number = 'M45319+P45319';\n",
    "\n",
    "UPDATE meat_poultry_egg_inspect\n",
    "SET st = 'WI'\n",
    "WHERE est_number = 'M263A+P263A+V263A';\n",
    "\n",
    "SELECT est_number,\n",
    "    company,\n",
    "    city,\n",
    "    st,\n",
    "    zip\n",
    "FROM meat_poultry_egg_inspect\n",
    "WHERE st IS NULL; \n",
    "\"\"\"\n",
    "\n",
    "# The last part of the query just inspects the table to find NULL values - after our update there should be none\n",
    "execute_query(conn, query)\n"
   ]
  },
  {
   "source": [
    "For the following part of the chapter, an identical copy of the company column was created in the meat_poultry_egg_inspect table titled company_standard"
   ],
   "cell_type": "markdown",
   "metadata": {}
  },
  {
   "cell_type": "code",
   "execution_count": 22,
   "metadata": {},
   "outputs": [
    {
     "output_type": "execute_result",
     "data": {
      "text/plain": [
       "          est_number                             company  \\\n",
       "0      M45319+P45319     Hall-Namie Packing Company, Inc   \n",
       "1  M263A+P263A+V263A                    Jones Dairy Farm   \n",
       "2              V3507  Zollinger Cold Storage Corporation   \n",
       "3              M1544                      J & M Meat Co.   \n",
       "4               V971                      Supervalu Inc.   \n",
       "\n",
       "                     street     city  st    zip           phone  grant_date  \\\n",
       "0       210 Iroquois Street     None  AL  36671  (251) 457-3321  2014-05-02   \n",
       "1         801 Rockwell Ave.     None  WI  53538  (920) 563-2431  2016-06-22   \n",
       "2       699 West 1700 South    Logan  UT  84321  (801) 753-1134  1990-02-27   \n",
       "3               545 9th St.  Oakland  CA  94607  (510) 839-0380  1982-05-24   \n",
       "4  1400 West Gadsden Street   Quincy  FL  32351  (850) 875-2600  2011-09-16   \n",
       "\n",
       "                                          activities  \\\n",
       "0                                    Meat Processing   \n",
       "1  Identification - Meat, Identification - Poultr...   \n",
       "2  Certification - Export, Identification - Meat,...   \n",
       "3                                    Meat Processing   \n",
       "4  Certification - Export, Identification - Meat,...   \n",
       "\n",
       "                                                dbas st_copy  \\\n",
       "0                                               None    None   \n",
       "1  Greensboro Packers; Habbersett; Ralph & Paul A...    None   \n",
       "2                                               None      UT   \n",
       "3                                               None      CA   \n",
       "4                                               None      FL   \n",
       "\n",
       "                     company_standard inspection_date reviewed_date  \\\n",
       "0     Hall-Namie Packing Company, Inc            None    2018-02-07   \n",
       "1                    Jones Dairy Farm            None    2018-02-07   \n",
       "2  Zollinger Cold Storage Corporation            None    2018-02-07   \n",
       "3                      J & M Meat Co.            None    2018-02-07   \n",
       "4                      Supervalu Inc.            None    2018-02-07   \n",
       "\n",
       "  meat_processing poultry_processing  \n",
       "0            True               None  \n",
       "1            True               True  \n",
       "2            None               None  \n",
       "3            True               None  \n",
       "4            None               None  "
      ],
      "text/html": "<div>\n<style scoped>\n    .dataframe tbody tr th:only-of-type {\n        vertical-align: middle;\n    }\n\n    .dataframe tbody tr th {\n        vertical-align: top;\n    }\n\n    .dataframe thead th {\n        text-align: right;\n    }\n</style>\n<table border=\"1\" class=\"dataframe\">\n  <thead>\n    <tr style=\"text-align: right;\">\n      <th></th>\n      <th>est_number</th>\n      <th>company</th>\n      <th>street</th>\n      <th>city</th>\n      <th>st</th>\n      <th>zip</th>\n      <th>phone</th>\n      <th>grant_date</th>\n      <th>activities</th>\n      <th>dbas</th>\n      <th>st_copy</th>\n      <th>company_standard</th>\n      <th>inspection_date</th>\n      <th>reviewed_date</th>\n      <th>meat_processing</th>\n      <th>poultry_processing</th>\n    </tr>\n  </thead>\n  <tbody>\n    <tr>\n      <th>0</th>\n      <td>M45319+P45319</td>\n      <td>Hall-Namie Packing Company, Inc</td>\n      <td>210 Iroquois Street</td>\n      <td>None</td>\n      <td>AL</td>\n      <td>36671</td>\n      <td>(251) 457-3321</td>\n      <td>2014-05-02</td>\n      <td>Meat Processing</td>\n      <td>None</td>\n      <td>None</td>\n      <td>Hall-Namie Packing Company, Inc</td>\n      <td>None</td>\n      <td>2018-02-07</td>\n      <td>True</td>\n      <td>None</td>\n    </tr>\n    <tr>\n      <th>1</th>\n      <td>M263A+P263A+V263A</td>\n      <td>Jones Dairy Farm</td>\n      <td>801 Rockwell Ave.</td>\n      <td>None</td>\n      <td>WI</td>\n      <td>53538</td>\n      <td>(920) 563-2431</td>\n      <td>2016-06-22</td>\n      <td>Identification - Meat, Identification - Poultr...</td>\n      <td>Greensboro Packers; Habbersett; Ralph &amp; Paul A...</td>\n      <td>None</td>\n      <td>Jones Dairy Farm</td>\n      <td>None</td>\n      <td>2018-02-07</td>\n      <td>True</td>\n      <td>True</td>\n    </tr>\n    <tr>\n      <th>2</th>\n      <td>V3507</td>\n      <td>Zollinger Cold Storage Corporation</td>\n      <td>699 West 1700 South</td>\n      <td>Logan</td>\n      <td>UT</td>\n      <td>84321</td>\n      <td>(801) 753-1134</td>\n      <td>1990-02-27</td>\n      <td>Certification - Export, Identification - Meat,...</td>\n      <td>None</td>\n      <td>UT</td>\n      <td>Zollinger Cold Storage Corporation</td>\n      <td>None</td>\n      <td>2018-02-07</td>\n      <td>None</td>\n      <td>None</td>\n    </tr>\n    <tr>\n      <th>3</th>\n      <td>M1544</td>\n      <td>J &amp; M Meat Co.</td>\n      <td>545 9th St.</td>\n      <td>Oakland</td>\n      <td>CA</td>\n      <td>94607</td>\n      <td>(510) 839-0380</td>\n      <td>1982-05-24</td>\n      <td>Meat Processing</td>\n      <td>None</td>\n      <td>CA</td>\n      <td>J &amp; M Meat Co.</td>\n      <td>None</td>\n      <td>2018-02-07</td>\n      <td>True</td>\n      <td>None</td>\n    </tr>\n    <tr>\n      <th>4</th>\n      <td>V971</td>\n      <td>Supervalu Inc.</td>\n      <td>1400 West Gadsden Street</td>\n      <td>Quincy</td>\n      <td>FL</td>\n      <td>32351</td>\n      <td>(850) 875-2600</td>\n      <td>2011-09-16</td>\n      <td>Certification - Export, Identification - Meat,...</td>\n      <td>None</td>\n      <td>FL</td>\n      <td>Supervalu Inc.</td>\n      <td>None</td>\n      <td>2018-02-07</td>\n      <td>None</td>\n      <td>None</td>\n    </tr>\n  </tbody>\n</table>\n</div>"
     },
     "metadata": {},
     "execution_count": 22
    }
   ],
   "source": [
    "# Updating values for consistency\n",
    "query = \"\"\"\n",
    "UPDATE meat_poultry_egg_inspect\n",
    "SET company_standard = company;\n",
    "\n",
    "SELECT * FROM meat_poultry_egg_inspect LIMIT 5;\n",
    "\"\"\"\n",
    "\n",
    "execute_query(conn, query)"
   ]
  },
  {
   "cell_type": "code",
   "execution_count": 23,
   "metadata": {},
   "outputs": [
    {
     "output_type": "execute_result",
     "data": {
      "text/plain": [
       "                       company      company_standard\n",
       "0   Armour-Eckrich Meats, Inc.  Armour_Eckrich Meats\n",
       "1     Armour-Eckrich Meats LLC  Armour_Eckrich Meats\n",
       "2    Armour-Eckrich Meats, LLC  Armour_Eckrich Meats\n",
       "3  Armour - Eckrich Meats, LLC  Armour_Eckrich Meats\n",
       "4     Armour-Eckrich Meats LLC  Armour_Eckrich Meats\n",
       "5    Armour-Eckrich Meats, LLC  Armour_Eckrich Meats\n",
       "6     Armour-Eckrich Meats LLC  Armour_Eckrich Meats"
      ],
      "text/html": "<div>\n<style scoped>\n    .dataframe tbody tr th:only-of-type {\n        vertical-align: middle;\n    }\n\n    .dataframe tbody tr th {\n        vertical-align: top;\n    }\n\n    .dataframe thead th {\n        text-align: right;\n    }\n</style>\n<table border=\"1\" class=\"dataframe\">\n  <thead>\n    <tr style=\"text-align: right;\">\n      <th></th>\n      <th>company</th>\n      <th>company_standard</th>\n    </tr>\n  </thead>\n  <tbody>\n    <tr>\n      <th>0</th>\n      <td>Armour-Eckrich Meats, Inc.</td>\n      <td>Armour_Eckrich Meats</td>\n    </tr>\n    <tr>\n      <th>1</th>\n      <td>Armour-Eckrich Meats LLC</td>\n      <td>Armour_Eckrich Meats</td>\n    </tr>\n    <tr>\n      <th>2</th>\n      <td>Armour-Eckrich Meats, LLC</td>\n      <td>Armour_Eckrich Meats</td>\n    </tr>\n    <tr>\n      <th>3</th>\n      <td>Armour - Eckrich Meats, LLC</td>\n      <td>Armour_Eckrich Meats</td>\n    </tr>\n    <tr>\n      <th>4</th>\n      <td>Armour-Eckrich Meats LLC</td>\n      <td>Armour_Eckrich Meats</td>\n    </tr>\n    <tr>\n      <th>5</th>\n      <td>Armour-Eckrich Meats, LLC</td>\n      <td>Armour_Eckrich Meats</td>\n    </tr>\n    <tr>\n      <th>6</th>\n      <td>Armour-Eckrich Meats LLC</td>\n      <td>Armour_Eckrich Meats</td>\n    </tr>\n  </tbody>\n</table>\n</div>"
     },
     "metadata": {},
     "execution_count": 23
    }
   ],
   "source": [
    "# Updating and standardizing all rows that contain the string 'Armour' to appear in company_standard as Armour_Eckrich Meats\n",
    "query = \"\"\"\n",
    "UPDATE meat_poultry_egg_inspect\n",
    "SET company_standard = 'Armour_Eckrich Meats'\n",
    "WHERE company LIKE '%Armour%';\n",
    "\n",
    "SELECT company, company_standard\n",
    "FROM meat_poultry_egg_inspect\n",
    "WHERE company LIKE '%Armour%';\n",
    "\"\"\"\n",
    "\n",
    "execute_query(conn, query)"
   ]
  },
  {
   "source": [
    "For the following part of the chapter, an identical copy of the zip column was created in the meat_poultry_egg_inspect table titled zip_copy"
   ],
   "cell_type": "markdown",
   "metadata": {}
  },
  {
   "cell_type": "code",
   "execution_count": 24,
   "metadata": {},
   "outputs": [
    {
     "output_type": "execute_result",
     "data": {
      "text/plain": [
       "          est_number                             company  \\\n",
       "0      M45319+P45319     Hall-Namie Packing Company, Inc   \n",
       "1  M263A+P263A+V263A                    Jones Dairy Farm   \n",
       "2              V3507  Zollinger Cold Storage Corporation   \n",
       "3              M1544                      J & M Meat Co.   \n",
       "4               V971                      Supervalu Inc.   \n",
       "\n",
       "                     street     city  st    zip           phone  grant_date  \\\n",
       "0       210 Iroquois Street     None  AL  36671  (251) 457-3321  2014-05-02   \n",
       "1         801 Rockwell Ave.     None  WI  53538  (920) 563-2431  2016-06-22   \n",
       "2       699 West 1700 South    Logan  UT  84321  (801) 753-1134  1990-02-27   \n",
       "3               545 9th St.  Oakland  CA  94607  (510) 839-0380  1982-05-24   \n",
       "4  1400 West Gadsden Street   Quincy  FL  32351  (850) 875-2600  2011-09-16   \n",
       "\n",
       "                                          activities  \\\n",
       "0                                    Meat Processing   \n",
       "1  Identification - Meat, Identification - Poultr...   \n",
       "2  Certification - Export, Identification - Meat,...   \n",
       "3                                    Meat Processing   \n",
       "4  Certification - Export, Identification - Meat,...   \n",
       "\n",
       "                                                dbas st_copy  \\\n",
       "0                                               None    None   \n",
       "1  Greensboro Packers; Habbersett; Ralph & Paul A...    None   \n",
       "2                                               None      UT   \n",
       "3                                               None      CA   \n",
       "4                                               None      FL   \n",
       "\n",
       "                     company_standard inspection_date reviewed_date  \\\n",
       "0     Hall-Namie Packing Company, Inc            None    2018-02-07   \n",
       "1                    Jones Dairy Farm            None    2018-02-07   \n",
       "2  Zollinger Cold Storage Corporation            None    2018-02-07   \n",
       "3                      J & M Meat Co.            None    2018-02-07   \n",
       "4                      Supervalu Inc.            None    2018-02-07   \n",
       "\n",
       "  meat_processing poultry_processing zip_copy  \n",
       "0            True               None    36671  \n",
       "1            True               True    53538  \n",
       "2            None               None    84321  \n",
       "3            True               None    94607  \n",
       "4            None               None    32351  "
      ],
      "text/html": "<div>\n<style scoped>\n    .dataframe tbody tr th:only-of-type {\n        vertical-align: middle;\n    }\n\n    .dataframe tbody tr th {\n        vertical-align: top;\n    }\n\n    .dataframe thead th {\n        text-align: right;\n    }\n</style>\n<table border=\"1\" class=\"dataframe\">\n  <thead>\n    <tr style=\"text-align: right;\">\n      <th></th>\n      <th>est_number</th>\n      <th>company</th>\n      <th>street</th>\n      <th>city</th>\n      <th>st</th>\n      <th>zip</th>\n      <th>phone</th>\n      <th>grant_date</th>\n      <th>activities</th>\n      <th>dbas</th>\n      <th>st_copy</th>\n      <th>company_standard</th>\n      <th>inspection_date</th>\n      <th>reviewed_date</th>\n      <th>meat_processing</th>\n      <th>poultry_processing</th>\n      <th>zip_copy</th>\n    </tr>\n  </thead>\n  <tbody>\n    <tr>\n      <th>0</th>\n      <td>M45319+P45319</td>\n      <td>Hall-Namie Packing Company, Inc</td>\n      <td>210 Iroquois Street</td>\n      <td>None</td>\n      <td>AL</td>\n      <td>36671</td>\n      <td>(251) 457-3321</td>\n      <td>2014-05-02</td>\n      <td>Meat Processing</td>\n      <td>None</td>\n      <td>None</td>\n      <td>Hall-Namie Packing Company, Inc</td>\n      <td>None</td>\n      <td>2018-02-07</td>\n      <td>True</td>\n      <td>None</td>\n      <td>36671</td>\n    </tr>\n    <tr>\n      <th>1</th>\n      <td>M263A+P263A+V263A</td>\n      <td>Jones Dairy Farm</td>\n      <td>801 Rockwell Ave.</td>\n      <td>None</td>\n      <td>WI</td>\n      <td>53538</td>\n      <td>(920) 563-2431</td>\n      <td>2016-06-22</td>\n      <td>Identification - Meat, Identification - Poultr...</td>\n      <td>Greensboro Packers; Habbersett; Ralph &amp; Paul A...</td>\n      <td>None</td>\n      <td>Jones Dairy Farm</td>\n      <td>None</td>\n      <td>2018-02-07</td>\n      <td>True</td>\n      <td>True</td>\n      <td>53538</td>\n    </tr>\n    <tr>\n      <th>2</th>\n      <td>V3507</td>\n      <td>Zollinger Cold Storage Corporation</td>\n      <td>699 West 1700 South</td>\n      <td>Logan</td>\n      <td>UT</td>\n      <td>84321</td>\n      <td>(801) 753-1134</td>\n      <td>1990-02-27</td>\n      <td>Certification - Export, Identification - Meat,...</td>\n      <td>None</td>\n      <td>UT</td>\n      <td>Zollinger Cold Storage Corporation</td>\n      <td>None</td>\n      <td>2018-02-07</td>\n      <td>None</td>\n      <td>None</td>\n      <td>84321</td>\n    </tr>\n    <tr>\n      <th>3</th>\n      <td>M1544</td>\n      <td>J &amp; M Meat Co.</td>\n      <td>545 9th St.</td>\n      <td>Oakland</td>\n      <td>CA</td>\n      <td>94607</td>\n      <td>(510) 839-0380</td>\n      <td>1982-05-24</td>\n      <td>Meat Processing</td>\n      <td>None</td>\n      <td>CA</td>\n      <td>J &amp; M Meat Co.</td>\n      <td>None</td>\n      <td>2018-02-07</td>\n      <td>True</td>\n      <td>None</td>\n      <td>94607</td>\n    </tr>\n    <tr>\n      <th>4</th>\n      <td>V971</td>\n      <td>Supervalu Inc.</td>\n      <td>1400 West Gadsden Street</td>\n      <td>Quincy</td>\n      <td>FL</td>\n      <td>32351</td>\n      <td>(850) 875-2600</td>\n      <td>2011-09-16</td>\n      <td>Certification - Export, Identification - Meat,...</td>\n      <td>None</td>\n      <td>FL</td>\n      <td>Supervalu Inc.</td>\n      <td>None</td>\n      <td>2018-02-07</td>\n      <td>None</td>\n      <td>None</td>\n      <td>32351</td>\n    </tr>\n  </tbody>\n</table>\n</div>"
     },
     "metadata": {},
     "execution_count": 24
    }
   ],
   "source": [
    "query = \"\"\"\n",
    "ALTER TABLE meat_poultry_egg_inspect\n",
    "ADD COLUMN zip_copy VARCHAR(5);\n",
    "\n",
    "UPDATE meat_poultry_egg_inspect\n",
    "SET zip_copy = zip;\n",
    "\n",
    "SELECT * FROM meat_poultry_egg_inspect LIMIT 5;\n",
    "\"\"\"\n",
    "\n",
    "execute_query(conn, query)"
   ]
  },
  {
   "cell_type": "code",
   "execution_count": 25,
   "metadata": {},
   "outputs": [
    {
     "output_type": "execute_result",
     "data": {
      "text/plain": [
       "          est_number                             company  \\\n",
       "0      M45319+P45319     Hall-Namie Packing Company, Inc   \n",
       "1  M263A+P263A+V263A                    Jones Dairy Farm   \n",
       "2              V3507  Zollinger Cold Storage Corporation   \n",
       "3              M1544                      J & M Meat Co.   \n",
       "4               V971                      Supervalu Inc.   \n",
       "\n",
       "                     street     city  st    zip           phone  grant_date  \\\n",
       "0       210 Iroquois Street     None  AL  36671  (251) 457-3321  2014-05-02   \n",
       "1         801 Rockwell Ave.     None  WI  53538  (920) 563-2431  2016-06-22   \n",
       "2       699 West 1700 South    Logan  UT  84321  (801) 753-1134  1990-02-27   \n",
       "3               545 9th St.  Oakland  CA  94607  (510) 839-0380  1982-05-24   \n",
       "4  1400 West Gadsden Street   Quincy  FL  32351  (850) 875-2600  2011-09-16   \n",
       "\n",
       "                                          activities  \\\n",
       "0                                    Meat Processing   \n",
       "1  Identification - Meat, Identification - Poultr...   \n",
       "2  Certification - Export, Identification - Meat,...   \n",
       "3                                    Meat Processing   \n",
       "4  Certification - Export, Identification - Meat,...   \n",
       "\n",
       "                                                dbas st_copy  \\\n",
       "0                                               None    None   \n",
       "1  Greensboro Packers; Habbersett; Ralph & Paul A...    None   \n",
       "2                                               None      UT   \n",
       "3                                               None      CA   \n",
       "4                                               None      FL   \n",
       "\n",
       "                     company_standard inspection_date reviewed_date  \\\n",
       "0     Hall-Namie Packing Company, Inc            None    2018-02-07   \n",
       "1                    Jones Dairy Farm            None    2018-02-07   \n",
       "2  Zollinger Cold Storage Corporation            None    2018-02-07   \n",
       "3                      J & M Meat Co.            None    2018-02-07   \n",
       "4                      Supervalu Inc.            None    2018-02-07   \n",
       "\n",
       "  meat_processing poultry_processing zip_copy  \n",
       "0            True               None    36671  \n",
       "1            True               True    53538  \n",
       "2            None               None    84321  \n",
       "3            True               None    94607  \n",
       "4            None               None    32351  "
      ],
      "text/html": "<div>\n<style scoped>\n    .dataframe tbody tr th:only-of-type {\n        vertical-align: middle;\n    }\n\n    .dataframe tbody tr th {\n        vertical-align: top;\n    }\n\n    .dataframe thead th {\n        text-align: right;\n    }\n</style>\n<table border=\"1\" class=\"dataframe\">\n  <thead>\n    <tr style=\"text-align: right;\">\n      <th></th>\n      <th>est_number</th>\n      <th>company</th>\n      <th>street</th>\n      <th>city</th>\n      <th>st</th>\n      <th>zip</th>\n      <th>phone</th>\n      <th>grant_date</th>\n      <th>activities</th>\n      <th>dbas</th>\n      <th>st_copy</th>\n      <th>company_standard</th>\n      <th>inspection_date</th>\n      <th>reviewed_date</th>\n      <th>meat_processing</th>\n      <th>poultry_processing</th>\n      <th>zip_copy</th>\n    </tr>\n  </thead>\n  <tbody>\n    <tr>\n      <th>0</th>\n      <td>M45319+P45319</td>\n      <td>Hall-Namie Packing Company, Inc</td>\n      <td>210 Iroquois Street</td>\n      <td>None</td>\n      <td>AL</td>\n      <td>36671</td>\n      <td>(251) 457-3321</td>\n      <td>2014-05-02</td>\n      <td>Meat Processing</td>\n      <td>None</td>\n      <td>None</td>\n      <td>Hall-Namie Packing Company, Inc</td>\n      <td>None</td>\n      <td>2018-02-07</td>\n      <td>True</td>\n      <td>None</td>\n      <td>36671</td>\n    </tr>\n    <tr>\n      <th>1</th>\n      <td>M263A+P263A+V263A</td>\n      <td>Jones Dairy Farm</td>\n      <td>801 Rockwell Ave.</td>\n      <td>None</td>\n      <td>WI</td>\n      <td>53538</td>\n      <td>(920) 563-2431</td>\n      <td>2016-06-22</td>\n      <td>Identification - Meat, Identification - Poultr...</td>\n      <td>Greensboro Packers; Habbersett; Ralph &amp; Paul A...</td>\n      <td>None</td>\n      <td>Jones Dairy Farm</td>\n      <td>None</td>\n      <td>2018-02-07</td>\n      <td>True</td>\n      <td>True</td>\n      <td>53538</td>\n    </tr>\n    <tr>\n      <th>2</th>\n      <td>V3507</td>\n      <td>Zollinger Cold Storage Corporation</td>\n      <td>699 West 1700 South</td>\n      <td>Logan</td>\n      <td>UT</td>\n      <td>84321</td>\n      <td>(801) 753-1134</td>\n      <td>1990-02-27</td>\n      <td>Certification - Export, Identification - Meat,...</td>\n      <td>None</td>\n      <td>UT</td>\n      <td>Zollinger Cold Storage Corporation</td>\n      <td>None</td>\n      <td>2018-02-07</td>\n      <td>None</td>\n      <td>None</td>\n      <td>84321</td>\n    </tr>\n    <tr>\n      <th>3</th>\n      <td>M1544</td>\n      <td>J &amp; M Meat Co.</td>\n      <td>545 9th St.</td>\n      <td>Oakland</td>\n      <td>CA</td>\n      <td>94607</td>\n      <td>(510) 839-0380</td>\n      <td>1982-05-24</td>\n      <td>Meat Processing</td>\n      <td>None</td>\n      <td>CA</td>\n      <td>J &amp; M Meat Co.</td>\n      <td>None</td>\n      <td>2018-02-07</td>\n      <td>True</td>\n      <td>None</td>\n      <td>94607</td>\n    </tr>\n    <tr>\n      <th>4</th>\n      <td>V971</td>\n      <td>Supervalu Inc.</td>\n      <td>1400 West Gadsden Street</td>\n      <td>Quincy</td>\n      <td>FL</td>\n      <td>32351</td>\n      <td>(850) 875-2600</td>\n      <td>2011-09-16</td>\n      <td>Certification - Export, Identification - Meat,...</td>\n      <td>None</td>\n      <td>FL</td>\n      <td>Supervalu Inc.</td>\n      <td>None</td>\n      <td>2018-02-07</td>\n      <td>None</td>\n      <td>None</td>\n      <td>32351</td>\n    </tr>\n  </tbody>\n</table>\n</div>"
     },
     "metadata": {},
     "execution_count": 25
    }
   ],
   "source": [
    "# Removing ZIP codes using concatenation\n",
    "query = \"\"\"\n",
    "UPDATE meat_poultry_egg_inspect\n",
    "SET zip = '00' || zip\n",
    "WHERE st IN('PR', 'VI') AND LENGTH(zip) = 3;\n",
    "\n",
    "SELECT * FROM meat_poultry_egg_inspect LIMIT 5;\n",
    "\"\"\"\n",
    "\n",
    "execute_query(conn, query)"
   ]
  },
  {
   "cell_type": "code",
   "execution_count": 26,
   "metadata": {},
   "outputs": [
    {
     "output_type": "execute_result",
     "data": {
      "text/plain": [
       "          est_number                             company  \\\n",
       "0      M45319+P45319     Hall-Namie Packing Company, Inc   \n",
       "1  M263A+P263A+V263A                    Jones Dairy Farm   \n",
       "2              V3507  Zollinger Cold Storage Corporation   \n",
       "3              M1544                      J & M Meat Co.   \n",
       "4               V971                      Supervalu Inc.   \n",
       "\n",
       "                     street     city  st    zip           phone  grant_date  \\\n",
       "0       210 Iroquois Street     None  AL  36671  (251) 457-3321  2014-05-02   \n",
       "1         801 Rockwell Ave.     None  WI  53538  (920) 563-2431  2016-06-22   \n",
       "2       699 West 1700 South    Logan  UT  84321  (801) 753-1134  1990-02-27   \n",
       "3               545 9th St.  Oakland  CA  94607  (510) 839-0380  1982-05-24   \n",
       "4  1400 West Gadsden Street   Quincy  FL  32351  (850) 875-2600  2011-09-16   \n",
       "\n",
       "                                          activities  \\\n",
       "0                                    Meat Processing   \n",
       "1  Identification - Meat, Identification - Poultr...   \n",
       "2  Certification - Export, Identification - Meat,...   \n",
       "3                                    Meat Processing   \n",
       "4  Certification - Export, Identification - Meat,...   \n",
       "\n",
       "                                                dbas st_copy  \\\n",
       "0                                               None    None   \n",
       "1  Greensboro Packers; Habbersett; Ralph & Paul A...    None   \n",
       "2                                               None      UT   \n",
       "3                                               None      CA   \n",
       "4                                               None      FL   \n",
       "\n",
       "                     company_standard inspection_date reviewed_date  \\\n",
       "0     Hall-Namie Packing Company, Inc            None    2018-02-07   \n",
       "1                    Jones Dairy Farm            None    2018-02-07   \n",
       "2  Zollinger Cold Storage Corporation            None    2018-02-07   \n",
       "3                      J & M Meat Co.            None    2018-02-07   \n",
       "4                      Supervalu Inc.            None    2018-02-07   \n",
       "\n",
       "  meat_processing poultry_processing zip_copy  \n",
       "0            True               None    36671  \n",
       "1            True               True    53538  \n",
       "2            None               None    84321  \n",
       "3            True               None    94607  \n",
       "4            None               None    32351  "
      ],
      "text/html": "<div>\n<style scoped>\n    .dataframe tbody tr th:only-of-type {\n        vertical-align: middle;\n    }\n\n    .dataframe tbody tr th {\n        vertical-align: top;\n    }\n\n    .dataframe thead th {\n        text-align: right;\n    }\n</style>\n<table border=\"1\" class=\"dataframe\">\n  <thead>\n    <tr style=\"text-align: right;\">\n      <th></th>\n      <th>est_number</th>\n      <th>company</th>\n      <th>street</th>\n      <th>city</th>\n      <th>st</th>\n      <th>zip</th>\n      <th>phone</th>\n      <th>grant_date</th>\n      <th>activities</th>\n      <th>dbas</th>\n      <th>st_copy</th>\n      <th>company_standard</th>\n      <th>inspection_date</th>\n      <th>reviewed_date</th>\n      <th>meat_processing</th>\n      <th>poultry_processing</th>\n      <th>zip_copy</th>\n    </tr>\n  </thead>\n  <tbody>\n    <tr>\n      <th>0</th>\n      <td>M45319+P45319</td>\n      <td>Hall-Namie Packing Company, Inc</td>\n      <td>210 Iroquois Street</td>\n      <td>None</td>\n      <td>AL</td>\n      <td>36671</td>\n      <td>(251) 457-3321</td>\n      <td>2014-05-02</td>\n      <td>Meat Processing</td>\n      <td>None</td>\n      <td>None</td>\n      <td>Hall-Namie Packing Company, Inc</td>\n      <td>None</td>\n      <td>2018-02-07</td>\n      <td>True</td>\n      <td>None</td>\n      <td>36671</td>\n    </tr>\n    <tr>\n      <th>1</th>\n      <td>M263A+P263A+V263A</td>\n      <td>Jones Dairy Farm</td>\n      <td>801 Rockwell Ave.</td>\n      <td>None</td>\n      <td>WI</td>\n      <td>53538</td>\n      <td>(920) 563-2431</td>\n      <td>2016-06-22</td>\n      <td>Identification - Meat, Identification - Poultr...</td>\n      <td>Greensboro Packers; Habbersett; Ralph &amp; Paul A...</td>\n      <td>None</td>\n      <td>Jones Dairy Farm</td>\n      <td>None</td>\n      <td>2018-02-07</td>\n      <td>True</td>\n      <td>True</td>\n      <td>53538</td>\n    </tr>\n    <tr>\n      <th>2</th>\n      <td>V3507</td>\n      <td>Zollinger Cold Storage Corporation</td>\n      <td>699 West 1700 South</td>\n      <td>Logan</td>\n      <td>UT</td>\n      <td>84321</td>\n      <td>(801) 753-1134</td>\n      <td>1990-02-27</td>\n      <td>Certification - Export, Identification - Meat,...</td>\n      <td>None</td>\n      <td>UT</td>\n      <td>Zollinger Cold Storage Corporation</td>\n      <td>None</td>\n      <td>2018-02-07</td>\n      <td>None</td>\n      <td>None</td>\n      <td>84321</td>\n    </tr>\n    <tr>\n      <th>3</th>\n      <td>M1544</td>\n      <td>J &amp; M Meat Co.</td>\n      <td>545 9th St.</td>\n      <td>Oakland</td>\n      <td>CA</td>\n      <td>94607</td>\n      <td>(510) 839-0380</td>\n      <td>1982-05-24</td>\n      <td>Meat Processing</td>\n      <td>None</td>\n      <td>CA</td>\n      <td>J &amp; M Meat Co.</td>\n      <td>None</td>\n      <td>2018-02-07</td>\n      <td>True</td>\n      <td>None</td>\n      <td>94607</td>\n    </tr>\n    <tr>\n      <th>4</th>\n      <td>V971</td>\n      <td>Supervalu Inc.</td>\n      <td>1400 West Gadsden Street</td>\n      <td>Quincy</td>\n      <td>FL</td>\n      <td>32351</td>\n      <td>(850) 875-2600</td>\n      <td>2011-09-16</td>\n      <td>Certification - Export, Identification - Meat,...</td>\n      <td>None</td>\n      <td>FL</td>\n      <td>Supervalu Inc.</td>\n      <td>None</td>\n      <td>2018-02-07</td>\n      <td>None</td>\n      <td>None</td>\n      <td>32351</td>\n    </tr>\n  </tbody>\n</table>\n</div>"
     },
     "metadata": {},
     "execution_count": 26
    }
   ],
   "source": [
    "# Updating the remaining rows lacking leading zero's\n",
    "query = \"\"\"\n",
    "UPDATE meat_poultry_egg_inspect\n",
    "SET zip = '0' || zip\n",
    "WHERE st IN('CT', 'MA', 'ME', 'NH', 'NJ', 'RI', 'VT') AND LENGTH(zip) = 4;\n",
    "\n",
    "SELECT * FROM meat_poultry_egg_inspect LIMIT 5;\n",
    "\"\"\"\n",
    "\n",
    "execute_query(conn, query)"
   ]
  },
  {
   "cell_type": "code",
   "execution_count": 27,
   "metadata": {},
   "outputs": [
    {
     "output_type": "execute_result",
     "data": {
      "text/plain": [
       "   length  count\n",
       "0       5   6201"
      ],
      "text/html": "<div>\n<style scoped>\n    .dataframe tbody tr th:only-of-type {\n        vertical-align: middle;\n    }\n\n    .dataframe tbody tr th {\n        vertical-align: top;\n    }\n\n    .dataframe thead th {\n        text-align: right;\n    }\n</style>\n<table border=\"1\" class=\"dataframe\">\n  <thead>\n    <tr style=\"text-align: right;\">\n      <th></th>\n      <th>length</th>\n      <th>count</th>\n    </tr>\n  </thead>\n  <tbody>\n    <tr>\n      <th>0</th>\n      <td>5</td>\n      <td>6201</td>\n    </tr>\n  </tbody>\n</table>\n</div>"
     },
     "metadata": {},
     "execution_count": 27
    }
   ],
   "source": [
    "# Making sure that we fixed all zip codes\n",
    "query = \"\"\"\n",
    "SELECT LENGTH(zip),\n",
    "    COUNT(zip)\n",
    "FROM meat_poultry_egg_inspect\n",
    "GROUP BY LENGTH(zip);\n",
    "\"\"\"\n",
    "\n",
    "execute_query(conn, query)"
   ]
  },
  {
   "source": [
    "For the following part of the chapter, a table was created in order to set an inspection date for each company by U.S. regions"
   ],
   "cell_type": "markdown",
   "metadata": {}
  },
  {
   "cell_type": "code",
   "execution_count": 28,
   "metadata": {},
   "outputs": [
    {
     "output_type": "execute_result",
     "data": {
      "text/plain": [
       "   st inspection_date\n",
       "0  AK            None\n",
       "1  AL            None\n",
       "2  AR            None\n",
       "3  AS            None\n",
       "4  AZ            None\n",
       "5  CA            None\n",
       "6  CO            None\n",
       "7  CT      2019-12-01\n",
       "8  DC            None\n",
       "9  DE            None"
      ],
      "text/html": "<div>\n<style scoped>\n    .dataframe tbody tr th:only-of-type {\n        vertical-align: middle;\n    }\n\n    .dataframe tbody tr th {\n        vertical-align: top;\n    }\n\n    .dataframe thead th {\n        text-align: right;\n    }\n</style>\n<table border=\"1\" class=\"dataframe\">\n  <thead>\n    <tr style=\"text-align: right;\">\n      <th></th>\n      <th>st</th>\n      <th>inspection_date</th>\n    </tr>\n  </thead>\n  <tbody>\n    <tr>\n      <th>0</th>\n      <td>AK</td>\n      <td>None</td>\n    </tr>\n    <tr>\n      <th>1</th>\n      <td>AL</td>\n      <td>None</td>\n    </tr>\n    <tr>\n      <th>2</th>\n      <td>AR</td>\n      <td>None</td>\n    </tr>\n    <tr>\n      <th>3</th>\n      <td>AS</td>\n      <td>None</td>\n    </tr>\n    <tr>\n      <th>4</th>\n      <td>AZ</td>\n      <td>None</td>\n    </tr>\n    <tr>\n      <th>5</th>\n      <td>CA</td>\n      <td>None</td>\n    </tr>\n    <tr>\n      <th>6</th>\n      <td>CO</td>\n      <td>None</td>\n    </tr>\n    <tr>\n      <th>7</th>\n      <td>CT</td>\n      <td>2019-12-01</td>\n    </tr>\n    <tr>\n      <th>8</th>\n      <td>DC</td>\n      <td>None</td>\n    </tr>\n    <tr>\n      <th>9</th>\n      <td>DE</td>\n      <td>None</td>\n    </tr>\n  </tbody>\n</table>\n</div>"
     },
     "metadata": {},
     "execution_count": 28
    }
   ],
   "source": [
    "query = \"\"\"\n",
    "UPDATE meat_poultry_egg_inspect AS inspect\n",
    "SET inspection_date = '2019-12-01'\n",
    "WHERE EXISTS (SELECT state_regions.region\n",
    "        FROM state_regions\n",
    "        WHERE inspect.st = state_regions.st\n",
    "            AND state_regions.region = 'New England');\n",
    "\n",
    "SELECT st, inspection_date\n",
    "FROM meat_poultry_egg_inspect\n",
    "GROUP BY st, inspection_date\n",
    "ORDER BY st\n",
    "LIMIT 10;\n",
    "\"\"\"\n",
    "\n",
    "execute_query(conn, query)"
   ]
  },
  {
   "source": [
    "Deleting Data"
   ],
   "cell_type": "markdown",
   "metadata": {}
  },
  {
   "cell_type": "code",
   "execution_count": 29,
   "metadata": {},
   "outputs": [
    {
     "output_type": "execute_result",
     "data": {
      "text/plain": [
       "Empty DataFrame\n",
       "Columns: [st]\n",
       "Index: []"
      ],
      "text/html": "<div>\n<style scoped>\n    .dataframe tbody tr th:only-of-type {\n        vertical-align: middle;\n    }\n\n    .dataframe tbody tr th {\n        vertical-align: top;\n    }\n\n    .dataframe thead th {\n        text-align: right;\n    }\n</style>\n<table border=\"1\" class=\"dataframe\">\n  <thead>\n    <tr style=\"text-align: right;\">\n      <th></th>\n      <th>st</th>\n    </tr>\n  </thead>\n  <tbody>\n  </tbody>\n</table>\n</div>"
     },
     "metadata": {},
     "execution_count": 29
    }
   ],
   "source": [
    "# Using DELETE FROM and WHERE to delete all companies in U.S. territories\n",
    "query = \"\"\"\n",
    "DELETE FROM meat_poultry_egg_inspect\n",
    "WHERE st IN('PR', 'VI');\n",
    "\n",
    "SELECT st\n",
    "FROM meat_poultry_egg_inspect\n",
    "WHERE st IN ('PR', 'VI');\n",
    "\"\"\"\n",
    "\n",
    "execute_query(conn, query)"
   ]
  },
  {
   "cell_type": "code",
   "execution_count": 30,
   "metadata": {},
   "outputs": [
    {
     "output_type": "execute_result",
     "data": {
      "text/plain": [
       "             est_number                             company  \\\n",
       "0         M45319+P45319     Hall-Namie Packing Company, Inc   \n",
       "1     M263A+P263A+V263A                    Jones Dairy Farm   \n",
       "2                 V3507  Zollinger Cold Storage Corporation   \n",
       "3                 M1544                      J & M Meat Co.   \n",
       "4                  V971                      Supervalu Inc.   \n",
       "...                 ...                                 ...   \n",
       "6196             V18381          Gamez Brothers Produce Co.   \n",
       "6197      M18077+P18077                  Tayyib Foods, Inc.   \n",
       "6198       M1168+P19415            Armour-Eckrich Meats LLC   \n",
       "6199       M5447+P20142                     Los Galleguitos   \n",
       "6200               P607                   Tyson Foods, Inc.   \n",
       "\n",
       "                        street         city  st    zip           phone  \\\n",
       "0          210 Iroquois Street         None  AL  36671  (251) 457-3321   \n",
       "1            801 Rockwell Ave.         None  WI  53538  (920) 563-2431   \n",
       "2          699 West 1700 South        Logan  UT  84321  (801) 753-1134   \n",
       "3                  545 9th St.      Oakland  CA  94607  (510) 839-0380   \n",
       "4     1400 West Gadsden Street       Quincy  FL  32351  (850) 875-2600   \n",
       "...                        ...          ...  ..    ...             ...   \n",
       "6196              219 Guerrero       Laredo  TX  78040  (965) 722-0053   \n",
       "6197      4014 A Glenwood Ave.      Atlanta  GA  30032  (404) 752-6165   \n",
       "6198          20 Carando Drive  Springfield  MA  01104  (413) 781-5620   \n",
       "6199           147 48th Street   Union City  NJ  07087  (201) 865-4658   \n",
       "6200         212 E. Elm Street       Rogers  AR  72756  (479) 636-1620   \n",
       "\n",
       "      grant_date                                         activities  \\\n",
       "0     2014-05-02                                    Meat Processing   \n",
       "1     2016-06-22  Identification - Meat, Identification - Poultr...   \n",
       "2     1990-02-27  Certification - Export, Identification - Meat,...   \n",
       "3     1982-05-24                                    Meat Processing   \n",
       "4     2011-09-16  Certification - Export, Identification - Meat,...   \n",
       "...          ...                                                ...   \n",
       "6196  1998-11-16  Certification - Export, Identification - Meat,...   \n",
       "6197  2012-07-05                Meat Processing, Poultry Processing   \n",
       "6198  2013-05-17                Meat Processing, Poultry Processing   \n",
       "6199  2006-05-16                Meat Processing, Poultry Processing   \n",
       "6200  2014-09-22                                 Poultry Processing   \n",
       "\n",
       "                                                   dbas st_copy  \\\n",
       "0                                                  None    None   \n",
       "1     Greensboro Packers; Habbersett; Ralph & Paul A...    None   \n",
       "2                                                  None      UT   \n",
       "3                                                  None      CA   \n",
       "4                                                  None      FL   \n",
       "...                                                 ...     ...   \n",
       "6196                                               None      TX   \n",
       "6197                                               None      GA   \n",
       "6198  Agar Foods; Ark Valley; Armour Food Company; B...      MA   \n",
       "6199                                               None      NJ   \n",
       "6200                                Tyson Poultry, Inc.      AR   \n",
       "\n",
       "                        company_standard inspection_date reviewed_date  \\\n",
       "0        Hall-Namie Packing Company, Inc            None    2018-02-07   \n",
       "1                       Jones Dairy Farm            None    2018-02-07   \n",
       "2     Zollinger Cold Storage Corporation            None    2018-02-07   \n",
       "3                         J & M Meat Co.            None    2018-02-07   \n",
       "4                         Supervalu Inc.            None    2018-02-07   \n",
       "...                                  ...             ...           ...   \n",
       "6196          Gamez Brothers Produce Co.            None    2018-02-07   \n",
       "6197                  Tayyib Foods, Inc.            None    2018-02-07   \n",
       "6198                Armour_Eckrich Meats      2019-12-01    2018-02-07   \n",
       "6199                     Los Galleguitos            None    2018-02-07   \n",
       "6200                   Tyson Foods, Inc.            None    2018-02-07   \n",
       "\n",
       "     meat_processing poultry_processing  \n",
       "0               True               None  \n",
       "1               True               True  \n",
       "2               None               None  \n",
       "3               True               None  \n",
       "4               None               None  \n",
       "...              ...                ...  \n",
       "6196            None               None  \n",
       "6197            True               True  \n",
       "6198            True               True  \n",
       "6199            True               True  \n",
       "6200            None               True  \n",
       "\n",
       "[6201 rows x 16 columns]"
      ],
      "text/html": "<div>\n<style scoped>\n    .dataframe tbody tr th:only-of-type {\n        vertical-align: middle;\n    }\n\n    .dataframe tbody tr th {\n        vertical-align: top;\n    }\n\n    .dataframe thead th {\n        text-align: right;\n    }\n</style>\n<table border=\"1\" class=\"dataframe\">\n  <thead>\n    <tr style=\"text-align: right;\">\n      <th></th>\n      <th>est_number</th>\n      <th>company</th>\n      <th>street</th>\n      <th>city</th>\n      <th>st</th>\n      <th>zip</th>\n      <th>phone</th>\n      <th>grant_date</th>\n      <th>activities</th>\n      <th>dbas</th>\n      <th>st_copy</th>\n      <th>company_standard</th>\n      <th>inspection_date</th>\n      <th>reviewed_date</th>\n      <th>meat_processing</th>\n      <th>poultry_processing</th>\n    </tr>\n  </thead>\n  <tbody>\n    <tr>\n      <th>0</th>\n      <td>M45319+P45319</td>\n      <td>Hall-Namie Packing Company, Inc</td>\n      <td>210 Iroquois Street</td>\n      <td>None</td>\n      <td>AL</td>\n      <td>36671</td>\n      <td>(251) 457-3321</td>\n      <td>2014-05-02</td>\n      <td>Meat Processing</td>\n      <td>None</td>\n      <td>None</td>\n      <td>Hall-Namie Packing Company, Inc</td>\n      <td>None</td>\n      <td>2018-02-07</td>\n      <td>True</td>\n      <td>None</td>\n    </tr>\n    <tr>\n      <th>1</th>\n      <td>M263A+P263A+V263A</td>\n      <td>Jones Dairy Farm</td>\n      <td>801 Rockwell Ave.</td>\n      <td>None</td>\n      <td>WI</td>\n      <td>53538</td>\n      <td>(920) 563-2431</td>\n      <td>2016-06-22</td>\n      <td>Identification - Meat, Identification - Poultr...</td>\n      <td>Greensboro Packers; Habbersett; Ralph &amp; Paul A...</td>\n      <td>None</td>\n      <td>Jones Dairy Farm</td>\n      <td>None</td>\n      <td>2018-02-07</td>\n      <td>True</td>\n      <td>True</td>\n    </tr>\n    <tr>\n      <th>2</th>\n      <td>V3507</td>\n      <td>Zollinger Cold Storage Corporation</td>\n      <td>699 West 1700 South</td>\n      <td>Logan</td>\n      <td>UT</td>\n      <td>84321</td>\n      <td>(801) 753-1134</td>\n      <td>1990-02-27</td>\n      <td>Certification - Export, Identification - Meat,...</td>\n      <td>None</td>\n      <td>UT</td>\n      <td>Zollinger Cold Storage Corporation</td>\n      <td>None</td>\n      <td>2018-02-07</td>\n      <td>None</td>\n      <td>None</td>\n    </tr>\n    <tr>\n      <th>3</th>\n      <td>M1544</td>\n      <td>J &amp; M Meat Co.</td>\n      <td>545 9th St.</td>\n      <td>Oakland</td>\n      <td>CA</td>\n      <td>94607</td>\n      <td>(510) 839-0380</td>\n      <td>1982-05-24</td>\n      <td>Meat Processing</td>\n      <td>None</td>\n      <td>CA</td>\n      <td>J &amp; M Meat Co.</td>\n      <td>None</td>\n      <td>2018-02-07</td>\n      <td>True</td>\n      <td>None</td>\n    </tr>\n    <tr>\n      <th>4</th>\n      <td>V971</td>\n      <td>Supervalu Inc.</td>\n      <td>1400 West Gadsden Street</td>\n      <td>Quincy</td>\n      <td>FL</td>\n      <td>32351</td>\n      <td>(850) 875-2600</td>\n      <td>2011-09-16</td>\n      <td>Certification - Export, Identification - Meat,...</td>\n      <td>None</td>\n      <td>FL</td>\n      <td>Supervalu Inc.</td>\n      <td>None</td>\n      <td>2018-02-07</td>\n      <td>None</td>\n      <td>None</td>\n    </tr>\n    <tr>\n      <th>...</th>\n      <td>...</td>\n      <td>...</td>\n      <td>...</td>\n      <td>...</td>\n      <td>...</td>\n      <td>...</td>\n      <td>...</td>\n      <td>...</td>\n      <td>...</td>\n      <td>...</td>\n      <td>...</td>\n      <td>...</td>\n      <td>...</td>\n      <td>...</td>\n      <td>...</td>\n      <td>...</td>\n    </tr>\n    <tr>\n      <th>6196</th>\n      <td>V18381</td>\n      <td>Gamez Brothers Produce Co.</td>\n      <td>219 Guerrero</td>\n      <td>Laredo</td>\n      <td>TX</td>\n      <td>78040</td>\n      <td>(965) 722-0053</td>\n      <td>1998-11-16</td>\n      <td>Certification - Export, Identification - Meat,...</td>\n      <td>None</td>\n      <td>TX</td>\n      <td>Gamez Brothers Produce Co.</td>\n      <td>None</td>\n      <td>2018-02-07</td>\n      <td>None</td>\n      <td>None</td>\n    </tr>\n    <tr>\n      <th>6197</th>\n      <td>M18077+P18077</td>\n      <td>Tayyib Foods, Inc.</td>\n      <td>4014 A Glenwood Ave.</td>\n      <td>Atlanta</td>\n      <td>GA</td>\n      <td>30032</td>\n      <td>(404) 752-6165</td>\n      <td>2012-07-05</td>\n      <td>Meat Processing, Poultry Processing</td>\n      <td>None</td>\n      <td>GA</td>\n      <td>Tayyib Foods, Inc.</td>\n      <td>None</td>\n      <td>2018-02-07</td>\n      <td>True</td>\n      <td>True</td>\n    </tr>\n    <tr>\n      <th>6198</th>\n      <td>M1168+P19415</td>\n      <td>Armour-Eckrich Meats LLC</td>\n      <td>20 Carando Drive</td>\n      <td>Springfield</td>\n      <td>MA</td>\n      <td>01104</td>\n      <td>(413) 781-5620</td>\n      <td>2013-05-17</td>\n      <td>Meat Processing, Poultry Processing</td>\n      <td>Agar Foods; Ark Valley; Armour Food Company; B...</td>\n      <td>MA</td>\n      <td>Armour_Eckrich Meats</td>\n      <td>2019-12-01</td>\n      <td>2018-02-07</td>\n      <td>True</td>\n      <td>True</td>\n    </tr>\n    <tr>\n      <th>6199</th>\n      <td>M5447+P20142</td>\n      <td>Los Galleguitos</td>\n      <td>147 48th Street</td>\n      <td>Union City</td>\n      <td>NJ</td>\n      <td>07087</td>\n      <td>(201) 865-4658</td>\n      <td>2006-05-16</td>\n      <td>Meat Processing, Poultry Processing</td>\n      <td>None</td>\n      <td>NJ</td>\n      <td>Los Galleguitos</td>\n      <td>None</td>\n      <td>2018-02-07</td>\n      <td>True</td>\n      <td>True</td>\n    </tr>\n    <tr>\n      <th>6200</th>\n      <td>P607</td>\n      <td>Tyson Foods, Inc.</td>\n      <td>212 E. Elm Street</td>\n      <td>Rogers</td>\n      <td>AR</td>\n      <td>72756</td>\n      <td>(479) 636-1620</td>\n      <td>2014-09-22</td>\n      <td>Poultry Processing</td>\n      <td>Tyson Poultry, Inc.</td>\n      <td>AR</td>\n      <td>Tyson Foods, Inc.</td>\n      <td>None</td>\n      <td>2018-02-07</td>\n      <td>None</td>\n      <td>True</td>\n    </tr>\n  </tbody>\n</table>\n<p>6201 rows × 16 columns</p>\n</div>"
     },
     "metadata": {},
     "execution_count": 30
    }
   ],
   "source": [
    "# Deleting a column from a table - here we drop the zip_copy column from the meat_poultry_egg_inspect table\n",
    "query = \"\"\"\n",
    "ALTER TABLE meat_poultry_egg_inspect\n",
    "DROP COLUMN zip_copy;\n",
    "\n",
    "SELECT * FROM meat_poultry_egg_inspect;\n",
    "\"\"\"\n",
    "\n",
    "execute_query(conn, query)"
   ]
  },
  {
   "source": [
    "Using Transaction Blocks to save or revert changes\n",
    "\n",
    "The following queries would be executed to show how we can make changes to a table without fully committing them - thus giving us the opportunity to revert back to a point prior to our alteration of data\n",
    "\n",
    "        START TRANSACTION;\n",
    "\n",
    "        UPDATE meat_poultry_egg_inspect\n",
    "        SET company = 'AGRO Merchants Oakland LLC'\n",
    "        WHERE company = 'AGRO Merchants Oakland, LLC';\n",
    "\n",
    "        SELECT company\n",
    "        FROM meat_poultry_egg_inspect\n",
    "        WHERE company LIKE 'AGRO%'\n",
    "        ORDER BY company\n",
    "        LIMIT 5;\n",
    "\n",
    "        ROLLBACK;\n"
   ],
   "cell_type": "markdown",
   "metadata": {}
  },
  {
   "source": [
    "For the following part of this chapter, a new table called meat_poultry_egg_inspect_backup was created to demonstrate how to improve performance when updating tables. Please refer to the book documentation for more details."
   ],
   "cell_type": "markdown",
   "metadata": {}
  },
  {
   "source": [
    "In the following query we create a new meat_poultry_egg_inspect table with a new column to avoid taking up additional space that would come with just adding a column\n",
    "\n",
    "\n",
    "    CREATE TABLE meat_poultry_egg_inspect_backup AS\n",
    "    SELECT *,\n",
    "        '2018-02-07'::date AS reviewed_date\n",
    "    FROM meat_poultry_egg_inspect;\n",
    "\n",
    "\n",
    "After the table is created, we can then use the following query to swap this newly created table's name with the original:\n",
    "\n",
    "    ALTER TABLE meat_poultry_egg_inspect RENAME TO meat_poultry_egg_inspect_temp;\n",
    "    ALTER TABLE meat_poultry_egg_inspect_backup RENAME TO meat_poultry_egg_inspect;\n",
    "    ALTER TABLE meat_poultry_egg_inspect_temp RENAME TO meat_poultry_egg_backup;"
   ],
   "cell_type": "markdown",
   "metadata": {}
  },
  {
   "cell_type": "code",
   "execution_count": 31,
   "metadata": {},
   "outputs": [
    {
     "output_type": "execute_result",
     "data": {
      "text/plain": [
       "          est_number                             company  \\\n",
       "0      M45319+P45319     Hall-Namie Packing Company, Inc   \n",
       "1  M263A+P263A+V263A                    Jones Dairy Farm   \n",
       "2              V3507  Zollinger Cold Storage Corporation   \n",
       "3              M1544                      J & M Meat Co.   \n",
       "4               V971                      Supervalu Inc.   \n",
       "\n",
       "                     street     city  st    zip           phone  grant_date  \\\n",
       "0       210 Iroquois Street     None  AL  36671  (251) 457-3321  2014-05-02   \n",
       "1         801 Rockwell Ave.     None  WI  53538  (920) 563-2431  2016-06-22   \n",
       "2       699 West 1700 South    Logan  UT  84321  (801) 753-1134  1990-02-27   \n",
       "3               545 9th St.  Oakland  CA  94607  (510) 839-0380  1982-05-24   \n",
       "4  1400 West Gadsden Street   Quincy  FL  32351  (850) 875-2600  2011-09-16   \n",
       "\n",
       "                                          activities  \\\n",
       "0                                    Meat Processing   \n",
       "1  Identification - Meat, Identification - Poultr...   \n",
       "2  Certification - Export, Identification - Meat,...   \n",
       "3                                    Meat Processing   \n",
       "4  Certification - Export, Identification - Meat,...   \n",
       "\n",
       "                                                dbas st_copy  \\\n",
       "0                                               None    None   \n",
       "1  Greensboro Packers; Habbersett; Ralph & Paul A...    None   \n",
       "2                                               None      UT   \n",
       "3                                               None      CA   \n",
       "4                                               None      FL   \n",
       "\n",
       "                     company_standard inspection_date reviewed_date  \\\n",
       "0     Hall-Namie Packing Company, Inc            None    2018-02-07   \n",
       "1                    Jones Dairy Farm            None    2018-02-07   \n",
       "2  Zollinger Cold Storage Corporation            None    2018-02-07   \n",
       "3                      J & M Meat Co.            None    2018-02-07   \n",
       "4                      Supervalu Inc.            None    2018-02-07   \n",
       "\n",
       "  meat_processing poultry_processing  \n",
       "0            True               None  \n",
       "1            True               True  \n",
       "2            None               None  \n",
       "3            True               None  \n",
       "4            None               None  "
      ],
      "text/html": "<div>\n<style scoped>\n    .dataframe tbody tr th:only-of-type {\n        vertical-align: middle;\n    }\n\n    .dataframe tbody tr th {\n        vertical-align: top;\n    }\n\n    .dataframe thead th {\n        text-align: right;\n    }\n</style>\n<table border=\"1\" class=\"dataframe\">\n  <thead>\n    <tr style=\"text-align: right;\">\n      <th></th>\n      <th>est_number</th>\n      <th>company</th>\n      <th>street</th>\n      <th>city</th>\n      <th>st</th>\n      <th>zip</th>\n      <th>phone</th>\n      <th>grant_date</th>\n      <th>activities</th>\n      <th>dbas</th>\n      <th>st_copy</th>\n      <th>company_standard</th>\n      <th>inspection_date</th>\n      <th>reviewed_date</th>\n      <th>meat_processing</th>\n      <th>poultry_processing</th>\n    </tr>\n  </thead>\n  <tbody>\n    <tr>\n      <th>0</th>\n      <td>M45319+P45319</td>\n      <td>Hall-Namie Packing Company, Inc</td>\n      <td>210 Iroquois Street</td>\n      <td>None</td>\n      <td>AL</td>\n      <td>36671</td>\n      <td>(251) 457-3321</td>\n      <td>2014-05-02</td>\n      <td>Meat Processing</td>\n      <td>None</td>\n      <td>None</td>\n      <td>Hall-Namie Packing Company, Inc</td>\n      <td>None</td>\n      <td>2018-02-07</td>\n      <td>True</td>\n      <td>None</td>\n    </tr>\n    <tr>\n      <th>1</th>\n      <td>M263A+P263A+V263A</td>\n      <td>Jones Dairy Farm</td>\n      <td>801 Rockwell Ave.</td>\n      <td>None</td>\n      <td>WI</td>\n      <td>53538</td>\n      <td>(920) 563-2431</td>\n      <td>2016-06-22</td>\n      <td>Identification - Meat, Identification - Poultr...</td>\n      <td>Greensboro Packers; Habbersett; Ralph &amp; Paul A...</td>\n      <td>None</td>\n      <td>Jones Dairy Farm</td>\n      <td>None</td>\n      <td>2018-02-07</td>\n      <td>True</td>\n      <td>True</td>\n    </tr>\n    <tr>\n      <th>2</th>\n      <td>V3507</td>\n      <td>Zollinger Cold Storage Corporation</td>\n      <td>699 West 1700 South</td>\n      <td>Logan</td>\n      <td>UT</td>\n      <td>84321</td>\n      <td>(801) 753-1134</td>\n      <td>1990-02-27</td>\n      <td>Certification - Export, Identification - Meat,...</td>\n      <td>None</td>\n      <td>UT</td>\n      <td>Zollinger Cold Storage Corporation</td>\n      <td>None</td>\n      <td>2018-02-07</td>\n      <td>None</td>\n      <td>None</td>\n    </tr>\n    <tr>\n      <th>3</th>\n      <td>M1544</td>\n      <td>J &amp; M Meat Co.</td>\n      <td>545 9th St.</td>\n      <td>Oakland</td>\n      <td>CA</td>\n      <td>94607</td>\n      <td>(510) 839-0380</td>\n      <td>1982-05-24</td>\n      <td>Meat Processing</td>\n      <td>None</td>\n      <td>CA</td>\n      <td>J &amp; M Meat Co.</td>\n      <td>None</td>\n      <td>2018-02-07</td>\n      <td>True</td>\n      <td>None</td>\n    </tr>\n    <tr>\n      <th>4</th>\n      <td>V971</td>\n      <td>Supervalu Inc.</td>\n      <td>1400 West Gadsden Street</td>\n      <td>Quincy</td>\n      <td>FL</td>\n      <td>32351</td>\n      <td>(850) 875-2600</td>\n      <td>2011-09-16</td>\n      <td>Certification - Export, Identification - Meat,...</td>\n      <td>None</td>\n      <td>FL</td>\n      <td>Supervalu Inc.</td>\n      <td>None</td>\n      <td>2018-02-07</td>\n      <td>None</td>\n      <td>None</td>\n    </tr>\n  </tbody>\n</table>\n</div>"
     },
     "metadata": {},
     "execution_count": 31
    }
   ],
   "source": [
    "# Ensuring that our tables have switched names - by doing this process we avoid updating rows and having the db inflate the size of the table. Eventually the \"backup\" table will be dropped and the remaning data table will be smaller\n",
    "query = \"\"\"\n",
    "SELECT * FROM meat_poultry_egg_inspect LIMIT 5;\n",
    "\"\"\"\n",
    "\n",
    "execute_query(conn, query)"
   ]
  },
  {
   "source": [
    "## Chapter 10: Statistical Functions in SQL\n",
    "\n",
    "For this chapter, a data table was created from the 2011-2015 American Community Survey. Please see the book documentation for more information."
   ],
   "cell_type": "markdown",
   "metadata": {}
  },
  {
   "cell_type": "code",
   "execution_count": 32,
   "metadata": {},
   "outputs": [
    {
     "output_type": "execute_result",
     "data": {
      "text/plain": [
       "               geoid             county       st pct_travel_60_min  \\\n",
       "0     0500000US01001     Autauga County  Alabama             5.630   \n",
       "1     0500000US01003     Baldwin County  Alabama             7.966   \n",
       "2     0500000US01005     Barbour County  Alabama             7.672   \n",
       "3     0500000US01007        Bibb County  Alabama             9.198   \n",
       "4     0500000US01009      Blount County  Alabama            16.741   \n",
       "...              ...                ...      ...               ...   \n",
       "3137  0500000US56037  Sweetwater County  Wyoming             6.741   \n",
       "3138  0500000US56039       Teton County  Wyoming             1.720   \n",
       "3139  0500000US56041       Uinta County  Wyoming             8.460   \n",
       "3140  0500000US56043    Washakie County  Wyoming             2.763   \n",
       "3141  0500000US56045      Weston County  Wyoming            26.639   \n",
       "\n",
       "     pct_bachelors_higher pct_masters_higher  median_hh_income  \n",
       "0                  23.230              9.747           51281.0  \n",
       "1                  28.985              9.724           50254.0  \n",
       "2                  12.516              5.009           32964.0  \n",
       "3                  10.647              4.594           38678.0  \n",
       "4                  12.891              4.273           45813.0  \n",
       "...                   ...                ...               ...  \n",
       "3137               19.599              5.810           69022.0  \n",
       "3138               53.932             16.115           75325.0  \n",
       "3139               19.306              5.373           56569.0  \n",
       "3140               21.131              6.121           47652.0  \n",
       "3141               18.114              5.251           57738.0  \n",
       "\n",
       "[3142 rows x 7 columns]"
      ],
      "text/html": "<div>\n<style scoped>\n    .dataframe tbody tr th:only-of-type {\n        vertical-align: middle;\n    }\n\n    .dataframe tbody tr th {\n        vertical-align: top;\n    }\n\n    .dataframe thead th {\n        text-align: right;\n    }\n</style>\n<table border=\"1\" class=\"dataframe\">\n  <thead>\n    <tr style=\"text-align: right;\">\n      <th></th>\n      <th>geoid</th>\n      <th>county</th>\n      <th>st</th>\n      <th>pct_travel_60_min</th>\n      <th>pct_bachelors_higher</th>\n      <th>pct_masters_higher</th>\n      <th>median_hh_income</th>\n    </tr>\n  </thead>\n  <tbody>\n    <tr>\n      <th>0</th>\n      <td>0500000US01001</td>\n      <td>Autauga County</td>\n      <td>Alabama</td>\n      <td>5.630</td>\n      <td>23.230</td>\n      <td>9.747</td>\n      <td>51281.0</td>\n    </tr>\n    <tr>\n      <th>1</th>\n      <td>0500000US01003</td>\n      <td>Baldwin County</td>\n      <td>Alabama</td>\n      <td>7.966</td>\n      <td>28.985</td>\n      <td>9.724</td>\n      <td>50254.0</td>\n    </tr>\n    <tr>\n      <th>2</th>\n      <td>0500000US01005</td>\n      <td>Barbour County</td>\n      <td>Alabama</td>\n      <td>7.672</td>\n      <td>12.516</td>\n      <td>5.009</td>\n      <td>32964.0</td>\n    </tr>\n    <tr>\n      <th>3</th>\n      <td>0500000US01007</td>\n      <td>Bibb County</td>\n      <td>Alabama</td>\n      <td>9.198</td>\n      <td>10.647</td>\n      <td>4.594</td>\n      <td>38678.0</td>\n    </tr>\n    <tr>\n      <th>4</th>\n      <td>0500000US01009</td>\n      <td>Blount County</td>\n      <td>Alabama</td>\n      <td>16.741</td>\n      <td>12.891</td>\n      <td>4.273</td>\n      <td>45813.0</td>\n    </tr>\n    <tr>\n      <th>...</th>\n      <td>...</td>\n      <td>...</td>\n      <td>...</td>\n      <td>...</td>\n      <td>...</td>\n      <td>...</td>\n      <td>...</td>\n    </tr>\n    <tr>\n      <th>3137</th>\n      <td>0500000US56037</td>\n      <td>Sweetwater County</td>\n      <td>Wyoming</td>\n      <td>6.741</td>\n      <td>19.599</td>\n      <td>5.810</td>\n      <td>69022.0</td>\n    </tr>\n    <tr>\n      <th>3138</th>\n      <td>0500000US56039</td>\n      <td>Teton County</td>\n      <td>Wyoming</td>\n      <td>1.720</td>\n      <td>53.932</td>\n      <td>16.115</td>\n      <td>75325.0</td>\n    </tr>\n    <tr>\n      <th>3139</th>\n      <td>0500000US56041</td>\n      <td>Uinta County</td>\n      <td>Wyoming</td>\n      <td>8.460</td>\n      <td>19.306</td>\n      <td>5.373</td>\n      <td>56569.0</td>\n    </tr>\n    <tr>\n      <th>3140</th>\n      <td>0500000US56043</td>\n      <td>Washakie County</td>\n      <td>Wyoming</td>\n      <td>2.763</td>\n      <td>21.131</td>\n      <td>6.121</td>\n      <td>47652.0</td>\n    </tr>\n    <tr>\n      <th>3141</th>\n      <td>0500000US56045</td>\n      <td>Weston County</td>\n      <td>Wyoming</td>\n      <td>26.639</td>\n      <td>18.114</td>\n      <td>5.251</td>\n      <td>57738.0</td>\n    </tr>\n  </tbody>\n</table>\n<p>3142 rows × 7 columns</p>\n</div>"
     },
     "metadata": {},
     "execution_count": 32
    }
   ],
   "source": [
    "# Examining our newly created ACS 5 year estimate table\n",
    "query = \"SELECT * FROM acs_2011_2015_stats;\"\n",
    "\n",
    "execute_query(conn, query)"
   ]
  },
  {
   "cell_type": "code",
   "execution_count": 33,
   "metadata": {},
   "outputs": [
    {
     "output_type": "execute_result",
     "data": {
      "text/plain": [
       "   bachelors_incomre_r\n",
       "0             0.682186"
      ],
      "text/html": "<div>\n<style scoped>\n    .dataframe tbody tr th:only-of-type {\n        vertical-align: middle;\n    }\n\n    .dataframe tbody tr th {\n        vertical-align: top;\n    }\n\n    .dataframe thead th {\n        text-align: right;\n    }\n</style>\n<table border=\"1\" class=\"dataframe\">\n  <thead>\n    <tr style=\"text-align: right;\">\n      <th></th>\n      <th>bachelors_incomre_r</th>\n    </tr>\n  </thead>\n  <tbody>\n    <tr>\n      <th>0</th>\n      <td>0.682186</td>\n    </tr>\n  </tbody>\n</table>\n</div>"
     },
     "metadata": {},
     "execution_count": 33
    }
   ],
   "source": [
    "# Measuring Correlations with CORR(Y, X) - Here we examine the correlation between the median_hh_income and pct_bachelors_higher columns\n",
    "query = \"\"\"\n",
    "SELECT CORR(median_hh_income, pct_bachelors_higher) AS bachelors_incomre_r\n",
    "FROM acs_2011_2015_stats;\n",
    "\"\"\"\n",
    "\n",
    "execute_query(conn, query)"
   ]
  },
  {
   "cell_type": "code",
   "execution_count": 34,
   "metadata": {},
   "outputs": [
    {
     "output_type": "execute_result",
     "data": {
      "text/plain": [
       "  bachelors_income_r income_travel_r bachelors_travel_r\n",
       "0               0.68            0.05              -0.14"
      ],
      "text/html": "<div>\n<style scoped>\n    .dataframe tbody tr th:only-of-type {\n        vertical-align: middle;\n    }\n\n    .dataframe tbody tr th {\n        vertical-align: top;\n    }\n\n    .dataframe thead th {\n        text-align: right;\n    }\n</style>\n<table border=\"1\" class=\"dataframe\">\n  <thead>\n    <tr style=\"text-align: right;\">\n      <th></th>\n      <th>bachelors_income_r</th>\n      <th>income_travel_r</th>\n      <th>bachelors_travel_r</th>\n    </tr>\n  </thead>\n  <tbody>\n    <tr>\n      <th>0</th>\n      <td>0.68</td>\n      <td>0.05</td>\n      <td>-0.14</td>\n    </tr>\n  </tbody>\n</table>\n</div>"
     },
     "metadata": {},
     "execution_count": 34
    }
   ],
   "source": [
    "# Checking addditional correlation coefficients\n",
    "query = \"\"\"\n",
    "SELECT \n",
    "    ROUND(\n",
    "        CORR(median_hh_income, pct_bachelors_higher)::NUMERIC, 2\n",
    "    ) AS bachelors_income_r,\n",
    "    ROUND(\n",
    "        CORR(pct_travel_60_min, median_hh_income)::NUMERIC, 2\n",
    "    ) AS income_travel_r,\n",
    "    ROUND(\n",
    "        CORR(pct_travel_60_min, pct_bachelors_higher)::NUMERIC, 2\n",
    "    ) AS bachelors_travel_r\n",
    "FROM acs_2011_2015_stats;\n",
    "\"\"\"\n",
    "\n",
    "execute_query(conn, query)"
   ]
  },
  {
   "cell_type": "code",
   "execution_count": 35,
   "metadata": {},
   "outputs": [
    {
     "output_type": "execute_result",
     "data": {
      "text/plain": [
       "    slope y_intercept\n",
       "0  926.95    27901.15"
      ],
      "text/html": "<div>\n<style scoped>\n    .dataframe tbody tr th:only-of-type {\n        vertical-align: middle;\n    }\n\n    .dataframe tbody tr th {\n        vertical-align: top;\n    }\n\n    .dataframe thead th {\n        text-align: right;\n    }\n</style>\n<table border=\"1\" class=\"dataframe\">\n  <thead>\n    <tr style=\"text-align: right;\">\n      <th></th>\n      <th>slope</th>\n      <th>y_intercept</th>\n    </tr>\n  </thead>\n  <tbody>\n    <tr>\n      <th>0</th>\n      <td>926.95</td>\n      <td>27901.15</td>\n    </tr>\n  </tbody>\n</table>\n</div>"
     },
     "metadata": {},
     "execution_count": 35
    }
   ],
   "source": [
    "# Predicting Values with Regression Analysis - here we try to predict what the expected median household income in a county would be if the percntage of people with a bachelor's degree or higher in that county was 30 percent. The first step is to try and find what our slope and intercepts will be using the REGR_SLOPE(Y, X) AND REGR_INTERCEPT(Y, X) functions\n",
    "query = \"\"\"\n",
    "SELECT \n",
    "    ROUND(\n",
    "        REGR_SLOPE(median_hh_income, pct_bachelors_higher)::NUMERIC, 2\n",
    "    ) AS slope,\n",
    "    ROUND(\n",
    "        REGR_INTERCEPT(median_hh_income, pct_bachelors_higher)::NUMERIC, 2\n",
    "    ) AS y_intercept\n",
    "FROM acs_2011_2015_stats;\n",
    "\"\"\"\n",
    "\n",
    "execute_query(conn, query)"
   ]
  },
  {
   "cell_type": "code",
   "execution_count": 36,
   "metadata": {},
   "outputs": [
    {
     "output_type": "stream",
     "name": "stdout",
     "text": [
      "55709.65\n"
     ]
    }
   ],
   "source": [
    "# Using this info we can calculate what the median household income would be using our slope-intercept formula\n",
    "y = (926.95*30)+27901.15\n",
    "print(y)"
   ]
  },
  {
   "cell_type": "code",
   "execution_count": 37,
   "metadata": {},
   "outputs": [
    {
     "output_type": "execute_result",
     "data": {
      "text/plain": [
       "  r_squared\n",
       "0     0.465"
      ],
      "text/html": "<div>\n<style scoped>\n    .dataframe tbody tr th:only-of-type {\n        vertical-align: middle;\n    }\n\n    .dataframe tbody tr th {\n        vertical-align: top;\n    }\n\n    .dataframe thead th {\n        text-align: right;\n    }\n</style>\n<table border=\"1\" class=\"dataframe\">\n  <thead>\n    <tr style=\"text-align: right;\">\n      <th></th>\n      <th>r_squared</th>\n    </tr>\n  </thead>\n  <tbody>\n    <tr>\n      <th>0</th>\n      <td>0.465</td>\n    </tr>\n  </tbody>\n</table>\n</div>"
     },
     "metadata": {},
     "execution_count": 37
    }
   ],
   "source": [
    "# Finding the effect of an independent variable with r-squared - this requires us to use the REGR_R2(Y, X) function\n",
    "query = \"\"\"\n",
    "SELECT ROUND(\n",
    "    REGR_R2(median_hh_income, pct_bachelors_higher):: NUMERIC, 3\n",
    "    ) AS r_squared\n",
    "FROM acs_2011_2015_stats;\n",
    "\"\"\"\n",
    "\n",
    "execute_query(conn, query)"
   ]
  },
  {
   "source": [
    "For this next part of the chapter we look at window functions. In order to use some of the window functions a table titled, \"widget_companies\", was created. Please see the book documentation for more details."
   ],
   "cell_type": "markdown",
   "metadata": {}
  },
  {
   "cell_type": "code",
   "execution_count": 38,
   "metadata": {},
   "outputs": [
    {
     "output_type": "execute_result",
     "data": {
      "text/plain": [
       "                      company  widget_output  rank  dense_rank\n",
       "0          Clarke Amalgamated         620000     1           1\n",
       "1       Stavesacre Industries         244000     2           2\n",
       "2      Bowers Widget Emporium         201000     3           3\n",
       "3        District Widget Inc.         201000     3           3\n",
       "4                Best Widgets         196000     5           4\n",
       "5  Springfield Widget Masters         143000     6           5\n",
       "6                   Acme Inc.         133000     7           6\n",
       "7               Morse Widgets         125000     8           7"
      ],
      "text/html": "<div>\n<style scoped>\n    .dataframe tbody tr th:only-of-type {\n        vertical-align: middle;\n    }\n\n    .dataframe tbody tr th {\n        vertical-align: top;\n    }\n\n    .dataframe thead th {\n        text-align: right;\n    }\n</style>\n<table border=\"1\" class=\"dataframe\">\n  <thead>\n    <tr style=\"text-align: right;\">\n      <th></th>\n      <th>company</th>\n      <th>widget_output</th>\n      <th>rank</th>\n      <th>dense_rank</th>\n    </tr>\n  </thead>\n  <tbody>\n    <tr>\n      <th>0</th>\n      <td>Clarke Amalgamated</td>\n      <td>620000</td>\n      <td>1</td>\n      <td>1</td>\n    </tr>\n    <tr>\n      <th>1</th>\n      <td>Stavesacre Industries</td>\n      <td>244000</td>\n      <td>2</td>\n      <td>2</td>\n    </tr>\n    <tr>\n      <th>2</th>\n      <td>Bowers Widget Emporium</td>\n      <td>201000</td>\n      <td>3</td>\n      <td>3</td>\n    </tr>\n    <tr>\n      <th>3</th>\n      <td>District Widget Inc.</td>\n      <td>201000</td>\n      <td>3</td>\n      <td>3</td>\n    </tr>\n    <tr>\n      <th>4</th>\n      <td>Best Widgets</td>\n      <td>196000</td>\n      <td>5</td>\n      <td>4</td>\n    </tr>\n    <tr>\n      <th>5</th>\n      <td>Springfield Widget Masters</td>\n      <td>143000</td>\n      <td>6</td>\n      <td>5</td>\n    </tr>\n    <tr>\n      <th>6</th>\n      <td>Acme Inc.</td>\n      <td>133000</td>\n      <td>7</td>\n      <td>6</td>\n    </tr>\n    <tr>\n      <th>7</th>\n      <td>Morse Widgets</td>\n      <td>125000</td>\n      <td>8</td>\n      <td>7</td>\n    </tr>\n  </tbody>\n</table>\n</div>"
     },
     "metadata": {},
     "execution_count": 38
    }
   ],
   "source": [
    "# Creating rankings with the RANK() AND DENSE_RANK() functions\n",
    "query = \"\"\"\n",
    "SELECT \n",
    "    company,\n",
    "    widget_output,\n",
    "    RANK() OVER (ORDER BY widget_output DESC),\n",
    "    DENSE_RANK() OVER (ORDER BY widget_output DESC)\n",
    "FROM widget_companies;\n",
    "\"\"\"\n",
    "\n",
    "execute_query(conn, query)"
   ]
  },
  {
   "source": [
    "For the next part of the chapter, we look at partitioning in window functions. To do so, a table titled, \"store_sales\" was created. Please see the book documentation for more details."
   ],
   "cell_type": "markdown",
   "metadata": {}
  },
  {
   "cell_type": "code",
   "execution_count": 39,
   "metadata": {},
   "outputs": [
    {
     "output_type": "execute_result",
     "data": {
      "text/plain": [
       "    category    store  unit_sales  rank\n",
       "0       Beer  Wallace         988     1\n",
       "1       Beer  Broders         641     2\n",
       "2       Beer  Cramers         640     3\n",
       "3     Cereal  Broders        1104     1\n",
       "4     Cereal  Cramers        1003     2\n",
       "5     Cereal  Wallace         980     3\n",
       "6  Ice Cream  Broders        2517     1\n",
       "7  Ice Cream  Cramers        2112     2\n",
       "8  Ice Cream  Wallace        1863     3"
      ],
      "text/html": "<div>\n<style scoped>\n    .dataframe tbody tr th:only-of-type {\n        vertical-align: middle;\n    }\n\n    .dataframe tbody tr th {\n        vertical-align: top;\n    }\n\n    .dataframe thead th {\n        text-align: right;\n    }\n</style>\n<table border=\"1\" class=\"dataframe\">\n  <thead>\n    <tr style=\"text-align: right;\">\n      <th></th>\n      <th>category</th>\n      <th>store</th>\n      <th>unit_sales</th>\n      <th>rank</th>\n    </tr>\n  </thead>\n  <tbody>\n    <tr>\n      <th>0</th>\n      <td>Beer</td>\n      <td>Wallace</td>\n      <td>988</td>\n      <td>1</td>\n    </tr>\n    <tr>\n      <th>1</th>\n      <td>Beer</td>\n      <td>Broders</td>\n      <td>641</td>\n      <td>2</td>\n    </tr>\n    <tr>\n      <th>2</th>\n      <td>Beer</td>\n      <td>Cramers</td>\n      <td>640</td>\n      <td>3</td>\n    </tr>\n    <tr>\n      <th>3</th>\n      <td>Cereal</td>\n      <td>Broders</td>\n      <td>1104</td>\n      <td>1</td>\n    </tr>\n    <tr>\n      <th>4</th>\n      <td>Cereal</td>\n      <td>Cramers</td>\n      <td>1003</td>\n      <td>2</td>\n    </tr>\n    <tr>\n      <th>5</th>\n      <td>Cereal</td>\n      <td>Wallace</td>\n      <td>980</td>\n      <td>3</td>\n    </tr>\n    <tr>\n      <th>6</th>\n      <td>Ice Cream</td>\n      <td>Broders</td>\n      <td>2517</td>\n      <td>1</td>\n    </tr>\n    <tr>\n      <th>7</th>\n      <td>Ice Cream</td>\n      <td>Cramers</td>\n      <td>2112</td>\n      <td>2</td>\n    </tr>\n    <tr>\n      <th>8</th>\n      <td>Ice Cream</td>\n      <td>Wallace</td>\n      <td>1863</td>\n      <td>3</td>\n    </tr>\n  </tbody>\n</table>\n</div>"
     },
     "metadata": {},
     "execution_count": 39
    }
   ],
   "source": [
    "# Ranking within subroups with PARTITION BY\n",
    "query = \"\"\"\n",
    "SELECT \n",
    "    category,\n",
    "    store,\n",
    "    unit_sales,\n",
    "    RANK() OVER(PARTITION BY category ORDER BY unit_sales DESC)\n",
    "FROM store_sales\n",
    "\"\"\"\n",
    "\n",
    "execute_query(conn, query)"
   ]
  },
  {
   "source": [
    "For the next part of the chapter, we look at using rates as opposed to simple raw counts for comparisons across different measures. To do so, a table titled, \"fbi_crime_data_2015\" was created. Please see the book documentation for more details."
   ],
   "cell_type": "markdown",
   "metadata": {}
  },
  {
   "cell_type": "code",
   "execution_count": 40,
   "metadata": {},
   "outputs": [
    {
     "output_type": "execute_result",
     "data": {
      "text/plain": [
       "            city                    st  population  property_crime pc_per_1000\n",
       "0         Tucson               Arizona      529675           35185        66.4\n",
       "1  San Francisco            California      863782           53019        61.4\n",
       "2    Albuquerque            New Mexico      559721           33993        60.7\n",
       "3        Memphis             Tennessee      657936           37047        56.3\n",
       "4        Seattle            Washington      683700           37754        55.2\n",
       "5    San Antonio                 Texas     1463586           73611        50.3\n",
       "6      Baltimore              Maryland      621252           30941        49.8\n",
       "7   Indianapolis               Indiana      863675           41377        47.9\n",
       "8     Washington  District of Columbia      672228           30359        45.2\n",
       "9        Houston                 Texas     2275221          100053        44.0"
      ],
      "text/html": "<div>\n<style scoped>\n    .dataframe tbody tr th:only-of-type {\n        vertical-align: middle;\n    }\n\n    .dataframe tbody tr th {\n        vertical-align: top;\n    }\n\n    .dataframe thead th {\n        text-align: right;\n    }\n</style>\n<table border=\"1\" class=\"dataframe\">\n  <thead>\n    <tr style=\"text-align: right;\">\n      <th></th>\n      <th>city</th>\n      <th>st</th>\n      <th>population</th>\n      <th>property_crime</th>\n      <th>pc_per_1000</th>\n    </tr>\n  </thead>\n  <tbody>\n    <tr>\n      <th>0</th>\n      <td>Tucson</td>\n      <td>Arizona</td>\n      <td>529675</td>\n      <td>35185</td>\n      <td>66.4</td>\n    </tr>\n    <tr>\n      <th>1</th>\n      <td>San Francisco</td>\n      <td>California</td>\n      <td>863782</td>\n      <td>53019</td>\n      <td>61.4</td>\n    </tr>\n    <tr>\n      <th>2</th>\n      <td>Albuquerque</td>\n      <td>New Mexico</td>\n      <td>559721</td>\n      <td>33993</td>\n      <td>60.7</td>\n    </tr>\n    <tr>\n      <th>3</th>\n      <td>Memphis</td>\n      <td>Tennessee</td>\n      <td>657936</td>\n      <td>37047</td>\n      <td>56.3</td>\n    </tr>\n    <tr>\n      <th>4</th>\n      <td>Seattle</td>\n      <td>Washington</td>\n      <td>683700</td>\n      <td>37754</td>\n      <td>55.2</td>\n    </tr>\n    <tr>\n      <th>5</th>\n      <td>San Antonio</td>\n      <td>Texas</td>\n      <td>1463586</td>\n      <td>73611</td>\n      <td>50.3</td>\n    </tr>\n    <tr>\n      <th>6</th>\n      <td>Baltimore</td>\n      <td>Maryland</td>\n      <td>621252</td>\n      <td>30941</td>\n      <td>49.8</td>\n    </tr>\n    <tr>\n      <th>7</th>\n      <td>Indianapolis</td>\n      <td>Indiana</td>\n      <td>863675</td>\n      <td>41377</td>\n      <td>47.9</td>\n    </tr>\n    <tr>\n      <th>8</th>\n      <td>Washington</td>\n      <td>District of Columbia</td>\n      <td>672228</td>\n      <td>30359</td>\n      <td>45.2</td>\n    </tr>\n    <tr>\n      <th>9</th>\n      <td>Houston</td>\n      <td>Texas</td>\n      <td>2275221</td>\n      <td>100053</td>\n      <td>44.0</td>\n    </tr>\n  </tbody>\n</table>\n</div>"
     },
     "metadata": {},
     "execution_count": 40
    }
   ],
   "source": [
    "# Calculating rates for meaningful data\n",
    "query = \"\"\"\n",
    "SELECT\n",
    "    city,\n",
    "    st,\n",
    "    population,\n",
    "    property_crime,\n",
    "    ROUND(\n",
    "        (property_crime::NUMERIC / population) * 1000, 1\n",
    "    ) AS pc_per_1000\n",
    "FROM fbi_crime_data_2015\n",
    "WHERE population >= 500000\n",
    "ORDER BY (pc_per_1000) DESC\n",
    "LIMIT 10;\n",
    "\"\"\"\n",
    "\n",
    "execute_query(conn, query)"
   ]
  },
  {
   "source": [
    "## Chapter 11: Working With Dates and Times\n",
    "\n"
   ],
   "cell_type": "markdown",
   "metadata": {}
  },
  {
   "cell_type": "code",
   "execution_count": 41,
   "metadata": {},
   "outputs": [
    {
     "output_type": "execute_result",
     "data": {
      "text/plain": [
       "   date_part  date_part  date_part  date_part  date_part  date_part  \\\n",
       "0     2019.0       12.0        1.0       18.0       37.0       12.0   \n",
       "\n",
       "   date_part  date_part  date_part     date_part  \n",
       "0       -5.0       48.0        4.0  1.575243e+09  "
      ],
      "text/html": "<div>\n<style scoped>\n    .dataframe tbody tr th:only-of-type {\n        vertical-align: middle;\n    }\n\n    .dataframe tbody tr th {\n        vertical-align: top;\n    }\n\n    .dataframe thead th {\n        text-align: right;\n    }\n</style>\n<table border=\"1\" class=\"dataframe\">\n  <thead>\n    <tr style=\"text-align: right;\">\n      <th></th>\n      <th>date_part</th>\n      <th>date_part</th>\n      <th>date_part</th>\n      <th>date_part</th>\n      <th>date_part</th>\n      <th>date_part</th>\n      <th>date_part</th>\n      <th>date_part</th>\n      <th>date_part</th>\n      <th>date_part</th>\n    </tr>\n  </thead>\n  <tbody>\n    <tr>\n      <th>0</th>\n      <td>2019.0</td>\n      <td>12.0</td>\n      <td>1.0</td>\n      <td>18.0</td>\n      <td>37.0</td>\n      <td>12.0</td>\n      <td>-5.0</td>\n      <td>48.0</td>\n      <td>4.0</td>\n      <td>1.575243e+09</td>\n    </tr>\n  </tbody>\n</table>\n</div>"
     },
     "metadata": {},
     "execution_count": 41
    }
   ],
   "source": [
    "# Using the PostgreSQL DATE_PART() function to parse through components of a timestamp value\n",
    "query = \"\"\"\n",
    "SELECT \n",
    "    DATE_PART('year', CAST('2019-12-01 18:37:12 EST' AS TIMESTAMPTZ)),\n",
    "    DATE_PART('month', CAST('2019-12-01 18:37:12 EST' AS TIMESTAMPTZ)),\n",
    "    DATE_PART('day', CAST('2019-12-01 18:37:12 EST' AS TIMESTAMPTZ)),\n",
    "    DATE_PART('hour', CAST('2019-12-01 18:37:12 EST' AS TIMESTAMPTZ)),\n",
    "    DATE_PART('minute', CAST('2019-12-01 18:37:12 EST' AS TIMESTAMPTZ)),\n",
    "    DATE_PART('seconds', CAST('2019-12-01 18:37:12 EST' AS TIMESTAMPTZ)),\n",
    "    DATE_PART('timezone_hour', CAST('2019-12-01 18:37:12 EST' AS TIMESTAMPTZ)),\n",
    "    DATE_PART('week', CAST('2019-12-01 18:37:12 EST' AS TIMESTAMPTZ)),\n",
    "    DATE_PART('quarter', CAST('2019-12-01 18:37:12 EST' AS TIMESTAMPTZ)),\n",
    "    DATE_PART('epoch', CAST('2019-12-01 18:37:12 EST' AS TIMESTAMPTZ))\n",
    "    ;\n",
    "\"\"\"\n",
    "\n",
    "execute_query(conn, query)"
   ]
  },
  {
   "cell_type": "code",
   "execution_count": 45,
   "metadata": {},
   "outputs": [
    {
     "output_type": "execute_result",
     "data": {
      "text/plain": [
       "    make_date        make_time                 make_timestamptz\n",
       "0  2018-02-22  18:04:30.300000 2018-02-22 13:04:30.300000-05:00"
      ],
      "text/html": "<div>\n<style scoped>\n    .dataframe tbody tr th:only-of-type {\n        vertical-align: middle;\n    }\n\n    .dataframe tbody tr th {\n        vertical-align: top;\n    }\n\n    .dataframe thead th {\n        text-align: right;\n    }\n</style>\n<table border=\"1\" class=\"dataframe\">\n  <thead>\n    <tr style=\"text-align: right;\">\n      <th></th>\n      <th>make_date</th>\n      <th>make_time</th>\n      <th>make_timestamptz</th>\n    </tr>\n  </thead>\n  <tbody>\n    <tr>\n      <th>0</th>\n      <td>2018-02-22</td>\n      <td>18:04:30.300000</td>\n      <td>2018-02-22 13:04:30.300000-05:00</td>\n    </tr>\n  </tbody>\n</table>\n</div>"
     },
     "metadata": {},
     "execution_count": 45
    }
   ],
   "source": [
    "# Creating Datetime values from timestamp components\n",
    "query = \"\"\"\n",
    "SELECT \n",
    "    MAKE_DATE(2018, 2, 22),\n",
    "    MAKE_TIME(18, 4, 30.3),\n",
    "    MAKE_TIMESTAMPTZ(2018, 2, 22, 18, 4, 30.3, 'Europe/Lisbon');\n",
    "\"\"\"\n",
    "\n",
    "execute_query(conn, query)"
   ]
  },
  {
   "source": [
    "For the next part of this chapter, a table titled, \"nyc_yellow_taxi_trips_2016_06_01\", was created to find patterns in datetime data. Please see the book documentation for reference."
   ],
   "cell_type": "markdown",
   "metadata": {}
  },
  {
   "cell_type": "code",
   "execution_count": null,
   "metadata": {},
   "outputs": [],
   "source": []
  }
 ]
}